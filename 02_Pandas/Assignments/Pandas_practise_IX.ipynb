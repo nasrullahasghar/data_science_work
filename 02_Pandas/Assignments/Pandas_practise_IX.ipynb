{
  "cells": [
    {
      "cell_type": "markdown",
      "metadata": {
        "id": "Wid8A25p1gtI"
      },
      "source": [
        "# Text Wrangling and Regex\n",
        "\n",
        "Working with text: applying string methods and regular expressions"
      ]
    },
    {
      "cell_type": "code",
      "execution_count": 2,
      "metadata": {
        "ExecuteTime": {
          "end_time": "2018-02-02T15:15:15.363920Z",
          "start_time": "2018-02-02T15:15:14.337886Z"
        },
        "id": "dXZ5X0Yl1gtM"
      },
      "outputs": [],
      "source": [
        "import matplotlib.pyplot as plt\n",
        "import numpy as np\n",
        "import pandas as pd\n",
        "import seaborn as sns\n",
        "import zipfile\n",
        "import pandas as pd"
      ]
    },
    {
      "cell_type": "markdown",
      "metadata": {
        "id": "fa10dkWs1gtO"
      },
      "source": [
        "## Demo 1: Canonicalizing County Names"
      ]
    },
    {
      "cell_type": "markdown",
      "metadata": {
        "id": "tG6DdsuwCT_2"
      },
      "source": [
        "Load both **county_and_state.csv** and **county_and_population.csv**"
      ]
    },
    {
      "cell_type": "code",
      "execution_count": 3,
      "metadata": {},
      "outputs": [],
      "source": [
        "df1 = pd.read_csv('./data/county_and_state.csv')\n",
        "df2 = pd.read_csv('./data/county_and_population.csv')"
      ]
    },
    {
      "cell_type": "code",
      "execution_count": 4,
      "metadata": {
        "colab": {
          "base_uri": "https://localhost:8080/",
          "height": 175
        },
        "id": "fj1lHsMP1gtO",
        "outputId": "8dc32aa3-7d03-481a-8ad3-7c173742c306"
      },
      "outputs": [
        {
          "data": {
            "text/html": [
              "<div>\n",
              "<style scoped>\n",
              "    .dataframe tbody tr th:only-of-type {\n",
              "        vertical-align: middle;\n",
              "    }\n",
              "\n",
              "    .dataframe tbody tr th {\n",
              "        vertical-align: top;\n",
              "    }\n",
              "\n",
              "    .dataframe thead th {\n",
              "        text-align: right;\n",
              "    }\n",
              "</style>\n",
              "<table border=\"1\" class=\"dataframe\">\n",
              "  <thead>\n",
              "    <tr style=\"text-align: right;\">\n",
              "      <th></th>\n",
              "      <th>County</th>\n",
              "      <th>State</th>\n",
              "    </tr>\n",
              "  </thead>\n",
              "  <tbody>\n",
              "    <tr>\n",
              "      <th>0</th>\n",
              "      <td>De Witt County</td>\n",
              "      <td>IL</td>\n",
              "    </tr>\n",
              "    <tr>\n",
              "      <th>1</th>\n",
              "      <td>Lac qui Parle County</td>\n",
              "      <td>MN</td>\n",
              "    </tr>\n",
              "    <tr>\n",
              "      <th>2</th>\n",
              "      <td>Lewis and Clark County</td>\n",
              "      <td>MT</td>\n",
              "    </tr>\n",
              "    <tr>\n",
              "      <th>3</th>\n",
              "      <td>St John the Baptist Parish</td>\n",
              "      <td>LS</td>\n",
              "    </tr>\n",
              "  </tbody>\n",
              "</table>\n",
              "</div>"
            ],
            "text/plain": [
              "                       County State\n",
              "0              De Witt County    IL\n",
              "1        Lac qui Parle County    MN\n",
              "2      Lewis and Clark County    MT\n",
              "3  St John the Baptist Parish    LS"
            ]
          },
          "execution_count": 4,
          "metadata": {},
          "output_type": "execute_result"
        }
      ],
      "source": [
        "# display both frames\n",
        "#code Here\n",
        "\n",
        "df1"
      ]
    },
    {
      "cell_type": "code",
      "execution_count": 5,
      "metadata": {
        "colab": {
          "base_uri": "https://localhost:8080/",
          "height": 175
        },
        "id": "x_L-Rn71E24g",
        "outputId": "55b5aa16-9d10-40b1-813b-dbd9bf2f5577"
      },
      "outputs": [
        {
          "data": {
            "text/html": [
              "<div>\n",
              "<style scoped>\n",
              "    .dataframe tbody tr th:only-of-type {\n",
              "        vertical-align: middle;\n",
              "    }\n",
              "\n",
              "    .dataframe tbody tr th {\n",
              "        vertical-align: top;\n",
              "    }\n",
              "\n",
              "    .dataframe thead th {\n",
              "        text-align: right;\n",
              "    }\n",
              "</style>\n",
              "<table border=\"1\" class=\"dataframe\">\n",
              "  <thead>\n",
              "    <tr style=\"text-align: right;\">\n",
              "      <th></th>\n",
              "      <th>County</th>\n",
              "      <th>Population</th>\n",
              "    </tr>\n",
              "  </thead>\n",
              "  <tbody>\n",
              "    <tr>\n",
              "      <th>0</th>\n",
              "      <td>DeWitt</td>\n",
              "      <td>16798</td>\n",
              "    </tr>\n",
              "    <tr>\n",
              "      <th>1</th>\n",
              "      <td>Lac Qui Parle</td>\n",
              "      <td>8067</td>\n",
              "    </tr>\n",
              "    <tr>\n",
              "      <th>2</th>\n",
              "      <td>Lewis &amp; Clark</td>\n",
              "      <td>55716</td>\n",
              "    </tr>\n",
              "    <tr>\n",
              "      <th>3</th>\n",
              "      <td>St. John the Baptist</td>\n",
              "      <td>43044</td>\n",
              "    </tr>\n",
              "  </tbody>\n",
              "</table>\n",
              "</div>"
            ],
            "text/plain": [
              "                 County  Population\n",
              "0                DeWitt       16798\n",
              "1         Lac Qui Parle        8067\n",
              "2         Lewis & Clark       55716\n",
              "3  St. John the Baptist       43044"
            ]
          },
          "execution_count": 5,
          "metadata": {},
          "output_type": "execute_result"
        }
      ],
      "source": [
        "df2"
      ]
    },
    {
      "cell_type": "markdown",
      "metadata": {
        "id": "tbQUqp5s1gtP"
      },
      "source": [
        "Both of these DataFrames share a \"County\" column. Unfortunately, formatting differences mean that we can't directly merge the two DataFrames using the \"County\"s."
      ]
    },
    {
      "cell_type": "code",
      "execution_count": 6,
      "metadata": {
        "id": "CNITf5LB1gtQ"
      },
      "outputs": [
        {
          "data": {
            "text/html": [
              "<div>\n",
              "<style scoped>\n",
              "    .dataframe tbody tr th:only-of-type {\n",
              "        vertical-align: middle;\n",
              "    }\n",
              "\n",
              "    .dataframe tbody tr th {\n",
              "        vertical-align: top;\n",
              "    }\n",
              "\n",
              "    .dataframe thead th {\n",
              "        text-align: right;\n",
              "    }\n",
              "</style>\n",
              "<table border=\"1\" class=\"dataframe\">\n",
              "  <thead>\n",
              "    <tr style=\"text-align: right;\">\n",
              "      <th></th>\n",
              "      <th>County</th>\n",
              "      <th>State</th>\n",
              "      <th>Population</th>\n",
              "    </tr>\n",
              "  </thead>\n",
              "  <tbody>\n",
              "  </tbody>\n",
              "</table>\n",
              "</div>"
            ],
            "text/plain": [
              "Empty DataFrame\n",
              "Columns: [County, State, Population]\n",
              "Index: []"
            ]
          },
          "execution_count": 6,
          "metadata": {},
          "output_type": "execute_result"
        }
      ],
      "source": [
        "#merge both frames usding pd.merge\n",
        "#The output would only show the header. We will resolve it later on.\n",
        "\n",
        "pd.merge(df1,df2,on = 'County')\n",
        "\n",
        "#  This is because the values in the county string are not in the same format"
      ]
    },
    {
      "cell_type": "markdown",
      "metadata": {
        "id": "8i5za0cy1gtQ"
      },
      "source": [
        "To address this, we can **canonicalize** the \"County\" string data to apply a common formatting."
      ]
    },
    {
      "cell_type": "code",
      "execution_count": 7,
      "metadata": {
        "id": "q8iN6UIc1gtR"
      },
      "outputs": [
        {
          "data": {
            "text/plain": [
              "<function __main__.canonicalize_county(county_series)>"
            ]
          },
          "execution_count": 7,
          "metadata": {},
          "output_type": "execute_result"
        }
      ],
      "source": [
        "def canonicalize_county(county_series):\n",
        "    county = county_series.str.lower()\n",
        "    county = county.str.replace(\" \", \"\")\n",
        "    county = county.str.replace(\"&\", \"\")\n",
        "    county = county.str.replace(\".\", \"\")\n",
        "    county = county.str.replace(\"county\", \"\")\n",
        "    county = county.str.replace(\"parish\", \"\")\n",
        "    return county\n",
        "canonicalize_county\n",
        "                          \n"
      ]
    },
    {
      "cell_type": "markdown",
      "metadata": {
        "id": "qObObz6_DbOJ"
      },
      "source": [
        "Apply canonicalize_county on 'County' columns in both frames."
      ]
    },
    {
      "cell_type": "code",
      "execution_count": 8,
      "metadata": {},
      "outputs": [
        {
          "data": {
            "text/html": [
              "<div>\n",
              "<style scoped>\n",
              "    .dataframe tbody tr th:only-of-type {\n",
              "        vertical-align: middle;\n",
              "    }\n",
              "\n",
              "    .dataframe tbody tr th {\n",
              "        vertical-align: top;\n",
              "    }\n",
              "\n",
              "    .dataframe thead th {\n",
              "        text-align: right;\n",
              "    }\n",
              "</style>\n",
              "<table border=\"1\" class=\"dataframe\">\n",
              "  <thead>\n",
              "    <tr style=\"text-align: right;\">\n",
              "      <th></th>\n",
              "      <th>County</th>\n",
              "      <th>Population</th>\n",
              "    </tr>\n",
              "  </thead>\n",
              "  <tbody>\n",
              "    <tr>\n",
              "      <th>0</th>\n",
              "      <td>DeWitt</td>\n",
              "      <td>16798</td>\n",
              "    </tr>\n",
              "    <tr>\n",
              "      <th>1</th>\n",
              "      <td>Lac Qui Parle</td>\n",
              "      <td>8067</td>\n",
              "    </tr>\n",
              "    <tr>\n",
              "      <th>2</th>\n",
              "      <td>Lewis &amp; Clark</td>\n",
              "      <td>55716</td>\n",
              "    </tr>\n",
              "    <tr>\n",
              "      <th>3</th>\n",
              "      <td>St. John the Baptist</td>\n",
              "      <td>43044</td>\n",
              "    </tr>\n",
              "  </tbody>\n",
              "</table>\n",
              "</div>"
            ],
            "text/plain": [
              "                 County  Population\n",
              "0                DeWitt       16798\n",
              "1         Lac Qui Parle        8067\n",
              "2         Lewis & Clark       55716\n",
              "3  St. John the Baptist       43044"
            ]
          },
          "execution_count": 8,
          "metadata": {},
          "output_type": "execute_result"
        }
      ],
      "source": [
        "df2"
      ]
    },
    {
      "cell_type": "code",
      "execution_count": 9,
      "metadata": {
        "id": "uwkLYhdn1gtT"
      },
      "outputs": [],
      "source": [
        "# Code \n",
        "df1['County'] = canonicalize_county(df1['County'])\n",
        "df2['County'] = canonicalize_county(df2['County'])"
      ]
    },
    {
      "cell_type": "markdown",
      "metadata": {
        "id": "_AYrt2mh1gtT"
      },
      "source": [
        "Now, the merge works as expected!"
      ]
    },
    {
      "cell_type": "code",
      "execution_count": 10,
      "metadata": {
        "colab": {
          "base_uri": "https://localhost:8080/",
          "height": 175
        },
        "id": "T0XsMuwK1gtU",
        "outputId": "e1b7460d-8f3c-4b30-b85b-ae7875a73901"
      },
      "outputs": [
        {
          "data": {
            "text/html": [
              "<div>\n",
              "<style scoped>\n",
              "    .dataframe tbody tr th:only-of-type {\n",
              "        vertical-align: middle;\n",
              "    }\n",
              "\n",
              "    .dataframe tbody tr th {\n",
              "        vertical-align: top;\n",
              "    }\n",
              "\n",
              "    .dataframe thead th {\n",
              "        text-align: right;\n",
              "    }\n",
              "</style>\n",
              "<table border=\"1\" class=\"dataframe\">\n",
              "  <thead>\n",
              "    <tr style=\"text-align: right;\">\n",
              "      <th></th>\n",
              "      <th>County</th>\n",
              "      <th>State</th>\n",
              "      <th>Population</th>\n",
              "    </tr>\n",
              "  </thead>\n",
              "  <tbody>\n",
              "    <tr>\n",
              "      <th>0</th>\n",
              "      <td>dewitt</td>\n",
              "      <td>IL</td>\n",
              "      <td>16798</td>\n",
              "    </tr>\n",
              "    <tr>\n",
              "      <th>1</th>\n",
              "      <td>lacquiparle</td>\n",
              "      <td>MN</td>\n",
              "      <td>8067</td>\n",
              "    </tr>\n",
              "    <tr>\n",
              "      <th>2</th>\n",
              "      <td>stjohnthebaptist</td>\n",
              "      <td>LS</td>\n",
              "      <td>43044</td>\n",
              "    </tr>\n",
              "  </tbody>\n",
              "</table>\n",
              "</div>"
            ],
            "text/plain": [
              "             County State  Population\n",
              "0            dewitt    IL       16798\n",
              "1       lacquiparle    MN        8067\n",
              "2  stjohnthebaptist    LS       43044"
            ]
          },
          "execution_count": 10,
          "metadata": {},
          "output_type": "execute_result"
        }
      ],
      "source": [
        "# code Here\n",
        "merge_df = pd.merge(df1,df2,on='County')\n",
        "merge_df"
      ]
    },
    {
      "cell_type": "markdown",
      "metadata": {
        "id": "pbhoiuSU1gtU"
      },
      "source": [
        "## Demo 2: Extracting Log Data"
      ]
    },
    {
      "cell_type": "markdown",
      "metadata": {
        "id": "cVsLg_znDyfi"
      },
      "source": [
        "Load log.txt"
      ]
    },
    {
      "cell_type": "code",
      "execution_count": 11,
      "metadata": {
        "colab": {
          "base_uri": "https://localhost:8080/"
        },
        "id": "OXZiq-xr1gtV",
        "outputId": "e04b186c-bf33-4f62-a81b-97b289f3c716"
      },
      "outputs": [
        {
          "data": {
            "text/plain": [
              "['169.237.46.168 - - [26/Jan/2014:10:47:58 -0800] \"GET /stat141/Winter04/ HTTP/1.1\" 200 2585 \"http://anson.ucdavis.edu/courses/\"\\n',\n",
              " '193.205.203.3 - - [2/Feb/2005:17:23:6 -0800] \"GET /stat141/Notes/dim.html HTTP/1.0\" 404 302 \"http://eeyore.ucdavis.edu/stat141/Notes/session.html\"\\n',\n",
              " '169.237.46.240 - \"\" [3/Feb/2006:10:18:37 -0800] \"GET /stat141/homework/Solutions/hw1Sol.pdf HTTP/1.1\"\\n']"
            ]
          },
          "execution_count": 11,
          "metadata": {},
          "output_type": "execute_result"
        }
      ],
      "source": [
        "#code Here\n",
        "        # Process each line as needed\n",
        "#Hint: the file will be read almost the same way as we read the json file.\n",
        "#Use the file.readlines function to read the lines in the txt file\n",
        "\n",
        "with open('./data/log.txt','r') as files:\n",
        "        log_file = files.readlines()\n",
        "log_file\n",
        "        "
      ]
    },
    {
      "cell_type": "markdown",
      "metadata": {
        "id": "fHAf4WxQ1gtV"
      },
      "source": [
        "Suppose we want to extract the day, month, year, hour, minutes, seconds, and timezone. Looking at the data, we see that these items are not in a fixed position relative to the beginning of the string. That is, slicing by some fixed offset isn't going to work."
      ]
    },
    {
      "cell_type": "markdown",
      "metadata": {
        "id": "ozFcMAdw1gtW"
      },
      "source": [
        "Instead, we'll need to use some more sophisticated thinking. Let's focus on only the first line of the file."
      ]
    },
    {
      "cell_type": "code",
      "execution_count": 12,
      "metadata": {
        "colab": {
          "base_uri": "https://localhost:8080/",
          "height": 52
        },
        "id": "atDXatC_1gtW",
        "outputId": "c927ecc3-038b-4d16-8074-35802b6f4896"
      },
      "outputs": [
        {
          "data": {
            "text/plain": [
              "'169.237.46.168 - - [26/Jan/2014:10:47:58 -0800] \"GET /stat141/Winter04/ HTTP/1.1\" 200 2585 \"http://anson.ucdavis.edu/courses/\"\\n'"
            ]
          },
          "execution_count": 12,
          "metadata": {},
          "output_type": "execute_result"
        }
      ],
      "source": [
        "# code here\n",
        "first_line = log_file[0]\n",
        "first_line"
      ]
    },
    {
      "cell_type": "markdown",
      "metadata": {
        "id": "in8F8eohEYf6"
      },
      "source": [
        "Apply string functions of python to extract date from first entry in log file."
      ]
    },
    {
      "cell_type": "code",
      "execution_count": 13,
      "metadata": {
        "colab": {
          "base_uri": "https://localhost:8080/"
        },
        "id": "1FHZcciJ1gtW",
        "outputId": "d848b92e-3a6e-4968-db63-fc15562b657c",
        "tags": []
      },
      "outputs": [
        {
          "data": {
            "text/plain": [
              "('26', 'Jan', '2014', '10', '47', '58')"
            ]
          },
          "execution_count": 13,
          "metadata": {},
          "output_type": "execute_result"
        }
      ],
      "source": [
        "# you might take help from the slides\n",
        "partinent = first_line.split('[')[1].split(']')[0]\n",
        "day,month,rest = partinent.split('/')\n",
        "year,hour,minute,rest = rest.split(\":\")\n",
        "seconds,time_zone= rest.split(' ')\n",
        "                               \n",
        "day,month,year,hour,minute,seconds                                 \n",
        "\n"
      ]
    },
    {
      "cell_type": "markdown",
      "metadata": {
        "id": "zGmUwCfI1gtW"
      },
      "source": [
        "This worked, but felt fairly \"hacky\" – the code above isn't particularly elegant. A much more sophisticated but common approach is to extract the information we need using a *regular expression*."
      ]
    },
    {
      "cell_type": "markdown",
      "metadata": {
        "id": "9rIyB9P01gtX"
      },
      "source": [
        "\n",
        "# Regular Expressions"
      ]
    },
    {
      "cell_type": "markdown",
      "metadata": {
        "id": "5pJq1SPn1gtX",
        "tags": []
      },
      "source": [
        "\n",
        "## String Extraction with Regex\n",
        "\n",
        "Python `re.findall` returns a list of all extracted matches: extract numbers from given string."
      ]
    },
    {
      "cell_type": "code",
      "execution_count": 14,
      "metadata": {},
      "outputs": [
        {
          "data": {
            "text/plain": [
              "'169.237.46.168 - - [26/Jan/2014:10:47:58 -0800] \"GET /stat141/Winter04/ HTTP/1.1\" 200 2585 \"http://anson.ucdavis.edu/courses/\"\\n'"
            ]
          },
          "execution_count": 14,
          "metadata": {},
          "output_type": "execute_result"
        }
      ],
      "source": [
        "first_line"
      ]
    },
    {
      "cell_type": "code",
      "execution_count": 35,
      "metadata": {},
      "outputs": [
        {
          "data": {
            "text/plain": [
              "'26'"
            ]
          },
          "execution_count": 35,
          "metadata": {},
          "output_type": "execute_result"
        }
      ],
      "source": [
        "import re\n",
        "text = \"My social security number is 123-45-6789 bro, or actually maybe it’s 321-45-6789.\"\n",
        "pattern = r\"\\[(\\d+)\\/(\\w+)\\/(\\d+):(\\d+):(\\d+):(\\d+) (.+)\\]\"\n",
        "asd= re.findall(pattern,first_line)\n",
        "day,month,year,hour,min,sec,time = asd[0]\n",
        "day"
      ]
    },
    {
      "cell_type": "code",
      "execution_count": 16,
      "metadata": {
        "id": "VGUYXvzd1gtX"
      },
      "outputs": [
        {
          "data": {
            "text/plain": [
              "['123-45-6789', '321-45-6789']"
            ]
          },
          "execution_count": 16,
          "metadata": {},
          "output_type": "execute_result"
        }
      ],
      "source": [
        "import re\n",
        "\n",
        "text = \"My social security number is 123-45-6789 bro, or actually maybe it’s 321-45-6789.\"\n",
        "# code Here\n",
        "pattern = r\"[0-9]{3}-[0-9]{2}-[0-9]{4}\"\n",
        "number = re.findall(pattern,text)\n",
        "number\n",
        "#Expected output:  ['123-45-6789', '321-45-6789']"
      ]
    },
    {
      "cell_type": "markdown",
      "metadata": {
        "id": "pTRXy0cD1gtX"
      },
      "source": [
        "<br/>\n",
        "\n",
        "Now, let's see vectorized extraction in `pandas`:"
      ]
    },
    {
      "cell_type": "markdown",
      "metadata": {
        "id": "94nhVmeA1gtX"
      },
      "source": [
        " `.str.findall` returns a `Series` of lists of all matches in each record."
      ]
    },
    {
      "cell_type": "code",
      "execution_count": 17,
      "metadata": {
        "colab": {
          "base_uri": "https://localhost:8080/",
          "height": 175
        },
        "id": "vbW_2pPU1gtY",
        "outputId": "dd5e1f3d-1765-4370-d2a8-2fb1bf71d4a0"
      },
      "outputs": [
        {
          "data": {
            "text/plain": [
              "0                 [987-65-4321]\n",
              "1                            []\n",
              "2    [123-45-6789, 321-45-6789]\n",
              "3                 [999-99-9999]\n",
              "dtype: object"
            ]
          },
          "execution_count": 17,
          "metadata": {},
          "output_type": "execute_result"
        }
      ],
      "source": [
        "data = ['987-65-4321','forty','123-45-6789 bro or 321-45-6789','999-99-9999']\n",
        "\n",
        "df = pd.Series(data)\n",
        "pattern = r\"[0-9]{3}-[0-9]{2}-[0-9]{4}\"\n",
        "df.str.findall(pattern)\n",
        "\n",
        "# code here to convert the above data into a data"
      ]
    },
    {
      "cell_type": "markdown",
      "metadata": {
        "id": "67gCvGiqFggh"
      },
      "source": [
        "Find all entries containing numbers in dataframe."
      ]
    },
    {
      "cell_type": "code",
      "execution_count": 18,
      "metadata": {
        "id": "ezP71f2w1gtY"
      },
      "outputs": [
        {
          "data": {
            "text/plain": [
              "0                     [(987, 65, 4321)]\n",
              "1                                    []\n",
              "2    [(123, 45, 6789), (321, 45, 6789)]\n",
              "3                     [(999, 99, 9999)]\n",
              "dtype: object"
            ]
          },
          "execution_count": 18,
          "metadata": {},
          "output_type": "execute_result"
        }
      ],
      "source": [
        "# -> Series of lists\n",
        "df = pd.Series(data)\n",
        "pattern = r\"([0-9]{3})-([0-9]{2})-([0-9]{4})\"\n",
        "\n",
        "df.str.findall(pattern)\n",
        "\n",
        "\n",
        "\n",
        "#Expected Output:\n",
        "#  0                   [987, 65, 4321]\n",
        "#  1                                []\n",
        "#  2    [123, 45, 6789, 321, 45, 6789]\n",
        "#  3                   [999, 99, 9999]\n",
        "#  Name: SSN, dtype: object"
      ]
    },
    {
      "cell_type": "markdown",
      "metadata": {
        "id": "Pcrk9IOJ1gtY"
      },
      "source": [
        "## Extraction Using Regex Capture Groups"
      ]
    },
    {
      "cell_type": "markdown",
      "metadata": {
        "id": "25EEWvE01gtY"
      },
      "source": [
        "The Python function `re.findall`, in combination with parentheses returns specific substrings (i.e., **capture groups**) within each matched string, or **match**."
      ]
    },
    {
      "cell_type": "code",
      "execution_count": 37,
      "metadata": {
        "colab": {
          "base_uri": "https://localhost:8080/"
        },
        "id": "rPObO6d-1gtY",
        "outputId": "27d28627-b9d3-41b9-da45-0efea0ddb6e7"
      },
      "outputs": [],
      "source": [
        "text = \"\"\"I will meet you at 08:30:00 pm tomorrow\"\"\"\n",
        "# code here\n",
        "\n",
        "pattern = r'(\\d\\d):(\\d\\d):(\\d\\d)'\n",
        "matchstring = re.findall(pattern,text)"
      ]
    },
    {
      "cell_type": "code",
      "execution_count": 38,
      "metadata": {
        "id": "nUASAAT81gtZ"
      },
      "outputs": [
        {
          "data": {
            "text/plain": [
              "('08', '30', '00')"
            ]
          },
          "execution_count": 38,
          "metadata": {},
          "output_type": "execute_result"
        }
      ],
      "source": [
        "# the three capture groups in the first matched string\n",
        "hour, minute, second = matchstring[0]\n",
        "hour,minute,second"
      ]
    },
    {
      "cell_type": "markdown",
      "metadata": {
        "id": "IniHBU1r1gtZ"
      },
      "source": [
        "<br/>\n",
        "\n",
        "In `pandas`, we can use `.str.extract` to extract each capture group of **only the first match** of each record into separate columns."
      ]
    },
    {
      "cell_type": "code",
      "execution_count": 39,
      "metadata": {
        "colab": {
          "base_uri": "https://localhost:8080/",
          "height": 175
        },
        "id": "NlwASaaC1gtZ",
        "outputId": "ac6145ca-ca9d-4d1d-cecd-4813671268b9"
      },
      "outputs": [
        {
          "data": {
            "text/html": [
              "<div>\n",
              "<style scoped>\n",
              "    .dataframe tbody tr th:only-of-type {\n",
              "        vertical-align: middle;\n",
              "    }\n",
              "\n",
              "    .dataframe tbody tr th {\n",
              "        vertical-align: top;\n",
              "    }\n",
              "\n",
              "    .dataframe thead th {\n",
              "        text-align: right;\n",
              "    }\n",
              "</style>\n",
              "<table border=\"1\" class=\"dataframe\">\n",
              "  <thead>\n",
              "    <tr style=\"text-align: right;\">\n",
              "      <th></th>\n",
              "      <th>0</th>\n",
              "      <th>1</th>\n",
              "      <th>2</th>\n",
              "    </tr>\n",
              "  </thead>\n",
              "  <tbody>\n",
              "    <tr>\n",
              "      <th>0</th>\n",
              "      <td>987</td>\n",
              "      <td>65</td>\n",
              "      <td>4321</td>\n",
              "    </tr>\n",
              "    <tr>\n",
              "      <th>1</th>\n",
              "      <td>NaN</td>\n",
              "      <td>NaN</td>\n",
              "      <td>NaN</td>\n",
              "    </tr>\n",
              "    <tr>\n",
              "      <th>2</th>\n",
              "      <td>123</td>\n",
              "      <td>45</td>\n",
              "      <td>6789</td>\n",
              "    </tr>\n",
              "    <tr>\n",
              "      <th>3</th>\n",
              "      <td>999</td>\n",
              "      <td>99</td>\n",
              "      <td>9999</td>\n",
              "    </tr>\n",
              "  </tbody>\n",
              "</table>\n",
              "</div>"
            ],
            "text/plain": [
              "     0    1     2\n",
              "0  987   65  4321\n",
              "1  NaN  NaN   NaN\n",
              "2  123   45  6789\n",
              "3  999   99  9999"
            ]
          },
          "execution_count": 39,
          "metadata": {},
          "output_type": "execute_result"
        }
      ],
      "source": [
        "# back to SSNs\n",
        "data = ['987-65-4321','forty','123-45-6789 bro or 321-45-6789','999-99-9999']\n",
        "series = pd.Series(data)\n",
        "\n",
        "pattern = r\"([0-9]{3})-([0-9]{2})-([0-9]{4})\"\n",
        "\n",
        "series.str.extract(pattern)"
      ]
    },
    {
      "cell_type": "code",
      "execution_count": 22,
      "metadata": {
        "id": "Xks74iW91gtd",
        "outputId": "b4a26521-be48-44dd-a163-c0da5841535e"
      },
      "outputs": [
        {
          "data": {
            "text/html": [
              "<div>\n",
              "<style scoped>\n",
              "    .dataframe tbody tr th:only-of-type {\n",
              "        vertical-align: middle;\n",
              "    }\n",
              "\n",
              "    .dataframe tbody tr th {\n",
              "        vertical-align: top;\n",
              "    }\n",
              "\n",
              "    .dataframe thead th {\n",
              "        text-align: right;\n",
              "    }\n",
              "</style>\n",
              "<table border=\"1\" class=\"dataframe\">\n",
              "  <thead>\n",
              "    <tr style=\"text-align: right;\">\n",
              "      <th></th>\n",
              "      <th>0</th>\n",
              "      <th>1</th>\n",
              "      <th>2</th>\n",
              "    </tr>\n",
              "  </thead>\n",
              "  <tbody>\n",
              "    <tr>\n",
              "      <th>0</th>\n",
              "      <td>987</td>\n",
              "      <td>65</td>\n",
              "      <td>4321</td>\n",
              "    </tr>\n",
              "    <tr>\n",
              "      <th>1</th>\n",
              "      <td>NaN</td>\n",
              "      <td>NaN</td>\n",
              "      <td>NaN</td>\n",
              "    </tr>\n",
              "    <tr>\n",
              "      <th>2</th>\n",
              "      <td>123</td>\n",
              "      <td>45</td>\n",
              "      <td>6789</td>\n",
              "    </tr>\n",
              "    <tr>\n",
              "      <th>3</th>\n",
              "      <td>999</td>\n",
              "      <td>99</td>\n",
              "      <td>9999</td>\n",
              "    </tr>\n",
              "  </tbody>\n",
              "</table>\n",
              "</div>"
            ],
            "text/plain": [
              "     0    1     2\n",
              "0  987   65  4321\n",
              "1  NaN  NaN   NaN\n",
              "2  123   45  6789\n",
              "3  999   99  9999"
            ]
          },
          "execution_count": 22,
          "metadata": {},
          "output_type": "execute_result"
        }
      ],
      "source": [
        "# Will extract the first match of all groups\n",
        "data = ['987-65-4321','forty','123-45-6789 bro or 321-45-6789','999-99-9999']\n",
        "series = pd.Series(data)\n",
        "\n",
        "pattern = r\"([0-9]{3})-([0-9]{2})-([0-9]{4})\"\n",
        "\n",
        "series.str.extract(pattern)"
      ]
    },
    {
      "cell_type": "markdown",
      "metadata": {
        "id": "CPHgEc9u1gte"
      },
      "source": [
        "Alternatively, `.str.extractall` extracts **all matches** of each record into separate columns. Rows are then MultiIndexed by original record index and match index."
      ]
    },
    {
      "cell_type": "code",
      "execution_count": 23,
      "metadata": {
        "id": "_kO-Wx311gte",
        "outputId": "698af099-1e70-4c8f-bd57-5b85348ea5be"
      },
      "outputs": [
        {
          "data": {
            "text/html": [
              "<div>\n",
              "<style scoped>\n",
              "    .dataframe tbody tr th:only-of-type {\n",
              "        vertical-align: middle;\n",
              "    }\n",
              "\n",
              "    .dataframe tbody tr th {\n",
              "        vertical-align: top;\n",
              "    }\n",
              "\n",
              "    .dataframe thead th {\n",
              "        text-align: right;\n",
              "    }\n",
              "</style>\n",
              "<table border=\"1\" class=\"dataframe\">\n",
              "  <thead>\n",
              "    <tr style=\"text-align: right;\">\n",
              "      <th></th>\n",
              "      <th></th>\n",
              "      <th>0</th>\n",
              "      <th>1</th>\n",
              "      <th>2</th>\n",
              "    </tr>\n",
              "    <tr>\n",
              "      <th></th>\n",
              "      <th>match</th>\n",
              "      <th></th>\n",
              "      <th></th>\n",
              "      <th></th>\n",
              "    </tr>\n",
              "  </thead>\n",
              "  <tbody>\n",
              "    <tr>\n",
              "      <th>0</th>\n",
              "      <th>0</th>\n",
              "      <td>987</td>\n",
              "      <td>65</td>\n",
              "      <td>4321</td>\n",
              "    </tr>\n",
              "    <tr>\n",
              "      <th rowspan=\"2\" valign=\"top\">2</th>\n",
              "      <th>0</th>\n",
              "      <td>123</td>\n",
              "      <td>45</td>\n",
              "      <td>6789</td>\n",
              "    </tr>\n",
              "    <tr>\n",
              "      <th>1</th>\n",
              "      <td>321</td>\n",
              "      <td>45</td>\n",
              "      <td>6789</td>\n",
              "    </tr>\n",
              "    <tr>\n",
              "      <th>3</th>\n",
              "      <th>0</th>\n",
              "      <td>999</td>\n",
              "      <td>99</td>\n",
              "      <td>9999</td>\n",
              "    </tr>\n",
              "  </tbody>\n",
              "</table>\n",
              "</div>"
            ],
            "text/plain": [
              "           0   1     2\n",
              "  match               \n",
              "0 0      987  65  4321\n",
              "2 0      123  45  6789\n",
              "  1      321  45  6789\n",
              "3 0      999  99  9999"
            ]
          },
          "execution_count": 23,
          "metadata": {},
          "output_type": "execute_result"
        }
      ],
      "source": [
        "# -> DataFrame, one row per match\n",
        "\n",
        "data = ['987-65-4321','forty','123-45-6789 bro or 321-45-6789','999-99-9999']\n",
        "\n",
        "df = pd.Series(data)\n",
        "pattern = r\"([0-9]{3})-([0-9]{2})-([0-9]{4})\"\n",
        "df.str.extractall(pattern)\n",
        "\n"
      ]
    },
    {
      "cell_type": "markdown",
      "metadata": {
        "id": "-yUtK7Rf1gte"
      },
      "source": [
        "## Canonicalization with Regex"
      ]
    },
    {
      "cell_type": "markdown",
      "metadata": {
        "id": "LCByUzXu1gte"
      },
      "source": [
        "In regular Python, canonicalize with `re.sub` (standing for \"substitute\"):"
      ]
    },
    {
      "cell_type": "code",
      "execution_count": 24,
      "metadata": {
        "id": "Vwf4YcPi1gte"
      },
      "outputs": [
        {
          "data": {
            "text/plain": [
              "'Moo'"
            ]
          },
          "execution_count": 24,
          "metadata": {},
          "output_type": "execute_result"
        }
      ],
      "source": [
        "text = '<div><td valign=\"top\">Moo</td></div>'\n",
        "\n",
        "pattern = r\"<[^>]+>\"\n",
        "re.sub(pattern,\"\",text)\n",
        "\n",
        "#code here to extract the word Moo"
      ]
    },
    {
      "cell_type": "markdown",
      "metadata": {
        "id": "WNGjK8uf1gtk"
      },
      "source": [
        "<br/>\n",
        "\n",
        "In `pandas`, canonicalize with `Series.str.replace`."
      ]
    },
    {
      "cell_type": "code",
      "execution_count": 25,
      "metadata": {
        "id": "wR3usAOX1gtk",
        "outputId": "54f5d110-c7cb-41dd-e28e-af83abc70f28"
      },
      "outputs": [
        {
          "data": {
            "text/html": [
              "<div>\n",
              "<style scoped>\n",
              "    .dataframe tbody tr th:only-of-type {\n",
              "        vertical-align: middle;\n",
              "    }\n",
              "\n",
              "    .dataframe tbody tr th {\n",
              "        vertical-align: top;\n",
              "    }\n",
              "\n",
              "    .dataframe thead th {\n",
              "        text-align: right;\n",
              "    }\n",
              "</style>\n",
              "<table border=\"1\" class=\"dataframe\">\n",
              "  <thead>\n",
              "    <tr style=\"text-align: right;\">\n",
              "      <th></th>\n",
              "      <th>HTML</th>\n",
              "    </tr>\n",
              "  </thead>\n",
              "  <tbody>\n",
              "    <tr>\n",
              "      <th>0</th>\n",
              "      <td>&lt;div&gt;&lt;td valign=\"top\"&gt;Moo&lt;/td&gt;&lt;/div&gt;</td>\n",
              "    </tr>\n",
              "    <tr>\n",
              "      <th>1</th>\n",
              "      <td>&lt;a href=\"http://ds100.org\"&gt;Link&lt;/a&gt;</td>\n",
              "    </tr>\n",
              "    <tr>\n",
              "      <th>2</th>\n",
              "      <td>&lt;b&gt;Bold text&lt;/b&gt;</td>\n",
              "    </tr>\n",
              "  </tbody>\n",
              "</table>\n",
              "</div>"
            ],
            "text/plain": [
              "                                   HTML\n",
              "0  <div><td valign=\"top\">Moo</td></div>\n",
              "1   <a href=\"http://ds100.org\">Link</a>\n",
              "2                      <b>Bold text</b>"
            ]
          },
          "execution_count": 25,
          "metadata": {},
          "output_type": "execute_result"
        }
      ],
      "source": [
        "# example dataframe of strings, convert in dataframe\n",
        "df_html = ['<div><td valign=\"top\">Moo</td></div>',\n",
        "                   '<a href=\"http://ds100.org\">Link</a>',\n",
        "                   '<b>Bold text</b>']\n",
        "df_html = pd.DataFrame(df_html,columns = ['HTML'])\n",
        "df_html"
      ]
    },
    {
      "cell_type": "code",
      "execution_count": 26,
      "metadata": {
        "id": "MnnCj20a1gtk"
      },
      "outputs": [
        {
          "data": {
            "text/plain": [
              "0          Moo\n",
              "1         Link\n",
              "2    Bold text\n",
              "Name: HTML, dtype: object"
            ]
          },
          "execution_count": 26,
          "metadata": {},
          "output_type": "execute_result"
        }
      ],
      "source": [
        "# Series -> Series\n",
        "#Extract only words from the above given df_html like Moo, Link and Bold text\n",
        "\n",
        "pattern = r\"<[^>]+>\"\n",
        "df_html['HTML'].str.replace(pattern,\"\",regex = True)"
      ]
    },
    {
      "cell_type": "markdown",
      "metadata": {
        "id": "Efslx5Ro1gtl"
      },
      "source": [
        "\n",
        "# Revisiting Text Log Processing using Regex"
      ]
    },
    {
      "cell_type": "markdown",
      "metadata": {
        "id": "XW3IgpPe1gtl"
      },
      "source": [
        "### Python `re` version"
      ]
    },
    {
      "cell_type": "code",
      "execution_count": 27,
      "metadata": {
        "id": "8TzW0cJ71gtl",
        "outputId": "6a50141b-bb9c-410b-9065-635c4f61b908"
      },
      "outputs": [
        {
          "data": {
            "text/plain": [
              "'169.237.46.168 - - [26/Jan/2014:10:47:58 -0800] \"GET /stat141/Winter04/ HTTP/1.1\" 200 2585 \"http://anson.ucdavis.edu/courses/\"\\n'"
            ]
          },
          "metadata": {},
          "output_type": "display_data"
        }
      ],
      "source": [
        "line = log_file[0]\n",
        "\n",
        "# code here\n",
        "display(line)"
      ]
    },
    {
      "cell_type": "markdown",
      "metadata": {
        "id": "djnytSWa1gtl"
      },
      "source": [
        "### `pandas` version"
      ]
    },
    {
      "cell_type": "code",
      "execution_count": 28,
      "metadata": {},
      "outputs": [
        {
          "data": {
            "text/html": [
              "<div>\n",
              "<style scoped>\n",
              "    .dataframe tbody tr th:only-of-type {\n",
              "        vertical-align: middle;\n",
              "    }\n",
              "\n",
              "    .dataframe tbody tr th {\n",
              "        vertical-align: top;\n",
              "    }\n",
              "\n",
              "    .dataframe thead th {\n",
              "        text-align: right;\n",
              "    }\n",
              "</style>\n",
              "<table border=\"1\" class=\"dataframe\">\n",
              "  <thead>\n",
              "    <tr style=\"text-align: right;\">\n",
              "      <th></th>\n",
              "      <th>Log</th>\n",
              "    </tr>\n",
              "  </thead>\n",
              "  <tbody>\n",
              "    <tr>\n",
              "      <th>0</th>\n",
              "      <td>169.237.46.168 - - [26/Jan/2014:10:47:58 -0800...</td>\n",
              "    </tr>\n",
              "    <tr>\n",
              "      <th>1</th>\n",
              "      <td>193.205.203.3 - - [2/Feb/2005:17:23:6 -0800] \"...</td>\n",
              "    </tr>\n",
              "    <tr>\n",
              "      <th>2</th>\n",
              "      <td>169.237.46.240 - \"\" [3/Feb/2006:10:18:37 -0800...</td>\n",
              "    </tr>\n",
              "  </tbody>\n",
              "</table>\n",
              "</div>"
            ],
            "text/plain": [
              "                                                 Log\n",
              "0  169.237.46.168 - - [26/Jan/2014:10:47:58 -0800...\n",
              "1  193.205.203.3 - - [2/Feb/2005:17:23:6 -0800] \"...\n",
              "2  169.237.46.240 - \"\" [3/Feb/2006:10:18:37 -0800..."
            ]
          },
          "execution_count": 28,
          "metadata": {},
          "output_type": "execute_result"
        }
      ],
      "source": [
        "df = pd.DataFrame(log_file,columns = ['Log'])\n",
        "df"
      ]
    },
    {
      "cell_type": "markdown",
      "metadata": {
        "id": "-bi3DGGr1gtm"
      },
      "source": [
        "Option 1: `Series.str.findall`"
      ]
    },
    {
      "cell_type": "code",
      "execution_count": 29,
      "metadata": {},
      "outputs": [
        {
          "data": {
            "text/plain": [
              "0    [(26, Jan, 2014, 10, 47, 58, -0800)]\n",
              "1      [(2, Feb, 2005, 17, 23, 6, -0800)]\n",
              "2     [(3, Feb, 2006, 10, 18, 37, -0800)]\n",
              "Name: Log, dtype: object"
            ]
          },
          "execution_count": 29,
          "metadata": {},
          "output_type": "execute_result"
        }
      ],
      "source": [
        "pattern = r\"\\[(\\d+)\\/(\\w+)\\/(\\d+):(\\d+):(\\d+):(\\d+) (.+)\\]\"\n",
        "df['Log'].str.findall(pattern)"
      ]
    },
    {
      "cell_type": "markdown",
      "metadata": {
        "id": "tUGEx15V1gtm"
      },
      "source": [
        "<br/>\n",
        "\n",
        "Option 2: `Series.str.extractall`"
      ]
    },
    {
      "cell_type": "code",
      "execution_count": 30,
      "metadata": {
        "id": "t0bgeQbY1gtm",
        "outputId": "1c22ac8c-03fd-4676-a88d-9e03038fd42a"
      },
      "outputs": [
        {
          "data": {
            "text/html": [
              "<div>\n",
              "<style scoped>\n",
              "    .dataframe tbody tr th:only-of-type {\n",
              "        vertical-align: middle;\n",
              "    }\n",
              "\n",
              "    .dataframe tbody tr th {\n",
              "        vertical-align: top;\n",
              "    }\n",
              "\n",
              "    .dataframe thead th {\n",
              "        text-align: right;\n",
              "    }\n",
              "</style>\n",
              "<table border=\"1\" class=\"dataframe\">\n",
              "  <thead>\n",
              "    <tr style=\"text-align: right;\">\n",
              "      <th></th>\n",
              "      <th></th>\n",
              "      <th>0</th>\n",
              "      <th>1</th>\n",
              "      <th>2</th>\n",
              "      <th>3</th>\n",
              "      <th>4</th>\n",
              "      <th>5</th>\n",
              "      <th>6</th>\n",
              "    </tr>\n",
              "    <tr>\n",
              "      <th></th>\n",
              "      <th>match</th>\n",
              "      <th></th>\n",
              "      <th></th>\n",
              "      <th></th>\n",
              "      <th></th>\n",
              "      <th></th>\n",
              "      <th></th>\n",
              "      <th></th>\n",
              "    </tr>\n",
              "  </thead>\n",
              "  <tbody>\n",
              "    <tr>\n",
              "      <th>0</th>\n",
              "      <th>0</th>\n",
              "      <td>26</td>\n",
              "      <td>Jan</td>\n",
              "      <td>2014</td>\n",
              "      <td>10</td>\n",
              "      <td>47</td>\n",
              "      <td>58</td>\n",
              "      <td>-0800</td>\n",
              "    </tr>\n",
              "    <tr>\n",
              "      <th>1</th>\n",
              "      <th>0</th>\n",
              "      <td>2</td>\n",
              "      <td>Feb</td>\n",
              "      <td>2005</td>\n",
              "      <td>17</td>\n",
              "      <td>23</td>\n",
              "      <td>6</td>\n",
              "      <td>-0800</td>\n",
              "    </tr>\n",
              "    <tr>\n",
              "      <th>2</th>\n",
              "      <th>0</th>\n",
              "      <td>3</td>\n",
              "      <td>Feb</td>\n",
              "      <td>2006</td>\n",
              "      <td>10</td>\n",
              "      <td>18</td>\n",
              "      <td>37</td>\n",
              "      <td>-0800</td>\n",
              "    </tr>\n",
              "  </tbody>\n",
              "</table>\n",
              "</div>"
            ],
            "text/plain": [
              "          0    1     2   3   4   5      6\n",
              "  match                                  \n",
              "0 0      26  Jan  2014  10  47  58  -0800\n",
              "1 0       2  Feb  2005  17  23   6  -0800\n",
              "2 0       3  Feb  2006  10  18  37  -0800"
            ]
          },
          "execution_count": 30,
          "metadata": {},
          "output_type": "execute_result"
        }
      ],
      "source": [
        "# code here\n",
        "pattern = r\"\\[(\\d+)\\/(\\w+)\\/(\\d+):(\\d+):(\\d+):(\\d+) (.+)\\]\"\n",
        "\n",
        "df = df['Log'].str.extractall(pattern)\n",
        "df"
      ]
    },
    {
      "cell_type": "code",
      "execution_count": 31,
      "metadata": {},
      "outputs": [
        {
          "data": {
            "text/html": [
              "<div>\n",
              "<style scoped>\n",
              "    .dataframe tbody tr th:only-of-type {\n",
              "        vertical-align: middle;\n",
              "    }\n",
              "\n",
              "    .dataframe tbody tr th {\n",
              "        vertical-align: top;\n",
              "    }\n",
              "\n",
              "    .dataframe thead th {\n",
              "        text-align: right;\n",
              "    }\n",
              "</style>\n",
              "<table border=\"1\" class=\"dataframe\">\n",
              "  <thead>\n",
              "    <tr style=\"text-align: right;\">\n",
              "      <th></th>\n",
              "      <th></th>\n",
              "      <th>day</th>\n",
              "      <th>month</th>\n",
              "      <th>year</th>\n",
              "      <th>hour</th>\n",
              "      <th>minute</th>\n",
              "      <th>seconds</th>\n",
              "      <th>timezone</th>\n",
              "      <th>index</th>\n",
              "    </tr>\n",
              "    <tr>\n",
              "      <th></th>\n",
              "      <th>match</th>\n",
              "      <th></th>\n",
              "      <th></th>\n",
              "      <th></th>\n",
              "      <th></th>\n",
              "      <th></th>\n",
              "      <th></th>\n",
              "      <th></th>\n",
              "      <th></th>\n",
              "    </tr>\n",
              "  </thead>\n",
              "  <tbody>\n",
              "    <tr>\n",
              "      <th>0</th>\n",
              "      <th>0</th>\n",
              "      <td>26</td>\n",
              "      <td>Jan</td>\n",
              "      <td>2014</td>\n",
              "      <td>10</td>\n",
              "      <td>47</td>\n",
              "      <td>58</td>\n",
              "      <td>-0800</td>\n",
              "      <td>0</td>\n",
              "    </tr>\n",
              "    <tr>\n",
              "      <th>1</th>\n",
              "      <th>0</th>\n",
              "      <td>2</td>\n",
              "      <td>Feb</td>\n",
              "      <td>2005</td>\n",
              "      <td>17</td>\n",
              "      <td>23</td>\n",
              "      <td>6</td>\n",
              "      <td>-0800</td>\n",
              "      <td>1</td>\n",
              "    </tr>\n",
              "    <tr>\n",
              "      <th>2</th>\n",
              "      <th>0</th>\n",
              "      <td>3</td>\n",
              "      <td>Feb</td>\n",
              "      <td>2006</td>\n",
              "      <td>10</td>\n",
              "      <td>18</td>\n",
              "      <td>37</td>\n",
              "      <td>-0800</td>\n",
              "      <td>2</td>\n",
              "    </tr>\n",
              "  </tbody>\n",
              "</table>\n",
              "</div>"
            ],
            "text/plain": [
              "        day month  year hour minute seconds timezone  index\n",
              "  match                                                    \n",
              "0 0      26   Jan  2014   10     47      58    -0800      0\n",
              "1 0       2   Feb  2005   17     23       6    -0800      1\n",
              "2 0       3   Feb  2006   10     18      37    -0800      2"
            ]
          },
          "execution_count": 31,
          "metadata": {},
          "output_type": "execute_result"
        }
      ],
      "source": [
        "df.columns = ['day','month','year','hour','minute','seconds','timezone']\n",
        "df['index'] = [0,1,2]\n",
        "\n",
        "df"
      ]
    },
    {
      "cell_type": "markdown",
      "metadata": {
        "id": "iSlAjOpS1gtm"
      },
      "source": [
        "Wrangling either of these two DataFrames into a nice format (like below) is left as an exercise for you!\n",
        "\n",
        "\n",
        "||Day|Month|Year|Hour|Minute|Second|Time Zone|\n",
        "|---|---|---|---|---|---|---|---|\n",
        "|0|26|Jan|2014|10|47|58|-0800|\n",
        "|1|2|Feb|2005|17|23|6|-0800|\n",
        "|2|3|Feb|2006|10|18|37|-0800|\n"
      ]
    },
    {
      "cell_type": "code",
      "execution_count": 32,
      "metadata": {
        "id": "JVbuDswe1gtn"
      },
      "outputs": [],
      "source": [
        "# your code here\n",
        "..."
      ]
    }
  ],
  "metadata": {
    "colab": {
      "provenance": []
    },
    "kernelspec": {
      "display_name": "python_eda",
      "language": "python",
      "name": "python3"
    },
    "language_info": {
      "codemirror_mode": {
        "name": "ipython",
        "version": 3
      },
      "file_extension": ".py",
      "mimetype": "text/x-python",
      "name": "python",
      "nbconvert_exporter": "python",
      "pygments_lexer": "ipython3",
      "version": "3.12.3"
    }
  },
  "nbformat": 4,
  "nbformat_minor": 0
}
