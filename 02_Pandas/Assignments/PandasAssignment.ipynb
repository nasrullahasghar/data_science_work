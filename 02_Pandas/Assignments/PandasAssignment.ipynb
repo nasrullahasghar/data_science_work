{
  "cells": [
    {
      "cell_type": "markdown",
      "metadata": {
        "id": "zbiZPBw05E7h"
      },
      "source": [
        "# Welcome to the ending of your second module at KS :)\n",
        "\n"
      ]
    },
    {
      "cell_type": "markdown",
      "metadata": {
        "id": "-LlzeNNU5PbN"
      },
      "source": [
        "The sharing of this workbook entails that you are moving on a good pace 🥰 Let's jump on to some advance stuff now, eh?\n",
        "\n",
        "R E M E M B E R:       **PANDAS** documentation is going to be your bestie for this assignment!"
      ]
    },
    {
      "cell_type": "markdown",
      "metadata": {
        "id": "ClyqgmWx5tqb"
      },
      "source": [
        "### **PART 1 - GET TO KNOW YOUR DATA!**"
      ]
    },
    {
      "cell_type": "markdown",
      "metadata": {
        "id": "lLBfgc-557Kc"
      },
      "source": [
        "This time we are going to pull data directly from the internet."
      ]
    },
    {
      "cell_type": "markdown",
      "metadata": {
        "id": "covc_E4f6Di7"
      },
      "source": [
        "Step 1: Import the neccessary libraries."
      ]
    },
    {
      "cell_type": "code",
      "execution_count": 387,
      "metadata": {
        "id": "rOB6JEky5EOd"
      },
      "outputs": [],
      "source": [
        "import pandas as pd\n",
        "import numpy as np"
      ]
    },
    {
      "cell_type": "code",
      "execution_count": 388,
      "metadata": {},
      "outputs": [
        {
          "name": "stdout",
          "output_type": "stream",
          "text": [
            "Using cached version that was downloaded (UTC): Sat Oct 26 16:44:32 2024\n",
            "order_id\tquantity\titem_name\tchoice_description\titem_price\n",
            "\n",
            "1\t1\tChips and Fresh Tomato Salsa\tNULL\t$2.39 \n",
            "\n",
            "1\t1\tIzze\t[Clementine]\t$3.39 \n",
            "\n",
            "1\t1\tNantucket Nectar\t[Apple]\t$3.39 \n",
            "\n",
            "1\t1\tChips and Tomatillo-Green Chili Salsa\tNULL\t$2.39 \n",
            "\n"
          ]
        }
      ],
      "source": [
        "import requests\n",
        "from pathlib import Path\n",
        "import time \n",
        "\n",
        "def fetch_and_cache(data_url, file, data_dir=\"data\", force=False):\n",
        "    \"\"\"\n",
        "    Download and cache a URL and return the file object.\n",
        "    \n",
        "    data_url: the web address to download\n",
        "    file: the file in which to save the results.\n",
        "    data_dir: (default=\"data\") the location to save the data\n",
        "    force: if true the file is always re-downloaded \n",
        "    \n",
        "    return: The pathlib.Path object representing the file.\n",
        "    \"\"\"\n",
        "    \n",
        "    # Set up the directory path\n",
        "    data_dir = Path(data_dir)\n",
        "    data_dir.mkdir(exist_ok=True)\n",
        "    file_path = data_dir / Path(file)\n",
        "    \n",
        "    # Download if force is True or if file doesn't exist\n",
        "    if force and file_path.exists():\n",
        "        file_path.unlink()\n",
        "    if force or not file_path.exists():\n",
        "        print('Downloading...', end=' ')\n",
        "        resp = requests.get(data_url)\n",
        "        with file_path.open('wb') as f:\n",
        "            f.write(resp.content)\n",
        "        print('Done!')\n",
        "        last_modified_time = time.ctime(file_path.stat().st_mtime)\n",
        "    else:\n",
        "        last_modified_time = time.ctime(file_path.stat().st_mtime)\n",
        "        print(\"Using cached version that was downloaded (UTC):\", last_modified_time)\n",
        "    \n",
        "    return file_path\n",
        "\n",
        "def head(filename, lines=5):\n",
        "    \"\"\"\n",
        "    Returns the first few lines of a file.\n",
        "    \n",
        "    filename: the name of the file to open\n",
        "    lines: the number of lines to include\n",
        "    \n",
        "    return: A list of the first few lines from the file.\n",
        "    \"\"\"\n",
        "    from itertools import islice\n",
        "    with open(filename, \"r\") as f:\n",
        "        return list(islice(f, lines))\n",
        "\n",
        "\n",
        "data_url = 'https://raw.githubusercontent.com/justmarkham/DAT8/master/data/chipotle.tsv'\n",
        "file_name = \"chipotle.tsv\"\n",
        "file_path = fetch_and_cache(data_url, file_name)\n",
        "\n",
        "# Preview the first few lines\n",
        "for line in head(file_path, lines=5):\n",
        "    print(line)\n"
      ]
    },
    {
      "cell_type": "markdown",
      "metadata": {
        "id": "OcrUCTnc6Jei"
      },
      "source": [
        "Step 2: Import the dataset from this [address](https://raw.githubusercontent.com/justmarkham/DAT8/master/data/chipotle.tsv) and save it in a variable named food."
      ]
    },
    {
      "cell_type": "code",
      "execution_count": 389,
      "metadata": {
        "id": "Bf4efILd6NVl"
      },
      "outputs": [],
      "source": [
        "#Hint: to get the date, check what sort of delimiter would you use?\n",
        "food=pd.read_csv('./data/chipotle.tsv',sep='\\t')"
      ]
    },
    {
      "cell_type": "markdown",
      "metadata": {
        "id": "XKpBs5ZR6v4M"
      },
      "source": [
        "Step 3: I want to see what the first ten rows of the dataset looks like. How?"
      ]
    },
    {
      "cell_type": "code",
      "execution_count": 390,
      "metadata": {
        "id": "uaNaM8aQ6sDf"
      },
      "outputs": [
        {
          "data": {
            "text/html": [
              "<div>\n",
              "<style scoped>\n",
              "    .dataframe tbody tr th:only-of-type {\n",
              "        vertical-align: middle;\n",
              "    }\n",
              "\n",
              "    .dataframe tbody tr th {\n",
              "        vertical-align: top;\n",
              "    }\n",
              "\n",
              "    .dataframe thead th {\n",
              "        text-align: right;\n",
              "    }\n",
              "</style>\n",
              "<table border=\"1\" class=\"dataframe\">\n",
              "  <thead>\n",
              "    <tr style=\"text-align: right;\">\n",
              "      <th></th>\n",
              "      <th>order_id</th>\n",
              "      <th>quantity</th>\n",
              "      <th>item_name</th>\n",
              "      <th>choice_description</th>\n",
              "      <th>item_price</th>\n",
              "    </tr>\n",
              "  </thead>\n",
              "  <tbody>\n",
              "    <tr>\n",
              "      <th>0</th>\n",
              "      <td>1</td>\n",
              "      <td>1</td>\n",
              "      <td>Chips and Fresh Tomato Salsa</td>\n",
              "      <td>NaN</td>\n",
              "      <td>$2.39</td>\n",
              "    </tr>\n",
              "    <tr>\n",
              "      <th>1</th>\n",
              "      <td>1</td>\n",
              "      <td>1</td>\n",
              "      <td>Izze</td>\n",
              "      <td>[Clementine]</td>\n",
              "      <td>$3.39</td>\n",
              "    </tr>\n",
              "    <tr>\n",
              "      <th>2</th>\n",
              "      <td>1</td>\n",
              "      <td>1</td>\n",
              "      <td>Nantucket Nectar</td>\n",
              "      <td>[Apple]</td>\n",
              "      <td>$3.39</td>\n",
              "    </tr>\n",
              "    <tr>\n",
              "      <th>3</th>\n",
              "      <td>1</td>\n",
              "      <td>1</td>\n",
              "      <td>Chips and Tomatillo-Green Chili Salsa</td>\n",
              "      <td>NaN</td>\n",
              "      <td>$2.39</td>\n",
              "    </tr>\n",
              "    <tr>\n",
              "      <th>4</th>\n",
              "      <td>2</td>\n",
              "      <td>2</td>\n",
              "      <td>Chicken Bowl</td>\n",
              "      <td>[Tomatillo-Red Chili Salsa (Hot), [Black Beans...</td>\n",
              "      <td>$16.98</td>\n",
              "    </tr>\n",
              "    <tr>\n",
              "      <th>5</th>\n",
              "      <td>3</td>\n",
              "      <td>1</td>\n",
              "      <td>Chicken Bowl</td>\n",
              "      <td>[Fresh Tomato Salsa (Mild), [Rice, Cheese, Sou...</td>\n",
              "      <td>$10.98</td>\n",
              "    </tr>\n",
              "    <tr>\n",
              "      <th>6</th>\n",
              "      <td>3</td>\n",
              "      <td>1</td>\n",
              "      <td>Side of Chips</td>\n",
              "      <td>NaN</td>\n",
              "      <td>$1.69</td>\n",
              "    </tr>\n",
              "    <tr>\n",
              "      <th>7</th>\n",
              "      <td>4</td>\n",
              "      <td>1</td>\n",
              "      <td>Steak Burrito</td>\n",
              "      <td>[Tomatillo Red Chili Salsa, [Fajita Vegetables...</td>\n",
              "      <td>$11.75</td>\n",
              "    </tr>\n",
              "    <tr>\n",
              "      <th>8</th>\n",
              "      <td>4</td>\n",
              "      <td>1</td>\n",
              "      <td>Steak Soft Tacos</td>\n",
              "      <td>[Tomatillo Green Chili Salsa, [Pinto Beans, Ch...</td>\n",
              "      <td>$9.25</td>\n",
              "    </tr>\n",
              "    <tr>\n",
              "      <th>9</th>\n",
              "      <td>5</td>\n",
              "      <td>1</td>\n",
              "      <td>Steak Burrito</td>\n",
              "      <td>[Fresh Tomato Salsa, [Rice, Black Beans, Pinto...</td>\n",
              "      <td>$9.25</td>\n",
              "    </tr>\n",
              "  </tbody>\n",
              "</table>\n",
              "</div>"
            ],
            "text/plain": [
              "   order_id  quantity                              item_name  \\\n",
              "0         1         1           Chips and Fresh Tomato Salsa   \n",
              "1         1         1                                   Izze   \n",
              "2         1         1                       Nantucket Nectar   \n",
              "3         1         1  Chips and Tomatillo-Green Chili Salsa   \n",
              "4         2         2                           Chicken Bowl   \n",
              "5         3         1                           Chicken Bowl   \n",
              "6         3         1                          Side of Chips   \n",
              "7         4         1                          Steak Burrito   \n",
              "8         4         1                       Steak Soft Tacos   \n",
              "9         5         1                          Steak Burrito   \n",
              "\n",
              "                                  choice_description item_price  \n",
              "0                                                NaN     $2.39   \n",
              "1                                       [Clementine]     $3.39   \n",
              "2                                            [Apple]     $3.39   \n",
              "3                                                NaN     $2.39   \n",
              "4  [Tomatillo-Red Chili Salsa (Hot), [Black Beans...    $16.98   \n",
              "5  [Fresh Tomato Salsa (Mild), [Rice, Cheese, Sou...    $10.98   \n",
              "6                                                NaN     $1.69   \n",
              "7  [Tomatillo Red Chili Salsa, [Fajita Vegetables...    $11.75   \n",
              "8  [Tomatillo Green Chili Salsa, [Pinto Beans, Ch...     $9.25   \n",
              "9  [Fresh Tomato Salsa, [Rice, Black Beans, Pinto...     $9.25   "
            ]
          },
          "execution_count": 390,
          "metadata": {},
          "output_type": "execute_result"
        }
      ],
      "source": [
        "food.head(10)"
      ]
    },
    {
      "cell_type": "markdown",
      "metadata": {
        "id": "afXWh3VC66Hk"
      },
      "source": [
        "Step 4. What is the number of observations in the dataset?"
      ]
    },
    {
      "cell_type": "code",
      "execution_count": 391,
      "metadata": {
        "id": "SaTXDGZP65iN"
      },
      "outputs": [
        {
          "name": "stdout",
          "output_type": "stream",
          "text": [
            "There are 4622 observations are in the data.\n"
          ]
        }
      ],
      "source": [
        "print(f'There are {food.shape[0]} observations are in the data.')"
      ]
    },
    {
      "cell_type": "markdown",
      "metadata": {
        "id": "VP2HijtZ7BOM"
      },
      "source": [
        "Step 5. What is the number of columns in the dataset?"
      ]
    },
    {
      "cell_type": "code",
      "execution_count": 392,
      "metadata": {
        "id": "082VTDLq7CQz"
      },
      "outputs": [
        {
          "name": "stdout",
          "output_type": "stream",
          "text": [
            "There are 5 columns in the data.\n"
          ]
        }
      ],
      "source": [
        "print(f'There are {food.shape[1]} columns in the data.')"
      ]
    },
    {
      "cell_type": "markdown",
      "metadata": {
        "id": "UmmRB0cc7DDV"
      },
      "source": [
        "Step 6. Print the name of all the columns."
      ]
    },
    {
      "cell_type": "code",
      "execution_count": 393,
      "metadata": {
        "id": "tARmbQ_t7Ffh"
      },
      "outputs": [
        {
          "data": {
            "text/plain": [
              "Index(['order_id', 'quantity', 'item_name', 'choice_description',\n",
              "       'item_price'],\n",
              "      dtype='object')"
            ]
          },
          "execution_count": 393,
          "metadata": {},
          "output_type": "execute_result"
        }
      ],
      "source": [
        "food.columns"
      ]
    },
    {
      "cell_type": "markdown",
      "metadata": {
        "id": "6z6pagRH7F5M"
      },
      "source": [
        "Step 7. How is the dataset indexed?"
      ]
    },
    {
      "cell_type": "code",
      "execution_count": 394,
      "metadata": {
        "id": "Ck9Ht4Ac7IsN"
      },
      "outputs": [
        {
          "name": "stdout",
          "output_type": "stream",
          "text": [
            "RangeIndex(start=0, stop=4622, step=1)\n"
          ]
        }
      ],
      "source": [
        "'''Hint: think or look for a command that gives information \n",
        "about the dataset but this time, only the index from the dataset.'''\n",
        "print(food.index)"
      ]
    },
    {
      "cell_type": "markdown",
      "metadata": {
        "id": "mETS-g6z7R5B"
      },
      "source": [
        "Step 8. Which was the most-ordered item?"
      ]
    },
    {
      "cell_type": "code",
      "execution_count": 395,
      "metadata": {},
      "outputs": [
        {
          "name": "stdout",
          "output_type": "stream",
          "text": [
            "Most ordered item: Chicken Bowl\n"
          ]
        }
      ],
      "source": [
        "most_order_item=food['item_name'].value_counts()\n",
        "most_order_item=most_order_item.idxmax()\n",
        "print('Most ordered item:',most_order_item)"
      ]
    },
    {
      "cell_type": "markdown",
      "metadata": {
        "id": "B-4CI7Np7Y0U"
      },
      "source": [
        "Step 9. For the most-ordered item, how many items were ordered?"
      ]
    },
    {
      "cell_type": "code",
      "execution_count": 396,
      "metadata": {},
      "outputs": [
        {
          "data": {
            "text/plain": [
              "item_name\n",
              "Chicken Bowl    726\n",
              "Name: count, dtype: int64"
            ]
          },
          "execution_count": 396,
          "metadata": {},
          "output_type": "execute_result"
        }
      ],
      "source": [
        "most_order_item_count=food['item_name'].value_counts(ascending=False)\n",
        "most_order_item_count=most_order_item_count.head(1)\n",
        "most_order_item_count"
      ]
    },
    {
      "cell_type": "markdown",
      "metadata": {
        "id": "pepKCJjl7lZn"
      },
      "source": [
        "Step 10. What was the most ordered item in the choice_description column?"
      ]
    },
    {
      "cell_type": "code",
      "execution_count": 397,
      "metadata": {},
      "outputs": [
        {
          "name": "stdout",
          "output_type": "stream",
          "text": [
            "The most ordered item in choice discription is [Diet Coke]\n"
          ]
        }
      ],
      "source": [
        "most_ordered_choices = food['choice_description'].value_counts()\n",
        "most_ordered_choices=most_ordered_choices.idxmax()\n",
        "print('The most ordered item in choice discription is',most_ordered_choices)"
      ]
    },
    {
      "cell_type": "markdown",
      "metadata": {
        "id": "GpyCXQ917pLv"
      },
      "source": [
        "Step 11. How many items were orderd in total?"
      ]
    },
    {
      "cell_type": "code",
      "execution_count": 398,
      "metadata": {
        "id": "h0CC85yq7ql3"
      },
      "outputs": [
        {
          "name": "stdout",
          "output_type": "stream",
          "text": [
            "Total items ordered: 4972\n"
          ]
        }
      ],
      "source": [
        "total_items_ordered = food['quantity'].sum()\n",
        "# Print the result\n",
        "print(f'Total items ordered: {total_items_ordered}')"
      ]
    },
    {
      "cell_type": "markdown",
      "metadata": {
        "id": "GE8OSWOl7tAA"
      },
      "source": [
        "Step 12. Turn the item price into a float"
      ]
    },
    {
      "cell_type": "code",
      "execution_count": 399,
      "metadata": {},
      "outputs": [
        {
          "data": {
            "text/plain": [
              "dtype('O')"
            ]
          },
          "execution_count": 399,
          "metadata": {},
          "output_type": "execute_result"
        }
      ],
      "source": [
        "food['item_price'].dtypes"
      ]
    },
    {
      "cell_type": "code",
      "execution_count": 400,
      "metadata": {},
      "outputs": [],
      "source": [
        "food['item_price']=food['item_price'].apply(lambda x:x.replace('$',''))"
      ]
    },
    {
      "cell_type": "markdown",
      "metadata": {
        "id": "hv8Q1J1Y7wdE"
      },
      "source": [
        "Step 12.a. Check the item price type"
      ]
    },
    {
      "cell_type": "code",
      "execution_count": 401,
      "metadata": {
        "id": "iW1o9udC7uoE"
      },
      "outputs": [
        {
          "data": {
            "text/plain": [
              "dtype('O')"
            ]
          },
          "execution_count": 401,
          "metadata": {},
          "output_type": "execute_result"
        }
      ],
      "source": [
        "#check itemprice type before changing  it\n",
        "food['item_price'].dtypes"
      ]
    },
    {
      "cell_type": "markdown",
      "metadata": {
        "id": "1L84dvHA7yYP"
      },
      "source": [
        "Step 12.b. Create a lambda function and change the type of item price."
      ]
    },
    {
      "cell_type": "code",
      "execution_count": 402,
      "metadata": {
        "id": "KNrHFhOb74I-"
      },
      "outputs": [],
      "source": [
        "#Hint: You can first create a lambda function and then store it in a variable. After that, you can (APPLY) it on the relevant column :)\n",
        "food['item_price']=food['item_price'].apply(lambda x: float(x))"
      ]
    },
    {
      "cell_type": "markdown",
      "metadata": {
        "id": "O6C_51Z48H6Q"
      },
      "source": [
        "Step 12.c. Check the item price type now"
      ]
    },
    {
      "cell_type": "code",
      "execution_count": 403,
      "metadata": {
        "id": "AYUsrtHK8Ktz"
      },
      "outputs": [
        {
          "data": {
            "text/plain": [
              "dtype('float64')"
            ]
          },
          "execution_count": 403,
          "metadata": {},
          "output_type": "execute_result"
        }
      ],
      "source": [
        "#make sure the itemprice type has changed now\n",
        "food['item_price'].dtypes"
      ]
    },
    {
      "cell_type": "markdown",
      "metadata": {
        "id": "DyIowH-78jlC"
      },
      "source": [
        "Step 13. How much was the revenue for the period in the dataset?"
      ]
    },
    {
      "cell_type": "code",
      "execution_count": 404,
      "metadata": {
        "id": "nGMGiAQh8kQi"
      },
      "outputs": [
        {
          "name": "stdout",
          "output_type": "stream",
          "text": [
            "Total Revenue: $39237.02\n"
          ]
        }
      ],
      "source": [
        "#Hint: Revenue = Quantity into ItemPrice\n",
        "# Calculate the revenue for each item\n",
        "food['revenue'] = food['quantity'] * food['item_price']\n",
        "\n",
        "# Calculate the total revenue\n",
        "total_revenue = food['revenue'].sum()\n",
        "\n",
        "print(f\"Total Revenue: ${total_revenue:.2f}\")\n"
      ]
    },
    {
      "cell_type": "code",
      "execution_count": 405,
      "metadata": {},
      "outputs": [
        {
          "data": {
            "text/html": [
              "<div>\n",
              "<style scoped>\n",
              "    .dataframe tbody tr th:only-of-type {\n",
              "        vertical-align: middle;\n",
              "    }\n",
              "\n",
              "    .dataframe tbody tr th {\n",
              "        vertical-align: top;\n",
              "    }\n",
              "\n",
              "    .dataframe thead th {\n",
              "        text-align: right;\n",
              "    }\n",
              "</style>\n",
              "<table border=\"1\" class=\"dataframe\">\n",
              "  <thead>\n",
              "    <tr style=\"text-align: right;\">\n",
              "      <th></th>\n",
              "      <th>order_id</th>\n",
              "      <th>quantity</th>\n",
              "      <th>item_name</th>\n",
              "      <th>choice_description</th>\n",
              "      <th>item_price</th>\n",
              "      <th>revenue</th>\n",
              "    </tr>\n",
              "  </thead>\n",
              "  <tbody>\n",
              "    <tr>\n",
              "      <th>0</th>\n",
              "      <td>1</td>\n",
              "      <td>1</td>\n",
              "      <td>Chips and Fresh Tomato Salsa</td>\n",
              "      <td>NaN</td>\n",
              "      <td>2.39</td>\n",
              "      <td>2.39</td>\n",
              "    </tr>\n",
              "    <tr>\n",
              "      <th>1</th>\n",
              "      <td>1</td>\n",
              "      <td>1</td>\n",
              "      <td>Izze</td>\n",
              "      <td>[Clementine]</td>\n",
              "      <td>3.39</td>\n",
              "      <td>3.39</td>\n",
              "    </tr>\n",
              "    <tr>\n",
              "      <th>2</th>\n",
              "      <td>1</td>\n",
              "      <td>1</td>\n",
              "      <td>Nantucket Nectar</td>\n",
              "      <td>[Apple]</td>\n",
              "      <td>3.39</td>\n",
              "      <td>3.39</td>\n",
              "    </tr>\n",
              "    <tr>\n",
              "      <th>3</th>\n",
              "      <td>1</td>\n",
              "      <td>1</td>\n",
              "      <td>Chips and Tomatillo-Green Chili Salsa</td>\n",
              "      <td>NaN</td>\n",
              "      <td>2.39</td>\n",
              "      <td>2.39</td>\n",
              "    </tr>\n",
              "    <tr>\n",
              "      <th>4</th>\n",
              "      <td>2</td>\n",
              "      <td>2</td>\n",
              "      <td>Chicken Bowl</td>\n",
              "      <td>[Tomatillo-Red Chili Salsa (Hot), [Black Beans...</td>\n",
              "      <td>16.98</td>\n",
              "      <td>33.96</td>\n",
              "    </tr>\n",
              "  </tbody>\n",
              "</table>\n",
              "</div>"
            ],
            "text/plain": [
              "   order_id  quantity                              item_name  \\\n",
              "0         1         1           Chips and Fresh Tomato Salsa   \n",
              "1         1         1                                   Izze   \n",
              "2         1         1                       Nantucket Nectar   \n",
              "3         1         1  Chips and Tomatillo-Green Chili Salsa   \n",
              "4         2         2                           Chicken Bowl   \n",
              "\n",
              "                                  choice_description  item_price  revenue  \n",
              "0                                                NaN        2.39     2.39  \n",
              "1                                       [Clementine]        3.39     3.39  \n",
              "2                                            [Apple]        3.39     3.39  \n",
              "3                                                NaN        2.39     2.39  \n",
              "4  [Tomatillo-Red Chili Salsa (Hot), [Black Beans...       16.98    33.96  "
            ]
          },
          "execution_count": 405,
          "metadata": {},
          "output_type": "execute_result"
        }
      ],
      "source": [
        "food.head()"
      ]
    },
    {
      "cell_type": "markdown",
      "metadata": {
        "id": "Zre-7Hs78yMO"
      },
      "source": [
        "Step 14. How many orders were made in the period?"
      ]
    },
    {
      "cell_type": "code",
      "execution_count": 406,
      "metadata": {},
      "outputs": [
        {
          "name": "stdout",
          "output_type": "stream",
          "text": [
            "Total Orders: 1834\n"
          ]
        }
      ],
      "source": [
        "total_orders = food['order_id'].nunique()\n",
        "print(f\"Total Orders: {total_orders}\")"
      ]
    },
    {
      "cell_type": "markdown",
      "metadata": {
        "id": "2sXX8BCP87mN"
      },
      "source": [
        "Step 15. What is the average revenue amount per order?"
      ]
    },
    {
      "cell_type": "code",
      "execution_count": 407,
      "metadata": {
        "id": "NyBEdnVl89Ho"
      },
      "outputs": [
        {
          "name": "stdout",
          "output_type": "stream",
          "text": [
            "Average Revenue per Order: $21.39\n"
          ]
        }
      ],
      "source": [
        "average_revenue_per_order = total_revenue / total_orders\n",
        "print(f\"Average Revenue per Order: ${average_revenue_per_order:.2f}\")"
      ]
    },
    {
      "cell_type": "markdown",
      "metadata": {
        "id": "_DwwN72U9Fc0"
      },
      "source": [
        "Step 16. How many different items are sold?"
      ]
    },
    {
      "cell_type": "code",
      "execution_count": 408,
      "metadata": {
        "id": "PgQgFw7o9GuU"
      },
      "outputs": [
        {
          "name": "stdout",
          "output_type": "stream",
          "text": [
            "There are 50 different items which are sold.\n"
          ]
        }
      ],
      "source": [
        "No_of_items=food['item_name'].nunique()\n",
        "print(f'There are {No_of_items} different items which are sold.')"
      ]
    },
    {
      "cell_type": "markdown",
      "metadata": {
        "id": "oXd7QwRx9Saq"
      },
      "source": [
        "### **Part 2 - FILTER AND SORT YOUR DATA!**"
      ]
    },
    {
      "cell_type": "markdown",
      "metadata": {
        "id": "PxXtyT499jD1"
      },
      "source": [
        "Step 17. How many products cost more than $10.00?"
      ]
    },
    {
      "cell_type": "code",
      "execution_count": 409,
      "metadata": {
        "id": "OCrwcvLh9ZYp"
      },
      "outputs": [
        {
          "name": "stdout",
          "output_type": "stream",
          "text": [
            "The number of products that cost more than $10.00 are: 31\n"
          ]
        }
      ],
      "source": [
        "# you already  converted the itemprice into flaot, now delete the duplicates in item_name and quantity.\n",
        "# select only the products with quantity equals to 1 and then print the unqiue count only\n",
        "unique_items = food[['item_name', 'quantity']].drop_duplicates()\n",
        "\n",
        "# Step 2: Select only the products with quantity equals to 1\n",
        "products_with_quantity_one = unique_items[unique_items['quantity'] == 1]\n",
        "# Count products that cost more than $10.00\n",
        "products_above_10 = food[food['item_price'] > 10.00]\n",
        "# Get the count of those products\n",
        "count_above_10 = products_above_10['item_name'].nunique()\n",
        "\n",
        "print(f'The number of products that cost more than $10.00 are: {count_above_10}')"
      ]
    },
    {
      "cell_type": "markdown",
      "metadata": {
        "id": "e2a66bNk-InP"
      },
      "source": [
        "Step 18. Sort by the name of the item"
      ]
    },
    {
      "cell_type": "code",
      "execution_count": 410,
      "metadata": {
        "id": "2L1U_usr-PNE"
      },
      "outputs": [
        {
          "name": "stdout",
          "output_type": "stream",
          "text": [
            "      order_id  quantity          item_name  \\\n",
            "3389      1360         2  6 Pack Soft Drink   \n",
            "341        148         1  6 Pack Soft Drink   \n",
            "1849       749         1  6 Pack Soft Drink   \n",
            "1860       754         1  6 Pack Soft Drink   \n",
            "2713      1076         1  6 Pack Soft Drink   \n",
            "...        ...       ...                ...   \n",
            "2384       948         1  Veggie Soft Tacos   \n",
            "781        322         1  Veggie Soft Tacos   \n",
            "2851      1132         1  Veggie Soft Tacos   \n",
            "1699       688         1  Veggie Soft Tacos   \n",
            "1395       567         1  Veggie Soft Tacos   \n",
            "\n",
            "                                     choice_description  item_price  revenue  \n",
            "3389                                        [Diet Coke]       12.98    25.96  \n",
            "341                                         [Diet Coke]        6.49     6.49  \n",
            "1849                                             [Coke]        6.49     6.49  \n",
            "1860                                        [Diet Coke]        6.49     6.49  \n",
            "2713                                             [Coke]        6.49     6.49  \n",
            "...                                                 ...         ...      ...  \n",
            "2384  [Roasted Chili Corn Salsa, [Fajita Vegetables,...        8.75     8.75  \n",
            "781   [Fresh Tomato Salsa, [Black Beans, Cheese, Sou...        8.75     8.75  \n",
            "2851  [Roasted Chili Corn Salsa (Medium), [Black Bea...        8.49     8.49  \n",
            "1699  [Fresh Tomato Salsa, [Fajita Vegetables, Rice,...       11.25    11.25  \n",
            "1395  [Fresh Tomato Salsa (Mild), [Pinto Beans, Rice...        8.49     8.49  \n",
            "\n",
            "[4622 rows x 6 columns]\n"
          ]
        }
      ],
      "source": [
        "print(food.sort_values(by='item_name'))"
      ]
    },
    {
      "cell_type": "markdown",
      "metadata": {
        "id": "bJslVYDs-PpI"
      },
      "source": [
        "Step 19. What was the quantity of the most expensive item ordered?"
      ]
    },
    {
      "cell_type": "code",
      "execution_count": 411,
      "metadata": {
        "id": "JiR7AvtF-TZR"
      },
      "outputs": [
        {
          "data": {
            "text/html": [
              "<div>\n",
              "<style scoped>\n",
              "    .dataframe tbody tr th:only-of-type {\n",
              "        vertical-align: middle;\n",
              "    }\n",
              "\n",
              "    .dataframe tbody tr th {\n",
              "        vertical-align: top;\n",
              "    }\n",
              "\n",
              "    .dataframe thead th {\n",
              "        text-align: right;\n",
              "    }\n",
              "</style>\n",
              "<table border=\"1\" class=\"dataframe\">\n",
              "  <thead>\n",
              "    <tr style=\"text-align: right;\">\n",
              "      <th></th>\n",
              "      <th>order_id</th>\n",
              "      <th>quantity</th>\n",
              "      <th>item_name</th>\n",
              "      <th>choice_description</th>\n",
              "      <th>item_price</th>\n",
              "      <th>revenue</th>\n",
              "    </tr>\n",
              "  </thead>\n",
              "  <tbody>\n",
              "    <tr>\n",
              "      <th>3598</th>\n",
              "      <td>1443</td>\n",
              "      <td>15</td>\n",
              "      <td>Chips and Fresh Tomato Salsa</td>\n",
              "      <td>NaN</td>\n",
              "      <td>44.25</td>\n",
              "      <td>663.75</td>\n",
              "    </tr>\n",
              "  </tbody>\n",
              "</table>\n",
              "</div>"
            ],
            "text/plain": [
              "      order_id  quantity                     item_name choice_description  \\\n",
              "3598      1443        15  Chips and Fresh Tomato Salsa                NaN   \n",
              "\n",
              "      item_price  revenue  \n",
              "3598       44.25   663.75  "
            ]
          },
          "execution_count": 411,
          "metadata": {},
          "output_type": "execute_result"
        }
      ],
      "source": [
        "max_price = food['item_price'].max()\n",
        "most_expensive_item = food[food['item_price'] == max_price]\n",
        "most_expensive_item"
      ]
    },
    {
      "cell_type": "markdown",
      "metadata": {
        "id": "8PAFpqxC-UCx"
      },
      "source": [
        "Step 20. How many times did someone order more than one Canned Soda?"
      ]
    },
    {
      "cell_type": "code",
      "execution_count": 412,
      "metadata": {
        "id": "uYYKDdiZ-YXx"
      },
      "outputs": [
        {
          "name": "stdout",
          "output_type": "stream",
          "text": [
            "The number of times someone ordered more than one Canned Soda is: 20\n"
          ]
        }
      ],
      "source": [
        "#Hint: you can also use boolean condition\n",
        "count_canned_soda_orders = (food['item_name'] == 'Canned Soda') & (food['quantity'] > 1)\n",
        "total_canned_soda_orders = count_canned_soda_orders.sum()\n",
        "\n",
        "print(f'The number of times someone ordered more than one Canned Soda is: {total_canned_soda_orders}')"
      ]
    },
    {
      "cell_type": "markdown",
      "metadata": {
        "id": "8aeS4nux-4s-"
      },
      "source": [
        "BONUS QUESTION: Pandas is used for Data Analysis. Create some unique pandas insight from your dataset and code it here."
      ]
    },
    {
      "cell_type": "markdown",
      "metadata": {},
      "source": [
        "Bonus:What is the cheapest item by price?"
      ]
    },
    {
      "cell_type": "code",
      "execution_count": 413,
      "metadata": {},
      "outputs": [
        {
          "name": "stdout",
          "output_type": "stream",
          "text": [
            "Cheapest Item:\n",
            "Item Name: Canned Soda\n",
            "Price: $1.09\n"
          ]
        }
      ],
      "source": [
        "# Find the cheapest item based on item price\n",
        "cheapest_item = food.loc[food['item_price'].idxmin()]\n",
        "\n",
        "# Print the details of the cheapest item\n",
        "print(\"Cheapest Item:\")\n",
        "print(f\"Item Name: {cheapest_item['item_name']}\")\n",
        "print(f\"Price: ${cheapest_item['item_price']}\")\n"
      ]
    },
    {
      "cell_type": "markdown",
      "metadata": {
        "id": "OGUxrRBB_EOh"
      },
      "source": [
        "Bonus Question is optional, but attempting it would result in 5 Grace Points :)"
      ]
    },
    {
      "cell_type": "markdown",
      "metadata": {
        "id": "OgeUQbzg_MJj"
      },
      "source": [
        "### **THE END!!!**\n",
        "or maybe not :)\n"
      ]
    },
    {
      "cell_type": "markdown",
      "metadata": {
        "id": "w7oPifa_F7Xe"
      },
      "source": [
        "We still need to practice Grouping more.\n",
        "\n",
        "### **PART 3 - GROUPING!!**"
      ]
    },
    {
      "cell_type": "markdown",
      "metadata": {
        "id": "4GVf12ACHKkB"
      },
      "source": [
        "But now, we will be changing our dataset a bit. Get your dataset from this [address](https://raw.githubusercontent.com/justmarkham/DAT8/master/data/u.user) and store it in a variable called users."
      ]
    },
    {
      "cell_type": "code",
      "execution_count": 414,
      "metadata": {},
      "outputs": [
        {
          "name": "stdout",
          "output_type": "stream",
          "text": [
            "Using cached version that was downloaded (UTC): Sat Oct 26 21:11:45 2024\n"
          ]
        }
      ],
      "source": [
        "data_url = 'https://raw.githubusercontent.com/justmarkham/DAT8/master/data/u.user'\n",
        "file_name = \"user.user\"\n",
        "file_path = fetch_and_cache(data_url, file_name)"
      ]
    },
    {
      "cell_type": "code",
      "execution_count": 415,
      "metadata": {},
      "outputs": [],
      "source": [
        "users=pd.read_csv('./data/user.user',sep='|')"
      ]
    },
    {
      "cell_type": "code",
      "execution_count": 416,
      "metadata": {
        "id": "Y2976Og4EKId"
      },
      "outputs": [
        {
          "data": {
            "text/html": [
              "<div>\n",
              "<style scoped>\n",
              "    .dataframe tbody tr th:only-of-type {\n",
              "        vertical-align: middle;\n",
              "    }\n",
              "\n",
              "    .dataframe tbody tr th {\n",
              "        vertical-align: top;\n",
              "    }\n",
              "\n",
              "    .dataframe thead th {\n",
              "        text-align: right;\n",
              "    }\n",
              "</style>\n",
              "<table border=\"1\" class=\"dataframe\">\n",
              "  <thead>\n",
              "    <tr style=\"text-align: right;\">\n",
              "      <th></th>\n",
              "      <th>user_id</th>\n",
              "      <th>age</th>\n",
              "      <th>gender</th>\n",
              "      <th>occupation</th>\n",
              "      <th>zip_code</th>\n",
              "    </tr>\n",
              "  </thead>\n",
              "  <tbody>\n",
              "    <tr>\n",
              "      <th>0</th>\n",
              "      <td>1</td>\n",
              "      <td>24</td>\n",
              "      <td>M</td>\n",
              "      <td>technician</td>\n",
              "      <td>85711</td>\n",
              "    </tr>\n",
              "    <tr>\n",
              "      <th>1</th>\n",
              "      <td>2</td>\n",
              "      <td>53</td>\n",
              "      <td>F</td>\n",
              "      <td>other</td>\n",
              "      <td>94043</td>\n",
              "    </tr>\n",
              "    <tr>\n",
              "      <th>2</th>\n",
              "      <td>3</td>\n",
              "      <td>23</td>\n",
              "      <td>M</td>\n",
              "      <td>writer</td>\n",
              "      <td>32067</td>\n",
              "    </tr>\n",
              "    <tr>\n",
              "      <th>3</th>\n",
              "      <td>4</td>\n",
              "      <td>24</td>\n",
              "      <td>M</td>\n",
              "      <td>technician</td>\n",
              "      <td>43537</td>\n",
              "    </tr>\n",
              "    <tr>\n",
              "      <th>4</th>\n",
              "      <td>5</td>\n",
              "      <td>33</td>\n",
              "      <td>F</td>\n",
              "      <td>other</td>\n",
              "      <td>15213</td>\n",
              "    </tr>\n",
              "  </tbody>\n",
              "</table>\n",
              "</div>"
            ],
            "text/plain": [
              "   user_id  age gender  occupation zip_code\n",
              "0        1   24      M  technician    85711\n",
              "1        2   53      F       other    94043\n",
              "2        3   23      M      writer    32067\n",
              "3        4   24      M  technician    43537\n",
              "4        5   33      F       other    15213"
            ]
          },
          "execution_count": 416,
          "metadata": {},
          "output_type": "execute_result"
        }
      ],
      "source": [
        "#Hint: this time, you may need to change your choice of delimieter. Check and see how the values are being seperated.\n",
        "#Also this time, be on a lookout of what column would you use as an index?\n",
        "users.head()"
      ]
    },
    {
      "cell_type": "markdown",
      "metadata": {
        "id": "_3_fM0Q7Hiiz"
      },
      "source": [
        "Step 1. Discover what is the mean age per occupation"
      ]
    },
    {
      "cell_type": "code",
      "execution_count": 417,
      "metadata": {
        "id": "80QntLkSHuFE"
      },
      "outputs": [
        {
          "data": {
            "text/plain": [
              "occupation\n",
              "administrator    39.0\n",
              "artist           31.0\n",
              "doctor           44.0\n",
              "educator         42.0\n",
              "engineer         36.0\n",
              "entertainment    29.0\n",
              "executive        39.0\n",
              "healthcare       42.0\n",
              "homemaker        33.0\n",
              "lawyer           37.0\n",
              "librarian        40.0\n",
              "marketing        38.0\n",
              "none             27.0\n",
              "other            35.0\n",
              "programmer       33.0\n",
              "retired          63.0\n",
              "salesman         36.0\n",
              "scientist        36.0\n",
              "student          22.0\n",
              "technician       33.0\n",
              "writer           36.0\n",
              "Name: age, dtype: float64"
            ]
          },
          "execution_count": 417,
          "metadata": {},
          "output_type": "execute_result"
        }
      ],
      "source": [
        "# Calculate mean age per occupation and round it\n",
        "mean_age_per_occupation = round(users.groupby('occupation')['age'].mean())\n",
        "mean_age_per_occupation\n"
      ]
    },
    {
      "cell_type": "markdown",
      "metadata": {
        "id": "SCFbxIrTHvx9"
      },
      "source": [
        "Step 2. Discover the Male ratio per occupation and sort it from the most to the least"
      ]
    },
    {
      "cell_type": "code",
      "execution_count": 418,
      "metadata": {
        "id": "aS4HB6OsHy5d"
      },
      "outputs": [
        {
          "data": {
            "text/plain": [
              "occupation\n",
              "doctor           100.000000\n",
              "engineer          97.014925\n",
              "technician        96.296296\n",
              "retired           92.857143\n",
              "programmer        90.909091\n",
              "executive         90.625000\n",
              "scientist         90.322581\n",
              "entertainment     88.888889\n",
              "lawyer            83.333333\n",
              "salesman          75.000000\n",
              "educator          72.631579\n",
              "student           69.387755\n",
              "other             65.714286\n",
              "marketing         61.538462\n",
              "writer            57.777778\n",
              "none              55.555556\n",
              "administrator     54.430380\n",
              "artist            53.571429\n",
              "librarian         43.137255\n",
              "healthcare        31.250000\n",
              "homemaker         14.285714\n",
              "Name: count, dtype: float64"
            ]
          },
          "execution_count": 418,
          "metadata": {},
          "output_type": "execute_result"
        }
      ],
      "source": [
        "#The output of this cell is given below. Your output should match this!\n",
        "#In Simple words, you have to calculate the percentage of male users grouped by their occupation.\n",
        "\n",
        "# Count the total number of people per occupation\n",
        "total_per_occupation = users['occupation'].value_counts()\n",
        "# Count the number of males per occupation\n",
        "males_per_occupation = users[users['gender'] == 'M']['occupation'].value_counts()\n",
        "# Calculate the male ratio per occupation\n",
        "male_ratio_per_occupation = (males_per_occupation / total_per_occupation).sort_values(ascending=False)\n",
        "male_ratio_per_occupation*100"
      ]
    },
    {
      "cell_type": "markdown",
      "metadata": {
        "id": "RKih70iwH5Ca"
      },
      "source": [
        "![ig1.png](data:image/png;base64,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)"
      ]
    },
    {
      "cell_type": "markdown",
      "metadata": {
        "id": "5cBWer5AIOwi"
      },
      "source": [
        "Step 3. For each occupation, calculate the minimum and maximum ages"
      ]
    },
    {
      "cell_type": "code",
      "execution_count": 419,
      "metadata": {
        "id": "Up0IEvcgH8z5"
      },
      "outputs": [
        {
          "data": {
            "text/html": [
              "<div>\n",
              "<style scoped>\n",
              "    .dataframe tbody tr th:only-of-type {\n",
              "        vertical-align: middle;\n",
              "    }\n",
              "\n",
              "    .dataframe tbody tr th {\n",
              "        vertical-align: top;\n",
              "    }\n",
              "\n",
              "    .dataframe thead th {\n",
              "        text-align: right;\n",
              "    }\n",
              "</style>\n",
              "<table border=\"1\" class=\"dataframe\">\n",
              "  <thead>\n",
              "    <tr style=\"text-align: right;\">\n",
              "      <th></th>\n",
              "      <th>Min Age</th>\n",
              "      <th>Max Age</th>\n",
              "    </tr>\n",
              "    <tr>\n",
              "      <th>occupation</th>\n",
              "      <th></th>\n",
              "      <th></th>\n",
              "    </tr>\n",
              "  </thead>\n",
              "  <tbody>\n",
              "    <tr>\n",
              "      <th>administrator</th>\n",
              "      <td>21</td>\n",
              "      <td>70</td>\n",
              "    </tr>\n",
              "    <tr>\n",
              "      <th>artist</th>\n",
              "      <td>19</td>\n",
              "      <td>48</td>\n",
              "    </tr>\n",
              "    <tr>\n",
              "      <th>doctor</th>\n",
              "      <td>28</td>\n",
              "      <td>64</td>\n",
              "    </tr>\n",
              "    <tr>\n",
              "      <th>educator</th>\n",
              "      <td>23</td>\n",
              "      <td>63</td>\n",
              "    </tr>\n",
              "    <tr>\n",
              "      <th>engineer</th>\n",
              "      <td>22</td>\n",
              "      <td>70</td>\n",
              "    </tr>\n",
              "    <tr>\n",
              "      <th>entertainment</th>\n",
              "      <td>15</td>\n",
              "      <td>50</td>\n",
              "    </tr>\n",
              "    <tr>\n",
              "      <th>executive</th>\n",
              "      <td>22</td>\n",
              "      <td>69</td>\n",
              "    </tr>\n",
              "    <tr>\n",
              "      <th>healthcare</th>\n",
              "      <td>22</td>\n",
              "      <td>62</td>\n",
              "    </tr>\n",
              "    <tr>\n",
              "      <th>homemaker</th>\n",
              "      <td>20</td>\n",
              "      <td>50</td>\n",
              "    </tr>\n",
              "    <tr>\n",
              "      <th>lawyer</th>\n",
              "      <td>21</td>\n",
              "      <td>53</td>\n",
              "    </tr>\n",
              "    <tr>\n",
              "      <th>librarian</th>\n",
              "      <td>23</td>\n",
              "      <td>69</td>\n",
              "    </tr>\n",
              "    <tr>\n",
              "      <th>marketing</th>\n",
              "      <td>24</td>\n",
              "      <td>55</td>\n",
              "    </tr>\n",
              "    <tr>\n",
              "      <th>none</th>\n",
              "      <td>11</td>\n",
              "      <td>55</td>\n",
              "    </tr>\n",
              "    <tr>\n",
              "      <th>other</th>\n",
              "      <td>13</td>\n",
              "      <td>64</td>\n",
              "    </tr>\n",
              "    <tr>\n",
              "      <th>programmer</th>\n",
              "      <td>20</td>\n",
              "      <td>63</td>\n",
              "    </tr>\n",
              "    <tr>\n",
              "      <th>retired</th>\n",
              "      <td>51</td>\n",
              "      <td>73</td>\n",
              "    </tr>\n",
              "    <tr>\n",
              "      <th>salesman</th>\n",
              "      <td>18</td>\n",
              "      <td>66</td>\n",
              "    </tr>\n",
              "    <tr>\n",
              "      <th>scientist</th>\n",
              "      <td>23</td>\n",
              "      <td>55</td>\n",
              "    </tr>\n",
              "    <tr>\n",
              "      <th>student</th>\n",
              "      <td>7</td>\n",
              "      <td>42</td>\n",
              "    </tr>\n",
              "    <tr>\n",
              "      <th>technician</th>\n",
              "      <td>21</td>\n",
              "      <td>55</td>\n",
              "    </tr>\n",
              "    <tr>\n",
              "      <th>writer</th>\n",
              "      <td>18</td>\n",
              "      <td>60</td>\n",
              "    </tr>\n",
              "  </tbody>\n",
              "</table>\n",
              "</div>"
            ],
            "text/plain": [
              "               Min Age  Max Age\n",
              "occupation                     \n",
              "administrator       21       70\n",
              "artist              19       48\n",
              "doctor              28       64\n",
              "educator            23       63\n",
              "engineer            22       70\n",
              "entertainment       15       50\n",
              "executive           22       69\n",
              "healthcare          22       62\n",
              "homemaker           20       50\n",
              "lawyer              21       53\n",
              "librarian           23       69\n",
              "marketing           24       55\n",
              "none                11       55\n",
              "other               13       64\n",
              "programmer          20       63\n",
              "retired             51       73\n",
              "salesman            18       66\n",
              "scientist           23       55\n",
              "student              7       42\n",
              "technician          21       55\n",
              "writer              18       60"
            ]
          },
          "execution_count": 419,
          "metadata": {},
          "output_type": "execute_result"
        }
      ],
      "source": [
        "min_max_age=users.groupby('occupation')['age'].agg(['min','max'])\n",
        "min_max_age.columns=['Min Age','Max Age']\n",
        "min_max_age"
      ]
    },
    {
      "cell_type": "markdown",
      "metadata": {
        "id": "jd3L6YwGIUEs"
      },
      "source": [
        "Step 4.  For each combination of occupation and gender, calculate the mean age"
      ]
    },
    {
      "cell_type": "code",
      "execution_count": 420,
      "metadata": {
        "id": "P4CYMwSlIU3M"
      },
      "outputs": [
        {
          "data": {
            "text/html": [
              "<div>\n",
              "<style scoped>\n",
              "    .dataframe tbody tr th:only-of-type {\n",
              "        vertical-align: middle;\n",
              "    }\n",
              "\n",
              "    .dataframe tbody tr th {\n",
              "        vertical-align: top;\n",
              "    }\n",
              "\n",
              "    .dataframe thead th {\n",
              "        text-align: right;\n",
              "    }\n",
              "</style>\n",
              "<table border=\"1\" class=\"dataframe\">\n",
              "  <thead>\n",
              "    <tr style=\"text-align: right;\">\n",
              "      <th></th>\n",
              "      <th>Min Age</th>\n",
              "      <th>Max Age</th>\n",
              "      <th>Mean Age</th>\n",
              "    </tr>\n",
              "    <tr>\n",
              "      <th>occupation</th>\n",
              "      <th></th>\n",
              "      <th></th>\n",
              "      <th></th>\n",
              "    </tr>\n",
              "  </thead>\n",
              "  <tbody>\n",
              "    <tr>\n",
              "      <th>administrator</th>\n",
              "      <td>21</td>\n",
              "      <td>70</td>\n",
              "      <td>38.746835</td>\n",
              "    </tr>\n",
              "    <tr>\n",
              "      <th>artist</th>\n",
              "      <td>19</td>\n",
              "      <td>48</td>\n",
              "      <td>31.392857</td>\n",
              "    </tr>\n",
              "    <tr>\n",
              "      <th>doctor</th>\n",
              "      <td>28</td>\n",
              "      <td>64</td>\n",
              "      <td>43.571429</td>\n",
              "    </tr>\n",
              "    <tr>\n",
              "      <th>educator</th>\n",
              "      <td>23</td>\n",
              "      <td>63</td>\n",
              "      <td>42.010526</td>\n",
              "    </tr>\n",
              "    <tr>\n",
              "      <th>engineer</th>\n",
              "      <td>22</td>\n",
              "      <td>70</td>\n",
              "      <td>36.388060</td>\n",
              "    </tr>\n",
              "    <tr>\n",
              "      <th>entertainment</th>\n",
              "      <td>15</td>\n",
              "      <td>50</td>\n",
              "      <td>29.222222</td>\n",
              "    </tr>\n",
              "    <tr>\n",
              "      <th>executive</th>\n",
              "      <td>22</td>\n",
              "      <td>69</td>\n",
              "      <td>38.718750</td>\n",
              "    </tr>\n",
              "    <tr>\n",
              "      <th>healthcare</th>\n",
              "      <td>22</td>\n",
              "      <td>62</td>\n",
              "      <td>41.562500</td>\n",
              "    </tr>\n",
              "    <tr>\n",
              "      <th>homemaker</th>\n",
              "      <td>20</td>\n",
              "      <td>50</td>\n",
              "      <td>32.571429</td>\n",
              "    </tr>\n",
              "    <tr>\n",
              "      <th>lawyer</th>\n",
              "      <td>21</td>\n",
              "      <td>53</td>\n",
              "      <td>36.750000</td>\n",
              "    </tr>\n",
              "    <tr>\n",
              "      <th>librarian</th>\n",
              "      <td>23</td>\n",
              "      <td>69</td>\n",
              "      <td>40.000000</td>\n",
              "    </tr>\n",
              "    <tr>\n",
              "      <th>marketing</th>\n",
              "      <td>24</td>\n",
              "      <td>55</td>\n",
              "      <td>37.615385</td>\n",
              "    </tr>\n",
              "    <tr>\n",
              "      <th>none</th>\n",
              "      <td>11</td>\n",
              "      <td>55</td>\n",
              "      <td>26.555556</td>\n",
              "    </tr>\n",
              "    <tr>\n",
              "      <th>other</th>\n",
              "      <td>13</td>\n",
              "      <td>64</td>\n",
              "      <td>34.523810</td>\n",
              "    </tr>\n",
              "    <tr>\n",
              "      <th>programmer</th>\n",
              "      <td>20</td>\n",
              "      <td>63</td>\n",
              "      <td>33.121212</td>\n",
              "    </tr>\n",
              "    <tr>\n",
              "      <th>retired</th>\n",
              "      <td>51</td>\n",
              "      <td>73</td>\n",
              "      <td>63.071429</td>\n",
              "    </tr>\n",
              "    <tr>\n",
              "      <th>salesman</th>\n",
              "      <td>18</td>\n",
              "      <td>66</td>\n",
              "      <td>35.666667</td>\n",
              "    </tr>\n",
              "    <tr>\n",
              "      <th>scientist</th>\n",
              "      <td>23</td>\n",
              "      <td>55</td>\n",
              "      <td>35.548387</td>\n",
              "    </tr>\n",
              "    <tr>\n",
              "      <th>student</th>\n",
              "      <td>7</td>\n",
              "      <td>42</td>\n",
              "      <td>22.081633</td>\n",
              "    </tr>\n",
              "    <tr>\n",
              "      <th>technician</th>\n",
              "      <td>21</td>\n",
              "      <td>55</td>\n",
              "      <td>33.148148</td>\n",
              "    </tr>\n",
              "    <tr>\n",
              "      <th>writer</th>\n",
              "      <td>18</td>\n",
              "      <td>60</td>\n",
              "      <td>36.311111</td>\n",
              "    </tr>\n",
              "  </tbody>\n",
              "</table>\n",
              "</div>"
            ],
            "text/plain": [
              "               Min Age  Max Age   Mean Age\n",
              "occupation                                \n",
              "administrator       21       70  38.746835\n",
              "artist              19       48  31.392857\n",
              "doctor              28       64  43.571429\n",
              "educator            23       63  42.010526\n",
              "engineer            22       70  36.388060\n",
              "entertainment       15       50  29.222222\n",
              "executive           22       69  38.718750\n",
              "healthcare          22       62  41.562500\n",
              "homemaker           20       50  32.571429\n",
              "lawyer              21       53  36.750000\n",
              "librarian           23       69  40.000000\n",
              "marketing           24       55  37.615385\n",
              "none                11       55  26.555556\n",
              "other               13       64  34.523810\n",
              "programmer          20       63  33.121212\n",
              "retired             51       73  63.071429\n",
              "salesman            18       66  35.666667\n",
              "scientist           23       55  35.548387\n",
              "student              7       42  22.081633\n",
              "technician          21       55  33.148148\n",
              "writer              18       60  36.311111"
            ]
          },
          "execution_count": 420,
          "metadata": {},
          "output_type": "execute_result"
        }
      ],
      "source": [
        "min_max_age=users.groupby('occupation')['age'].agg(['min','max','mean'])\n",
        "min_max_age.columns=['Min Age','Max Age','Mean Age']\n",
        "min_max_age"
      ]
    },
    {
      "cell_type": "markdown",
      "metadata": {
        "id": "VnrnP9QzIXcK"
      },
      "source": [
        "Step 5. For each occupation present the percentage of women and men"
      ]
    },
    {
      "cell_type": "code",
      "execution_count": 421,
      "metadata": {},
      "outputs": [
        {
          "data": {
            "text/html": [
              "<div>\n",
              "<style scoped>\n",
              "    .dataframe tbody tr th:only-of-type {\n",
              "        vertical-align: middle;\n",
              "    }\n",
              "\n",
              "    .dataframe tbody tr th {\n",
              "        vertical-align: top;\n",
              "    }\n",
              "\n",
              "    .dataframe thead th {\n",
              "        text-align: right;\n",
              "    }\n",
              "</style>\n",
              "<table border=\"1\" class=\"dataframe\">\n",
              "  <thead>\n",
              "    <tr style=\"text-align: right;\">\n",
              "      <th></th>\n",
              "      <th>Percentage of Males</th>\n",
              "      <th>Percentage of Females</th>\n",
              "    </tr>\n",
              "    <tr>\n",
              "      <th>occupation</th>\n",
              "      <th></th>\n",
              "      <th></th>\n",
              "    </tr>\n",
              "  </thead>\n",
              "  <tbody>\n",
              "    <tr>\n",
              "      <th>doctor</th>\n",
              "      <td>100.000000</td>\n",
              "      <td>0.000000</td>\n",
              "    </tr>\n",
              "    <tr>\n",
              "      <th>engineer</th>\n",
              "      <td>97.014925</td>\n",
              "      <td>2.985075</td>\n",
              "    </tr>\n",
              "    <tr>\n",
              "      <th>technician</th>\n",
              "      <td>96.296296</td>\n",
              "      <td>3.703704</td>\n",
              "    </tr>\n",
              "    <tr>\n",
              "      <th>retired</th>\n",
              "      <td>92.857143</td>\n",
              "      <td>7.142857</td>\n",
              "    </tr>\n",
              "    <tr>\n",
              "      <th>programmer</th>\n",
              "      <td>90.909091</td>\n",
              "      <td>9.090909</td>\n",
              "    </tr>\n",
              "    <tr>\n",
              "      <th>executive</th>\n",
              "      <td>90.625000</td>\n",
              "      <td>9.375000</td>\n",
              "    </tr>\n",
              "    <tr>\n",
              "      <th>scientist</th>\n",
              "      <td>90.322581</td>\n",
              "      <td>9.677419</td>\n",
              "    </tr>\n",
              "    <tr>\n",
              "      <th>entertainment</th>\n",
              "      <td>88.888889</td>\n",
              "      <td>11.111111</td>\n",
              "    </tr>\n",
              "    <tr>\n",
              "      <th>lawyer</th>\n",
              "      <td>83.333333</td>\n",
              "      <td>16.666667</td>\n",
              "    </tr>\n",
              "    <tr>\n",
              "      <th>salesman</th>\n",
              "      <td>75.000000</td>\n",
              "      <td>25.000000</td>\n",
              "    </tr>\n",
              "    <tr>\n",
              "      <th>educator</th>\n",
              "      <td>72.631579</td>\n",
              "      <td>27.368421</td>\n",
              "    </tr>\n",
              "    <tr>\n",
              "      <th>student</th>\n",
              "      <td>69.387755</td>\n",
              "      <td>30.612245</td>\n",
              "    </tr>\n",
              "    <tr>\n",
              "      <th>other</th>\n",
              "      <td>65.714286</td>\n",
              "      <td>34.285714</td>\n",
              "    </tr>\n",
              "    <tr>\n",
              "      <th>marketing</th>\n",
              "      <td>61.538462</td>\n",
              "      <td>38.461538</td>\n",
              "    </tr>\n",
              "    <tr>\n",
              "      <th>writer</th>\n",
              "      <td>57.777778</td>\n",
              "      <td>42.222222</td>\n",
              "    </tr>\n",
              "    <tr>\n",
              "      <th>none</th>\n",
              "      <td>55.555556</td>\n",
              "      <td>44.444444</td>\n",
              "    </tr>\n",
              "    <tr>\n",
              "      <th>administrator</th>\n",
              "      <td>54.430380</td>\n",
              "      <td>45.569620</td>\n",
              "    </tr>\n",
              "    <tr>\n",
              "      <th>artist</th>\n",
              "      <td>53.571429</td>\n",
              "      <td>46.428571</td>\n",
              "    </tr>\n",
              "    <tr>\n",
              "      <th>librarian</th>\n",
              "      <td>43.137255</td>\n",
              "      <td>56.862745</td>\n",
              "    </tr>\n",
              "    <tr>\n",
              "      <th>healthcare</th>\n",
              "      <td>31.250000</td>\n",
              "      <td>68.750000</td>\n",
              "    </tr>\n",
              "    <tr>\n",
              "      <th>homemaker</th>\n",
              "      <td>14.285714</td>\n",
              "      <td>85.714286</td>\n",
              "    </tr>\n",
              "  </tbody>\n",
              "</table>\n",
              "</div>"
            ],
            "text/plain": [
              "               Percentage of Males  Percentage of Females\n",
              "occupation                                               \n",
              "doctor                  100.000000               0.000000\n",
              "engineer                 97.014925               2.985075\n",
              "technician               96.296296               3.703704\n",
              "retired                  92.857143               7.142857\n",
              "programmer               90.909091               9.090909\n",
              "executive                90.625000               9.375000\n",
              "scientist                90.322581               9.677419\n",
              "entertainment            88.888889              11.111111\n",
              "lawyer                   83.333333              16.666667\n",
              "salesman                 75.000000              25.000000\n",
              "educator                 72.631579              27.368421\n",
              "student                  69.387755              30.612245\n",
              "other                    65.714286              34.285714\n",
              "marketing                61.538462              38.461538\n",
              "writer                   57.777778              42.222222\n",
              "none                     55.555556              44.444444\n",
              "administrator            54.430380              45.569620\n",
              "artist                   53.571429              46.428571\n",
              "librarian                43.137255              56.862745\n",
              "healthcare               31.250000              68.750000\n",
              "homemaker                14.285714              85.714286"
            ]
          },
          "execution_count": 421,
          "metadata": {},
          "output_type": "execute_result"
        }
      ],
      "source": [
        "# Total male and female count per occupation\n",
        "male_count = users[users['gender'] == 'M'].groupby('occupation').size()\n",
        "female_count = users[users['gender'] == 'F'].groupby('occupation').size()\n",
        "\n",
        "# Calculate total count per occupation\n",
        "total_count_per_occupation = male_count.add(female_count, fill_value=0)\n",
        "\n",
        "# Calculate percentage of males and females per occupation\n",
        "male_percentage = (male_count / total_count_per_occupation) * 100\n",
        "female_percentage = (female_count / total_count_per_occupation) * 100\n",
        "\n",
        "# Combine into a DataFrame\n",
        "gender_percentage_df = pd.DataFrame({\n",
        "    'Percentage of Males': male_percentage,\n",
        "    'Percentage of Females': female_percentage\n",
        "}).fillna(0)\n",
        "# Sort by Percentage of Males\n",
        "gender_percentage_df = gender_percentage_df.sort_values(by='Percentage of Males', ascending=False)\n",
        "\n",
        "gender_percentage_df\n"
      ]
    },
    {
      "cell_type": "markdown",
      "metadata": {
        "id": "-vqZX94SImYF"
      },
      "source": [
        "Easy, right? I knew you could do it 💯"
      ]
    },
    {
      "cell_type": "markdown",
      "metadata": {
        "id": "y2Q72PmfJvNz"
      },
      "source": [
        "You are just left with 2 modules :)"
      ]
    },
    {
      "cell_type": "markdown",
      "metadata": {
        "id": "CJXf91ZPJ4Jb"
      },
      "source": [
        "### **PART 4 - APPLY**"
      ]
    },
    {
      "cell_type": "markdown",
      "metadata": {
        "id": "nTM71Er6J9hK"
      },
      "source": [
        "Get your data from this [address](https://raw.githubusercontent.com/guipsamora/pandas_exercises/master/04_Apply/US_Crime_Rates/US_Crime_Rates_1960_2014.csv) and store it in a variable called crime"
      ]
    },
    {
      "cell_type": "code",
      "execution_count": 422,
      "metadata": {},
      "outputs": [
        {
          "name": "stdout",
          "output_type": "stream",
          "text": [
            "Using cached version that was downloaded (UTC): Sat Oct 26 21:57:45 2024\n"
          ]
        }
      ],
      "source": [
        "data_url = 'https://raw.githubusercontent.com/guipsamora/pandas_exercises/master/04_Apply/US_Crime_Rates/US_Crime_Rates_1960_2014.csv'\n",
        "file_name = \"crime.csv\"\n",
        "file_path = fetch_and_cache(data_url, file_name)"
      ]
    },
    {
      "cell_type": "code",
      "execution_count": 423,
      "metadata": {
        "id": "w7IcnyMGJSYV"
      },
      "outputs": [
        {
          "data": {
            "text/html": [
              "<div>\n",
              "<style scoped>\n",
              "    .dataframe tbody tr th:only-of-type {\n",
              "        vertical-align: middle;\n",
              "    }\n",
              "\n",
              "    .dataframe tbody tr th {\n",
              "        vertical-align: top;\n",
              "    }\n",
              "\n",
              "    .dataframe thead th {\n",
              "        text-align: right;\n",
              "    }\n",
              "</style>\n",
              "<table border=\"1\" class=\"dataframe\">\n",
              "  <thead>\n",
              "    <tr style=\"text-align: right;\">\n",
              "      <th></th>\n",
              "      <th>Year</th>\n",
              "      <th>Population</th>\n",
              "      <th>Total</th>\n",
              "      <th>Violent</th>\n",
              "      <th>Property</th>\n",
              "      <th>Murder</th>\n",
              "      <th>Forcible_Rape</th>\n",
              "      <th>Robbery</th>\n",
              "      <th>Aggravated_assault</th>\n",
              "      <th>Burglary</th>\n",
              "      <th>Larceny_Theft</th>\n",
              "      <th>Vehicle_Theft</th>\n",
              "    </tr>\n",
              "  </thead>\n",
              "  <tbody>\n",
              "    <tr>\n",
              "      <th>0</th>\n",
              "      <td>1960</td>\n",
              "      <td>179323175</td>\n",
              "      <td>3384200</td>\n",
              "      <td>288460</td>\n",
              "      <td>3095700</td>\n",
              "      <td>9110</td>\n",
              "      <td>17190</td>\n",
              "      <td>107840</td>\n",
              "      <td>154320</td>\n",
              "      <td>912100</td>\n",
              "      <td>1855400</td>\n",
              "      <td>328200</td>\n",
              "    </tr>\n",
              "    <tr>\n",
              "      <th>1</th>\n",
              "      <td>1961</td>\n",
              "      <td>182992000</td>\n",
              "      <td>3488000</td>\n",
              "      <td>289390</td>\n",
              "      <td>3198600</td>\n",
              "      <td>8740</td>\n",
              "      <td>17220</td>\n",
              "      <td>106670</td>\n",
              "      <td>156760</td>\n",
              "      <td>949600</td>\n",
              "      <td>1913000</td>\n",
              "      <td>336000</td>\n",
              "    </tr>\n",
              "    <tr>\n",
              "      <th>2</th>\n",
              "      <td>1962</td>\n",
              "      <td>185771000</td>\n",
              "      <td>3752200</td>\n",
              "      <td>301510</td>\n",
              "      <td>3450700</td>\n",
              "      <td>8530</td>\n",
              "      <td>17550</td>\n",
              "      <td>110860</td>\n",
              "      <td>164570</td>\n",
              "      <td>994300</td>\n",
              "      <td>2089600</td>\n",
              "      <td>366800</td>\n",
              "    </tr>\n",
              "    <tr>\n",
              "      <th>3</th>\n",
              "      <td>1963</td>\n",
              "      <td>188483000</td>\n",
              "      <td>4109500</td>\n",
              "      <td>316970</td>\n",
              "      <td>3792500</td>\n",
              "      <td>8640</td>\n",
              "      <td>17650</td>\n",
              "      <td>116470</td>\n",
              "      <td>174210</td>\n",
              "      <td>1086400</td>\n",
              "      <td>2297800</td>\n",
              "      <td>408300</td>\n",
              "    </tr>\n",
              "    <tr>\n",
              "      <th>4</th>\n",
              "      <td>1964</td>\n",
              "      <td>191141000</td>\n",
              "      <td>4564600</td>\n",
              "      <td>364220</td>\n",
              "      <td>4200400</td>\n",
              "      <td>9360</td>\n",
              "      <td>21420</td>\n",
              "      <td>130390</td>\n",
              "      <td>203050</td>\n",
              "      <td>1213200</td>\n",
              "      <td>2514400</td>\n",
              "      <td>472800</td>\n",
              "    </tr>\n",
              "  </tbody>\n",
              "</table>\n",
              "</div>"
            ],
            "text/plain": [
              "   Year  Population    Total  Violent  Property  Murder  Forcible_Rape  \\\n",
              "0  1960   179323175  3384200   288460   3095700    9110          17190   \n",
              "1  1961   182992000  3488000   289390   3198600    8740          17220   \n",
              "2  1962   185771000  3752200   301510   3450700    8530          17550   \n",
              "3  1963   188483000  4109500   316970   3792500    8640          17650   \n",
              "4  1964   191141000  4564600   364220   4200400    9360          21420   \n",
              "\n",
              "   Robbery  Aggravated_assault  Burglary  Larceny_Theft  Vehicle_Theft  \n",
              "0   107840              154320    912100        1855400         328200  \n",
              "1   106670              156760    949600        1913000         336000  \n",
              "2   110860              164570    994300        2089600         366800  \n",
              "3   116470              174210   1086400        2297800         408300  \n",
              "4   130390              203050   1213200        2514400         472800  "
            ]
          },
          "execution_count": 423,
          "metadata": {},
          "output_type": "execute_result"
        }
      ],
      "source": [
        "#read your data and display first 5 rows\n",
        "crime=pd.read_csv('./data/crime.csv')\n",
        "crime.head()"
      ]
    },
    {
      "cell_type": "markdown",
      "metadata": {
        "id": "bSCl3-l4KLw4"
      },
      "source": [
        "Step 1. What is the type of the columns?"
      ]
    },
    {
      "cell_type": "code",
      "execution_count": 424,
      "metadata": {
        "id": "q9M3wLuFKOhM"
      },
      "outputs": [
        {
          "data": {
            "text/plain": [
              "Year                  int64\n",
              "Population            int64\n",
              "Total                 int64\n",
              "Violent               int64\n",
              "Property              int64\n",
              "Murder                int64\n",
              "Forcible_Rape         int64\n",
              "Robbery               int64\n",
              "Aggravated_assault    int64\n",
              "Burglary              int64\n",
              "Larceny_Theft         int64\n",
              "Vehicle_Theft         int64\n",
              "dtype: object"
            ]
          },
          "execution_count": 424,
          "metadata": {},
          "output_type": "execute_result"
        }
      ],
      "source": [
        "crime.dtypes"
      ]
    },
    {
      "cell_type": "markdown",
      "metadata": {
        "id": "62oVtBLLKO5j"
      },
      "source": [
        "Step 2. Convert the type of the column Year to datetime64"
      ]
    },
    {
      "cell_type": "code",
      "execution_count": 425,
      "metadata": {
        "id": "3nPkYdmiKRCN"
      },
      "outputs": [],
      "source": [
        "crime['Year'] = pd.to_datetime(crime['Year'], format='%Y')"
      ]
    },
    {
      "cell_type": "markdown",
      "metadata": {
        "id": "veedYJNLKS4p"
      },
      "source": [
        "Step 3. Set the Year column as the index of the dataframe"
      ]
    },
    {
      "cell_type": "code",
      "execution_count": 426,
      "metadata": {
        "id": "bakyTJNpKTwt"
      },
      "outputs": [
        {
          "data": {
            "text/html": [
              "<div>\n",
              "<style scoped>\n",
              "    .dataframe tbody tr th:only-of-type {\n",
              "        vertical-align: middle;\n",
              "    }\n",
              "\n",
              "    .dataframe tbody tr th {\n",
              "        vertical-align: top;\n",
              "    }\n",
              "\n",
              "    .dataframe thead th {\n",
              "        text-align: right;\n",
              "    }\n",
              "</style>\n",
              "<table border=\"1\" class=\"dataframe\">\n",
              "  <thead>\n",
              "    <tr style=\"text-align: right;\">\n",
              "      <th></th>\n",
              "      <th>Population</th>\n",
              "      <th>Total</th>\n",
              "      <th>Violent</th>\n",
              "      <th>Property</th>\n",
              "      <th>Murder</th>\n",
              "      <th>Forcible_Rape</th>\n",
              "      <th>Robbery</th>\n",
              "      <th>Aggravated_assault</th>\n",
              "      <th>Burglary</th>\n",
              "      <th>Larceny_Theft</th>\n",
              "      <th>Vehicle_Theft</th>\n",
              "    </tr>\n",
              "    <tr>\n",
              "      <th>Year</th>\n",
              "      <th></th>\n",
              "      <th></th>\n",
              "      <th></th>\n",
              "      <th></th>\n",
              "      <th></th>\n",
              "      <th></th>\n",
              "      <th></th>\n",
              "      <th></th>\n",
              "      <th></th>\n",
              "      <th></th>\n",
              "      <th></th>\n",
              "    </tr>\n",
              "  </thead>\n",
              "  <tbody>\n",
              "    <tr>\n",
              "      <th>1960-01-01</th>\n",
              "      <td>179323175</td>\n",
              "      <td>3384200</td>\n",
              "      <td>288460</td>\n",
              "      <td>3095700</td>\n",
              "      <td>9110</td>\n",
              "      <td>17190</td>\n",
              "      <td>107840</td>\n",
              "      <td>154320</td>\n",
              "      <td>912100</td>\n",
              "      <td>1855400</td>\n",
              "      <td>328200</td>\n",
              "    </tr>\n",
              "    <tr>\n",
              "      <th>1961-01-01</th>\n",
              "      <td>182992000</td>\n",
              "      <td>3488000</td>\n",
              "      <td>289390</td>\n",
              "      <td>3198600</td>\n",
              "      <td>8740</td>\n",
              "      <td>17220</td>\n",
              "      <td>106670</td>\n",
              "      <td>156760</td>\n",
              "      <td>949600</td>\n",
              "      <td>1913000</td>\n",
              "      <td>336000</td>\n",
              "    </tr>\n",
              "    <tr>\n",
              "      <th>1962-01-01</th>\n",
              "      <td>185771000</td>\n",
              "      <td>3752200</td>\n",
              "      <td>301510</td>\n",
              "      <td>3450700</td>\n",
              "      <td>8530</td>\n",
              "      <td>17550</td>\n",
              "      <td>110860</td>\n",
              "      <td>164570</td>\n",
              "      <td>994300</td>\n",
              "      <td>2089600</td>\n",
              "      <td>366800</td>\n",
              "    </tr>\n",
              "    <tr>\n",
              "      <th>1963-01-01</th>\n",
              "      <td>188483000</td>\n",
              "      <td>4109500</td>\n",
              "      <td>316970</td>\n",
              "      <td>3792500</td>\n",
              "      <td>8640</td>\n",
              "      <td>17650</td>\n",
              "      <td>116470</td>\n",
              "      <td>174210</td>\n",
              "      <td>1086400</td>\n",
              "      <td>2297800</td>\n",
              "      <td>408300</td>\n",
              "    </tr>\n",
              "    <tr>\n",
              "      <th>1964-01-01</th>\n",
              "      <td>191141000</td>\n",
              "      <td>4564600</td>\n",
              "      <td>364220</td>\n",
              "      <td>4200400</td>\n",
              "      <td>9360</td>\n",
              "      <td>21420</td>\n",
              "      <td>130390</td>\n",
              "      <td>203050</td>\n",
              "      <td>1213200</td>\n",
              "      <td>2514400</td>\n",
              "      <td>472800</td>\n",
              "    </tr>\n",
              "  </tbody>\n",
              "</table>\n",
              "</div>"
            ],
            "text/plain": [
              "            Population    Total  Violent  Property  Murder  Forcible_Rape  \\\n",
              "Year                                                                        \n",
              "1960-01-01   179323175  3384200   288460   3095700    9110          17190   \n",
              "1961-01-01   182992000  3488000   289390   3198600    8740          17220   \n",
              "1962-01-01   185771000  3752200   301510   3450700    8530          17550   \n",
              "1963-01-01   188483000  4109500   316970   3792500    8640          17650   \n",
              "1964-01-01   191141000  4564600   364220   4200400    9360          21420   \n",
              "\n",
              "            Robbery  Aggravated_assault  Burglary  Larceny_Theft  \\\n",
              "Year                                                               \n",
              "1960-01-01   107840              154320    912100        1855400   \n",
              "1961-01-01   106670              156760    949600        1913000   \n",
              "1962-01-01   110860              164570    994300        2089600   \n",
              "1963-01-01   116470              174210   1086400        2297800   \n",
              "1964-01-01   130390              203050   1213200        2514400   \n",
              "\n",
              "            Vehicle_Theft  \n",
              "Year                       \n",
              "1960-01-01         328200  \n",
              "1961-01-01         336000  \n",
              "1962-01-01         366800  \n",
              "1963-01-01         408300  \n",
              "1964-01-01         472800  "
            ]
          },
          "execution_count": 426,
          "metadata": {},
          "output_type": "execute_result"
        }
      ],
      "source": [
        "crime.set_index('Year', inplace=True)\n",
        "crime.head()"
      ]
    },
    {
      "cell_type": "markdown",
      "metadata": {
        "id": "LfT8DU-wKVoJ"
      },
      "source": [
        "Step 4. Delete the Total column"
      ]
    },
    {
      "cell_type": "code",
      "execution_count": 427,
      "metadata": {
        "id": "_LARkBheKWNp"
      },
      "outputs": [],
      "source": [
        "crime.drop(columns='Total',inplace=True)"
      ]
    },
    {
      "cell_type": "markdown",
      "metadata": {
        "id": "lLGD7y1AKYCK"
      },
      "source": [
        "Step 5. Group the year by decades and sum the values.\n",
        "\n",
        "***Pay attention to the Population column number, summing this column is a mistake***"
      ]
    },
    {
      "cell_type": "code",
      "execution_count": 428,
      "metadata": {},
      "outputs": [
        {
          "data": {
            "text/html": [
              "<div>\n",
              "<style scoped>\n",
              "    .dataframe tbody tr th:only-of-type {\n",
              "        vertical-align: middle;\n",
              "    }\n",
              "\n",
              "    .dataframe tbody tr th {\n",
              "        vertical-align: top;\n",
              "    }\n",
              "\n",
              "    .dataframe thead th {\n",
              "        text-align: right;\n",
              "    }\n",
              "</style>\n",
              "<table border=\"1\" class=\"dataframe\">\n",
              "  <thead>\n",
              "    <tr style=\"text-align: right;\">\n",
              "      <th></th>\n",
              "      <th>Population</th>\n",
              "      <th>Violent</th>\n",
              "      <th>Property</th>\n",
              "      <th>Murder</th>\n",
              "      <th>Forcible_Rape</th>\n",
              "      <th>Robbery</th>\n",
              "      <th>Aggravated_assault</th>\n",
              "      <th>Burglary</th>\n",
              "      <th>Larceny_Theft</th>\n",
              "      <th>Vehicle_Theft</th>\n",
              "    </tr>\n",
              "    <tr>\n",
              "      <th>Decade</th>\n",
              "      <th></th>\n",
              "      <th></th>\n",
              "      <th></th>\n",
              "      <th></th>\n",
              "      <th></th>\n",
              "      <th></th>\n",
              "      <th></th>\n",
              "      <th></th>\n",
              "      <th></th>\n",
              "      <th></th>\n",
              "    </tr>\n",
              "  </thead>\n",
              "  <tbody>\n",
              "    <tr>\n",
              "      <th>1960</th>\n",
              "      <td>1915053175</td>\n",
              "      <td>4134930</td>\n",
              "      <td>45160900</td>\n",
              "      <td>106180</td>\n",
              "      <td>236720</td>\n",
              "      <td>1633510</td>\n",
              "      <td>2158520</td>\n",
              "      <td>13321100</td>\n",
              "      <td>26547700</td>\n",
              "      <td>5292100</td>\n",
              "    </tr>\n",
              "    <tr>\n",
              "      <th>1970</th>\n",
              "      <td>2121193298</td>\n",
              "      <td>9607930</td>\n",
              "      <td>91383800</td>\n",
              "      <td>192230</td>\n",
              "      <td>554570</td>\n",
              "      <td>4159020</td>\n",
              "      <td>4702120</td>\n",
              "      <td>28486000</td>\n",
              "      <td>53157800</td>\n",
              "      <td>9739900</td>\n",
              "    </tr>\n",
              "    <tr>\n",
              "      <th>1980</th>\n",
              "      <td>2371370069</td>\n",
              "      <td>14074328</td>\n",
              "      <td>117048900</td>\n",
              "      <td>206439</td>\n",
              "      <td>865639</td>\n",
              "      <td>5383109</td>\n",
              "      <td>7619130</td>\n",
              "      <td>33073494</td>\n",
              "      <td>72040253</td>\n",
              "      <td>11935411</td>\n",
              "    </tr>\n",
              "    <tr>\n",
              "      <th>1990</th>\n",
              "      <td>2612825258</td>\n",
              "      <td>17527048</td>\n",
              "      <td>119053499</td>\n",
              "      <td>211664</td>\n",
              "      <td>998827</td>\n",
              "      <td>5748930</td>\n",
              "      <td>10568963</td>\n",
              "      <td>26750015</td>\n",
              "      <td>77679366</td>\n",
              "      <td>14624418</td>\n",
              "    </tr>\n",
              "    <tr>\n",
              "      <th>2000</th>\n",
              "      <td>2947969117</td>\n",
              "      <td>13968056</td>\n",
              "      <td>100944369</td>\n",
              "      <td>163068</td>\n",
              "      <td>922499</td>\n",
              "      <td>4230366</td>\n",
              "      <td>8652124</td>\n",
              "      <td>21565176</td>\n",
              "      <td>67970291</td>\n",
              "      <td>11412834</td>\n",
              "    </tr>\n",
              "    <tr>\n",
              "      <th>2010</th>\n",
              "      <td>1570146307</td>\n",
              "      <td>6072017</td>\n",
              "      <td>44095950</td>\n",
              "      <td>72867</td>\n",
              "      <td>421059</td>\n",
              "      <td>1749809</td>\n",
              "      <td>3764142</td>\n",
              "      <td>10125170</td>\n",
              "      <td>30401698</td>\n",
              "      <td>3569080</td>\n",
              "    </tr>\n",
              "  </tbody>\n",
              "</table>\n",
              "</div>"
            ],
            "text/plain": [
              "        Population   Violent   Property  Murder  Forcible_Rape  Robbery  \\\n",
              "Decade                                                                    \n",
              "1960    1915053175   4134930   45160900  106180         236720  1633510   \n",
              "1970    2121193298   9607930   91383800  192230         554570  4159020   \n",
              "1980    2371370069  14074328  117048900  206439         865639  5383109   \n",
              "1990    2612825258  17527048  119053499  211664         998827  5748930   \n",
              "2000    2947969117  13968056  100944369  163068         922499  4230366   \n",
              "2010    1570146307   6072017   44095950   72867         421059  1749809   \n",
              "\n",
              "        Aggravated_assault  Burglary  Larceny_Theft  Vehicle_Theft  \n",
              "Decade                                                              \n",
              "1960               2158520  13321100       26547700        5292100  \n",
              "1970               4702120  28486000       53157800        9739900  \n",
              "1980               7619130  33073494       72040253       11935411  \n",
              "1990              10568963  26750015       77679366       14624418  \n",
              "2000               8652124  21565176       67970291       11412834  \n",
              "2010               3764142  10125170       30401698        3569080  "
            ]
          },
          "execution_count": 428,
          "metadata": {},
          "output_type": "execute_result"
        }
      ],
      "source": [
        "crime['Decade'] = (crime.index.year // 10) * 10\n",
        "# Group by decade and sum the values\n",
        "decade_summary = crime.groupby('Decade').sum()\n",
        "decade_summary"
      ]
    },
    {
      "cell_type": "code",
      "execution_count": 430,
      "metadata": {},
      "outputs": [
        {
          "name": "stdout",
          "output_type": "stream",
          "text": [
            "int64\n"
          ]
        }
      ],
      "source": [
        "print(crime['Population'].dtype)  # Check the data type of the Population column"
      ]
    },
    {
      "cell_type": "markdown",
      "metadata": {
        "id": "aL0-3izoKtdi"
      },
      "source": [
        "Bonus Question: What is the most dangerous decade to live in the US?"
      ]
    },
    {
      "cell_type": "code",
      "execution_count": 431,
      "metadata": {},
      "outputs": [
        {
          "data": {
            "text/html": [
              "<div>\n",
              "<style scoped>\n",
              "    .dataframe tbody tr th:only-of-type {\n",
              "        vertical-align: middle;\n",
              "    }\n",
              "\n",
              "    .dataframe tbody tr th {\n",
              "        vertical-align: top;\n",
              "    }\n",
              "\n",
              "    .dataframe thead th {\n",
              "        text-align: right;\n",
              "    }\n",
              "</style>\n",
              "<table border=\"1\" class=\"dataframe\">\n",
              "  <thead>\n",
              "    <tr style=\"text-align: right;\">\n",
              "      <th></th>\n",
              "      <th>Population</th>\n",
              "      <th>Violent</th>\n",
              "      <th>Property</th>\n",
              "      <th>Murder</th>\n",
              "      <th>Forcible_Rape</th>\n",
              "      <th>Robbery</th>\n",
              "      <th>Aggravated_assault</th>\n",
              "      <th>Burglary</th>\n",
              "      <th>Larceny_Theft</th>\n",
              "      <th>Vehicle_Theft</th>\n",
              "      <th>Decade</th>\n",
              "    </tr>\n",
              "    <tr>\n",
              "      <th>Year</th>\n",
              "      <th></th>\n",
              "      <th></th>\n",
              "      <th></th>\n",
              "      <th></th>\n",
              "      <th></th>\n",
              "      <th></th>\n",
              "      <th></th>\n",
              "      <th></th>\n",
              "      <th></th>\n",
              "      <th></th>\n",
              "      <th></th>\n",
              "    </tr>\n",
              "  </thead>\n",
              "  <tbody>\n",
              "    <tr>\n",
              "      <th>1960-01-01</th>\n",
              "      <td>179323175</td>\n",
              "      <td>288460</td>\n",
              "      <td>3095700</td>\n",
              "      <td>9110</td>\n",
              "      <td>17190</td>\n",
              "      <td>107840</td>\n",
              "      <td>154320</td>\n",
              "      <td>912100</td>\n",
              "      <td>1855400</td>\n",
              "      <td>328200</td>\n",
              "      <td>1960</td>\n",
              "    </tr>\n",
              "    <tr>\n",
              "      <th>1961-01-01</th>\n",
              "      <td>182992000</td>\n",
              "      <td>289390</td>\n",
              "      <td>3198600</td>\n",
              "      <td>8740</td>\n",
              "      <td>17220</td>\n",
              "      <td>106670</td>\n",
              "      <td>156760</td>\n",
              "      <td>949600</td>\n",
              "      <td>1913000</td>\n",
              "      <td>336000</td>\n",
              "      <td>1960</td>\n",
              "    </tr>\n",
              "    <tr>\n",
              "      <th>1962-01-01</th>\n",
              "      <td>185771000</td>\n",
              "      <td>301510</td>\n",
              "      <td>3450700</td>\n",
              "      <td>8530</td>\n",
              "      <td>17550</td>\n",
              "      <td>110860</td>\n",
              "      <td>164570</td>\n",
              "      <td>994300</td>\n",
              "      <td>2089600</td>\n",
              "      <td>366800</td>\n",
              "      <td>1960</td>\n",
              "    </tr>\n",
              "    <tr>\n",
              "      <th>1963-01-01</th>\n",
              "      <td>188483000</td>\n",
              "      <td>316970</td>\n",
              "      <td>3792500</td>\n",
              "      <td>8640</td>\n",
              "      <td>17650</td>\n",
              "      <td>116470</td>\n",
              "      <td>174210</td>\n",
              "      <td>1086400</td>\n",
              "      <td>2297800</td>\n",
              "      <td>408300</td>\n",
              "      <td>1960</td>\n",
              "    </tr>\n",
              "    <tr>\n",
              "      <th>1964-01-01</th>\n",
              "      <td>191141000</td>\n",
              "      <td>364220</td>\n",
              "      <td>4200400</td>\n",
              "      <td>9360</td>\n",
              "      <td>21420</td>\n",
              "      <td>130390</td>\n",
              "      <td>203050</td>\n",
              "      <td>1213200</td>\n",
              "      <td>2514400</td>\n",
              "      <td>472800</td>\n",
              "      <td>1960</td>\n",
              "    </tr>\n",
              "  </tbody>\n",
              "</table>\n",
              "</div>"
            ],
            "text/plain": [
              "            Population  Violent  Property  Murder  Forcible_Rape  Robbery  \\\n",
              "Year                                                                        \n",
              "1960-01-01   179323175   288460   3095700    9110          17190   107840   \n",
              "1961-01-01   182992000   289390   3198600    8740          17220   106670   \n",
              "1962-01-01   185771000   301510   3450700    8530          17550   110860   \n",
              "1963-01-01   188483000   316970   3792500    8640          17650   116470   \n",
              "1964-01-01   191141000   364220   4200400    9360          21420   130390   \n",
              "\n",
              "            Aggravated_assault  Burglary  Larceny_Theft  Vehicle_Theft  Decade  \n",
              "Year                                                                            \n",
              "1960-01-01              154320    912100        1855400         328200    1960  \n",
              "1961-01-01              156760    949600        1913000         336000    1960  \n",
              "1962-01-01              164570    994300        2089600         366800    1960  \n",
              "1963-01-01              174210   1086400        2297800         408300    1960  \n",
              "1964-01-01              203050   1213200        2514400         472800    1960  "
            ]
          },
          "execution_count": 431,
          "metadata": {},
          "output_type": "execute_result"
        }
      ],
      "source": [
        "crime.head()"
      ]
    },
    {
      "cell_type": "code",
      "execution_count": 432,
      "metadata": {
        "id": "f69hQhqyKyA6"
      },
      "outputs": [
        {
          "data": {
            "text/plain": [
              "1990"
            ]
          },
          "execution_count": 432,
          "metadata": {},
          "output_type": "execute_result"
        }
      ],
      "source": [
        "#Hint: Violent shows how dangerous the decade is\n",
        "dangrous_decade=crime.groupby('Decade')['Violent'].max()\n",
        "dangrous_decade.idxmax()"
      ]
    },
    {
      "cell_type": "markdown",
      "metadata": {
        "id": "BwuL9FjwLdiE"
      },
      "source": [
        "### **PART 5 - MERGE/JOIN**"
      ]
    },
    {
      "cell_type": "markdown",
      "metadata": {
        "id": "50Z5E0mdLhc9"
      },
      "source": [
        "For this one, we will create our own dataset."
      ]
    },
    {
      "cell_type": "markdown",
      "metadata": {
        "id": "oQlSC7XkMUK7"
      },
      "source": [
        "We will be dealing with both Numpy and Pandas in this one.\n",
        "\n",
        "Step 1. Import the necessary libraries"
      ]
    },
    {
      "cell_type": "code",
      "execution_count": 433,
      "metadata": {
        "id": "rzFrJ628Lg4s"
      },
      "outputs": [],
      "source": [
        "import numpy as np\n",
        "import pandas as pd"
      ]
    },
    {
      "cell_type": "markdown",
      "metadata": {
        "id": "rEbB1gibMdzW"
      },
      "source": [
        "Step 2. **Create 3 differents Series, each of length 100, as follows:**\n",
        "\n",
        "1. The first a random number from 1 to 4\n",
        "\n",
        "2. The second a random number from 1 to 3\n",
        "\n",
        "3. The third a random number from 10,000 to 30,000"
      ]
    },
    {
      "cell_type": "code",
      "execution_count": 434,
      "metadata": {
        "id": "YvIeY7FtMoA_"
      },
      "outputs": [],
      "source": [
        "#name them s1,s2,s3\n",
        "# Create the first Series with random integers from 1 to 4\n",
        "np.random.seed(0)\n",
        "s1 = pd.Series(np.random.randint(1, 5, size=100))\n",
        "s2 = pd.Series(np.random.randint(1, 4, size=100))\n",
        "s3 = pd.Series(np.random.randint(10000, 30001, size=100))"
      ]
    },
    {
      "cell_type": "markdown",
      "metadata": {
        "id": "dOLtPRsjMqxu"
      },
      "source": [
        "Step 3. Let's create a DataFrame by joinning the Series by column."
      ]
    },
    {
      "cell_type": "code",
      "execution_count": 435,
      "metadata": {
        "id": "blg2KwThMwsG"
      },
      "outputs": [
        {
          "data": {
            "text/html": [
              "<div>\n",
              "<style scoped>\n",
              "    .dataframe tbody tr th:only-of-type {\n",
              "        vertical-align: middle;\n",
              "    }\n",
              "\n",
              "    .dataframe tbody tr th {\n",
              "        vertical-align: top;\n",
              "    }\n",
              "\n",
              "    .dataframe thead th {\n",
              "        text-align: right;\n",
              "    }\n",
              "</style>\n",
              "<table border=\"1\" class=\"dataframe\">\n",
              "  <thead>\n",
              "    <tr style=\"text-align: right;\">\n",
              "      <th></th>\n",
              "      <th>First</th>\n",
              "      <th>Second</th>\n",
              "      <th>Third</th>\n",
              "    </tr>\n",
              "  </thead>\n",
              "  <tbody>\n",
              "    <tr>\n",
              "      <th>0</th>\n",
              "      <td>1</td>\n",
              "      <td>2</td>\n",
              "      <td>15021</td>\n",
              "    </tr>\n",
              "    <tr>\n",
              "      <th>1</th>\n",
              "      <td>4</td>\n",
              "      <td>3</td>\n",
              "      <td>11134</td>\n",
              "    </tr>\n",
              "    <tr>\n",
              "      <th>2</th>\n",
              "      <td>2</td>\n",
              "      <td>1</td>\n",
              "      <td>26409</td>\n",
              "    </tr>\n",
              "    <tr>\n",
              "      <th>3</th>\n",
              "      <td>1</td>\n",
              "      <td>1</td>\n",
              "      <td>19680</td>\n",
              "    </tr>\n",
              "    <tr>\n",
              "      <th>4</th>\n",
              "      <td>4</td>\n",
              "      <td>3</td>\n",
              "      <td>27340</td>\n",
              "    </tr>\n",
              "    <tr>\n",
              "      <th>...</th>\n",
              "      <td>...</td>\n",
              "      <td>...</td>\n",
              "      <td>...</td>\n",
              "    </tr>\n",
              "    <tr>\n",
              "      <th>95</th>\n",
              "      <td>1</td>\n",
              "      <td>2</td>\n",
              "      <td>28161</td>\n",
              "    </tr>\n",
              "    <tr>\n",
              "      <th>96</th>\n",
              "      <td>3</td>\n",
              "      <td>2</td>\n",
              "      <td>29745</td>\n",
              "    </tr>\n",
              "    <tr>\n",
              "      <th>97</th>\n",
              "      <td>4</td>\n",
              "      <td>1</td>\n",
              "      <td>18338</td>\n",
              "    </tr>\n",
              "    <tr>\n",
              "      <th>98</th>\n",
              "      <td>2</td>\n",
              "      <td>1</td>\n",
              "      <td>24676</td>\n",
              "    </tr>\n",
              "    <tr>\n",
              "      <th>99</th>\n",
              "      <td>1</td>\n",
              "      <td>1</td>\n",
              "      <td>12562</td>\n",
              "    </tr>\n",
              "  </tbody>\n",
              "</table>\n",
              "<p>100 rows × 3 columns</p>\n",
              "</div>"
            ],
            "text/plain": [
              "    First  Second  Third\n",
              "0       1       2  15021\n",
              "1       4       3  11134\n",
              "2       2       1  26409\n",
              "3       1       1  19680\n",
              "4       4       3  27340\n",
              "..    ...     ...    ...\n",
              "95      1       2  28161\n",
              "96      3       2  29745\n",
              "97      4       1  18338\n",
              "98      2       1  24676\n",
              "99      1       1  12562\n",
              "\n",
              "[100 rows x 3 columns]"
            ]
          },
          "execution_count": 435,
          "metadata": {},
          "output_type": "execute_result"
        }
      ],
      "source": [
        "#try concat, but figure out the axis on your own :)\n",
        "# Create a DataFrame by joining the Series\n",
        "series = pd.DataFrame({\n",
        "    'First': s1,\n",
        "    'Second': s2,\n",
        "    'Third': s3\n",
        "})\n",
        "series"
      ]
    },
    {
      "cell_type": "markdown",
      "metadata": {
        "id": "BlhZlpa6M0Ao"
      },
      "source": [
        "Step 4. Change the name of the columns to bedrs, bathrs, price_sqr_meter"
      ]
    },
    {
      "cell_type": "code",
      "execution_count": 436,
      "metadata": {
        "id": "kKnzueLXM2Hd"
      },
      "outputs": [],
      "source": [
        "series.columns=['bedrs','bathrs','price_square_meter']"
      ]
    },
    {
      "cell_type": "markdown",
      "metadata": {
        "id": "cPh1av2KM2iA"
      },
      "source": [
        "Step 5. Create a one column DataFrame with the values of the 3 Series and assign it to 'bigcolumn'"
      ]
    },
    {
      "cell_type": "code",
      "execution_count": 437,
      "metadata": {},
      "outputs": [
        {
          "data": {
            "text/plain": [
              "(0     1\n",
              " 1     4\n",
              " 2     2\n",
              " 3     1\n",
              " 4     4\n",
              "      ..\n",
              " 95    1\n",
              " 96    3\n",
              " 97    4\n",
              " 98    2\n",
              " 99    1\n",
              " Length: 100, dtype: int32,\n",
              " 0     2\n",
              " 1     3\n",
              " 2     1\n",
              " 3     1\n",
              " 4     3\n",
              "      ..\n",
              " 95    2\n",
              " 96    2\n",
              " 97    1\n",
              " 98    1\n",
              " 99    1\n",
              " Length: 100, dtype: int32,\n",
              " 0     15021\n",
              " 1     11134\n",
              " 2     26409\n",
              " 3     19680\n",
              " 4     27340\n",
              "       ...  \n",
              " 95    28161\n",
              " 96    29745\n",
              " 97    18338\n",
              " 98    24676\n",
              " 99    12562\n",
              " Length: 100, dtype: int32)"
            ]
          },
          "execution_count": 437,
          "metadata": {},
          "output_type": "execute_result"
        }
      ],
      "source": [
        "np.random.seed(0)\n",
        "# Sample data\n",
        "series1 = pd.Series(np.random.randint(1, 5, size=100))\n",
        "series2 = pd.Series(np.random.randint(1, 4, size=100))\n",
        "series3 = pd.Series(np.random.randint(10000, 30001, size=100))\n",
        "\n",
        "# Concatenate the Series into a single DataFrame\n",
        "bigcolumn =series1,series2,series3\n",
        "bigcolumn"
      ]
    },
    {
      "cell_type": "code",
      "execution_count": 438,
      "metadata": {
        "id": "3ipK5WkAM6J6"
      },
      "outputs": [
        {
          "data": {
            "text/html": [
              "<div>\n",
              "<style scoped>\n",
              "    .dataframe tbody tr th:only-of-type {\n",
              "        vertical-align: middle;\n",
              "    }\n",
              "\n",
              "    .dataframe tbody tr th {\n",
              "        vertical-align: top;\n",
              "    }\n",
              "\n",
              "    .dataframe thead th {\n",
              "        text-align: right;\n",
              "    }\n",
              "</style>\n",
              "<table border=\"1\" class=\"dataframe\">\n",
              "  <thead>\n",
              "    <tr style=\"text-align: right;\">\n",
              "      <th></th>\n",
              "      <th>Values</th>\n",
              "    </tr>\n",
              "  </thead>\n",
              "  <tbody>\n",
              "    <tr>\n",
              "      <th>0</th>\n",
              "      <td>1</td>\n",
              "    </tr>\n",
              "    <tr>\n",
              "      <th>1</th>\n",
              "      <td>4</td>\n",
              "    </tr>\n",
              "    <tr>\n",
              "      <th>2</th>\n",
              "      <td>2</td>\n",
              "    </tr>\n",
              "    <tr>\n",
              "      <th>3</th>\n",
              "      <td>1</td>\n",
              "    </tr>\n",
              "    <tr>\n",
              "      <th>4</th>\n",
              "      <td>4</td>\n",
              "    </tr>\n",
              "    <tr>\n",
              "      <th>...</th>\n",
              "      <td>...</td>\n",
              "    </tr>\n",
              "    <tr>\n",
              "      <th>95</th>\n",
              "      <td>28161</td>\n",
              "    </tr>\n",
              "    <tr>\n",
              "      <th>96</th>\n",
              "      <td>29745</td>\n",
              "    </tr>\n",
              "    <tr>\n",
              "      <th>97</th>\n",
              "      <td>18338</td>\n",
              "    </tr>\n",
              "    <tr>\n",
              "      <th>98</th>\n",
              "      <td>24676</td>\n",
              "    </tr>\n",
              "    <tr>\n",
              "      <th>99</th>\n",
              "      <td>12562</td>\n",
              "    </tr>\n",
              "  </tbody>\n",
              "</table>\n",
              "<p>300 rows × 1 columns</p>\n",
              "</div>"
            ],
            "text/plain": [
              "    Values\n",
              "0        1\n",
              "1        4\n",
              "2        2\n",
              "3        1\n",
              "4        4\n",
              "..     ...\n",
              "95   28161\n",
              "96   29745\n",
              "97   18338\n",
              "98   24676\n",
              "99   12562\n",
              "\n",
              "[300 rows x 1 columns]"
            ]
          },
          "execution_count": 438,
          "metadata": {},
          "output_type": "execute_result"
        }
      ],
      "source": [
        "#join concat the values but still change the series into a df as well\n",
        "df=pd.DataFrame(pd.concat([series1, series2, series3]), columns=['Values'])\n",
        "df"
      ]
    },
    {
      "cell_type": "markdown",
      "metadata": {
        "id": "CpjoY66-M_jo"
      },
      "source": [
        "Oops, it seems it is going only until index 99. Is it true?"
      ]
    },
    {
      "cell_type": "code",
      "execution_count": 441,
      "metadata": {
        "id": "SiwTsOUENBYP"
      },
      "outputs": [
        {
          "data": {
            "text/plain": [
              "'Yes, the index stops at 99 because each of the three Series has its own index range of 0 to 99. \\nWhen they are concatenated using pd.concat without resetting the index, the \\nDataFrame retains the original indices of each Series, \\nleading to duplicate indices rather than a continuous range from 0 to 299.'"
            ]
          },
          "execution_count": 441,
          "metadata": {},
          "output_type": "execute_result"
        }
      ],
      "source": [
        "#This question warrants a theoretical response. No code is required in this cell block\n",
        "\n",
        "#If no, then why not?\n",
        "\n",
        "#If yes, then why yes?\n",
        "'''Yes, the index stops at 99 because each of the three Series has its own index range of 0 to 99. \n",
        "When they are concatenated using pd.concat without resetting the index, the \n",
        "DataFrame retains the original indices of each Series, \n",
        "leading to duplicate indices rather than a continuous range from 0 to 299.'''"
      ]
    },
    {
      "cell_type": "markdown",
      "metadata": {
        "id": "MKxE5QMMNe1h"
      },
      "source": [
        "Step 6. Reindex the DataFrame so it goes from 0 to 299"
      ]
    },
    {
      "cell_type": "code",
      "execution_count": 440,
      "metadata": {
        "id": "LhDUUeIXNjNJ"
      },
      "outputs": [
        {
          "data": {
            "text/html": [
              "<div>\n",
              "<style scoped>\n",
              "    .dataframe tbody tr th:only-of-type {\n",
              "        vertical-align: middle;\n",
              "    }\n",
              "\n",
              "    .dataframe tbody tr th {\n",
              "        vertical-align: top;\n",
              "    }\n",
              "\n",
              "    .dataframe thead th {\n",
              "        text-align: right;\n",
              "    }\n",
              "</style>\n",
              "<table border=\"1\" class=\"dataframe\">\n",
              "  <thead>\n",
              "    <tr style=\"text-align: right;\">\n",
              "      <th></th>\n",
              "      <th>Values</th>\n",
              "    </tr>\n",
              "  </thead>\n",
              "  <tbody>\n",
              "    <tr>\n",
              "      <th>0</th>\n",
              "      <td>1</td>\n",
              "    </tr>\n",
              "    <tr>\n",
              "      <th>1</th>\n",
              "      <td>4</td>\n",
              "    </tr>\n",
              "    <tr>\n",
              "      <th>2</th>\n",
              "      <td>2</td>\n",
              "    </tr>\n",
              "    <tr>\n",
              "      <th>3</th>\n",
              "      <td>1</td>\n",
              "    </tr>\n",
              "    <tr>\n",
              "      <th>4</th>\n",
              "      <td>4</td>\n",
              "    </tr>\n",
              "    <tr>\n",
              "      <th>...</th>\n",
              "      <td>...</td>\n",
              "    </tr>\n",
              "    <tr>\n",
              "      <th>295</th>\n",
              "      <td>28161</td>\n",
              "    </tr>\n",
              "    <tr>\n",
              "      <th>296</th>\n",
              "      <td>29745</td>\n",
              "    </tr>\n",
              "    <tr>\n",
              "      <th>297</th>\n",
              "      <td>18338</td>\n",
              "    </tr>\n",
              "    <tr>\n",
              "      <th>298</th>\n",
              "      <td>24676</td>\n",
              "    </tr>\n",
              "    <tr>\n",
              "      <th>299</th>\n",
              "      <td>12562</td>\n",
              "    </tr>\n",
              "  </tbody>\n",
              "</table>\n",
              "<p>300 rows × 1 columns</p>\n",
              "</div>"
            ],
            "text/plain": [
              "     Values\n",
              "0         1\n",
              "1         4\n",
              "2         2\n",
              "3         1\n",
              "4         4\n",
              "..      ...\n",
              "295   28161\n",
              "296   29745\n",
              "297   18338\n",
              "298   24676\n",
              "299   12562\n",
              "\n",
              "[300 rows x 1 columns]"
            ]
          },
          "execution_count": 440,
          "metadata": {},
          "output_type": "execute_result"
        }
      ],
      "source": [
        "df = pd.DataFrame(pd.concat([series1, series2, series3], ignore_index=True), columns=['Values'])\n",
        "df"
      ]
    },
    {
      "cell_type": "markdown",
      "metadata": {
        "id": "yKVgffhUNvcp"
      },
      "source": [
        "### ***TA-DA. That's it. THE END!***"
      ]
    }
  ],
  "metadata": {
    "colab": {
      "provenance": []
    },
    "kernelspec": {
      "display_name": "python_eda",
      "language": "python",
      "name": "python3"
    },
    "language_info": {
      "codemirror_mode": {
        "name": "ipython",
        "version": 3
      },
      "file_extension": ".py",
      "mimetype": "text/x-python",
      "name": "python",
      "nbconvert_exporter": "python",
      "pygments_lexer": "ipython3",
      "version": "3.12.3"
    }
  },
  "nbformat": 4,
  "nbformat_minor": 0
}
