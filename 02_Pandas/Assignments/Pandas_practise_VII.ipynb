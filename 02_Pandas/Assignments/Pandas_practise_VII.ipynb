{
  "cells": [
    {
      "cell_type": "markdown",
      "metadata": {
        "id": "2PtM2eH8DZiX"
      },
      "source": [
        "# More on JSON\n",
        "\n",
        "Your are provided data of a company and its employess in Json formate.\n",
        "You need to perform EDA and solve the problems listed down."
      ]
    },
    {
      "cell_type": "code",
      "execution_count": 1,
      "metadata": {
        "id": "5ywZGhGIDxBt"
      },
      "outputs": [],
      "source": [
        "# Load Libraries\n",
        "import pandas as pd\n",
        "import numpy as np"
      ]
    },
    {
      "cell_type": "markdown",
      "metadata": {
        "id": "5b1RG3I5D1cE"
      },
      "source": [
        "**Question 1:**\n",
        "\n",
        "Retrieve and display the company's name and location from the JSON data."
      ]
    },
    {
      "cell_type": "code",
      "execution_count": 60,
      "metadata": {
        "id": "d0fHGFRCD-Kq"
      },
      "outputs": [
        {
          "data": {
            "text/plain": [
              "{'metadata': {'version': '1.0',\n",
              "  'description': 'Employee and Company Data',\n",
              "  'last_updated': '2023-09-30'},\n",
              " 'employees': [{'id': 1,\n",
              "   'firstName': 'John',\n",
              "   'lastName': 'Doe',\n",
              "   'position': 'Software Engineer',\n",
              "   'salary': 75000,\n",
              "   'email': 'john.doe@techcorp.com',\n",
              "   'hireDate': '2020-05-15',\n",
              "   'manager': 'Michael Brown',\n",
              "   'address': {'street': '123 Main St',\n",
              "    'city': 'San Francisco',\n",
              "    'state': 'CA',\n",
              "    'zipcode': '94101'}},\n",
              "  {'id': 2,\n",
              "   'firstName': 'Alice',\n",
              "   'lastName': 'Smith',\n",
              "   'position': 'Data Analyst',\n",
              "   'salary': 60000,\n",
              "   'email': 'alice.smith@techcorp.com',\n",
              "   'hireDate': '2019-08-22',\n",
              "   'manager': 'Michael Brown',\n",
              "   'address': {'street': '456 Elm St',\n",
              "    'city': 'San Francisco',\n",
              "    'state': 'CA',\n",
              "    'zipcode': '94102'}},\n",
              "  {'id': 3,\n",
              "   'firstName': 'Bob',\n",
              "   'lastName': 'Johnson',\n",
              "   'position': 'Product Manager',\n",
              "   'salary': 85000,\n",
              "   'email': 'bob.johnson@techcorp.com',\n",
              "   'hireDate': '2018-03-10',\n",
              "   'manager': 'Sarah Williams',\n",
              "   'address': {'street': '789 Oak St',\n",
              "    'city': 'San Francisco',\n",
              "    'state': 'CA',\n",
              "    'zipcode': '94103'}},\n",
              "  {'id': 4,\n",
              "   'firstName': 'Emily',\n",
              "   'lastName': 'Wilson',\n",
              "   'position': 'UX Designer',\n",
              "   'salary': 70000,\n",
              "   'email': 'emily.wilson@techcorp.com',\n",
              "   'hireDate': '2021-02-28',\n",
              "   'manager': 'Sarah Williams',\n",
              "   'address': {'street': '101 Pine St',\n",
              "    'city': 'San Francisco',\n",
              "    'state': 'CA',\n",
              "    'zipcode': '94104'}}],\n",
              " 'departments': {'engineering': ['John Doe', 'Alice Smith'],\n",
              "  'product_management': ['Bob Johnson', 'Emily Wilson'],\n",
              "  'design': ['Emily Wilson']},\n",
              " 'company_info': {'name': 'TechCorp',\n",
              "  'location': 'San Francisco, CA',\n",
              "  'foundedYear': 2000,\n",
              "  'ceo': 'Sarah Williams'},\n",
              " 'office_locations': {'san_francisco_hq': {'street': '500 Tech Plaza',\n",
              "   'city': 'San Francisco',\n",
              "   'state': 'CA',\n",
              "   'zipcode': '94105'},\n",
              "  'new_york_branch': {'street': '123 Wall St',\n",
              "   'city': 'New York',\n",
              "   'state': 'NY',\n",
              "   'zipcode': '10005'}},\n",
              " 'benefits': {'health_insurance': True,\n",
              "  'retirement_plan': True,\n",
              "  'vacation_days': 20}}"
            ]
          },
          "execution_count": 60,
          "metadata": {},
          "output_type": "execute_result"
        }
      ],
      "source": [
        "#code Here\n",
        "import json\n",
        "\n",
        "with open('./data/employee_company_data.json', 'r') as f:\n",
        "    data = json.load(f)\n",
        "data"
      ]
    },
    {
      "cell_type": "code",
      "execution_count": 61,
      "metadata": {},
      "outputs": [
        {
          "name": "stdout",
          "output_type": "stream",
          "text": [
            "<class 'dict'>\n",
            "dict_keys(['metadata', 'employees', 'departments', 'company_info', 'office_locations', 'benefits'])\n"
          ]
        }
      ],
      "source": [
        "print(type(data))\n",
        "print(data.keys())"
      ]
    },
    {
      "cell_type": "code",
      "execution_count": 62,
      "metadata": {},
      "outputs": [
        {
          "data": {
            "text/plain": [
              "{'version': '1.0',\n",
              " 'description': 'Employee and Company Data',\n",
              " 'last_updated': '2023-09-30'}"
            ]
          },
          "execution_count": 62,
          "metadata": {},
          "output_type": "execute_result"
        }
      ],
      "source": [
        "data['metadata']"
      ]
    },
    {
      "cell_type": "code",
      "execution_count": 63,
      "metadata": {},
      "outputs": [
        {
          "name": "stdout",
          "output_type": "stream",
          "text": [
            "<class 'list'>\n",
            "dict_keys(['id', 'firstName', 'lastName', 'position', 'salary', 'email', 'hireDate', 'manager', 'address'])\n",
            "{'id': 1, 'firstName': 'John', 'lastName': 'Doe', 'position': 'Software Engineer', 'salary': 75000, 'email': 'john.doe@techcorp.com', 'hireDate': '2020-05-15', 'manager': 'Michael Brown', 'address': {'street': '123 Main St', 'city': 'San Francisco', 'state': 'CA', 'zipcode': '94101'}}\n"
          ]
        }
      ],
      "source": [
        "#code Here\n",
        "print(type(data['employees']))\n",
        "\n",
        "print(data['employees'][3].keys())\n",
        "print(data['employees'][0])\n"
      ]
    },
    {
      "cell_type": "code",
      "execution_count": 64,
      "metadata": {},
      "outputs": [
        {
          "name": "stdout",
          "output_type": "stream",
          "text": [
            "Company Name : TechCorp\n",
            "Company Location : San Francisco, CA\n"
          ]
        }
      ],
      "source": [
        "print('Company Name :',data['company_info']['name'])\n",
        "print('Company Location :',data['company_info']['location'])"
      ]
    },
    {
      "cell_type": "markdown",
      "metadata": {
        "id": "yypx_Ds5J7kt"
      },
      "source": [
        "Convert given employees data into a dataframe."
      ]
    },
    {
      "cell_type": "code",
      "execution_count": 65,
      "metadata": {},
      "outputs": [
        {
          "data": {
            "text/html": [
              "<div>\n",
              "<style scoped>\n",
              "    .dataframe tbody tr th:only-of-type {\n",
              "        vertical-align: middle;\n",
              "    }\n",
              "\n",
              "    .dataframe tbody tr th {\n",
              "        vertical-align: top;\n",
              "    }\n",
              "\n",
              "    .dataframe thead th {\n",
              "        text-align: right;\n",
              "    }\n",
              "</style>\n",
              "<table border=\"1\" class=\"dataframe\">\n",
              "  <thead>\n",
              "    <tr style=\"text-align: right;\">\n",
              "      <th></th>\n",
              "      <th>firstName</th>\n",
              "      <th>lastName</th>\n",
              "      <th>position</th>\n",
              "      <th>salary</th>\n",
              "      <th>email</th>\n",
              "      <th>hireDate</th>\n",
              "      <th>manager</th>\n",
              "      <th>address</th>\n",
              "    </tr>\n",
              "    <tr>\n",
              "      <th>id</th>\n",
              "      <th></th>\n",
              "      <th></th>\n",
              "      <th></th>\n",
              "      <th></th>\n",
              "      <th></th>\n",
              "      <th></th>\n",
              "      <th></th>\n",
              "      <th></th>\n",
              "    </tr>\n",
              "  </thead>\n",
              "  <tbody>\n",
              "    <tr>\n",
              "      <th>1</th>\n",
              "      <td>John</td>\n",
              "      <td>Doe</td>\n",
              "      <td>Software Engineer</td>\n",
              "      <td>75000</td>\n",
              "      <td>john.doe@techcorp.com</td>\n",
              "      <td>2020-05-15</td>\n",
              "      <td>Michael Brown</td>\n",
              "      <td>{'street': '123 Main St', 'city': 'San Francis...</td>\n",
              "    </tr>\n",
              "    <tr>\n",
              "      <th>2</th>\n",
              "      <td>Alice</td>\n",
              "      <td>Smith</td>\n",
              "      <td>Data Analyst</td>\n",
              "      <td>60000</td>\n",
              "      <td>alice.smith@techcorp.com</td>\n",
              "      <td>2019-08-22</td>\n",
              "      <td>Michael Brown</td>\n",
              "      <td>{'street': '456 Elm St', 'city': 'San Francisc...</td>\n",
              "    </tr>\n",
              "    <tr>\n",
              "      <th>3</th>\n",
              "      <td>Bob</td>\n",
              "      <td>Johnson</td>\n",
              "      <td>Product Manager</td>\n",
              "      <td>85000</td>\n",
              "      <td>bob.johnson@techcorp.com</td>\n",
              "      <td>2018-03-10</td>\n",
              "      <td>Sarah Williams</td>\n",
              "      <td>{'street': '789 Oak St', 'city': 'San Francisc...</td>\n",
              "    </tr>\n",
              "    <tr>\n",
              "      <th>4</th>\n",
              "      <td>Emily</td>\n",
              "      <td>Wilson</td>\n",
              "      <td>UX Designer</td>\n",
              "      <td>70000</td>\n",
              "      <td>emily.wilson@techcorp.com</td>\n",
              "      <td>2021-02-28</td>\n",
              "      <td>Sarah Williams</td>\n",
              "      <td>{'street': '101 Pine St', 'city': 'San Francis...</td>\n",
              "    </tr>\n",
              "  </tbody>\n",
              "</table>\n",
              "</div>"
            ],
            "text/plain": [
              "   firstName lastName           position  salary                      email  \\\n",
              "id                                                                            \n",
              "1       John      Doe  Software Engineer   75000      john.doe@techcorp.com   \n",
              "2      Alice    Smith       Data Analyst   60000   alice.smith@techcorp.com   \n",
              "3        Bob  Johnson    Product Manager   85000   bob.johnson@techcorp.com   \n",
              "4      Emily   Wilson        UX Designer   70000  emily.wilson@techcorp.com   \n",
              "\n",
              "      hireDate         manager  \\\n",
              "id                               \n",
              "1   2020-05-15   Michael Brown   \n",
              "2   2019-08-22   Michael Brown   \n",
              "3   2018-03-10  Sarah Williams   \n",
              "4   2021-02-28  Sarah Williams   \n",
              "\n",
              "                                              address  \n",
              "id                                                     \n",
              "1   {'street': '123 Main St', 'city': 'San Francis...  \n",
              "2   {'street': '456 Elm St', 'city': 'San Francisc...  \n",
              "3   {'street': '789 Oak St', 'city': 'San Francisc...  \n",
              "4   {'street': '101 Pine St', 'city': 'San Francis...  "
            ]
          },
          "execution_count": 65,
          "metadata": {},
          "output_type": "execute_result"
        }
      ],
      "source": [
        "employees_data=data['employees']\n",
        "df=pd.DataFrame(employees_data)\n",
        "df=df.set_index('id')\n",
        "df"
      ]
    },
    {
      "cell_type": "markdown",
      "metadata": {
        "id": "XVDdCE9oD_lJ"
      },
      "source": [
        "**Question 2:**\n",
        "\n",
        " Find and display the first name, last name, and email address of the employee with ID 3.\n"
      ]
    },
    {
      "cell_type": "code",
      "execution_count": 66,
      "metadata": {},
      "outputs": [
        {
          "data": {
            "text/html": [
              "<div>\n",
              "<style scoped>\n",
              "    .dataframe tbody tr th:only-of-type {\n",
              "        vertical-align: middle;\n",
              "    }\n",
              "\n",
              "    .dataframe tbody tr th {\n",
              "        vertical-align: top;\n",
              "    }\n",
              "\n",
              "    .dataframe thead th {\n",
              "        text-align: right;\n",
              "    }\n",
              "</style>\n",
              "<table border=\"1\" class=\"dataframe\">\n",
              "  <thead>\n",
              "    <tr style=\"text-align: right;\">\n",
              "      <th></th>\n",
              "      <th>firstName</th>\n",
              "      <th>lastName</th>\n",
              "      <th>email</th>\n",
              "    </tr>\n",
              "    <tr>\n",
              "      <th>id</th>\n",
              "      <th></th>\n",
              "      <th></th>\n",
              "      <th></th>\n",
              "    </tr>\n",
              "  </thead>\n",
              "  <tbody>\n",
              "    <tr>\n",
              "      <th>3</th>\n",
              "      <td>Bob</td>\n",
              "      <td>Johnson</td>\n",
              "      <td>bob.johnson@techcorp.com</td>\n",
              "    </tr>\n",
              "  </tbody>\n",
              "</table>\n",
              "</div>"
            ],
            "text/plain": [
              "   firstName lastName                     email\n",
              "id                                             \n",
              "3        Bob  Johnson  bob.johnson@techcorp.com"
            ]
          },
          "execution_count": 66,
          "metadata": {},
          "output_type": "execute_result"
        }
      ],
      "source": [
        "df.loc[df.index == 3, ['firstName', 'lastName', 'email']]"
      ]
    },
    {
      "cell_type": "markdown",
      "metadata": {
        "id": "Jui5-2CsEK4B"
      },
      "source": [
        "**Question 3:**\n",
        "\n",
        "Find the department with the most employees, and display its name along with the number of employees it has."
      ]
    },
    {
      "cell_type": "code",
      "execution_count": 67,
      "metadata": {},
      "outputs": [
        {
          "data": {
            "text/plain": [
              "dict_keys(['engineering', 'product_management', 'design'])"
            ]
          },
          "execution_count": 67,
          "metadata": {},
          "output_type": "execute_result"
        }
      ],
      "source": [
        "data['departments'].keys()"
      ]
    },
    {
      "cell_type": "code",
      "execution_count": 68,
      "metadata": {},
      "outputs": [
        {
          "name": "stdout",
          "output_type": "stream",
          "text": [
            "Department with max employees: engineering \n",
            "Number of employees: 2\n"
          ]
        }
      ],
      "source": [
        "a = []\n",
        "for i in data['departments']:\n",
        "    # Append the length of the employees list for each department\n",
        "    a.append(len(data['departments'][i]))\n",
        "\n",
        "# Find the index of the department with the most employees\n",
        "b = np.argmax(a)\n",
        "\n",
        "# Get the maximum number of employees\n",
        "c = max(a)\n",
        "\n",
        "# Get the department name with the most employees\n",
        "department_name = list(data['departments'].keys())[b]\n",
        "\n",
        "# Print the result\n",
        "print(f\"Department with max employees: {department_name} \\nNumber of employees: {c}\")\n"
      ]
    },
    {
      "cell_type": "markdown",
      "metadata": {
        "id": "E90nhwtTF9Ng"
      },
      "source": [
        "**Question 4:**\n",
        "\n",
        "Retrieve and display the street addresses of the \"san_francisco_hq\" and \"new_york_branch\" office locations."
      ]
    },
    {
      "cell_type": "code",
      "execution_count": 80,
      "metadata": {
        "id": "oGesYRSuHCM1"
      },
      "outputs": [
        {
          "data": {
            "text/plain": [
              "san_francisco_hq    500 Tech Plaza\n",
              "new_york_branch        123 Wall St\n",
              "Name: street, dtype: object"
            ]
          },
          "execution_count": 80,
          "metadata": {},
          "output_type": "execute_result"
        }
      ],
      "source": [
        "# code Here\n",
        "locations=data['office_locations']\n",
        "locations=pd.DataFrame(locations)\n",
        "locations.iloc[0]"
      ]
    },
    {
      "cell_type": "markdown",
      "metadata": {
        "id": "csJGVy5_HDy9"
      },
      "source": [
        "**Question 5:**\n",
        "\n",
        "Determine whether the company offers health insurance and a retirement plan. Provide the results as \"Yes\" or \"No.\""
      ]
    },
    {
      "cell_type": "code",
      "execution_count": 87,
      "metadata": {
        "id": "XaeDLM_7IcoR"
      },
      "outputs": [
        {
          "name": "stdout",
          "output_type": "stream",
          "text": [
            "Yes\n"
          ]
        }
      ],
      "source": [
        "# code Here\n",
        "if data['benefits'].get('health_insurance')==True:\n",
        "    print('Yes')\n",
        "else:\n",
        "    print('No')"
      ]
    },
    {
      "cell_type": "markdown",
      "metadata": {
        "id": "A_odL01bIeW9"
      },
      "source": [
        "**Question 6:**\n",
        "\n",
        "Display the version and last updated date from the metadata section of the JSON data."
      ]
    },
    {
      "cell_type": "code",
      "execution_count": 108,
      "metadata": {
        "id": "pb9Xy3m2Iytd"
      },
      "outputs": [
        {
          "name": "stdout",
          "output_type": "stream",
          "text": [
            "Latest Version: 1.0\n",
            "Latest Update: 2023-09-30\n"
          ]
        }
      ],
      "source": [
        "# code Here\n",
        "print('Latest Version:', data['metadata']['version'])\n",
        "print('Latest Update:', data['metadata']['last_updated'])\n"
      ]
    },
    {
      "cell_type": "markdown",
      "metadata": {
        "id": "uP7uTQUsJDKQ"
      },
      "source": [
        "**Question 7:**\n",
        "\n",
        " Sort the employees by their hire date in ascending order and display the first five employees in the sorted list."
      ]
    },
    {
      "cell_type": "code",
      "execution_count": 126,
      "metadata": {
        "id": "_uHzAfPnJh4n"
      },
      "outputs": [
        {
          "data": {
            "text/html": [
              "<div>\n",
              "<style scoped>\n",
              "    .dataframe tbody tr th:only-of-type {\n",
              "        vertical-align: middle;\n",
              "    }\n",
              "\n",
              "    .dataframe tbody tr th {\n",
              "        vertical-align: top;\n",
              "    }\n",
              "\n",
              "    .dataframe thead th {\n",
              "        text-align: right;\n",
              "    }\n",
              "</style>\n",
              "<table border=\"1\" class=\"dataframe\">\n",
              "  <thead>\n",
              "    <tr style=\"text-align: right;\">\n",
              "      <th></th>\n",
              "      <th>id</th>\n",
              "      <th>firstName</th>\n",
              "      <th>lastName</th>\n",
              "      <th>position</th>\n",
              "      <th>salary</th>\n",
              "      <th>email</th>\n",
              "      <th>hireDate</th>\n",
              "      <th>manager</th>\n",
              "      <th>address</th>\n",
              "    </tr>\n",
              "  </thead>\n",
              "  <tbody>\n",
              "    <tr>\n",
              "      <th>2</th>\n",
              "      <td>3</td>\n",
              "      <td>Bob</td>\n",
              "      <td>Johnson</td>\n",
              "      <td>Product Manager</td>\n",
              "      <td>85000</td>\n",
              "      <td>bob.johnson@techcorp.com</td>\n",
              "      <td>2018-03-10</td>\n",
              "      <td>Sarah Williams</td>\n",
              "      <td>{'street': '789 Oak St', 'city': 'San Francisc...</td>\n",
              "    </tr>\n",
              "    <tr>\n",
              "      <th>1</th>\n",
              "      <td>2</td>\n",
              "      <td>Alice</td>\n",
              "      <td>Smith</td>\n",
              "      <td>Data Analyst</td>\n",
              "      <td>60000</td>\n",
              "      <td>alice.smith@techcorp.com</td>\n",
              "      <td>2019-08-22</td>\n",
              "      <td>Michael Brown</td>\n",
              "      <td>{'street': '456 Elm St', 'city': 'San Francisc...</td>\n",
              "    </tr>\n",
              "    <tr>\n",
              "      <th>0</th>\n",
              "      <td>1</td>\n",
              "      <td>John</td>\n",
              "      <td>Doe</td>\n",
              "      <td>Software Engineer</td>\n",
              "      <td>75000</td>\n",
              "      <td>john.doe@techcorp.com</td>\n",
              "      <td>2020-05-15</td>\n",
              "      <td>Michael Brown</td>\n",
              "      <td>{'street': '123 Main St', 'city': 'San Francis...</td>\n",
              "    </tr>\n",
              "    <tr>\n",
              "      <th>3</th>\n",
              "      <td>4</td>\n",
              "      <td>Emily</td>\n",
              "      <td>Wilson</td>\n",
              "      <td>UX Designer</td>\n",
              "      <td>70000</td>\n",
              "      <td>emily.wilson@techcorp.com</td>\n",
              "      <td>2021-02-28</td>\n",
              "      <td>Sarah Williams</td>\n",
              "      <td>{'street': '101 Pine St', 'city': 'San Francis...</td>\n",
              "    </tr>\n",
              "  </tbody>\n",
              "</table>\n",
              "</div>"
            ],
            "text/plain": [
              "   id firstName lastName           position  salary  \\\n",
              "2   3       Bob  Johnson    Product Manager   85000   \n",
              "1   2     Alice    Smith       Data Analyst   60000   \n",
              "0   1      John      Doe  Software Engineer   75000   \n",
              "3   4     Emily   Wilson        UX Designer   70000   \n",
              "\n",
              "                       email    hireDate         manager  \\\n",
              "2   bob.johnson@techcorp.com  2018-03-10  Sarah Williams   \n",
              "1   alice.smith@techcorp.com  2019-08-22   Michael Brown   \n",
              "0      john.doe@techcorp.com  2020-05-15   Michael Brown   \n",
              "3  emily.wilson@techcorp.com  2021-02-28  Sarah Williams   \n",
              "\n",
              "                                             address  \n",
              "2  {'street': '789 Oak St', 'city': 'San Francisc...  \n",
              "1  {'street': '456 Elm St', 'city': 'San Francisc...  \n",
              "0  {'street': '123 Main St', 'city': 'San Francis...  \n",
              "3  {'street': '101 Pine St', 'city': 'San Francis...  "
            ]
          },
          "execution_count": 126,
          "metadata": {},
          "output_type": "execute_result"
        }
      ],
      "source": [
        "# code Here\n",
        "employees=pd.DataFrame(data['employees'])\n",
        "employees.sort_values(by='hireDate',ascending=True)"
      ]
    },
    {
      "cell_type": "markdown",
      "metadata": {
        "id": "n7XmTMjjJqOM"
      },
      "source": [
        "**Question 8:**\n",
        "\n",
        "Count the number of employees in the dataset and display the result."
      ]
    },
    {
      "cell_type": "code",
      "execution_count": 133,
      "metadata": {
        "id": "-cVlWdRLJ1zP"
      },
      "outputs": [
        {
          "name": "stdout",
          "output_type": "stream",
          "text": [
            "There count of employees is 4.\n"
          ]
        }
      ],
      "source": [
        "# code Here\n",
        "print(f'There count of employees is {len(employees)}.')"
      ]
    },
    {
      "cell_type": "markdown",
      "metadata": {
        "id": "fuOvAHNQKQPG"
      },
      "source": [
        "**Question 9:**\n",
        "\n",
        "Identify employees who do not have a manager (i.e., manager field is empty), and display their names and positions."
      ]
    },
    {
      "cell_type": "code",
      "execution_count": 140,
      "metadata": {
        "id": "KlEY1SANKVc4"
      },
      "outputs": [
        {
          "name": "stdout",
          "output_type": "stream",
          "text": [
            "There is no employee without a manager\n"
          ]
        }
      ],
      "source": [
        "# code Here\n",
        "if employees['manager'].isnull().any():\n",
        "    print(employees.loc[employees['manager'].isnull(), ['firstName', 'lastName']])\n",
        "else:\n",
        "    print('There is no employee without a manager')\n",
        "\n"
      ]
    },
    {
      "cell_type": "markdown",
      "metadata": {
        "id": "tYV7TQDMKX-o"
      },
      "source": [
        "**Question 10: Bonus Part**\n",
        "\n",
        "Using a geocoding service or library of your choice (e.g., geopy), convert the street addresses of all office locations into latitude and longitude coordinates. Then, provide the coordinates for each office location."
      ]
    }
  ],
  "metadata": {
    "colab": {
      "provenance": []
    },
    "kernelspec": {
      "display_name": "python_eda",
      "language": "python",
      "name": "python3"
    },
    "language_info": {
      "codemirror_mode": {
        "name": "ipython",
        "version": 3
      },
      "file_extension": ".py",
      "mimetype": "text/x-python",
      "name": "python",
      "nbconvert_exporter": "python",
      "pygments_lexer": "ipython3",
      "version": "3.12.3"
    }
  },
  "nbformat": 4,
  "nbformat_minor": 0
}
