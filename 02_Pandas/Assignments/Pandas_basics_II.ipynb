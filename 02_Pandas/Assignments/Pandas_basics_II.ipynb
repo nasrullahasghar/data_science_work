{
  "cells": [
    {
      "cell_type": "code",
      "execution_count": 84,
      "metadata": {
        "id": "c_eVXa9OPtvB"
      },
      "outputs": [],
      "source": [
        "import pandas as pd # A general purpose Python library for data analysis\n",
        "import numpy as np # A library for scientific computing in Python (e.g., provides high-performance multi-dimensional array objects and operations)\n",
        "\n",
        "import matplotlib.pyplot as plt # a plotting library for Python and NumPy (readily customizable)\n",
        "import seaborn as sns # Another plotting library for Python (fewer syntax, excellent default themes, behind the scenes, it uses matplotlib)\n",
        "import time"
      ]
    },
    {
      "cell_type": "markdown",
      "metadata": {
        "id": "PSdsojacPtvD"
      },
      "source": [
        "## Knowledge Streams 2024\n",
        "\n",
        "In this notebook, we will learn about the key data structures provided by the Pandas library: **Data Frames, Series, and Indices**.\n",
        "\n",
        "In addition, we will learn about the following operations:\n",
        "* How to access data contained in these structures?\n",
        "* How to read files (e.g., csv, xlsx, sql) to create these structures?\n",
        "* How to carry out different data manipulation tasks using these structures?\n",
        "\n",
        "`Dataset`: US elections with information about candidates, their party, votes won, year of election and the result."
      ]
    },
    {
      "cell_type": "markdown",
      "metadata": {
        "id": "sufDZrcePtvF"
      },
      "source": [
        "## Reading in Data Frames from Files\n",
        "We'll be using **read_csv** today. Note that this file reading function does all the *data parsing* for you, which is very useful."
      ]
    },
    {
      "cell_type": "markdown",
      "metadata": {
        "id": "wAchNI6BPtvG"
      },
      "source": [
        "Before loading a file into a dataframe, let's first take a look at the **elections.csv** file"
      ]
    },
    {
      "cell_type": "code",
      "execution_count": 85,
      "metadata": {
        "id": "vQruwj5rPtvG",
        "scrolled": true
      },
      "outputs": [
        {
          "name": "stdout",
          "output_type": "stream",
          "text": [
            ".\n",
            "The data set has 182 observations and 6 features\n"
          ]
        }
      ],
      "source": [
        "#Load csv file and print shape\n",
        "# Code here\n",
        "elections=pd.read_csv('./data/elections.csv')\n",
        "\n",
        "# how many observation and features are given\n",
        "#Code here\n",
        "print(f'.\\nThe data set has {elections.shape[0]} observations and {elections.shape[1]} features')"
      ]
    },
    {
      "cell_type": "code",
      "execution_count": 86,
      "metadata": {
        "id": "ft8isrsOPtvI"
      },
      "outputs": [
        {
          "name": "stdout",
          "output_type": "stream",
          "text": [
            "   Year          Candidate                  Party  Popular vote Result  \\\n",
            "0  1824     Andrew Jackson  Democratic-Republican        151271   loss   \n",
            "1  1824  John Quincy Adams  Democratic-Republican        113142    win   \n",
            "2  1828     Andrew Jackson             Democratic        642806    win   \n",
            "3  1828  John Quincy Adams    National Republican        500897   loss   \n",
            "4  1832     Andrew Jackson             Democratic        702735    win   \n",
            "\n",
            "           %  \n",
            "0  57.210122  \n",
            "1  42.789878  \n",
            "2  56.203927  \n",
            "3  43.796073  \n",
            "4  54.574789  \n",
            "     Year       Candidate        Party  Popular vote Result          %\n",
            "177  2016      Jill Stein        Green       1457226   loss   1.073699\n",
            "178  2020    Joseph Biden   Democratic      81268924    win  51.311515\n",
            "179  2020    Donald Trump   Republican      74216154   loss  46.858542\n",
            "180  2020    Jo Jorgensen  Libertarian       1865724   loss   1.177979\n",
            "181  2020  Howard Hawkins        Green        405035   loss   0.255731\n"
          ]
        }
      ],
      "source": [
        "# We can use the **head command** to show only a few rows of a dataframe from start.\n",
        "# Code here\n",
        "print(elections.head())\n",
        "#Use **tail command** to show last few observation.\n",
        "# code here\n",
        "print(elections.tail())"
      ]
    },
    {
      "cell_type": "code",
      "execution_count": 87,
      "metadata": {
        "id": "r3-biPiJPtvI"
      },
      "outputs": [],
      "source": [
        "# #The `read_csv` command lets us specify a **column to use an index**. For example, we could have used __Year__ as the index.\n",
        "# #Code here\n",
        "# elections=pd.read_csv('./data/elections.csv',index_col='Year')\n",
        "# elections.head()"
      ]
    },
    {
      "cell_type": "code",
      "execution_count": 88,
      "metadata": {
        "id": "-u_BJi6ZPtvJ"
      },
      "outputs": [],
      "source": [
        "#Alternately, we could have used the **set_index** commmand on the dataframe to set a particular column as index.\n",
        "# code here\n",
        "# elections.set_index('Party',inplace=True)\n",
        "# elections.head()"
      ]
    },
    {
      "cell_type": "markdown",
      "metadata": {
        "id": "kOpP3gBYPtvJ"
      },
      "source": [
        "# Caution:\n",
        "The **set_index command** (along with all other data frame methods) **does not modify the dataframe**, i.e., the original \"elections\" is untouched. Note: There is a flag called \"inplace\" which does modify the calling dataframe (e.g., `elections.set_index(\"Party\",inplace=True)`)."
      ]
    },
    {
      "cell_type": "markdown",
      "metadata": {
        "id": "HYFFeZwRPtvJ"
      },
      "source": [
        "## Duplicate Columns?\n",
        "By contast, column names MUST be unique. For example, if we try to read in a file for which column names are not unique, Pandas will automatically any duplicates. Load duplicate_columns.csv"
      ]
    },
    {
      "cell_type": "code",
      "execution_count": 89,
      "metadata": {
        "id": "4VSBA-Y4PtvJ"
      },
      "outputs": [
        {
          "data": {
            "text/html": [
              "<div>\n",
              "<style scoped>\n",
              "    .dataframe tbody tr th:only-of-type {\n",
              "        vertical-align: middle;\n",
              "    }\n",
              "\n",
              "    .dataframe tbody tr th {\n",
              "        vertical-align: top;\n",
              "    }\n",
              "\n",
              "    .dataframe thead th {\n",
              "        text-align: right;\n",
              "    }\n",
              "</style>\n",
              "<table border=\"1\" class=\"dataframe\">\n",
              "  <thead>\n",
              "    <tr style=\"text-align: right;\">\n",
              "      <th></th>\n",
              "      <th>name</th>\n",
              "      <th>name.1</th>\n",
              "      <th>flavor</th>\n",
              "    </tr>\n",
              "  </thead>\n",
              "  <tbody>\n",
              "    <tr>\n",
              "      <th>0</th>\n",
              "      <td>john</td>\n",
              "      <td>smith</td>\n",
              "      <td>vanilla</td>\n",
              "    </tr>\n",
              "    <tr>\n",
              "      <th>1</th>\n",
              "      <td>zhang</td>\n",
              "      <td>shan</td>\n",
              "      <td>chocolate</td>\n",
              "    </tr>\n",
              "    <tr>\n",
              "      <th>2</th>\n",
              "      <td>fulan</td>\n",
              "      <td>alfulani</td>\n",
              "      <td>strawberry</td>\n",
              "    </tr>\n",
              "    <tr>\n",
              "      <th>3</th>\n",
              "      <td>hong</td>\n",
              "      <td>gildong</td>\n",
              "      <td>banana</td>\n",
              "    </tr>\n",
              "  </tbody>\n",
              "</table>\n",
              "</div>"
            ],
            "text/plain": [
              "    name    name.1      flavor\n",
              "0   john     smith     vanilla\n",
              "1  zhang      shan   chocolate\n",
              "2  fulan  alfulani  strawberry\n",
              "3   hong   gildong      banana"
            ]
          },
          "execution_count": 89,
          "metadata": {},
          "output_type": "execute_result"
        }
      ],
      "source": [
        "#Answer Here\n",
        "duplicate=pd.read_csv('./data/duplicate_columns.csv')\n",
        "duplicate"
      ]
    },
    {
      "cell_type": "markdown",
      "metadata": {
        "id": "fUjSXLNhPtvK"
      },
      "source": [
        "## The [ ] Operator & Indexing"
      ]
    },
    {
      "cell_type": "markdown",
      "metadata": {
        "id": "_y0PM7R9PtvK"
      },
      "source": [
        "The DataFrame class has an indexing operator **[ ]** (also known as the 'brack' operator) that lets you do a variety of different things. If your provide a String to the **[ ]** operator, you get back a ***Series*** corresponding to the requested label.\n",
        "\n",
        "1.Use **[ ]** to display different columns\n",
        "\n",
        "2.Use List retrive multiple columns"
      ]
    },
    {
      "cell_type": "code",
      "execution_count": 90,
      "metadata": {
        "id": "MpSUIkiHPtvK"
      },
      "outputs": [
        {
          "name": "stdout",
          "output_type": "stream",
          "text": [
            "Candidate List: ['Andrew Jackson', 'John Quincy Adams', 'Andrew Jackson', 'John Quincy Adams', 'Andrew Jackson', 'Henry Clay', 'William Wirt', 'Hugh Lawson White', 'Martin Van Buren', 'William Henry Harrison', 'Martin Van Buren', 'William Henry Harrison', 'Henry Clay', 'James Polk', 'Lewis Cass', 'Martin Van Buren', 'Zachary Taylor', 'Franklin Pierce', 'John P. Hale', 'Winfield Scott', 'James Buchanan', 'John C. Frémont', 'Millard Fillmore', 'Abraham Lincoln', 'John Bell', 'John C. Breckinridge', 'Stephen A. Douglas', 'Abraham Lincoln', 'George B. McClellan', 'Horatio Seymour', 'Ulysses Grant', 'Horace Greeley', 'Ulysses Grant', 'Rutherford Hayes', 'Samuel J. Tilden', 'James B. Weaver', 'James Garfield', 'Winfield Scott Hancock', 'Benjamin Butler', 'Grover Cleveland', 'James G. Blaine', 'John St. John', 'Alson Streeter', 'Benjamin Harrison', 'Clinton B. Fisk', 'Grover Cleveland', 'Benjamin Harrison', 'Grover Cleveland', 'James B. Weaver', 'John Bidwell', 'John M. Palmer', 'Joshua Levering', 'William Jennings Bryan', 'William McKinley', 'John G. Woolley', 'William Jennings Bryan', 'William McKinley', 'Alton B. Parker', 'Eugene V. Debs', 'Silas C. Swallow', 'Theodore Roosevelt', 'Thomas E. Watson', 'Eugene V. Debs', 'Eugene W. Chafin', 'William Jennings Bryan', 'William Taft', 'Eugene V. Debs', 'Eugene W. Chafin', 'Theodore Roosevelt', 'William Taft', 'Woodrow Wilson', 'Allan L. Benson', 'Charles Evans Hughes', 'Frank Hanly', 'Woodrow Wilson', 'Aaron S. Watkins', 'Eugene V. Debs', 'James M. Cox', 'Parley P. Christensen', 'Warren Harding', 'Calvin Coolidge', 'John W. Davis', 'Robert La Follette', 'Al Smith', 'Herbert Hoover', 'Norman Thomas', 'Franklin Roosevelt', 'Herbert Hoover', 'Norman Thomas', 'William Z. Foster', 'Alf Landon', 'Franklin Roosevelt', 'Norman Thomas', 'William Lemke', 'Franklin Roosevelt', 'Norman Thomas', 'Wendell Willkie', 'Franklin Roosevelt', 'Thomas E. Dewey', 'Claude A. Watson', 'Harry Truman', 'Henry A. Wallace', 'Norman Thomas', 'Strom Thurmond', 'Thomas E. Dewey', 'Adlai Stevenson', 'Dwight Eisenhower', 'Vincent Hallinan', 'Adlai Stevenson', 'Dwight Eisenhower', 'T. Coleman Andrews', 'John Kennedy', 'Richard Nixon', 'Barry Goldwater', 'Lyndon Johnson', 'George Wallace', 'Hubert Humphrey', 'Richard Nixon', 'George McGovern', 'John G. Schmitz', 'Richard Nixon', 'Eugene McCarthy', 'Gerald Ford', 'Jimmy Carter', 'Lester Maddox', 'Roger MacBride', 'Thomas J. Anderson', 'Barry Commoner', 'Ed Clark', 'Jimmy Carter', 'John B. Anderson', 'Ronald Reagan', 'David Bergland', 'Ronald Reagan', 'Walter Mondale', 'George H. W. Bush', 'Lenora Fulani', 'Michael Dukakis', 'Ron Paul', 'Andre Marrou', 'Bill Clinton', 'Bo Gritz', 'George H. W. Bush', 'Ross Perot', 'Bill Clinton', 'Bob Dole', 'Harry Browne', 'Howard Phillips', 'John Hagelin', 'Ralph Nader', 'Ross Perot', 'Al Gore', 'George W. Bush', 'Harry Browne', 'Pat Buchanan', 'Ralph Nader', 'David Cobb', 'George W. Bush', 'John Kerry', 'Michael Badnarik', 'Michael Peroutka', 'Ralph Nader', 'Barack Obama', 'Bob Barr', 'Chuck Baldwin', 'Cynthia McKinney', 'John McCain', 'Ralph Nader', 'Barack Obama', 'Gary Johnson', 'Jill Stein', 'Mitt Romney', 'Darrell Castle', 'Donald Trump', 'Evan McMullin', 'Gary Johnson', 'Hillary Clinton', 'Jill Stein', 'Joseph Biden', 'Donald Trump', 'Jo Jorgensen', 'Howard Hawkins']\n",
            "\n",
            "Popular Vote List: [151271, 113142, 642806, 500897, 702735, 484205, 100715, 146109, 763291, 550816, 1128854, 1275583, 1300004, 1339570, 1223460, 291501, 1360235, 1605943, 155210, 1386942, 1835140, 1342345, 873053, 1855993, 590901, 848019, 1380202, 2211317, 1812807, 2708744, 3013790, 2834761, 3597439, 4034142, 4288546, 308649, 4453337, 4444976, 134294, 4914482, 4856905, 147482, 146602, 5443633, 249819, 5534488, 5176108, 5553898, 1041028, 270879, 134645, 131312, 6509052, 7112138, 210864, 6370932, 7228864, 5083880, 402810, 259102, 7630557, 114070, 420852, 254087, 6408979, 7678335, 901551, 208156, 4122721, 3486242, 6296284, 590524, 8548728, 221302, 9126868, 188787, 913693, 9139661, 265398, 16144093, 15723789, 8386242, 4831706, 15015464, 21427123, 267478, 22821277, 15761254, 884885, 103307, 16679543, 27752648, 187910, 892378, 27313945, 116599, 22347744, 25612916, 22017929, 103708, 24179347, 1157328, 139569, 1175930, 21991292, 27375090, 34075529, 140746, 26028028, 35579180, 107929, 34220984, 34108157, 27175754, 43127041, 9901118, 31271839, 31783783, 29173222, 1100868, 47168710, 740460, 39148634, 40831881, 170274, 172557, 158271, 233052, 921128, 35480115, 5719850, 43903230, 228111, 54455472, 37577352, 48886597, 217221, 41809074, 431750, 290087, 44909806, 106152, 39104550, 19743821, 47400125, 39197469, 485759, 184656, 113670, 685297, 8085294, 50999897, 50456002, 384431, 448895, 2882955, 119859, 62040610, 59028444, 397265, 143630, 465151, 69498516, 523715, 199750, 161797, 59948323, 739034, 65915795, 1275971, 469627, 60933504, 203091, 62984828, 732273, 4489235, 65853514, 1457226, 81268924, 74216154, 1865724, 405035]\n"
          ]
        }
      ],
      "source": [
        "# Display and Retrieve multiple columns from the election data frame, the resultant would be the list for every column.\n",
        "#Code here\n",
        "candidate_list = elections['Candidate'].tolist()\n",
        "popular_vote_list = elections['Popular vote'].tolist()\n",
        "\n",
        "# Display the lists\n",
        "print(\"Candidate List:\", candidate_list)\n",
        "print(\"\\nPopular Vote List:\", popular_vote_list)"
      ]
    },
    {
      "cell_type": "markdown",
      "metadata": {
        "id": "DopcbfEpPtvK"
      },
      "source": [
        "The **[ ]** operator also accepts a list of strings. In this case, you get back a **DataFrame** corresponding to the requested strings."
      ]
    },
    {
      "cell_type": "code",
      "execution_count": 91,
      "metadata": {
        "id": "lX4YozsZPtvK",
        "scrolled": true
      },
      "outputs": [
        {
          "data": {
            "text/html": [
              "<div>\n",
              "<style scoped>\n",
              "    .dataframe tbody tr th:only-of-type {\n",
              "        vertical-align: middle;\n",
              "    }\n",
              "\n",
              "    .dataframe tbody tr th {\n",
              "        vertical-align: top;\n",
              "    }\n",
              "\n",
              "    .dataframe thead th {\n",
              "        text-align: right;\n",
              "    }\n",
              "</style>\n",
              "<table border=\"1\" class=\"dataframe\">\n",
              "  <thead>\n",
              "    <tr style=\"text-align: right;\">\n",
              "      <th></th>\n",
              "      <th>Candidate</th>\n",
              "      <th>Popular vote</th>\n",
              "    </tr>\n",
              "  </thead>\n",
              "  <tbody>\n",
              "    <tr>\n",
              "      <th>0</th>\n",
              "      <td>Andrew Jackson</td>\n",
              "      <td>151271</td>\n",
              "    </tr>\n",
              "    <tr>\n",
              "      <th>1</th>\n",
              "      <td>John Quincy Adams</td>\n",
              "      <td>113142</td>\n",
              "    </tr>\n",
              "    <tr>\n",
              "      <th>2</th>\n",
              "      <td>Andrew Jackson</td>\n",
              "      <td>642806</td>\n",
              "    </tr>\n",
              "    <tr>\n",
              "      <th>3</th>\n",
              "      <td>John Quincy Adams</td>\n",
              "      <td>500897</td>\n",
              "    </tr>\n",
              "    <tr>\n",
              "      <th>4</th>\n",
              "      <td>Andrew Jackson</td>\n",
              "      <td>702735</td>\n",
              "    </tr>\n",
              "  </tbody>\n",
              "</table>\n",
              "</div>"
            ],
            "text/plain": [
              "           Candidate  Popular vote\n",
              "0     Andrew Jackson        151271\n",
              "1  John Quincy Adams        113142\n",
              "2     Andrew Jackson        642806\n",
              "3  John Quincy Adams        500897\n",
              "4     Andrew Jackson        702735"
            ]
          },
          "execution_count": 91,
          "metadata": {},
          "output_type": "execute_result"
        }
      ],
      "source": [
        "# Answer Here\n",
        "list=elections[['Candidate','Popular vote']]\n",
        "list.head()"
      ]
    },
    {
      "cell_type": "markdown",
      "metadata": {
        "id": "7pv2JkjRPtvK"
      },
      "source": [
        "A list of one label also returns a DataFrame. This can be handy if you want your results as a DataFrame, not a series."
      ]
    },
    {
      "cell_type": "markdown",
      "metadata": {
        "id": "XqKnvINoPtvL"
      },
      "source": [
        "Note that we can also use the **to_frame** method to turn a Series into a DataFrame.\n",
        "\n",
        "Extract one col name \"Candidates\" from DataFrame it will be a series. Convert series into a DataFrame."
      ]
    },
    {
      "cell_type": "code",
      "execution_count": 92,
      "metadata": {
        "id": "XUOtNoVnPtvL"
      },
      "outputs": [
        {
          "data": {
            "text/plain": [
              "0       Andrew Jackson\n",
              "1    John Quincy Adams\n",
              "2       Andrew Jackson\n",
              "3    John Quincy Adams\n",
              "4       Andrew Jackson\n",
              "Name: Candidate, dtype: object"
            ]
          },
          "execution_count": 92,
          "metadata": {},
          "output_type": "execute_result"
        }
      ],
      "source": [
        "# Answer Here\n",
        "candidate_series = elections['Candidate']\n",
        "candidate_series.head()"
      ]
    },
    {
      "cell_type": "code",
      "execution_count": 93,
      "metadata": {
        "id": "HdHWFzzSPtvL"
      },
      "outputs": [
        {
          "data": {
            "text/html": [
              "<div>\n",
              "<style scoped>\n",
              "    .dataframe tbody tr th:only-of-type {\n",
              "        vertical-align: middle;\n",
              "    }\n",
              "\n",
              "    .dataframe tbody tr th {\n",
              "        vertical-align: top;\n",
              "    }\n",
              "\n",
              "    .dataframe thead th {\n",
              "        text-align: right;\n",
              "    }\n",
              "</style>\n",
              "<table border=\"1\" class=\"dataframe\">\n",
              "  <thead>\n",
              "    <tr style=\"text-align: right;\">\n",
              "      <th></th>\n",
              "      <th>Candidate</th>\n",
              "    </tr>\n",
              "  </thead>\n",
              "  <tbody>\n",
              "    <tr>\n",
              "      <th>0</th>\n",
              "      <td>Andrew Jackson</td>\n",
              "    </tr>\n",
              "    <tr>\n",
              "      <th>1</th>\n",
              "      <td>John Quincy Adams</td>\n",
              "    </tr>\n",
              "    <tr>\n",
              "      <th>2</th>\n",
              "      <td>Andrew Jackson</td>\n",
              "    </tr>\n",
              "    <tr>\n",
              "      <th>3</th>\n",
              "      <td>John Quincy Adams</td>\n",
              "    </tr>\n",
              "    <tr>\n",
              "      <th>4</th>\n",
              "      <td>Andrew Jackson</td>\n",
              "    </tr>\n",
              "  </tbody>\n",
              "</table>\n",
              "</div>"
            ],
            "text/plain": [
              "           Candidate\n",
              "0     Andrew Jackson\n",
              "1  John Quincy Adams\n",
              "2     Andrew Jackson\n",
              "3  John Quincy Adams\n",
              "4     Andrew Jackson"
            ]
          },
          "execution_count": 93,
          "metadata": {},
          "output_type": "execute_result"
        }
      ],
      "source": [
        "# Answer Here\n",
        "candidate_df = candidate_series.to_frame()\n",
        "candidate_df.head()"
      ]
    },
    {
      "cell_type": "markdown",
      "metadata": {
        "id": "8l2IdtBwPtvL"
      },
      "source": [
        "### Row Indexing\n",
        "\n",
        "The `[]` operator also accepts numerical slices as arguments. In this case, we are indexing by row, not column!\n",
        "\n",
        "Extract few rows from DataFrame"
      ]
    },
    {
      "cell_type": "code",
      "execution_count": 94,
      "metadata": {
        "id": "VrZMcM5rPtvL",
        "scrolled": true
      },
      "outputs": [
        {
          "data": {
            "text/html": [
              "<div>\n",
              "<style scoped>\n",
              "    .dataframe tbody tr th:only-of-type {\n",
              "        vertical-align: middle;\n",
              "    }\n",
              "\n",
              "    .dataframe tbody tr th {\n",
              "        vertical-align: top;\n",
              "    }\n",
              "\n",
              "    .dataframe thead th {\n",
              "        text-align: right;\n",
              "    }\n",
              "</style>\n",
              "<table border=\"1\" class=\"dataframe\">\n",
              "  <thead>\n",
              "    <tr style=\"text-align: right;\">\n",
              "      <th></th>\n",
              "      <th>Year</th>\n",
              "      <th>Candidate</th>\n",
              "      <th>Party</th>\n",
              "      <th>Popular vote</th>\n",
              "      <th>Result</th>\n",
              "      <th>%</th>\n",
              "    </tr>\n",
              "  </thead>\n",
              "  <tbody>\n",
              "    <tr>\n",
              "      <th>0</th>\n",
              "      <td>1824</td>\n",
              "      <td>Andrew Jackson</td>\n",
              "      <td>Democratic-Republican</td>\n",
              "      <td>151271</td>\n",
              "      <td>loss</td>\n",
              "      <td>57.210122</td>\n",
              "    </tr>\n",
              "    <tr>\n",
              "      <th>1</th>\n",
              "      <td>1824</td>\n",
              "      <td>John Quincy Adams</td>\n",
              "      <td>Democratic-Republican</td>\n",
              "      <td>113142</td>\n",
              "      <td>win</td>\n",
              "      <td>42.789878</td>\n",
              "    </tr>\n",
              "    <tr>\n",
              "      <th>2</th>\n",
              "      <td>1828</td>\n",
              "      <td>Andrew Jackson</td>\n",
              "      <td>Democratic</td>\n",
              "      <td>642806</td>\n",
              "      <td>win</td>\n",
              "      <td>56.203927</td>\n",
              "    </tr>\n",
              "    <tr>\n",
              "      <th>3</th>\n",
              "      <td>1828</td>\n",
              "      <td>John Quincy Adams</td>\n",
              "      <td>National Republican</td>\n",
              "      <td>500897</td>\n",
              "      <td>loss</td>\n",
              "      <td>43.796073</td>\n",
              "    </tr>\n",
              "    <tr>\n",
              "      <th>4</th>\n",
              "      <td>1832</td>\n",
              "      <td>Andrew Jackson</td>\n",
              "      <td>Democratic</td>\n",
              "      <td>702735</td>\n",
              "      <td>win</td>\n",
              "      <td>54.574789</td>\n",
              "    </tr>\n",
              "  </tbody>\n",
              "</table>\n",
              "</div>"
            ],
            "text/plain": [
              "   Year          Candidate                  Party  Popular vote Result  \\\n",
              "0  1824     Andrew Jackson  Democratic-Republican        151271   loss   \n",
              "1  1824  John Quincy Adams  Democratic-Republican        113142    win   \n",
              "2  1828     Andrew Jackson             Democratic        642806    win   \n",
              "3  1828  John Quincy Adams    National Republican        500897   loss   \n",
              "4  1832     Andrew Jackson             Democratic        702735    win   \n",
              "\n",
              "           %  \n",
              "0  57.210122  \n",
              "1  42.789878  \n",
              "2  56.203927  \n",
              "3  43.796073  \n",
              "4  54.574789  "
            ]
          },
          "execution_count": 94,
          "metadata": {},
          "output_type": "execute_result"
        }
      ],
      "source": [
        "# Answer Here\n",
        "elections.iloc[0:5]"
      ]
    },
    {
      "cell_type": "markdown",
      "metadata": {
        "id": "BbzS6oI4PtvN"
      },
      "source": [
        "If you provide a single argument to the `[]` operator, it tries to use it as a name. This is true even if the argument passed to **[ ]** is an integer."
      ]
    },
    {
      "cell_type": "code",
      "execution_count": 95,
      "metadata": {
        "id": "tw51ccpUPtvN"
      },
      "outputs": [
        {
          "data": {
            "text/plain": [
              "Year                             1824\n",
              "Candidate              Andrew Jackson\n",
              "Party           Democratic-Republican\n",
              "Popular vote                   151271\n",
              "Result                           loss\n",
              "%                           57.210122\n",
              "Name: 0, dtype: object"
            ]
          },
          "execution_count": 95,
          "metadata": {},
          "output_type": "execute_result"
        }
      ],
      "source": [
        "#elections[0] #this does not work, try uncommenting this to see it fail in action, woo\n",
        "elections.iloc[0]"
      ]
    },
    {
      "cell_type": "markdown",
      "metadata": {
        "id": "EJsBn7uKPtvN"
      },
      "source": [
        "The following cells allow you to **test your understanding**. Let's go over the summary of what we have learnt (see slides).\n",
        "\n",
        "# Creating DataFrames\n",
        "Create DataFrame using List and Columns name."
      ]
    },
    {
      "cell_type": "code",
      "execution_count": 96,
      "metadata": {
        "id": "yA1NsyftUQYi"
      },
      "outputs": [
        {
          "data": {
            "text/html": [
              "<div>\n",
              "<style scoped>\n",
              "    .dataframe tbody tr th:only-of-type {\n",
              "        vertical-align: middle;\n",
              "    }\n",
              "\n",
              "    .dataframe tbody tr th {\n",
              "        vertical-align: top;\n",
              "    }\n",
              "\n",
              "    .dataframe thead th {\n",
              "        text-align: right;\n",
              "    }\n",
              "</style>\n",
              "<table border=\"1\" class=\"dataframe\">\n",
              "  <thead>\n",
              "    <tr style=\"text-align: right;\">\n",
              "      <th></th>\n",
              "      <th>Name</th>\n",
              "      <th>Votes</th>\n",
              "    </tr>\n",
              "  </thead>\n",
              "  <tbody>\n",
              "    <tr>\n",
              "      <th>0</th>\n",
              "      <td>Andrew Jackson</td>\n",
              "      <td>151271</td>\n",
              "    </tr>\n",
              "    <tr>\n",
              "      <th>1</th>\n",
              "      <td>John Quincy Adams</td>\n",
              "      <td>113142</td>\n",
              "    </tr>\n",
              "    <tr>\n",
              "      <th>2</th>\n",
              "      <td>Andrew Jackson</td>\n",
              "      <td>642806</td>\n",
              "    </tr>\n",
              "  </tbody>\n",
              "</table>\n",
              "</div>"
            ],
            "text/plain": [
              "                Name   Votes\n",
              "0     Andrew Jackson  151271\n",
              "1  John Quincy Adams  113142\n",
              "2     Andrew Jackson  642806"
            ]
          },
          "execution_count": 96,
          "metadata": {},
          "output_type": "execute_result"
        }
      ],
      "source": [
        "# Answer Here\n",
        "# Lists for the DataFrame\n",
        "votes_list = [151271, 113142, 642806]\n",
        "candidates_list = ['Andrew Jackson', 'John Quincy Adams', 'Andrew Jackson']\n",
        "\n",
        "# Create DataFrame directly\n",
        "df_list = pd.DataFrame({\n",
        "    'Name': candidates_list,\n",
        "    'Votes': votes_list,\n",
        "    \n",
        "})\n",
        "df_list"
      ]
    },
    {
      "cell_type": "markdown",
      "metadata": {
        "id": "De8I7tdRhSCc"
      },
      "source": [
        "Creating DataFrames using **Dictionary**."
      ]
    },
    {
      "cell_type": "code",
      "execution_count": 97,
      "metadata": {
        "id": "YLidbVoJPtvN"
      },
      "outputs": [
        {
          "data": {
            "text/html": [
              "<div>\n",
              "<style scoped>\n",
              "    .dataframe tbody tr th:only-of-type {\n",
              "        vertical-align: middle;\n",
              "    }\n",
              "\n",
              "    .dataframe tbody tr th {\n",
              "        vertical-align: top;\n",
              "    }\n",
              "\n",
              "    .dataframe thead th {\n",
              "        text-align: right;\n",
              "    }\n",
              "</style>\n",
              "<table border=\"1\" class=\"dataframe\">\n",
              "  <thead>\n",
              "    <tr style=\"text-align: right;\">\n",
              "      <th></th>\n",
              "      <th>Name</th>\n",
              "      <th>Age</th>\n",
              "      <th>City</th>\n",
              "    </tr>\n",
              "  </thead>\n",
              "  <tbody>\n",
              "    <tr>\n",
              "      <th>0</th>\n",
              "      <td>John</td>\n",
              "      <td>25</td>\n",
              "      <td>New York</td>\n",
              "    </tr>\n",
              "    <tr>\n",
              "      <th>1</th>\n",
              "      <td>Emily</td>\n",
              "      <td>32</td>\n",
              "      <td>London</td>\n",
              "    </tr>\n",
              "    <tr>\n",
              "      <th>2</th>\n",
              "      <td>Anna</td>\n",
              "      <td>29</td>\n",
              "      <td>Paris</td>\n",
              "    </tr>\n",
              "  </tbody>\n",
              "</table>\n",
              "</div>"
            ],
            "text/plain": [
              "    Name  Age      City\n",
              "0   John   25  New York\n",
              "1  Emily   32    London\n",
              "2   Anna   29     Paris"
            ]
          },
          "execution_count": 97,
          "metadata": {},
          "output_type": "execute_result"
        }
      ],
      "source": [
        "# Answer Here\n",
        "data = {\n",
        "    'Name': ['John', 'Emily', 'Anna'],\n",
        "    'Age': [25, 32, 29],\n",
        "    'City': ['New York', 'London', 'Paris']\n",
        "}\n",
        "\n",
        "# Create DataFrame from the dictionary\n",
        "df_dict = pd.DataFrame(data)\n",
        "df_dict"
      ]
    },
    {
      "cell_type": "markdown",
      "metadata": {
        "id": "GsX8jyA3PtvO"
      },
      "source": [
        "## Filtering via Boolean Array Selection"
      ]
    },
    {
      "cell_type": "markdown",
      "metadata": {
        "id": "RXDjTannPtvO"
      },
      "source": [
        "The `[]` operator also supports array of booleans as an input. In this case, the array must be exactly as long as the number of rows. The result is a **filtered version of the data frame**, where **only rows corresponding to True appear**."
      ]
    },
    {
      "cell_type": "code",
      "execution_count": 98,
      "metadata": {
        "id": "pD79oglhPtvP"
      },
      "outputs": [
        {
          "name": "stderr",
          "output_type": "stream",
          "text": [
            "C:\\Users\\nasrullah\\AppData\\Local\\Temp\\ipykernel_15144\\3000792151.py:1: FutureWarning: Downcasting behavior in `replace` is deprecated and will be removed in a future version. To retain the old behavior, explicitly call `result.infer_objects(copy=False)`. To opt-in to the future behavior, set `pd.set_option('future.no_silent_downcasting', True)`\n",
            "  elections['Result_bool'] = elections['Result'].replace({'win': True, 'loss': False})\n"
          ]
        },
        {
          "data": {
            "text/html": [
              "<div>\n",
              "<style scoped>\n",
              "    .dataframe tbody tr th:only-of-type {\n",
              "        vertical-align: middle;\n",
              "    }\n",
              "\n",
              "    .dataframe tbody tr th {\n",
              "        vertical-align: top;\n",
              "    }\n",
              "\n",
              "    .dataframe thead th {\n",
              "        text-align: right;\n",
              "    }\n",
              "</style>\n",
              "<table border=\"1\" class=\"dataframe\">\n",
              "  <thead>\n",
              "    <tr style=\"text-align: right;\">\n",
              "      <th></th>\n",
              "      <th>Year</th>\n",
              "      <th>Candidate</th>\n",
              "      <th>Party</th>\n",
              "      <th>Popular vote</th>\n",
              "      <th>Result</th>\n",
              "      <th>%</th>\n",
              "      <th>Result_bool</th>\n",
              "    </tr>\n",
              "  </thead>\n",
              "  <tbody>\n",
              "    <tr>\n",
              "      <th>0</th>\n",
              "      <td>1824</td>\n",
              "      <td>Andrew Jackson</td>\n",
              "      <td>Democratic-Republican</td>\n",
              "      <td>151271</td>\n",
              "      <td>loss</td>\n",
              "      <td>57.210122</td>\n",
              "      <td>False</td>\n",
              "    </tr>\n",
              "    <tr>\n",
              "      <th>1</th>\n",
              "      <td>1824</td>\n",
              "      <td>John Quincy Adams</td>\n",
              "      <td>Democratic-Republican</td>\n",
              "      <td>113142</td>\n",
              "      <td>win</td>\n",
              "      <td>42.789878</td>\n",
              "      <td>True</td>\n",
              "    </tr>\n",
              "    <tr>\n",
              "      <th>2</th>\n",
              "      <td>1828</td>\n",
              "      <td>Andrew Jackson</td>\n",
              "      <td>Democratic</td>\n",
              "      <td>642806</td>\n",
              "      <td>win</td>\n",
              "      <td>56.203927</td>\n",
              "      <td>True</td>\n",
              "    </tr>\n",
              "    <tr>\n",
              "      <th>3</th>\n",
              "      <td>1828</td>\n",
              "      <td>John Quincy Adams</td>\n",
              "      <td>National Republican</td>\n",
              "      <td>500897</td>\n",
              "      <td>loss</td>\n",
              "      <td>43.796073</td>\n",
              "      <td>False</td>\n",
              "    </tr>\n",
              "    <tr>\n",
              "      <th>4</th>\n",
              "      <td>1832</td>\n",
              "      <td>Andrew Jackson</td>\n",
              "      <td>Democratic</td>\n",
              "      <td>702735</td>\n",
              "      <td>win</td>\n",
              "      <td>54.574789</td>\n",
              "      <td>True</td>\n",
              "    </tr>\n",
              "  </tbody>\n",
              "</table>\n",
              "</div>"
            ],
            "text/plain": [
              "   Year          Candidate                  Party  Popular vote Result  \\\n",
              "0  1824     Andrew Jackson  Democratic-Republican        151271   loss   \n",
              "1  1824  John Quincy Adams  Democratic-Republican        113142    win   \n",
              "2  1828     Andrew Jackson             Democratic        642806    win   \n",
              "3  1828  John Quincy Adams    National Republican        500897   loss   \n",
              "4  1832     Andrew Jackson             Democratic        702735    win   \n",
              "\n",
              "           %  Result_bool  \n",
              "0  57.210122        False  \n",
              "1  42.789878         True  \n",
              "2  56.203927         True  \n",
              "3  43.796073        False  \n",
              "4  54.574789         True  "
            ]
          },
          "execution_count": 98,
          "metadata": {},
          "output_type": "execute_result"
        }
      ],
      "source": [
        "elections['Result_bool'] = elections['Result'].replace({'win': True, 'loss': False})\n",
        "elections.head()"
      ]
    },
    {
      "cell_type": "markdown",
      "metadata": {
        "id": "0lo-osU2PtvP"
      },
      "source": [
        "One very common task in Data Science is **filtering**. Boolean Array Selection is one way to achieve this in Pandas. We start by observing that **logical operators** like the equality operator can be applied to **Pandas Series data** to generate a **Boolean Array**.\n",
        "\n",
        "Compare the 'Result' column to the String 'win' and Show results"
      ]
    },
    {
      "cell_type": "code",
      "execution_count": 99,
      "metadata": {
        "id": "Or9NKO2kPtvP"
      },
      "outputs": [
        {
          "data": {
            "text/html": [
              "<div>\n",
              "<style scoped>\n",
              "    .dataframe tbody tr th:only-of-type {\n",
              "        vertical-align: middle;\n",
              "    }\n",
              "\n",
              "    .dataframe tbody tr th {\n",
              "        vertical-align: top;\n",
              "    }\n",
              "\n",
              "    .dataframe thead th {\n",
              "        text-align: right;\n",
              "    }\n",
              "</style>\n",
              "<table border=\"1\" class=\"dataframe\">\n",
              "  <thead>\n",
              "    <tr style=\"text-align: right;\">\n",
              "      <th></th>\n",
              "      <th>Year</th>\n",
              "      <th>Candidate</th>\n",
              "      <th>Party</th>\n",
              "      <th>Popular vote</th>\n",
              "      <th>Result</th>\n",
              "      <th>%</th>\n",
              "      <th>Result_bool</th>\n",
              "    </tr>\n",
              "  </thead>\n",
              "  <tbody>\n",
              "    <tr>\n",
              "      <th>1</th>\n",
              "      <td>1824</td>\n",
              "      <td>John Quincy Adams</td>\n",
              "      <td>Democratic-Republican</td>\n",
              "      <td>113142</td>\n",
              "      <td>win</td>\n",
              "      <td>42.789878</td>\n",
              "      <td>True</td>\n",
              "    </tr>\n",
              "    <tr>\n",
              "      <th>2</th>\n",
              "      <td>1828</td>\n",
              "      <td>Andrew Jackson</td>\n",
              "      <td>Democratic</td>\n",
              "      <td>642806</td>\n",
              "      <td>win</td>\n",
              "      <td>56.203927</td>\n",
              "      <td>True</td>\n",
              "    </tr>\n",
              "    <tr>\n",
              "      <th>4</th>\n",
              "      <td>1832</td>\n",
              "      <td>Andrew Jackson</td>\n",
              "      <td>Democratic</td>\n",
              "      <td>702735</td>\n",
              "      <td>win</td>\n",
              "      <td>54.574789</td>\n",
              "      <td>True</td>\n",
              "    </tr>\n",
              "    <tr>\n",
              "      <th>8</th>\n",
              "      <td>1836</td>\n",
              "      <td>Martin Van Buren</td>\n",
              "      <td>Democratic</td>\n",
              "      <td>763291</td>\n",
              "      <td>win</td>\n",
              "      <td>52.272472</td>\n",
              "      <td>True</td>\n",
              "    </tr>\n",
              "    <tr>\n",
              "      <th>11</th>\n",
              "      <td>1840</td>\n",
              "      <td>William Henry Harrison</td>\n",
              "      <td>Whig</td>\n",
              "      <td>1275583</td>\n",
              "      <td>win</td>\n",
              "      <td>53.051213</td>\n",
              "      <td>True</td>\n",
              "    </tr>\n",
              "  </tbody>\n",
              "</table>\n",
              "</div>"
            ],
            "text/plain": [
              "    Year               Candidate                  Party  Popular vote Result  \\\n",
              "1   1824       John Quincy Adams  Democratic-Republican        113142    win   \n",
              "2   1828          Andrew Jackson             Democratic        642806    win   \n",
              "4   1832          Andrew Jackson             Democratic        702735    win   \n",
              "8   1836        Martin Van Buren             Democratic        763291    win   \n",
              "11  1840  William Henry Harrison                   Whig       1275583    win   \n",
              "\n",
              "            %  Result_bool  \n",
              "1   42.789878         True  \n",
              "2   56.203927         True  \n",
              "4   54.574789         True  \n",
              "8   52.272472         True  \n",
              "11  53.051213         True  "
            ]
          },
          "execution_count": 99,
          "metadata": {},
          "output_type": "execute_result"
        }
      ],
      "source": [
        "#Answer Here\n",
        "mask_result=elections['Result'] == 'win'\n",
        "winning_candidates=elections[mask_result]\n",
        "winning_candidates.head()"
      ]
    },
    {
      "cell_type": "markdown",
      "metadata": {
        "id": "bFEH7w974G63"
      },
      "source": [
        "Compare the 'Party' column to the String 'Democratic' and Show results"
      ]
    },
    {
      "cell_type": "code",
      "execution_count": 100,
      "metadata": {
        "id": "BeyIZ48fPtvP"
      },
      "outputs": [
        {
          "data": {
            "text/html": [
              "<div>\n",
              "<style scoped>\n",
              "    .dataframe tbody tr th:only-of-type {\n",
              "        vertical-align: middle;\n",
              "    }\n",
              "\n",
              "    .dataframe tbody tr th {\n",
              "        vertical-align: top;\n",
              "    }\n",
              "\n",
              "    .dataframe thead th {\n",
              "        text-align: right;\n",
              "    }\n",
              "</style>\n",
              "<table border=\"1\" class=\"dataframe\">\n",
              "  <thead>\n",
              "    <tr style=\"text-align: right;\">\n",
              "      <th></th>\n",
              "      <th>Year</th>\n",
              "      <th>Candidate</th>\n",
              "      <th>Party</th>\n",
              "      <th>Popular vote</th>\n",
              "      <th>Result</th>\n",
              "      <th>%</th>\n",
              "      <th>Result_bool</th>\n",
              "    </tr>\n",
              "  </thead>\n",
              "  <tbody>\n",
              "    <tr>\n",
              "      <th>2</th>\n",
              "      <td>1828</td>\n",
              "      <td>Andrew Jackson</td>\n",
              "      <td>Democratic</td>\n",
              "      <td>642806</td>\n",
              "      <td>win</td>\n",
              "      <td>56.203927</td>\n",
              "      <td>True</td>\n",
              "    </tr>\n",
              "    <tr>\n",
              "      <th>4</th>\n",
              "      <td>1832</td>\n",
              "      <td>Andrew Jackson</td>\n",
              "      <td>Democratic</td>\n",
              "      <td>702735</td>\n",
              "      <td>win</td>\n",
              "      <td>54.574789</td>\n",
              "      <td>True</td>\n",
              "    </tr>\n",
              "    <tr>\n",
              "      <th>8</th>\n",
              "      <td>1836</td>\n",
              "      <td>Martin Van Buren</td>\n",
              "      <td>Democratic</td>\n",
              "      <td>763291</td>\n",
              "      <td>win</td>\n",
              "      <td>52.272472</td>\n",
              "      <td>True</td>\n",
              "    </tr>\n",
              "    <tr>\n",
              "      <th>10</th>\n",
              "      <td>1840</td>\n",
              "      <td>Martin Van Buren</td>\n",
              "      <td>Democratic</td>\n",
              "      <td>1128854</td>\n",
              "      <td>loss</td>\n",
              "      <td>46.948787</td>\n",
              "      <td>False</td>\n",
              "    </tr>\n",
              "    <tr>\n",
              "      <th>13</th>\n",
              "      <td>1844</td>\n",
              "      <td>James Polk</td>\n",
              "      <td>Democratic</td>\n",
              "      <td>1339570</td>\n",
              "      <td>win</td>\n",
              "      <td>50.749477</td>\n",
              "      <td>True</td>\n",
              "    </tr>\n",
              "  </tbody>\n",
              "</table>\n",
              "</div>"
            ],
            "text/plain": [
              "    Year         Candidate       Party  Popular vote Result          %  \\\n",
              "2   1828    Andrew Jackson  Democratic        642806    win  56.203927   \n",
              "4   1832    Andrew Jackson  Democratic        702735    win  54.574789   \n",
              "8   1836  Martin Van Buren  Democratic        763291    win  52.272472   \n",
              "10  1840  Martin Van Buren  Democratic       1128854   loss  46.948787   \n",
              "13  1844        James Polk  Democratic       1339570    win  50.749477   \n",
              "\n",
              "    Result_bool  \n",
              "2          True  \n",
              "4          True  \n",
              "8          True  \n",
              "10        False  \n",
              "13         True  "
            ]
          },
          "execution_count": 100,
          "metadata": {},
          "output_type": "execute_result"
        }
      ],
      "source": [
        "#Answer Here\n",
        "mask_democratic = elections['Party'] == 'Democratic'\n",
        "democratic = elections[mask_democratic]\n",
        "democratic.head()\n"
      ]
    },
    {
      "cell_type": "markdown",
      "metadata": {
        "id": "TiRu5S1FPtvP"
      },
      "source": [
        "The output of the logical operator applied to the Series is **another Series with the same name and index, but of datatype boolean**."
      ]
    },
    {
      "cell_type": "markdown",
      "metadata": {
        "id": "Avt0U9UBPtvQ"
      },
      "source": [
        "These boolean Series can be used as an argument to the `[]` operator.\n",
        "\n",
        "Creates  DataFrame of all election winners since 1980."
      ]
    },
    {
      "cell_type": "code",
      "execution_count": 130,
      "metadata": {
        "id": "UTzXe5syPtvQ"
      },
      "outputs": [
        {
          "data": {
            "text/html": [
              "<div>\n",
              "<style scoped>\n",
              "    .dataframe tbody tr th:only-of-type {\n",
              "        vertical-align: middle;\n",
              "    }\n",
              "\n",
              "    .dataframe tbody tr th {\n",
              "        vertical-align: top;\n",
              "    }\n",
              "\n",
              "    .dataframe thead th {\n",
              "        text-align: right;\n",
              "    }\n",
              "</style>\n",
              "<table border=\"1\" class=\"dataframe\">\n",
              "  <thead>\n",
              "    <tr style=\"text-align: right;\">\n",
              "      <th></th>\n",
              "      <th>Year</th>\n",
              "      <th>Candidate</th>\n",
              "      <th>Party</th>\n",
              "      <th>Popular vote</th>\n",
              "      <th>Result</th>\n",
              "      <th>%</th>\n",
              "      <th>Result_bool</th>\n",
              "    </tr>\n",
              "  </thead>\n",
              "  <tbody>\n",
              "    <tr>\n",
              "      <th>131</th>\n",
              "      <td>1980</td>\n",
              "      <td>Ronald Reagan</td>\n",
              "      <td>Republican</td>\n",
              "      <td>43903230</td>\n",
              "      <td>win</td>\n",
              "      <td>50.897944</td>\n",
              "      <td>True</td>\n",
              "    </tr>\n",
              "    <tr>\n",
              "      <th>133</th>\n",
              "      <td>1984</td>\n",
              "      <td>Ronald Reagan</td>\n",
              "      <td>Republican</td>\n",
              "      <td>54455472</td>\n",
              "      <td>win</td>\n",
              "      <td>59.023326</td>\n",
              "      <td>True</td>\n",
              "    </tr>\n",
              "    <tr>\n",
              "      <th>135</th>\n",
              "      <td>1988</td>\n",
              "      <td>George H. W. Bush</td>\n",
              "      <td>Republican</td>\n",
              "      <td>48886597</td>\n",
              "      <td>win</td>\n",
              "      <td>53.518845</td>\n",
              "      <td>True</td>\n",
              "    </tr>\n",
              "    <tr>\n",
              "      <th>140</th>\n",
              "      <td>1992</td>\n",
              "      <td>Bill Clinton</td>\n",
              "      <td>Democratic</td>\n",
              "      <td>44909806</td>\n",
              "      <td>win</td>\n",
              "      <td>43.118485</td>\n",
              "      <td>True</td>\n",
              "    </tr>\n",
              "    <tr>\n",
              "      <th>144</th>\n",
              "      <td>1996</td>\n",
              "      <td>Bill Clinton</td>\n",
              "      <td>Democratic</td>\n",
              "      <td>47400125</td>\n",
              "      <td>win</td>\n",
              "      <td>49.296938</td>\n",
              "      <td>True</td>\n",
              "    </tr>\n",
              "    <tr>\n",
              "      <th>152</th>\n",
              "      <td>2000</td>\n",
              "      <td>George W. Bush</td>\n",
              "      <td>Republican</td>\n",
              "      <td>50456002</td>\n",
              "      <td>win</td>\n",
              "      <td>47.974666</td>\n",
              "      <td>True</td>\n",
              "    </tr>\n",
              "    <tr>\n",
              "      <th>157</th>\n",
              "      <td>2004</td>\n",
              "      <td>George W. Bush</td>\n",
              "      <td>Republican</td>\n",
              "      <td>62040610</td>\n",
              "      <td>win</td>\n",
              "      <td>50.771824</td>\n",
              "      <td>True</td>\n",
              "    </tr>\n",
              "    <tr>\n",
              "      <th>162</th>\n",
              "      <td>2008</td>\n",
              "      <td>Barack Obama</td>\n",
              "      <td>Democratic</td>\n",
              "      <td>69498516</td>\n",
              "      <td>win</td>\n",
              "      <td>53.023510</td>\n",
              "      <td>True</td>\n",
              "    </tr>\n",
              "    <tr>\n",
              "      <th>168</th>\n",
              "      <td>2012</td>\n",
              "      <td>Barack Obama</td>\n",
              "      <td>Democratic</td>\n",
              "      <td>65915795</td>\n",
              "      <td>win</td>\n",
              "      <td>51.258484</td>\n",
              "      <td>True</td>\n",
              "    </tr>\n",
              "    <tr>\n",
              "      <th>173</th>\n",
              "      <td>2016</td>\n",
              "      <td>Donald Trump</td>\n",
              "      <td>Republican</td>\n",
              "      <td>62984828</td>\n",
              "      <td>win</td>\n",
              "      <td>46.407862</td>\n",
              "      <td>True</td>\n",
              "    </tr>\n",
              "    <tr>\n",
              "      <th>178</th>\n",
              "      <td>2020</td>\n",
              "      <td>Joseph Biden</td>\n",
              "      <td>Democratic</td>\n",
              "      <td>81268924</td>\n",
              "      <td>win</td>\n",
              "      <td>51.311515</td>\n",
              "      <td>True</td>\n",
              "    </tr>\n",
              "  </tbody>\n",
              "</table>\n",
              "</div>"
            ],
            "text/plain": [
              "     Year          Candidate       Party  Popular vote Result          %  \\\n",
              "131  1980      Ronald Reagan  Republican      43903230    win  50.897944   \n",
              "133  1984      Ronald Reagan  Republican      54455472    win  59.023326   \n",
              "135  1988  George H. W. Bush  Republican      48886597    win  53.518845   \n",
              "140  1992       Bill Clinton  Democratic      44909806    win  43.118485   \n",
              "144  1996       Bill Clinton  Democratic      47400125    win  49.296938   \n",
              "152  2000     George W. Bush  Republican      50456002    win  47.974666   \n",
              "157  2004     George W. Bush  Republican      62040610    win  50.771824   \n",
              "162  2008       Barack Obama  Democratic      69498516    win  53.023510   \n",
              "168  2012       Barack Obama  Democratic      65915795    win  51.258484   \n",
              "173  2016       Donald Trump  Republican      62984828    win  46.407862   \n",
              "178  2020       Joseph Biden  Democratic      81268924    win  51.311515   \n",
              "\n",
              "     Result_bool  \n",
              "131         True  \n",
              "133         True  \n",
              "135         True  \n",
              "140         True  \n",
              "144         True  \n",
              "152         True  \n",
              "157         True  \n",
              "162         True  \n",
              "168         True  \n",
              "173         True  \n",
              "178         True  "
            ]
          },
          "execution_count": 130,
          "metadata": {},
          "output_type": "execute_result"
        }
      ],
      "source": [
        "#Answer Here\n",
        "# Filtering for winners since 1980\n",
        "winners_since_1980 = elections[(elections['Year'] >= 1980) & (elections['Result'] == 'win')]\n",
        "# Displaying the result\n",
        "iswin=pd.DataFrame(winners_since_1980)\n",
        "iswin\n"
      ]
    },
    {
      "cell_type": "markdown",
      "metadata": {
        "id": "EEv5yYEhPtvQ"
      },
      "source": [
        "Above, we've assigned the result of the logical operator to a new variable called `iswin`. This is uncommon. Usually, the series is created and used on the same line. Such code is a little tricky to read at first, but you'll get used to it quickly.\n",
        "\n",
        "Show all 'win' results between 1980 to 2000"
      ]
    },
    {
      "cell_type": "code",
      "execution_count": 135,
      "metadata": {
        "id": "BBFYJwLwPtvQ"
      },
      "outputs": [
        {
          "data": {
            "text/html": [
              "<div>\n",
              "<style scoped>\n",
              "    .dataframe tbody tr th:only-of-type {\n",
              "        vertical-align: middle;\n",
              "    }\n",
              "\n",
              "    .dataframe tbody tr th {\n",
              "        vertical-align: top;\n",
              "    }\n",
              "\n",
              "    .dataframe thead th {\n",
              "        text-align: right;\n",
              "    }\n",
              "</style>\n",
              "<table border=\"1\" class=\"dataframe\">\n",
              "  <thead>\n",
              "    <tr style=\"text-align: right;\">\n",
              "      <th></th>\n",
              "      <th>Year</th>\n",
              "      <th>Candidate</th>\n",
              "      <th>Party</th>\n",
              "      <th>Popular vote</th>\n",
              "      <th>Result</th>\n",
              "      <th>%</th>\n",
              "      <th>Result_bool</th>\n",
              "    </tr>\n",
              "  </thead>\n",
              "  <tbody>\n",
              "    <tr>\n",
              "      <th>131</th>\n",
              "      <td>1980</td>\n",
              "      <td>Ronald Reagan</td>\n",
              "      <td>Republican</td>\n",
              "      <td>43903230</td>\n",
              "      <td>win</td>\n",
              "      <td>50.897944</td>\n",
              "      <td>True</td>\n",
              "    </tr>\n",
              "    <tr>\n",
              "      <th>133</th>\n",
              "      <td>1984</td>\n",
              "      <td>Ronald Reagan</td>\n",
              "      <td>Republican</td>\n",
              "      <td>54455472</td>\n",
              "      <td>win</td>\n",
              "      <td>59.023326</td>\n",
              "      <td>True</td>\n",
              "    </tr>\n",
              "    <tr>\n",
              "      <th>135</th>\n",
              "      <td>1988</td>\n",
              "      <td>George H. W. Bush</td>\n",
              "      <td>Republican</td>\n",
              "      <td>48886597</td>\n",
              "      <td>win</td>\n",
              "      <td>53.518845</td>\n",
              "      <td>True</td>\n",
              "    </tr>\n",
              "    <tr>\n",
              "      <th>140</th>\n",
              "      <td>1992</td>\n",
              "      <td>Bill Clinton</td>\n",
              "      <td>Democratic</td>\n",
              "      <td>44909806</td>\n",
              "      <td>win</td>\n",
              "      <td>43.118485</td>\n",
              "      <td>True</td>\n",
              "    </tr>\n",
              "    <tr>\n",
              "      <th>144</th>\n",
              "      <td>1996</td>\n",
              "      <td>Bill Clinton</td>\n",
              "      <td>Democratic</td>\n",
              "      <td>47400125</td>\n",
              "      <td>win</td>\n",
              "      <td>49.296938</td>\n",
              "      <td>True</td>\n",
              "    </tr>\n",
              "    <tr>\n",
              "      <th>152</th>\n",
              "      <td>2000</td>\n",
              "      <td>George W. Bush</td>\n",
              "      <td>Republican</td>\n",
              "      <td>50456002</td>\n",
              "      <td>win</td>\n",
              "      <td>47.974666</td>\n",
              "      <td>True</td>\n",
              "    </tr>\n",
              "  </tbody>\n",
              "</table>\n",
              "</div>"
            ],
            "text/plain": [
              "     Year          Candidate       Party  Popular vote Result          %  \\\n",
              "131  1980      Ronald Reagan  Republican      43903230    win  50.897944   \n",
              "133  1984      Ronald Reagan  Republican      54455472    win  59.023326   \n",
              "135  1988  George H. W. Bush  Republican      48886597    win  53.518845   \n",
              "140  1992       Bill Clinton  Democratic      44909806    win  43.118485   \n",
              "144  1996       Bill Clinton  Democratic      47400125    win  49.296938   \n",
              "152  2000     George W. Bush  Republican      50456002    win  47.974666   \n",
              "\n",
              "     Result_bool  \n",
              "131         True  \n",
              "133         True  \n",
              "135         True  \n",
              "140         True  \n",
              "144         True  \n",
              "152         True  "
            ]
          },
          "execution_count": 135,
          "metadata": {},
          "output_type": "execute_result"
        }
      ],
      "source": [
        "#Answer Here\n",
        "iswin.iloc[0:6]\n"
      ]
    },
    {
      "cell_type": "markdown",
      "metadata": {
        "id": "_NW4uODP5C7M"
      },
      "source": [
        "Show all 'Loss' results of Independent party"
      ]
    },
    {
      "cell_type": "code",
      "execution_count": 136,
      "metadata": {
        "id": "SucI5W7yPtvQ"
      },
      "outputs": [
        {
          "data": {
            "text/html": [
              "<div>\n",
              "<style scoped>\n",
              "    .dataframe tbody tr th:only-of-type {\n",
              "        vertical-align: middle;\n",
              "    }\n",
              "\n",
              "    .dataframe tbody tr th {\n",
              "        vertical-align: top;\n",
              "    }\n",
              "\n",
              "    .dataframe thead th {\n",
              "        text-align: right;\n",
              "    }\n",
              "</style>\n",
              "<table border=\"1\" class=\"dataframe\">\n",
              "  <thead>\n",
              "    <tr style=\"text-align: right;\">\n",
              "      <th></th>\n",
              "      <th>Year</th>\n",
              "      <th>Candidate</th>\n",
              "      <th>Party</th>\n",
              "      <th>Popular vote</th>\n",
              "      <th>Result</th>\n",
              "      <th>%</th>\n",
              "      <th>Result_bool</th>\n",
              "    </tr>\n",
              "  </thead>\n",
              "  <tbody>\n",
              "    <tr>\n",
              "      <th>121</th>\n",
              "      <td>1976</td>\n",
              "      <td>Eugene McCarthy</td>\n",
              "      <td>Independent</td>\n",
              "      <td>740460</td>\n",
              "      <td>loss</td>\n",
              "      <td>0.911649</td>\n",
              "      <td>False</td>\n",
              "    </tr>\n",
              "    <tr>\n",
              "      <th>130</th>\n",
              "      <td>1980</td>\n",
              "      <td>John B. Anderson</td>\n",
              "      <td>Independent</td>\n",
              "      <td>5719850</td>\n",
              "      <td>loss</td>\n",
              "      <td>6.631143</td>\n",
              "      <td>False</td>\n",
              "    </tr>\n",
              "    <tr>\n",
              "      <th>143</th>\n",
              "      <td>1992</td>\n",
              "      <td>Ross Perot</td>\n",
              "      <td>Independent</td>\n",
              "      <td>19743821</td>\n",
              "      <td>loss</td>\n",
              "      <td>18.956298</td>\n",
              "      <td>False</td>\n",
              "    </tr>\n",
              "    <tr>\n",
              "      <th>161</th>\n",
              "      <td>2004</td>\n",
              "      <td>Ralph Nader</td>\n",
              "      <td>Independent</td>\n",
              "      <td>465151</td>\n",
              "      <td>loss</td>\n",
              "      <td>0.380663</td>\n",
              "      <td>False</td>\n",
              "    </tr>\n",
              "    <tr>\n",
              "      <th>167</th>\n",
              "      <td>2008</td>\n",
              "      <td>Ralph Nader</td>\n",
              "      <td>Independent</td>\n",
              "      <td>739034</td>\n",
              "      <td>loss</td>\n",
              "      <td>0.563842</td>\n",
              "      <td>False</td>\n",
              "    </tr>\n",
              "    <tr>\n",
              "      <th>174</th>\n",
              "      <td>2016</td>\n",
              "      <td>Evan McMullin</td>\n",
              "      <td>Independent</td>\n",
              "      <td>732273</td>\n",
              "      <td>loss</td>\n",
              "      <td>0.539546</td>\n",
              "      <td>False</td>\n",
              "    </tr>\n",
              "  </tbody>\n",
              "</table>\n",
              "</div>"
            ],
            "text/plain": [
              "     Year         Candidate        Party  Popular vote Result          %  \\\n",
              "121  1976   Eugene McCarthy  Independent        740460   loss   0.911649   \n",
              "130  1980  John B. Anderson  Independent       5719850   loss   6.631143   \n",
              "143  1992        Ross Perot  Independent      19743821   loss  18.956298   \n",
              "161  2004       Ralph Nader  Independent        465151   loss   0.380663   \n",
              "167  2008       Ralph Nader  Independent        739034   loss   0.563842   \n",
              "174  2016     Evan McMullin  Independent        732273   loss   0.539546   \n",
              "\n",
              "     Result_bool  \n",
              "121        False  \n",
              "130        False  \n",
              "143        False  \n",
              "161        False  \n",
              "167        False  \n",
              "174        False  "
            ]
          },
          "execution_count": 136,
          "metadata": {},
          "output_type": "execute_result"
        }
      ],
      "source": [
        "# Answer Here\n",
        "# Filtering for winners since 1980\n",
        "loser_indep = elections[(elections['Party'] == 'Independent') & (elections['Result'] == 'loss')]\n",
        "# Displaying the result\n",
        "loser_indep"
      ]
    },
    {
      "cell_type": "markdown",
      "metadata": {
        "id": "wr9tNNT_PtvQ"
      },
      "source": [
        "We can select multiple criteria by creating multiple boolean Series and combining them using the `&` operator.\n",
        "\n",
        "Show results of win with percentage less than 50%"
      ]
    },
    {
      "cell_type": "code",
      "execution_count": 144,
      "metadata": {
        "id": "7VygVujvPtvQ",
        "scrolled": true
      },
      "outputs": [
        {
          "data": {
            "text/html": [
              "<div>\n",
              "<style scoped>\n",
              "    .dataframe tbody tr th:only-of-type {\n",
              "        vertical-align: middle;\n",
              "    }\n",
              "\n",
              "    .dataframe tbody tr th {\n",
              "        vertical-align: top;\n",
              "    }\n",
              "\n",
              "    .dataframe thead th {\n",
              "        text-align: right;\n",
              "    }\n",
              "</style>\n",
              "<table border=\"1\" class=\"dataframe\">\n",
              "  <thead>\n",
              "    <tr style=\"text-align: right;\">\n",
              "      <th></th>\n",
              "      <th>Year</th>\n",
              "      <th>Candidate</th>\n",
              "      <th>Party</th>\n",
              "      <th>Popular vote</th>\n",
              "      <th>Result</th>\n",
              "      <th>%</th>\n",
              "      <th>Result_bool</th>\n",
              "    </tr>\n",
              "  </thead>\n",
              "  <tbody>\n",
              "    <tr>\n",
              "      <th>1</th>\n",
              "      <td>1824</td>\n",
              "      <td>John Quincy Adams</td>\n",
              "      <td>Democratic-Republican</td>\n",
              "      <td>113142</td>\n",
              "      <td>win</td>\n",
              "      <td>42.789878</td>\n",
              "      <td>True</td>\n",
              "    </tr>\n",
              "    <tr>\n",
              "      <th>16</th>\n",
              "      <td>1848</td>\n",
              "      <td>Zachary Taylor</td>\n",
              "      <td>Whig</td>\n",
              "      <td>1360235</td>\n",
              "      <td>win</td>\n",
              "      <td>47.309296</td>\n",
              "      <td>True</td>\n",
              "    </tr>\n",
              "    <tr>\n",
              "      <th>20</th>\n",
              "      <td>1856</td>\n",
              "      <td>James Buchanan</td>\n",
              "      <td>Democratic</td>\n",
              "      <td>1835140</td>\n",
              "      <td>win</td>\n",
              "      <td>45.306080</td>\n",
              "      <td>True</td>\n",
              "    </tr>\n",
              "    <tr>\n",
              "      <th>23</th>\n",
              "      <td>1860</td>\n",
              "      <td>Abraham Lincoln</td>\n",
              "      <td>Republican</td>\n",
              "      <td>1855993</td>\n",
              "      <td>win</td>\n",
              "      <td>39.699408</td>\n",
              "      <td>True</td>\n",
              "    </tr>\n",
              "    <tr>\n",
              "      <th>33</th>\n",
              "      <td>1876</td>\n",
              "      <td>Rutherford Hayes</td>\n",
              "      <td>Republican</td>\n",
              "      <td>4034142</td>\n",
              "      <td>win</td>\n",
              "      <td>48.471624</td>\n",
              "      <td>True</td>\n",
              "    </tr>\n",
              "    <tr>\n",
              "      <th>36</th>\n",
              "      <td>1880</td>\n",
              "      <td>James Garfield</td>\n",
              "      <td>Republican</td>\n",
              "      <td>4453337</td>\n",
              "      <td>win</td>\n",
              "      <td>48.369234</td>\n",
              "      <td>True</td>\n",
              "    </tr>\n",
              "    <tr>\n",
              "      <th>39</th>\n",
              "      <td>1884</td>\n",
              "      <td>Grover Cleveland</td>\n",
              "      <td>Democratic</td>\n",
              "      <td>4914482</td>\n",
              "      <td>win</td>\n",
              "      <td>48.884933</td>\n",
              "      <td>True</td>\n",
              "    </tr>\n",
              "    <tr>\n",
              "      <th>43</th>\n",
              "      <td>1888</td>\n",
              "      <td>Benjamin Harrison</td>\n",
              "      <td>Republican</td>\n",
              "      <td>5443633</td>\n",
              "      <td>win</td>\n",
              "      <td>47.858041</td>\n",
              "      <td>True</td>\n",
              "    </tr>\n",
              "    <tr>\n",
              "      <th>47</th>\n",
              "      <td>1892</td>\n",
              "      <td>Grover Cleveland</td>\n",
              "      <td>Democratic</td>\n",
              "      <td>5553898</td>\n",
              "      <td>win</td>\n",
              "      <td>46.121393</td>\n",
              "      <td>True</td>\n",
              "    </tr>\n",
              "    <tr>\n",
              "      <th>70</th>\n",
              "      <td>1912</td>\n",
              "      <td>Woodrow Wilson</td>\n",
              "      <td>Democratic</td>\n",
              "      <td>6296284</td>\n",
              "      <td>win</td>\n",
              "      <td>41.933422</td>\n",
              "      <td>True</td>\n",
              "    </tr>\n",
              "    <tr>\n",
              "      <th>74</th>\n",
              "      <td>1916</td>\n",
              "      <td>Woodrow Wilson</td>\n",
              "      <td>Democratic</td>\n",
              "      <td>9126868</td>\n",
              "      <td>win</td>\n",
              "      <td>49.367987</td>\n",
              "      <td>True</td>\n",
              "    </tr>\n",
              "    <tr>\n",
              "      <th>100</th>\n",
              "      <td>1948</td>\n",
              "      <td>Harry Truman</td>\n",
              "      <td>Democratic</td>\n",
              "      <td>24179347</td>\n",
              "      <td>win</td>\n",
              "      <td>49.601536</td>\n",
              "      <td>True</td>\n",
              "    </tr>\n",
              "    <tr>\n",
              "      <th>117</th>\n",
              "      <td>1968</td>\n",
              "      <td>Richard Nixon</td>\n",
              "      <td>Republican</td>\n",
              "      <td>31783783</td>\n",
              "      <td>win</td>\n",
              "      <td>43.565246</td>\n",
              "      <td>True</td>\n",
              "    </tr>\n",
              "    <tr>\n",
              "      <th>140</th>\n",
              "      <td>1992</td>\n",
              "      <td>Bill Clinton</td>\n",
              "      <td>Democratic</td>\n",
              "      <td>44909806</td>\n",
              "      <td>win</td>\n",
              "      <td>43.118485</td>\n",
              "      <td>True</td>\n",
              "    </tr>\n",
              "    <tr>\n",
              "      <th>144</th>\n",
              "      <td>1996</td>\n",
              "      <td>Bill Clinton</td>\n",
              "      <td>Democratic</td>\n",
              "      <td>47400125</td>\n",
              "      <td>win</td>\n",
              "      <td>49.296938</td>\n",
              "      <td>True</td>\n",
              "    </tr>\n",
              "    <tr>\n",
              "      <th>152</th>\n",
              "      <td>2000</td>\n",
              "      <td>George W. Bush</td>\n",
              "      <td>Republican</td>\n",
              "      <td>50456002</td>\n",
              "      <td>win</td>\n",
              "      <td>47.974666</td>\n",
              "      <td>True</td>\n",
              "    </tr>\n",
              "    <tr>\n",
              "      <th>173</th>\n",
              "      <td>2016</td>\n",
              "      <td>Donald Trump</td>\n",
              "      <td>Republican</td>\n",
              "      <td>62984828</td>\n",
              "      <td>win</td>\n",
              "      <td>46.407862</td>\n",
              "      <td>True</td>\n",
              "    </tr>\n",
              "  </tbody>\n",
              "</table>\n",
              "</div>"
            ],
            "text/plain": [
              "     Year          Candidate                  Party  Popular vote Result  \\\n",
              "1    1824  John Quincy Adams  Democratic-Republican        113142    win   \n",
              "16   1848     Zachary Taylor                   Whig       1360235    win   \n",
              "20   1856     James Buchanan             Democratic       1835140    win   \n",
              "23   1860    Abraham Lincoln             Republican       1855993    win   \n",
              "33   1876   Rutherford Hayes             Republican       4034142    win   \n",
              "36   1880     James Garfield             Republican       4453337    win   \n",
              "39   1884   Grover Cleveland             Democratic       4914482    win   \n",
              "43   1888  Benjamin Harrison             Republican       5443633    win   \n",
              "47   1892   Grover Cleveland             Democratic       5553898    win   \n",
              "70   1912     Woodrow Wilson             Democratic       6296284    win   \n",
              "74   1916     Woodrow Wilson             Democratic       9126868    win   \n",
              "100  1948       Harry Truman             Democratic      24179347    win   \n",
              "117  1968      Richard Nixon             Republican      31783783    win   \n",
              "140  1992       Bill Clinton             Democratic      44909806    win   \n",
              "144  1996       Bill Clinton             Democratic      47400125    win   \n",
              "152  2000     George W. Bush             Republican      50456002    win   \n",
              "173  2016       Donald Trump             Republican      62984828    win   \n",
              "\n",
              "             %  Result_bool  \n",
              "1    42.789878         True  \n",
              "16   47.309296         True  \n",
              "20   45.306080         True  \n",
              "23   39.699408         True  \n",
              "33   48.471624         True  \n",
              "36   48.369234         True  \n",
              "39   48.884933         True  \n",
              "43   47.858041         True  \n",
              "47   46.121393         True  \n",
              "70   41.933422         True  \n",
              "74   49.367987         True  \n",
              "100  49.601536         True  \n",
              "117  43.565246         True  \n",
              "140  43.118485         True  \n",
              "144  49.296938         True  \n",
              "152  47.974666         True  \n",
              "173  46.407862         True  "
            ]
          },
          "execution_count": 144,
          "metadata": {},
          "output_type": "execute_result"
        }
      ],
      "source": [
        "# Answer Here\n",
        "win_perc = elections[(elections['Result'] == 'win') & (elections['%'] < 50.0)]\n",
        "win_perc"
      ]
    },
    {
      "cell_type": "markdown",
      "metadata": {
        "id": "ToedM6lA6Bp7"
      },
      "source": [
        "Show all 'win' results between 1980 to 2000"
      ]
    },
    {
      "cell_type": "code",
      "execution_count": 145,
      "metadata": {
        "id": "RfqDKcii6Dcs"
      },
      "outputs": [
        {
          "data": {
            "text/html": [
              "<div>\n",
              "<style scoped>\n",
              "    .dataframe tbody tr th:only-of-type {\n",
              "        vertical-align: middle;\n",
              "    }\n",
              "\n",
              "    .dataframe tbody tr th {\n",
              "        vertical-align: top;\n",
              "    }\n",
              "\n",
              "    .dataframe thead th {\n",
              "        text-align: right;\n",
              "    }\n",
              "</style>\n",
              "<table border=\"1\" class=\"dataframe\">\n",
              "  <thead>\n",
              "    <tr style=\"text-align: right;\">\n",
              "      <th></th>\n",
              "      <th>Year</th>\n",
              "      <th>Candidate</th>\n",
              "      <th>Party</th>\n",
              "      <th>Popular vote</th>\n",
              "      <th>Result</th>\n",
              "      <th>%</th>\n",
              "      <th>Result_bool</th>\n",
              "    </tr>\n",
              "  </thead>\n",
              "  <tbody>\n",
              "    <tr>\n",
              "      <th>131</th>\n",
              "      <td>1980</td>\n",
              "      <td>Ronald Reagan</td>\n",
              "      <td>Republican</td>\n",
              "      <td>43903230</td>\n",
              "      <td>win</td>\n",
              "      <td>50.897944</td>\n",
              "      <td>True</td>\n",
              "    </tr>\n",
              "    <tr>\n",
              "      <th>133</th>\n",
              "      <td>1984</td>\n",
              "      <td>Ronald Reagan</td>\n",
              "      <td>Republican</td>\n",
              "      <td>54455472</td>\n",
              "      <td>win</td>\n",
              "      <td>59.023326</td>\n",
              "      <td>True</td>\n",
              "    </tr>\n",
              "    <tr>\n",
              "      <th>135</th>\n",
              "      <td>1988</td>\n",
              "      <td>George H. W. Bush</td>\n",
              "      <td>Republican</td>\n",
              "      <td>48886597</td>\n",
              "      <td>win</td>\n",
              "      <td>53.518845</td>\n",
              "      <td>True</td>\n",
              "    </tr>\n",
              "    <tr>\n",
              "      <th>140</th>\n",
              "      <td>1992</td>\n",
              "      <td>Bill Clinton</td>\n",
              "      <td>Democratic</td>\n",
              "      <td>44909806</td>\n",
              "      <td>win</td>\n",
              "      <td>43.118485</td>\n",
              "      <td>True</td>\n",
              "    </tr>\n",
              "    <tr>\n",
              "      <th>144</th>\n",
              "      <td>1996</td>\n",
              "      <td>Bill Clinton</td>\n",
              "      <td>Democratic</td>\n",
              "      <td>47400125</td>\n",
              "      <td>win</td>\n",
              "      <td>49.296938</td>\n",
              "      <td>True</td>\n",
              "    </tr>\n",
              "    <tr>\n",
              "      <th>152</th>\n",
              "      <td>2000</td>\n",
              "      <td>George W. Bush</td>\n",
              "      <td>Republican</td>\n",
              "      <td>50456002</td>\n",
              "      <td>win</td>\n",
              "      <td>47.974666</td>\n",
              "      <td>True</td>\n",
              "    </tr>\n",
              "  </tbody>\n",
              "</table>\n",
              "</div>"
            ],
            "text/plain": [
              "     Year          Candidate       Party  Popular vote Result          %  \\\n",
              "131  1980      Ronald Reagan  Republican      43903230    win  50.897944   \n",
              "133  1984      Ronald Reagan  Republican      54455472    win  59.023326   \n",
              "135  1988  George H. W. Bush  Republican      48886597    win  53.518845   \n",
              "140  1992       Bill Clinton  Democratic      44909806    win  43.118485   \n",
              "144  1996       Bill Clinton  Democratic      47400125    win  49.296938   \n",
              "152  2000     George W. Bush  Republican      50456002    win  47.974666   \n",
              "\n",
              "     Result_bool  \n",
              "131         True  \n",
              "133         True  \n",
              "135         True  \n",
              "140         True  \n",
              "144         True  \n",
              "152         True  "
            ]
          },
          "execution_count": 145,
          "metadata": {},
          "output_type": "execute_result"
        }
      ],
      "source": [
        "# Answer Here\n",
        "iswin.iloc[0:6]\n"
      ]
    },
    {
      "cell_type": "markdown",
      "metadata": {
        "id": "pkonOW2pPtvR"
      },
      "source": [
        "## Loc and iLoc"
      ]
    },
    {
      "cell_type": "markdown",
      "metadata": {
        "id": "hSiAy9KD5eJk"
      },
      "source": [
        "Show 5 enteries from start"
      ]
    },
    {
      "cell_type": "code",
      "execution_count": 148,
      "metadata": {},
      "outputs": [
        {
          "data": {
            "text/html": [
              "<div>\n",
              "<style scoped>\n",
              "    .dataframe tbody tr th:only-of-type {\n",
              "        vertical-align: middle;\n",
              "    }\n",
              "\n",
              "    .dataframe tbody tr th {\n",
              "        vertical-align: top;\n",
              "    }\n",
              "\n",
              "    .dataframe thead th {\n",
              "        text-align: right;\n",
              "    }\n",
              "</style>\n",
              "<table border=\"1\" class=\"dataframe\">\n",
              "  <thead>\n",
              "    <tr style=\"text-align: right;\">\n",
              "      <th></th>\n",
              "      <th>Year</th>\n",
              "      <th>Candidate</th>\n",
              "      <th>Party</th>\n",
              "      <th>Popular vote</th>\n",
              "      <th>Result</th>\n",
              "      <th>%</th>\n",
              "      <th>Result_bool</th>\n",
              "    </tr>\n",
              "  </thead>\n",
              "  <tbody>\n",
              "    <tr>\n",
              "      <th>0</th>\n",
              "      <td>1824</td>\n",
              "      <td>Andrew Jackson</td>\n",
              "      <td>Democratic-Republican</td>\n",
              "      <td>151271</td>\n",
              "      <td>loss</td>\n",
              "      <td>57.210122</td>\n",
              "      <td>False</td>\n",
              "    </tr>\n",
              "    <tr>\n",
              "      <th>1</th>\n",
              "      <td>1824</td>\n",
              "      <td>John Quincy Adams</td>\n",
              "      <td>Democratic-Republican</td>\n",
              "      <td>113142</td>\n",
              "      <td>win</td>\n",
              "      <td>42.789878</td>\n",
              "      <td>True</td>\n",
              "    </tr>\n",
              "    <tr>\n",
              "      <th>2</th>\n",
              "      <td>1828</td>\n",
              "      <td>Andrew Jackson</td>\n",
              "      <td>Democratic</td>\n",
              "      <td>642806</td>\n",
              "      <td>win</td>\n",
              "      <td>56.203927</td>\n",
              "      <td>True</td>\n",
              "    </tr>\n",
              "    <tr>\n",
              "      <th>3</th>\n",
              "      <td>1828</td>\n",
              "      <td>John Quincy Adams</td>\n",
              "      <td>National Republican</td>\n",
              "      <td>500897</td>\n",
              "      <td>loss</td>\n",
              "      <td>43.796073</td>\n",
              "      <td>False</td>\n",
              "    </tr>\n",
              "    <tr>\n",
              "      <th>4</th>\n",
              "      <td>1832</td>\n",
              "      <td>Andrew Jackson</td>\n",
              "      <td>Democratic</td>\n",
              "      <td>702735</td>\n",
              "      <td>win</td>\n",
              "      <td>54.574789</td>\n",
              "      <td>True</td>\n",
              "    </tr>\n",
              "  </tbody>\n",
              "</table>\n",
              "</div>"
            ],
            "text/plain": [
              "   Year          Candidate                  Party  Popular vote Result  \\\n",
              "0  1824     Andrew Jackson  Democratic-Republican        151271   loss   \n",
              "1  1824  John Quincy Adams  Democratic-Republican        113142    win   \n",
              "2  1828     Andrew Jackson             Democratic        642806    win   \n",
              "3  1828  John Quincy Adams    National Republican        500897   loss   \n",
              "4  1832     Andrew Jackson             Democratic        702735    win   \n",
              "\n",
              "           %  Result_bool  \n",
              "0  57.210122        False  \n",
              "1  42.789878         True  \n",
              "2  56.203927         True  \n",
              "3  43.796073        False  \n",
              "4  54.574789         True  "
            ]
          },
          "execution_count": 148,
          "metadata": {},
          "output_type": "execute_result"
        }
      ],
      "source": [
        "elections.head()"
      ]
    },
    {
      "cell_type": "code",
      "execution_count": 150,
      "metadata": {
        "id": "OIwnpgEM6HeI"
      },
      "outputs": [
        {
          "data": {
            "text/html": [
              "<div>\n",
              "<style scoped>\n",
              "    .dataframe tbody tr th:only-of-type {\n",
              "        vertical-align: middle;\n",
              "    }\n",
              "\n",
              "    .dataframe tbody tr th {\n",
              "        vertical-align: top;\n",
              "    }\n",
              "\n",
              "    .dataframe thead th {\n",
              "        text-align: right;\n",
              "    }\n",
              "</style>\n",
              "<table border=\"1\" class=\"dataframe\">\n",
              "  <thead>\n",
              "    <tr style=\"text-align: right;\">\n",
              "      <th></th>\n",
              "      <th>Year</th>\n",
              "      <th>Candidate</th>\n",
              "      <th>Party</th>\n",
              "      <th>Popular vote</th>\n",
              "      <th>Result</th>\n",
              "      <th>%</th>\n",
              "      <th>Result_bool</th>\n",
              "    </tr>\n",
              "  </thead>\n",
              "  <tbody>\n",
              "    <tr>\n",
              "      <th>1</th>\n",
              "      <td>1824</td>\n",
              "      <td>John Quincy Adams</td>\n",
              "      <td>Democratic-Republican</td>\n",
              "      <td>113142</td>\n",
              "      <td>win</td>\n",
              "      <td>42.789878</td>\n",
              "      <td>True</td>\n",
              "    </tr>\n",
              "    <tr>\n",
              "      <th>2</th>\n",
              "      <td>1828</td>\n",
              "      <td>Andrew Jackson</td>\n",
              "      <td>Democratic</td>\n",
              "      <td>642806</td>\n",
              "      <td>win</td>\n",
              "      <td>56.203927</td>\n",
              "      <td>True</td>\n",
              "    </tr>\n",
              "    <tr>\n",
              "      <th>3</th>\n",
              "      <td>1828</td>\n",
              "      <td>John Quincy Adams</td>\n",
              "      <td>National Republican</td>\n",
              "      <td>500897</td>\n",
              "      <td>loss</td>\n",
              "      <td>43.796073</td>\n",
              "      <td>False</td>\n",
              "    </tr>\n",
              "    <tr>\n",
              "      <th>4</th>\n",
              "      <td>1832</td>\n",
              "      <td>Andrew Jackson</td>\n",
              "      <td>Democratic</td>\n",
              "      <td>702735</td>\n",
              "      <td>win</td>\n",
              "      <td>54.574789</td>\n",
              "      <td>True</td>\n",
              "    </tr>\n",
              "    <tr>\n",
              "      <th>5</th>\n",
              "      <td>1832</td>\n",
              "      <td>Henry Clay</td>\n",
              "      <td>National Republican</td>\n",
              "      <td>484205</td>\n",
              "      <td>loss</td>\n",
              "      <td>37.603628</td>\n",
              "      <td>False</td>\n",
              "    </tr>\n",
              "  </tbody>\n",
              "</table>\n",
              "</div>"
            ],
            "text/plain": [
              "   Year          Candidate                  Party  Popular vote Result  \\\n",
              "1  1824  John Quincy Adams  Democratic-Republican        113142    win   \n",
              "2  1828     Andrew Jackson             Democratic        642806    win   \n",
              "3  1828  John Quincy Adams    National Republican        500897   loss   \n",
              "4  1832     Andrew Jackson             Democratic        702735    win   \n",
              "5  1832         Henry Clay    National Republican        484205   loss   \n",
              "\n",
              "           %  Result_bool  \n",
              "1  42.789878         True  \n",
              "2  56.203927         True  \n",
              "3  43.796073        False  \n",
              "4  54.574789         True  \n",
              "5  37.603628        False  "
            ]
          },
          "execution_count": 150,
          "metadata": {},
          "output_type": "execute_result"
        }
      ],
      "source": [
        "# Answer Here\n",
        "elections.loc[1:5]"
      ]
    },
    {
      "cell_type": "markdown",
      "metadata": {
        "id": "XHhLGedmPtvR"
      },
      "source": [
        "You can provide `.loc` a list of row labels [0-5] and column labels ['Candidate','Party', 'Year'] as input to return a dataframe"
      ]
    },
    {
      "cell_type": "code",
      "execution_count": 162,
      "metadata": {
        "id": "XUZe4G0WPtvR"
      },
      "outputs": [
        {
          "data": {
            "text/html": [
              "<div>\n",
              "<style scoped>\n",
              "    .dataframe tbody tr th:only-of-type {\n",
              "        vertical-align: middle;\n",
              "    }\n",
              "\n",
              "    .dataframe tbody tr th {\n",
              "        vertical-align: top;\n",
              "    }\n",
              "\n",
              "    .dataframe thead th {\n",
              "        text-align: right;\n",
              "    }\n",
              "</style>\n",
              "<table border=\"1\" class=\"dataframe\">\n",
              "  <thead>\n",
              "    <tr style=\"text-align: right;\">\n",
              "      <th></th>\n",
              "      <th>Candidate</th>\n",
              "      <th>Party</th>\n",
              "      <th>Year</th>\n",
              "    </tr>\n",
              "  </thead>\n",
              "  <tbody>\n",
              "    <tr>\n",
              "      <th>0</th>\n",
              "      <td>Andrew Jackson</td>\n",
              "      <td>Democratic-Republican</td>\n",
              "      <td>1824</td>\n",
              "    </tr>\n",
              "    <tr>\n",
              "      <th>1</th>\n",
              "      <td>John Quincy Adams</td>\n",
              "      <td>Democratic-Republican</td>\n",
              "      <td>1824</td>\n",
              "    </tr>\n",
              "    <tr>\n",
              "      <th>2</th>\n",
              "      <td>Andrew Jackson</td>\n",
              "      <td>Democratic</td>\n",
              "      <td>1828</td>\n",
              "    </tr>\n",
              "    <tr>\n",
              "      <th>3</th>\n",
              "      <td>John Quincy Adams</td>\n",
              "      <td>National Republican</td>\n",
              "      <td>1828</td>\n",
              "    </tr>\n",
              "    <tr>\n",
              "      <th>4</th>\n",
              "      <td>Andrew Jackson</td>\n",
              "      <td>Democratic</td>\n",
              "      <td>1832</td>\n",
              "    </tr>\n",
              "  </tbody>\n",
              "</table>\n",
              "</div>"
            ],
            "text/plain": [
              "           Candidate                  Party  Year\n",
              "0     Andrew Jackson  Democratic-Republican  1824\n",
              "1  John Quincy Adams  Democratic-Republican  1824\n",
              "2     Andrew Jackson             Democratic  1828\n",
              "3  John Quincy Adams    National Republican  1828\n",
              "4     Andrew Jackson             Democratic  1832"
            ]
          },
          "execution_count": 162,
          "metadata": {},
          "output_type": "execute_result"
        }
      ],
      "source": [
        "#Answer Here\n",
        "elections.loc[0:4, ['Candidate', 'Party', 'Year']]"
      ]
    },
    {
      "cell_type": "markdown",
      "metadata": {
        "id": "Tw5Er1BCPtvR"
      },
      "source": [
        "Loc also supports **slicing** (for all types, including numeric and string labels!). Note that the slicing for loc is **inclusive**, even for numeric slices.\n",
        "\n",
        "Use Slicing on Rows and Columns"
      ]
    },
    {
      "cell_type": "code",
      "execution_count": 170,
      "metadata": {
        "id": "SXI38aagPtvR",
        "scrolled": true
      },
      "outputs": [
        {
          "data": {
            "text/html": [
              "<div>\n",
              "<style scoped>\n",
              "    .dataframe tbody tr th:only-of-type {\n",
              "        vertical-align: middle;\n",
              "    }\n",
              "\n",
              "    .dataframe tbody tr th {\n",
              "        vertical-align: top;\n",
              "    }\n",
              "\n",
              "    .dataframe thead th {\n",
              "        text-align: right;\n",
              "    }\n",
              "</style>\n",
              "<table border=\"1\" class=\"dataframe\">\n",
              "  <thead>\n",
              "    <tr style=\"text-align: right;\">\n",
              "      <th></th>\n",
              "      <th>Year</th>\n",
              "      <th>Candidate</th>\n",
              "      <th>Party</th>\n",
              "      <th>Popular vote</th>\n",
              "      <th>Result</th>\n",
              "      <th>%</th>\n",
              "      <th>Result_bool</th>\n",
              "    </tr>\n",
              "  </thead>\n",
              "  <tbody>\n",
              "    <tr>\n",
              "      <th>1</th>\n",
              "      <td>1824</td>\n",
              "      <td>John Quincy Adams</td>\n",
              "      <td>Democratic-Republican</td>\n",
              "      <td>113142</td>\n",
              "      <td>win</td>\n",
              "      <td>42.789878</td>\n",
              "      <td>True</td>\n",
              "    </tr>\n",
              "    <tr>\n",
              "      <th>2</th>\n",
              "      <td>1828</td>\n",
              "      <td>Andrew Jackson</td>\n",
              "      <td>Democratic</td>\n",
              "      <td>642806</td>\n",
              "      <td>win</td>\n",
              "      <td>56.203927</td>\n",
              "      <td>True</td>\n",
              "    </tr>\n",
              "    <tr>\n",
              "      <th>3</th>\n",
              "      <td>1828</td>\n",
              "      <td>John Quincy Adams</td>\n",
              "      <td>National Republican</td>\n",
              "      <td>500897</td>\n",
              "      <td>loss</td>\n",
              "      <td>43.796073</td>\n",
              "      <td>False</td>\n",
              "    </tr>\n",
              "    <tr>\n",
              "      <th>4</th>\n",
              "      <td>1832</td>\n",
              "      <td>Andrew Jackson</td>\n",
              "      <td>Democratic</td>\n",
              "      <td>702735</td>\n",
              "      <td>win</td>\n",
              "      <td>54.574789</td>\n",
              "      <td>True</td>\n",
              "    </tr>\n",
              "    <tr>\n",
              "      <th>5</th>\n",
              "      <td>1832</td>\n",
              "      <td>Henry Clay</td>\n",
              "      <td>National Republican</td>\n",
              "      <td>484205</td>\n",
              "      <td>loss</td>\n",
              "      <td>37.603628</td>\n",
              "      <td>False</td>\n",
              "    </tr>\n",
              "  </tbody>\n",
              "</table>\n",
              "</div>"
            ],
            "text/plain": [
              "   Year          Candidate                  Party  Popular vote Result  \\\n",
              "1  1824  John Quincy Adams  Democratic-Republican        113142    win   \n",
              "2  1828     Andrew Jackson             Democratic        642806    win   \n",
              "3  1828  John Quincy Adams    National Republican        500897   loss   \n",
              "4  1832     Andrew Jackson             Democratic        702735    win   \n",
              "5  1832         Henry Clay    National Republican        484205   loss   \n",
              "\n",
              "           %  Result_bool  \n",
              "1  42.789878         True  \n",
              "2  56.203927         True  \n",
              "3  43.796073        False  \n",
              "4  54.574789         True  \n",
              "5  37.603628        False  "
            ]
          },
          "execution_count": 170,
          "metadata": {},
          "output_type": "execute_result"
        }
      ],
      "source": [
        "# Answer Here\n",
        "elections.loc[1:5]"
      ]
    },
    {
      "cell_type": "markdown",
      "metadata": {
        "id": "pM5KD0kPPtvR"
      },
      "source": [
        "If we provide only a **single label** for the column argument, we get back a **Series**."
      ]
    },
    {
      "cell_type": "code",
      "execution_count": 173,
      "metadata": {
        "id": "Ps6PUX9_PtvS"
      },
      "outputs": [
        {
          "data": {
            "text/plain": [
              "0         Andrew Jackson\n",
              "1      John Quincy Adams\n",
              "2         Andrew Jackson\n",
              "3      John Quincy Adams\n",
              "4         Andrew Jackson\n",
              "             ...        \n",
              "177           Jill Stein\n",
              "178         Joseph Biden\n",
              "179         Donald Trump\n",
              "180         Jo Jorgensen\n",
              "181       Howard Hawkins\n",
              "Name: Candidate, Length: 182, dtype: object"
            ]
          },
          "execution_count": 173,
          "metadata": {},
          "output_type": "execute_result"
        }
      ],
      "source": [
        "# Answer Here\n",
        "elections.loc[:, 'Candidate']"
      ]
    },
    {
      "cell_type": "markdown",
      "metadata": {
        "id": "z8qglbBwPtvS"
      },
      "source": [
        "If we want a data frame instead and don't want to use to_frame, we can provide a **list** containing the column name."
      ]
    },
    {
      "cell_type": "code",
      "execution_count": 175,
      "metadata": {
        "id": "I9JqZBVMPtvS",
        "scrolled": true
      },
      "outputs": [
        {
          "data": {
            "text/html": [
              "<div>\n",
              "<style scoped>\n",
              "    .dataframe tbody tr th:only-of-type {\n",
              "        vertical-align: middle;\n",
              "    }\n",
              "\n",
              "    .dataframe tbody tr th {\n",
              "        vertical-align: top;\n",
              "    }\n",
              "\n",
              "    .dataframe thead th {\n",
              "        text-align: right;\n",
              "    }\n",
              "</style>\n",
              "<table border=\"1\" class=\"dataframe\">\n",
              "  <thead>\n",
              "    <tr style=\"text-align: right;\">\n",
              "      <th></th>\n",
              "      <th>Candidate</th>\n",
              "    </tr>\n",
              "  </thead>\n",
              "  <tbody>\n",
              "    <tr>\n",
              "      <th>0</th>\n",
              "      <td>Andrew Jackson</td>\n",
              "    </tr>\n",
              "    <tr>\n",
              "      <th>1</th>\n",
              "      <td>John Quincy Adams</td>\n",
              "    </tr>\n",
              "    <tr>\n",
              "      <th>2</th>\n",
              "      <td>Andrew Jackson</td>\n",
              "    </tr>\n",
              "    <tr>\n",
              "      <th>3</th>\n",
              "      <td>John Quincy Adams</td>\n",
              "    </tr>\n",
              "    <tr>\n",
              "      <th>4</th>\n",
              "      <td>Andrew Jackson</td>\n",
              "    </tr>\n",
              "    <tr>\n",
              "      <th>...</th>\n",
              "      <td>...</td>\n",
              "    </tr>\n",
              "    <tr>\n",
              "      <th>177</th>\n",
              "      <td>Jill Stein</td>\n",
              "    </tr>\n",
              "    <tr>\n",
              "      <th>178</th>\n",
              "      <td>Joseph Biden</td>\n",
              "    </tr>\n",
              "    <tr>\n",
              "      <th>179</th>\n",
              "      <td>Donald Trump</td>\n",
              "    </tr>\n",
              "    <tr>\n",
              "      <th>180</th>\n",
              "      <td>Jo Jorgensen</td>\n",
              "    </tr>\n",
              "    <tr>\n",
              "      <th>181</th>\n",
              "      <td>Howard Hawkins</td>\n",
              "    </tr>\n",
              "  </tbody>\n",
              "</table>\n",
              "<p>182 rows × 1 columns</p>\n",
              "</div>"
            ],
            "text/plain": [
              "             Candidate\n",
              "0       Andrew Jackson\n",
              "1    John Quincy Adams\n",
              "2       Andrew Jackson\n",
              "3    John Quincy Adams\n",
              "4       Andrew Jackson\n",
              "..                 ...\n",
              "177         Jill Stein\n",
              "178       Joseph Biden\n",
              "179       Donald Trump\n",
              "180       Jo Jorgensen\n",
              "181     Howard Hawkins\n",
              "\n",
              "[182 rows x 1 columns]"
            ]
          },
          "execution_count": 175,
          "metadata": {},
          "output_type": "execute_result"
        }
      ],
      "source": [
        "# Answer Here\n",
        "elections.loc[:, ['Candidate']]"
      ]
    },
    {
      "cell_type": "markdown",
      "metadata": {
        "id": "QighByBIPtvS"
      },
      "source": [
        "If we give only one row but many column labels, we'll get back a **Series** corresponding to a row of the table. This new Series has a neat index, where **each entry is the name of the column** that the data came from."
      ]
    },
    {
      "cell_type": "code",
      "execution_count": 185,
      "metadata": {
        "id": "5XT8-_bpPtvS"
      },
      "outputs": [
        {
          "data": {
            "text/plain": [
              "Year                             1824\n",
              "Candidate              Andrew Jackson\n",
              "Party           Democratic-Republican\n",
              "Popular vote                   151271\n",
              "Result                           loss\n",
              "%                           57.210122\n",
              "Result_bool                     False\n",
              "Name: 0, dtype: object"
            ]
          },
          "execution_count": 185,
          "metadata": {},
          "output_type": "execute_result"
        }
      ],
      "source": [
        "# Answer Here\n",
        "elections.loc[0, elections.columns[0:7]]"
      ]
    },
    {
      "cell_type": "markdown",
      "metadata": {
        "id": "oB0GTCT5PtvS"
      },
      "source": [
        "If we omit the column argument altogether, the **default behavior is to retrieve all columns**."
      ]
    },
    {
      "cell_type": "code",
      "execution_count": 183,
      "metadata": {
        "id": "cewKbmCYPtvT"
      },
      "outputs": [
        {
          "data": {
            "text/plain": [
              "Year                             1824\n",
              "Candidate              Andrew Jackson\n",
              "Party           Democratic-Republican\n",
              "Popular vote                   151271\n",
              "Result                           loss\n",
              "%                           57.210122\n",
              "Result_bool                     False\n",
              "Name: 0, dtype: object"
            ]
          },
          "execution_count": 183,
          "metadata": {},
          "output_type": "execute_result"
        }
      ],
      "source": [
        "# Answer Here\n",
        "elections.loc[0]"
      ]
    },
    {
      "cell_type": "markdown",
      "metadata": {
        "id": "GIuYoSqH7TYj"
      },
      "source": [
        "Specify Rows and Columns as List to retrive specific enteries"
      ]
    },
    {
      "cell_type": "code",
      "execution_count": 186,
      "metadata": {
        "id": "roAnjNt2PtvT",
        "scrolled": true
      },
      "outputs": [
        {
          "data": {
            "text/html": [
              "<div>\n",
              "<style scoped>\n",
              "    .dataframe tbody tr th:only-of-type {\n",
              "        vertical-align: middle;\n",
              "    }\n",
              "\n",
              "    .dataframe tbody tr th {\n",
              "        vertical-align: top;\n",
              "    }\n",
              "\n",
              "    .dataframe thead th {\n",
              "        text-align: right;\n",
              "    }\n",
              "</style>\n",
              "<table border=\"1\" class=\"dataframe\">\n",
              "  <thead>\n",
              "    <tr style=\"text-align: right;\">\n",
              "      <th></th>\n",
              "      <th>Candidate</th>\n",
              "      <th>Party</th>\n",
              "      <th>Popular vote</th>\n",
              "    </tr>\n",
              "  </thead>\n",
              "  <tbody>\n",
              "    <tr>\n",
              "      <th>1</th>\n",
              "      <td>John Quincy Adams</td>\n",
              "      <td>Democratic-Republican</td>\n",
              "      <td>113142</td>\n",
              "    </tr>\n",
              "    <tr>\n",
              "      <th>2</th>\n",
              "      <td>Andrew Jackson</td>\n",
              "      <td>Democratic</td>\n",
              "      <td>642806</td>\n",
              "    </tr>\n",
              "    <tr>\n",
              "      <th>3</th>\n",
              "      <td>John Quincy Adams</td>\n",
              "      <td>National Republican</td>\n",
              "      <td>500897</td>\n",
              "    </tr>\n",
              "  </tbody>\n",
              "</table>\n",
              "</div>"
            ],
            "text/plain": [
              "           Candidate                  Party  Popular vote\n",
              "1  John Quincy Adams  Democratic-Republican        113142\n",
              "2     Andrew Jackson             Democratic        642806\n",
              "3  John Quincy Adams    National Republican        500897"
            ]
          },
          "execution_count": 186,
          "metadata": {},
          "output_type": "execute_result"
        }
      ],
      "source": [
        "# Answer Here\n",
        "rows=[1,2,3]\n",
        "columns=[1,2,3]\n",
        "elections.iloc[rows,columns]"
      ]
    },
    {
      "cell_type": "markdown",
      "metadata": {
        "id": "C7Bfwc6gPtvT"
      },
      "source": [
        "Boolean Series are also boolean arrays, so we can use the Boolean Array Selection from earlier using loc as well."
      ]
    },
    {
      "cell_type": "code",
      "execution_count": 194,
      "metadata": {
        "id": "Ub9I30OxPtvT"
      },
      "outputs": [
        {
          "data": {
            "text/html": [
              "<div>\n",
              "<style scoped>\n",
              "    .dataframe tbody tr th:only-of-type {\n",
              "        vertical-align: middle;\n",
              "    }\n",
              "\n",
              "    .dataframe tbody tr th {\n",
              "        vertical-align: top;\n",
              "    }\n",
              "\n",
              "    .dataframe thead th {\n",
              "        text-align: right;\n",
              "    }\n",
              "</style>\n",
              "<table border=\"1\" class=\"dataframe\">\n",
              "  <thead>\n",
              "    <tr style=\"text-align: right;\">\n",
              "      <th></th>\n",
              "      <th>Year</th>\n",
              "      <th>Candidate</th>\n",
              "      <th>Party</th>\n",
              "      <th>Popular vote</th>\n",
              "      <th>Result</th>\n",
              "      <th>%</th>\n",
              "      <th>Result_bool</th>\n",
              "    </tr>\n",
              "  </thead>\n",
              "  <tbody>\n",
              "    <tr>\n",
              "      <th>1</th>\n",
              "      <td>1824</td>\n",
              "      <td>John Quincy Adams</td>\n",
              "      <td>Democratic-Republican</td>\n",
              "      <td>113142</td>\n",
              "      <td>win</td>\n",
              "      <td>42.789878</td>\n",
              "      <td>True</td>\n",
              "    </tr>\n",
              "    <tr>\n",
              "      <th>2</th>\n",
              "      <td>1828</td>\n",
              "      <td>Andrew Jackson</td>\n",
              "      <td>Democratic</td>\n",
              "      <td>642806</td>\n",
              "      <td>win</td>\n",
              "      <td>56.203927</td>\n",
              "      <td>True</td>\n",
              "    </tr>\n",
              "    <tr>\n",
              "      <th>4</th>\n",
              "      <td>1832</td>\n",
              "      <td>Andrew Jackson</td>\n",
              "      <td>Democratic</td>\n",
              "      <td>702735</td>\n",
              "      <td>win</td>\n",
              "      <td>54.574789</td>\n",
              "      <td>True</td>\n",
              "    </tr>\n",
              "    <tr>\n",
              "      <th>8</th>\n",
              "      <td>1836</td>\n",
              "      <td>Martin Van Buren</td>\n",
              "      <td>Democratic</td>\n",
              "      <td>763291</td>\n",
              "      <td>win</td>\n",
              "      <td>52.272472</td>\n",
              "      <td>True</td>\n",
              "    </tr>\n",
              "    <tr>\n",
              "      <th>11</th>\n",
              "      <td>1840</td>\n",
              "      <td>William Henry Harrison</td>\n",
              "      <td>Whig</td>\n",
              "      <td>1275583</td>\n",
              "      <td>win</td>\n",
              "      <td>53.051213</td>\n",
              "      <td>True</td>\n",
              "    </tr>\n",
              "  </tbody>\n",
              "</table>\n",
              "</div>"
            ],
            "text/plain": [
              "    Year               Candidate                  Party  Popular vote Result  \\\n",
              "1   1824       John Quincy Adams  Democratic-Republican        113142    win   \n",
              "2   1828          Andrew Jackson             Democratic        642806    win   \n",
              "4   1832          Andrew Jackson             Democratic        702735    win   \n",
              "8   1836        Martin Van Buren             Democratic        763291    win   \n",
              "11  1840  William Henry Harrison                   Whig       1275583    win   \n",
              "\n",
              "            %  Result_bool  \n",
              "1   42.789878         True  \n",
              "2   56.203927         True  \n",
              "4   54.574789         True  \n",
              "8   52.272472         True  \n",
              "11  53.051213         True  "
            ]
          },
          "execution_count": 194,
          "metadata": {},
          "output_type": "execute_result"
        }
      ],
      "source": [
        "# Answer Here\n",
        "# Creating a Boolean Series\n",
        "boolean_series = elections['Result'] == 'win'\n",
        "winning_elections = elections.loc[boolean_series]\n",
        "winning_elections.head()\n"
      ]
    },
    {
      "cell_type": "markdown",
      "metadata": {
        "id": "533WKwGXPtvT"
      },
      "source": [
        "## String-labeled Rows\n",
        "\n",
        "Let's do a quick example using data with string-labeled rows instead of integer labeled rows, just to make sure we're really understanding loc.\n",
        "\n",
        "Use mottos.csv file"
      ]
    },
    {
      "cell_type": "code",
      "execution_count": 213,
      "metadata": {},
      "outputs": [
        {
          "data": {
            "text/html": [
              "<div>\n",
              "<style scoped>\n",
              "    .dataframe tbody tr th:only-of-type {\n",
              "        vertical-align: middle;\n",
              "    }\n",
              "\n",
              "    .dataframe tbody tr th {\n",
              "        vertical-align: top;\n",
              "    }\n",
              "\n",
              "    .dataframe thead th {\n",
              "        text-align: right;\n",
              "    }\n",
              "</style>\n",
              "<table border=\"1\" class=\"dataframe\">\n",
              "  <thead>\n",
              "    <tr style=\"text-align: right;\">\n",
              "      <th></th>\n",
              "      <th>Motto</th>\n",
              "      <th>Translation</th>\n",
              "      <th>Language</th>\n",
              "      <th>Date Adopted</th>\n",
              "    </tr>\n",
              "    <tr>\n",
              "      <th>State</th>\n",
              "      <th></th>\n",
              "      <th></th>\n",
              "      <th></th>\n",
              "      <th></th>\n",
              "    </tr>\n",
              "  </thead>\n",
              "  <tbody>\n",
              "    <tr>\n",
              "      <th>Alabama</th>\n",
              "      <td>Audemus jura nostra defendere</td>\n",
              "      <td>We dare defend our rights!</td>\n",
              "      <td>Latin</td>\n",
              "      <td>1923</td>\n",
              "    </tr>\n",
              "    <tr>\n",
              "      <th>Alaska</th>\n",
              "      <td>North to the future</td>\n",
              "      <td>—</td>\n",
              "      <td>English</td>\n",
              "      <td>1967</td>\n",
              "    </tr>\n",
              "    <tr>\n",
              "      <th>Arizona</th>\n",
              "      <td>Ditat Deus</td>\n",
              "      <td>God enriches</td>\n",
              "      <td>Latin</td>\n",
              "      <td>1863</td>\n",
              "    </tr>\n",
              "    <tr>\n",
              "      <th>Arkansas</th>\n",
              "      <td>Regnat populus</td>\n",
              "      <td>The people rule</td>\n",
              "      <td>Latin</td>\n",
              "      <td>1907</td>\n",
              "    </tr>\n",
              "    <tr>\n",
              "      <th>California</th>\n",
              "      <td>Eureka (Εὕρηκα)</td>\n",
              "      <td>I have found it</td>\n",
              "      <td>Greek</td>\n",
              "      <td>1849</td>\n",
              "    </tr>\n",
              "  </tbody>\n",
              "</table>\n",
              "</div>"
            ],
            "text/plain": [
              "                                    Motto                 Translation  \\\n",
              "State                                                                   \n",
              "Alabama     Audemus jura nostra defendere  We dare defend our rights!   \n",
              "Alaska                North to the future                           —   \n",
              "Arizona                        Ditat Deus                God enriches   \n",
              "Arkansas                   Regnat populus             The people rule   \n",
              "California                Eureka (Εὕρηκα)             I have found it   \n",
              "\n",
              "           Language Date Adopted  \n",
              "State                             \n",
              "Alabama       Latin         1923  \n",
              "Alaska      English         1967  \n",
              "Arizona       Latin         1863  \n",
              "Arkansas      Latin         1907  \n",
              "California    Greek         1849  "
            ]
          },
          "execution_count": 213,
          "metadata": {},
          "output_type": "execute_result"
        }
      ],
      "source": [
        "mottos=pd.read_csv('./data/mottos.csv',index_col='State')\n",
        "mottos.head()"
      ]
    },
    {
      "cell_type": "code",
      "execution_count": 214,
      "metadata": {
        "id": "-y7r7wfBPtvT"
      },
      "outputs": [
        {
          "data": {
            "text/plain": [
              "Motto       Ditat Deus\n",
              "Language         Latin\n",
              "Name: Arizona, dtype: object"
            ]
          },
          "execution_count": 214,
          "metadata": {},
          "output_type": "execute_result"
        }
      ],
      "source": [
        "# Answer Here\n",
        "mottos.loc['Arizona', ['Motto', 'Language']]"
      ]
    },
    {
      "cell_type": "markdown",
      "metadata": {
        "id": "8E1olDerPtvT"
      },
      "source": [
        "Extract slice, can be specified using slice notation, even if the rows have string labels instead of integer labels."
      ]
    },
    {
      "cell_type": "markdown",
      "metadata": {
        "id": "9meAs22VPtvU"
      },
      "source": [
        "### iloc"
      ]
    },
    {
      "cell_type": "markdown",
      "metadata": {
        "id": "Kgz9kKXLPtvU"
      },
      "source": [
        "loc's cousin iloc is very similar, but is used to access based on numerical position instead of label. For example, to access to the top 3 rows and top 3 columns of a table, we can use [0:3, 0:3]. 'iloc' slicing is **exclusive**, just like standard Python slicing of numerical values.\n",
        "\n",
        "Use iloc to extract first 3 rows and columns from elections DataFrame"
      ]
    },
    {
      "cell_type": "code",
      "execution_count": 216,
      "metadata": {
        "id": "TveQUq2oPtvU"
      },
      "outputs": [
        {
          "data": {
            "text/html": [
              "<div>\n",
              "<style scoped>\n",
              "    .dataframe tbody tr th:only-of-type {\n",
              "        vertical-align: middle;\n",
              "    }\n",
              "\n",
              "    .dataframe tbody tr th {\n",
              "        vertical-align: top;\n",
              "    }\n",
              "\n",
              "    .dataframe thead th {\n",
              "        text-align: right;\n",
              "    }\n",
              "</style>\n",
              "<table border=\"1\" class=\"dataframe\">\n",
              "  <thead>\n",
              "    <tr style=\"text-align: right;\">\n",
              "      <th></th>\n",
              "      <th>Year</th>\n",
              "      <th>Candidate</th>\n",
              "      <th>Party</th>\n",
              "    </tr>\n",
              "  </thead>\n",
              "  <tbody>\n",
              "    <tr>\n",
              "      <th>0</th>\n",
              "      <td>1824</td>\n",
              "      <td>Andrew Jackson</td>\n",
              "      <td>Democratic-Republican</td>\n",
              "    </tr>\n",
              "    <tr>\n",
              "      <th>1</th>\n",
              "      <td>1824</td>\n",
              "      <td>John Quincy Adams</td>\n",
              "      <td>Democratic-Republican</td>\n",
              "    </tr>\n",
              "    <tr>\n",
              "      <th>2</th>\n",
              "      <td>1828</td>\n",
              "      <td>Andrew Jackson</td>\n",
              "      <td>Democratic</td>\n",
              "    </tr>\n",
              "  </tbody>\n",
              "</table>\n",
              "</div>"
            ],
            "text/plain": [
              "   Year          Candidate                  Party\n",
              "0  1824     Andrew Jackson  Democratic-Republican\n",
              "1  1824  John Quincy Adams  Democratic-Republican\n",
              "2  1828     Andrew Jackson             Democratic"
            ]
          },
          "execution_count": 216,
          "metadata": {},
          "output_type": "execute_result"
        }
      ],
      "source": [
        "#Answer Here\n",
        "elections.iloc[0:3,0:3]"
      ]
    },
    {
      "cell_type": "markdown",
      "metadata": {
        "id": "d75cITKiPtvV"
      },
      "source": [
        "We will use both `loc` and `iloc` in the course. `loc` is generally preferred for a number of reasons, for example:\n",
        "\n",
        "1. It is harder to make mistakes since you have to literally write out what you want to get.\n",
        "2. Code is easier to read, because the reader doesn't have to know e.g., what column #17 represents.\n",
        "3. It is robust against permutations of the data, e.g. the social security administration switches the order of two columns.\n",
        "\n",
        "However, iloc is sometimes more convenient. We'll provide examples of when iloc is the superior choice."
      ]
    },
    {
      "cell_type": "markdown",
      "metadata": {
        "id": "Sj-li9oQPtvV"
      },
      "source": [
        "## Handy Properties and Utility Functions for Series and DataFrames"
      ]
    },
    {
      "cell_type": "markdown",
      "metadata": {
        "id": "2D6yrBvcPtvV"
      },
      "source": [
        "The head, shape, size, and describe methods can be used to quickly get a good sense of the data we're working with. For example:"
      ]
    },
    {
      "cell_type": "code",
      "execution_count": 217,
      "metadata": {
        "id": "I2c3ON6BPtvV"
      },
      "outputs": [],
      "source": [
        "mottos = pd.read_csv(\"./data/mottos.csv\")"
      ]
    },
    {
      "cell_type": "code",
      "execution_count": 225,
      "metadata": {
        "id": "3lj5YSbzPtvV"
      },
      "outputs": [
        {
          "data": {
            "text/html": [
              "<div>\n",
              "<style scoped>\n",
              "    .dataframe tbody tr th:only-of-type {\n",
              "        vertical-align: middle;\n",
              "    }\n",
              "\n",
              "    .dataframe tbody tr th {\n",
              "        vertical-align: top;\n",
              "    }\n",
              "\n",
              "    .dataframe thead th {\n",
              "        text-align: right;\n",
              "    }\n",
              "</style>\n",
              "<table border=\"1\" class=\"dataframe\">\n",
              "  <thead>\n",
              "    <tr style=\"text-align: right;\">\n",
              "      <th></th>\n",
              "      <th>State</th>\n",
              "      <th>Motto</th>\n",
              "      <th>Translation</th>\n",
              "      <th>Language</th>\n",
              "      <th>Date Adopted</th>\n",
              "    </tr>\n",
              "  </thead>\n",
              "  <tbody>\n",
              "    <tr>\n",
              "      <th>0</th>\n",
              "      <td>Alabama</td>\n",
              "      <td>Audemus jura nostra defendere</td>\n",
              "      <td>We dare defend our rights!</td>\n",
              "      <td>Latin</td>\n",
              "      <td>1923</td>\n",
              "    </tr>\n",
              "    <tr>\n",
              "      <th>1</th>\n",
              "      <td>Alaska</td>\n",
              "      <td>North to the future</td>\n",
              "      <td>—</td>\n",
              "      <td>English</td>\n",
              "      <td>1967</td>\n",
              "    </tr>\n",
              "    <tr>\n",
              "      <th>2</th>\n",
              "      <td>Arizona</td>\n",
              "      <td>Ditat Deus</td>\n",
              "      <td>God enriches</td>\n",
              "      <td>Latin</td>\n",
              "      <td>1863</td>\n",
              "    </tr>\n",
              "    <tr>\n",
              "      <th>3</th>\n",
              "      <td>Arkansas</td>\n",
              "      <td>Regnat populus</td>\n",
              "      <td>The people rule</td>\n",
              "      <td>Latin</td>\n",
              "      <td>1907</td>\n",
              "    </tr>\n",
              "    <tr>\n",
              "      <th>4</th>\n",
              "      <td>California</td>\n",
              "      <td>Eureka (Εὕρηκα)</td>\n",
              "      <td>I have found it</td>\n",
              "      <td>Greek</td>\n",
              "      <td>1849</td>\n",
              "    </tr>\n",
              "  </tbody>\n",
              "</table>\n",
              "</div>"
            ],
            "text/plain": [
              "        State                          Motto                 Translation  \\\n",
              "0     Alabama  Audemus jura nostra defendere  We dare defend our rights!   \n",
              "1      Alaska            North to the future                           —   \n",
              "2     Arizona                     Ditat Deus                God enriches   \n",
              "3    Arkansas                 Regnat populus             The people rule   \n",
              "4  California                Eureka (Εὕρηκα)             I have found it   \n",
              "\n",
              "  Language Date Adopted  \n",
              "0    Latin         1923  \n",
              "1  English         1967  \n",
              "2    Latin         1863  \n",
              "3    Latin         1907  \n",
              "4    Greek         1849  "
            ]
          },
          "execution_count": 225,
          "metadata": {},
          "output_type": "execute_result"
        }
      ],
      "source": [
        "# Answer Here\n",
        "mottos.head()"
      ]
    },
    {
      "cell_type": "markdown",
      "metadata": {
        "id": "bQSKGPxTroVf"
      },
      "source": [
        "Size of DataFrame"
      ]
    },
    {
      "cell_type": "code",
      "execution_count": 223,
      "metadata": {
        "id": "iGVtW1YEPtvV"
      },
      "outputs": [
        {
          "data": {
            "text/plain": [
              "250"
            ]
          },
          "execution_count": 223,
          "metadata": {},
          "output_type": "execute_result"
        }
      ],
      "source": [
        "# Answer Here\n",
        "mottos.size"
      ]
    },
    {
      "cell_type": "markdown",
      "metadata": {
        "id": "PB4R3k_6PtvW"
      },
      "source": [
        "The fact that the size is 250 means our data file is relatively small, with only 250 total entries.\n",
        "\n",
        "Shape of DataFrame"
      ]
    },
    {
      "cell_type": "code",
      "execution_count": 224,
      "metadata": {
        "id": "dBaU7nMNPtvW"
      },
      "outputs": [
        {
          "name": "stdout",
          "output_type": "stream",
          "text": [
            "The mottos data has 50 rows and 5\n"
          ]
        }
      ],
      "source": [
        "# Answer Here\n",
        "print(f'The mottos data has {mottos.shape[0]} rows and {mottos.shape[1]}')"
      ]
    },
    {
      "cell_type": "markdown",
      "metadata": {
        "id": "NevFNt3_PtvW"
      },
      "source": [
        "Use describe function and extract the meaningful information from DataFrame"
      ]
    },
    {
      "cell_type": "code",
      "execution_count": 226,
      "metadata": {
        "id": "7T7Xg4wePtvW"
      },
      "outputs": [
        {
          "data": {
            "text/html": [
              "<div>\n",
              "<style scoped>\n",
              "    .dataframe tbody tr th:only-of-type {\n",
              "        vertical-align: middle;\n",
              "    }\n",
              "\n",
              "    .dataframe tbody tr th {\n",
              "        vertical-align: top;\n",
              "    }\n",
              "\n",
              "    .dataframe thead th {\n",
              "        text-align: right;\n",
              "    }\n",
              "</style>\n",
              "<table border=\"1\" class=\"dataframe\">\n",
              "  <thead>\n",
              "    <tr style=\"text-align: right;\">\n",
              "      <th></th>\n",
              "      <th>State</th>\n",
              "      <th>Motto</th>\n",
              "      <th>Translation</th>\n",
              "      <th>Language</th>\n",
              "      <th>Date Adopted</th>\n",
              "    </tr>\n",
              "  </thead>\n",
              "  <tbody>\n",
              "    <tr>\n",
              "      <th>count</th>\n",
              "      <td>50</td>\n",
              "      <td>50</td>\n",
              "      <td>49</td>\n",
              "      <td>50</td>\n",
              "      <td>50</td>\n",
              "    </tr>\n",
              "    <tr>\n",
              "      <th>unique</th>\n",
              "      <td>50</td>\n",
              "      <td>50</td>\n",
              "      <td>30</td>\n",
              "      <td>8</td>\n",
              "      <td>47</td>\n",
              "    </tr>\n",
              "    <tr>\n",
              "      <th>top</th>\n",
              "      <td>Alabama</td>\n",
              "      <td>Audemus jura nostra defendere</td>\n",
              "      <td>—</td>\n",
              "      <td>Latin</td>\n",
              "      <td>1893</td>\n",
              "    </tr>\n",
              "    <tr>\n",
              "      <th>freq</th>\n",
              "      <td>1</td>\n",
              "      <td>1</td>\n",
              "      <td>20</td>\n",
              "      <td>23</td>\n",
              "      <td>2</td>\n",
              "    </tr>\n",
              "  </tbody>\n",
              "</table>\n",
              "</div>"
            ],
            "text/plain": [
              "          State                          Motto Translation Language  \\\n",
              "count        50                             50          49       50   \n",
              "unique       50                             50          30        8   \n",
              "top     Alabama  Audemus jura nostra defendere           —    Latin   \n",
              "freq          1                              1          20       23   \n",
              "\n",
              "       Date Adopted  \n",
              "count            50  \n",
              "unique           47  \n",
              "top            1893  \n",
              "freq              2  "
            ]
          },
          "execution_count": 226,
          "metadata": {},
          "output_type": "execute_result"
        }
      ],
      "source": [
        "# Answer Here\n",
        "mottos.describe()"
      ]
    },
    {
      "cell_type": "markdown",
      "metadata": {
        "id": "jEAxyt57PtvW"
      },
      "source": [
        "Above, we see a quick summary of all the data. For example, the most common language for mottos is Latin, which covers 23 different states. Does anything else seem surprising?"
      ]
    },
    {
      "cell_type": "markdown",
      "metadata": {
        "id": "5Sz84ZcoPtvX"
      },
      "source": [
        "We can get a direct reference to the index using .index."
      ]
    },
    {
      "cell_type": "code",
      "execution_count": 227,
      "metadata": {
        "id": "Oc8PNHQSPtvX"
      },
      "outputs": [
        {
          "data": {
            "text/plain": [
              "RangeIndex(start=0, stop=50, step=1)"
            ]
          },
          "execution_count": 227,
          "metadata": {},
          "output_type": "execute_result"
        }
      ],
      "source": [
        "# Answer Here\n",
        "mottos.index"
      ]
    },
    {
      "cell_type": "code",
      "execution_count": 228,
      "metadata": {
        "id": "fHrsk46BPtvX"
      },
      "outputs": [
        {
          "data": {
            "text/html": [
              "<div>\n",
              "<style scoped>\n",
              "    .dataframe tbody tr th:only-of-type {\n",
              "        vertical-align: middle;\n",
              "    }\n",
              "\n",
              "    .dataframe tbody tr th {\n",
              "        vertical-align: top;\n",
              "    }\n",
              "\n",
              "    .dataframe thead th {\n",
              "        text-align: right;\n",
              "    }\n",
              "</style>\n",
              "<table border=\"1\" class=\"dataframe\">\n",
              "  <thead>\n",
              "    <tr style=\"text-align: right;\">\n",
              "      <th></th>\n",
              "      <th>State</th>\n",
              "      <th>Motto</th>\n",
              "      <th>Translation</th>\n",
              "      <th>Language</th>\n",
              "      <th>Date Adopted</th>\n",
              "    </tr>\n",
              "  </thead>\n",
              "  <tbody>\n",
              "    <tr>\n",
              "      <th>0</th>\n",
              "      <td>Alabama</td>\n",
              "      <td>Audemus jura nostra defendere</td>\n",
              "      <td>We dare defend our rights!</td>\n",
              "      <td>Latin</td>\n",
              "      <td>1923</td>\n",
              "    </tr>\n",
              "    <tr>\n",
              "      <th>1</th>\n",
              "      <td>Alaska</td>\n",
              "      <td>North to the future</td>\n",
              "      <td>—</td>\n",
              "      <td>English</td>\n",
              "      <td>1967</td>\n",
              "    </tr>\n",
              "  </tbody>\n",
              "</table>\n",
              "</div>"
            ],
            "text/plain": [
              "     State                          Motto                 Translation  \\\n",
              "0  Alabama  Audemus jura nostra defendere  We dare defend our rights!   \n",
              "1   Alaska            North to the future                           —   \n",
              "\n",
              "  Language Date Adopted  \n",
              "0    Latin         1923  \n",
              "1  English         1967  "
            ]
          },
          "execution_count": 228,
          "metadata": {},
          "output_type": "execute_result"
        }
      ],
      "source": [
        "mottos.head(2)"
      ]
    },
    {
      "cell_type": "markdown",
      "metadata": {
        "id": "IZRgHL-cPtvX"
      },
      "source": [
        "It turns out the columns also have an Index. We can access this index by using `.columns`."
      ]
    },
    {
      "cell_type": "code",
      "execution_count": 229,
      "metadata": {
        "colab": {
          "base_uri": "https://localhost:8080/"
        },
        "id": "b3uXufYwPtvX",
        "outputId": "c97a8be0-cdf1-4ace-da34-8ed493a72928"
      },
      "outputs": [
        {
          "data": {
            "text/plain": [
              "Index(['State', 'Motto', 'Translation', 'Language', 'Date Adopted'], dtype='object')"
            ]
          },
          "execution_count": 229,
          "metadata": {},
          "output_type": "execute_result"
        }
      ],
      "source": [
        "# Answer Here\n",
        "mottos.columns"
      ]
    },
    {
      "cell_type": "markdown",
      "metadata": {
        "id": "vfqTqtXjPtvY"
      },
      "source": [
        "## Sorting and Value Counts\n",
        "\n",
        "There are also a ton of useful utility methods we can use with Data Frames and Series. For example, we can create a copy of a data frame sorted by a specific column using `sort_values`."
      ]
    },
    {
      "cell_type": "code",
      "execution_count": 230,
      "metadata": {
        "id": "ioH43WI_PtvY"
      },
      "outputs": [
        {
          "data": {
            "text/html": [
              "<div>\n",
              "<style scoped>\n",
              "    .dataframe tbody tr th:only-of-type {\n",
              "        vertical-align: middle;\n",
              "    }\n",
              "\n",
              "    .dataframe tbody tr th {\n",
              "        vertical-align: top;\n",
              "    }\n",
              "\n",
              "    .dataframe thead th {\n",
              "        text-align: right;\n",
              "    }\n",
              "</style>\n",
              "<table border=\"1\" class=\"dataframe\">\n",
              "  <thead>\n",
              "    <tr style=\"text-align: right;\">\n",
              "      <th></th>\n",
              "      <th>State</th>\n",
              "      <th>Motto</th>\n",
              "      <th>Translation</th>\n",
              "      <th>Language</th>\n",
              "      <th>Date Adopted</th>\n",
              "    </tr>\n",
              "  </thead>\n",
              "  <tbody>\n",
              "    <tr>\n",
              "      <th>0</th>\n",
              "      <td>Alabama</td>\n",
              "      <td>Audemus jura nostra defendere</td>\n",
              "      <td>We dare defend our rights!</td>\n",
              "      <td>Latin</td>\n",
              "      <td>1923</td>\n",
              "    </tr>\n",
              "    <tr>\n",
              "      <th>1</th>\n",
              "      <td>Alaska</td>\n",
              "      <td>North to the future</td>\n",
              "      <td>—</td>\n",
              "      <td>English</td>\n",
              "      <td>1967</td>\n",
              "    </tr>\n",
              "    <tr>\n",
              "      <th>2</th>\n",
              "      <td>Arizona</td>\n",
              "      <td>Ditat Deus</td>\n",
              "      <td>God enriches</td>\n",
              "      <td>Latin</td>\n",
              "      <td>1863</td>\n",
              "    </tr>\n",
              "    <tr>\n",
              "      <th>3</th>\n",
              "      <td>Arkansas</td>\n",
              "      <td>Regnat populus</td>\n",
              "      <td>The people rule</td>\n",
              "      <td>Latin</td>\n",
              "      <td>1907</td>\n",
              "    </tr>\n",
              "    <tr>\n",
              "      <th>4</th>\n",
              "      <td>California</td>\n",
              "      <td>Eureka (Εὕρηκα)</td>\n",
              "      <td>I have found it</td>\n",
              "      <td>Greek</td>\n",
              "      <td>1849</td>\n",
              "    </tr>\n",
              "    <tr>\n",
              "      <th>5</th>\n",
              "      <td>Colorado</td>\n",
              "      <td>Nil sine numine</td>\n",
              "      <td>Nothing without providence.</td>\n",
              "      <td>Latin</td>\n",
              "      <td>November 6, 1861</td>\n",
              "    </tr>\n",
              "    <tr>\n",
              "      <th>6</th>\n",
              "      <td>Connecticut</td>\n",
              "      <td>Qui transtulit sustinet</td>\n",
              "      <td>He who transplanted sustains</td>\n",
              "      <td>Latin</td>\n",
              "      <td>October 9, 1662</td>\n",
              "    </tr>\n",
              "    <tr>\n",
              "      <th>7</th>\n",
              "      <td>Delaware</td>\n",
              "      <td>Liberty and Independence</td>\n",
              "      <td>—</td>\n",
              "      <td>English</td>\n",
              "      <td>1847</td>\n",
              "    </tr>\n",
              "    <tr>\n",
              "      <th>8</th>\n",
              "      <td>Florida</td>\n",
              "      <td>In God We Trust</td>\n",
              "      <td>—</td>\n",
              "      <td>English</td>\n",
              "      <td>1868</td>\n",
              "    </tr>\n",
              "    <tr>\n",
              "      <th>9</th>\n",
              "      <td>Georgia</td>\n",
              "      <td>Wisdom, Justice, Moderation</td>\n",
              "      <td>—</td>\n",
              "      <td>English</td>\n",
              "      <td>1798</td>\n",
              "    </tr>\n",
              "    <tr>\n",
              "      <th>10</th>\n",
              "      <td>Hawaii</td>\n",
              "      <td>Ua mau ke ea o ka ʻāina i ka pono</td>\n",
              "      <td>The life of the land is perpetuated in righteo...</td>\n",
              "      <td>Hawaiian</td>\n",
              "      <td>July 31, 1843</td>\n",
              "    </tr>\n",
              "    <tr>\n",
              "      <th>11</th>\n",
              "      <td>Idaho</td>\n",
              "      <td>Esto perpetua</td>\n",
              "      <td>Let it be perpetual</td>\n",
              "      <td>Latin</td>\n",
              "      <td>1890</td>\n",
              "    </tr>\n",
              "    <tr>\n",
              "      <th>12</th>\n",
              "      <td>Illinois</td>\n",
              "      <td>State sovereignty, national union</td>\n",
              "      <td>—</td>\n",
              "      <td>English</td>\n",
              "      <td>1819</td>\n",
              "    </tr>\n",
              "    <tr>\n",
              "      <th>13</th>\n",
              "      <td>Indiana</td>\n",
              "      <td>The Crossroads of America</td>\n",
              "      <td>—</td>\n",
              "      <td>English</td>\n",
              "      <td>1937</td>\n",
              "    </tr>\n",
              "    <tr>\n",
              "      <th>14</th>\n",
              "      <td>Iowa</td>\n",
              "      <td>Our liberties we prize and our rights we will ...</td>\n",
              "      <td>—</td>\n",
              "      <td>English</td>\n",
              "      <td>1847</td>\n",
              "    </tr>\n",
              "    <tr>\n",
              "      <th>15</th>\n",
              "      <td>Kansas</td>\n",
              "      <td>Ad astra per aspera</td>\n",
              "      <td>To the stars through difficulties</td>\n",
              "      <td>Latin</td>\n",
              "      <td>1861</td>\n",
              "    </tr>\n",
              "    <tr>\n",
              "      <th>16</th>\n",
              "      <td>Kentucky</td>\n",
              "      <td>Deo gratiam habeamus</td>\n",
              "      <td>Let us be grateful to God</td>\n",
              "      <td>Latin</td>\n",
              "      <td>2002</td>\n",
              "    </tr>\n",
              "    <tr>\n",
              "      <th>17</th>\n",
              "      <td>Louisiana</td>\n",
              "      <td>Union, justice, confidence</td>\n",
              "      <td>—</td>\n",
              "      <td>English</td>\n",
              "      <td>1902</td>\n",
              "    </tr>\n",
              "    <tr>\n",
              "      <th>18</th>\n",
              "      <td>Maine</td>\n",
              "      <td>Dirigo</td>\n",
              "      <td>I lead</td>\n",
              "      <td>Latin</td>\n",
              "      <td>1820</td>\n",
              "    </tr>\n",
              "    <tr>\n",
              "      <th>19</th>\n",
              "      <td>Maryland</td>\n",
              "      <td>Fatti maschii, parole femine</td>\n",
              "      <td>Manly deeds, womanly words</td>\n",
              "      <td>Italian</td>\n",
              "      <td>1874</td>\n",
              "    </tr>\n",
              "    <tr>\n",
              "      <th>20</th>\n",
              "      <td>Massachusetts</td>\n",
              "      <td>Ense petit placidam sub libertate quietem</td>\n",
              "      <td>By the sword we seek peace, but peace only und...</td>\n",
              "      <td>Latin</td>\n",
              "      <td>1775</td>\n",
              "    </tr>\n",
              "    <tr>\n",
              "      <th>21</th>\n",
              "      <td>Michigan</td>\n",
              "      <td>Si quaeris peninsulam amoenam circumspice</td>\n",
              "      <td>If you seek a pleasant peninsula, look about you</td>\n",
              "      <td>Latin</td>\n",
              "      <td>June 2, 1835</td>\n",
              "    </tr>\n",
              "    <tr>\n",
              "      <th>22</th>\n",
              "      <td>Minnesota</td>\n",
              "      <td>L'étoile du Nord</td>\n",
              "      <td>The star of the North</td>\n",
              "      <td>French</td>\n",
              "      <td>1861</td>\n",
              "    </tr>\n",
              "    <tr>\n",
              "      <th>23</th>\n",
              "      <td>Mississippi</td>\n",
              "      <td>Virtute et armis</td>\n",
              "      <td>By valor and arms</td>\n",
              "      <td>Latin</td>\n",
              "      <td>February 7, 1894</td>\n",
              "    </tr>\n",
              "    <tr>\n",
              "      <th>24</th>\n",
              "      <td>Missouri</td>\n",
              "      <td>Salus populi suprema lex esto</td>\n",
              "      <td>Let the welfare of the people be the supreme law</td>\n",
              "      <td>Latin</td>\n",
              "      <td>January 11, 1822</td>\n",
              "    </tr>\n",
              "    <tr>\n",
              "      <th>25</th>\n",
              "      <td>Montana</td>\n",
              "      <td>Oro y plata</td>\n",
              "      <td>Gold and silver</td>\n",
              "      <td>Spanish</td>\n",
              "      <td>February 9, 1865</td>\n",
              "    </tr>\n",
              "    <tr>\n",
              "      <th>26</th>\n",
              "      <td>Nebraska</td>\n",
              "      <td>Equality before the law</td>\n",
              "      <td>—</td>\n",
              "      <td>English</td>\n",
              "      <td>1867</td>\n",
              "    </tr>\n",
              "    <tr>\n",
              "      <th>27</th>\n",
              "      <td>Nevada</td>\n",
              "      <td>All For Our Country</td>\n",
              "      <td>—</td>\n",
              "      <td>English</td>\n",
              "      <td>February 24, 1866</td>\n",
              "    </tr>\n",
              "    <tr>\n",
              "      <th>28</th>\n",
              "      <td>New Hampshire</td>\n",
              "      <td>Live Free or Die</td>\n",
              "      <td>—</td>\n",
              "      <td>English</td>\n",
              "      <td>1945</td>\n",
              "    </tr>\n",
              "    <tr>\n",
              "      <th>29</th>\n",
              "      <td>New Jersey</td>\n",
              "      <td>Liberty and prosperity</td>\n",
              "      <td>—</td>\n",
              "      <td>English</td>\n",
              "      <td>March 26, 1928</td>\n",
              "    </tr>\n",
              "    <tr>\n",
              "      <th>30</th>\n",
              "      <td>New Mexico</td>\n",
              "      <td>Crescit eundo</td>\n",
              "      <td>It grows as it goes</td>\n",
              "      <td>Latin</td>\n",
              "      <td>1887</td>\n",
              "    </tr>\n",
              "    <tr>\n",
              "      <th>31</th>\n",
              "      <td>New York</td>\n",
              "      <td>Excelsior</td>\n",
              "      <td>Ever upward</td>\n",
              "      <td>Latin</td>\n",
              "      <td>1778</td>\n",
              "    </tr>\n",
              "    <tr>\n",
              "      <th>32</th>\n",
              "      <td>North Carolina</td>\n",
              "      <td>Esse quam videri</td>\n",
              "      <td>To be, rather than to seem</td>\n",
              "      <td>Latin</td>\n",
              "      <td>1893</td>\n",
              "    </tr>\n",
              "    <tr>\n",
              "      <th>33</th>\n",
              "      <td>North Dakota</td>\n",
              "      <td>\\nSerit ut alteri saeclo prosit</td>\n",
              "      <td>One sows for the benefit of another age</td>\n",
              "      <td>Latin</td>\n",
              "      <td>March 11, 2011</td>\n",
              "    </tr>\n",
              "    <tr>\n",
              "      <th>34</th>\n",
              "      <td>Ohio</td>\n",
              "      <td>With God, all things are possible</td>\n",
              "      <td>—</td>\n",
              "      <td>English</td>\n",
              "      <td>October 1, 1959</td>\n",
              "    </tr>\n",
              "    <tr>\n",
              "      <th>35</th>\n",
              "      <td>Oklahoma</td>\n",
              "      <td>Labor omnia vincit</td>\n",
              "      <td>Labor conquers all things</td>\n",
              "      <td>Latin</td>\n",
              "      <td>March 10, 1893</td>\n",
              "    </tr>\n",
              "    <tr>\n",
              "      <th>36</th>\n",
              "      <td>Oregon</td>\n",
              "      <td>Alis volat propriis</td>\n",
              "      <td>She flies with her own wings</td>\n",
              "      <td>Latin</td>\n",
              "      <td>1854</td>\n",
              "    </tr>\n",
              "    <tr>\n",
              "      <th>37</th>\n",
              "      <td>Pennsylvania</td>\n",
              "      <td>Virtue, liberty, and independence</td>\n",
              "      <td>—</td>\n",
              "      <td>English</td>\n",
              "      <td>1875</td>\n",
              "    </tr>\n",
              "    <tr>\n",
              "      <th>38</th>\n",
              "      <td>Rhode Island</td>\n",
              "      <td>Hope</td>\n",
              "      <td>—</td>\n",
              "      <td>English</td>\n",
              "      <td>May 4, 1664</td>\n",
              "    </tr>\n",
              "    <tr>\n",
              "      <th>39</th>\n",
              "      <td>South Carolina</td>\n",
              "      <td>Dum spiro spero \\nAnimis opibusque parati</td>\n",
              "      <td>While I breathe, I hope \\nReady in soul and re...</td>\n",
              "      <td>Latin</td>\n",
              "      <td>May 22, 1777</td>\n",
              "    </tr>\n",
              "    <tr>\n",
              "      <th>40</th>\n",
              "      <td>South Dakota</td>\n",
              "      <td>Under God the people rule</td>\n",
              "      <td>—</td>\n",
              "      <td>English</td>\n",
              "      <td>1885</td>\n",
              "    </tr>\n",
              "    <tr>\n",
              "      <th>41</th>\n",
              "      <td>Tennessee</td>\n",
              "      <td>Agriculture and Commerce</td>\n",
              "      <td>—</td>\n",
              "      <td>English</td>\n",
              "      <td>May 24, 1802</td>\n",
              "    </tr>\n",
              "    <tr>\n",
              "      <th>42</th>\n",
              "      <td>Texas</td>\n",
              "      <td>Friendship</td>\n",
              "      <td>—</td>\n",
              "      <td>English</td>\n",
              "      <td>1930</td>\n",
              "    </tr>\n",
              "    <tr>\n",
              "      <th>43</th>\n",
              "      <td>Utah</td>\n",
              "      <td>Industry</td>\n",
              "      <td>NaN</td>\n",
              "      <td>English</td>\n",
              "      <td>May 3, 1896</td>\n",
              "    </tr>\n",
              "    <tr>\n",
              "      <th>44</th>\n",
              "      <td>Vermont</td>\n",
              "      <td>Stella quarta decima fulgeat</td>\n",
              "      <td>May the fourteenth star shine bright</td>\n",
              "      <td>Latin</td>\n",
              "      <td>April 10, 2015</td>\n",
              "    </tr>\n",
              "    <tr>\n",
              "      <th>45</th>\n",
              "      <td>Virginia</td>\n",
              "      <td>Sic semper tyrannis</td>\n",
              "      <td>Thus always to tyrants</td>\n",
              "      <td>Latin</td>\n",
              "      <td>1776</td>\n",
              "    </tr>\n",
              "    <tr>\n",
              "      <th>46</th>\n",
              "      <td>Washington</td>\n",
              "      <td>Al-ki or Alki</td>\n",
              "      <td>By and by</td>\n",
              "      <td>Chinook Jargon</td>\n",
              "      <td>—</td>\n",
              "    </tr>\n",
              "    <tr>\n",
              "      <th>47</th>\n",
              "      <td>West Virginia</td>\n",
              "      <td>Montani semper liberi</td>\n",
              "      <td>Mountaineers are always free</td>\n",
              "      <td>Latin</td>\n",
              "      <td>September 26, 1863</td>\n",
              "    </tr>\n",
              "    <tr>\n",
              "      <th>48</th>\n",
              "      <td>Wisconsin</td>\n",
              "      <td>Forward</td>\n",
              "      <td>—</td>\n",
              "      <td>English</td>\n",
              "      <td>1851</td>\n",
              "    </tr>\n",
              "    <tr>\n",
              "      <th>49</th>\n",
              "      <td>Wyoming</td>\n",
              "      <td>Equal Rights</td>\n",
              "      <td>—</td>\n",
              "      <td>English</td>\n",
              "      <td>1893</td>\n",
              "    </tr>\n",
              "  </tbody>\n",
              "</table>\n",
              "</div>"
            ],
            "text/plain": [
              "             State                                              Motto  \\\n",
              "0          Alabama                      Audemus jura nostra defendere   \n",
              "1           Alaska                                North to the future   \n",
              "2          Arizona                                         Ditat Deus   \n",
              "3         Arkansas                                     Regnat populus   \n",
              "4       California                                    Eureka (Εὕρηκα)   \n",
              "5         Colorado                                    Nil sine numine   \n",
              "6      Connecticut                            Qui transtulit sustinet   \n",
              "7         Delaware                           Liberty and Independence   \n",
              "8          Florida                                    In God We Trust   \n",
              "9          Georgia                        Wisdom, Justice, Moderation   \n",
              "10          Hawaii                  Ua mau ke ea o ka ʻāina i ka pono   \n",
              "11           Idaho                                      Esto perpetua   \n",
              "12        Illinois                  State sovereignty, national union   \n",
              "13         Indiana                          The Crossroads of America   \n",
              "14            Iowa  Our liberties we prize and our rights we will ...   \n",
              "15          Kansas                                Ad astra per aspera   \n",
              "16        Kentucky                               Deo gratiam habeamus   \n",
              "17       Louisiana                         Union, justice, confidence   \n",
              "18           Maine                                             Dirigo   \n",
              "19        Maryland                       Fatti maschii, parole femine   \n",
              "20   Massachusetts          Ense petit placidam sub libertate quietem   \n",
              "21        Michigan          Si quaeris peninsulam amoenam circumspice   \n",
              "22       Minnesota                                   L'étoile du Nord   \n",
              "23     Mississippi                                   Virtute et armis   \n",
              "24        Missouri                      Salus populi suprema lex esto   \n",
              "25         Montana                                        Oro y plata   \n",
              "26        Nebraska                            Equality before the law   \n",
              "27          Nevada                                All For Our Country   \n",
              "28   New Hampshire                                   Live Free or Die   \n",
              "29      New Jersey                             Liberty and prosperity   \n",
              "30      New Mexico                                      Crescit eundo   \n",
              "31        New York                                          Excelsior   \n",
              "32  North Carolina                                   Esse quam videri   \n",
              "33    North Dakota                    \\nSerit ut alteri saeclo prosit   \n",
              "34            Ohio                  With God, all things are possible   \n",
              "35        Oklahoma                                 Labor omnia vincit   \n",
              "36          Oregon                                Alis volat propriis   \n",
              "37    Pennsylvania                  Virtue, liberty, and independence   \n",
              "38    Rhode Island                                               Hope   \n",
              "39  South Carolina          Dum spiro spero \\nAnimis opibusque parati   \n",
              "40    South Dakota                          Under God the people rule   \n",
              "41       Tennessee                           Agriculture and Commerce   \n",
              "42           Texas                                         Friendship   \n",
              "43            Utah                                           Industry   \n",
              "44         Vermont                       Stella quarta decima fulgeat   \n",
              "45        Virginia                                Sic semper tyrannis   \n",
              "46      Washington                                      Al-ki or Alki   \n",
              "47   West Virginia                              Montani semper liberi   \n",
              "48       Wisconsin                                            Forward   \n",
              "49         Wyoming                                       Equal Rights   \n",
              "\n",
              "                                          Translation        Language  \\\n",
              "0                          We dare defend our rights!           Latin   \n",
              "1                                                   —         English   \n",
              "2                                        God enriches           Latin   \n",
              "3                                     The people rule           Latin   \n",
              "4                                     I have found it           Greek   \n",
              "5                         Nothing without providence.           Latin   \n",
              "6                        He who transplanted sustains           Latin   \n",
              "7                                                   —         English   \n",
              "8                                                   —         English   \n",
              "9                                                   —         English   \n",
              "10  The life of the land is perpetuated in righteo...        Hawaiian   \n",
              "11                                Let it be perpetual           Latin   \n",
              "12                                                  —         English   \n",
              "13                                                  —         English   \n",
              "14                                                  —         English   \n",
              "15                  To the stars through difficulties           Latin   \n",
              "16                          Let us be grateful to God           Latin   \n",
              "17                                                  —         English   \n",
              "18                                             I lead           Latin   \n",
              "19                         Manly deeds, womanly words         Italian   \n",
              "20  By the sword we seek peace, but peace only und...           Latin   \n",
              "21   If you seek a pleasant peninsula, look about you           Latin   \n",
              "22                              The star of the North          French   \n",
              "23                                  By valor and arms           Latin   \n",
              "24   Let the welfare of the people be the supreme law           Latin   \n",
              "25                                    Gold and silver         Spanish   \n",
              "26                                                  —         English   \n",
              "27                                                  —         English   \n",
              "28                                                  —         English   \n",
              "29                                                  —         English   \n",
              "30                                It grows as it goes           Latin   \n",
              "31                                        Ever upward           Latin   \n",
              "32                         To be, rather than to seem           Latin   \n",
              "33            One sows for the benefit of another age           Latin   \n",
              "34                                                  —         English   \n",
              "35                          Labor conquers all things           Latin   \n",
              "36                       She flies with her own wings           Latin   \n",
              "37                                                  —         English   \n",
              "38                                                  —         English   \n",
              "39  While I breathe, I hope \\nReady in soul and re...           Latin   \n",
              "40                                                  —         English   \n",
              "41                                                  —         English   \n",
              "42                                                  —         English   \n",
              "43                                                NaN         English   \n",
              "44               May the fourteenth star shine bright           Latin   \n",
              "45                             Thus always to tyrants           Latin   \n",
              "46                                          By and by  Chinook Jargon   \n",
              "47                       Mountaineers are always free           Latin   \n",
              "48                                                  —         English   \n",
              "49                                                  —         English   \n",
              "\n",
              "          Date Adopted  \n",
              "0                 1923  \n",
              "1                 1967  \n",
              "2                 1863  \n",
              "3                 1907  \n",
              "4                 1849  \n",
              "5     November 6, 1861  \n",
              "6      October 9, 1662  \n",
              "7                 1847  \n",
              "8                 1868  \n",
              "9                 1798  \n",
              "10       July 31, 1843  \n",
              "11                1890  \n",
              "12                1819  \n",
              "13                1937  \n",
              "14                1847  \n",
              "15                1861  \n",
              "16                2002  \n",
              "17                1902  \n",
              "18                1820  \n",
              "19                1874  \n",
              "20                1775  \n",
              "21        June 2, 1835  \n",
              "22                1861  \n",
              "23    February 7, 1894  \n",
              "24    January 11, 1822  \n",
              "25    February 9, 1865  \n",
              "26                1867  \n",
              "27   February 24, 1866  \n",
              "28                1945  \n",
              "29      March 26, 1928  \n",
              "30                1887  \n",
              "31                1778  \n",
              "32                1893  \n",
              "33      March 11, 2011  \n",
              "34     October 1, 1959  \n",
              "35      March 10, 1893  \n",
              "36                1854  \n",
              "37                1875  \n",
              "38         May 4, 1664  \n",
              "39        May 22, 1777  \n",
              "40                1885  \n",
              "41        May 24, 1802  \n",
              "42                1930  \n",
              "43         May 3, 1896  \n",
              "44      April 10, 2015  \n",
              "45                1776  \n",
              "46                   —  \n",
              "47  September 26, 1863  \n",
              "48                1851  \n",
              "49                1893  "
            ]
          },
          "execution_count": 230,
          "metadata": {},
          "output_type": "execute_result"
        }
      ],
      "source": [
        "# Answer Here\n",
        "mottos.sort_values(by='State')"
      ]
    },
    {
      "cell_type": "markdown",
      "metadata": {
        "id": "LwW2YK8gPtvY"
      },
      "source": [
        "As mentioned before, all Data Frame methods return a copy and do **not** modify the original data structure, unless you set inplace to True."
      ]
    },
    {
      "cell_type": "markdown",
      "metadata": {
        "id": "tMqlf3Q8PtvY"
      },
      "source": [
        "If we want to sort in reverse order, we can set `ascending=False`."
      ]
    },
    {
      "cell_type": "code",
      "execution_count": 231,
      "metadata": {
        "id": "-Cx7vHzKPtvY"
      },
      "outputs": [
        {
          "data": {
            "text/html": [
              "<div>\n",
              "<style scoped>\n",
              "    .dataframe tbody tr th:only-of-type {\n",
              "        vertical-align: middle;\n",
              "    }\n",
              "\n",
              "    .dataframe tbody tr th {\n",
              "        vertical-align: top;\n",
              "    }\n",
              "\n",
              "    .dataframe thead th {\n",
              "        text-align: right;\n",
              "    }\n",
              "</style>\n",
              "<table border=\"1\" class=\"dataframe\">\n",
              "  <thead>\n",
              "    <tr style=\"text-align: right;\">\n",
              "      <th></th>\n",
              "      <th>Year</th>\n",
              "      <th>Candidate</th>\n",
              "      <th>Party</th>\n",
              "      <th>Popular vote</th>\n",
              "      <th>Result</th>\n",
              "      <th>%</th>\n",
              "      <th>Result_bool</th>\n",
              "    </tr>\n",
              "  </thead>\n",
              "  <tbody>\n",
              "    <tr>\n",
              "      <th>114</th>\n",
              "      <td>1964</td>\n",
              "      <td>Lyndon Johnson</td>\n",
              "      <td>Democratic</td>\n",
              "      <td>43127041</td>\n",
              "      <td>win</td>\n",
              "      <td>61.344703</td>\n",
              "      <td>True</td>\n",
              "    </tr>\n",
              "    <tr>\n",
              "      <th>91</th>\n",
              "      <td>1936</td>\n",
              "      <td>Franklin Roosevelt</td>\n",
              "      <td>Democratic</td>\n",
              "      <td>27752648</td>\n",
              "      <td>win</td>\n",
              "      <td>60.978107</td>\n",
              "      <td>True</td>\n",
              "    </tr>\n",
              "    <tr>\n",
              "      <th>120</th>\n",
              "      <td>1972</td>\n",
              "      <td>Richard Nixon</td>\n",
              "      <td>Republican</td>\n",
              "      <td>47168710</td>\n",
              "      <td>win</td>\n",
              "      <td>60.907806</td>\n",
              "      <td>True</td>\n",
              "    </tr>\n",
              "    <tr>\n",
              "      <th>79</th>\n",
              "      <td>1920</td>\n",
              "      <td>Warren Harding</td>\n",
              "      <td>Republican</td>\n",
              "      <td>16144093</td>\n",
              "      <td>win</td>\n",
              "      <td>60.574501</td>\n",
              "      <td>True</td>\n",
              "    </tr>\n",
              "    <tr>\n",
              "      <th>133</th>\n",
              "      <td>1984</td>\n",
              "      <td>Ronald Reagan</td>\n",
              "      <td>Republican</td>\n",
              "      <td>54455472</td>\n",
              "      <td>win</td>\n",
              "      <td>59.023326</td>\n",
              "      <td>True</td>\n",
              "    </tr>\n",
              "    <tr>\n",
              "      <th>...</th>\n",
              "      <td>...</td>\n",
              "      <td>...</td>\n",
              "      <td>...</td>\n",
              "      <td>...</td>\n",
              "      <td>...</td>\n",
              "      <td>...</td>\n",
              "      <td>...</td>\n",
              "    </tr>\n",
              "    <tr>\n",
              "      <th>165</th>\n",
              "      <td>2008</td>\n",
              "      <td>Cynthia McKinney</td>\n",
              "      <td>Green</td>\n",
              "      <td>161797</td>\n",
              "      <td>loss</td>\n",
              "      <td>0.123442</td>\n",
              "      <td>False</td>\n",
              "    </tr>\n",
              "    <tr>\n",
              "      <th>148</th>\n",
              "      <td>1996</td>\n",
              "      <td>John Hagelin</td>\n",
              "      <td>Natural Law</td>\n",
              "      <td>113670</td>\n",
              "      <td>loss</td>\n",
              "      <td>0.118219</td>\n",
              "      <td>False</td>\n",
              "    </tr>\n",
              "    <tr>\n",
              "      <th>160</th>\n",
              "      <td>2004</td>\n",
              "      <td>Michael Peroutka</td>\n",
              "      <td>Constitution</td>\n",
              "      <td>143630</td>\n",
              "      <td>loss</td>\n",
              "      <td>0.117542</td>\n",
              "      <td>False</td>\n",
              "    </tr>\n",
              "    <tr>\n",
              "      <th>141</th>\n",
              "      <td>1992</td>\n",
              "      <td>Bo Gritz</td>\n",
              "      <td>Populist</td>\n",
              "      <td>106152</td>\n",
              "      <td>loss</td>\n",
              "      <td>0.101918</td>\n",
              "      <td>False</td>\n",
              "    </tr>\n",
              "    <tr>\n",
              "      <th>156</th>\n",
              "      <td>2004</td>\n",
              "      <td>David Cobb</td>\n",
              "      <td>Green</td>\n",
              "      <td>119859</td>\n",
              "      <td>loss</td>\n",
              "      <td>0.098088</td>\n",
              "      <td>False</td>\n",
              "    </tr>\n",
              "  </tbody>\n",
              "</table>\n",
              "<p>182 rows × 7 columns</p>\n",
              "</div>"
            ],
            "text/plain": [
              "     Year           Candidate         Party  Popular vote Result          %  \\\n",
              "114  1964      Lyndon Johnson    Democratic      43127041    win  61.344703   \n",
              "91   1936  Franklin Roosevelt    Democratic      27752648    win  60.978107   \n",
              "120  1972       Richard Nixon    Republican      47168710    win  60.907806   \n",
              "79   1920      Warren Harding    Republican      16144093    win  60.574501   \n",
              "133  1984       Ronald Reagan    Republican      54455472    win  59.023326   \n",
              "..    ...                 ...           ...           ...    ...        ...   \n",
              "165  2008    Cynthia McKinney         Green        161797   loss   0.123442   \n",
              "148  1996        John Hagelin   Natural Law        113670   loss   0.118219   \n",
              "160  2004    Michael Peroutka  Constitution        143630   loss   0.117542   \n",
              "141  1992            Bo Gritz      Populist        106152   loss   0.101918   \n",
              "156  2004          David Cobb         Green        119859   loss   0.098088   \n",
              "\n",
              "     Result_bool  \n",
              "114         True  \n",
              "91          True  \n",
              "120         True  \n",
              "79          True  \n",
              "133         True  \n",
              "..           ...  \n",
              "165        False  \n",
              "148        False  \n",
              "160        False  \n",
              "141        False  \n",
              "156        False  \n",
              "\n",
              "[182 rows x 7 columns]"
            ]
          },
          "execution_count": 231,
          "metadata": {},
          "output_type": "execute_result"
        }
      ],
      "source": [
        "elections.sort_values('%', ascending=False)"
      ]
    },
    {
      "cell_type": "markdown",
      "metadata": {
        "id": "l88QC8yvPtvZ"
      },
      "source": [
        "We can also use `sort_values` on Series objects."
      ]
    },
    {
      "cell_type": "code",
      "execution_count": 232,
      "metadata": {
        "id": "4wTi414QPtva"
      },
      "outputs": [
        {
          "data": {
            "text/plain": [
              "46    Chinook Jargon\n",
              "49           English\n",
              "29           English\n",
              "28           English\n",
              "27           English\n",
              "26           English\n",
              "48           English\n",
              "37           English\n",
              "38           English\n",
              "40           English\n",
              "17           English\n",
              "34           English\n",
              "42           English\n",
              "14           English\n",
              "41           English\n",
              "12           English\n",
              "1            English\n",
              "13           English\n",
              "8            English\n",
              "7            English\n",
              "9            English\n",
              "43           English\n",
              "22            French\n",
              "4              Greek\n",
              "10          Hawaiian\n",
              "19           Italian\n",
              "39             Latin\n",
              "44             Latin\n",
              "36             Latin\n",
              "45             Latin\n",
              "47             Latin\n",
              "35             Latin\n",
              "33             Latin\n",
              "0              Latin\n",
              "31             Latin\n",
              "30             Latin\n",
              "23             Latin\n",
              "21             Latin\n",
              "20             Latin\n",
              "18             Latin\n",
              "16             Latin\n",
              "15             Latin\n",
              "11             Latin\n",
              "6              Latin\n",
              "5              Latin\n",
              "3              Latin\n",
              "2              Latin\n",
              "32             Latin\n",
              "24             Latin\n",
              "25           Spanish\n",
              "Name: Language, dtype: object"
            ]
          },
          "execution_count": 232,
          "metadata": {},
          "output_type": "execute_result"
        }
      ],
      "source": [
        "mottos['Language'].sort_values().head(50)"
      ]
    },
    {
      "cell_type": "markdown",
      "metadata": {
        "id": "8_4EHw_lPtvb"
      },
      "source": [
        "For Series, the `value_counts` method is often quite handy."
      ]
    },
    {
      "cell_type": "code",
      "execution_count": 233,
      "metadata": {
        "id": "qO1Uxnw3Ptvb"
      },
      "outputs": [
        {
          "data": {
            "text/plain": [
              "Language\n",
              "Latin             23\n",
              "English           21\n",
              "Greek              1\n",
              "Hawaiian           1\n",
              "Italian            1\n",
              "French             1\n",
              "Spanish            1\n",
              "Chinook Jargon     1\n",
              "Name: count, dtype: int64"
            ]
          },
          "execution_count": 233,
          "metadata": {},
          "output_type": "execute_result"
        }
      ],
      "source": [
        "mottos['Language'].value_counts()"
      ]
    },
    {
      "cell_type": "markdown",
      "metadata": {
        "id": "l1fAovTpPtvb"
      },
      "source": [
        "Also commonly used is the `unique` method, which returns **all unique values** as a numpy array."
      ]
    },
    {
      "cell_type": "code",
      "execution_count": 234,
      "metadata": {
        "id": "_ToE_vqVPtvb"
      },
      "outputs": [
        {
          "data": {
            "text/plain": [
              "array(['Latin', 'English', 'Greek', 'Hawaiian', 'Italian', 'French',\n",
              "       'Spanish', 'Chinook Jargon'], dtype=object)"
            ]
          },
          "execution_count": 234,
          "metadata": {},
          "output_type": "execute_result"
        }
      ],
      "source": [
        "mottos['Language'].unique()"
      ]
    },
    {
      "cell_type": "code",
      "execution_count": 235,
      "metadata": {
        "colab": {
          "base_uri": "https://localhost:8080/"
        },
        "id": "HAYgnI5ZPtvb",
        "outputId": "fe2327f2-b209-45fe-dc98-b866fe139dd9"
      },
      "outputs": [
        {
          "data": {
            "text/plain": [
              "5"
            ]
          },
          "execution_count": 235,
          "metadata": {},
          "output_type": "execute_result"
        }
      ],
      "source": [
        "def fiba(n):\n",
        "    if n < 2:\n",
        "        return n\n",
        "    else:\n",
        "        return fiba(n-1) + fiba(n-2)\n",
        "\n",
        "\n",
        "\n",
        "fiba(5)"
      ]
    },
    {
      "cell_type": "markdown",
      "metadata": {
        "id": "nyvmtSviPtvc"
      },
      "source": [
        "# Thank you!"
      ]
    }
  ],
  "metadata": {
    "colab": {
      "provenance": []
    },
    "kernelspec": {
      "display_name": "python_eda",
      "language": "python",
      "name": "python3"
    },
    "language_info": {
      "codemirror_mode": {
        "name": "ipython",
        "version": 3
      },
      "file_extension": ".py",
      "mimetype": "text/x-python",
      "name": "python",
      "nbconvert_exporter": "python",
      "pygments_lexer": "ipython3",
      "version": "3.12.3"
    }
  },
  "nbformat": 4,
  "nbformat_minor": 0
}
