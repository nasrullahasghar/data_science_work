{
  "cells": [
    {
      "cell_type": "code",
      "execution_count": 130,
      "metadata": {
        "id": "c_eVXa9OPtvB"
      },
      "outputs": [],
      "source": [
        "import pandas as pd # A general purpose Python library for data analysis\n",
        "import numpy as np # A library for scientific computing in Python (e.g., provides high-performance multi-dimensional array objects and operations)\n",
        "\n",
        "import matplotlib.pyplot as plt # a plotting library for Python and NumPy (readily customizable)\n",
        "import seaborn as sns # Another plotting library for Python (fewer syntax, excellent default themes, behind the scenes, it uses matplotlib)\n",
        "import time"
      ]
    },
    {
      "cell_type": "markdown",
      "metadata": {
        "id": "PSdsojacPtvD"
      },
      "source": [
        "## Knowledge Streams 2024\n",
        "\n",
        "In this notebook, we will learn about the key data structures provided by the Pandas library: **Data Frames, Series, and Indices**.\n",
        "\n",
        "In addition, we will learn about the following operations:\n",
        "* How to access data contained in these structures?\n",
        "* How to read files (e.g., csv, xlsx, sql) to create these structures?\n",
        "* How to carry out different data manipulation tasks using these structures?\n",
        "\n",
        "`Dataset`: US elections with information about candidates, their party, votes won, year of election and the result."
      ]
    },
    {
      "cell_type": "markdown",
      "metadata": {
        "id": "sufDZrcePtvF"
      },
      "source": [
        "## Reading in Data Frames from Files\n",
        "We'll be using **read_csv** today. Note that this file reading function does all the *data parsing* for you, which is very useful."
      ]
    },
    {
      "cell_type": "markdown",
      "metadata": {
        "id": "wAchNI6BPtvG"
      },
      "source": [
        "Before loading a file into a dataframe, let's first take a look at the **elections.csv** file"
      ]
    },
    {
      "cell_type": "code",
      "execution_count": 131,
      "metadata": {
        "id": "vQruwj5rPtvG",
        "scrolled": true
      },
      "outputs": [
        {
          "name": "stdout",
          "output_type": "stream",
          "text": [
            ".\n",
            "The data set has 182 observations and 6 features\n"
          ]
        }
      ],
      "source": [
        "#Load csv file and print shape\n",
        "# Code here\n",
        "df=pd.read_csv('./data/elections.csv')\n",
        "\n",
        "# how many observation and features are given\n",
        "#Code here\n",
        "print(f'.\\nThe data set has {df.shape[0]} observations and {df.shape[1]} features')"
      ]
    },
    {
      "cell_type": "code",
      "execution_count": 132,
      "metadata": {
        "id": "ft8isrsOPtvI"
      },
      "outputs": [
        {
          "name": "stdout",
          "output_type": "stream",
          "text": [
            "   Year          Candidate                  Party  Popular vote Result  \\\n",
            "0  1824     Andrew Jackson  Democratic-Republican        151271   loss   \n",
            "1  1824  John Quincy Adams  Democratic-Republican        113142    win   \n",
            "2  1828     Andrew Jackson             Democratic        642806    win   \n",
            "3  1828  John Quincy Adams    National Republican        500897   loss   \n",
            "4  1832     Andrew Jackson             Democratic        702735    win   \n",
            "\n",
            "           %  \n",
            "0  57.210122  \n",
            "1  42.789878  \n",
            "2  56.203927  \n",
            "3  43.796073  \n",
            "4  54.574789  \n",
            "     Year       Candidate        Party  Popular vote Result          %\n",
            "177  2016      Jill Stein        Green       1457226   loss   1.073699\n",
            "178  2020    Joseph Biden   Democratic      81268924    win  51.311515\n",
            "179  2020    Donald Trump   Republican      74216154   loss  46.858542\n",
            "180  2020    Jo Jorgensen  Libertarian       1865724   loss   1.177979\n",
            "181  2020  Howard Hawkins        Green        405035   loss   0.255731\n"
          ]
        }
      ],
      "source": [
        "# We can use the **head command** to show only a few rows of a dataframe from start.\n",
        "# Code here\n",
        "print(df.head())\n",
        "#Use **tail command** to show last few observation.\n",
        "# code here\n",
        "print(df.tail())"
      ]
    },
    {
      "cell_type": "code",
      "execution_count": 133,
      "metadata": {
        "id": "r3-biPiJPtvI"
      },
      "outputs": [
        {
          "data": {
            "text/html": [
              "<div>\n",
              "<style scoped>\n",
              "    .dataframe tbody tr th:only-of-type {\n",
              "        vertical-align: middle;\n",
              "    }\n",
              "\n",
              "    .dataframe tbody tr th {\n",
              "        vertical-align: top;\n",
              "    }\n",
              "\n",
              "    .dataframe thead th {\n",
              "        text-align: right;\n",
              "    }\n",
              "</style>\n",
              "<table border=\"1\" class=\"dataframe\">\n",
              "  <thead>\n",
              "    <tr style=\"text-align: right;\">\n",
              "      <th></th>\n",
              "      <th>Candidate</th>\n",
              "      <th>Party</th>\n",
              "      <th>Popular vote</th>\n",
              "      <th>Result</th>\n",
              "      <th>%</th>\n",
              "    </tr>\n",
              "    <tr>\n",
              "      <th>Year</th>\n",
              "      <th></th>\n",
              "      <th></th>\n",
              "      <th></th>\n",
              "      <th></th>\n",
              "      <th></th>\n",
              "    </tr>\n",
              "  </thead>\n",
              "  <tbody>\n",
              "    <tr>\n",
              "      <th>1824</th>\n",
              "      <td>Andrew Jackson</td>\n",
              "      <td>Democratic-Republican</td>\n",
              "      <td>151271</td>\n",
              "      <td>loss</td>\n",
              "      <td>57.210122</td>\n",
              "    </tr>\n",
              "    <tr>\n",
              "      <th>1824</th>\n",
              "      <td>John Quincy Adams</td>\n",
              "      <td>Democratic-Republican</td>\n",
              "      <td>113142</td>\n",
              "      <td>win</td>\n",
              "      <td>42.789878</td>\n",
              "    </tr>\n",
              "    <tr>\n",
              "      <th>1828</th>\n",
              "      <td>Andrew Jackson</td>\n",
              "      <td>Democratic</td>\n",
              "      <td>642806</td>\n",
              "      <td>win</td>\n",
              "      <td>56.203927</td>\n",
              "    </tr>\n",
              "    <tr>\n",
              "      <th>1828</th>\n",
              "      <td>John Quincy Adams</td>\n",
              "      <td>National Republican</td>\n",
              "      <td>500897</td>\n",
              "      <td>loss</td>\n",
              "      <td>43.796073</td>\n",
              "    </tr>\n",
              "    <tr>\n",
              "      <th>1832</th>\n",
              "      <td>Andrew Jackson</td>\n",
              "      <td>Democratic</td>\n",
              "      <td>702735</td>\n",
              "      <td>win</td>\n",
              "      <td>54.574789</td>\n",
              "    </tr>\n",
              "  </tbody>\n",
              "</table>\n",
              "</div>"
            ],
            "text/plain": [
              "              Candidate                  Party  Popular vote Result          %\n",
              "Year                                                                          \n",
              "1824     Andrew Jackson  Democratic-Republican        151271   loss  57.210122\n",
              "1824  John Quincy Adams  Democratic-Republican        113142    win  42.789878\n",
              "1828     Andrew Jackson             Democratic        642806    win  56.203927\n",
              "1828  John Quincy Adams    National Republican        500897   loss  43.796073\n",
              "1832     Andrew Jackson             Democratic        702735    win  54.574789"
            ]
          },
          "execution_count": 133,
          "metadata": {},
          "output_type": "execute_result"
        }
      ],
      "source": [
        "#The `read_csv` command lets us specify a **column to use an index**. For example, we could have used __Year__ as the index.\n",
        "#Code here\n",
        "df=pd.read_csv('./data/elections.csv',index_col='Year')\n",
        "df.head()"
      ]
    },
    {
      "cell_type": "code",
      "execution_count": 134,
      "metadata": {
        "id": "-u_BJi6ZPtvJ"
      },
      "outputs": [
        {
          "data": {
            "text/html": [
              "<div>\n",
              "<style scoped>\n",
              "    .dataframe tbody tr th:only-of-type {\n",
              "        vertical-align: middle;\n",
              "    }\n",
              "\n",
              "    .dataframe tbody tr th {\n",
              "        vertical-align: top;\n",
              "    }\n",
              "\n",
              "    .dataframe thead th {\n",
              "        text-align: right;\n",
              "    }\n",
              "</style>\n",
              "<table border=\"1\" class=\"dataframe\">\n",
              "  <thead>\n",
              "    <tr style=\"text-align: right;\">\n",
              "      <th></th>\n",
              "      <th>Candidate</th>\n",
              "      <th>Popular vote</th>\n",
              "      <th>Result</th>\n",
              "      <th>%</th>\n",
              "    </tr>\n",
              "    <tr>\n",
              "      <th>Party</th>\n",
              "      <th></th>\n",
              "      <th></th>\n",
              "      <th></th>\n",
              "      <th></th>\n",
              "    </tr>\n",
              "  </thead>\n",
              "  <tbody>\n",
              "    <tr>\n",
              "      <th>Democratic-Republican</th>\n",
              "      <td>Andrew Jackson</td>\n",
              "      <td>151271</td>\n",
              "      <td>loss</td>\n",
              "      <td>57.210122</td>\n",
              "    </tr>\n",
              "    <tr>\n",
              "      <th>Democratic-Republican</th>\n",
              "      <td>John Quincy Adams</td>\n",
              "      <td>113142</td>\n",
              "      <td>win</td>\n",
              "      <td>42.789878</td>\n",
              "    </tr>\n",
              "    <tr>\n",
              "      <th>Democratic</th>\n",
              "      <td>Andrew Jackson</td>\n",
              "      <td>642806</td>\n",
              "      <td>win</td>\n",
              "      <td>56.203927</td>\n",
              "    </tr>\n",
              "    <tr>\n",
              "      <th>National Republican</th>\n",
              "      <td>John Quincy Adams</td>\n",
              "      <td>500897</td>\n",
              "      <td>loss</td>\n",
              "      <td>43.796073</td>\n",
              "    </tr>\n",
              "    <tr>\n",
              "      <th>Democratic</th>\n",
              "      <td>Andrew Jackson</td>\n",
              "      <td>702735</td>\n",
              "      <td>win</td>\n",
              "      <td>54.574789</td>\n",
              "    </tr>\n",
              "  </tbody>\n",
              "</table>\n",
              "</div>"
            ],
            "text/plain": [
              "                               Candidate  Popular vote Result          %\n",
              "Party                                                                   \n",
              "Democratic-Republican     Andrew Jackson        151271   loss  57.210122\n",
              "Democratic-Republican  John Quincy Adams        113142    win  42.789878\n",
              "Democratic                Andrew Jackson        642806    win  56.203927\n",
              "National Republican    John Quincy Adams        500897   loss  43.796073\n",
              "Democratic                Andrew Jackson        702735    win  54.574789"
            ]
          },
          "execution_count": 134,
          "metadata": {},
          "output_type": "execute_result"
        }
      ],
      "source": [
        "#Alternately, we could have used the **set_index** commmand on the dataframe to set a particular column as index.\n",
        "# code here\n",
        "df.set_index('Party',inplace=True)\n",
        "df.head()"
      ]
    },
    {
      "cell_type": "markdown",
      "metadata": {
        "id": "kOpP3gBYPtvJ"
      },
      "source": [
        "# Caution:\n",
        "The **set_index command** (along with all other data frame methods) **does not modify the dataframe**, i.e., the original \"elections\" is untouched. Note: There is a flag called \"inplace\" which does modify the calling dataframe (e.g., `elections.set_index(\"Party\",inplace=True)`)."
      ]
    },
    {
      "cell_type": "markdown",
      "metadata": {
        "id": "HYFFeZwRPtvJ"
      },
      "source": [
        "## Duplicate Columns?\n",
        "By contast, column names MUST be unique. For example, if we try to read in a file for which column names are not unique, Pandas will automatically any duplicates. Load duplicate_columns.csv"
      ]
    },
    {
      "cell_type": "code",
      "execution_count": 135,
      "metadata": {
        "id": "4VSBA-Y4PtvJ"
      },
      "outputs": [
        {
          "data": {
            "text/html": [
              "<div>\n",
              "<style scoped>\n",
              "    .dataframe tbody tr th:only-of-type {\n",
              "        vertical-align: middle;\n",
              "    }\n",
              "\n",
              "    .dataframe tbody tr th {\n",
              "        vertical-align: top;\n",
              "    }\n",
              "\n",
              "    .dataframe thead th {\n",
              "        text-align: right;\n",
              "    }\n",
              "</style>\n",
              "<table border=\"1\" class=\"dataframe\">\n",
              "  <thead>\n",
              "    <tr style=\"text-align: right;\">\n",
              "      <th></th>\n",
              "      <th>name</th>\n",
              "      <th>name.1</th>\n",
              "      <th>flavor</th>\n",
              "    </tr>\n",
              "  </thead>\n",
              "  <tbody>\n",
              "    <tr>\n",
              "      <th>0</th>\n",
              "      <td>john</td>\n",
              "      <td>smith</td>\n",
              "      <td>vanilla</td>\n",
              "    </tr>\n",
              "    <tr>\n",
              "      <th>1</th>\n",
              "      <td>zhang</td>\n",
              "      <td>shan</td>\n",
              "      <td>chocolate</td>\n",
              "    </tr>\n",
              "    <tr>\n",
              "      <th>2</th>\n",
              "      <td>fulan</td>\n",
              "      <td>alfulani</td>\n",
              "      <td>strawberry</td>\n",
              "    </tr>\n",
              "    <tr>\n",
              "      <th>3</th>\n",
              "      <td>hong</td>\n",
              "      <td>gildong</td>\n",
              "      <td>banana</td>\n",
              "    </tr>\n",
              "  </tbody>\n",
              "</table>\n",
              "</div>"
            ],
            "text/plain": [
              "    name    name.1      flavor\n",
              "0   john     smith     vanilla\n",
              "1  zhang      shan   chocolate\n",
              "2  fulan  alfulani  strawberry\n",
              "3   hong   gildong      banana"
            ]
          },
          "execution_count": 135,
          "metadata": {},
          "output_type": "execute_result"
        }
      ],
      "source": [
        "#Answer Here\n",
        "duplicate=pd.read_csv('./data/duplicate_columns.csv')\n",
        "duplicate"
      ]
    },
    {
      "cell_type": "markdown",
      "metadata": {
        "id": "fUjSXLNhPtvK"
      },
      "source": [
        "## The [ ] Operator & Indexing"
      ]
    },
    {
      "cell_type": "markdown",
      "metadata": {
        "id": "_y0PM7R9PtvK"
      },
      "source": [
        "The DataFrame class has an indexing operator **[ ]** (also known as the 'brack' operator) that lets you do a variety of different things. If your provide a String to the **[ ]** operator, you get back a ***Series*** corresponding to the requested label.\n",
        "\n",
        "1.Use **[ ]** to display different columns\n",
        "\n",
        "2.Use List retrive multiple columns"
      ]
    },
    {
      "cell_type": "code",
      "execution_count": 137,
      "metadata": {
        "id": "MpSUIkiHPtvK"
      },
      "outputs": [
        {
          "name": "stdout",
          "output_type": "stream",
          "text": [
            "Candidate List: ['Andrew Jackson', 'John Quincy Adams', 'Andrew Jackson', 'John Quincy Adams', 'Andrew Jackson', 'Henry Clay', 'William Wirt', 'Hugh Lawson White', 'Martin Van Buren', 'William Henry Harrison', 'Martin Van Buren', 'William Henry Harrison', 'Henry Clay', 'James Polk', 'Lewis Cass', 'Martin Van Buren', 'Zachary Taylor', 'Franklin Pierce', 'John P. Hale', 'Winfield Scott', 'James Buchanan', 'John C. Frémont', 'Millard Fillmore', 'Abraham Lincoln', 'John Bell', 'John C. Breckinridge', 'Stephen A. Douglas', 'Abraham Lincoln', 'George B. McClellan', 'Horatio Seymour', 'Ulysses Grant', 'Horace Greeley', 'Ulysses Grant', 'Rutherford Hayes', 'Samuel J. Tilden', 'James B. Weaver', 'James Garfield', 'Winfield Scott Hancock', 'Benjamin Butler', 'Grover Cleveland', 'James G. Blaine', 'John St. John', 'Alson Streeter', 'Benjamin Harrison', 'Clinton B. Fisk', 'Grover Cleveland', 'Benjamin Harrison', 'Grover Cleveland', 'James B. Weaver', 'John Bidwell', 'John M. Palmer', 'Joshua Levering', 'William Jennings Bryan', 'William McKinley', 'John G. Woolley', 'William Jennings Bryan', 'William McKinley', 'Alton B. Parker', 'Eugene V. Debs', 'Silas C. Swallow', 'Theodore Roosevelt', 'Thomas E. Watson', 'Eugene V. Debs', 'Eugene W. Chafin', 'William Jennings Bryan', 'William Taft', 'Eugene V. Debs', 'Eugene W. Chafin', 'Theodore Roosevelt', 'William Taft', 'Woodrow Wilson', 'Allan L. Benson', 'Charles Evans Hughes', 'Frank Hanly', 'Woodrow Wilson', 'Aaron S. Watkins', 'Eugene V. Debs', 'James M. Cox', 'Parley P. Christensen', 'Warren Harding', 'Calvin Coolidge', 'John W. Davis', 'Robert La Follette', 'Al Smith', 'Herbert Hoover', 'Norman Thomas', 'Franklin Roosevelt', 'Herbert Hoover', 'Norman Thomas', 'William Z. Foster', 'Alf Landon', 'Franklin Roosevelt', 'Norman Thomas', 'William Lemke', 'Franklin Roosevelt', 'Norman Thomas', 'Wendell Willkie', 'Franklin Roosevelt', 'Thomas E. Dewey', 'Claude A. Watson', 'Harry Truman', 'Henry A. Wallace', 'Norman Thomas', 'Strom Thurmond', 'Thomas E. Dewey', 'Adlai Stevenson', 'Dwight Eisenhower', 'Vincent Hallinan', 'Adlai Stevenson', 'Dwight Eisenhower', 'T. Coleman Andrews', 'John Kennedy', 'Richard Nixon', 'Barry Goldwater', 'Lyndon Johnson', 'George Wallace', 'Hubert Humphrey', 'Richard Nixon', 'George McGovern', 'John G. Schmitz', 'Richard Nixon', 'Eugene McCarthy', 'Gerald Ford', 'Jimmy Carter', 'Lester Maddox', 'Roger MacBride', 'Thomas J. Anderson', 'Barry Commoner', 'Ed Clark', 'Jimmy Carter', 'John B. Anderson', 'Ronald Reagan', 'David Bergland', 'Ronald Reagan', 'Walter Mondale', 'George H. W. Bush', 'Lenora Fulani', 'Michael Dukakis', 'Ron Paul', 'Andre Marrou', 'Bill Clinton', 'Bo Gritz', 'George H. W. Bush', 'Ross Perot', 'Bill Clinton', 'Bob Dole', 'Harry Browne', 'Howard Phillips', 'John Hagelin', 'Ralph Nader', 'Ross Perot', 'Al Gore', 'George W. Bush', 'Harry Browne', 'Pat Buchanan', 'Ralph Nader', 'David Cobb', 'George W. Bush', 'John Kerry', 'Michael Badnarik', 'Michael Peroutka', 'Ralph Nader', 'Barack Obama', 'Bob Barr', 'Chuck Baldwin', 'Cynthia McKinney', 'John McCain', 'Ralph Nader', 'Barack Obama', 'Gary Johnson', 'Jill Stein', 'Mitt Romney', 'Darrell Castle', 'Donald Trump', 'Evan McMullin', 'Gary Johnson', 'Hillary Clinton', 'Jill Stein', 'Joseph Biden', 'Donald Trump', 'Jo Jorgensen', 'Howard Hawkins']\n",
            "\n",
            "Popular Vote List: [151271, 113142, 642806, 500897, 702735, 484205, 100715, 146109, 763291, 550816, 1128854, 1275583, 1300004, 1339570, 1223460, 291501, 1360235, 1605943, 155210, 1386942, 1835140, 1342345, 873053, 1855993, 590901, 848019, 1380202, 2211317, 1812807, 2708744, 3013790, 2834761, 3597439, 4034142, 4288546, 308649, 4453337, 4444976, 134294, 4914482, 4856905, 147482, 146602, 5443633, 249819, 5534488, 5176108, 5553898, 1041028, 270879, 134645, 131312, 6509052, 7112138, 210864, 6370932, 7228864, 5083880, 402810, 259102, 7630557, 114070, 420852, 254087, 6408979, 7678335, 901551, 208156, 4122721, 3486242, 6296284, 590524, 8548728, 221302, 9126868, 188787, 913693, 9139661, 265398, 16144093, 15723789, 8386242, 4831706, 15015464, 21427123, 267478, 22821277, 15761254, 884885, 103307, 16679543, 27752648, 187910, 892378, 27313945, 116599, 22347744, 25612916, 22017929, 103708, 24179347, 1157328, 139569, 1175930, 21991292, 27375090, 34075529, 140746, 26028028, 35579180, 107929, 34220984, 34108157, 27175754, 43127041, 9901118, 31271839, 31783783, 29173222, 1100868, 47168710, 740460, 39148634, 40831881, 170274, 172557, 158271, 233052, 921128, 35480115, 5719850, 43903230, 228111, 54455472, 37577352, 48886597, 217221, 41809074, 431750, 290087, 44909806, 106152, 39104550, 19743821, 47400125, 39197469, 485759, 184656, 113670, 685297, 8085294, 50999897, 50456002, 384431, 448895, 2882955, 119859, 62040610, 59028444, 397265, 143630, 465151, 69498516, 523715, 199750, 161797, 59948323, 739034, 65915795, 1275971, 469627, 60933504, 203091, 62984828, 732273, 4489235, 65853514, 1457226, 81268924, 74216154, 1865724, 405035]\n"
          ]
        }
      ],
      "source": [
        "# Display and Retrieve multiple columns from the election data frame, the resultant would be the list for every column.\n",
        "#Code here\n",
        "candidate_list = df['Candidate'].tolist()\n",
        "popular_vote_list = df['Popular vote'].tolist()\n",
        "\n",
        "# Display the lists\n",
        "print(\"Candidate List:\", candidate_list)\n",
        "print(\"\\nPopular Vote List:\", popular_vote_list)"
      ]
    },
    {
      "cell_type": "code",
      "execution_count": 93,
      "metadata": {
        "id": "lX4YozsZPtvK",
        "scrolled": true
      },
      "outputs": [
        {
          "data": {
            "text/html": [
              "<div>\n",
              "<style scoped>\n",
              "    .dataframe tbody tr th:only-of-type {\n",
              "        vertical-align: middle;\n",
              "    }\n",
              "\n",
              "    .dataframe tbody tr th {\n",
              "        vertical-align: top;\n",
              "    }\n",
              "\n",
              "    .dataframe thead th {\n",
              "        text-align: right;\n",
              "    }\n",
              "</style>\n",
              "<table border=\"1\" class=\"dataframe\">\n",
              "  <thead>\n",
              "    <tr style=\"text-align: right;\">\n",
              "      <th></th>\n",
              "      <th>Candidate</th>\n",
              "      <th>Party</th>\n",
              "      <th>Popular vote</th>\n",
              "    </tr>\n",
              "  </thead>\n",
              "  <tbody>\n",
              "    <tr>\n",
              "      <th>0</th>\n",
              "      <td>Andrew Jackson</td>\n",
              "      <td>Democratic-Republican</td>\n",
              "      <td>151271</td>\n",
              "    </tr>\n",
              "    <tr>\n",
              "      <th>1</th>\n",
              "      <td>John Quincy Adams</td>\n",
              "      <td>Democratic-Republican</td>\n",
              "      <td>113142</td>\n",
              "    </tr>\n",
              "    <tr>\n",
              "      <th>2</th>\n",
              "      <td>Andrew Jackson</td>\n",
              "      <td>Democratic</td>\n",
              "      <td>642806</td>\n",
              "    </tr>\n",
              "    <tr>\n",
              "      <th>3</th>\n",
              "      <td>John Quincy Adams</td>\n",
              "      <td>National Republican</td>\n",
              "      <td>500897</td>\n",
              "    </tr>\n",
              "    <tr>\n",
              "      <th>4</th>\n",
              "      <td>Andrew Jackson</td>\n",
              "      <td>Democratic</td>\n",
              "      <td>702735</td>\n",
              "    </tr>\n",
              "  </tbody>\n",
              "</table>\n",
              "</div>"
            ],
            "text/plain": [
              "           Candidate                  Party  Popular vote\n",
              "0     Andrew Jackson  Democratic-Republican        151271\n",
              "1  John Quincy Adams  Democratic-Republican        113142\n",
              "2     Andrew Jackson             Democratic        642806\n",
              "3  John Quincy Adams    National Republican        500897\n",
              "4     Andrew Jackson             Democratic        702735"
            ]
          },
          "execution_count": 93,
          "metadata": {},
          "output_type": "execute_result"
        }
      ],
      "source": [
        "#The **[ ]** operator also accepts a list of strings. In this case, you get back a **DataFrame** corresponding to the requested strings.\n",
        "# code here\n",
        "list=df[['Candidate', 'Party', 'Popular vote']]\n",
        "list.head()"
      ]
    },
    {
      "cell_type": "markdown",
      "metadata": {
        "id": "7pv2JkjRPtvK"
      },
      "source": [
        "A list of one label also returns a DataFrame. This can be handy if you want your results as a DataFrame, not a series."
      ]
    },
    {
      "cell_type": "markdown",
      "metadata": {
        "id": "XqKnvINoPtvL"
      },
      "source": [
        "Note that we can also use the **to_frame** method to turn a Series into a DataFrame.\n",
        "\n",
        "Extract one col name \"Candidates\" from DataFrame it will be a series. Convert series into a DataFrame."
      ]
    },
    {
      "cell_type": "code",
      "execution_count": 97,
      "metadata": {
        "id": "XUOtNoVnPtvL"
      },
      "outputs": [
        {
          "data": {
            "text/plain": [
              "0       Andrew Jackson\n",
              "1    John Quincy Adams\n",
              "2       Andrew Jackson\n",
              "3    John Quincy Adams\n",
              "4       Andrew Jackson\n",
              "Name: Candidate, dtype: object"
            ]
          },
          "execution_count": 97,
          "metadata": {},
          "output_type": "execute_result"
        }
      ],
      "source": [
        "# Code here\n",
        "candidate_series = df['Candidate']\n",
        "candidate_series.head()"
      ]
    },
    {
      "cell_type": "code",
      "execution_count": 98,
      "metadata": {
        "id": "HdHWFzzSPtvL"
      },
      "outputs": [
        {
          "data": {
            "text/html": [
              "<div>\n",
              "<style scoped>\n",
              "    .dataframe tbody tr th:only-of-type {\n",
              "        vertical-align: middle;\n",
              "    }\n",
              "\n",
              "    .dataframe tbody tr th {\n",
              "        vertical-align: top;\n",
              "    }\n",
              "\n",
              "    .dataframe thead th {\n",
              "        text-align: right;\n",
              "    }\n",
              "</style>\n",
              "<table border=\"1\" class=\"dataframe\">\n",
              "  <thead>\n",
              "    <tr style=\"text-align: right;\">\n",
              "      <th></th>\n",
              "      <th>Candidate</th>\n",
              "    </tr>\n",
              "  </thead>\n",
              "  <tbody>\n",
              "    <tr>\n",
              "      <th>0</th>\n",
              "      <td>Andrew Jackson</td>\n",
              "    </tr>\n",
              "    <tr>\n",
              "      <th>1</th>\n",
              "      <td>John Quincy Adams</td>\n",
              "    </tr>\n",
              "    <tr>\n",
              "      <th>2</th>\n",
              "      <td>Andrew Jackson</td>\n",
              "    </tr>\n",
              "    <tr>\n",
              "      <th>3</th>\n",
              "      <td>John Quincy Adams</td>\n",
              "    </tr>\n",
              "    <tr>\n",
              "      <th>4</th>\n",
              "      <td>Andrew Jackson</td>\n",
              "    </tr>\n",
              "  </tbody>\n",
              "</table>\n",
              "</div>"
            ],
            "text/plain": [
              "           Candidate\n",
              "0     Andrew Jackson\n",
              "1  John Quincy Adams\n",
              "2     Andrew Jackson\n",
              "3  John Quincy Adams\n",
              "4     Andrew Jackson"
            ]
          },
          "execution_count": 98,
          "metadata": {},
          "output_type": "execute_result"
        }
      ],
      "source": [
        "# Code here\n",
        "candidate_df = candidate_series.to_frame()\n",
        "candidate_df.head()"
      ]
    },
    {
      "cell_type": "markdown",
      "metadata": {
        "id": "EJsBn7uKPtvN"
      },
      "source": [
        "The following cells allow you to **test your understanding**. Let's go over the summary of what we have learnt (see slides).\n",
        "\n",
        "# Creating DataFrames\n",
        "Create DataFrame using List and Columns name given in slides."
      ]
    },
    {
      "cell_type": "code",
      "execution_count": 111,
      "metadata": {
        "id": "yA1NsyftUQYi"
      },
      "outputs": [
        {
          "data": {
            "text/html": [
              "<div>\n",
              "<style scoped>\n",
              "    .dataframe tbody tr th:only-of-type {\n",
              "        vertical-align: middle;\n",
              "    }\n",
              "\n",
              "    .dataframe tbody tr th {\n",
              "        vertical-align: top;\n",
              "    }\n",
              "\n",
              "    .dataframe thead th {\n",
              "        text-align: right;\n",
              "    }\n",
              "</style>\n",
              "<table border=\"1\" class=\"dataframe\">\n",
              "  <thead>\n",
              "    <tr style=\"text-align: right;\">\n",
              "      <th></th>\n",
              "      <th>0</th>\n",
              "    </tr>\n",
              "  </thead>\n",
              "  <tbody>\n",
              "    <tr>\n",
              "      <th>33</th>\n",
              "      <td>Ali</td>\n",
              "    </tr>\n",
              "    <tr>\n",
              "      <th>55</th>\n",
              "      <td>Ahmed</td>\n",
              "    </tr>\n",
              "    <tr>\n",
              "      <th>56</th>\n",
              "      <td>Kashif</td>\n",
              "    </tr>\n",
              "  </tbody>\n",
              "</table>\n",
              "</div>"
            ],
            "text/plain": [
              "         0\n",
              "33     Ali\n",
              "55   Ahmed\n",
              "56  Kashif"
            ]
          },
          "execution_count": 111,
          "metadata": {},
          "output_type": "execute_result"
        }
      ],
      "source": [
        "# Code here\n",
        "candidates_list=['Ali','Ahmed','Kashif']\n",
        "votes_list=[33,55,56]\n",
        "list_df=pd.DataFrame(candidates_list,votes_list)\n",
        "list_df"
      ]
    },
    {
      "cell_type": "markdown",
      "metadata": {
        "id": "De8I7tdRhSCc"
      },
      "source": [
        "Creating DataFrames using **Dictionary** given in slides."
      ]
    },
    {
      "cell_type": "code",
      "execution_count": 105,
      "metadata": {
        "id": "YLidbVoJPtvN"
      },
      "outputs": [
        {
          "data": {
            "text/html": [
              "<div>\n",
              "<style scoped>\n",
              "    .dataframe tbody tr th:only-of-type {\n",
              "        vertical-align: middle;\n",
              "    }\n",
              "\n",
              "    .dataframe tbody tr th {\n",
              "        vertical-align: top;\n",
              "    }\n",
              "\n",
              "    .dataframe thead th {\n",
              "        text-align: right;\n",
              "    }\n",
              "</style>\n",
              "<table border=\"1\" class=\"dataframe\">\n",
              "  <thead>\n",
              "    <tr style=\"text-align: right;\">\n",
              "      <th></th>\n",
              "      <th>Fruit</th>\n",
              "      <th>Price</th>\n",
              "    </tr>\n",
              "  </thead>\n",
              "  <tbody>\n",
              "    <tr>\n",
              "      <th>0</th>\n",
              "      <td>Strawberry</td>\n",
              "      <td>5.49</td>\n",
              "    </tr>\n",
              "    <tr>\n",
              "      <th>1</th>\n",
              "      <td>Orange</td>\n",
              "      <td>3.99</td>\n",
              "    </tr>\n",
              "  </tbody>\n",
              "</table>\n",
              "</div>"
            ],
            "text/plain": [
              "        Fruit  Price\n",
              "0  Strawberry   5.49\n",
              "1      Orange   3.99"
            ]
          },
          "execution_count": 105,
          "metadata": {},
          "output_type": "execute_result"
        }
      ],
      "source": [
        "# Code here\n",
        "dictionary_df=pd.DataFrame({\"Fruit\":[\"Strawberry\", \"Orange\"],\n",
        "\"Price\": [5.49, 3.99]})\n",
        "dictionary_df"
      ]
    },
    {
      "cell_type": "markdown",
      "metadata": {
        "id": "oRS1lfRJBeXj"
      },
      "source": [
        "Creating DataFrames using **Series** given in slides."
      ]
    },
    {
      "cell_type": "code",
      "execution_count": 139,
      "metadata": {
        "id": "Sup8vnimBs7u"
      },
      "outputs": [
        {
          "data": {
            "text/html": [
              "<div>\n",
              "<style scoped>\n",
              "    .dataframe tbody tr th:only-of-type {\n",
              "        vertical-align: middle;\n",
              "    }\n",
              "\n",
              "    .dataframe tbody tr th {\n",
              "        vertical-align: top;\n",
              "    }\n",
              "\n",
              "    .dataframe thead th {\n",
              "        text-align: right;\n",
              "    }\n",
              "</style>\n",
              "<table border=\"1\" class=\"dataframe\">\n",
              "  <thead>\n",
              "    <tr style=\"text-align: right;\">\n",
              "      <th></th>\n",
              "      <th>0</th>\n",
              "    </tr>\n",
              "  </thead>\n",
              "  <tbody>\n",
              "    <tr>\n",
              "      <th>a</th>\n",
              "      <td>-1</td>\n",
              "    </tr>\n",
              "    <tr>\n",
              "      <th>b</th>\n",
              "      <td>10</td>\n",
              "    </tr>\n",
              "    <tr>\n",
              "      <th>c</th>\n",
              "      <td>2</td>\n",
              "    </tr>\n",
              "  </tbody>\n",
              "</table>\n",
              "</div>"
            ],
            "text/plain": [
              "    0\n",
              "a  -1\n",
              "b  10\n",
              "c   2"
            ]
          },
          "execution_count": 139,
          "metadata": {},
          "output_type": "execute_result"
        }
      ],
      "source": [
        "# Code here\n",
        "s = pd.Series([-1, 10, 2], index = [\"a\", \"b\", \"c\"])\n",
        "s=pd.DataFrame(s)\n",
        "s"
      ]
    }
  ],
  "metadata": {
    "colab": {
      "provenance": []
    },
    "kernelspec": {
      "display_name": "python_eda",
      "language": "python",
      "name": "python3"
    },
    "language_info": {
      "codemirror_mode": {
        "name": "ipython",
        "version": 3
      },
      "file_extension": ".py",
      "mimetype": "text/x-python",
      "name": "python",
      "nbconvert_exporter": "python",
      "pygments_lexer": "ipython3",
      "version": "3.12.3"
    }
  },
  "nbformat": 4,
  "nbformat_minor": 0
}
