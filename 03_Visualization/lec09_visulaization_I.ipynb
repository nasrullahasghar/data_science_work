{
 "cells": [
  {
   "cell_type": "markdown",
   "id": "bab58abc-b5cc-43b1-9e88-7a68504e743a",
   "metadata": {
    "id": "bab58abc-b5cc-43b1-9e88-7a68504e743a"
   },
   "source": [
    "# Lecture 09 – Fall 2024\n",
    "\n",
    "---\n",
    "\n",
    "\n",
    "\n",
    "Data Science, Fall 2024\n",
    "\n",
    "Import the libraries\n",
    "\n"
   ]
  },
  {
   "cell_type": "code",
   "execution_count": 1,
   "id": "3d97cd9b-b5c1-4752-9c2c-4e72c7c5e38d",
   "metadata": {
    "id": "3d97cd9b-b5c1-4752-9c2c-4e72c7c5e38d"
   },
   "outputs": [],
   "source": [
    "#import libraries\n",
    "import seaborn as sns\n",
    "import pandas as pd\n",
    "import numpy as np\n",
    "import matplotlib.pyplot as plt\n",
    "import plotly.express as px\n",
    "%matplotlib inline"
   ]
  },
  {
   "cell_type": "markdown",
   "id": "596f559d-f24c-4ec7-aee3-50e123cf838b",
   "metadata": {
    "id": "596f559d-f24c-4ec7-aee3-50e123cf838b"
   },
   "source": [
    "In this lecture, we will demonstrate visualization techniques on the World Bank dataset. This dataset includes information about countries and development statistics from around the world.\n",
    "\n",
    "Load DataFrame and visualize"
   ]
  },
  {
   "cell_type": "code",
   "execution_count": 2,
   "id": "df2b1290-8207-463c-998a-1ed9a3fee07c",
   "metadata": {
    "colab": {
     "base_uri": "https://localhost:8080/",
     "height": 499
    },
    "id": "df2b1290-8207-463c-998a-1ed9a3fee07c",
    "outputId": "a6b7097a-3b54-4447-a019-a0c06ae04a34"
   },
   "outputs": [
    {
     "data": {
      "text/html": [
       "<div>\n",
       "<style scoped>\n",
       "    .dataframe tbody tr th:only-of-type {\n",
       "        vertical-align: middle;\n",
       "    }\n",
       "\n",
       "    .dataframe tbody tr th {\n",
       "        vertical-align: top;\n",
       "    }\n",
       "\n",
       "    .dataframe thead th {\n",
       "        text-align: right;\n",
       "    }\n",
       "</style>\n",
       "<table border=\"1\" class=\"dataframe\">\n",
       "  <thead>\n",
       "    <tr style=\"text-align: right;\">\n",
       "      <th></th>\n",
       "      <th>Unnamed: 0</th>\n",
       "      <th>Continent</th>\n",
       "      <th>Country</th>\n",
       "      <th>Primary completion rate: Male: % of relevant age group: 2015</th>\n",
       "      <th>Primary completion rate: Female: % of relevant age group: 2015</th>\n",
       "      <th>Lower secondary completion rate: Male: % of relevant age group: 2015</th>\n",
       "      <th>Lower secondary completion rate: Female: % of relevant age group: 2015</th>\n",
       "      <th>Youth literacy rate: Male: % of ages 15-24: 2005-14</th>\n",
       "      <th>Youth literacy rate: Female: % of ages 15-24: 2005-14</th>\n",
       "      <th>Adult literacy rate: Male: % ages 15 and older: 2005-14</th>\n",
       "      <th>...</th>\n",
       "      <th>Access to improved sanitation facilities: % of population: 1990</th>\n",
       "      <th>Access to improved sanitation facilities: % of population: 2015</th>\n",
       "      <th>Child immunization rate: Measles: % of children ages 12-23 months: 2015</th>\n",
       "      <th>Child immunization rate: DTP3: % of children ages 12-23 months: 2015</th>\n",
       "      <th>Children with acute respiratory infection taken to health provider: % of children under age 5 with ARI: 2009-2016</th>\n",
       "      <th>Children with diarrhea who received oral rehydration and continuous feeding: % of children under age 5 with diarrhea: 2009-2016</th>\n",
       "      <th>Children sleeping under treated bed nets: % of children under age 5: 2009-2016</th>\n",
       "      <th>Children with fever receiving antimalarial drugs: % of children under age 5 with fever: 2009-2016</th>\n",
       "      <th>Tuberculosis: Treatment success rate: % of new cases: 2014</th>\n",
       "      <th>Tuberculosis: Cases detection rate: % of new estimated cases: 2015</th>\n",
       "    </tr>\n",
       "  </thead>\n",
       "  <tbody>\n",
       "    <tr>\n",
       "      <th>0</th>\n",
       "      <td>0</td>\n",
       "      <td>Africa</td>\n",
       "      <td>Algeria</td>\n",
       "      <td>106.0</td>\n",
       "      <td>105.0</td>\n",
       "      <td>68.0</td>\n",
       "      <td>85.0</td>\n",
       "      <td>96.0</td>\n",
       "      <td>92.0</td>\n",
       "      <td>83.0</td>\n",
       "      <td>...</td>\n",
       "      <td>80.0</td>\n",
       "      <td>88.0</td>\n",
       "      <td>95.0</td>\n",
       "      <td>95.0</td>\n",
       "      <td>66.0</td>\n",
       "      <td>42.0</td>\n",
       "      <td>NaN</td>\n",
       "      <td>NaN</td>\n",
       "      <td>88.0</td>\n",
       "      <td>80.0</td>\n",
       "    </tr>\n",
       "    <tr>\n",
       "      <th>1</th>\n",
       "      <td>1</td>\n",
       "      <td>Africa</td>\n",
       "      <td>Angola</td>\n",
       "      <td>NaN</td>\n",
       "      <td>NaN</td>\n",
       "      <td>NaN</td>\n",
       "      <td>NaN</td>\n",
       "      <td>79.0</td>\n",
       "      <td>67.0</td>\n",
       "      <td>82.0</td>\n",
       "      <td>...</td>\n",
       "      <td>22.0</td>\n",
       "      <td>52.0</td>\n",
       "      <td>55.0</td>\n",
       "      <td>64.0</td>\n",
       "      <td>NaN</td>\n",
       "      <td>NaN</td>\n",
       "      <td>25.9</td>\n",
       "      <td>28.3</td>\n",
       "      <td>34.0</td>\n",
       "      <td>64.0</td>\n",
       "    </tr>\n",
       "    <tr>\n",
       "      <th>2</th>\n",
       "      <td>2</td>\n",
       "      <td>Africa</td>\n",
       "      <td>Benin</td>\n",
       "      <td>83.0</td>\n",
       "      <td>73.0</td>\n",
       "      <td>50.0</td>\n",
       "      <td>37.0</td>\n",
       "      <td>55.0</td>\n",
       "      <td>31.0</td>\n",
       "      <td>41.0</td>\n",
       "      <td>...</td>\n",
       "      <td>7.0</td>\n",
       "      <td>20.0</td>\n",
       "      <td>75.0</td>\n",
       "      <td>79.0</td>\n",
       "      <td>23.0</td>\n",
       "      <td>33.0</td>\n",
       "      <td>72.7</td>\n",
       "      <td>25.9</td>\n",
       "      <td>89.0</td>\n",
       "      <td>61.0</td>\n",
       "    </tr>\n",
       "    <tr>\n",
       "      <th>3</th>\n",
       "      <td>3</td>\n",
       "      <td>Africa</td>\n",
       "      <td>Botswana</td>\n",
       "      <td>98.0</td>\n",
       "      <td>101.0</td>\n",
       "      <td>86.0</td>\n",
       "      <td>87.0</td>\n",
       "      <td>96.0</td>\n",
       "      <td>99.0</td>\n",
       "      <td>87.0</td>\n",
       "      <td>...</td>\n",
       "      <td>39.0</td>\n",
       "      <td>63.0</td>\n",
       "      <td>97.0</td>\n",
       "      <td>95.0</td>\n",
       "      <td>NaN</td>\n",
       "      <td>NaN</td>\n",
       "      <td>NaN</td>\n",
       "      <td>NaN</td>\n",
       "      <td>77.0</td>\n",
       "      <td>62.0</td>\n",
       "    </tr>\n",
       "    <tr>\n",
       "      <th>4</th>\n",
       "      <td>5</td>\n",
       "      <td>Africa</td>\n",
       "      <td>Burundi</td>\n",
       "      <td>58.0</td>\n",
       "      <td>66.0</td>\n",
       "      <td>35.0</td>\n",
       "      <td>30.0</td>\n",
       "      <td>90.0</td>\n",
       "      <td>88.0</td>\n",
       "      <td>89.0</td>\n",
       "      <td>...</td>\n",
       "      <td>42.0</td>\n",
       "      <td>48.0</td>\n",
       "      <td>93.0</td>\n",
       "      <td>94.0</td>\n",
       "      <td>55.0</td>\n",
       "      <td>43.0</td>\n",
       "      <td>53.8</td>\n",
       "      <td>25.4</td>\n",
       "      <td>91.0</td>\n",
       "      <td>51.0</td>\n",
       "    </tr>\n",
       "  </tbody>\n",
       "</table>\n",
       "<p>5 rows × 48 columns</p>\n",
       "</div>"
      ],
      "text/plain": [
       "   Unnamed: 0 Continent   Country  \\\n",
       "0           0    Africa   Algeria   \n",
       "1           1    Africa    Angola   \n",
       "2           2    Africa     Benin   \n",
       "3           3    Africa  Botswana   \n",
       "4           5    Africa   Burundi   \n",
       "\n",
       "   Primary completion rate: Male: % of relevant age group: 2015  \\\n",
       "0                                              106.0              \n",
       "1                                                NaN              \n",
       "2                                               83.0              \n",
       "3                                               98.0              \n",
       "4                                               58.0              \n",
       "\n",
       "   Primary completion rate: Female: % of relevant age group: 2015  \\\n",
       "0                                              105.0                \n",
       "1                                                NaN                \n",
       "2                                               73.0                \n",
       "3                                              101.0                \n",
       "4                                               66.0                \n",
       "\n",
       "   Lower secondary completion rate: Male: % of relevant age group: 2015  \\\n",
       "0                                               68.0                      \n",
       "1                                                NaN                      \n",
       "2                                               50.0                      \n",
       "3                                               86.0                      \n",
       "4                                               35.0                      \n",
       "\n",
       "   Lower secondary completion rate: Female: % of relevant age group: 2015  \\\n",
       "0                                               85.0                        \n",
       "1                                                NaN                        \n",
       "2                                               37.0                        \n",
       "3                                               87.0                        \n",
       "4                                               30.0                        \n",
       "\n",
       "   Youth literacy rate: Male: % of ages 15-24: 2005-14  \\\n",
       "0                                               96.0     \n",
       "1                                               79.0     \n",
       "2                                               55.0     \n",
       "3                                               96.0     \n",
       "4                                               90.0     \n",
       "\n",
       "   Youth literacy rate: Female: % of ages 15-24: 2005-14  \\\n",
       "0                                               92.0       \n",
       "1                                               67.0       \n",
       "2                                               31.0       \n",
       "3                                               99.0       \n",
       "4                                               88.0       \n",
       "\n",
       "   Adult literacy rate: Male: % ages 15 and older: 2005-14  ...  \\\n",
       "0                                               83.0        ...   \n",
       "1                                               82.0        ...   \n",
       "2                                               41.0        ...   \n",
       "3                                               87.0        ...   \n",
       "4                                               89.0        ...   \n",
       "\n",
       "   Access to improved sanitation facilities: % of population: 1990  \\\n",
       "0                                               80.0                 \n",
       "1                                               22.0                 \n",
       "2                                                7.0                 \n",
       "3                                               39.0                 \n",
       "4                                               42.0                 \n",
       "\n",
       "   Access to improved sanitation facilities: % of population: 2015  \\\n",
       "0                                               88.0                 \n",
       "1                                               52.0                 \n",
       "2                                               20.0                 \n",
       "3                                               63.0                 \n",
       "4                                               48.0                 \n",
       "\n",
       "   Child immunization rate: Measles: % of children ages 12-23 months: 2015  \\\n",
       "0                                               95.0                         \n",
       "1                                               55.0                         \n",
       "2                                               75.0                         \n",
       "3                                               97.0                         \n",
       "4                                               93.0                         \n",
       "\n",
       "   Child immunization rate: DTP3: % of children ages 12-23 months: 2015  \\\n",
       "0                                               95.0                      \n",
       "1                                               64.0                      \n",
       "2                                               79.0                      \n",
       "3                                               95.0                      \n",
       "4                                               94.0                      \n",
       "\n",
       "   Children with acute respiratory infection taken to health provider: % of children under age 5 with ARI: 2009-2016  \\\n",
       "0                                               66.0                                                                   \n",
       "1                                                NaN                                                                   \n",
       "2                                               23.0                                                                   \n",
       "3                                                NaN                                                                   \n",
       "4                                               55.0                                                                   \n",
       "\n",
       "   Children with diarrhea who received oral rehydration and continuous feeding: % of children under age 5 with diarrhea: 2009-2016  \\\n",
       "0                                               42.0                                                                                 \n",
       "1                                                NaN                                                                                 \n",
       "2                                               33.0                                                                                 \n",
       "3                                                NaN                                                                                 \n",
       "4                                               43.0                                                                                 \n",
       "\n",
       "   Children sleeping under treated bed nets: % of children under age 5: 2009-2016  \\\n",
       "0                                                NaN                                \n",
       "1                                               25.9                                \n",
       "2                                               72.7                                \n",
       "3                                                NaN                                \n",
       "4                                               53.8                                \n",
       "\n",
       "   Children with fever receiving antimalarial drugs: % of children under age 5 with fever: 2009-2016  \\\n",
       "0                                                NaN                                                   \n",
       "1                                               28.3                                                   \n",
       "2                                               25.9                                                   \n",
       "3                                                NaN                                                   \n",
       "4                                               25.4                                                   \n",
       "\n",
       "   Tuberculosis: Treatment success rate: % of new cases: 2014  \\\n",
       "0                                               88.0            \n",
       "1                                               34.0            \n",
       "2                                               89.0            \n",
       "3                                               77.0            \n",
       "4                                               91.0            \n",
       "\n",
       "   Tuberculosis: Cases detection rate: % of new estimated cases: 2015  \n",
       "0                                               80.0                   \n",
       "1                                               64.0                   \n",
       "2                                               61.0                   \n",
       "3                                               62.0                   \n",
       "4                                               51.0                   \n",
       "\n",
       "[5 rows x 48 columns]"
      ]
     },
     "execution_count": 2,
     "metadata": {},
     "output_type": "execute_result"
    }
   ],
   "source": [
    "# load csv\n",
    "df=pd.read_csv('./data/world_bank.csv')\n",
    "df.head()"
   ]
  },
  {
   "cell_type": "code",
   "execution_count": 3,
   "id": "3ca59392-bff7-4ebc-8cc1-c4c1d96189f4",
   "metadata": {
    "colab": {
     "base_uri": "https://localhost:8080/"
    },
    "id": "3ca59392-bff7-4ebc-8cc1-c4c1d96189f4",
    "outputId": "82868562-8174-404f-f159-5c49d8a1bbd6"
   },
   "outputs": [
    {
     "data": {
      "text/plain": [
       "(166, 48)"
      ]
     },
     "execution_count": 3,
     "metadata": {},
     "output_type": "execute_result"
    }
   ],
   "source": [
    "# shape of datagrame\n",
    "df.shape"
   ]
  },
  {
   "cell_type": "code",
   "execution_count": 4,
   "id": "bc890eb9",
   "metadata": {},
   "outputs": [
    {
     "name": "stdout",
     "output_type": "stream",
     "text": [
      "<class 'pandas.core.frame.DataFrame'>\n",
      "RangeIndex: 166 entries, 0 to 165\n",
      "Data columns (total 48 columns):\n",
      " #   Column                                                                                                                           Non-Null Count  Dtype  \n",
      "---  ------                                                                                                                           --------------  -----  \n",
      " 0   Unnamed: 0                                                                                                                       166 non-null    int64  \n",
      " 1   Continent                                                                                                                        166 non-null    object \n",
      " 2   Country                                                                                                                          166 non-null    object \n",
      " 3   Primary completion rate: Male: % of relevant age group: 2015                                                                     136 non-null    float64\n",
      " 4   Primary completion rate: Female: % of relevant age group: 2015                                                                   136 non-null    float64\n",
      " 5   Lower secondary completion rate: Male: % of relevant age group: 2015                                                             133 non-null    float64\n",
      " 6   Lower secondary completion rate: Female: % of relevant age group: 2015                                                           133 non-null    float64\n",
      " 7   Youth literacy rate: Male: % of ages 15-24: 2005-14                                                                              131 non-null    float64\n",
      " 8   Youth literacy rate: Female: % of ages 15-24: 2005-14                                                                            131 non-null    float64\n",
      " 9   Adult literacy rate: Male: % ages 15 and older: 2005-14                                                                          132 non-null    float64\n",
      " 10  Adult literacy rate: Female: % ages 15 and older: 2005-14                                                                        132 non-null    float64\n",
      " 11  Students at lowest proficiency on PISA: Mathematics: % of 15 year-olds: 2015                                                     65 non-null     float64\n",
      " 12  Students at lowest proficiency on PISA: Reading: % of 15 year-olds: 2015                                                         65 non-null     float64\n",
      " 13  Students at lowest proficiency on PISA: Science: % of 15 year-olds: 2015                                                         63 non-null     float64\n",
      " 14  Population: millions: 2016                                                                                                       165 non-null    float64\n",
      " 15  Surface area: sq. km thousands: 2016                                                                                             166 non-null    float64\n",
      " 16  Population density: people per sq. km: 2016                                                                                      164 non-null    float64\n",
      " 17  Gross national income, Atlas method: $ billions: 2016                                                                            157 non-null    float64\n",
      " 18  Gross national income per capita, Atlas method: $: 2016                                                                          157 non-null    float64\n",
      " 19  Purchasing power parity gross national income: $ billions: 2016                                                                  157 non-null    float64\n",
      " 20  per capita: $: 2016                                                                                                              157 non-null    float64\n",
      " 21  Gross domestic product: % growth : 2016                                                                                          159 non-null    float64\n",
      " 22  per capita: % growth: 2016                                                                                                       159 non-null    float64\n",
      " 23  Prevalence of smoking: Male: % of adults: 2015                                                                                   112 non-null    float64\n",
      " 24  Prevalence of smoking: Female: % of adults: 2015                                                                                 114 non-null    float64\n",
      " 25  Incidence of tuberculosis: per 100,000 people: 2015                                                                              164 non-null    float64\n",
      " 26  Prevalence of diabetes: % of population ages 20 to 79: 2015                                                                      165 non-null    float64\n",
      " 27  Incidence of HIV: Total: % of uninfected population ages 15-49: 2015                                                             95 non-null     float64\n",
      " 28  Prevalence of HIV: Total: % of population ages 15-49: 2015                                                                       94 non-null     float64\n",
      " 29  Prevalence of HIV: Women's share of population ages 15+ living with HIV: %: 2015                                                 94 non-null     float64\n",
      " 30  Prevalence of HIV: Youth, Male: % of population ages 15-24: 2015                                                                 94 non-null     float64\n",
      " 31  Prevalence of HIV: Youth, Female: % of population ages 15-24: 2015                                                               94 non-null     float64\n",
      " 32  Antiretroviral therapy coverage: % of people living with HIV: 2015                                                               91 non-null     float64\n",
      " 33  Cause of death: Communicable diseases and maternal, prenatal, and nutrition conditions: % of population: 2015                    157 non-null    float64\n",
      " 34  Cause of death: Non-communicable diseases: % of population: 2015                                                                 157 non-null    float64\n",
      " 35  Cause of death: Injuries: % of population: 2015                                                                                  157 non-null    float64\n",
      " 36  Access to an improved water source: % of population: 1990                                                                        147 non-null    float64\n",
      " 37  Access to an improved water source: % of population: 2015                                                                        157 non-null    float64\n",
      " 38  Access to improved sanitation facilities: % of population: 1990                                                                  142 non-null    float64\n",
      " 39  Access to improved sanitation facilities: % of population: 2015                                                                  158 non-null    float64\n",
      " 40  Child immunization rate: Measles: % of children ages 12-23 months: 2015                                                          164 non-null    float64\n",
      " 41  Child immunization rate: DTP3: % of children ages 12-23 months: 2015                                                             164 non-null    float64\n",
      " 42  Children with acute respiratory infection taken to health provider: % of children under age 5 with ARI: 2009-2016                84 non-null     float64\n",
      " 43  Children with diarrhea who received oral rehydration and continuous feeding: % of children under age 5 with diarrhea: 2009-2016  83 non-null     float64\n",
      " 44  Children sleeping under treated bed nets: % of children under age 5: 2009-2016                                                   43 non-null     float64\n",
      " 45  Children with fever receiving antimalarial drugs: % of children under age 5 with fever: 2009-2016                                52 non-null     float64\n",
      " 46  Tuberculosis: Treatment success rate: % of new cases: 2014                                                                       159 non-null    float64\n",
      " 47  Tuberculosis: Cases detection rate: % of new estimated cases: 2015                                                               162 non-null    float64\n",
      "dtypes: float64(45), int64(1), object(2)\n",
      "memory usage: 62.4+ KB\n"
     ]
    }
   ],
   "source": [
    "df.info()"
   ]
  },
  {
   "cell_type": "code",
   "execution_count": 5,
   "id": "c2f16802",
   "metadata": {},
   "outputs": [
    {
     "data": {
      "text/html": [
       "<div>\n",
       "<style scoped>\n",
       "    .dataframe tbody tr th:only-of-type {\n",
       "        vertical-align: middle;\n",
       "    }\n",
       "\n",
       "    .dataframe tbody tr th {\n",
       "        vertical-align: top;\n",
       "    }\n",
       "\n",
       "    .dataframe thead th {\n",
       "        text-align: right;\n",
       "    }\n",
       "</style>\n",
       "<table border=\"1\" class=\"dataframe\">\n",
       "  <thead>\n",
       "    <tr style=\"text-align: right;\">\n",
       "      <th></th>\n",
       "      <th>Continent</th>\n",
       "      <th>Country</th>\n",
       "      <th>Primary completion rate: Male: % of relevant age group: 2015</th>\n",
       "      <th>Primary completion rate: Female: % of relevant age group: 2015</th>\n",
       "      <th>Lower secondary completion rate: Male: % of relevant age group: 2015</th>\n",
       "      <th>Lower secondary completion rate: Female: % of relevant age group: 2015</th>\n",
       "      <th>Youth literacy rate: Male: % of ages 15-24: 2005-14</th>\n",
       "      <th>Youth literacy rate: Female: % of ages 15-24: 2005-14</th>\n",
       "      <th>Adult literacy rate: Male: % ages 15 and older: 2005-14</th>\n",
       "      <th>Adult literacy rate: Female: % ages 15 and older: 2005-14</th>\n",
       "      <th>...</th>\n",
       "      <th>Access to improved sanitation facilities: % of population: 1990</th>\n",
       "      <th>Access to improved sanitation facilities: % of population: 2015</th>\n",
       "      <th>Child immunization rate: Measles: % of children ages 12-23 months: 2015</th>\n",
       "      <th>Child immunization rate: DTP3: % of children ages 12-23 months: 2015</th>\n",
       "      <th>Children with acute respiratory infection taken to health provider: % of children under age 5 with ARI: 2009-2016</th>\n",
       "      <th>Children with diarrhea who received oral rehydration and continuous feeding: % of children under age 5 with diarrhea: 2009-2016</th>\n",
       "      <th>Children sleeping under treated bed nets: % of children under age 5: 2009-2016</th>\n",
       "      <th>Children with fever receiving antimalarial drugs: % of children under age 5 with fever: 2009-2016</th>\n",
       "      <th>Tuberculosis: Treatment success rate: % of new cases: 2014</th>\n",
       "      <th>Tuberculosis: Cases detection rate: % of new estimated cases: 2015</th>\n",
       "    </tr>\n",
       "  </thead>\n",
       "  <tbody>\n",
       "    <tr>\n",
       "      <th>0</th>\n",
       "      <td>Africa</td>\n",
       "      <td>Algeria</td>\n",
       "      <td>106.0</td>\n",
       "      <td>105.0</td>\n",
       "      <td>68.0</td>\n",
       "      <td>85.0</td>\n",
       "      <td>96.0</td>\n",
       "      <td>92.0</td>\n",
       "      <td>83.0</td>\n",
       "      <td>68.0</td>\n",
       "      <td>...</td>\n",
       "      <td>80.0</td>\n",
       "      <td>88.0</td>\n",
       "      <td>95.0</td>\n",
       "      <td>95.0</td>\n",
       "      <td>66.0</td>\n",
       "      <td>42.0</td>\n",
       "      <td>NaN</td>\n",
       "      <td>NaN</td>\n",
       "      <td>88.0</td>\n",
       "      <td>80.0</td>\n",
       "    </tr>\n",
       "    <tr>\n",
       "      <th>1</th>\n",
       "      <td>Africa</td>\n",
       "      <td>Angola</td>\n",
       "      <td>NaN</td>\n",
       "      <td>NaN</td>\n",
       "      <td>NaN</td>\n",
       "      <td>NaN</td>\n",
       "      <td>79.0</td>\n",
       "      <td>67.0</td>\n",
       "      <td>82.0</td>\n",
       "      <td>60.0</td>\n",
       "      <td>...</td>\n",
       "      <td>22.0</td>\n",
       "      <td>52.0</td>\n",
       "      <td>55.0</td>\n",
       "      <td>64.0</td>\n",
       "      <td>NaN</td>\n",
       "      <td>NaN</td>\n",
       "      <td>25.9</td>\n",
       "      <td>28.3</td>\n",
       "      <td>34.0</td>\n",
       "      <td>64.0</td>\n",
       "    </tr>\n",
       "    <tr>\n",
       "      <th>2</th>\n",
       "      <td>Africa</td>\n",
       "      <td>Benin</td>\n",
       "      <td>83.0</td>\n",
       "      <td>73.0</td>\n",
       "      <td>50.0</td>\n",
       "      <td>37.0</td>\n",
       "      <td>55.0</td>\n",
       "      <td>31.0</td>\n",
       "      <td>41.0</td>\n",
       "      <td>18.0</td>\n",
       "      <td>...</td>\n",
       "      <td>7.0</td>\n",
       "      <td>20.0</td>\n",
       "      <td>75.0</td>\n",
       "      <td>79.0</td>\n",
       "      <td>23.0</td>\n",
       "      <td>33.0</td>\n",
       "      <td>72.7</td>\n",
       "      <td>25.9</td>\n",
       "      <td>89.0</td>\n",
       "      <td>61.0</td>\n",
       "    </tr>\n",
       "    <tr>\n",
       "      <th>3</th>\n",
       "      <td>Africa</td>\n",
       "      <td>Botswana</td>\n",
       "      <td>98.0</td>\n",
       "      <td>101.0</td>\n",
       "      <td>86.0</td>\n",
       "      <td>87.0</td>\n",
       "      <td>96.0</td>\n",
       "      <td>99.0</td>\n",
       "      <td>87.0</td>\n",
       "      <td>89.0</td>\n",
       "      <td>...</td>\n",
       "      <td>39.0</td>\n",
       "      <td>63.0</td>\n",
       "      <td>97.0</td>\n",
       "      <td>95.0</td>\n",
       "      <td>NaN</td>\n",
       "      <td>NaN</td>\n",
       "      <td>NaN</td>\n",
       "      <td>NaN</td>\n",
       "      <td>77.0</td>\n",
       "      <td>62.0</td>\n",
       "    </tr>\n",
       "    <tr>\n",
       "      <th>4</th>\n",
       "      <td>Africa</td>\n",
       "      <td>Burundi</td>\n",
       "      <td>58.0</td>\n",
       "      <td>66.0</td>\n",
       "      <td>35.0</td>\n",
       "      <td>30.0</td>\n",
       "      <td>90.0</td>\n",
       "      <td>88.0</td>\n",
       "      <td>89.0</td>\n",
       "      <td>85.0</td>\n",
       "      <td>...</td>\n",
       "      <td>42.0</td>\n",
       "      <td>48.0</td>\n",
       "      <td>93.0</td>\n",
       "      <td>94.0</td>\n",
       "      <td>55.0</td>\n",
       "      <td>43.0</td>\n",
       "      <td>53.8</td>\n",
       "      <td>25.4</td>\n",
       "      <td>91.0</td>\n",
       "      <td>51.0</td>\n",
       "    </tr>\n",
       "    <tr>\n",
       "      <th>...</th>\n",
       "      <td>...</td>\n",
       "      <td>...</td>\n",
       "      <td>...</td>\n",
       "      <td>...</td>\n",
       "      <td>...</td>\n",
       "      <td>...</td>\n",
       "      <td>...</td>\n",
       "      <td>...</td>\n",
       "      <td>...</td>\n",
       "      <td>...</td>\n",
       "      <td>...</td>\n",
       "      <td>...</td>\n",
       "      <td>...</td>\n",
       "      <td>...</td>\n",
       "      <td>...</td>\n",
       "      <td>...</td>\n",
       "      <td>...</td>\n",
       "      <td>...</td>\n",
       "      <td>...</td>\n",
       "      <td>...</td>\n",
       "      <td>...</td>\n",
       "    </tr>\n",
       "    <tr>\n",
       "      <th>161</th>\n",
       "      <td>S. America</td>\n",
       "      <td>Guyana</td>\n",
       "      <td>87.0</td>\n",
       "      <td>81.0</td>\n",
       "      <td>NaN</td>\n",
       "      <td>NaN</td>\n",
       "      <td>92.0</td>\n",
       "      <td>94.0</td>\n",
       "      <td>82.0</td>\n",
       "      <td>87.0</td>\n",
       "      <td>...</td>\n",
       "      <td>76.0</td>\n",
       "      <td>84.0</td>\n",
       "      <td>99.0</td>\n",
       "      <td>95.0</td>\n",
       "      <td>84.0</td>\n",
       "      <td>29.0</td>\n",
       "      <td>7.4</td>\n",
       "      <td>7.4</td>\n",
       "      <td>69.0</td>\n",
       "      <td>80.0</td>\n",
       "    </tr>\n",
       "    <tr>\n",
       "      <th>162</th>\n",
       "      <td>S. America</td>\n",
       "      <td>Paraguay</td>\n",
       "      <td>89.0</td>\n",
       "      <td>90.0</td>\n",
       "      <td>71.0</td>\n",
       "      <td>77.0</td>\n",
       "      <td>99.0</td>\n",
       "      <td>98.0</td>\n",
       "      <td>96.0</td>\n",
       "      <td>94.0</td>\n",
       "      <td>...</td>\n",
       "      <td>52.0</td>\n",
       "      <td>89.0</td>\n",
       "      <td>83.0</td>\n",
       "      <td>93.0</td>\n",
       "      <td>NaN</td>\n",
       "      <td>NaN</td>\n",
       "      <td>NaN</td>\n",
       "      <td>NaN</td>\n",
       "      <td>71.0</td>\n",
       "      <td>87.0</td>\n",
       "    </tr>\n",
       "    <tr>\n",
       "      <th>163</th>\n",
       "      <td>S. America</td>\n",
       "      <td>Peru</td>\n",
       "      <td>99.0</td>\n",
       "      <td>100.0</td>\n",
       "      <td>84.0</td>\n",
       "      <td>87.0</td>\n",
       "      <td>99.0</td>\n",
       "      <td>99.0</td>\n",
       "      <td>97.0</td>\n",
       "      <td>90.0</td>\n",
       "      <td>...</td>\n",
       "      <td>53.0</td>\n",
       "      <td>76.0</td>\n",
       "      <td>92.0</td>\n",
       "      <td>90.0</td>\n",
       "      <td>60.0</td>\n",
       "      <td>57.0</td>\n",
       "      <td>NaN</td>\n",
       "      <td>NaN</td>\n",
       "      <td>87.0</td>\n",
       "      <td>80.0</td>\n",
       "    </tr>\n",
       "    <tr>\n",
       "      <th>164</th>\n",
       "      <td>S. America</td>\n",
       "      <td>Suriname</td>\n",
       "      <td>90.0</td>\n",
       "      <td>99.0</td>\n",
       "      <td>36.0</td>\n",
       "      <td>65.0</td>\n",
       "      <td>98.0</td>\n",
       "      <td>99.0</td>\n",
       "      <td>95.0</td>\n",
       "      <td>94.0</td>\n",
       "      <td>...</td>\n",
       "      <td>NaN</td>\n",
       "      <td>79.0</td>\n",
       "      <td>94.0</td>\n",
       "      <td>89.0</td>\n",
       "      <td>76.0</td>\n",
       "      <td>61.0</td>\n",
       "      <td>43.4</td>\n",
       "      <td>0.0</td>\n",
       "      <td>77.0</td>\n",
       "      <td>80.0</td>\n",
       "    </tr>\n",
       "    <tr>\n",
       "      <th>165</th>\n",
       "      <td>S. America</td>\n",
       "      <td>Uruguay</td>\n",
       "      <td>103.0</td>\n",
       "      <td>104.0</td>\n",
       "      <td>54.0</td>\n",
       "      <td>68.0</td>\n",
       "      <td>98.0</td>\n",
       "      <td>99.0</td>\n",
       "      <td>98.0</td>\n",
       "      <td>99.0</td>\n",
       "      <td>...</td>\n",
       "      <td>92.0</td>\n",
       "      <td>96.0</td>\n",
       "      <td>96.0</td>\n",
       "      <td>95.0</td>\n",
       "      <td>NaN</td>\n",
       "      <td>NaN</td>\n",
       "      <td>NaN</td>\n",
       "      <td>NaN</td>\n",
       "      <td>75.0</td>\n",
       "      <td>87.0</td>\n",
       "    </tr>\n",
       "  </tbody>\n",
       "</table>\n",
       "<p>166 rows × 47 columns</p>\n",
       "</div>"
      ],
      "text/plain": [
       "      Continent   Country  \\\n",
       "0        Africa   Algeria   \n",
       "1        Africa    Angola   \n",
       "2        Africa     Benin   \n",
       "3        Africa  Botswana   \n",
       "4        Africa   Burundi   \n",
       "..          ...       ...   \n",
       "161  S. America    Guyana   \n",
       "162  S. America  Paraguay   \n",
       "163  S. America      Peru   \n",
       "164  S. America  Suriname   \n",
       "165  S. America   Uruguay   \n",
       "\n",
       "     Primary completion rate: Male: % of relevant age group: 2015  \\\n",
       "0                                                106.0              \n",
       "1                                                  NaN              \n",
       "2                                                 83.0              \n",
       "3                                                 98.0              \n",
       "4                                                 58.0              \n",
       "..                                                 ...              \n",
       "161                                               87.0              \n",
       "162                                               89.0              \n",
       "163                                               99.0              \n",
       "164                                               90.0              \n",
       "165                                              103.0              \n",
       "\n",
       "     Primary completion rate: Female: % of relevant age group: 2015  \\\n",
       "0                                                105.0                \n",
       "1                                                  NaN                \n",
       "2                                                 73.0                \n",
       "3                                                101.0                \n",
       "4                                                 66.0                \n",
       "..                                                 ...                \n",
       "161                                               81.0                \n",
       "162                                               90.0                \n",
       "163                                              100.0                \n",
       "164                                               99.0                \n",
       "165                                              104.0                \n",
       "\n",
       "     Lower secondary completion rate: Male: % of relevant age group: 2015  \\\n",
       "0                                                 68.0                      \n",
       "1                                                  NaN                      \n",
       "2                                                 50.0                      \n",
       "3                                                 86.0                      \n",
       "4                                                 35.0                      \n",
       "..                                                 ...                      \n",
       "161                                                NaN                      \n",
       "162                                               71.0                      \n",
       "163                                               84.0                      \n",
       "164                                               36.0                      \n",
       "165                                               54.0                      \n",
       "\n",
       "     Lower secondary completion rate: Female: % of relevant age group: 2015  \\\n",
       "0                                                 85.0                        \n",
       "1                                                  NaN                        \n",
       "2                                                 37.0                        \n",
       "3                                                 87.0                        \n",
       "4                                                 30.0                        \n",
       "..                                                 ...                        \n",
       "161                                                NaN                        \n",
       "162                                               77.0                        \n",
       "163                                               87.0                        \n",
       "164                                               65.0                        \n",
       "165                                               68.0                        \n",
       "\n",
       "     Youth literacy rate: Male: % of ages 15-24: 2005-14  \\\n",
       "0                                                 96.0     \n",
       "1                                                 79.0     \n",
       "2                                                 55.0     \n",
       "3                                                 96.0     \n",
       "4                                                 90.0     \n",
       "..                                                 ...     \n",
       "161                                               92.0     \n",
       "162                                               99.0     \n",
       "163                                               99.0     \n",
       "164                                               98.0     \n",
       "165                                               98.0     \n",
       "\n",
       "     Youth literacy rate: Female: % of ages 15-24: 2005-14  \\\n",
       "0                                                 92.0       \n",
       "1                                                 67.0       \n",
       "2                                                 31.0       \n",
       "3                                                 99.0       \n",
       "4                                                 88.0       \n",
       "..                                                 ...       \n",
       "161                                               94.0       \n",
       "162                                               98.0       \n",
       "163                                               99.0       \n",
       "164                                               99.0       \n",
       "165                                               99.0       \n",
       "\n",
       "     Adult literacy rate: Male: % ages 15 and older: 2005-14  \\\n",
       "0                                                 83.0         \n",
       "1                                                 82.0         \n",
       "2                                                 41.0         \n",
       "3                                                 87.0         \n",
       "4                                                 89.0         \n",
       "..                                                 ...         \n",
       "161                                               82.0         \n",
       "162                                               96.0         \n",
       "163                                               97.0         \n",
       "164                                               95.0         \n",
       "165                                               98.0         \n",
       "\n",
       "     Adult literacy rate: Female: % ages 15 and older: 2005-14  ...  \\\n",
       "0                                                 68.0          ...   \n",
       "1                                                 60.0          ...   \n",
       "2                                                 18.0          ...   \n",
       "3                                                 89.0          ...   \n",
       "4                                                 85.0          ...   \n",
       "..                                                 ...          ...   \n",
       "161                                               87.0          ...   \n",
       "162                                               94.0          ...   \n",
       "163                                               90.0          ...   \n",
       "164                                               94.0          ...   \n",
       "165                                               99.0          ...   \n",
       "\n",
       "     Access to improved sanitation facilities: % of population: 1990  \\\n",
       "0                                                 80.0                 \n",
       "1                                                 22.0                 \n",
       "2                                                  7.0                 \n",
       "3                                                 39.0                 \n",
       "4                                                 42.0                 \n",
       "..                                                 ...                 \n",
       "161                                               76.0                 \n",
       "162                                               52.0                 \n",
       "163                                               53.0                 \n",
       "164                                                NaN                 \n",
       "165                                               92.0                 \n",
       "\n",
       "     Access to improved sanitation facilities: % of population: 2015  \\\n",
       "0                                                 88.0                 \n",
       "1                                                 52.0                 \n",
       "2                                                 20.0                 \n",
       "3                                                 63.0                 \n",
       "4                                                 48.0                 \n",
       "..                                                 ...                 \n",
       "161                                               84.0                 \n",
       "162                                               89.0                 \n",
       "163                                               76.0                 \n",
       "164                                               79.0                 \n",
       "165                                               96.0                 \n",
       "\n",
       "     Child immunization rate: Measles: % of children ages 12-23 months: 2015  \\\n",
       "0                                                 95.0                         \n",
       "1                                                 55.0                         \n",
       "2                                                 75.0                         \n",
       "3                                                 97.0                         \n",
       "4                                                 93.0                         \n",
       "..                                                 ...                         \n",
       "161                                               99.0                         \n",
       "162                                               83.0                         \n",
       "163                                               92.0                         \n",
       "164                                               94.0                         \n",
       "165                                               96.0                         \n",
       "\n",
       "     Child immunization rate: DTP3: % of children ages 12-23 months: 2015  \\\n",
       "0                                                 95.0                      \n",
       "1                                                 64.0                      \n",
       "2                                                 79.0                      \n",
       "3                                                 95.0                      \n",
       "4                                                 94.0                      \n",
       "..                                                 ...                      \n",
       "161                                               95.0                      \n",
       "162                                               93.0                      \n",
       "163                                               90.0                      \n",
       "164                                               89.0                      \n",
       "165                                               95.0                      \n",
       "\n",
       "     Children with acute respiratory infection taken to health provider: % of children under age 5 with ARI: 2009-2016  \\\n",
       "0                                                 66.0                                                                   \n",
       "1                                                  NaN                                                                   \n",
       "2                                                 23.0                                                                   \n",
       "3                                                  NaN                                                                   \n",
       "4                                                 55.0                                                                   \n",
       "..                                                 ...                                                                   \n",
       "161                                               84.0                                                                   \n",
       "162                                                NaN                                                                   \n",
       "163                                               60.0                                                                   \n",
       "164                                               76.0                                                                   \n",
       "165                                                NaN                                                                   \n",
       "\n",
       "     Children with diarrhea who received oral rehydration and continuous feeding: % of children under age 5 with diarrhea: 2009-2016  \\\n",
       "0                                                 42.0                                                                                 \n",
       "1                                                  NaN                                                                                 \n",
       "2                                                 33.0                                                                                 \n",
       "3                                                  NaN                                                                                 \n",
       "4                                                 43.0                                                                                 \n",
       "..                                                 ...                                                                                 \n",
       "161                                               29.0                                                                                 \n",
       "162                                                NaN                                                                                 \n",
       "163                                               57.0                                                                                 \n",
       "164                                               61.0                                                                                 \n",
       "165                                                NaN                                                                                 \n",
       "\n",
       "     Children sleeping under treated bed nets: % of children under age 5: 2009-2016  \\\n",
       "0                                                  NaN                                \n",
       "1                                                 25.9                                \n",
       "2                                                 72.7                                \n",
       "3                                                  NaN                                \n",
       "4                                                 53.8                                \n",
       "..                                                 ...                                \n",
       "161                                                7.4                                \n",
       "162                                                NaN                                \n",
       "163                                                NaN                                \n",
       "164                                               43.4                                \n",
       "165                                                NaN                                \n",
       "\n",
       "     Children with fever receiving antimalarial drugs: % of children under age 5 with fever: 2009-2016  \\\n",
       "0                                                  NaN                                                   \n",
       "1                                                 28.3                                                   \n",
       "2                                                 25.9                                                   \n",
       "3                                                  NaN                                                   \n",
       "4                                                 25.4                                                   \n",
       "..                                                 ...                                                   \n",
       "161                                                7.4                                                   \n",
       "162                                                NaN                                                   \n",
       "163                                                NaN                                                   \n",
       "164                                                0.0                                                   \n",
       "165                                                NaN                                                   \n",
       "\n",
       "     Tuberculosis: Treatment success rate: % of new cases: 2014  \\\n",
       "0                                                 88.0            \n",
       "1                                                 34.0            \n",
       "2                                                 89.0            \n",
       "3                                                 77.0            \n",
       "4                                                 91.0            \n",
       "..                                                 ...            \n",
       "161                                               69.0            \n",
       "162                                               71.0            \n",
       "163                                               87.0            \n",
       "164                                               77.0            \n",
       "165                                               75.0            \n",
       "\n",
       "     Tuberculosis: Cases detection rate: % of new estimated cases: 2015  \n",
       "0                                                 80.0                   \n",
       "1                                                 64.0                   \n",
       "2                                                 61.0                   \n",
       "3                                                 62.0                   \n",
       "4                                                 51.0                   \n",
       "..                                                 ...                   \n",
       "161                                               80.0                   \n",
       "162                                               87.0                   \n",
       "163                                               80.0                   \n",
       "164                                               80.0                   \n",
       "165                                               87.0                   \n",
       "\n",
       "[166 rows x 47 columns]"
      ]
     },
     "execution_count": 5,
     "metadata": {},
     "output_type": "execute_result"
    }
   ],
   "source": [
    "df.drop(columns='Unnamed: 0',axis=1)"
   ]
  },
  {
   "cell_type": "markdown",
   "id": "a0bf82b3-ddd0-48d6-b0de-479c438bfb4b",
   "metadata": {
    "id": "a0bf82b3-ddd0-48d6-b0de-479c438bfb4b"
   },
   "source": [
    "## Bar Plots"
   ]
  },
  {
   "cell_type": "markdown",
   "id": "149c891b-46cd-4d35-876b-a2eb10dfea8b",
   "metadata": {
    "id": "149c891b-46cd-4d35-876b-a2eb10dfea8b"
   },
   "source": [
    "We often use bar plots to display **distributions** of a **categorical variable**.\n",
    "\n",
    "In the examples below, we plot the distribution of the `\"Continent\"` column. The cell below uses `.value_counts()` to determine the number of countries corresponding to each continent in the dataset."
   ]
  },
  {
   "cell_type": "code",
   "execution_count": 6,
   "id": "3f1970bb-42e2-4aa7-b9ab-a6dae17f077a",
   "metadata": {
    "colab": {
     "base_uri": "https://localhost:8080/"
    },
    "id": "3f1970bb-42e2-4aa7-b9ab-a6dae17f077a",
    "outputId": "c89a2ecd-8326-41a1-840b-e2575f13e81d"
   },
   "outputs": [
    {
     "data": {
      "text/plain": [
       "Continent\n",
       "Africa        47\n",
       "Europe        43\n",
       "Asia          34\n",
       "N. America    18\n",
       "Oceania       13\n",
       "S. America    11\n",
       "Name: count, dtype: int64"
      ]
     },
     "execution_count": 6,
     "metadata": {},
     "output_type": "execute_result"
    }
   ],
   "source": [
    "# Code Here\n",
    "values=(df['Continent'].value_counts(ascending=False))\n",
    "values"
   ]
  },
  {
   "cell_type": "markdown",
   "id": "997f61de-b457-4b9f-997e-0b02eb47ffb8",
   "metadata": {
    "id": "997f61de-b457-4b9f-997e-0b02eb47ffb8"
   },
   "source": [
    "Now we will use the [Matplotlib](https://matplotlib.org/stable/api/index) and [Seaborn](https://seaborn.pydata.org/api.html) plotting libraries to create visualizations. First, let's generate a bar plot using the Matplotlib function `plt.bar`."
   ]
  },
  {
   "cell_type": "code",
   "execution_count": 7,
   "id": "7aa9f484",
   "metadata": {},
   "outputs": [
    {
     "data": {
      "application/vnd.plotly.v1+json": {
       "config": {
        "plotlyServerURL": "https://plot.ly"
       },
       "data": [
        {
         "alignmentgroup": "True",
         "hovertemplate": "Continent=%{x}<br>value=%{y}<br>color=%{marker.color}<extra></extra>",
         "legendgroup": "",
         "marker": {
          "color": [
           47,
           43,
           34,
           18,
           13,
           11
          ],
          "coloraxis": "coloraxis",
          "pattern": {
           "shape": ""
          }
         },
         "name": "",
         "offsetgroup": "",
         "orientation": "v",
         "showlegend": false,
         "textposition": "auto",
         "type": "bar",
         "x": [
          "Africa",
          "Europe",
          "Asia",
          "N. America",
          "Oceania",
          "S. America"
         ],
         "xaxis": "x",
         "y": [
          47,
          43,
          34,
          18,
          13,
          11
         ],
         "yaxis": "y"
        }
       ],
       "layout": {
        "barmode": "relative",
        "coloraxis": {
         "colorbar": {
          "title": {
           "text": "color"
          }
         },
         "colorscale": [
          [
           0,
           "rgb(0, 147, 146)"
          ],
          [
           0.16666666666666666,
           "rgb(114, 170, 161)"
          ],
          [
           0.3333333333333333,
           "rgb(177, 199, 179)"
          ],
          [
           0.5,
           "rgb(241, 234, 200)"
          ],
          [
           0.6666666666666666,
           "rgb(229, 185, 173)"
          ],
          [
           0.8333333333333334,
           "rgb(217, 137, 148)"
          ],
          [
           1,
           "rgb(208, 88, 126)"
          ]
         ]
        },
        "height": 500,
        "legend": {
         "tracegroupgap": 0
        },
        "margin": {
         "t": 60
        },
        "template": {
         "data": {
          "bar": [
           {
            "error_x": {
             "color": "#f2f5fa"
            },
            "error_y": {
             "color": "#f2f5fa"
            },
            "marker": {
             "line": {
              "color": "rgb(17,17,17)",
              "width": 0.5
             },
             "pattern": {
              "fillmode": "overlay",
              "size": 10,
              "solidity": 0.2
             }
            },
            "type": "bar"
           }
          ],
          "barpolar": [
           {
            "marker": {
             "line": {
              "color": "rgb(17,17,17)",
              "width": 0.5
             },
             "pattern": {
              "fillmode": "overlay",
              "size": 10,
              "solidity": 0.2
             }
            },
            "type": "barpolar"
           }
          ],
          "carpet": [
           {
            "aaxis": {
             "endlinecolor": "#A2B1C6",
             "gridcolor": "#506784",
             "linecolor": "#506784",
             "minorgridcolor": "#506784",
             "startlinecolor": "#A2B1C6"
            },
            "baxis": {
             "endlinecolor": "#A2B1C6",
             "gridcolor": "#506784",
             "linecolor": "#506784",
             "minorgridcolor": "#506784",
             "startlinecolor": "#A2B1C6"
            },
            "type": "carpet"
           }
          ],
          "choropleth": [
           {
            "colorbar": {
             "outlinewidth": 0,
             "ticks": ""
            },
            "type": "choropleth"
           }
          ],
          "contour": [
           {
            "colorbar": {
             "outlinewidth": 0,
             "ticks": ""
            },
            "colorscale": [
             [
              0,
              "#0d0887"
             ],
             [
              0.1111111111111111,
              "#46039f"
             ],
             [
              0.2222222222222222,
              "#7201a8"
             ],
             [
              0.3333333333333333,
              "#9c179e"
             ],
             [
              0.4444444444444444,
              "#bd3786"
             ],
             [
              0.5555555555555556,
              "#d8576b"
             ],
             [
              0.6666666666666666,
              "#ed7953"
             ],
             [
              0.7777777777777778,
              "#fb9f3a"
             ],
             [
              0.8888888888888888,
              "#fdca26"
             ],
             [
              1,
              "#f0f921"
             ]
            ],
            "type": "contour"
           }
          ],
          "contourcarpet": [
           {
            "colorbar": {
             "outlinewidth": 0,
             "ticks": ""
            },
            "type": "contourcarpet"
           }
          ],
          "heatmap": [
           {
            "colorbar": {
             "outlinewidth": 0,
             "ticks": ""
            },
            "colorscale": [
             [
              0,
              "#0d0887"
             ],
             [
              0.1111111111111111,
              "#46039f"
             ],
             [
              0.2222222222222222,
              "#7201a8"
             ],
             [
              0.3333333333333333,
              "#9c179e"
             ],
             [
              0.4444444444444444,
              "#bd3786"
             ],
             [
              0.5555555555555556,
              "#d8576b"
             ],
             [
              0.6666666666666666,
              "#ed7953"
             ],
             [
              0.7777777777777778,
              "#fb9f3a"
             ],
             [
              0.8888888888888888,
              "#fdca26"
             ],
             [
              1,
              "#f0f921"
             ]
            ],
            "type": "heatmap"
           }
          ],
          "heatmapgl": [
           {
            "colorbar": {
             "outlinewidth": 0,
             "ticks": ""
            },
            "colorscale": [
             [
              0,
              "#0d0887"
             ],
             [
              0.1111111111111111,
              "#46039f"
             ],
             [
              0.2222222222222222,
              "#7201a8"
             ],
             [
              0.3333333333333333,
              "#9c179e"
             ],
             [
              0.4444444444444444,
              "#bd3786"
             ],
             [
              0.5555555555555556,
              "#d8576b"
             ],
             [
              0.6666666666666666,
              "#ed7953"
             ],
             [
              0.7777777777777778,
              "#fb9f3a"
             ],
             [
              0.8888888888888888,
              "#fdca26"
             ],
             [
              1,
              "#f0f921"
             ]
            ],
            "type": "heatmapgl"
           }
          ],
          "histogram": [
           {
            "marker": {
             "pattern": {
              "fillmode": "overlay",
              "size": 10,
              "solidity": 0.2
             }
            },
            "type": "histogram"
           }
          ],
          "histogram2d": [
           {
            "colorbar": {
             "outlinewidth": 0,
             "ticks": ""
            },
            "colorscale": [
             [
              0,
              "#0d0887"
             ],
             [
              0.1111111111111111,
              "#46039f"
             ],
             [
              0.2222222222222222,
              "#7201a8"
             ],
             [
              0.3333333333333333,
              "#9c179e"
             ],
             [
              0.4444444444444444,
              "#bd3786"
             ],
             [
              0.5555555555555556,
              "#d8576b"
             ],
             [
              0.6666666666666666,
              "#ed7953"
             ],
             [
              0.7777777777777778,
              "#fb9f3a"
             ],
             [
              0.8888888888888888,
              "#fdca26"
             ],
             [
              1,
              "#f0f921"
             ]
            ],
            "type": "histogram2d"
           }
          ],
          "histogram2dcontour": [
           {
            "colorbar": {
             "outlinewidth": 0,
             "ticks": ""
            },
            "colorscale": [
             [
              0,
              "#0d0887"
             ],
             [
              0.1111111111111111,
              "#46039f"
             ],
             [
              0.2222222222222222,
              "#7201a8"
             ],
             [
              0.3333333333333333,
              "#9c179e"
             ],
             [
              0.4444444444444444,
              "#bd3786"
             ],
             [
              0.5555555555555556,
              "#d8576b"
             ],
             [
              0.6666666666666666,
              "#ed7953"
             ],
             [
              0.7777777777777778,
              "#fb9f3a"
             ],
             [
              0.8888888888888888,
              "#fdca26"
             ],
             [
              1,
              "#f0f921"
             ]
            ],
            "type": "histogram2dcontour"
           }
          ],
          "mesh3d": [
           {
            "colorbar": {
             "outlinewidth": 0,
             "ticks": ""
            },
            "type": "mesh3d"
           }
          ],
          "parcoords": [
           {
            "line": {
             "colorbar": {
              "outlinewidth": 0,
              "ticks": ""
             }
            },
            "type": "parcoords"
           }
          ],
          "pie": [
           {
            "automargin": true,
            "type": "pie"
           }
          ],
          "scatter": [
           {
            "marker": {
             "line": {
              "color": "#283442"
             }
            },
            "type": "scatter"
           }
          ],
          "scatter3d": [
           {
            "line": {
             "colorbar": {
              "outlinewidth": 0,
              "ticks": ""
             }
            },
            "marker": {
             "colorbar": {
              "outlinewidth": 0,
              "ticks": ""
             }
            },
            "type": "scatter3d"
           }
          ],
          "scattercarpet": [
           {
            "marker": {
             "colorbar": {
              "outlinewidth": 0,
              "ticks": ""
             }
            },
            "type": "scattercarpet"
           }
          ],
          "scattergeo": [
           {
            "marker": {
             "colorbar": {
              "outlinewidth": 0,
              "ticks": ""
             }
            },
            "type": "scattergeo"
           }
          ],
          "scattergl": [
           {
            "marker": {
             "line": {
              "color": "#283442"
             }
            },
            "type": "scattergl"
           }
          ],
          "scattermapbox": [
           {
            "marker": {
             "colorbar": {
              "outlinewidth": 0,
              "ticks": ""
             }
            },
            "type": "scattermapbox"
           }
          ],
          "scatterpolar": [
           {
            "marker": {
             "colorbar": {
              "outlinewidth": 0,
              "ticks": ""
             }
            },
            "type": "scatterpolar"
           }
          ],
          "scatterpolargl": [
           {
            "marker": {
             "colorbar": {
              "outlinewidth": 0,
              "ticks": ""
             }
            },
            "type": "scatterpolargl"
           }
          ],
          "scatterternary": [
           {
            "marker": {
             "colorbar": {
              "outlinewidth": 0,
              "ticks": ""
             }
            },
            "type": "scatterternary"
           }
          ],
          "surface": [
           {
            "colorbar": {
             "outlinewidth": 0,
             "ticks": ""
            },
            "colorscale": [
             [
              0,
              "#0d0887"
             ],
             [
              0.1111111111111111,
              "#46039f"
             ],
             [
              0.2222222222222222,
              "#7201a8"
             ],
             [
              0.3333333333333333,
              "#9c179e"
             ],
             [
              0.4444444444444444,
              "#bd3786"
             ],
             [
              0.5555555555555556,
              "#d8576b"
             ],
             [
              0.6666666666666666,
              "#ed7953"
             ],
             [
              0.7777777777777778,
              "#fb9f3a"
             ],
             [
              0.8888888888888888,
              "#fdca26"
             ],
             [
              1,
              "#f0f921"
             ]
            ],
            "type": "surface"
           }
          ],
          "table": [
           {
            "cells": {
             "fill": {
              "color": "#506784"
             },
             "line": {
              "color": "rgb(17,17,17)"
             }
            },
            "header": {
             "fill": {
              "color": "#2a3f5f"
             },
             "line": {
              "color": "rgb(17,17,17)"
             }
            },
            "type": "table"
           }
          ]
         },
         "layout": {
          "annotationdefaults": {
           "arrowcolor": "#f2f5fa",
           "arrowhead": 0,
           "arrowwidth": 1
          },
          "autotypenumbers": "strict",
          "coloraxis": {
           "colorbar": {
            "outlinewidth": 0,
            "ticks": ""
           }
          },
          "colorscale": {
           "diverging": [
            [
             0,
             "#8e0152"
            ],
            [
             0.1,
             "#c51b7d"
            ],
            [
             0.2,
             "#de77ae"
            ],
            [
             0.3,
             "#f1b6da"
            ],
            [
             0.4,
             "#fde0ef"
            ],
            [
             0.5,
             "#f7f7f7"
            ],
            [
             0.6,
             "#e6f5d0"
            ],
            [
             0.7,
             "#b8e186"
            ],
            [
             0.8,
             "#7fbc41"
            ],
            [
             0.9,
             "#4d9221"
            ],
            [
             1,
             "#276419"
            ]
           ],
           "sequential": [
            [
             0,
             "#0d0887"
            ],
            [
             0.1111111111111111,
             "#46039f"
            ],
            [
             0.2222222222222222,
             "#7201a8"
            ],
            [
             0.3333333333333333,
             "#9c179e"
            ],
            [
             0.4444444444444444,
             "#bd3786"
            ],
            [
             0.5555555555555556,
             "#d8576b"
            ],
            [
             0.6666666666666666,
             "#ed7953"
            ],
            [
             0.7777777777777778,
             "#fb9f3a"
            ],
            [
             0.8888888888888888,
             "#fdca26"
            ],
            [
             1,
             "#f0f921"
            ]
           ],
           "sequentialminus": [
            [
             0,
             "#0d0887"
            ],
            [
             0.1111111111111111,
             "#46039f"
            ],
            [
             0.2222222222222222,
             "#7201a8"
            ],
            [
             0.3333333333333333,
             "#9c179e"
            ],
            [
             0.4444444444444444,
             "#bd3786"
            ],
            [
             0.5555555555555556,
             "#d8576b"
            ],
            [
             0.6666666666666666,
             "#ed7953"
            ],
            [
             0.7777777777777778,
             "#fb9f3a"
            ],
            [
             0.8888888888888888,
             "#fdca26"
            ],
            [
             1,
             "#f0f921"
            ]
           ]
          },
          "colorway": [
           "#636efa",
           "#EF553B",
           "#00cc96",
           "#ab63fa",
           "#FFA15A",
           "#19d3f3",
           "#FF6692",
           "#B6E880",
           "#FF97FF",
           "#FECB52"
          ],
          "font": {
           "color": "#f2f5fa"
          },
          "geo": {
           "bgcolor": "rgb(17,17,17)",
           "lakecolor": "rgb(17,17,17)",
           "landcolor": "rgb(17,17,17)",
           "showlakes": true,
           "showland": true,
           "subunitcolor": "#506784"
          },
          "hoverlabel": {
           "align": "left"
          },
          "hovermode": "closest",
          "mapbox": {
           "style": "dark"
          },
          "paper_bgcolor": "rgb(17,17,17)",
          "plot_bgcolor": "rgb(17,17,17)",
          "polar": {
           "angularaxis": {
            "gridcolor": "#506784",
            "linecolor": "#506784",
            "ticks": ""
           },
           "bgcolor": "rgb(17,17,17)",
           "radialaxis": {
            "gridcolor": "#506784",
            "linecolor": "#506784",
            "ticks": ""
           }
          },
          "scene": {
           "xaxis": {
            "backgroundcolor": "rgb(17,17,17)",
            "gridcolor": "#506784",
            "gridwidth": 2,
            "linecolor": "#506784",
            "showbackground": true,
            "ticks": "",
            "zerolinecolor": "#C8D4E3"
           },
           "yaxis": {
            "backgroundcolor": "rgb(17,17,17)",
            "gridcolor": "#506784",
            "gridwidth": 2,
            "linecolor": "#506784",
            "showbackground": true,
            "ticks": "",
            "zerolinecolor": "#C8D4E3"
           },
           "zaxis": {
            "backgroundcolor": "rgb(17,17,17)",
            "gridcolor": "#506784",
            "gridwidth": 2,
            "linecolor": "#506784",
            "showbackground": true,
            "ticks": "",
            "zerolinecolor": "#C8D4E3"
           }
          },
          "shapedefaults": {
           "line": {
            "color": "#f2f5fa"
           }
          },
          "sliderdefaults": {
           "bgcolor": "#C8D4E3",
           "bordercolor": "rgb(17,17,17)",
           "borderwidth": 1,
           "tickwidth": 0
          },
          "ternary": {
           "aaxis": {
            "gridcolor": "#506784",
            "linecolor": "#506784",
            "ticks": ""
           },
           "baxis": {
            "gridcolor": "#506784",
            "linecolor": "#506784",
            "ticks": ""
           },
           "bgcolor": "rgb(17,17,17)",
           "caxis": {
            "gridcolor": "#506784",
            "linecolor": "#506784",
            "ticks": ""
           }
          },
          "title": {
           "x": 0.05
          },
          "updatemenudefaults": {
           "bgcolor": "#506784",
           "borderwidth": 0
          },
          "xaxis": {
           "automargin": true,
           "gridcolor": "#283442",
           "linecolor": "#506784",
           "ticks": "",
           "title": {
            "standoff": 15
           },
           "zerolinecolor": "#283442",
           "zerolinewidth": 2
          },
          "yaxis": {
           "automargin": true,
           "gridcolor": "#283442",
           "linecolor": "#506784",
           "ticks": "",
           "title": {
            "standoff": 15
           },
           "zerolinecolor": "#283442",
           "zerolinewidth": 2
          }
         }
        },
        "width": 900,
        "xaxis": {
         "anchor": "y",
         "domain": [
          0,
          1
         ],
         "showgrid": false,
         "title": {
          "text": "Continent"
         }
        },
        "yaxis": {
         "anchor": "x",
         "domain": [
          0,
          1
         ],
         "showgrid": false,
         "title": {
          "text": "value"
         }
        }
       }
      }
     },
     "metadata": {},
     "output_type": "display_data"
    }
   ],
   "source": [
    "fig=px.bar(data_frame=values,color=values,color_continuous_scale='tealrose')\n",
    "\n",
    "fig.update_layout(\n",
    "\n",
    "    height= 500,\n",
    "    width= 900,\n",
    "    template=\"plotly_dark\",\n",
    "    xaxis=dict(showgrid=False),\n",
    "    yaxis=dict(showgrid=False) \n",
    ")\n",
    "fig.show()"
   ]
  },
  {
   "cell_type": "code",
   "execution_count": 8,
   "id": "f14a0212",
   "metadata": {},
   "outputs": [
    {
     "data": {
      "text/plain": [
       "<BarContainer object of 6 artists>"
      ]
     },
     "execution_count": 8,
     "metadata": {},
     "output_type": "execute_result"
    },
    {
     "data": {
      "image/png": "[encoded data removed]",
      "text/plain": [
       "<Figure size 640x480 with 1 Axes>"
      ]
     },
     "metadata": {},
     "output_type": "display_data"
    }
   ],
   "source": [
    "plt.bar(values.index,values.values)"
   ]
  },
  {
   "cell_type": "markdown",
   "id": "7a9310e0-e0be-4356-9f60-c96e84c2bc16",
   "metadata": {
    "id": "7a9310e0-e0be-4356-9f60-c96e84c2bc16"
   },
   "source": [
    "Note that we concluded our call to `plt.bar` with a semicolon (`;`). This suppresses any unnecessary output other than the plot. If we do not include a semicolon, the plot will still generate, however, we will see extraneous text as well:"
   ]
  },
  {
   "cell_type": "code",
   "execution_count": 9,
   "id": "61e4dadf-b63b-45f7-a708-b6eb6a6a0f9e",
   "metadata": {
    "id": "61e4dadf-b63b-45f7-a708-b6eb6a6a0f9e",
    "outputId": "c1493ccc-1fc2-409e-fe4e-9e72a31d5547"
   },
   "outputs": [
    {
     "data": {
      "image/png": "[encoded data removed]",
      "text/plain": [
       "<Figure size 640x480 with 1 Axes>"
      ]
     },
     "metadata": {},
     "output_type": "display_data"
    }
   ],
   "source": [
    "# Code Here\n",
    "plt.bar(values.index,values.values);"
   ]
  },
  {
   "cell_type": "markdown",
   "id": "327e2440-9a69-4683-a9ff-5dcb33f03d79",
   "metadata": {
    "id": "327e2440-9a69-4683-a9ff-5dcb33f03d79"
   },
   "source": [
    "We also remember to set the axis labels and the title for the plot."
   ]
  },
  {
   "cell_type": "code",
   "execution_count": 25,
   "id": "4cef631e",
   "metadata": {},
   "outputs": [
    {
     "data": {
      "application/vnd.plotly.v1+json": {
       "config": {
        "plotlyServerURL": "https://plot.ly"
       },
       "data": [
        {
         "alignmentgroup": "True",
         "hovertemplate": "Continent=%{x}<br>value=%{y}<br>color=%{marker.color}<extra></extra>",
         "legendgroup": "",
         "marker": {
          "color": [
           47,
           43,
           34,
           18,
           13,
           11
          ],
          "coloraxis": "coloraxis",
          "pattern": {
           "shape": ""
          }
         },
         "name": "",
         "offsetgroup": "",
         "orientation": "v",
         "showlegend": false,
         "textposition": "auto",
         "type": "bar",
         "x": [
          "Africa",
          "Europe",
          "Asia",
          "N. America",
          "Oceania",
          "S. America"
         ],
         "xaxis": "x",
         "y": [
          47,
          43,
          34,
          18,
          13,
          11
         ],
         "yaxis": "y"
        }
       ],
       "layout": {
        "barmode": "relative",
        "coloraxis": {
         "colorbar": {
          "title": {
           "text": "color"
          }
         },
         "colorscale": [
          [
           0,
           "rgb(209, 238, 234)"
          ],
          [
           0.16666666666666666,
           "rgb(168, 219, 217)"
          ],
          [
           0.3333333333333333,
           "rgb(133, 196, 201)"
          ],
          [
           0.5,
           "rgb(104, 171, 184)"
          ],
          [
           0.6666666666666666,
           "rgb(79, 144, 166)"
          ],
          [
           0.8333333333333334,
           "rgb(59, 115, 143)"
          ],
          [
           1,
           "rgb(42, 86, 116)"
          ]
         ]
        },
        "height": 500,
        "legend": {
         "tracegroupgap": 0
        },
        "margin": {
         "t": 60
        },
        "template": {
         "data": {
          "bar": [
           {
            "error_x": {
             "color": "#f2f5fa"
            },
            "error_y": {
             "color": "#f2f5fa"
            },
            "marker": {
             "line": {
              "color": "rgb(17,17,17)",
              "width": 0.5
             },
             "pattern": {
              "fillmode": "overlay",
              "size": 10,
              "solidity": 0.2
             }
            },
            "type": "bar"
           }
          ],
          "barpolar": [
           {
            "marker": {
             "line": {
              "color": "rgb(17,17,17)",
              "width": 0.5
             },
             "pattern": {
              "fillmode": "overlay",
              "size": 10,
              "solidity": 0.2
             }
            },
            "type": "barpolar"
           }
          ],
          "carpet": [
           {
            "aaxis": {
             "endlinecolor": "#A2B1C6",
             "gridcolor": "#506784",
             "linecolor": "#506784",
             "minorgridcolor": "#506784",
             "startlinecolor": "#A2B1C6"
            },
            "baxis": {
             "endlinecolor": "#A2B1C6",
             "gridcolor": "#506784",
             "linecolor": "#506784",
             "minorgridcolor": "#506784",
             "startlinecolor": "#A2B1C6"
            },
            "type": "carpet"
           }
          ],
          "choropleth": [
           {
            "colorbar": {
             "outlinewidth": 0,
             "ticks": ""
            },
            "type": "choropleth"
           }
          ],
          "contour": [
           {
            "colorbar": {
             "outlinewidth": 0,
             "ticks": ""
            },
            "colorscale": [
             [
              0,
              "#0d0887"
             ],
             [
              0.1111111111111111,
              "#46039f"
             ],
             [
              0.2222222222222222,
              "#7201a8"
             ],
             [
              0.3333333333333333,
              "#9c179e"
             ],
             [
              0.4444444444444444,
              "#bd3786"
             ],
             [
              0.5555555555555556,
              "#d8576b"
             ],
             [
              0.6666666666666666,
              "#ed7953"
             ],
             [
              0.7777777777777778,
              "#fb9f3a"
             ],
             [
              0.8888888888888888,
              "#fdca26"
             ],
             [
              1,
              "#f0f921"
             ]
            ],
            "type": "contour"
           }
          ],
          "contourcarpet": [
           {
            "colorbar": {
             "outlinewidth": 0,
             "ticks": ""
            },
            "type": "contourcarpet"
           }
          ],
          "heatmap": [
           {
            "colorbar": {
             "outlinewidth": 0,
             "ticks": ""
            },
            "colorscale": [
             [
              0,
              "#0d0887"
             ],
             [
              0.1111111111111111,
              "#46039f"
             ],
             [
              0.2222222222222222,
              "#7201a8"
             ],
             [
              0.3333333333333333,
              "#9c179e"
             ],
             [
              0.4444444444444444,
              "#bd3786"
             ],
             [
              0.5555555555555556,
              "#d8576b"
             ],
             [
              0.6666666666666666,
              "#ed7953"
             ],
             [
              0.7777777777777778,
              "#fb9f3a"
             ],
             [
              0.8888888888888888,
              "#fdca26"
             ],
             [
              1,
              "#f0f921"
             ]
            ],
            "type": "heatmap"
           }
          ],
          "heatmapgl": [
           {
            "colorbar": {
             "outlinewidth": 0,
             "ticks": ""
            },
            "colorscale": [
             [
              0,
              "#0d0887"
             ],
             [
              0.1111111111111111,
              "#46039f"
             ],
             [
              0.2222222222222222,
              "#7201a8"
             ],
             [
              0.3333333333333333,
              "#9c179e"
             ],
             [
              0.4444444444444444,
              "#bd3786"
             ],
             [
              0.5555555555555556,
              "#d8576b"
             ],
             [
              0.6666666666666666,
              "#ed7953"
             ],
             [
              0.7777777777777778,
              "#fb9f3a"
             ],
             [
              0.8888888888888888,
              "#fdca26"
             ],
             [
              1,
              "#f0f921"
             ]
            ],
            "type": "heatmapgl"
           }
          ],
          "histogram": [
           {
            "marker": {
             "pattern": {
              "fillmode": "overlay",
              "size": 10,
              "solidity": 0.2
             }
            },
            "type": "histogram"
           }
          ],
          "histogram2d": [
           {
            "colorbar": {
             "outlinewidth": 0,
             "ticks": ""
            },
            "colorscale": [
             [
              0,
              "#0d0887"
             ],
             [
              0.1111111111111111,
              "#46039f"
             ],
             [
              0.2222222222222222,
              "#7201a8"
             ],
             [
              0.3333333333333333,
              "#9c179e"
             ],
             [
              0.4444444444444444,
              "#bd3786"
             ],
             [
              0.5555555555555556,
              "#d8576b"
             ],
             [
              0.6666666666666666,
              "#ed7953"
             ],
             [
              0.7777777777777778,
              "#fb9f3a"
             ],
             [
              0.8888888888888888,
              "#fdca26"
             ],
             [
              1,
              "#f0f921"
             ]
            ],
            "type": "histogram2d"
           }
          ],
          "histogram2dcontour": [
           {
            "colorbar": {
             "outlinewidth": 0,
             "ticks": ""
            },
            "colorscale": [
             [
              0,
              "#0d0887"
             ],
             [
              0.1111111111111111,
              "#46039f"
             ],
             [
              0.2222222222222222,
              "#7201a8"
             ],
             [
              0.3333333333333333,
              "#9c179e"
             ],
             [
              0.4444444444444444,
              "#bd3786"
             ],
             [
              0.5555555555555556,
              "#d8576b"
             ],
             [
              0.6666666666666666,
              "#ed7953"
             ],
             [
              0.7777777777777778,
              "#fb9f3a"
             ],
             [
              0.8888888888888888,
              "#fdca26"
             ],
             [
              1,
              "#f0f921"
             ]
            ],
            "type": "histogram2dcontour"
           }
          ],
          "mesh3d": [
           {
            "colorbar": {
             "outlinewidth": 0,
             "ticks": ""
            },
            "type": "mesh3d"
           }
          ],
          "parcoords": [
           {
            "line": {
             "colorbar": {
              "outlinewidth": 0,
              "ticks": ""
             }
            },
            "type": "parcoords"
           }
          ],
          "pie": [
           {
            "automargin": true,
            "type": "pie"
           }
          ],
          "scatter": [
           {
            "marker": {
             "line": {
              "color": "#283442"
             }
            },
            "type": "scatter"
           }
          ],
          "scatter3d": [
           {
            "line": {
             "colorbar": {
              "outlinewidth": 0,
              "ticks": ""
             }
            },
            "marker": {
             "colorbar": {
              "outlinewidth": 0,
              "ticks": ""
             }
            },
            "type": "scatter3d"
           }
          ],
          "scattercarpet": [
           {
            "marker": {
             "colorbar": {
              "outlinewidth": 0,
              "ticks": ""
             }
            },
            "type": "scattercarpet"
           }
          ],
          "scattergeo": [
           {
            "marker": {
             "colorbar": {
              "outlinewidth": 0,
              "ticks": ""
             }
            },
            "type": "scattergeo"
           }
          ],
          "scattergl": [
           {
            "marker": {
             "line": {
              "color": "#283442"
             }
            },
            "type": "scattergl"
           }
          ],
          "scattermapbox": [
           {
            "marker": {
             "colorbar": {
              "outlinewidth": 0,
              "ticks": ""
             }
            },
            "type": "scattermapbox"
           }
          ],
          "scatterpolar": [
           {
            "marker": {
             "colorbar": {
              "outlinewidth": 0,
              "ticks": ""
             }
            },
            "type": "scatterpolar"
           }
          ],
          "scatterpolargl": [
           {
            "marker": {
             "colorbar": {
              "outlinewidth": 0,
              "ticks": ""
             }
            },
            "type": "scatterpolargl"
           }
          ],
          "scatterternary": [
           {
            "marker": {
             "colorbar": {
              "outlinewidth": 0,
              "ticks": ""
             }
            },
            "type": "scatterternary"
           }
          ],
          "surface": [
           {
            "colorbar": {
             "outlinewidth": 0,
             "ticks": ""
            },
            "colorscale": [
             [
              0,
              "#0d0887"
             ],
             [
              0.1111111111111111,
              "#46039f"
             ],
             [
              0.2222222222222222,
              "#7201a8"
             ],
             [
              0.3333333333333333,
              "#9c179e"
             ],
             [
              0.4444444444444444,
              "#bd3786"
             ],
             [
              0.5555555555555556,
              "#d8576b"
             ],
             [
              0.6666666666666666,
              "#ed7953"
             ],
             [
              0.7777777777777778,
              "#fb9f3a"
             ],
             [
              0.8888888888888888,
              "#fdca26"
             ],
             [
              1,
              "#f0f921"
             ]
            ],
            "type": "surface"
           }
          ],
          "table": [
           {
            "cells": {
             "fill": {
              "color": "#506784"
             },
             "line": {
              "color": "rgb(17,17,17)"
             }
            },
            "header": {
             "fill": {
              "color": "#2a3f5f"
             },
             "line": {
              "color": "rgb(17,17,17)"
             }
            },
            "type": "table"
           }
          ]
         },
         "layout": {
          "annotationdefaults": {
           "arrowcolor": "#f2f5fa",
           "arrowhead": 0,
           "arrowwidth": 1
          },
          "autotypenumbers": "strict",
          "coloraxis": {
           "colorbar": {
            "outlinewidth": 0,
            "ticks": ""
           }
          },
          "colorscale": {
           "diverging": [
            [
             0,
             "#8e0152"
            ],
            [
             0.1,
             "#c51b7d"
            ],
            [
             0.2,
             "#de77ae"
            ],
            [
             0.3,
             "#f1b6da"
            ],
            [
             0.4,
             "#fde0ef"
            ],
            [
             0.5,
             "#f7f7f7"
            ],
            [
             0.6,
             "#e6f5d0"
            ],
            [
             0.7,
             "#b8e186"
            ],
            [
             0.8,
             "#7fbc41"
            ],
            [
             0.9,
             "#4d9221"
            ],
            [
             1,
             "#276419"
            ]
           ],
           "sequential": [
            [
             0,
             "#0d0887"
            ],
            [
             0.1111111111111111,
             "#46039f"
            ],
            [
             0.2222222222222222,
             "#7201a8"
            ],
            [
             0.3333333333333333,
             "#9c179e"
            ],
            [
             0.4444444444444444,
             "#bd3786"
            ],
            [
             0.5555555555555556,
             "#d8576b"
            ],
            [
             0.6666666666666666,
             "#ed7953"
            ],
            [
             0.7777777777777778,
             "#fb9f3a"
            ],
            [
             0.8888888888888888,
             "#fdca26"
            ],
            [
             1,
             "#f0f921"
            ]
           ],
           "sequentialminus": [
            [
             0,
             "#0d0887"
            ],
            [
             0.1111111111111111,
             "#46039f"
            ],
            [
             0.2222222222222222,
             "#7201a8"
            ],
            [
             0.3333333333333333,
             "#9c179e"
            ],
            [
             0.4444444444444444,
             "#bd3786"
            ],
            [
             0.5555555555555556,
             "#d8576b"
            ],
            [
             0.6666666666666666,
             "#ed7953"
            ],
            [
             0.7777777777777778,
             "#fb9f3a"
            ],
            [
             0.8888888888888888,
             "#fdca26"
            ],
            [
             1,
             "#f0f921"
            ]
           ]
          },
          "colorway": [
           "#636efa",
           "#EF553B",
           "#00cc96",
           "#ab63fa",
           "#FFA15A",
           "#19d3f3",
           "#FF6692",
           "#B6E880",
           "#FF97FF",
           "#FECB52"
          ],
          "font": {
           "color": "#f2f5fa"
          },
          "geo": {
           "bgcolor": "rgb(17,17,17)",
           "lakecolor": "rgb(17,17,17)",
           "landcolor": "rgb(17,17,17)",
           "showlakes": true,
           "showland": true,
           "subunitcolor": "#506784"
          },
          "hoverlabel": {
           "align": "left"
          },
          "hovermode": "closest",
          "mapbox": {
           "style": "dark"
          },
          "paper_bgcolor": "rgb(17,17,17)",
          "plot_bgcolor": "rgb(17,17,17)",
          "polar": {
           "angularaxis": {
            "gridcolor": "#506784",
            "linecolor": "#506784",
            "ticks": ""
           },
           "bgcolor": "rgb(17,17,17)",
           "radialaxis": {
            "gridcolor": "#506784",
            "linecolor": "#506784",
            "ticks": ""
           }
          },
          "scene": {
           "xaxis": {
            "backgroundcolor": "rgb(17,17,17)",
            "gridcolor": "#506784",
            "gridwidth": 2,
            "linecolor": "#506784",
            "showbackground": true,
            "ticks": "",
            "zerolinecolor": "#C8D4E3"
           },
           "yaxis": {
            "backgroundcolor": "rgb(17,17,17)",
            "gridcolor": "#506784",
            "gridwidth": 2,
            "linecolor": "#506784",
            "showbackground": true,
            "ticks": "",
            "zerolinecolor": "#C8D4E3"
           },
           "zaxis": {
            "backgroundcolor": "rgb(17,17,17)",
            "gridcolor": "#506784",
            "gridwidth": 2,
            "linecolor": "#506784",
            "showbackground": true,
            "ticks": "",
            "zerolinecolor": "#C8D4E3"
           }
          },
          "shapedefaults": {
           "line": {
            "color": "#f2f5fa"
           }
          },
          "sliderdefaults": {
           "bgcolor": "#C8D4E3",
           "bordercolor": "rgb(17,17,17)",
           "borderwidth": 1,
           "tickwidth": 0
          },
          "ternary": {
           "aaxis": {
            "gridcolor": "#506784",
            "linecolor": "#506784",
            "ticks": ""
           },
           "baxis": {
            "gridcolor": "#506784",
            "linecolor": "#506784",
            "ticks": ""
           },
           "bgcolor": "rgb(17,17,17)",
           "caxis": {
            "gridcolor": "#506784",
            "linecolor": "#506784",
            "ticks": ""
           }
          },
          "title": {
           "x": 0.05
          },
          "updatemenudefaults": {
           "bgcolor": "#506784",
           "borderwidth": 0
          },
          "xaxis": {
           "automargin": true,
           "gridcolor": "#283442",
           "linecolor": "#506784",
           "ticks": "",
           "title": {
            "standoff": 15
           },
           "zerolinecolor": "#283442",
           "zerolinewidth": 2
          },
          "yaxis": {
           "automargin": true,
           "gridcolor": "#283442",
           "linecolor": "#506784",
           "ticks": "",
           "title": {
            "standoff": 15
           },
           "zerolinecolor": "#283442",
           "zerolinewidth": 2
          }
         }
        },
        "title": {
         "text": "Distribution of countries across continents"
        },
        "width": 900,
        "xaxis": {
         "anchor": "y",
         "domain": [
          0,
          1
         ],
         "showgrid": false,
         "title": {
          "text": "Continent"
         }
        },
        "yaxis": {
         "anchor": "x",
         "domain": [
          0,
          1
         ],
         "title": {
          "text": "Count"
         }
        }
       }
      }
     },
     "metadata": {},
     "output_type": "display_data"
    }
   ],
   "source": [
    "fig=px.bar(data_frame=values,color=values,color_continuous_scale='teal')\n",
    "\n",
    "fig.update_layout(\n",
    "    xaxis_title='Continent',\n",
    "    yaxis_title='Count',\n",
    "    title=\"Distribution of countries across continents\",\n",
    "    height=500,\n",
    "    width=900,\n",
    "    xaxis=dict(showgrid=False),\n",
    "    template='plotly_dark'\n",
    ")\n",
    "fig.show()"
   ]
  },
  {
   "cell_type": "code",
   "execution_count": 11,
   "id": "2e175cfa",
   "metadata": {},
   "outputs": [
    {
     "data": {
      "image/png": "[encoded data removed]",
      "text/plain": [
       "<Figure size 640x480 with 1 Axes>"
      ]
     },
     "metadata": {},
     "output_type": "display_data"
    }
   ],
   "source": [
    "plt.bar(values.index,values.values);\n",
    "plt.xlabel('Continent');\n",
    "plt.ylabel('Count');\n",
    "plt.title('Distribution of countries across continents');"
   ]
  },
  {
   "cell_type": "markdown",
   "id": "7f5939b0-b534-4957-9808-346fab7839c8",
   "metadata": {
    "id": "7f5939b0-b534-4957-9808-346fab7839c8"
   },
   "source": [
    "`pandas` native plotting:"
   ]
  },
  {
   "cell_type": "code",
   "execution_count": 12,
   "id": "d46439da-d5b2-411d-890d-a2b162fffb86",
   "metadata": {
    "id": "d46439da-d5b2-411d-890d-a2b162fffb86",
    "outputId": "8508eddf-5930-4986-a815-0f69c643900e"
   },
   "outputs": [
    {
     "data": {
      "image/png": "[encoded data removed]",
      "text/plain": [
       "<Figure size 640x480 with 1 Axes>"
      ]
     },
     "metadata": {},
     "output_type": "display_data"
    }
   ],
   "source": [
    "# Code Here\n",
    "values.plot(kind='bar');"
   ]
  },
  {
   "cell_type": "markdown",
   "id": "65996648-e102-4814-a6bc-2667319668e2",
   "metadata": {
    "id": "65996648-e102-4814-a6bc-2667319668e2"
   },
   "source": [
    "Equivalently, we could use the `countplot` method of the Seaborn library to create our bar plot."
   ]
  },
  {
   "cell_type": "code",
   "execution_count": 13,
   "id": "7570cfae",
   "metadata": {},
   "outputs": [
    {
     "data": {
      "text/plain": [
       "<Axes: xlabel='count', ylabel='count'>"
      ]
     },
     "execution_count": 13,
     "metadata": {},
     "output_type": "execute_result"
    },
    {
     "data": {
      "image/png": "[encoded data removed]",
      "text/plain": [
       "<Figure size 640x480 with 1 Axes>"
      ]
     },
     "metadata": {},
     "output_type": "display_data"
    }
   ],
   "source": [
    "sns.countplot(x=df['Continent'].value_counts(ascending=False))"
   ]
  },
  {
   "cell_type": "code",
   "execution_count": 14,
   "id": "0d276c6f-d0b2-4e3c-a2ca-52ea9359f51f",
   "metadata": {
    "id": "0d276c6f-d0b2-4e3c-a2ca-52ea9359f51f",
    "outputId": "295d6ef3-14f6-461d-a330-81e532b1b964"
   },
   "outputs": [
    {
     "data": {
      "text/plain": [
       "<Axes: xlabel='Continent', ylabel='count'>"
      ]
     },
     "execution_count": 14,
     "metadata": {},
     "output_type": "execute_result"
    },
    {
     "data": {
      "image/png": "[encoded data removed]",
      "text/plain": [
       "<Figure size 640x480 with 1 Axes>"
      ]
     },
     "metadata": {},
     "output_type": "display_data"
    }
   ],
   "source": [
    "# Code Here\n",
    "sns.countplot(data=df,x=df['Continent'])"
   ]
  },
  {
   "cell_type": "markdown",
   "id": "88556011-8fe4-4f11-9250-35dcbef3f4aa",
   "metadata": {
    "id": "88556011-8fe4-4f11-9250-35dcbef3f4aa"
   },
   "source": [
    "Above, we said that bar plots should only be used to visualize the distribution of a qualitative (categorical) variable. Why is that? Consider what happens when we try to use `sns.countplot` to visualize a quantitative variable, gross national income per capita."
   ]
  },
  {
   "cell_type": "code",
   "execution_count": 26,
   "id": "f8ec9e41",
   "metadata": {},
   "outputs": [
    {
     "data": {
      "application/vnd.plotly.v1+json": {
       "config": {
        "plotlyServerURL": "https://plot.ly"
       },
       "data": [
        {
         "alignmentgroup": "True",
         "hovertemplate": "variable=Gross national income per capita, Atlas method: $: 2016<br>index=%{x}<br>value=%{y}<extra></extra>",
         "legendgroup": "Gross national income per capita, Atlas method: $: 2016",
         "marker": {
          "color": "#636efa",
          "pattern": {
           "shape": ""
          }
         },
         "name": "Gross national income per capita, Atlas method: $: 2016",
         "offsetgroup": "Gross national income per capita, Atlas method: $: 2016",
         "orientation": "v",
         "showlegend": true,
         "textposition": "auto",
         "type": "bar",
         "x": [
          0,
          1,
          2,
          3,
          4,
          5,
          6,
          7,
          8,
          9,
          10,
          11,
          12,
          13,
          14,
          15,
          16,
          17,
          18,
          19,
          20,
          21,
          22,
          23,
          24,
          25,
          26,
          27,
          28,
          29,
          30,
          31,
          32,
          33,
          34,
          35,
          36,
          37,
          38,
          39,
          40,
          41,
          42,
          43,
          44,
          45,
          46,
          47,
          48,
          49,
          50,
          51,
          52,
          53,
          54,
          55,
          56,
          57,
          58,
          59,
          60,
          61,
          62,
          63,
          64,
          65,
          66,
          67,
          68,
          69,
          70,
          71,
          72,
          73,
          74,
          75,
          76,
          77,
          78,
          79,
          80,
          81,
          82,
          83,
          84,
          85,
          86,
          87,
          88,
          89,
          90,
          91,
          92,
          93,
          94,
          95,
          96,
          97,
          98,
          99,
          100,
          101,
          102,
          103,
          104,
          105,
          106,
          107,
          108,
          109,
          110,
          111,
          112,
          113,
          114,
          115,
          116,
          117,
          118,
          119,
          120,
          121,
          122,
          123,
          124,
          125,
          126,
          127,
          128,
          129,
          130,
          131,
          132,
          133,
          134,
          135,
          136,
          137,
          138,
          139,
          140,
          141,
          142,
          143,
          144,
          145,
          146,
          147,
          148,
          149,
          150,
          151,
          152,
          153,
          154,
          155,
          156,
          157,
          158,
          159,
          160,
          161,
          162,
          163,
          164,
          165
         ],
         "xaxis": "x",
         "y": [
          4270,
          3440,
          820,
          6610,
          280,
          1200,
          370,
          720,
          760,
          null,
          6550,
          null,
          660,
          7210,
          1380,
          490,
          620,
          1380,
          1210,
          370,
          null,
          400,
          320,
          750,
          1120,
          9760,
          2850,
          480,
          4620,
          370,
          2450,
          700,
          1730,
          950,
          15410,
          490,
          null,
          5480,
          820,
          2140,
          2830,
          900,
          540,
          3690,
          660,
          1300,
          940,
          580,
          22750,
          1330,
          2510,
          1140,
          8260,
          1680,
          3400,
          5430,
          36190,
          38000,
          3920,
          8710,
          41680,
          7680,
          9850,
          7430,
          3550,
          730,
          18080,
          1510,
          3580,
          75660,
          9720,
          21750,
          51880,
          3780,
          1110,
          5640,
          11180,
          6670,
          40480,
          2220,
          2050,
          4250,
          null,
          3760,
          45230,
          4760,
          5600,
          41860,
          4880,
          7470,
          12110,
          23680,
          56730,
          17750,
          44730,
          38950,
          3810,
          43660,
          18960,
          12570,
          56990,
          52560,
          31590,
          14630,
          null,
          14770,
          76660,
          24140,
          2120,
          null,
          6970,
          46310,
          82330,
          12680,
          19850,
          9470,
          null,
          5280,
          21660,
          27520,
          54630,
          81240,
          2310,
          42390,
          13400,
          14830,
          4410,
          43660,
          10840,
          null,
          6750,
          6390,
          3920,
          8830,
          3790,
          780,
          2150,
          4660,
          9040,
          2050,
          12140,
          15680,
          54420,
          4840,
          2380,
          4450,
          10750,
          39070,
          12450,
          2160,
          4100,
          1880,
          4020,
          5090,
          3170,
          11960,
          3070,
          8840,
          13530,
          6320,
          5820,
          4250,
          4070,
          5950,
          7070,
          15230
         ],
         "yaxis": "y"
        }
       ],
       "layout": {
        "barmode": "relative",
        "legend": {
         "title": {
          "text": "variable"
         },
         "tracegroupgap": 0
        },
        "margin": {
         "t": 60
        },
        "template": {
         "data": {
          "bar": [
           {
            "error_x": {
             "color": "#2a3f5f"
            },
            "error_y": {
             "color": "#2a3f5f"
            },
            "marker": {
             "line": {
              "color": "#E5ECF6",
              "width": 0.5
             },
             "pattern": {
              "fillmode": "overlay",
              "size": 10,
              "solidity": 0.2
             }
            },
            "type": "bar"
           }
          ],
          "barpolar": [
           {
            "marker": {
             "line": {
              "color": "#E5ECF6",
              "width": 0.5
             },
             "pattern": {
              "fillmode": "overlay",
              "size": 10,
              "solidity": 0.2
             }
            },
            "type": "barpolar"
           }
          ],
          "carpet": [
           {
            "aaxis": {
             "endlinecolor": "#2a3f5f",
             "gridcolor": "white",
             "linecolor": "white",
             "minorgridcolor": "white",
             "startlinecolor": "#2a3f5f"
            },
            "baxis": {
             "endlinecolor": "#2a3f5f",
             "gridcolor": "white",
             "linecolor": "white",
             "minorgridcolor": "white",
             "startlinecolor": "#2a3f5f"
            },
            "type": "carpet"
           }
          ],
          "choropleth": [
           {
            "colorbar": {
             "outlinewidth": 0,
             "ticks": ""
            },
            "type": "choropleth"
           }
          ],
          "contour": [
           {
            "colorbar": {
             "outlinewidth": 0,
             "ticks": ""
            },
            "colorscale": [
             [
              0,
              "#0d0887"
             ],
             [
              0.1111111111111111,
              "#46039f"
             ],
             [
              0.2222222222222222,
              "#7201a8"
             ],
             [
              0.3333333333333333,
              "#9c179e"
             ],
             [
              0.4444444444444444,
              "#bd3786"
             ],
             [
              0.5555555555555556,
              "#d8576b"
             ],
             [
              0.6666666666666666,
              "#ed7953"
             ],
             [
              0.7777777777777778,
              "#fb9f3a"
             ],
             [
              0.8888888888888888,
              "#fdca26"
             ],
             [
              1,
              "#f0f921"
             ]
            ],
            "type": "contour"
           }
          ],
          "contourcarpet": [
           {
            "colorbar": {
             "outlinewidth": 0,
             "ticks": ""
            },
            "type": "contourcarpet"
           }
          ],
          "heatmap": [
           {
            "colorbar": {
             "outlinewidth": 0,
             "ticks": ""
            },
            "colorscale": [
             [
              0,
              "#0d0887"
             ],
             [
              0.1111111111111111,
              "#46039f"
             ],
             [
              0.2222222222222222,
              "#7201a8"
             ],
             [
              0.3333333333333333,
              "#9c179e"
             ],
             [
              0.4444444444444444,
              "#bd3786"
             ],
             [
              0.5555555555555556,
              "#d8576b"
             ],
             [
              0.6666666666666666,
              "#ed7953"
             ],
             [
              0.7777777777777778,
              "#fb9f3a"
             ],
             [
              0.8888888888888888,
              "#fdca26"
             ],
             [
              1,
              "#f0f921"
             ]
            ],
            "type": "heatmap"
           }
          ],
          "heatmapgl": [
           {
            "colorbar": {
             "outlinewidth": 0,
             "ticks": ""
            },
            "colorscale": [
             [
              0,
              "#0d0887"
             ],
             [
              0.1111111111111111,
              "#46039f"
             ],
             [
              0.2222222222222222,
              "#7201a8"
             ],
             [
              0.3333333333333333,
              "#9c179e"
             ],
             [
              0.4444444444444444,
              "#bd3786"
             ],
             [
              0.5555555555555556,
              "#d8576b"
             ],
             [
              0.6666666666666666,
              "#ed7953"
             ],
             [
              0.7777777777777778,
              "#fb9f3a"
             ],
             [
              0.8888888888888888,
              "#fdca26"
             ],
             [
              1,
              "#f0f921"
             ]
            ],
            "type": "heatmapgl"
           }
          ],
          "histogram": [
           {
            "marker": {
             "pattern": {
              "fillmode": "overlay",
              "size": 10,
              "solidity": 0.2
             }
            },
            "type": "histogram"
           }
          ],
          "histogram2d": [
           {
            "colorbar": {
             "outlinewidth": 0,
             "ticks": ""
            },
            "colorscale": [
             [
              0,
              "#0d0887"
             ],
             [
              0.1111111111111111,
              "#46039f"
             ],
             [
              0.2222222222222222,
              "#7201a8"
             ],
             [
              0.3333333333333333,
              "#9c179e"
             ],
             [
              0.4444444444444444,
              "#bd3786"
             ],
             [
              0.5555555555555556,
              "#d8576b"
             ],
             [
              0.6666666666666666,
              "#ed7953"
             ],
             [
              0.7777777777777778,
              "#fb9f3a"
             ],
             [
              0.8888888888888888,
              "#fdca26"
             ],
             [
              1,
              "#f0f921"
             ]
            ],
            "type": "histogram2d"
           }
          ],
          "histogram2dcontour": [
           {
            "colorbar": {
             "outlinewidth": 0,
             "ticks": ""
            },
            "colorscale": [
             [
              0,
              "#0d0887"
             ],
             [
              0.1111111111111111,
              "#46039f"
             ],
             [
              0.2222222222222222,
              "#7201a8"
             ],
             [
              0.3333333333333333,
              "#9c179e"
             ],
             [
              0.4444444444444444,
              "#bd3786"
             ],
             [
              0.5555555555555556,
              "#d8576b"
             ],
             [
              0.6666666666666666,
              "#ed7953"
             ],
             [
              0.7777777777777778,
              "#fb9f3a"
             ],
             [
              0.8888888888888888,
              "#fdca26"
             ],
             [
              1,
              "#f0f921"
             ]
            ],
            "type": "histogram2dcontour"
           }
          ],
          "mesh3d": [
           {
            "colorbar": {
             "outlinewidth": 0,
             "ticks": ""
            },
            "type": "mesh3d"
           }
          ],
          "parcoords": [
           {
            "line": {
             "colorbar": {
              "outlinewidth": 0,
              "ticks": ""
             }
            },
            "type": "parcoords"
           }
          ],
          "pie": [
           {
            "automargin": true,
            "type": "pie"
           }
          ],
          "scatter": [
           {
            "fillpattern": {
             "fillmode": "overlay",
             "size": 10,
             "solidity": 0.2
            },
            "type": "scatter"
           }
          ],
          "scatter3d": [
           {
            "line": {
             "colorbar": {
              "outlinewidth": 0,
              "ticks": ""
             }
            },
            "marker": {
             "colorbar": {
              "outlinewidth": 0,
              "ticks": ""
             }
            },
            "type": "scatter3d"
           }
          ],
          "scattercarpet": [
           {
            "marker": {
             "colorbar": {
              "outlinewidth": 0,
              "ticks": ""
             }
            },
            "type": "scattercarpet"
           }
          ],
          "scattergeo": [
           {
            "marker": {
             "colorbar": {
              "outlinewidth": 0,
              "ticks": ""
             }
            },
            "type": "scattergeo"
           }
          ],
          "scattergl": [
           {
            "marker": {
             "colorbar": {
              "outlinewidth": 0,
              "ticks": ""
             }
            },
            "type": "scattergl"
           }
          ],
          "scattermapbox": [
           {
            "marker": {
             "colorbar": {
              "outlinewidth": 0,
              "ticks": ""
             }
            },
            "type": "scattermapbox"
           }
          ],
          "scatterpolar": [
           {
            "marker": {
             "colorbar": {
              "outlinewidth": 0,
              "ticks": ""
             }
            },
            "type": "scatterpolar"
           }
          ],
          "scatterpolargl": [
           {
            "marker": {
             "colorbar": {
              "outlinewidth": 0,
              "ticks": ""
             }
            },
            "type": "scatterpolargl"
           }
          ],
          "scatterternary": [
           {
            "marker": {
             "colorbar": {
              "outlinewidth": 0,
              "ticks": ""
             }
            },
            "type": "scatterternary"
           }
          ],
          "surface": [
           {
            "colorbar": {
             "outlinewidth": 0,
             "ticks": ""
            },
            "colorscale": [
             [
              0,
              "#0d0887"
             ],
             [
              0.1111111111111111,
              "#46039f"
             ],
             [
              0.2222222222222222,
              "#7201a8"
             ],
             [
              0.3333333333333333,
              "#9c179e"
             ],
             [
              0.4444444444444444,
              "#bd3786"
             ],
             [
              0.5555555555555556,
              "#d8576b"
             ],
             [
              0.6666666666666666,
              "#ed7953"
             ],
             [
              0.7777777777777778,
              "#fb9f3a"
             ],
             [
              0.8888888888888888,
              "#fdca26"
             ],
             [
              1,
              "#f0f921"
             ]
            ],
            "type": "surface"
           }
          ],
          "table": [
           {
            "cells": {
             "fill": {
              "color": "#EBF0F8"
             },
             "line": {
              "color": "white"
             }
            },
            "header": {
             "fill": {
              "color": "#C8D4E3"
             },
             "line": {
              "color": "white"
             }
            },
            "type": "table"
           }
          ]
         },
         "layout": {
          "annotationdefaults": {
           "arrowcolor": "#2a3f5f",
           "arrowhead": 0,
           "arrowwidth": 1
          },
          "autotypenumbers": "strict",
          "coloraxis": {
           "colorbar": {
            "outlinewidth": 0,
            "ticks": ""
           }
          },
          "colorscale": {
           "diverging": [
            [
             0,
             "#8e0152"
            ],
            [
             0.1,
             "#c51b7d"
            ],
            [
             0.2,
             "#de77ae"
            ],
            [
             0.3,
             "#f1b6da"
            ],
            [
             0.4,
             "#fde0ef"
            ],
            [
             0.5,
             "#f7f7f7"
            ],
            [
             0.6,
             "#e6f5d0"
            ],
            [
             0.7,
             "#b8e186"
            ],
            [
             0.8,
             "#7fbc41"
            ],
            [
             0.9,
             "#4d9221"
            ],
            [
             1,
             "#276419"
            ]
           ],
           "sequential": [
            [
             0,
             "#0d0887"
            ],
            [
             0.1111111111111111,
             "#46039f"
            ],
            [
             0.2222222222222222,
             "#7201a8"
            ],
            [
             0.3333333333333333,
             "#9c179e"
            ],
            [
             0.4444444444444444,
             "#bd3786"
            ],
            [
             0.5555555555555556,
             "#d8576b"
            ],
            [
             0.6666666666666666,
             "#ed7953"
            ],
            [
             0.7777777777777778,
             "#fb9f3a"
            ],
            [
             0.8888888888888888,
             "#fdca26"
            ],
            [
             1,
             "#f0f921"
            ]
           ],
           "sequentialminus": [
            [
             0,
             "#0d0887"
            ],
            [
             0.1111111111111111,
             "#46039f"
            ],
            [
             0.2222222222222222,
             "#7201a8"
            ],
            [
             0.3333333333333333,
             "#9c179e"
            ],
            [
             0.4444444444444444,
             "#bd3786"
            ],
            [
             0.5555555555555556,
             "#d8576b"
            ],
            [
             0.6666666666666666,
             "#ed7953"
            ],
            [
             0.7777777777777778,
             "#fb9f3a"
            ],
            [
             0.8888888888888888,
             "#fdca26"
            ],
            [
             1,
             "#f0f921"
            ]
           ]
          },
          "colorway": [
           "#636efa",
           "#EF553B",
           "#00cc96",
           "#ab63fa",
           "#FFA15A",
           "#19d3f3",
           "#FF6692",
           "#B6E880",
           "#FF97FF",
           "#FECB52"
          ],
          "font": {
           "color": "#2a3f5f"
          },
          "geo": {
           "bgcolor": "white",
           "lakecolor": "white",
           "landcolor": "#E5ECF6",
           "showlakes": true,
           "showland": true,
           "subunitcolor": "white"
          },
          "hoverlabel": {
           "align": "left"
          },
          "hovermode": "closest",
          "mapbox": {
           "style": "light"
          },
          "paper_bgcolor": "white",
          "plot_bgcolor": "#E5ECF6",
          "polar": {
           "angularaxis": {
            "gridcolor": "white",
            "linecolor": "white",
            "ticks": ""
           },
           "bgcolor": "#E5ECF6",
           "radialaxis": {
            "gridcolor": "white",
            "linecolor": "white",
            "ticks": ""
           }
          },
          "scene": {
           "xaxis": {
            "backgroundcolor": "#E5ECF6",
            "gridcolor": "white",
            "gridwidth": 2,
            "linecolor": "white",
            "showbackground": true,
            "ticks": "",
            "zerolinecolor": "white"
           },
           "yaxis": {
            "backgroundcolor": "#E5ECF6",
            "gridcolor": "white",
            "gridwidth": 2,
            "linecolor": "white",
            "showbackground": true,
            "ticks": "",
            "zerolinecolor": "white"
           },
           "zaxis": {
            "backgroundcolor": "#E5ECF6",
            "gridcolor": "white",
            "gridwidth": 2,
            "linecolor": "white",
            "showbackground": true,
            "ticks": "",
            "zerolinecolor": "white"
           }
          },
          "shapedefaults": {
           "line": {
            "color": "#2a3f5f"
           }
          },
          "ternary": {
           "aaxis": {
            "gridcolor": "white",
            "linecolor": "white",
            "ticks": ""
           },
           "baxis": {
            "gridcolor": "white",
            "linecolor": "white",
            "ticks": ""
           },
           "bgcolor": "#E5ECF6",
           "caxis": {
            "gridcolor": "white",
            "linecolor": "white",
            "ticks": ""
           }
          },
          "title": {
           "x": 0.05
          },
          "xaxis": {
           "automargin": true,
           "gridcolor": "white",
           "linecolor": "white",
           "ticks": "",
           "title": {
            "standoff": 15
           },
           "zerolinecolor": "white",
           "zerolinewidth": 2
          },
          "yaxis": {
           "automargin": true,
           "gridcolor": "white",
           "linecolor": "white",
           "ticks": "",
           "title": {
            "standoff": 15
           },
           "zerolinecolor": "white",
           "zerolinewidth": 2
          }
         }
        },
        "xaxis": {
         "anchor": "y",
         "domain": [
          0,
          1
         ],
         "title": {
          "text": "index"
         }
        },
        "yaxis": {
         "anchor": "x",
         "domain": [
          0,
          1
         ],
         "title": {
          "text": "value"
         }
        }
       }
      }
     },
     "metadata": {},
     "output_type": "display_data"
    }
   ],
   "source": [
    "fig=px.bar(df['Gross national income per capita, Atlas method: $: 2016'])\n",
    "fig.show()"
   ]
  },
  {
   "cell_type": "code",
   "execution_count": 16,
   "id": "25fad818-ad89-4e79-837f-a13a361deaa8",
   "metadata": {
    "colab": {
     "base_uri": "https://localhost:8080/",
     "height": 449
    },
    "id": "25fad818-ad89-4e79-837f-a13a361deaa8",
    "outputId": "562e50ee-1598-4b72-8e77-dac7bdac8af7"
   },
   "outputs": [
    {
     "data": {
      "image/png": "[encoded data removed]",
      "text/plain": [
       "<Figure size 640x480 with 1 Axes>"
      ]
     },
     "metadata": {},
     "output_type": "display_data"
    }
   ],
   "source": [
    "# Code Here\n",
    "capita=df['Gross national income per capita, Atlas method: $: 2016']\n",
    "sns.countplot(x=capita);"
   ]
  },
  {
   "cell_type": "markdown",
   "id": "d10ad6fe-14c7-4099-bf3e-bc4b9ae891c9",
   "metadata": {
    "id": "d10ad6fe-14c7-4099-bf3e-bc4b9ae891c9"
   },
   "source": [
    "What happened? A bar plot (either `plt.bar` or `sns.countplot`) will create a separate bar for *each* unique value of a variable. With a continuous variable, we may not have a finite number of possible values, which can lead to situations where we would need many, many bars to display each unique value.\n",
    "\n",
    "To visualize the distribution of a continuous variable, we use a different type of plot:\n",
    "* Histogram\n",
    "* Box plot\n",
    "* Violin plot"
   ]
  },
  {
   "cell_type": "markdown",
   "id": "89f6d802-8ebe-4393-866a-3bd26e413637",
   "metadata": {
    "id": "89f6d802-8ebe-4393-866a-3bd26e413637"
   },
   "source": [
    "## Box Plots and Violin Plots"
   ]
  },
  {
   "cell_type": "markdown",
   "id": "1e566348-6740-4b6d-9969-05d3d1c08960",
   "metadata": {
    "id": "1e566348-6740-4b6d-9969-05d3d1c08960"
   },
   "source": [
    "Box plots and violin plots are two very similar kinds of visualizations. Both display the distribution of a variable using information about quartiles.\n",
    "\n",
    "In a box plot, the width of the box at any point does not encode meaning. In a violin plot, the width of the plot indicates the *density* of the distribution at each possible value."
   ]
  },
  {
   "cell_type": "code",
   "execution_count": 17,
   "id": "9f808510-6bfd-4901-85cc-8a00c2e32405",
   "metadata": {
    "id": "9f808510-6bfd-4901-85cc-8a00c2e32405",
    "outputId": "ae60493a-4110-4164-eecc-dd771cc7d3fa"
   },
   "outputs": [
    {
     "data": {
      "application/vnd.plotly.v1+json": {
       "config": {
        "plotlyServerURL": "https://plot.ly"
       },
       "data": [
        {
         "alignmentgroup": "True",
         "hovertemplate": "variable=%{x}<br>value=%{y}<extra></extra>",
         "legendgroup": "",
         "marker": {
          "color": "teal"
         },
         "name": "",
         "notched": false,
         "offsetgroup": "",
         "orientation": "v",
         "showlegend": false,
         "type": "box",
         "x": [
          "Gross national income per capita, Atlas method: $: 2016",
          "Gross national income per capita, Atlas method: $: 2016",
          "Gross national income per capita, Atlas method: $: 2016",
          "Gross national income per capita, Atlas method: $: 2016",
          "Gross national income per capita, Atlas method: $: 2016",
          "Gross national income per capita, Atlas method: $: 2016",
          "Gross national income per capita, Atlas method: $: 2016",
          "Gross national income per capita, Atlas method: $: 2016",
          "Gross national income per capita, Atlas method: $: 2016",
          "Gross national income per capita, Atlas method: $: 2016",
          "Gross national income per capita, Atlas method: $: 2016",
          "Gross national income per capita, Atlas method: $: 2016",
          "Gross national income per capita, Atlas method: $: 2016",
          "Gross national income per capita, Atlas method: $: 2016",
          "Gross national income per capita, Atlas method: $: 2016",
          "Gross national income per capita, Atlas method: $: 2016",
          "Gross national income per capita, Atlas method: $: 2016",
          "Gross national income per capita, Atlas method: $: 2016",
          "Gross national income per capita, Atlas method: $: 2016",
          "Gross national income per capita, Atlas method: $: 2016",
          "Gross national income per capita, Atlas method: $: 2016",
          "Gross national income per capita, Atlas method: $: 2016",
          "Gross national income per capita, Atlas method: $: 2016",
          "Gross national income per capita, Atlas method: $: 2016",
          "Gross national income per capita, Atlas method: $: 2016",
          "Gross national income per capita, Atlas method: $: 2016",
          "Gross national income per capita, Atlas method: $: 2016",
          "Gross national income per capita, Atlas method: $: 2016",
          "Gross national income per capita, Atlas method: $: 2016",
          "Gross national income per capita, Atlas method: $: 2016",
          "Gross national income per capita, Atlas method: $: 2016",
          "Gross national income per capita, Atlas method: $: 2016",
          "Gross national income per capita, Atlas method: $: 2016",
          "Gross national income per capita, Atlas method: $: 2016",
          "Gross national income per capita, Atlas method: $: 2016",
          "Gross national income per capita, Atlas method: $: 2016",
          "Gross national income per capita, Atlas method: $: 2016",
          "Gross national income per capita, Atlas method: $: 2016",
          "Gross national income per capita, Atlas method: $: 2016",
          "Gross national income per capita, Atlas method: $: 2016",
          "Gross national income per capita, Atlas method: $: 2016",
          "Gross national income per capita, Atlas method: $: 2016",
          "Gross national income per capita, Atlas method: $: 2016",
          "Gross national income per capita, Atlas method: $: 2016",
          "Gross national income per capita, Atlas method: $: 2016",
          "Gross national income per capita, Atlas method: $: 2016",
          "Gross national income per capita, Atlas method: $: 2016",
          "Gross national income per capita, Atlas method: $: 2016",
          "Gross national income per capita, Atlas method: $: 2016",
          "Gross national income per capita, Atlas method: $: 2016",
          "Gross national income per capita, Atlas method: $: 2016",
          "Gross national income per capita, Atlas method: $: 2016",
          "Gross national income per capita, Atlas method: $: 2016",
          "Gross national income per capita, Atlas method: $: 2016",
          "Gross national income per capita, Atlas method: $: 2016",
          "Gross national income per capita, Atlas method: $: 2016",
          "Gross national income per capita, Atlas method: $: 2016",
          "Gross national income per capita, Atlas method: $: 2016",
          "Gross national income per capita, Atlas method: $: 2016",
          "Gross national income per capita, Atlas method: $: 2016",
          "Gross national income per capita, Atlas method: $: 2016",
          "Gross national income per capita, Atlas method: $: 2016",
          "Gross national income per capita, Atlas method: $: 2016",
          "Gross national income per capita, Atlas method: $: 2016",
          "Gross national income per capita, Atlas method: $: 2016",
          "Gross national income per capita, Atlas method: $: 2016",
          "Gross national income per capita, Atlas method: $: 2016",
          "Gross national income per capita, Atlas method: $: 2016",
          "Gross national income per capita, Atlas method: $: 2016",
          "Gross national income per capita, Atlas method: $: 2016",
          "Gross national income per capita, Atlas method: $: 2016",
          "Gross national income per capita, Atlas method: $: 2016",
          "Gross national income per capita, Atlas method: $: 2016",
          "Gross national income per capita, Atlas method: $: 2016",
          "Gross national income per capita, Atlas method: $: 2016",
          "Gross national income per capita, Atlas method: $: 2016",
          "Gross national income per capita, Atlas method: $: 2016",
          "Gross national income per capita, Atlas method: $: 2016",
          "Gross national income per capita, Atlas method: $: 2016",
          "Gross national income per capita, Atlas method: $: 2016",
          "Gross national income per capita, Atlas method: $: 2016",
          "Gross national income per capita, Atlas method: $: 2016",
          "Gross national income per capita, Atlas method: $: 2016",
          "Gross national income per capita, Atlas method: $: 2016",
          "Gross national income per capita, Atlas method: $: 2016",
          "Gross national income per capita, Atlas method: $: 2016",
          "Gross national income per capita, Atlas method: $: 2016",
          "Gross national income per capita, Atlas method: $: 2016",
          "Gross national income per capita, Atlas method: $: 2016",
          "Gross national income per capita, Atlas method: $: 2016",
          "Gross national income per capita, Atlas method: $: 2016",
          "Gross national income per capita, Atlas method: $: 2016",
          "Gross national income per capita, Atlas method: $: 2016",
          "Gross national income per capita, Atlas method: $: 2016",
          "Gross national income per capita, Atlas method: $: 2016",
          "Gross national income per capita, Atlas method: $: 2016",
          "Gross national income per capita, Atlas method: $: 2016",
          "Gross national income per capita, Atlas method: $: 2016",
          "Gross national income per capita, Atlas method: $: 2016",
          "Gross national income per capita, Atlas method: $: 2016",
          "Gross national income per capita, Atlas method: $: 2016",
          "Gross national income per capita, Atlas method: $: 2016",
          "Gross national income per capita, Atlas method: $: 2016",
          "Gross national income per capita, Atlas method: $: 2016",
          "Gross national income per capita, Atlas method: $: 2016",
          "Gross national income per capita, Atlas method: $: 2016",
          "Gross national income per capita, Atlas method: $: 2016",
          "Gross national income per capita, Atlas method: $: 2016",
          "Gross national income per capita, Atlas method: $: 2016",
          "Gross national income per capita, Atlas method: $: 2016",
          "Gross national income per capita, Atlas method: $: 2016",
          "Gross national income per capita, Atlas method: $: 2016",
          "Gross national income per capita, Atlas method: $: 2016",
          "Gross national income per capita, Atlas method: $: 2016",
          "Gross national income per capita, Atlas method: $: 2016",
          "Gross national income per capita, Atlas method: $: 2016",
          "Gross national income per capita, Atlas method: $: 2016",
          "Gross national income per capita, Atlas method: $: 2016",
          "Gross national income per capita, Atlas method: $: 2016",
          "Gross national income per capita, Atlas method: $: 2016",
          "Gross national income per capita, Atlas method: $: 2016",
          "Gross national income per capita, Atlas method: $: 2016",
          "Gross national income per capita, Atlas method: $: 2016",
          "Gross national income per capita, Atlas method: $: 2016",
          "Gross national income per capita, Atlas method: $: 2016",
          "Gross national income per capita, Atlas method: $: 2016",
          "Gross national income per capita, Atlas method: $: 2016",
          "Gross national income per capita, Atlas method: $: 2016",
          "Gross national income per capita, Atlas method: $: 2016",
          "Gross national income per capita, Atlas method: $: 2016",
          "Gross national income per capita, Atlas method: $: 2016",
          "Gross national income per capita, Atlas method: $: 2016",
          "Gross national income per capita, Atlas method: $: 2016",
          "Gross national income per capita, Atlas method: $: 2016",
          "Gross national income per capita, Atlas method: $: 2016",
          "Gross national income per capita, Atlas method: $: 2016",
          "Gross national income per capita, Atlas method: $: 2016",
          "Gross national income per capita, Atlas method: $: 2016",
          "Gross national income per capita, Atlas method: $: 2016",
          "Gross national income per capita, Atlas method: $: 2016",
          "Gross national income per capita, Atlas method: $: 2016",
          "Gross national income per capita, Atlas method: $: 2016",
          "Gross national income per capita, Atlas method: $: 2016",
          "Gross national income per capita, Atlas method: $: 2016",
          "Gross national income per capita, Atlas method: $: 2016",
          "Gross national income per capita, Atlas method: $: 2016",
          "Gross national income per capita, Atlas method: $: 2016",
          "Gross national income per capita, Atlas method: $: 2016",
          "Gross national income per capita, Atlas method: $: 2016",
          "Gross national income per capita, Atlas method: $: 2016",
          "Gross national income per capita, Atlas method: $: 2016",
          "Gross national income per capita, Atlas method: $: 2016",
          "Gross national income per capita, Atlas method: $: 2016",
          "Gross national income per capita, Atlas method: $: 2016",
          "Gross national income per capita, Atlas method: $: 2016",
          "Gross national income per capita, Atlas method: $: 2016",
          "Gross national income per capita, Atlas method: $: 2016",
          "Gross national income per capita, Atlas method: $: 2016",
          "Gross national income per capita, Atlas method: $: 2016",
          "Gross national income per capita, Atlas method: $: 2016",
          "Gross national income per capita, Atlas method: $: 2016",
          "Gross national income per capita, Atlas method: $: 2016",
          "Gross national income per capita, Atlas method: $: 2016",
          "Gross national income per capita, Atlas method: $: 2016",
          "Gross national income per capita, Atlas method: $: 2016",
          "Gross national income per capita, Atlas method: $: 2016"
         ],
         "x0": " ",
         "xaxis": "x",
         "y": [
          4270,
          3440,
          820,
          6610,
          280,
          1200,
          370,
          720,
          760,
          null,
          6550,
          null,
          660,
          7210,
          1380,
          490,
          620,
          1380,
          1210,
          370,
          null,
          400,
          320,
          750,
          1120,
          9760,
          2850,
          480,
          4620,
          370,
          2450,
          700,
          1730,
          950,
          15410,
          490,
          null,
          5480,
          820,
          2140,
          2830,
          900,
          540,
          3690,
          660,
          1300,
          940,
          580,
          22750,
          1330,
          2510,
          1140,
          8260,
          1680,
          3400,
          5430,
          36190,
          38000,
          3920,
          8710,
          41680,
          7680,
          9850,
          7430,
          3550,
          730,
          18080,
          1510,
          3580,
          75660,
          9720,
          21750,
          51880,
          3780,
          1110,
          5640,
          11180,
          6670,
          40480,
          2220,
          2050,
          4250,
          null,
          3760,
          45230,
          4760,
          5600,
          41860,
          4880,
          7470,
          12110,
          23680,
          56730,
          17750,
          44730,
          38950,
          3810,
          43660,
          18960,
          12570,
          56990,
          52560,
          31590,
          14630,
          null,
          14770,
          76660,
          24140,
          2120,
          null,
          6970,
          46310,
          82330,
          12680,
          19850,
          9470,
          null,
          5280,
          21660,
          27520,
          54630,
          81240,
          2310,
          42390,
          13400,
          14830,
          4410,
          43660,
          10840,
          null,
          6750,
          6390,
          3920,
          8830,
          3790,
          780,
          2150,
          4660,
          9040,
          2050,
          12140,
          15680,
          54420,
          4840,
          2380,
          4450,
          10750,
          39070,
          12450,
          2160,
          4100,
          1880,
          4020,
          5090,
          3170,
          11960,
          3070,
          8840,
          13530,
          6320,
          5820,
          4250,
          4070,
          5950,
          7070,
          15230
         ],
         "y0": " ",
         "yaxis": "y"
        }
       ],
       "layout": {
        "boxmode": "group",
        "legend": {
         "tracegroupgap": 0
        },
        "margin": {
         "t": 60
        },
        "template": {
         "data": {
          "bar": [
           {
            "error_x": {
             "color": "#2a3f5f"
            },
            "error_y": {
             "color": "#2a3f5f"
            },
            "marker": {
             "line": {
              "color": "#E5ECF6",
              "width": 0.5
             },
             "pattern": {
              "fillmode": "overlay",
              "size": 10,
              "solidity": 0.2
             }
            },
            "type": "bar"
           }
          ],
          "barpolar": [
           {
            "marker": {
             "line": {
              "color": "#E5ECF6",
              "width": 0.5
             },
             "pattern": {
              "fillmode": "overlay",
              "size": 10,
              "solidity": 0.2
             }
            },
            "type": "barpolar"
           }
          ],
          "carpet": [
           {
            "aaxis": {
             "endlinecolor": "#2a3f5f",
             "gridcolor": "white",
             "linecolor": "white",
             "minorgridcolor": "white",
             "startlinecolor": "#2a3f5f"
            },
            "baxis": {
             "endlinecolor": "#2a3f5f",
             "gridcolor": "white",
             "linecolor": "white",
             "minorgridcolor": "white",
             "startlinecolor": "#2a3f5f"
            },
            "type": "carpet"
           }
          ],
          "choropleth": [
           {
            "colorbar": {
             "outlinewidth": 0,
             "ticks": ""
            },
            "type": "choropleth"
           }
          ],
          "contour": [
           {
            "colorbar": {
             "outlinewidth": 0,
             "ticks": ""
            },
            "colorscale": [
             [
              0,
              "#0d0887"
             ],
             [
              0.1111111111111111,
              "#46039f"
             ],
             [
              0.2222222222222222,
              "#7201a8"
             ],
             [
              0.3333333333333333,
              "#9c179e"
             ],
             [
              0.4444444444444444,
              "#bd3786"
             ],
             [
              0.5555555555555556,
              "#d8576b"
             ],
             [
              0.6666666666666666,
              "#ed7953"
             ],
             [
              0.7777777777777778,
              "#fb9f3a"
             ],
             [
              0.8888888888888888,
              "#fdca26"
             ],
             [
              1,
              "#f0f921"
             ]
            ],
            "type": "contour"
           }
          ],
          "contourcarpet": [
           {
            "colorbar": {
             "outlinewidth": 0,
             "ticks": ""
            },
            "type": "contourcarpet"
           }
          ],
          "heatmap": [
           {
            "colorbar": {
             "outlinewidth": 0,
             "ticks": ""
            },
            "colorscale": [
             [
              0,
              "#0d0887"
             ],
             [
              0.1111111111111111,
              "#46039f"
             ],
             [
              0.2222222222222222,
              "#7201a8"
             ],
             [
              0.3333333333333333,
              "#9c179e"
             ],
             [
              0.4444444444444444,
              "#bd3786"
             ],
             [
              0.5555555555555556,
              "#d8576b"
             ],
             [
              0.6666666666666666,
              "#ed7953"
             ],
             [
              0.7777777777777778,
              "#fb9f3a"
             ],
             [
              0.8888888888888888,
              "#fdca26"
             ],
             [
              1,
              "#f0f921"
             ]
            ],
            "type": "heatmap"
           }
          ],
          "heatmapgl": [
           {
            "colorbar": {
             "outlinewidth": 0,
             "ticks": ""
            },
            "colorscale": [
             [
              0,
              "#0d0887"
             ],
             [
              0.1111111111111111,
              "#46039f"
             ],
             [
              0.2222222222222222,
              "#7201a8"
             ],
             [
              0.3333333333333333,
              "#9c179e"
             ],
             [
              0.4444444444444444,
              "#bd3786"
             ],
             [
              0.5555555555555556,
              "#d8576b"
             ],
             [
              0.6666666666666666,
              "#ed7953"
             ],
             [
              0.7777777777777778,
              "#fb9f3a"
             ],
             [
              0.8888888888888888,
              "#fdca26"
             ],
             [
              1,
              "#f0f921"
             ]
            ],
            "type": "heatmapgl"
           }
          ],
          "histogram": [
           {
            "marker": {
             "pattern": {
              "fillmode": "overlay",
              "size": 10,
              "solidity": 0.2
             }
            },
            "type": "histogram"
           }
          ],
          "histogram2d": [
           {
            "colorbar": {
             "outlinewidth": 0,
             "ticks": ""
            },
            "colorscale": [
             [
              0,
              "#0d0887"
             ],
             [
              0.1111111111111111,
              "#46039f"
             ],
             [
              0.2222222222222222,
              "#7201a8"
             ],
             [
              0.3333333333333333,
              "#9c179e"
             ],
             [
              0.4444444444444444,
              "#bd3786"
             ],
             [
              0.5555555555555556,
              "#d8576b"
             ],
             [
              0.6666666666666666,
              "#ed7953"
             ],
             [
              0.7777777777777778,
              "#fb9f3a"
             ],
             [
              0.8888888888888888,
              "#fdca26"
             ],
             [
              1,
              "#f0f921"
             ]
            ],
            "type": "histogram2d"
           }
          ],
          "histogram2dcontour": [
           {
            "colorbar": {
             "outlinewidth": 0,
             "ticks": ""
            },
            "colorscale": [
             [
              0,
              "#0d0887"
             ],
             [
              0.1111111111111111,
              "#46039f"
             ],
             [
              0.2222222222222222,
              "#7201a8"
             ],
             [
              0.3333333333333333,
              "#9c179e"
             ],
             [
              0.4444444444444444,
              "#bd3786"
             ],
             [
              0.5555555555555556,
              "#d8576b"
             ],
             [
              0.6666666666666666,
              "#ed7953"
             ],
             [
              0.7777777777777778,
              "#fb9f3a"
             ],
             [
              0.8888888888888888,
              "#fdca26"
             ],
             [
              1,
              "#f0f921"
             ]
            ],
            "type": "histogram2dcontour"
           }
          ],
          "mesh3d": [
           {
            "colorbar": {
             "outlinewidth": 0,
             "ticks": ""
            },
            "type": "mesh3d"
           }
          ],
          "parcoords": [
           {
            "line": {
             "colorbar": {
              "outlinewidth": 0,
              "ticks": ""
             }
            },
            "type": "parcoords"
           }
          ],
          "pie": [
           {
            "automargin": true,
            "type": "pie"
           }
          ],
          "scatter": [
           {
            "fillpattern": {
             "fillmode": "overlay",
             "size": 10,
             "solidity": 0.2
            },
            "type": "scatter"
           }
          ],
          "scatter3d": [
           {
            "line": {
             "colorbar": {
              "outlinewidth": 0,
              "ticks": ""
             }
            },
            "marker": {
             "colorbar": {
              "outlinewidth": 0,
              "ticks": ""
             }
            },
            "type": "scatter3d"
           }
          ],
          "scattercarpet": [
           {
            "marker": {
             "colorbar": {
              "outlinewidth": 0,
              "ticks": ""
             }
            },
            "type": "scattercarpet"
           }
          ],
          "scattergeo": [
           {
            "marker": {
             "colorbar": {
              "outlinewidth": 0,
              "ticks": ""
             }
            },
            "type": "scattergeo"
           }
          ],
          "scattergl": [
           {
            "marker": {
             "colorbar": {
              "outlinewidth": 0,
              "ticks": ""
             }
            },
            "type": "scattergl"
           }
          ],
          "scattermapbox": [
           {
            "marker": {
             "colorbar": {
              "outlinewidth": 0,
              "ticks": ""
             }
            },
            "type": "scattermapbox"
           }
          ],
          "scatterpolar": [
           {
            "marker": {
             "colorbar": {
              "outlinewidth": 0,
              "ticks": ""
             }
            },
            "type": "scatterpolar"
           }
          ],
          "scatterpolargl": [
           {
            "marker": {
             "colorbar": {
              "outlinewidth": 0,
              "ticks": ""
             }
            },
            "type": "scatterpolargl"
           }
          ],
          "scatterternary": [
           {
            "marker": {
             "colorbar": {
              "outlinewidth": 0,
              "ticks": ""
             }
            },
            "type": "scatterternary"
           }
          ],
          "surface": [
           {
            "colorbar": {
             "outlinewidth": 0,
             "ticks": ""
            },
            "colorscale": [
             [
              0,
              "#0d0887"
             ],
             [
              0.1111111111111111,
              "#46039f"
             ],
             [
              0.2222222222222222,
              "#7201a8"
             ],
             [
              0.3333333333333333,
              "#9c179e"
             ],
             [
              0.4444444444444444,
              "#bd3786"
             ],
             [
              0.5555555555555556,
              "#d8576b"
             ],
             [
              0.6666666666666666,
              "#ed7953"
             ],
             [
              0.7777777777777778,
              "#fb9f3a"
             ],
             [
              0.8888888888888888,
              "#fdca26"
             ],
             [
              1,
              "#f0f921"
             ]
            ],
            "type": "surface"
           }
          ],
          "table": [
           {
            "cells": {
             "fill": {
              "color": "#EBF0F8"
             },
             "line": {
              "color": "white"
             }
            },
            "header": {
             "fill": {
              "color": "#C8D4E3"
             },
             "line": {
              "color": "white"
             }
            },
            "type": "table"
           }
          ]
         },
         "layout": {
          "annotationdefaults": {
           "arrowcolor": "#2a3f5f",
           "arrowhead": 0,
           "arrowwidth": 1
          },
          "autotypenumbers": "strict",
          "coloraxis": {
           "colorbar": {
            "outlinewidth": 0,
            "ticks": ""
           }
          },
          "colorscale": {
           "diverging": [
            [
             0,
             "#8e0152"
            ],
            [
             0.1,
             "#c51b7d"
            ],
            [
             0.2,
             "#de77ae"
            ],
            [
             0.3,
             "#f1b6da"
            ],
            [
             0.4,
             "#fde0ef"
            ],
            [
             0.5,
             "#f7f7f7"
            ],
            [
             0.6,
             "#e6f5d0"
            ],
            [
             0.7,
             "#b8e186"
            ],
            [
             0.8,
             "#7fbc41"
            ],
            [
             0.9,
             "#4d9221"
            ],
            [
             1,
             "#276419"
            ]
           ],
           "sequential": [
            [
             0,
             "#0d0887"
            ],
            [
             0.1111111111111111,
             "#46039f"
            ],
            [
             0.2222222222222222,
             "#7201a8"
            ],
            [
             0.3333333333333333,
             "#9c179e"
            ],
            [
             0.4444444444444444,
             "#bd3786"
            ],
            [
             0.5555555555555556,
             "#d8576b"
            ],
            [
             0.6666666666666666,
             "#ed7953"
            ],
            [
             0.7777777777777778,
             "#fb9f3a"
            ],
            [
             0.8888888888888888,
             "#fdca26"
            ],
            [
             1,
             "#f0f921"
            ]
           ],
           "sequentialminus": [
            [
             0,
             "#0d0887"
            ],
            [
             0.1111111111111111,
             "#46039f"
            ],
            [
             0.2222222222222222,
             "#7201a8"
            ],
            [
             0.3333333333333333,
             "#9c179e"
            ],
            [
             0.4444444444444444,
             "#bd3786"
            ],
            [
             0.5555555555555556,
             "#d8576b"
            ],
            [
             0.6666666666666666,
             "#ed7953"
            ],
            [
             0.7777777777777778,
             "#fb9f3a"
            ],
            [
             0.8888888888888888,
             "#fdca26"
            ],
            [
             1,
             "#f0f921"
            ]
           ]
          },
          "colorway": [
           "#636efa",
           "#EF553B",
           "#00cc96",
           "#ab63fa",
           "#FFA15A",
           "#19d3f3",
           "#FF6692",
           "#B6E880",
           "#FF97FF",
           "#FECB52"
          ],
          "font": {
           "color": "#2a3f5f"
          },
          "geo": {
           "bgcolor": "white",
           "lakecolor": "white",
           "landcolor": "#E5ECF6",
           "showlakes": true,
           "showland": true,
           "subunitcolor": "white"
          },
          "hoverlabel": {
           "align": "left"
          },
          "hovermode": "closest",
          "mapbox": {
           "style": "light"
          },
          "paper_bgcolor": "white",
          "plot_bgcolor": "#E5ECF6",
          "polar": {
           "angularaxis": {
            "gridcolor": "white",
            "linecolor": "white",
            "ticks": ""
           },
           "bgcolor": "#E5ECF6",
           "radialaxis": {
            "gridcolor": "white",
            "linecolor": "white",
            "ticks": ""
           }
          },
          "scene": {
           "xaxis": {
            "backgroundcolor": "#E5ECF6",
            "gridcolor": "white",
            "gridwidth": 2,
            "linecolor": "white",
            "showbackground": true,
            "ticks": "",
            "zerolinecolor": "white"
           },
           "yaxis": {
            "backgroundcolor": "#E5ECF6",
            "gridcolor": "white",
            "gridwidth": 2,
            "linecolor": "white",
            "showbackground": true,
            "ticks": "",
            "zerolinecolor": "white"
           },
           "zaxis": {
            "backgroundcolor": "#E5ECF6",
            "gridcolor": "white",
            "gridwidth": 2,
            "linecolor": "white",
            "showbackground": true,
            "ticks": "",
            "zerolinecolor": "white"
           }
          },
          "shapedefaults": {
           "line": {
            "color": "#2a3f5f"
           }
          },
          "ternary": {
           "aaxis": {
            "gridcolor": "white",
            "linecolor": "white",
            "ticks": ""
           },
           "baxis": {
            "gridcolor": "white",
            "linecolor": "white",
            "ticks": ""
           },
           "bgcolor": "#E5ECF6",
           "caxis": {
            "gridcolor": "white",
            "linecolor": "white",
            "ticks": ""
           }
          },
          "title": {
           "x": 0.05
          },
          "xaxis": {
           "automargin": true,
           "gridcolor": "white",
           "linecolor": "white",
           "ticks": "",
           "title": {
            "standoff": 15
           },
           "zerolinecolor": "white",
           "zerolinewidth": 2
          },
          "yaxis": {
           "automargin": true,
           "gridcolor": "white",
           "linecolor": "white",
           "ticks": "",
           "title": {
            "standoff": 15
           },
           "zerolinecolor": "white",
           "zerolinewidth": 2
          }
         }
        },
        "xaxis": {
         "anchor": "y",
         "domain": [
          0,
          1
         ],
         "title": {
          "text": "variable"
         }
        },
        "yaxis": {
         "anchor": "x",
         "domain": [
          0,
          1
         ],
         "title": {
          "text": "value"
         }
        }
       }
      }
     },
     "metadata": {},
     "output_type": "display_data"
    }
   ],
   "source": [
    "# Code Here, use boxplot\n",
    "fig=px.box(data_frame=capita)\n",
    "fig.update_traces(marker_color='teal')\n",
    "fig.show()"
   ]
  },
  {
   "cell_type": "code",
   "execution_count": 18,
   "id": "28a53d92-185b-49f4-ba38-73f6a1de877a",
   "metadata": {
    "id": "28a53d92-185b-49f4-ba38-73f6a1de877a",
    "outputId": "80f91125-146c-4280-c081-8ceb51fc8ea9"
   },
   "outputs": [
    {
     "data": {
      "application/vnd.plotly.v1+json": {
       "config": {
        "plotlyServerURL": "https://plot.ly"
       },
       "data": [
        {
         "alignmentgroup": "True",
         "box": {
          "visible": false
         },
         "hovertemplate": "variable=%{x}<br>value=%{y}<extra></extra>",
         "legendgroup": "",
         "marker": {
          "color": "teal"
         },
         "name": "",
         "offsetgroup": "",
         "orientation": "v",
         "scalegroup": "True",
         "showlegend": false,
         "type": "violin",
         "x": [
          "Gross national income per capita, Atlas method: $: 2016",
          "Gross national income per capita, Atlas method: $: 2016",
          "Gross national income per capita, Atlas method: $: 2016",
          "Gross national income per capita, Atlas method: $: 2016",
          "Gross national income per capita, Atlas method: $: 2016",
          "Gross national income per capita, Atlas method: $: 2016",
          "Gross national income per capita, Atlas method: $: 2016",
          "Gross national income per capita, Atlas method: $: 2016",
          "Gross national income per capita, Atlas method: $: 2016",
          "Gross national income per capita, Atlas method: $: 2016",
          "Gross national income per capita, Atlas method: $: 2016",
          "Gross national income per capita, Atlas method: $: 2016",
          "Gross national income per capita, Atlas method: $: 2016",
          "Gross national income per capita, Atlas method: $: 2016",
          "Gross national income per capita, Atlas method: $: 2016",
          "Gross national income per capita, Atlas method: $: 2016",
          "Gross national income per capita, Atlas method: $: 2016",
          "Gross national income per capita, Atlas method: $: 2016",
          "Gross national income per capita, Atlas method: $: 2016",
          "Gross national income per capita, Atlas method: $: 2016",
          "Gross national income per capita, Atlas method: $: 2016",
          "Gross national income per capita, Atlas method: $: 2016",
          "Gross national income per capita, Atlas method: $: 2016",
          "Gross national income per capita, Atlas method: $: 2016",
          "Gross national income per capita, Atlas method: $: 2016",
          "Gross national income per capita, Atlas method: $: 2016",
          "Gross national income per capita, Atlas method: $: 2016",
          "Gross national income per capita, Atlas method: $: 2016",
          "Gross national income per capita, Atlas method: $: 2016",
          "Gross national income per capita, Atlas method: $: 2016",
          "Gross national income per capita, Atlas method: $: 2016",
          "Gross national income per capita, Atlas method: $: 2016",
          "Gross national income per capita, Atlas method: $: 2016",
          "Gross national income per capita, Atlas method: $: 2016",
          "Gross national income per capita, Atlas method: $: 2016",
          "Gross national income per capita, Atlas method: $: 2016",
          "Gross national income per capita, Atlas method: $: 2016",
          "Gross national income per capita, Atlas method: $: 2016",
          "Gross national income per capita, Atlas method: $: 2016",
          "Gross national income per capita, Atlas method: $: 2016",
          "Gross national income per capita, Atlas method: $: 2016",
          "Gross national income per capita, Atlas method: $: 2016",
          "Gross national income per capita, Atlas method: $: 2016",
          "Gross national income per capita, Atlas method: $: 2016",
          "Gross national income per capita, Atlas method: $: 2016",
          "Gross national income per capita, Atlas method: $: 2016",
          "Gross national income per capita, Atlas method: $: 2016",
          "Gross national income per capita, Atlas method: $: 2016",
          "Gross national income per capita, Atlas method: $: 2016",
          "Gross national income per capita, Atlas method: $: 2016",
          "Gross national income per capita, Atlas method: $: 2016",
          "Gross national income per capita, Atlas method: $: 2016",
          "Gross national income per capita, Atlas method: $: 2016",
          "Gross national income per capita, Atlas method: $: 2016",
          "Gross national income per capita, Atlas method: $: 2016",
          "Gross national income per capita, Atlas method: $: 2016",
          "Gross national income per capita, Atlas method: $: 2016",
          "Gross national income per capita, Atlas method: $: 2016",
          "Gross national income per capita, Atlas method: $: 2016",
          "Gross national income per capita, Atlas method: $: 2016",
          "Gross national income per capita, Atlas method: $: 2016",
          "Gross national income per capita, Atlas method: $: 2016",
          "Gross national income per capita, Atlas method: $: 2016",
          "Gross national income per capita, Atlas method: $: 2016",
          "Gross national income per capita, Atlas method: $: 2016",
          "Gross national income per capita, Atlas method: $: 2016",
          "Gross national income per capita, Atlas method: $: 2016",
          "Gross national income per capita, Atlas method: $: 2016",
          "Gross national income per capita, Atlas method: $: 2016",
          "Gross national income per capita, Atlas method: $: 2016",
          "Gross national income per capita, Atlas method: $: 2016",
          "Gross national income per capita, Atlas method: $: 2016",
          "Gross national income per capita, Atlas method: $: 2016",
          "Gross national income per capita, Atlas method: $: 2016",
          "Gross national income per capita, Atlas method: $: 2016",
          "Gross national income per capita, Atlas method: $: 2016",
          "Gross national income per capita, Atlas method: $: 2016",
          "Gross national income per capita, Atlas method: $: 2016",
          "Gross national income per capita, Atlas method: $: 2016",
          "Gross national income per capita, Atlas method: $: 2016",
          "Gross national income per capita, Atlas method: $: 2016",
          "Gross national income per capita, Atlas method: $: 2016",
          "Gross national income per capita, Atlas method: $: 2016",
          "Gross national income per capita, Atlas method: $: 2016",
          "Gross national income per capita, Atlas method: $: 2016",
          "Gross national income per capita, Atlas method: $: 2016",
          "Gross national income per capita, Atlas method: $: 2016",
          "Gross national income per capita, Atlas method: $: 2016",
          "Gross national income per capita, Atlas method: $: 2016",
          "Gross national income per capita, Atlas method: $: 2016",
          "Gross national income per capita, Atlas method: $: 2016",
          "Gross national income per capita, Atlas method: $: 2016",
          "Gross national income per capita, Atlas method: $: 2016",
          "Gross national income per capita, Atlas method: $: 2016",
          "Gross national income per capita, Atlas method: $: 2016",
          "Gross national income per capita, Atlas method: $: 2016",
          "Gross national income per capita, Atlas method: $: 2016",
          "Gross national income per capita, Atlas method: $: 2016",
          "Gross national income per capita, Atlas method: $: 2016",
          "Gross national income per capita, Atlas method: $: 2016",
          "Gross national income per capita, Atlas method: $: 2016",
          "Gross national income per capita, Atlas method: $: 2016",
          "Gross national income per capita, Atlas method: $: 2016",
          "Gross national income per capita, Atlas method: $: 2016",
          "Gross national income per capita, Atlas method: $: 2016",
          "Gross national income per capita, Atlas method: $: 2016",
          "Gross national income per capita, Atlas method: $: 2016",
          "Gross national income per capita, Atlas method: $: 2016",
          "Gross national income per capita, Atlas method: $: 2016",
          "Gross national income per capita, Atlas method: $: 2016",
          "Gross national income per capita, Atlas method: $: 2016",
          "Gross national income per capita, Atlas method: $: 2016",
          "Gross national income per capita, Atlas method: $: 2016",
          "Gross national income per capita, Atlas method: $: 2016",
          "Gross national income per capita, Atlas method: $: 2016",
          "Gross national income per capita, Atlas method: $: 2016",
          "Gross national income per capita, Atlas method: $: 2016",
          "Gross national income per capita, Atlas method: $: 2016",
          "Gross national income per capita, Atlas method: $: 2016",
          "Gross national income per capita, Atlas method: $: 2016",
          "Gross national income per capita, Atlas method: $: 2016",
          "Gross national income per capita, Atlas method: $: 2016",
          "Gross national income per capita, Atlas method: $: 2016",
          "Gross national income per capita, Atlas method: $: 2016",
          "Gross national income per capita, Atlas method: $: 2016",
          "Gross national income per capita, Atlas method: $: 2016",
          "Gross national income per capita, Atlas method: $: 2016",
          "Gross national income per capita, Atlas method: $: 2016",
          "Gross national income per capita, Atlas method: $: 2016",
          "Gross national income per capita, Atlas method: $: 2016",
          "Gross national income per capita, Atlas method: $: 2016",
          "Gross national income per capita, Atlas method: $: 2016",
          "Gross national income per capita, Atlas method: $: 2016",
          "Gross national income per capita, Atlas method: $: 2016",
          "Gross national income per capita, Atlas method: $: 2016",
          "Gross national income per capita, Atlas method: $: 2016",
          "Gross national income per capita, Atlas method: $: 2016",
          "Gross national income per capita, Atlas method: $: 2016",
          "Gross national income per capita, Atlas method: $: 2016",
          "Gross national income per capita, Atlas method: $: 2016",
          "Gross national income per capita, Atlas method: $: 2016",
          "Gross national income per capita, Atlas method: $: 2016",
          "Gross national income per capita, Atlas method: $: 2016",
          "Gross national income per capita, Atlas method: $: 2016",
          "Gross national income per capita, Atlas method: $: 2016",
          "Gross national income per capita, Atlas method: $: 2016",
          "Gross national income per capita, Atlas method: $: 2016",
          "Gross national income per capita, Atlas method: $: 2016",
          "Gross national income per capita, Atlas method: $: 2016",
          "Gross national income per capita, Atlas method: $: 2016",
          "Gross national income per capita, Atlas method: $: 2016",
          "Gross national income per capita, Atlas method: $: 2016",
          "Gross national income per capita, Atlas method: $: 2016",
          "Gross national income per capita, Atlas method: $: 2016",
          "Gross national income per capita, Atlas method: $: 2016",
          "Gross national income per capita, Atlas method: $: 2016",
          "Gross national income per capita, Atlas method: $: 2016",
          "Gross national income per capita, Atlas method: $: 2016",
          "Gross national income per capita, Atlas method: $: 2016",
          "Gross national income per capita, Atlas method: $: 2016",
          "Gross national income per capita, Atlas method: $: 2016",
          "Gross national income per capita, Atlas method: $: 2016",
          "Gross national income per capita, Atlas method: $: 2016",
          "Gross national income per capita, Atlas method: $: 2016",
          "Gross national income per capita, Atlas method: $: 2016",
          "Gross national income per capita, Atlas method: $: 2016"
         ],
         "x0": " ",
         "xaxis": "x",
         "y": [
          4270,
          3440,
          820,
          6610,
          280,
          1200,
          370,
          720,
          760,
          null,
          6550,
          null,
          660,
          7210,
          1380,
          490,
          620,
          1380,
          1210,
          370,
          null,
          400,
          320,
          750,
          1120,
          9760,
          2850,
          480,
          4620,
          370,
          2450,
          700,
          1730,
          950,
          15410,
          490,
          null,
          5480,
          820,
          2140,
          2830,
          900,
          540,
          3690,
          660,
          1300,
          940,
          580,
          22750,
          1330,
          2510,
          1140,
          8260,
          1680,
          3400,
          5430,
          36190,
          38000,
          3920,
          8710,
          41680,
          7680,
          9850,
          7430,
          3550,
          730,
          18080,
          1510,
          3580,
          75660,
          9720,
          21750,
          51880,
          3780,
          1110,
          5640,
          11180,
          6670,
          40480,
          2220,
          2050,
          4250,
          null,
          3760,
          45230,
          4760,
          5600,
          41860,
          4880,
          7470,
          12110,
          23680,
          56730,
          17750,
          44730,
          38950,
          3810,
          43660,
          18960,
          12570,
          56990,
          52560,
          31590,
          14630,
          null,
          14770,
          76660,
          24140,
          2120,
          null,
          6970,
          46310,
          82330,
          12680,
          19850,
          9470,
          null,
          5280,
          21660,
          27520,
          54630,
          81240,
          2310,
          42390,
          13400,
          14830,
          4410,
          43660,
          10840,
          null,
          6750,
          6390,
          3920,
          8830,
          3790,
          780,
          2150,
          4660,
          9040,
          2050,
          12140,
          15680,
          54420,
          4840,
          2380,
          4450,
          10750,
          39070,
          12450,
          2160,
          4100,
          1880,
          4020,
          5090,
          3170,
          11960,
          3070,
          8840,
          13530,
          6320,
          5820,
          4250,
          4070,
          5950,
          7070,
          15230
         ],
         "y0": " ",
         "yaxis": "y"
        }
       ],
       "layout": {
        "legend": {
         "tracegroupgap": 0
        },
        "margin": {
         "t": 60
        },
        "template": {
         "data": {
          "bar": [
           {
            "error_x": {
             "color": "#2a3f5f"
            },
            "error_y": {
             "color": "#2a3f5f"
            },
            "marker": {
             "line": {
              "color": "#E5ECF6",
              "width": 0.5
             },
             "pattern": {
              "fillmode": "overlay",
              "size": 10,
              "solidity": 0.2
             }
            },
            "type": "bar"
           }
          ],
          "barpolar": [
           {
            "marker": {
             "line": {
              "color": "#E5ECF6",
              "width": 0.5
             },
             "pattern": {
              "fillmode": "overlay",
              "size": 10,
              "solidity": 0.2
             }
            },
            "type": "barpolar"
           }
          ],
          "carpet": [
           {
            "aaxis": {
             "endlinecolor": "#2a3f5f",
             "gridcolor": "white",
             "linecolor": "white",
             "minorgridcolor": "white",
             "startlinecolor": "#2a3f5f"
            },
            "baxis": {
             "endlinecolor": "#2a3f5f",
             "gridcolor": "white",
             "linecolor": "white",
             "minorgridcolor": "white",
             "startlinecolor": "#2a3f5f"
            },
            "type": "carpet"
           }
          ],
          "choropleth": [
           {
            "colorbar": {
             "outlinewidth": 0,
             "ticks": ""
            },
            "type": "choropleth"
           }
          ],
          "contour": [
           {
            "colorbar": {
             "outlinewidth": 0,
             "ticks": ""
            },
            "colorscale": [
             [
              0,
              "#0d0887"
             ],
             [
              0.1111111111111111,
              "#46039f"
             ],
             [
              0.2222222222222222,
              "#7201a8"
             ],
             [
              0.3333333333333333,
              "#9c179e"
             ],
             [
              0.4444444444444444,
              "#bd3786"
             ],
             [
              0.5555555555555556,
              "#d8576b"
             ],
             [
              0.6666666666666666,
              "#ed7953"
             ],
             [
              0.7777777777777778,
              "#fb9f3a"
             ],
             [
              0.8888888888888888,
              "#fdca26"
             ],
             [
              1,
              "#f0f921"
             ]
            ],
            "type": "contour"
           }
          ],
          "contourcarpet": [
           {
            "colorbar": {
             "outlinewidth": 0,
             "ticks": ""
            },
            "type": "contourcarpet"
           }
          ],
          "heatmap": [
           {
            "colorbar": {
             "outlinewidth": 0,
             "ticks": ""
            },
            "colorscale": [
             [
              0,
              "#0d0887"
             ],
             [
              0.1111111111111111,
              "#46039f"
             ],
             [
              0.2222222222222222,
              "#7201a8"
             ],
             [
              0.3333333333333333,
              "#9c179e"
             ],
             [
              0.4444444444444444,
              "#bd3786"
             ],
             [
              0.5555555555555556,
              "#d8576b"
             ],
             [
              0.6666666666666666,
              "#ed7953"
             ],
             [
              0.7777777777777778,
              "#fb9f3a"
             ],
             [
              0.8888888888888888,
              "#fdca26"
             ],
             [
              1,
              "#f0f921"
             ]
            ],
            "type": "heatmap"
           }
          ],
          "heatmapgl": [
           {
            "colorbar": {
             "outlinewidth": 0,
             "ticks": ""
            },
            "colorscale": [
             [
              0,
              "#0d0887"
             ],
             [
              0.1111111111111111,
              "#46039f"
             ],
             [
              0.2222222222222222,
              "#7201a8"
             ],
             [
              0.3333333333333333,
              "#9c179e"
             ],
             [
              0.4444444444444444,
              "#bd3786"
             ],
             [
              0.5555555555555556,
              "#d8576b"
             ],
             [
              0.6666666666666666,
              "#ed7953"
             ],
             [
              0.7777777777777778,
              "#fb9f3a"
             ],
             [
              0.8888888888888888,
              "#fdca26"
             ],
             [
              1,
              "#f0f921"
             ]
            ],
            "type": "heatmapgl"
           }
          ],
          "histogram": [
           {
            "marker": {
             "pattern": {
              "fillmode": "overlay",
              "size": 10,
              "solidity": 0.2
             }
            },
            "type": "histogram"
           }
          ],
          "histogram2d": [
           {
            "colorbar": {
             "outlinewidth": 0,
             "ticks": ""
            },
            "colorscale": [
             [
              0,
              "#0d0887"
             ],
             [
              0.1111111111111111,
              "#46039f"
             ],
             [
              0.2222222222222222,
              "#7201a8"
             ],
             [
              0.3333333333333333,
              "#9c179e"
             ],
             [
              0.4444444444444444,
              "#bd3786"
             ],
             [
              0.5555555555555556,
              "#d8576b"
             ],
             [
              0.6666666666666666,
              "#ed7953"
             ],
             [
              0.7777777777777778,
              "#fb9f3a"
             ],
             [
              0.8888888888888888,
              "#fdca26"
             ],
             [
              1,
              "#f0f921"
             ]
            ],
            "type": "histogram2d"
           }
          ],
          "histogram2dcontour": [
           {
            "colorbar": {
             "outlinewidth": 0,
             "ticks": ""
            },
            "colorscale": [
             [
              0,
              "#0d0887"
             ],
             [
              0.1111111111111111,
              "#46039f"
             ],
             [
              0.2222222222222222,
              "#7201a8"
             ],
             [
              0.3333333333333333,
              "#9c179e"
             ],
             [
              0.4444444444444444,
              "#bd3786"
             ],
             [
              0.5555555555555556,
              "#d8576b"
             ],
             [
              0.6666666666666666,
              "#ed7953"
             ],
             [
              0.7777777777777778,
              "#fb9f3a"
             ],
             [
              0.8888888888888888,
              "#fdca26"
             ],
             [
              1,
              "#f0f921"
             ]
            ],
            "type": "histogram2dcontour"
           }
          ],
          "mesh3d": [
           {
            "colorbar": {
             "outlinewidth": 0,
             "ticks": ""
            },
            "type": "mesh3d"
           }
          ],
          "parcoords": [
           {
            "line": {
             "colorbar": {
              "outlinewidth": 0,
              "ticks": ""
             }
            },
            "type": "parcoords"
           }
          ],
          "pie": [
           {
            "automargin": true,
            "type": "pie"
           }
          ],
          "scatter": [
           {
            "fillpattern": {
             "fillmode": "overlay",
             "size": 10,
             "solidity": 0.2
            },
            "type": "scatter"
           }
          ],
          "scatter3d": [
           {
            "line": {
             "colorbar": {
              "outlinewidth": 0,
              "ticks": ""
             }
            },
            "marker": {
             "colorbar": {
              "outlinewidth": 0,
              "ticks": ""
             }
            },
            "type": "scatter3d"
           }
          ],
          "scattercarpet": [
           {
            "marker": {
             "colorbar": {
              "outlinewidth": 0,
              "ticks": ""
             }
            },
            "type": "scattercarpet"
           }
          ],
          "scattergeo": [
           {
            "marker": {
             "colorbar": {
              "outlinewidth": 0,
              "ticks": ""
             }
            },
            "type": "scattergeo"
           }
          ],
          "scattergl": [
           {
            "marker": {
             "colorbar": {
              "outlinewidth": 0,
              "ticks": ""
             }
            },
            "type": "scattergl"
           }
          ],
          "scattermapbox": [
           {
            "marker": {
             "colorbar": {
              "outlinewidth": 0,
              "ticks": ""
             }
            },
            "type": "scattermapbox"
           }
          ],
          "scatterpolar": [
           {
            "marker": {
             "colorbar": {
              "outlinewidth": 0,
              "ticks": ""
             }
            },
            "type": "scatterpolar"
           }
          ],
          "scatterpolargl": [
           {
            "marker": {
             "colorbar": {
              "outlinewidth": 0,
              "ticks": ""
             }
            },
            "type": "scatterpolargl"
           }
          ],
          "scatterternary": [
           {
            "marker": {
             "colorbar": {
              "outlinewidth": 0,
              "ticks": ""
             }
            },
            "type": "scatterternary"
           }
          ],
          "surface": [
           {
            "colorbar": {
             "outlinewidth": 0,
             "ticks": ""
            },
            "colorscale": [
             [
              0,
              "#0d0887"
             ],
             [
              0.1111111111111111,
              "#46039f"
             ],
             [
              0.2222222222222222,
              "#7201a8"
             ],
             [
              0.3333333333333333,
              "#9c179e"
             ],
             [
              0.4444444444444444,
              "#bd3786"
             ],
             [
              0.5555555555555556,
              "#d8576b"
             ],
             [
              0.6666666666666666,
              "#ed7953"
             ],
             [
              0.7777777777777778,
              "#fb9f3a"
             ],
             [
              0.8888888888888888,
              "#fdca26"
             ],
             [
              1,
              "#f0f921"
             ]
            ],
            "type": "surface"
           }
          ],
          "table": [
           {
            "cells": {
             "fill": {
              "color": "#EBF0F8"
             },
             "line": {
              "color": "white"
             }
            },
            "header": {
             "fill": {
              "color": "#C8D4E3"
             },
             "line": {
              "color": "white"
             }
            },
            "type": "table"
           }
          ]
         },
         "layout": {
          "annotationdefaults": {
           "arrowcolor": "#2a3f5f",
           "arrowhead": 0,
           "arrowwidth": 1
          },
          "autotypenumbers": "strict",
          "coloraxis": {
           "colorbar": {
            "outlinewidth": 0,
            "ticks": ""
           }
          },
          "colorscale": {
           "diverging": [
            [
             0,
             "#8e0152"
            ],
            [
             0.1,
             "#c51b7d"
            ],
            [
             0.2,
             "#de77ae"
            ],
            [
             0.3,
             "#f1b6da"
            ],
            [
             0.4,
             "#fde0ef"
            ],
            [
             0.5,
             "#f7f7f7"
            ],
            [
             0.6,
             "#e6f5d0"
            ],
            [
             0.7,
             "#b8e186"
            ],
            [
             0.8,
             "#7fbc41"
            ],
            [
             0.9,
             "#4d9221"
            ],
            [
             1,
             "#276419"
            ]
           ],
           "sequential": [
            [
             0,
             "#0d0887"
            ],
            [
             0.1111111111111111,
             "#46039f"
            ],
            [
             0.2222222222222222,
             "#7201a8"
            ],
            [
             0.3333333333333333,
             "#9c179e"
            ],
            [
             0.4444444444444444,
             "#bd3786"
            ],
            [
             0.5555555555555556,
             "#d8576b"
            ],
            [
             0.6666666666666666,
             "#ed7953"
            ],
            [
             0.7777777777777778,
             "#fb9f3a"
            ],
            [
             0.8888888888888888,
             "#fdca26"
            ],
            [
             1,
             "#f0f921"
            ]
           ],
           "sequentialminus": [
            [
             0,
             "#0d0887"
            ],
            [
             0.1111111111111111,
             "#46039f"
            ],
            [
             0.2222222222222222,
             "#7201a8"
            ],
            [
             0.3333333333333333,
             "#9c179e"
            ],
            [
             0.4444444444444444,
             "#bd3786"
            ],
            [
             0.5555555555555556,
             "#d8576b"
            ],
            [
             0.6666666666666666,
             "#ed7953"
            ],
            [
             0.7777777777777778,
             "#fb9f3a"
            ],
            [
             0.8888888888888888,
             "#fdca26"
            ],
            [
             1,
             "#f0f921"
            ]
           ]
          },
          "colorway": [
           "#636efa",
           "#EF553B",
           "#00cc96",
           "#ab63fa",
           "#FFA15A",
           "#19d3f3",
           "#FF6692",
           "#B6E880",
           "#FF97FF",
           "#FECB52"
          ],
          "font": {
           "color": "#2a3f5f"
          },
          "geo": {
           "bgcolor": "white",
           "lakecolor": "white",
           "landcolor": "#E5ECF6",
           "showlakes": true,
           "showland": true,
           "subunitcolor": "white"
          },
          "hoverlabel": {
           "align": "left"
          },
          "hovermode": "closest",
          "mapbox": {
           "style": "light"
          },
          "paper_bgcolor": "white",
          "plot_bgcolor": "#E5ECF6",
          "polar": {
           "angularaxis": {
            "gridcolor": "white",
            "linecolor": "white",
            "ticks": ""
           },
           "bgcolor": "#E5ECF6",
           "radialaxis": {
            "gridcolor": "white",
            "linecolor": "white",
            "ticks": ""
           }
          },
          "scene": {
           "xaxis": {
            "backgroundcolor": "#E5ECF6",
            "gridcolor": "white",
            "gridwidth": 2,
            "linecolor": "white",
            "showbackground": true,
            "ticks": "",
            "zerolinecolor": "white"
           },
           "yaxis": {
            "backgroundcolor": "#E5ECF6",
            "gridcolor": "white",
            "gridwidth": 2,
            "linecolor": "white",
            "showbackground": true,
            "ticks": "",
            "zerolinecolor": "white"
           },
           "zaxis": {
            "backgroundcolor": "#E5ECF6",
            "gridcolor": "white",
            "gridwidth": 2,
            "linecolor": "white",
            "showbackground": true,
            "ticks": "",
            "zerolinecolor": "white"
           }
          },
          "shapedefaults": {
           "line": {
            "color": "#2a3f5f"
           }
          },
          "ternary": {
           "aaxis": {
            "gridcolor": "white",
            "linecolor": "white",
            "ticks": ""
           },
           "baxis": {
            "gridcolor": "white",
            "linecolor": "white",
            "ticks": ""
           },
           "bgcolor": "#E5ECF6",
           "caxis": {
            "gridcolor": "white",
            "linecolor": "white",
            "ticks": ""
           }
          },
          "title": {
           "x": 0.05
          },
          "xaxis": {
           "automargin": true,
           "gridcolor": "white",
           "linecolor": "white",
           "ticks": "",
           "title": {
            "standoff": 15
           },
           "zerolinecolor": "white",
           "zerolinewidth": 2
          },
          "yaxis": {
           "automargin": true,
           "gridcolor": "white",
           "linecolor": "white",
           "ticks": "",
           "title": {
            "standoff": 15
           },
           "zerolinecolor": "white",
           "zerolinewidth": 2
          }
         }
        },
        "violinmode": "group",
        "xaxis": {
         "anchor": "y",
         "domain": [
          0,
          1
         ],
         "title": {
          "text": "variable"
         }
        },
        "yaxis": {
         "anchor": "x",
         "domain": [
          0,
          1
         ],
         "title": {
          "text": "value"
         }
        }
       }
      }
     },
     "metadata": {},
     "output_type": "display_data"
    }
   ],
   "source": [
    "# Code Here, Use voilinplot\n",
    "fig=px.violin(capita)\n",
    "fig.update_traces(marker_color='teal')\n",
    "fig.show()"
   ]
  },
  {
   "cell_type": "markdown",
   "id": "83b839f9-184d-40bd-86cd-1879e01198bd",
   "metadata": {
    "id": "83b839f9-184d-40bd-86cd-1879e01198bd"
   },
   "source": [
    "A quartile represents a 25% portion of the data. We say that:\n",
    "* The first quartile (Q1) repesents the 25th percentile – 25% of the data lies below the first quartile\n",
    "* The second quartile (Q2) represents the 50th percentile, also known as the median – 50% of the data lies below the second quartile\n",
    "* The third quartile (Q3) represents the 75th percentile – 75% of the data lies below the third quartile.\n",
    "\n",
    "This means that the middle 50% of the data lies *between* the first and third quartiles. This is demonstrated in the histogram below. The three quartiles are marked with red vertical bars."
   ]
  },
  {
   "cell_type": "code",
   "execution_count": 19,
   "id": "f53756af",
   "metadata": {},
   "outputs": [
    {
     "data": {
      "application/vnd.plotly.v1+json": {
       "config": {
        "plotlyServerURL": "https://plot.ly"
       },
       "data": [
        {
         "alignmentgroup": "True",
         "bingroup": "x",
         "hovertemplate": "category=In the middle 50%<br>Log of Gross national income per capita (Atlas method, $): 2016=%{x}<br>count=%{y}<extra></extra>",
         "legendgroup": "In the middle 50%",
         "marker": {
          "color": "skyblue",
          "pattern": {
           "shape": ""
          }
         },
         "name": "In the middle 50%",
         "nbinsx": 30,
         "offsetgroup": "In the middle 50%",
         "orientation": "v",
         "showlegend": true,
         "type": "histogram",
         "x": [
          8.359603270841466,
          8.14351740579748,
          8.796490207333578,
          8.787372988731876,
          8.88336291691676,
          9.186150133174966,
          7.955425088912672,
          8.438366410870266,
          7.804251383528112,
          8.609042845046117,
          7.669028288589683,
          7.9483852851118995,
          8.213652703029998,
          7.828436359157585,
          9.019300924562506,
          8.131824785007195,
          8.599878558034845,
          8.27410200229233,
          9.072341873818893,
          8.946505025998682,
          9.19532825185568,
          8.91341571815747,
          8.174984532943087,
          8.183397369998433,
          9.18204377282107,
          8.237743803890933,
          8.637816633739977,
          9.321971188147367,
          8.805525052709516,
          7.7057128238944275,
          7.62608275807238,
          8.35490952835879,
          8.232440158470336,
          8.46821300919452,
          8.630700432209832,
          8.493105395887147,
          8.918784137975802,
          9.401869409521051,
          8.24564690087386,
          9.43914785291483,
          9.590897844378162,
          7.659642954564682,
          8.849513965486398,
          9.447860089234899,
          9.155989777226102,
          8.571870752706934,
          7.745435610274381,
          9.503084610020228,
          8.39185670010494,
          9.291090521661292,
          8.81744592104187,
          8.762646029650282,
          8.27410200229233,
          9.086023537468803,
          8.240385115516334,
          7.67368812926773,
          8.446985296372741,
          9.109525066737367,
          7.62608275807238,
          9.404343433543975,
          8.484876589939695,
          7.7752758464868625,
          8.400884069015854,
          9.282754052485227,
          9.429556219952412,
          7.6783263565068856,
          8.31898612539206,
          8.299285906897275,
          8.535229553902337,
          8.061802274538348,
          9.389406636049465,
          8.029758520440822,
          9.087155271405804,
          9.512738628263644,
          8.751632702472298,
          8.669227347271736,
          8.35490952835879,
          8.31164394850298,
          8.691314551644853,
          8.863757191604241
         ],
         "xaxis": "x",
         "yaxis": "y"
        },
        {
         "alignmentgroup": "True",
         "bingroup": "x",
         "hovertemplate": "category=Outside of the middle 50%<br>Log of Gross national income per capita (Atlas method, $): 2016=%{x}<br>count=%{y}<extra></extra>",
         "legendgroup": "Outside of the middle 50%",
         "marker": {
          "color": "sandybrown",
          "pattern": {
           "shape": ""
          }
         },
         "name": "Outside of the middle 50%",
         "nbinsx": 30,
         "offsetgroup": "Outside of the middle 50%",
         "orientation": "v",
         "showlegend": true,
         "type": "histogram",
         "x": [
          6.710523109452428,
          5.638354669333745,
          7.0909098220799835,
          5.916202062607435,
          6.580639137284949,
          6.634633357861686,
          null,
          null,
          6.493753839851686,
          7.2305631534092925,
          6.19644412779452,
          6.431331081933479,
          7.2305631534092925,
          7.099201743553092,
          5.916202062607435,
          null,
          5.993961427306569,
          5.771441123130016,
          6.621405651764134,
          7.02197642307216,
          6.175867270105761,
          5.916202062607435,
          6.55250788703459,
          7.456454555176209,
          6.85751406254539,
          9.642836819135377,
          6.19644412779452,
          null,
          6.710523109452428,
          6.803505257608338,
          6.293419278846481,
          6.493753839851686,
          7.170888478512505,
          6.846943139585379,
          6.364750756851911,
          10.032364379457015,
          7.193685818395112,
          7.039660349862076,
          7.427144133408616,
          10.49656574811856,
          10.545367754151743,
          10.637800668461894,
          6.594413459749778,
          9.802616942151154,
          7.32052696227274,
          11.234018115123202,
          9.987415012471414,
          10.856707913495192,
          7.01301578963963,
          10.608588007213532,
          null,
          10.719537971447028,
          10.642109884868974,
          10.072428317836021,
          10.946076077522912,
          9.784197131344804,
          10.70842205253738,
          10.570059724910275,
          10.684210534101828,
          9.850139517034204,
          10.950648639613158,
          10.869729678852693,
          10.360627548882315,
          null,
          9.6004210780406,
          11.24714838346204,
          10.091666918814242,
          null,
          10.74313479284995,
          11.318502986459444,
          9.89600966268017,
          null,
          9.983268687540978,
          10.222704628596402,
          10.908356766182873,
          11.30517532482585,
          10.654691354537883,
          9.604474863741963,
          10.684210534101828,
          null,
          6.660575149839686,
          9.660205067381032,
          10.904505387765616,
          10.573135782807311,
          7.53955882930103,
          9.631088103615504
         ],
         "xaxis": "x",
         "yaxis": "y"
        }
       ],
       "layout": {
        "barmode": "relative",
        "legend": {
         "title": {
          "text": "category"
         },
         "tracegroupgap": 0
        },
        "template": {
         "data": {
          "bar": [
           {
            "error_x": {
             "color": "#2a3f5f"
            },
            "error_y": {
             "color": "#2a3f5f"
            },
            "marker": {
             "line": {
              "color": "#E5ECF6",
              "width": 0.5
             },
             "pattern": {
              "fillmode": "overlay",
              "size": 10,
              "solidity": 0.2
             }
            },
            "type": "bar"
           }
          ],
          "barpolar": [
           {
            "marker": {
             "line": {
              "color": "#E5ECF6",
              "width": 0.5
             },
             "pattern": {
              "fillmode": "overlay",
              "size": 10,
              "solidity": 0.2
             }
            },
            "type": "barpolar"
           }
          ],
          "carpet": [
           {
            "aaxis": {
             "endlinecolor": "#2a3f5f",
             "gridcolor": "white",
             "linecolor": "white",
             "minorgridcolor": "white",
             "startlinecolor": "#2a3f5f"
            },
            "baxis": {
             "endlinecolor": "#2a3f5f",
             "gridcolor": "white",
             "linecolor": "white",
             "minorgridcolor": "white",
             "startlinecolor": "#2a3f5f"
            },
            "type": "carpet"
           }
          ],
          "choropleth": [
           {
            "colorbar": {
             "outlinewidth": 0,
             "ticks": ""
            },
            "type": "choropleth"
           }
          ],
          "contour": [
           {
            "colorbar": {
             "outlinewidth": 0,
             "ticks": ""
            },
            "colorscale": [
             [
              0,
              "#0d0887"
             ],
             [
              0.1111111111111111,
              "#46039f"
             ],
             [
              0.2222222222222222,
              "#7201a8"
             ],
             [
              0.3333333333333333,
              "#9c179e"
             ],
             [
              0.4444444444444444,
              "#bd3786"
             ],
             [
              0.5555555555555556,
              "#d8576b"
             ],
             [
              0.6666666666666666,
              "#ed7953"
             ],
             [
              0.7777777777777778,
              "#fb9f3a"
             ],
             [
              0.8888888888888888,
              "#fdca26"
             ],
             [
              1,
              "#f0f921"
             ]
            ],
            "type": "contour"
           }
          ],
          "contourcarpet": [
           {
            "colorbar": {
             "outlinewidth": 0,
             "ticks": ""
            },
            "type": "contourcarpet"
           }
          ],
          "heatmap": [
           {
            "colorbar": {
             "outlinewidth": 0,
             "ticks": ""
            },
            "colorscale": [
             [
              0,
              "#0d0887"
             ],
             [
              0.1111111111111111,
              "#46039f"
             ],
             [
              0.2222222222222222,
              "#7201a8"
             ],
             [
              0.3333333333333333,
              "#9c179e"
             ],
             [
              0.4444444444444444,
              "#bd3786"
             ],
             [
              0.5555555555555556,
              "#d8576b"
             ],
             [
              0.6666666666666666,
              "#ed7953"
             ],
             [
              0.7777777777777778,
              "#fb9f3a"
             ],
             [
              0.8888888888888888,
              "#fdca26"
             ],
             [
              1,
              "#f0f921"
             ]
            ],
            "type": "heatmap"
           }
          ],
          "heatmapgl": [
           {
            "colorbar": {
             "outlinewidth": 0,
             "ticks": ""
            },
            "colorscale": [
             [
              0,
              "#0d0887"
             ],
             [
              0.1111111111111111,
              "#46039f"
             ],
             [
              0.2222222222222222,
              "#7201a8"
             ],
             [
              0.3333333333333333,
              "#9c179e"
             ],
             [
              0.4444444444444444,
              "#bd3786"
             ],
             [
              0.5555555555555556,
              "#d8576b"
             ],
             [
              0.6666666666666666,
              "#ed7953"
             ],
             [
              0.7777777777777778,
              "#fb9f3a"
             ],
             [
              0.8888888888888888,
              "#fdca26"
             ],
             [
              1,
              "#f0f921"
             ]
            ],
            "type": "heatmapgl"
           }
          ],
          "histogram": [
           {
            "marker": {
             "pattern": {
              "fillmode": "overlay",
              "size": 10,
              "solidity": 0.2
             }
            },
            "type": "histogram"
           }
          ],
          "histogram2d": [
           {
            "colorbar": {
             "outlinewidth": 0,
             "ticks": ""
            },
            "colorscale": [
             [
              0,
              "#0d0887"
             ],
             [
              0.1111111111111111,
              "#46039f"
             ],
             [
              0.2222222222222222,
              "#7201a8"
             ],
             [
              0.3333333333333333,
              "#9c179e"
             ],
             [
              0.4444444444444444,
              "#bd3786"
             ],
             [
              0.5555555555555556,
              "#d8576b"
             ],
             [
              0.6666666666666666,
              "#ed7953"
             ],
             [
              0.7777777777777778,
              "#fb9f3a"
             ],
             [
              0.8888888888888888,
              "#fdca26"
             ],
             [
              1,
              "#f0f921"
             ]
            ],
            "type": "histogram2d"
           }
          ],
          "histogram2dcontour": [
           {
            "colorbar": {
             "outlinewidth": 0,
             "ticks": ""
            },
            "colorscale": [
             [
              0,
              "#0d0887"
             ],
             [
              0.1111111111111111,
              "#46039f"
             ],
             [
              0.2222222222222222,
              "#7201a8"
             ],
             [
              0.3333333333333333,
              "#9c179e"
             ],
             [
              0.4444444444444444,
              "#bd3786"
             ],
             [
              0.5555555555555556,
              "#d8576b"
             ],
             [
              0.6666666666666666,
              "#ed7953"
             ],
             [
              0.7777777777777778,
              "#fb9f3a"
             ],
             [
              0.8888888888888888,
              "#fdca26"
             ],
             [
              1,
              "#f0f921"
             ]
            ],
            "type": "histogram2dcontour"
           }
          ],
          "mesh3d": [
           {
            "colorbar": {
             "outlinewidth": 0,
             "ticks": ""
            },
            "type": "mesh3d"
           }
          ],
          "parcoords": [
           {
            "line": {
             "colorbar": {
              "outlinewidth": 0,
              "ticks": ""
             }
            },
            "type": "parcoords"
           }
          ],
          "pie": [
           {
            "automargin": true,
            "type": "pie"
           }
          ],
          "scatter": [
           {
            "fillpattern": {
             "fillmode": "overlay",
             "size": 10,
             "solidity": 0.2
            },
            "type": "scatter"
           }
          ],
          "scatter3d": [
           {
            "line": {
             "colorbar": {
              "outlinewidth": 0,
              "ticks": ""
             }
            },
            "marker": {
             "colorbar": {
              "outlinewidth": 0,
              "ticks": ""
             }
            },
            "type": "scatter3d"
           }
          ],
          "scattercarpet": [
           {
            "marker": {
             "colorbar": {
              "outlinewidth": 0,
              "ticks": ""
             }
            },
            "type": "scattercarpet"
           }
          ],
          "scattergeo": [
           {
            "marker": {
             "colorbar": {
              "outlinewidth": 0,
              "ticks": ""
             }
            },
            "type": "scattergeo"
           }
          ],
          "scattergl": [
           {
            "marker": {
             "colorbar": {
              "outlinewidth": 0,
              "ticks": ""
             }
            },
            "type": "scattergl"
           }
          ],
          "scattermapbox": [
           {
            "marker": {
             "colorbar": {
              "outlinewidth": 0,
              "ticks": ""
             }
            },
            "type": "scattermapbox"
           }
          ],
          "scatterpolar": [
           {
            "marker": {
             "colorbar": {
              "outlinewidth": 0,
              "ticks": ""
             }
            },
            "type": "scatterpolar"
           }
          ],
          "scatterpolargl": [
           {
            "marker": {
             "colorbar": {
              "outlinewidth": 0,
              "ticks": ""
             }
            },
            "type": "scatterpolargl"
           }
          ],
          "scatterternary": [
           {
            "marker": {
             "colorbar": {
              "outlinewidth": 0,
              "ticks": ""
             }
            },
            "type": "scatterternary"
           }
          ],
          "surface": [
           {
            "colorbar": {
             "outlinewidth": 0,
             "ticks": ""
            },
            "colorscale": [
             [
              0,
              "#0d0887"
             ],
             [
              0.1111111111111111,
              "#46039f"
             ],
             [
              0.2222222222222222,
              "#7201a8"
             ],
             [
              0.3333333333333333,
              "#9c179e"
             ],
             [
              0.4444444444444444,
              "#bd3786"
             ],
             [
              0.5555555555555556,
              "#d8576b"
             ],
             [
              0.6666666666666666,
              "#ed7953"
             ],
             [
              0.7777777777777778,
              "#fb9f3a"
             ],
             [
              0.8888888888888888,
              "#fdca26"
             ],
             [
              1,
              "#f0f921"
             ]
            ],
            "type": "surface"
           }
          ],
          "table": [
           {
            "cells": {
             "fill": {
              "color": "#EBF0F8"
             },
             "line": {
              "color": "white"
             }
            },
            "header": {
             "fill": {
              "color": "#C8D4E3"
             },
             "line": {
              "color": "white"
             }
            },
            "type": "table"
           }
          ]
         },
         "layout": {
          "annotationdefaults": {
           "arrowcolor": "#2a3f5f",
           "arrowhead": 0,
           "arrowwidth": 1
          },
          "autotypenumbers": "strict",
          "coloraxis": {
           "colorbar": {
            "outlinewidth": 0,
            "ticks": ""
           }
          },
          "colorscale": {
           "diverging": [
            [
             0,
             "#8e0152"
            ],
            [
             0.1,
             "#c51b7d"
            ],
            [
             0.2,
             "#de77ae"
            ],
            [
             0.3,
             "#f1b6da"
            ],
            [
             0.4,
             "#fde0ef"
            ],
            [
             0.5,
             "#f7f7f7"
            ],
            [
             0.6,
             "#e6f5d0"
            ],
            [
             0.7,
             "#b8e186"
            ],
            [
             0.8,
             "#7fbc41"
            ],
            [
             0.9,
             "#4d9221"
            ],
            [
             1,
             "#276419"
            ]
           ],
           "sequential": [
            [
             0,
             "#0d0887"
            ],
            [
             0.1111111111111111,
             "#46039f"
            ],
            [
             0.2222222222222222,
             "#7201a8"
            ],
            [
             0.3333333333333333,
             "#9c179e"
            ],
            [
             0.4444444444444444,
             "#bd3786"
            ],
            [
             0.5555555555555556,
             "#d8576b"
            ],
            [
             0.6666666666666666,
             "#ed7953"
            ],
            [
             0.7777777777777778,
             "#fb9f3a"
            ],
            [
             0.8888888888888888,
             "#fdca26"
            ],
            [
             1,
             "#f0f921"
            ]
           ],
           "sequentialminus": [
            [
             0,
             "#0d0887"
            ],
            [
             0.1111111111111111,
             "#46039f"
            ],
            [
             0.2222222222222222,
             "#7201a8"
            ],
            [
             0.3333333333333333,
             "#9c179e"
            ],
            [
             0.4444444444444444,
             "#bd3786"
            ],
            [
             0.5555555555555556,
             "#d8576b"
            ],
            [
             0.6666666666666666,
             "#ed7953"
            ],
            [
             0.7777777777777778,
             "#fb9f3a"
            ],
            [
             0.8888888888888888,
             "#fdca26"
            ],
            [
             1,
             "#f0f921"
            ]
           ]
          },
          "colorway": [
           "#636efa",
           "#EF553B",
           "#00cc96",
           "#ab63fa",
           "#FFA15A",
           "#19d3f3",
           "#FF6692",
           "#B6E880",
           "#FF97FF",
           "#FECB52"
          ],
          "font": {
           "color": "#2a3f5f"
          },
          "geo": {
           "bgcolor": "white",
           "lakecolor": "white",
           "landcolor": "#E5ECF6",
           "showlakes": true,
           "showland": true,
           "subunitcolor": "white"
          },
          "hoverlabel": {
           "align": "left"
          },
          "hovermode": "closest",
          "mapbox": {
           "style": "light"
          },
          "paper_bgcolor": "white",
          "plot_bgcolor": "#E5ECF6",
          "polar": {
           "angularaxis": {
            "gridcolor": "white",
            "linecolor": "white",
            "ticks": ""
           },
           "bgcolor": "#E5ECF6",
           "radialaxis": {
            "gridcolor": "white",
            "linecolor": "white",
            "ticks": ""
           }
          },
          "scene": {
           "xaxis": {
            "backgroundcolor": "#E5ECF6",
            "gridcolor": "white",
            "gridwidth": 2,
            "linecolor": "white",
            "showbackground": true,
            "ticks": "",
            "zerolinecolor": "white"
           },
           "yaxis": {
            "backgroundcolor": "#E5ECF6",
            "gridcolor": "white",
            "gridwidth": 2,
            "linecolor": "white",
            "showbackground": true,
            "ticks": "",
            "zerolinecolor": "white"
           },
           "zaxis": {
            "backgroundcolor": "#E5ECF6",
            "gridcolor": "white",
            "gridwidth": 2,
            "linecolor": "white",
            "showbackground": true,
            "ticks": "",
            "zerolinecolor": "white"
           }
          },
          "shapedefaults": {
           "line": {
            "color": "#2a3f5f"
           }
          },
          "ternary": {
           "aaxis": {
            "gridcolor": "white",
            "linecolor": "white",
            "ticks": ""
           },
           "baxis": {
            "gridcolor": "white",
            "linecolor": "white",
            "ticks": ""
           },
           "bgcolor": "#E5ECF6",
           "caxis": {
            "gridcolor": "white",
            "linecolor": "white",
            "ticks": ""
           }
          },
          "title": {
           "x": 0.05
          },
          "xaxis": {
           "automargin": true,
           "gridcolor": "white",
           "linecolor": "white",
           "ticks": "",
           "title": {
            "standoff": 15
           },
           "zerolinecolor": "white",
           "zerolinewidth": 2
          },
          "yaxis": {
           "automargin": true,
           "gridcolor": "white",
           "linecolor": "white",
           "ticks": "",
           "title": {
            "standoff": 15
           },
           "zerolinecolor": "white",
           "zerolinewidth": 2
          }
         }
        },
        "title": {
         "text": "Distribution of GNI Per Capita by Category (Log Scale)"
        },
        "xaxis": {
         "anchor": "y",
         "domain": [
          0,
          1
         ],
         "title": {
          "text": "Gross national income per capita (Atlas method, $): 2016"
         }
        },
        "yaxis": {
         "anchor": "x",
         "domain": [
          0,
          1
         ],
         "title": {
          "text": "Count"
         }
        }
       }
      }
     },
     "metadata": {},
     "output_type": "display_data"
    }
   ],
   "source": [
    "capita = df['Gross national income per capita, Atlas method: $: 2016']\n",
    "\n",
    "# Calculate percentiles for categorization\n",
    "q1 = capita.quantile(0.25)\n",
    "q3 = capita.quantile(0.75)\n",
    "\n",
    "# Log transformation to handle skewness\n",
    "df['log_capita'] = np.log1p(capita)\n",
    "\n",
    "# Categorize values\n",
    "df['category'] = capita.apply(lambda x: 'In the middle 50%' if q1 <= x <= q3 else 'Outside of the middle 50%')\n",
    "\n",
    "# Plot with Plotly\n",
    "fig = px.histogram(df, x='log_capita', color='category', nbins=30,\n",
    "                   color_discrete_map={'In the middle 50%': 'skyblue', 'Outside of the middle 50%': 'sandybrown'},\n",
    "                   labels={'log_capita': \"Log of Gross national income per capita (Atlas method, $): 2016\"},\n",
    "                   title=\"Distribution of GNI Per Capita by Category (Log Scale)\")\n",
    "\n",
    "# Customize layout\n",
    "fig.update_layout(\n",
    "    xaxis_title=\"Gross national income per capita (Atlas method, $): 2016\",\n",
    "    yaxis_title=\"Count\"\n",
    ")\n",
    "\n",
    "fig.show()\n"
   ]
  },
  {
   "cell_type": "markdown",
   "id": "20991f13-dab8-42b5-8683-a8ad3cd41004",
   "metadata": {
    "id": "20991f13-dab8-42b5-8683-a8ad3cd41004"
   },
   "source": [
    "In a box plot, the lower extent of the box lies at Q1, while the upper extent of the box lies at Q3. The horizontal line in the middle of the box corresponds to Q2 (equivalently, the median)."
   ]
  },
  {
   "cell_type": "code",
   "execution_count": 20,
   "id": "66a537b0-1eb4-4a00-9497-cf3f9af6cf59",
   "metadata": {
    "id": "66a537b0-1eb4-4a00-9497-cf3f9af6cf59",
    "outputId": "9a5e0db1-6ae1-4e62-a153-87b8ab16f814"
   },
   "outputs": [
    {
     "data": {
      "application/vnd.plotly.v1+json": {
       "config": {
        "plotlyServerURL": "https://plot.ly"
       },
       "data": [
        {
         "alignmentgroup": "True",
         "hovertemplate": "variable=%{x}<br>value=%{y}<extra></extra>",
         "legendgroup": "",
         "marker": {
          "color": "green"
         },
         "name": "",
         "notched": false,
         "offsetgroup": "",
         "orientation": "v",
         "showlegend": false,
         "type": "box",
         "x": [
          "Gross domestic product: % growth : 2016",
          "Gross domestic product: % growth : 2016",
          "Gross domestic product: % growth : 2016",
          "Gross domestic product: % growth : 2016",
          "Gross domestic product: % growth : 2016",
          "Gross domestic product: % growth : 2016",
          "Gross domestic product: % growth : 2016",
          "Gross domestic product: % growth : 2016",
          "Gross domestic product: % growth : 2016",
          "Gross domestic product: % growth : 2016",
          "Gross domestic product: % growth : 2016",
          "Gross domestic product: % growth : 2016",
          "Gross domestic product: % growth : 2016",
          "Gross domestic product: % growth : 2016",
          "Gross domestic product: % growth : 2016",
          "Gross domestic product: % growth : 2016",
          "Gross domestic product: % growth : 2016",
          "Gross domestic product: % growth : 2016",
          "Gross domestic product: % growth : 2016",
          "Gross domestic product: % growth : 2016",
          "Gross domestic product: % growth : 2016",
          "Gross domestic product: % growth : 2016",
          "Gross domestic product: % growth : 2016",
          "Gross domestic product: % growth : 2016",
          "Gross domestic product: % growth : 2016",
          "Gross domestic product: % growth : 2016",
          "Gross domestic product: % growth : 2016",
          "Gross domestic product: % growth : 2016",
          "Gross domestic product: % growth : 2016",
          "Gross domestic product: % growth : 2016",
          "Gross domestic product: % growth : 2016",
          "Gross domestic product: % growth : 2016",
          "Gross domestic product: % growth : 2016",
          "Gross domestic product: % growth : 2016",
          "Gross domestic product: % growth : 2016",
          "Gross domestic product: % growth : 2016",
          "Gross domestic product: % growth : 2016",
          "Gross domestic product: % growth : 2016",
          "Gross domestic product: % growth : 2016",
          "Gross domestic product: % growth : 2016",
          "Gross domestic product: % growth : 2016",
          "Gross domestic product: % growth : 2016",
          "Gross domestic product: % growth : 2016",
          "Gross domestic product: % growth : 2016",
          "Gross domestic product: % growth : 2016",
          "Gross domestic product: % growth : 2016",
          "Gross domestic product: % growth : 2016",
          "Gross domestic product: % growth : 2016",
          "Gross domestic product: % growth : 2016",
          "Gross domestic product: % growth : 2016",
          "Gross domestic product: % growth : 2016",
          "Gross domestic product: % growth : 2016",
          "Gross domestic product: % growth : 2016",
          "Gross domestic product: % growth : 2016",
          "Gross domestic product: % growth : 2016",
          "Gross domestic product: % growth : 2016",
          "Gross domestic product: % growth : 2016",
          "Gross domestic product: % growth : 2016",
          "Gross domestic product: % growth : 2016",
          "Gross domestic product: % growth : 2016",
          "Gross domestic product: % growth : 2016",
          "Gross domestic product: % growth : 2016",
          "Gross domestic product: % growth : 2016",
          "Gross domestic product: % growth : 2016",
          "Gross domestic product: % growth : 2016",
          "Gross domestic product: % growth : 2016",
          "Gross domestic product: % growth : 2016",
          "Gross domestic product: % growth : 2016",
          "Gross domestic product: % growth : 2016",
          "Gross domestic product: % growth : 2016",
          "Gross domestic product: % growth : 2016",
          "Gross domestic product: % growth : 2016",
          "Gross domestic product: % growth : 2016",
          "Gross domestic product: % growth : 2016",
          "Gross domestic product: % growth : 2016",
          "Gross domestic product: % growth : 2016",
          "Gross domestic product: % growth : 2016",
          "Gross domestic product: % growth : 2016",
          "Gross domestic product: % growth : 2016",
          "Gross domestic product: % growth : 2016",
          "Gross domestic product: % growth : 2016",
          "Gross domestic product: % growth : 2016",
          "Gross domestic product: % growth : 2016",
          "Gross domestic product: % growth : 2016",
          "Gross domestic product: % growth : 2016",
          "Gross domestic product: % growth : 2016",
          "Gross domestic product: % growth : 2016",
          "Gross domestic product: % growth : 2016",
          "Gross domestic product: % growth : 2016",
          "Gross domestic product: % growth : 2016",
          "Gross domestic product: % growth : 2016",
          "Gross domestic product: % growth : 2016",
          "Gross domestic product: % growth : 2016",
          "Gross domestic product: % growth : 2016",
          "Gross domestic product: % growth : 2016",
          "Gross domestic product: % growth : 2016",
          "Gross domestic product: % growth : 2016",
          "Gross domestic product: % growth : 2016",
          "Gross domestic product: % growth : 2016",
          "Gross domestic product: % growth : 2016",
          "Gross domestic product: % growth : 2016",
          "Gross domestic product: % growth : 2016",
          "Gross domestic product: % growth : 2016",
          "Gross domestic product: % growth : 2016",
          "Gross domestic product: % growth : 2016",
          "Gross domestic product: % growth : 2016",
          "Gross domestic product: % growth : 2016",
          "Gross domestic product: % growth : 2016",
          "Gross domestic product: % growth : 2016",
          "Gross domestic product: % growth : 2016",
          "Gross domestic product: % growth : 2016",
          "Gross domestic product: % growth : 2016",
          "Gross domestic product: % growth : 2016",
          "Gross domestic product: % growth : 2016",
          "Gross domestic product: % growth : 2016",
          "Gross domestic product: % growth : 2016",
          "Gross domestic product: % growth : 2016",
          "Gross domestic product: % growth : 2016",
          "Gross domestic product: % growth : 2016",
          "Gross domestic product: % growth : 2016",
          "Gross domestic product: % growth : 2016",
          "Gross domestic product: % growth : 2016",
          "Gross domestic product: % growth : 2016",
          "Gross domestic product: % growth : 2016",
          "Gross domestic product: % growth : 2016",
          "Gross domestic product: % growth : 2016",
          "Gross domestic product: % growth : 2016",
          "Gross domestic product: % growth : 2016",
          "Gross domestic product: % growth : 2016",
          "Gross domestic product: % growth : 2016",
          "Gross domestic product: % growth : 2016",
          "Gross domestic product: % growth : 2016",
          "Gross domestic product: % growth : 2016",
          "Gross domestic product: % growth : 2016",
          "Gross domestic product: % growth : 2016",
          "Gross domestic product: % growth : 2016",
          "Gross domestic product: % growth : 2016",
          "Gross domestic product: % growth : 2016",
          "Gross domestic product: % growth : 2016",
          "Gross domestic product: % growth : 2016",
          "Gross domestic product: % growth : 2016",
          "Gross domestic product: % growth : 2016",
          "Gross domestic product: % growth : 2016",
          "Gross domestic product: % growth : 2016",
          "Gross domestic product: % growth : 2016",
          "Gross domestic product: % growth : 2016",
          "Gross domestic product: % growth : 2016",
          "Gross domestic product: % growth : 2016",
          "Gross domestic product: % growth : 2016",
          "Gross domestic product: % growth : 2016",
          "Gross domestic product: % growth : 2016",
          "Gross domestic product: % growth : 2016",
          "Gross domestic product: % growth : 2016",
          "Gross domestic product: % growth : 2016",
          "Gross domestic product: % growth : 2016",
          "Gross domestic product: % growth : 2016",
          "Gross domestic product: % growth : 2016",
          "Gross domestic product: % growth : 2016",
          "Gross domestic product: % growth : 2016",
          "Gross domestic product: % growth : 2016",
          "Gross domestic product: % growth : 2016",
          "Gross domestic product: % growth : 2016",
          "Gross domestic product: % growth : 2016",
          "Gross domestic product: % growth : 2016",
          "Gross domestic product: % growth : 2016",
          "Gross domestic product: % growth : 2016"
         ],
         "x0": " ",
         "xaxis": "x",
         "y": [
          3.7,
          0,
          4,
          2.9,
          -0.6,
          4.5,
          4.5,
          -7,
          2.2,
          6.5,
          -9.7,
          null,
          7.6,
          2.3,
          3.6,
          5.2,
          5.6,
          5.8,
          2.5,
          -1.6,
          null,
          4.2,
          2.5,
          5.3,
          2,
          3.7,
          1.1,
          3.8,
          1.2,
          5,
          -1.5,
          5.9,
          4,
          6.6,
          4.5,
          6.1,
          null,
          0.3,
          -6.3,
          4.7,
          -2.2,
          7,
          4.9,
          1.2,
          4.6,
          3.3,
          0.7,
          2.2,
          2.9,
          7.1,
          6.2,
          6.9,
          6.7,
          7.1,
          5,
          11,
          4,
          1,
          2,
          1,
          1.8,
          1.8,
          4.2,
          4.1,
          1,
          0.6,
          5.7,
          5.7,
          6.9,
          2.2,
          -0.2,
          1.7,
          2,
          4.4,
          6.9,
          3.2,
          2.9,
          6.2,
          3,
          7.8,
          6.2,
          3.5,
          null,
          0.2,
          1.5,
          -3.1,
          -2.6,
          1.2,
          2,
          3.4,
          2.9,
          2.8,
          1.3,
          1.6,
          1.4,
          1.2,
          2.7,
          1.9,
          0,
          2,
          7.2,
          5.2,
          0.9,
          2,
          null,
          2.3,
          4.2,
          5,
          4.1,
          null,
          2.5,
          2.1,
          1.1,
          2.7,
          1.4,
          4.8,
          null,
          2.8,
          2.5,
          3.2,
          3.2,
          1.3,
          2.3,
          1.8,
          4.4,
          1.6,
          -0.8,
          1.5,
          4.3,
          4.4,
          0.9,
          6.6,
          2.4,
          1.9,
          3.1,
          1.4,
          3.6,
          1.4,
          2.3,
          4.7,
          4.9,
          -5.1,
          2.8,
          2,
          3.1,
          2.9,
          10.4,
          3.9,
          0,
          8.5,
          6.6,
          3,
          3.5,
          2.7,
          4,
          -2.3,
          4.3,
          -3.6,
          1.6,
          2,
          -1.5,
          3.3,
          4.1,
          3.9,
          -10.4,
          1.5
         ],
         "y0": " ",
         "yaxis": "y"
        }
       ],
       "layout": {
        "boxmode": "group",
        "legend": {
         "tracegroupgap": 0
        },
        "margin": {
         "t": 60
        },
        "template": {
         "data": {
          "bar": [
           {
            "error_x": {
             "color": "#2a3f5f"
            },
            "error_y": {
             "color": "#2a3f5f"
            },
            "marker": {
             "line": {
              "color": "#E5ECF6",
              "width": 0.5
             },
             "pattern": {
              "fillmode": "overlay",
              "size": 10,
              "solidity": 0.2
             }
            },
            "type": "bar"
           }
          ],
          "barpolar": [
           {
            "marker": {
             "line": {
              "color": "#E5ECF6",
              "width": 0.5
             },
             "pattern": {
              "fillmode": "overlay",
              "size": 10,
              "solidity": 0.2
             }
            },
            "type": "barpolar"
           }
          ],
          "carpet": [
           {
            "aaxis": {
             "endlinecolor": "#2a3f5f",
             "gridcolor": "white",
             "linecolor": "white",
             "minorgridcolor": "white",
             "startlinecolor": "#2a3f5f"
            },
            "baxis": {
             "endlinecolor": "#2a3f5f",
             "gridcolor": "white",
             "linecolor": "white",
             "minorgridcolor": "white",
             "startlinecolor": "#2a3f5f"
            },
            "type": "carpet"
           }
          ],
          "choropleth": [
           {
            "colorbar": {
             "outlinewidth": 0,
             "ticks": ""
            },
            "type": "choropleth"
           }
          ],
          "contour": [
           {
            "colorbar": {
             "outlinewidth": 0,
             "ticks": ""
            },
            "colorscale": [
             [
              0,
              "#0d0887"
             ],
             [
              0.1111111111111111,
              "#46039f"
             ],
             [
              0.2222222222222222,
              "#7201a8"
             ],
             [
              0.3333333333333333,
              "#9c179e"
             ],
             [
              0.4444444444444444,
              "#bd3786"
             ],
             [
              0.5555555555555556,
              "#d8576b"
             ],
             [
              0.6666666666666666,
              "#ed7953"
             ],
             [
              0.7777777777777778,
              "#fb9f3a"
             ],
             [
              0.8888888888888888,
              "#fdca26"
             ],
             [
              1,
              "#f0f921"
             ]
            ],
            "type": "contour"
           }
          ],
          "contourcarpet": [
           {
            "colorbar": {
             "outlinewidth": 0,
             "ticks": ""
            },
            "type": "contourcarpet"
           }
          ],
          "heatmap": [
           {
            "colorbar": {
             "outlinewidth": 0,
             "ticks": ""
            },
            "colorscale": [
             [
              0,
              "#0d0887"
             ],
             [
              0.1111111111111111,
              "#46039f"
             ],
             [
              0.2222222222222222,
              "#7201a8"
             ],
             [
              0.3333333333333333,
              "#9c179e"
             ],
             [
              0.4444444444444444,
              "#bd3786"
             ],
             [
              0.5555555555555556,
              "#d8576b"
             ],
             [
              0.6666666666666666,
              "#ed7953"
             ],
             [
              0.7777777777777778,
              "#fb9f3a"
             ],
             [
              0.8888888888888888,
              "#fdca26"
             ],
             [
              1,
              "#f0f921"
             ]
            ],
            "type": "heatmap"
           }
          ],
          "heatmapgl": [
           {
            "colorbar": {
             "outlinewidth": 0,
             "ticks": ""
            },
            "colorscale": [
             [
              0,
              "#0d0887"
             ],
             [
              0.1111111111111111,
              "#46039f"
             ],
             [
              0.2222222222222222,
              "#7201a8"
             ],
             [
              0.3333333333333333,
              "#9c179e"
             ],
             [
              0.4444444444444444,
              "#bd3786"
             ],
             [
              0.5555555555555556,
              "#d8576b"
             ],
             [
              0.6666666666666666,
              "#ed7953"
             ],
             [
              0.7777777777777778,
              "#fb9f3a"
             ],
             [
              0.8888888888888888,
              "#fdca26"
             ],
             [
              1,
              "#f0f921"
             ]
            ],
            "type": "heatmapgl"
           }
          ],
          "histogram": [
           {
            "marker": {
             "pattern": {
              "fillmode": "overlay",
              "size": 10,
              "solidity": 0.2
             }
            },
            "type": "histogram"
           }
          ],
          "histogram2d": [
           {
            "colorbar": {
             "outlinewidth": 0,
             "ticks": ""
            },
            "colorscale": [
             [
              0,
              "#0d0887"
             ],
             [
              0.1111111111111111,
              "#46039f"
             ],
             [
              0.2222222222222222,
              "#7201a8"
             ],
             [
              0.3333333333333333,
              "#9c179e"
             ],
             [
              0.4444444444444444,
              "#bd3786"
             ],
             [
              0.5555555555555556,
              "#d8576b"
             ],
             [
              0.6666666666666666,
              "#ed7953"
             ],
             [
              0.7777777777777778,
              "#fb9f3a"
             ],
             [
              0.8888888888888888,
              "#fdca26"
             ],
             [
              1,
              "#f0f921"
             ]
            ],
            "type": "histogram2d"
           }
          ],
          "histogram2dcontour": [
           {
            "colorbar": {
             "outlinewidth": 0,
             "ticks": ""
            },
            "colorscale": [
             [
              0,
              "#0d0887"
             ],
             [
              0.1111111111111111,
              "#46039f"
             ],
             [
              0.2222222222222222,
              "#7201a8"
             ],
             [
              0.3333333333333333,
              "#9c179e"
             ],
             [
              0.4444444444444444,
              "#bd3786"
             ],
             [
              0.5555555555555556,
              "#d8576b"
             ],
             [
              0.6666666666666666,
              "#ed7953"
             ],
             [
              0.7777777777777778,
              "#fb9f3a"
             ],
             [
              0.8888888888888888,
              "#fdca26"
             ],
             [
              1,
              "#f0f921"
             ]
            ],
            "type": "histogram2dcontour"
           }
          ],
          "mesh3d": [
           {
            "colorbar": {
             "outlinewidth": 0,
             "ticks": ""
            },
            "type": "mesh3d"
           }
          ],
          "parcoords": [
           {
            "line": {
             "colorbar": {
              "outlinewidth": 0,
              "ticks": ""
             }
            },
            "type": "parcoords"
           }
          ],
          "pie": [
           {
            "automargin": true,
            "type": "pie"
           }
          ],
          "scatter": [
           {
            "fillpattern": {
             "fillmode": "overlay",
             "size": 10,
             "solidity": 0.2
            },
            "type": "scatter"
           }
          ],
          "scatter3d": [
           {
            "line": {
             "colorbar": {
              "outlinewidth": 0,
              "ticks": ""
             }
            },
            "marker": {
             "colorbar": {
              "outlinewidth": 0,
              "ticks": ""
             }
            },
            "type": "scatter3d"
           }
          ],
          "scattercarpet": [
           {
            "marker": {
             "colorbar": {
              "outlinewidth": 0,
              "ticks": ""
             }
            },
            "type": "scattercarpet"
           }
          ],
          "scattergeo": [
           {
            "marker": {
             "colorbar": {
              "outlinewidth": 0,
              "ticks": ""
             }
            },
            "type": "scattergeo"
           }
          ],
          "scattergl": [
           {
            "marker": {
             "colorbar": {
              "outlinewidth": 0,
              "ticks": ""
             }
            },
            "type": "scattergl"
           }
          ],
          "scattermapbox": [
           {
            "marker": {
             "colorbar": {
              "outlinewidth": 0,
              "ticks": ""
             }
            },
            "type": "scattermapbox"
           }
          ],
          "scatterpolar": [
           {
            "marker": {
             "colorbar": {
              "outlinewidth": 0,
              "ticks": ""
             }
            },
            "type": "scatterpolar"
           }
          ],
          "scatterpolargl": [
           {
            "marker": {
             "colorbar": {
              "outlinewidth": 0,
              "ticks": ""
             }
            },
            "type": "scatterpolargl"
           }
          ],
          "scatterternary": [
           {
            "marker": {
             "colorbar": {
              "outlinewidth": 0,
              "ticks": ""
             }
            },
            "type": "scatterternary"
           }
          ],
          "surface": [
           {
            "colorbar": {
             "outlinewidth": 0,
             "ticks": ""
            },
            "colorscale": [
             [
              0,
              "#0d0887"
             ],
             [
              0.1111111111111111,
              "#46039f"
             ],
             [
              0.2222222222222222,
              "#7201a8"
             ],
             [
              0.3333333333333333,
              "#9c179e"
             ],
             [
              0.4444444444444444,
              "#bd3786"
             ],
             [
              0.5555555555555556,
              "#d8576b"
             ],
             [
              0.6666666666666666,
              "#ed7953"
             ],
             [
              0.7777777777777778,
              "#fb9f3a"
             ],
             [
              0.8888888888888888,
              "#fdca26"
             ],
             [
              1,
              "#f0f921"
             ]
            ],
            "type": "surface"
           }
          ],
          "table": [
           {
            "cells": {
             "fill": {
              "color": "#EBF0F8"
             },
             "line": {
              "color": "white"
             }
            },
            "header": {
             "fill": {
              "color": "#C8D4E3"
             },
             "line": {
              "color": "white"
             }
            },
            "type": "table"
           }
          ]
         },
         "layout": {
          "annotationdefaults": {
           "arrowcolor": "#2a3f5f",
           "arrowhead": 0,
           "arrowwidth": 1
          },
          "autotypenumbers": "strict",
          "coloraxis": {
           "colorbar": {
            "outlinewidth": 0,
            "ticks": ""
           }
          },
          "colorscale": {
           "diverging": [
            [
             0,
             "#8e0152"
            ],
            [
             0.1,
             "#c51b7d"
            ],
            [
             0.2,
             "#de77ae"
            ],
            [
             0.3,
             "#f1b6da"
            ],
            [
             0.4,
             "#fde0ef"
            ],
            [
             0.5,
             "#f7f7f7"
            ],
            [
             0.6,
             "#e6f5d0"
            ],
            [
             0.7,
             "#b8e186"
            ],
            [
             0.8,
             "#7fbc41"
            ],
            [
             0.9,
             "#4d9221"
            ],
            [
             1,
             "#276419"
            ]
           ],
           "sequential": [
            [
             0,
             "#0d0887"
            ],
            [
             0.1111111111111111,
             "#46039f"
            ],
            [
             0.2222222222222222,
             "#7201a8"
            ],
            [
             0.3333333333333333,
             "#9c179e"
            ],
            [
             0.4444444444444444,
             "#bd3786"
            ],
            [
             0.5555555555555556,
             "#d8576b"
            ],
            [
             0.6666666666666666,
             "#ed7953"
            ],
            [
             0.7777777777777778,
             "#fb9f3a"
            ],
            [
             0.8888888888888888,
             "#fdca26"
            ],
            [
             1,
             "#f0f921"
            ]
           ],
           "sequentialminus": [
            [
             0,
             "#0d0887"
            ],
            [
             0.1111111111111111,
             "#46039f"
            ],
            [
             0.2222222222222222,
             "#7201a8"
            ],
            [
             0.3333333333333333,
             "#9c179e"
            ],
            [
             0.4444444444444444,
             "#bd3786"
            ],
            [
             0.5555555555555556,
             "#d8576b"
            ],
            [
             0.6666666666666666,
             "#ed7953"
            ],
            [
             0.7777777777777778,
             "#fb9f3a"
            ],
            [
             0.8888888888888888,
             "#fdca26"
            ],
            [
             1,
             "#f0f921"
            ]
           ]
          },
          "colorway": [
           "#636efa",
           "#EF553B",
           "#00cc96",
           "#ab63fa",
           "#FFA15A",
           "#19d3f3",
           "#FF6692",
           "#B6E880",
           "#FF97FF",
           "#FECB52"
          ],
          "font": {
           "color": "#2a3f5f"
          },
          "geo": {
           "bgcolor": "white",
           "lakecolor": "white",
           "landcolor": "#E5ECF6",
           "showlakes": true,
           "showland": true,
           "subunitcolor": "white"
          },
          "hoverlabel": {
           "align": "left"
          },
          "hovermode": "closest",
          "mapbox": {
           "style": "light"
          },
          "paper_bgcolor": "white",
          "plot_bgcolor": "#E5ECF6",
          "polar": {
           "angularaxis": {
            "gridcolor": "white",
            "linecolor": "white",
            "ticks": ""
           },
           "bgcolor": "#E5ECF6",
           "radialaxis": {
            "gridcolor": "white",
            "linecolor": "white",
            "ticks": ""
           }
          },
          "scene": {
           "xaxis": {
            "backgroundcolor": "#E5ECF6",
            "gridcolor": "white",
            "gridwidth": 2,
            "linecolor": "white",
            "showbackground": true,
            "ticks": "",
            "zerolinecolor": "white"
           },
           "yaxis": {
            "backgroundcolor": "#E5ECF6",
            "gridcolor": "white",
            "gridwidth": 2,
            "linecolor": "white",
            "showbackground": true,
            "ticks": "",
            "zerolinecolor": "white"
           },
           "zaxis": {
            "backgroundcolor": "#E5ECF6",
            "gridcolor": "white",
            "gridwidth": 2,
            "linecolor": "white",
            "showbackground": true,
            "ticks": "",
            "zerolinecolor": "white"
           }
          },
          "shapedefaults": {
           "line": {
            "color": "#2a3f5f"
           }
          },
          "ternary": {
           "aaxis": {
            "gridcolor": "white",
            "linecolor": "white",
            "ticks": ""
           },
           "baxis": {
            "gridcolor": "white",
            "linecolor": "white",
            "ticks": ""
           },
           "bgcolor": "#E5ECF6",
           "caxis": {
            "gridcolor": "white",
            "linecolor": "white",
            "ticks": ""
           }
          },
          "title": {
           "x": 0.05
          },
          "xaxis": {
           "automargin": true,
           "gridcolor": "white",
           "linecolor": "white",
           "ticks": "",
           "title": {
            "standoff": 15
           },
           "zerolinecolor": "white",
           "zerolinewidth": 2
          },
          "yaxis": {
           "automargin": true,
           "gridcolor": "white",
           "linecolor": "white",
           "ticks": "",
           "title": {
            "standoff": 15
           },
           "zerolinecolor": "white",
           "zerolinewidth": 2
          }
         }
        },
        "xaxis": {
         "anchor": "y",
         "domain": [
          0,
          1
         ],
         "title": {
          "text": "variable"
         }
        },
        "yaxis": {
         "anchor": "x",
         "domain": [
          0,
          1
         ],
         "title": {
          "text": "value"
         }
        }
       }
      }
     },
     "metadata": {},
     "output_type": "display_data"
    }
   ],
   "source": [
    "# Code Here\n",
    "fig=px.box(df['Gross domestic product: % growth : 2016'])\n",
    "fig.update_traces(marker_color='green')"
   ]
  },
  {
   "cell_type": "markdown",
   "id": "667902d4-47fa-4b69-b239-a51031e297a9",
   "metadata": {
    "id": "667902d4-47fa-4b69-b239-a51031e297a9"
   },
   "source": [
    "A violin plot display quartile information, albeit a bit more subtly. Look closely at the center vertical bar of the violin plot below!"
   ]
  },
  {
   "cell_type": "code",
   "execution_count": 21,
   "id": "18091b34-c4a3-428d-ba10-5ca1fbf356dd",
   "metadata": {
    "id": "18091b34-c4a3-428d-ba10-5ca1fbf356dd",
    "outputId": "a18a3692-023c-42f1-ee35-1da384e73c7e"
   },
   "outputs": [
    {
     "data": {
      "application/vnd.plotly.v1+json": {
       "config": {
        "plotlyServerURL": "https://plot.ly"
       },
       "data": [
        {
         "alignmentgroup": "True",
         "box": {
          "visible": false
         },
         "hovertemplate": "variable=%{x}<br>value=%{y}<extra></extra>",
         "legendgroup": "",
         "marker": {
          "color": "green"
         },
         "name": "",
         "offsetgroup": "",
         "orientation": "v",
         "scalegroup": "True",
         "showlegend": false,
         "type": "violin",
         "x": [
          "Gross domestic product: % growth : 2016",
          "Gross domestic product: % growth : 2016",
          "Gross domestic product: % growth : 2016",
          "Gross domestic product: % growth : 2016",
          "Gross domestic product: % growth : 2016",
          "Gross domestic product: % growth : 2016",
          "Gross domestic product: % growth : 2016",
          "Gross domestic product: % growth : 2016",
          "Gross domestic product: % growth : 2016",
          "Gross domestic product: % growth : 2016",
          "Gross domestic product: % growth : 2016",
          "Gross domestic product: % growth : 2016",
          "Gross domestic product: % growth : 2016",
          "Gross domestic product: % growth : 2016",
          "Gross domestic product: % growth : 2016",
          "Gross domestic product: % growth : 2016",
          "Gross domestic product: % growth : 2016",
          "Gross domestic product: % growth : 2016",
          "Gross domestic product: % growth : 2016",
          "Gross domestic product: % growth : 2016",
          "Gross domestic product: % growth : 2016",
          "Gross domestic product: % growth : 2016",
          "Gross domestic product: % growth : 2016",
          "Gross domestic product: % growth : 2016",
          "Gross domestic product: % growth : 2016",
          "Gross domestic product: % growth : 2016",
          "Gross domestic product: % growth : 2016",
          "Gross domestic product: % growth : 2016",
          "Gross domestic product: % growth : 2016",
          "Gross domestic product: % growth : 2016",
          "Gross domestic product: % growth : 2016",
          "Gross domestic product: % growth : 2016",
          "Gross domestic product: % growth : 2016",
          "Gross domestic product: % growth : 2016",
          "Gross domestic product: % growth : 2016",
          "Gross domestic product: % growth : 2016",
          "Gross domestic product: % growth : 2016",
          "Gross domestic product: % growth : 2016",
          "Gross domestic product: % growth : 2016",
          "Gross domestic product: % growth : 2016",
          "Gross domestic product: % growth : 2016",
          "Gross domestic product: % growth : 2016",
          "Gross domestic product: % growth : 2016",
          "Gross domestic product: % growth : 2016",
          "Gross domestic product: % growth : 2016",
          "Gross domestic product: % growth : 2016",
          "Gross domestic product: % growth : 2016",
          "Gross domestic product: % growth : 2016",
          "Gross domestic product: % growth : 2016",
          "Gross domestic product: % growth : 2016",
          "Gross domestic product: % growth : 2016",
          "Gross domestic product: % growth : 2016",
          "Gross domestic product: % growth : 2016",
          "Gross domestic product: % growth : 2016",
          "Gross domestic product: % growth : 2016",
          "Gross domestic product: % growth : 2016",
          "Gross domestic product: % growth : 2016",
          "Gross domestic product: % growth : 2016",
          "Gross domestic product: % growth : 2016",
          "Gross domestic product: % growth : 2016",
          "Gross domestic product: % growth : 2016",
          "Gross domestic product: % growth : 2016",
          "Gross domestic product: % growth : 2016",
          "Gross domestic product: % growth : 2016",
          "Gross domestic product: % growth : 2016",
          "Gross domestic product: % growth : 2016",
          "Gross domestic product: % growth : 2016",
          "Gross domestic product: % growth : 2016",
          "Gross domestic product: % growth : 2016",
          "Gross domestic product: % growth : 2016",
          "Gross domestic product: % growth : 2016",
          "Gross domestic product: % growth : 2016",
          "Gross domestic product: % growth : 2016",
          "Gross domestic product: % growth : 2016",
          "Gross domestic product: % growth : 2016",
          "Gross domestic product: % growth : 2016",
          "Gross domestic product: % growth : 2016",
          "Gross domestic product: % growth : 2016",
          "Gross domestic product: % growth : 2016",
          "Gross domestic product: % growth : 2016",
          "Gross domestic product: % growth : 2016",
          "Gross domestic product: % growth : 2016",
          "Gross domestic product: % growth : 2016",
          "Gross domestic product: % growth : 2016",
          "Gross domestic product: % growth : 2016",
          "Gross domestic product: % growth : 2016",
          "Gross domestic product: % growth : 2016",
          "Gross domestic product: % growth : 2016",
          "Gross domestic product: % growth : 2016",
          "Gross domestic product: % growth : 2016",
          "Gross domestic product: % growth : 2016",
          "Gross domestic product: % growth : 2016",
          "Gross domestic product: % growth : 2016",
          "Gross domestic product: % growth : 2016",
          "Gross domestic product: % growth : 2016",
          "Gross domestic product: % growth : 2016",
          "Gross domestic product: % growth : 2016",
          "Gross domestic product: % growth : 2016",
          "Gross domestic product: % growth : 2016",
          "Gross domestic product: % growth : 2016",
          "Gross domestic product: % growth : 2016",
          "Gross domestic product: % growth : 2016",
          "Gross domestic product: % growth : 2016",
          "Gross domestic product: % growth : 2016",
          "Gross domestic product: % growth : 2016",
          "Gross domestic product: % growth : 2016",
          "Gross domestic product: % growth : 2016",
          "Gross domestic product: % growth : 2016",
          "Gross domestic product: % growth : 2016",
          "Gross domestic product: % growth : 2016",
          "Gross domestic product: % growth : 2016",
          "Gross domestic product: % growth : 2016",
          "Gross domestic product: % growth : 2016",
          "Gross domestic product: % growth : 2016",
          "Gross domestic product: % growth : 2016",
          "Gross domestic product: % growth : 2016",
          "Gross domestic product: % growth : 2016",
          "Gross domestic product: % growth : 2016",
          "Gross domestic product: % growth : 2016",
          "Gross domestic product: % growth : 2016",
          "Gross domestic product: % growth : 2016",
          "Gross domestic product: % growth : 2016",
          "Gross domestic product: % growth : 2016",
          "Gross domestic product: % growth : 2016",
          "Gross domestic product: % growth : 2016",
          "Gross domestic product: % growth : 2016",
          "Gross domestic product: % growth : 2016",
          "Gross domestic product: % growth : 2016",
          "Gross domestic product: % growth : 2016",
          "Gross domestic product: % growth : 2016",
          "Gross domestic product: % growth : 2016",
          "Gross domestic product: % growth : 2016",
          "Gross domestic product: % growth : 2016",
          "Gross domestic product: % growth : 2016",
          "Gross domestic product: % growth : 2016",
          "Gross domestic product: % growth : 2016",
          "Gross domestic product: % growth : 2016",
          "Gross domestic product: % growth : 2016",
          "Gross domestic product: % growth : 2016",
          "Gross domestic product: % growth : 2016",
          "Gross domestic product: % growth : 2016",
          "Gross domestic product: % growth : 2016",
          "Gross domestic product: % growth : 2016",
          "Gross domestic product: % growth : 2016",
          "Gross domestic product: % growth : 2016",
          "Gross domestic product: % growth : 2016",
          "Gross domestic product: % growth : 2016",
          "Gross domestic product: % growth : 2016",
          "Gross domestic product: % growth : 2016",
          "Gross domestic product: % growth : 2016",
          "Gross domestic product: % growth : 2016",
          "Gross domestic product: % growth : 2016",
          "Gross domestic product: % growth : 2016",
          "Gross domestic product: % growth : 2016",
          "Gross domestic product: % growth : 2016",
          "Gross domestic product: % growth : 2016",
          "Gross domestic product: % growth : 2016",
          "Gross domestic product: % growth : 2016",
          "Gross domestic product: % growth : 2016",
          "Gross domestic product: % growth : 2016",
          "Gross domestic product: % growth : 2016",
          "Gross domestic product: % growth : 2016",
          "Gross domestic product: % growth : 2016",
          "Gross domestic product: % growth : 2016",
          "Gross domestic product: % growth : 2016",
          "Gross domestic product: % growth : 2016"
         ],
         "x0": " ",
         "xaxis": "x",
         "y": [
          3.7,
          0,
          4,
          2.9,
          -0.6,
          4.5,
          4.5,
          -7,
          2.2,
          6.5,
          -9.7,
          null,
          7.6,
          2.3,
          3.6,
          5.2,
          5.6,
          5.8,
          2.5,
          -1.6,
          null,
          4.2,
          2.5,
          5.3,
          2,
          3.7,
          1.1,
          3.8,
          1.2,
          5,
          -1.5,
          5.9,
          4,
          6.6,
          4.5,
          6.1,
          null,
          0.3,
          -6.3,
          4.7,
          -2.2,
          7,
          4.9,
          1.2,
          4.6,
          3.3,
          0.7,
          2.2,
          2.9,
          7.1,
          6.2,
          6.9,
          6.7,
          7.1,
          5,
          11,
          4,
          1,
          2,
          1,
          1.8,
          1.8,
          4.2,
          4.1,
          1,
          0.6,
          5.7,
          5.7,
          6.9,
          2.2,
          -0.2,
          1.7,
          2,
          4.4,
          6.9,
          3.2,
          2.9,
          6.2,
          3,
          7.8,
          6.2,
          3.5,
          null,
          0.2,
          1.5,
          -3.1,
          -2.6,
          1.2,
          2,
          3.4,
          2.9,
          2.8,
          1.3,
          1.6,
          1.4,
          1.2,
          2.7,
          1.9,
          0,
          2,
          7.2,
          5.2,
          0.9,
          2,
          null,
          2.3,
          4.2,
          5,
          4.1,
          null,
          2.5,
          2.1,
          1.1,
          2.7,
          1.4,
          4.8,
          null,
          2.8,
          2.5,
          3.2,
          3.2,
          1.3,
          2.3,
          1.8,
          4.4,
          1.6,
          -0.8,
          1.5,
          4.3,
          4.4,
          0.9,
          6.6,
          2.4,
          1.9,
          3.1,
          1.4,
          3.6,
          1.4,
          2.3,
          4.7,
          4.9,
          -5.1,
          2.8,
          2,
          3.1,
          2.9,
          10.4,
          3.9,
          0,
          8.5,
          6.6,
          3,
          3.5,
          2.7,
          4,
          -2.3,
          4.3,
          -3.6,
          1.6,
          2,
          -1.5,
          3.3,
          4.1,
          3.9,
          -10.4,
          1.5
         ],
         "y0": " ",
         "yaxis": "y"
        }
       ],
       "layout": {
        "legend": {
         "tracegroupgap": 0
        },
        "margin": {
         "t": 60
        },
        "template": {
         "data": {
          "bar": [
           {
            "error_x": {
             "color": "#2a3f5f"
            },
            "error_y": {
             "color": "#2a3f5f"
            },
            "marker": {
             "line": {
              "color": "#E5ECF6",
              "width": 0.5
             },
             "pattern": {
              "fillmode": "overlay",
              "size": 10,
              "solidity": 0.2
             }
            },
            "type": "bar"
           }
          ],
          "barpolar": [
           {
            "marker": {
             "line": {
              "color": "#E5ECF6",
              "width": 0.5
             },
             "pattern": {
              "fillmode": "overlay",
              "size": 10,
              "solidity": 0.2
             }
            },
            "type": "barpolar"
           }
          ],
          "carpet": [
           {
            "aaxis": {
             "endlinecolor": "#2a3f5f",
             "gridcolor": "white",
             "linecolor": "white",
             "minorgridcolor": "white",
             "startlinecolor": "#2a3f5f"
            },
            "baxis": {
             "endlinecolor": "#2a3f5f",
             "gridcolor": "white",
             "linecolor": "white",
             "minorgridcolor": "white",
             "startlinecolor": "#2a3f5f"
            },
            "type": "carpet"
           }
          ],
          "choropleth": [
           {
            "colorbar": {
             "outlinewidth": 0,
             "ticks": ""
            },
            "type": "choropleth"
           }
          ],
          "contour": [
           {
            "colorbar": {
             "outlinewidth": 0,
             "ticks": ""
            },
            "colorscale": [
             [
              0,
              "#0d0887"
             ],
             [
              0.1111111111111111,
              "#46039f"
             ],
             [
              0.2222222222222222,
              "#7201a8"
             ],
             [
              0.3333333333333333,
              "#9c179e"
             ],
             [
              0.4444444444444444,
              "#bd3786"
             ],
             [
              0.5555555555555556,
              "#d8576b"
             ],
             [
              0.6666666666666666,
              "#ed7953"
             ],
             [
              0.7777777777777778,
              "#fb9f3a"
             ],
             [
              0.8888888888888888,
              "#fdca26"
             ],
             [
              1,
              "#f0f921"
             ]
            ],
            "type": "contour"
           }
          ],
          "contourcarpet": [
           {
            "colorbar": {
             "outlinewidth": 0,
             "ticks": ""
            },
            "type": "contourcarpet"
           }
          ],
          "heatmap": [
           {
            "colorbar": {
             "outlinewidth": 0,
             "ticks": ""
            },
            "colorscale": [
             [
              0,
              "#0d0887"
             ],
             [
              0.1111111111111111,
              "#46039f"
             ],
             [
              0.2222222222222222,
              "#7201a8"
             ],
             [
              0.3333333333333333,
              "#9c179e"
             ],
             [
              0.4444444444444444,
              "#bd3786"
             ],
             [
              0.5555555555555556,
              "#d8576b"
             ],
             [
              0.6666666666666666,
              "#ed7953"
             ],
             [
              0.7777777777777778,
              "#fb9f3a"
             ],
             [
              0.8888888888888888,
              "#fdca26"
             ],
             [
              1,
              "#f0f921"
             ]
            ],
            "type": "heatmap"
           }
          ],
          "heatmapgl": [
           {
            "colorbar": {
             "outlinewidth": 0,
             "ticks": ""
            },
            "colorscale": [
             [
              0,
              "#0d0887"
             ],
             [
              0.1111111111111111,
              "#46039f"
             ],
             [
              0.2222222222222222,
              "#7201a8"
             ],
             [
              0.3333333333333333,
              "#9c179e"
             ],
             [
              0.4444444444444444,
              "#bd3786"
             ],
             [
              0.5555555555555556,
              "#d8576b"
             ],
             [
              0.6666666666666666,
              "#ed7953"
             ],
             [
              0.7777777777777778,
              "#fb9f3a"
             ],
             [
              0.8888888888888888,
              "#fdca26"
             ],
             [
              1,
              "#f0f921"
             ]
            ],
            "type": "heatmapgl"
           }
          ],
          "histogram": [
           {
            "marker": {
             "pattern": {
              "fillmode": "overlay",
              "size": 10,
              "solidity": 0.2
             }
            },
            "type": "histogram"
           }
          ],
          "histogram2d": [
           {
            "colorbar": {
             "outlinewidth": 0,
             "ticks": ""
            },
            "colorscale": [
             [
              0,
              "#0d0887"
             ],
             [
              0.1111111111111111,
              "#46039f"
             ],
             [
              0.2222222222222222,
              "#7201a8"
             ],
             [
              0.3333333333333333,
              "#9c179e"
             ],
             [
              0.4444444444444444,
              "#bd3786"
             ],
             [
              0.5555555555555556,
              "#d8576b"
             ],
             [
              0.6666666666666666,
              "#ed7953"
             ],
             [
              0.7777777777777778,
              "#fb9f3a"
             ],
             [
              0.8888888888888888,
              "#fdca26"
             ],
             [
              1,
              "#f0f921"
             ]
            ],
            "type": "histogram2d"
           }
          ],
          "histogram2dcontour": [
           {
            "colorbar": {
             "outlinewidth": 0,
             "ticks": ""
            },
            "colorscale": [
             [
              0,
              "#0d0887"
             ],
             [
              0.1111111111111111,
              "#46039f"
             ],
             [
              0.2222222222222222,
              "#7201a8"
             ],
             [
              0.3333333333333333,
              "#9c179e"
             ],
             [
              0.4444444444444444,
              "#bd3786"
             ],
             [
              0.5555555555555556,
              "#d8576b"
             ],
             [
              0.6666666666666666,
              "#ed7953"
             ],
             [
              0.7777777777777778,
              "#fb9f3a"
             ],
             [
              0.8888888888888888,
              "#fdca26"
             ],
             [
              1,
              "#f0f921"
             ]
            ],
            "type": "histogram2dcontour"
           }
          ],
          "mesh3d": [
           {
            "colorbar": {
             "outlinewidth": 0,
             "ticks": ""
            },
            "type": "mesh3d"
           }
          ],
          "parcoords": [
           {
            "line": {
             "colorbar": {
              "outlinewidth": 0,
              "ticks": ""
             }
            },
            "type": "parcoords"
           }
          ],
          "pie": [
           {
            "automargin": true,
            "type": "pie"
           }
          ],
          "scatter": [
           {
            "fillpattern": {
             "fillmode": "overlay",
             "size": 10,
             "solidity": 0.2
            },
            "type": "scatter"
           }
          ],
          "scatter3d": [
           {
            "line": {
             "colorbar": {
              "outlinewidth": 0,
              "ticks": ""
             }
            },
            "marker": {
             "colorbar": {
              "outlinewidth": 0,
              "ticks": ""
             }
            },
            "type": "scatter3d"
           }
          ],
          "scattercarpet": [
           {
            "marker": {
             "colorbar": {
              "outlinewidth": 0,
              "ticks": ""
             }
            },
            "type": "scattercarpet"
           }
          ],
          "scattergeo": [
           {
            "marker": {
             "colorbar": {
              "outlinewidth": 0,
              "ticks": ""
             }
            },
            "type": "scattergeo"
           }
          ],
          "scattergl": [
           {
            "marker": {
             "colorbar": {
              "outlinewidth": 0,
              "ticks": ""
             }
            },
            "type": "scattergl"
           }
          ],
          "scattermapbox": [
           {
            "marker": {
             "colorbar": {
              "outlinewidth": 0,
              "ticks": ""
             }
            },
            "type": "scattermapbox"
           }
          ],
          "scatterpolar": [
           {
            "marker": {
             "colorbar": {
              "outlinewidth": 0,
              "ticks": ""
             }
            },
            "type": "scatterpolar"
           }
          ],
          "scatterpolargl": [
           {
            "marker": {
             "colorbar": {
              "outlinewidth": 0,
              "ticks": ""
             }
            },
            "type": "scatterpolargl"
           }
          ],
          "scatterternary": [
           {
            "marker": {
             "colorbar": {
              "outlinewidth": 0,
              "ticks": ""
             }
            },
            "type": "scatterternary"
           }
          ],
          "surface": [
           {
            "colorbar": {
             "outlinewidth": 0,
             "ticks": ""
            },
            "colorscale": [
             [
              0,
              "#0d0887"
             ],
             [
              0.1111111111111111,
              "#46039f"
             ],
             [
              0.2222222222222222,
              "#7201a8"
             ],
             [
              0.3333333333333333,
              "#9c179e"
             ],
             [
              0.4444444444444444,
              "#bd3786"
             ],
             [
              0.5555555555555556,
              "#d8576b"
             ],
             [
              0.6666666666666666,
              "#ed7953"
             ],
             [
              0.7777777777777778,
              "#fb9f3a"
             ],
             [
              0.8888888888888888,
              "#fdca26"
             ],
             [
              1,
              "#f0f921"
             ]
            ],
            "type": "surface"
           }
          ],
          "table": [
           {
            "cells": {
             "fill": {
              "color": "#EBF0F8"
             },
             "line": {
              "color": "white"
             }
            },
            "header": {
             "fill": {
              "color": "#C8D4E3"
             },
             "line": {
              "color": "white"
             }
            },
            "type": "table"
           }
          ]
         },
         "layout": {
          "annotationdefaults": {
           "arrowcolor": "#2a3f5f",
           "arrowhead": 0,
           "arrowwidth": 1
          },
          "autotypenumbers": "strict",
          "coloraxis": {
           "colorbar": {
            "outlinewidth": 0,
            "ticks": ""
           }
          },
          "colorscale": {
           "diverging": [
            [
             0,
             "#8e0152"
            ],
            [
             0.1,
             "#c51b7d"
            ],
            [
             0.2,
             "#de77ae"
            ],
            [
             0.3,
             "#f1b6da"
            ],
            [
             0.4,
             "#fde0ef"
            ],
            [
             0.5,
             "#f7f7f7"
            ],
            [
             0.6,
             "#e6f5d0"
            ],
            [
             0.7,
             "#b8e186"
            ],
            [
             0.8,
             "#7fbc41"
            ],
            [
             0.9,
             "#4d9221"
            ],
            [
             1,
             "#276419"
            ]
           ],
           "sequential": [
            [
             0,
             "#0d0887"
            ],
            [
             0.1111111111111111,
             "#46039f"
            ],
            [
             0.2222222222222222,
             "#7201a8"
            ],
            [
             0.3333333333333333,
             "#9c179e"
            ],
            [
             0.4444444444444444,
             "#bd3786"
            ],
            [
             0.5555555555555556,
             "#d8576b"
            ],
            [
             0.6666666666666666,
             "#ed7953"
            ],
            [
             0.7777777777777778,
             "#fb9f3a"
            ],
            [
             0.8888888888888888,
             "#fdca26"
            ],
            [
             1,
             "#f0f921"
            ]
           ],
           "sequentialminus": [
            [
             0,
             "#0d0887"
            ],
            [
             0.1111111111111111,
             "#46039f"
            ],
            [
             0.2222222222222222,
             "#7201a8"
            ],
            [
             0.3333333333333333,
             "#9c179e"
            ],
            [
             0.4444444444444444,
             "#bd3786"
            ],
            [
             0.5555555555555556,
             "#d8576b"
            ],
            [
             0.6666666666666666,
             "#ed7953"
            ],
            [
             0.7777777777777778,
             "#fb9f3a"
            ],
            [
             0.8888888888888888,
             "#fdca26"
            ],
            [
             1,
             "#f0f921"
            ]
           ]
          },
          "colorway": [
           "#636efa",
           "#EF553B",
           "#00cc96",
           "#ab63fa",
           "#FFA15A",
           "#19d3f3",
           "#FF6692",
           "#B6E880",
           "#FF97FF",
           "#FECB52"
          ],
          "font": {
           "color": "#2a3f5f"
          },
          "geo": {
           "bgcolor": "white",
           "lakecolor": "white",
           "landcolor": "#E5ECF6",
           "showlakes": true,
           "showland": true,
           "subunitcolor": "white"
          },
          "hoverlabel": {
           "align": "left"
          },
          "hovermode": "closest",
          "mapbox": {
           "style": "light"
          },
          "paper_bgcolor": "white",
          "plot_bgcolor": "#E5ECF6",
          "polar": {
           "angularaxis": {
            "gridcolor": "white",
            "linecolor": "white",
            "ticks": ""
           },
           "bgcolor": "#E5ECF6",
           "radialaxis": {
            "gridcolor": "white",
            "linecolor": "white",
            "ticks": ""
           }
          },
          "scene": {
           "xaxis": {
            "backgroundcolor": "#E5ECF6",
            "gridcolor": "white",
            "gridwidth": 2,
            "linecolor": "white",
            "showbackground": true,
            "ticks": "",
            "zerolinecolor": "white"
           },
           "yaxis": {
            "backgroundcolor": "#E5ECF6",
            "gridcolor": "white",
            "gridwidth": 2,
            "linecolor": "white",
            "showbackground": true,
            "ticks": "",
            "zerolinecolor": "white"
           },
           "zaxis": {
            "backgroundcolor": "#E5ECF6",
            "gridcolor": "white",
            "gridwidth": 2,
            "linecolor": "white",
            "showbackground": true,
            "ticks": "",
            "zerolinecolor": "white"
           }
          },
          "shapedefaults": {
           "line": {
            "color": "#2a3f5f"
           }
          },
          "ternary": {
           "aaxis": {
            "gridcolor": "white",
            "linecolor": "white",
            "ticks": ""
           },
           "baxis": {
            "gridcolor": "white",
            "linecolor": "white",
            "ticks": ""
           },
           "bgcolor": "#E5ECF6",
           "caxis": {
            "gridcolor": "white",
            "linecolor": "white",
            "ticks": ""
           }
          },
          "title": {
           "x": 0.05
          },
          "xaxis": {
           "automargin": true,
           "gridcolor": "white",
           "linecolor": "white",
           "ticks": "",
           "title": {
            "standoff": 15
           },
           "zerolinecolor": "white",
           "zerolinewidth": 2
          },
          "yaxis": {
           "automargin": true,
           "gridcolor": "white",
           "linecolor": "white",
           "ticks": "",
           "title": {
            "standoff": 15
           },
           "zerolinecolor": "white",
           "zerolinewidth": 2
          }
         }
        },
        "violinmode": "group",
        "xaxis": {
         "anchor": "y",
         "domain": [
          0,
          1
         ],
         "title": {
          "text": "variable"
         }
        },
        "yaxis": {
         "anchor": "x",
         "domain": [
          0,
          1
         ],
         "title": {
          "text": "value"
         }
        }
       }
      }
     },
     "metadata": {},
     "output_type": "display_data"
    }
   ],
   "source": [
    "# Code Here\n",
    "fig=px.violin(df['Gross domestic product: % growth : 2016'])\n",
    "fig.update_traces(marker_color='green')"
   ]
  },
  {
   "cell_type": "markdown",
   "id": "6aab732b-b718-4964-8b0f-c3ee77e944c2",
   "metadata": {
    "id": "6aab732b-b718-4964-8b0f-c3ee77e944c2"
   },
   "source": [
    "Plotting side-by-side box or violin plots allow us to compare distributions across different categories. In other words, they enable us to plot *both* a qualitative variable and a quantitative continuous variable in one visualization.\n",
    "\n",
    "Seaborn allows us to easily create side-by-side plots by specify both an `x` and `y` column."
   ]
  },
  {
   "cell_type": "code",
   "execution_count": 22,
   "id": "4a02cd36-e7eb-4f07-8847-f32cda674c9c",
   "metadata": {
    "id": "4a02cd36-e7eb-4f07-8847-f32cda674c9c",
    "outputId": "dd7ac8d6-bbf6-4a2f-f417-d5556f52fbe7"
   },
   "outputs": [
    {
     "data": {
      "application/vnd.plotly.v1+json": {
       "config": {
        "plotlyServerURL": "https://plot.ly"
       },
       "data": [
        {
         "alignmentgroup": "True",
         "hovertemplate": "Continent=%{x}<br>Gross domestic product: % growth : 2016=%{y}<extra></extra>",
         "legendgroup": "",
         "marker": {
          "color": "teal"
         },
         "name": "",
         "notched": false,
         "offsetgroup": "",
         "orientation": "v",
         "showlegend": false,
         "type": "box",
         "x": [
          "Africa",
          "Africa",
          "Africa",
          "Africa",
          "Africa",
          "Africa",
          "Africa",
          "Africa",
          "Africa",
          "Africa",
          "Africa",
          "Africa",
          "Africa",
          "Africa",
          "Africa",
          "Africa",
          "Africa",
          "Africa",
          "Africa",
          "Africa",
          "Africa",
          "Africa",
          "Africa",
          "Africa",
          "Africa",
          "Africa",
          "Africa",
          "Africa",
          "Africa",
          "Africa",
          "Africa",
          "Africa",
          "Africa",
          "Africa",
          "Africa",
          "Africa",
          "Africa",
          "Africa",
          "Africa",
          "Africa",
          "Africa",
          "Africa",
          "Africa",
          "Africa",
          "Africa",
          "Africa",
          "Africa",
          "Asia",
          "Asia",
          "Asia",
          "Asia",
          "Asia",
          "Asia",
          "Asia",
          "Asia",
          "Asia",
          "Asia",
          "Asia",
          "Asia",
          "Asia",
          "Asia",
          "Asia",
          "Asia",
          "Asia",
          "Asia",
          "Asia",
          "Asia",
          "Asia",
          "Asia",
          "Asia",
          "Asia",
          "Asia",
          "Asia",
          "Asia",
          "Asia",
          "Asia",
          "Asia",
          "Asia",
          "Asia",
          "Asia",
          "Asia",
          "Europe",
          "Europe",
          "Europe",
          "Europe",
          "Europe",
          "Europe",
          "Europe",
          "Europe",
          "Europe",
          "Europe",
          "Europe",
          "Europe",
          "Europe",
          "Europe",
          "Europe",
          "Europe",
          "Europe",
          "Europe",
          "Europe",
          "Europe",
          "Europe",
          "Europe",
          "Europe",
          "Europe",
          "Europe",
          "Europe",
          "Europe",
          "Europe",
          "Europe",
          "Europe",
          "Europe",
          "Europe",
          "Europe",
          "Europe",
          "Europe",
          "Europe",
          "Europe",
          "Europe",
          "Europe",
          "Europe",
          "Europe",
          "Europe",
          "Europe",
          "N. America",
          "N. America",
          "N. America",
          "N. America",
          "N. America",
          "N. America",
          "N. America",
          "N. America",
          "N. America",
          "N. America",
          "N. America",
          "N. America",
          "N. America",
          "N. America",
          "N. America",
          "N. America",
          "N. America",
          "N. America",
          "Oceania",
          "Oceania",
          "Oceania",
          "Oceania",
          "Oceania",
          "Oceania",
          "Oceania",
          "Oceania",
          "Oceania",
          "Oceania",
          "Oceania",
          "Oceania",
          "Oceania",
          "S. America",
          "S. America",
          "S. America",
          "S. America",
          "S. America",
          "S. America",
          "S. America",
          "S. America",
          "S. America",
          "S. America",
          "S. America"
         ],
         "x0": " ",
         "xaxis": "x",
         "y": [
          3.7,
          0,
          4,
          2.9,
          -0.6,
          4.5,
          4.5,
          -7,
          2.2,
          6.5,
          -9.7,
          null,
          7.6,
          2.3,
          3.6,
          5.2,
          5.6,
          5.8,
          2.5,
          -1.6,
          null,
          4.2,
          2.5,
          5.3,
          2,
          3.7,
          1.1,
          3.8,
          1.2,
          5,
          -1.5,
          5.9,
          4,
          6.6,
          4.5,
          6.1,
          null,
          0.3,
          -6.3,
          4.7,
          -2.2,
          7,
          4.9,
          1.2,
          4.6,
          3.3,
          0.7,
          2.2,
          2.9,
          7.1,
          6.2,
          6.9,
          6.7,
          7.1,
          5,
          11,
          4,
          1,
          2,
          1,
          1.8,
          1.8,
          4.2,
          4.1,
          1,
          0.6,
          5.7,
          5.7,
          6.9,
          2.2,
          -0.2,
          1.7,
          2,
          4.4,
          6.9,
          3.2,
          2.9,
          6.2,
          3,
          7.8,
          6.2,
          3.5,
          null,
          0.2,
          1.5,
          -3.1,
          -2.6,
          1.2,
          2,
          3.4,
          2.9,
          2.8,
          1.3,
          1.6,
          1.4,
          1.2,
          2.7,
          1.9,
          0,
          2,
          7.2,
          5.2,
          0.9,
          2,
          null,
          2.3,
          4.2,
          5,
          4.1,
          null,
          2.5,
          2.1,
          1.1,
          2.7,
          1.4,
          4.8,
          null,
          2.8,
          2.5,
          3.2,
          3.2,
          1.3,
          2.3,
          1.8,
          4.4,
          1.6,
          -0.8,
          1.5,
          4.3,
          4.4,
          0.9,
          6.6,
          2.4,
          1.9,
          3.1,
          1.4,
          3.6,
          1.4,
          2.3,
          4.7,
          4.9,
          -5.1,
          2.8,
          2,
          3.1,
          2.9,
          10.4,
          3.9,
          0,
          8.5,
          6.6,
          3,
          3.5,
          2.7,
          4,
          -2.3,
          4.3,
          -3.6,
          1.6,
          2,
          -1.5,
          3.3,
          4.1,
          3.9,
          -10.4,
          1.5
         ],
         "y0": " ",
         "yaxis": "y"
        }
       ],
       "layout": {
        "boxmode": "group",
        "legend": {
         "tracegroupgap": 0
        },
        "margin": {
         "t": 60
        },
        "template": {
         "data": {
          "bar": [
           {
            "error_x": {
             "color": "#2a3f5f"
            },
            "error_y": {
             "color": "#2a3f5f"
            },
            "marker": {
             "line": {
              "color": "#E5ECF6",
              "width": 0.5
             },
             "pattern": {
              "fillmode": "overlay",
              "size": 10,
              "solidity": 0.2
             }
            },
            "type": "bar"
           }
          ],
          "barpolar": [
           {
            "marker": {
             "line": {
              "color": "#E5ECF6",
              "width": 0.5
             },
             "pattern": {
              "fillmode": "overlay",
              "size": 10,
              "solidity": 0.2
             }
            },
            "type": "barpolar"
           }
          ],
          "carpet": [
           {
            "aaxis": {
             "endlinecolor": "#2a3f5f",
             "gridcolor": "white",
             "linecolor": "white",
             "minorgridcolor": "white",
             "startlinecolor": "#2a3f5f"
            },
            "baxis": {
             "endlinecolor": "#2a3f5f",
             "gridcolor": "white",
             "linecolor": "white",
             "minorgridcolor": "white",
             "startlinecolor": "#2a3f5f"
            },
            "type": "carpet"
           }
          ],
          "choropleth": [
           {
            "colorbar": {
             "outlinewidth": 0,
             "ticks": ""
            },
            "type": "choropleth"
           }
          ],
          "contour": [
           {
            "colorbar": {
             "outlinewidth": 0,
             "ticks": ""
            },
            "colorscale": [
             [
              0,
              "#0d0887"
             ],
             [
              0.1111111111111111,
              "#46039f"
             ],
             [
              0.2222222222222222,
              "#7201a8"
             ],
             [
              0.3333333333333333,
              "#9c179e"
             ],
             [
              0.4444444444444444,
              "#bd3786"
             ],
             [
              0.5555555555555556,
              "#d8576b"
             ],
             [
              0.6666666666666666,
              "#ed7953"
             ],
             [
              0.7777777777777778,
              "#fb9f3a"
             ],
             [
              0.8888888888888888,
              "#fdca26"
             ],
             [
              1,
              "#f0f921"
             ]
            ],
            "type": "contour"
           }
          ],
          "contourcarpet": [
           {
            "colorbar": {
             "outlinewidth": 0,
             "ticks": ""
            },
            "type": "contourcarpet"
           }
          ],
          "heatmap": [
           {
            "colorbar": {
             "outlinewidth": 0,
             "ticks": ""
            },
            "colorscale": [
             [
              0,
              "#0d0887"
             ],
             [
              0.1111111111111111,
              "#46039f"
             ],
             [
              0.2222222222222222,
              "#7201a8"
             ],
             [
              0.3333333333333333,
              "#9c179e"
             ],
             [
              0.4444444444444444,
              "#bd3786"
             ],
             [
              0.5555555555555556,
              "#d8576b"
             ],
             [
              0.6666666666666666,
              "#ed7953"
             ],
             [
              0.7777777777777778,
              "#fb9f3a"
             ],
             [
              0.8888888888888888,
              "#fdca26"
             ],
             [
              1,
              "#f0f921"
             ]
            ],
            "type": "heatmap"
           }
          ],
          "heatmapgl": [
           {
            "colorbar": {
             "outlinewidth": 0,
             "ticks": ""
            },
            "colorscale": [
             [
              0,
              "#0d0887"
             ],
             [
              0.1111111111111111,
              "#46039f"
             ],
             [
              0.2222222222222222,
              "#7201a8"
             ],
             [
              0.3333333333333333,
              "#9c179e"
             ],
             [
              0.4444444444444444,
              "#bd3786"
             ],
             [
              0.5555555555555556,
              "#d8576b"
             ],
             [
              0.6666666666666666,
              "#ed7953"
             ],
             [
              0.7777777777777778,
              "#fb9f3a"
             ],
             [
              0.8888888888888888,
              "#fdca26"
             ],
             [
              1,
              "#f0f921"
             ]
            ],
            "type": "heatmapgl"
           }
          ],
          "histogram": [
           {
            "marker": {
             "pattern": {
              "fillmode": "overlay",
              "size": 10,
              "solidity": 0.2
             }
            },
            "type": "histogram"
           }
          ],
          "histogram2d": [
           {
            "colorbar": {
             "outlinewidth": 0,
             "ticks": ""
            },
            "colorscale": [
             [
              0,
              "#0d0887"
             ],
             [
              0.1111111111111111,
              "#46039f"
             ],
             [
              0.2222222222222222,
              "#7201a8"
             ],
             [
              0.3333333333333333,
              "#9c179e"
             ],
             [
              0.4444444444444444,
              "#bd3786"
             ],
             [
              0.5555555555555556,
              "#d8576b"
             ],
             [
              0.6666666666666666,
              "#ed7953"
             ],
             [
              0.7777777777777778,
              "#fb9f3a"
             ],
             [
              0.8888888888888888,
              "#fdca26"
             ],
             [
              1,
              "#f0f921"
             ]
            ],
            "type": "histogram2d"
           }
          ],
          "histogram2dcontour": [
           {
            "colorbar": {
             "outlinewidth": 0,
             "ticks": ""
            },
            "colorscale": [
             [
              0,
              "#0d0887"
             ],
             [
              0.1111111111111111,
              "#46039f"
             ],
             [
              0.2222222222222222,
              "#7201a8"
             ],
             [
              0.3333333333333333,
              "#9c179e"
             ],
             [
              0.4444444444444444,
              "#bd3786"
             ],
             [
              0.5555555555555556,
              "#d8576b"
             ],
             [
              0.6666666666666666,
              "#ed7953"
             ],
             [
              0.7777777777777778,
              "#fb9f3a"
             ],
             [
              0.8888888888888888,
              "#fdca26"
             ],
             [
              1,
              "#f0f921"
             ]
            ],
            "type": "histogram2dcontour"
           }
          ],
          "mesh3d": [
           {
            "colorbar": {
             "outlinewidth": 0,
             "ticks": ""
            },
            "type": "mesh3d"
           }
          ],
          "parcoords": [
           {
            "line": {
             "colorbar": {
              "outlinewidth": 0,
              "ticks": ""
             }
            },
            "type": "parcoords"
           }
          ],
          "pie": [
           {
            "automargin": true,
            "type": "pie"
           }
          ],
          "scatter": [
           {
            "fillpattern": {
             "fillmode": "overlay",
             "size": 10,
             "solidity": 0.2
            },
            "type": "scatter"
           }
          ],
          "scatter3d": [
           {
            "line": {
             "colorbar": {
              "outlinewidth": 0,
              "ticks": ""
             }
            },
            "marker": {
             "colorbar": {
              "outlinewidth": 0,
              "ticks": ""
             }
            },
            "type": "scatter3d"
           }
          ],
          "scattercarpet": [
           {
            "marker": {
             "colorbar": {
              "outlinewidth": 0,
              "ticks": ""
             }
            },
            "type": "scattercarpet"
           }
          ],
          "scattergeo": [
           {
            "marker": {
             "colorbar": {
              "outlinewidth": 0,
              "ticks": ""
             }
            },
            "type": "scattergeo"
           }
          ],
          "scattergl": [
           {
            "marker": {
             "colorbar": {
              "outlinewidth": 0,
              "ticks": ""
             }
            },
            "type": "scattergl"
           }
          ],
          "scattermapbox": [
           {
            "marker": {
             "colorbar": {
              "outlinewidth": 0,
              "ticks": ""
             }
            },
            "type": "scattermapbox"
           }
          ],
          "scatterpolar": [
           {
            "marker": {
             "colorbar": {
              "outlinewidth": 0,
              "ticks": ""
             }
            },
            "type": "scatterpolar"
           }
          ],
          "scatterpolargl": [
           {
            "marker": {
             "colorbar": {
              "outlinewidth": 0,
              "ticks": ""
             }
            },
            "type": "scatterpolargl"
           }
          ],
          "scatterternary": [
           {
            "marker": {
             "colorbar": {
              "outlinewidth": 0,
              "ticks": ""
             }
            },
            "type": "scatterternary"
           }
          ],
          "surface": [
           {
            "colorbar": {
             "outlinewidth": 0,
             "ticks": ""
            },
            "colorscale": [
             [
              0,
              "#0d0887"
             ],
             [
              0.1111111111111111,
              "#46039f"
             ],
             [
              0.2222222222222222,
              "#7201a8"
             ],
             [
              0.3333333333333333,
              "#9c179e"
             ],
             [
              0.4444444444444444,
              "#bd3786"
             ],
             [
              0.5555555555555556,
              "#d8576b"
             ],
             [
              0.6666666666666666,
              "#ed7953"
             ],
             [
              0.7777777777777778,
              "#fb9f3a"
             ],
             [
              0.8888888888888888,
              "#fdca26"
             ],
             [
              1,
              "#f0f921"
             ]
            ],
            "type": "surface"
           }
          ],
          "table": [
           {
            "cells": {
             "fill": {
              "color": "#EBF0F8"
             },
             "line": {
              "color": "white"
             }
            },
            "header": {
             "fill": {
              "color": "#C8D4E3"
             },
             "line": {
              "color": "white"
             }
            },
            "type": "table"
           }
          ]
         },
         "layout": {
          "annotationdefaults": {
           "arrowcolor": "#2a3f5f",
           "arrowhead": 0,
           "arrowwidth": 1
          },
          "autotypenumbers": "strict",
          "coloraxis": {
           "colorbar": {
            "outlinewidth": 0,
            "ticks": ""
           }
          },
          "colorscale": {
           "diverging": [
            [
             0,
             "#8e0152"
            ],
            [
             0.1,
             "#c51b7d"
            ],
            [
             0.2,
             "#de77ae"
            ],
            [
             0.3,
             "#f1b6da"
            ],
            [
             0.4,
             "#fde0ef"
            ],
            [
             0.5,
             "#f7f7f7"
            ],
            [
             0.6,
             "#e6f5d0"
            ],
            [
             0.7,
             "#b8e186"
            ],
            [
             0.8,
             "#7fbc41"
            ],
            [
             0.9,
             "#4d9221"
            ],
            [
             1,
             "#276419"
            ]
           ],
           "sequential": [
            [
             0,
             "#0d0887"
            ],
            [
             0.1111111111111111,
             "#46039f"
            ],
            [
             0.2222222222222222,
             "#7201a8"
            ],
            [
             0.3333333333333333,
             "#9c179e"
            ],
            [
             0.4444444444444444,
             "#bd3786"
            ],
            [
             0.5555555555555556,
             "#d8576b"
            ],
            [
             0.6666666666666666,
             "#ed7953"
            ],
            [
             0.7777777777777778,
             "#fb9f3a"
            ],
            [
             0.8888888888888888,
             "#fdca26"
            ],
            [
             1,
             "#f0f921"
            ]
           ],
           "sequentialminus": [
            [
             0,
             "#0d0887"
            ],
            [
             0.1111111111111111,
             "#46039f"
            ],
            [
             0.2222222222222222,
             "#7201a8"
            ],
            [
             0.3333333333333333,
             "#9c179e"
            ],
            [
             0.4444444444444444,
             "#bd3786"
            ],
            [
             0.5555555555555556,
             "#d8576b"
            ],
            [
             0.6666666666666666,
             "#ed7953"
            ],
            [
             0.7777777777777778,
             "#fb9f3a"
            ],
            [
             0.8888888888888888,
             "#fdca26"
            ],
            [
             1,
             "#f0f921"
            ]
           ]
          },
          "colorway": [
           "#636efa",
           "#EF553B",
           "#00cc96",
           "#ab63fa",
           "#FFA15A",
           "#19d3f3",
           "#FF6692",
           "#B6E880",
           "#FF97FF",
           "#FECB52"
          ],
          "font": {
           "color": "#2a3f5f"
          },
          "geo": {
           "bgcolor": "white",
           "lakecolor": "white",
           "landcolor": "#E5ECF6",
           "showlakes": true,
           "showland": true,
           "subunitcolor": "white"
          },
          "hoverlabel": {
           "align": "left"
          },
          "hovermode": "closest",
          "mapbox": {
           "style": "light"
          },
          "paper_bgcolor": "white",
          "plot_bgcolor": "#E5ECF6",
          "polar": {
           "angularaxis": {
            "gridcolor": "white",
            "linecolor": "white",
            "ticks": ""
           },
           "bgcolor": "#E5ECF6",
           "radialaxis": {
            "gridcolor": "white",
            "linecolor": "white",
            "ticks": ""
           }
          },
          "scene": {
           "xaxis": {
            "backgroundcolor": "#E5ECF6",
            "gridcolor": "white",
            "gridwidth": 2,
            "linecolor": "white",
            "showbackground": true,
            "ticks": "",
            "zerolinecolor": "white"
           },
           "yaxis": {
            "backgroundcolor": "#E5ECF6",
            "gridcolor": "white",
            "gridwidth": 2,
            "linecolor": "white",
            "showbackground": true,
            "ticks": "",
            "zerolinecolor": "white"
           },
           "zaxis": {
            "backgroundcolor": "#E5ECF6",
            "gridcolor": "white",
            "gridwidth": 2,
            "linecolor": "white",
            "showbackground": true,
            "ticks": "",
            "zerolinecolor": "white"
           }
          },
          "shapedefaults": {
           "line": {
            "color": "#2a3f5f"
           }
          },
          "ternary": {
           "aaxis": {
            "gridcolor": "white",
            "linecolor": "white",
            "ticks": ""
           },
           "baxis": {
            "gridcolor": "white",
            "linecolor": "white",
            "ticks": ""
           },
           "bgcolor": "#E5ECF6",
           "caxis": {
            "gridcolor": "white",
            "linecolor": "white",
            "ticks": ""
           }
          },
          "title": {
           "x": 0.05
          },
          "xaxis": {
           "automargin": true,
           "gridcolor": "white",
           "linecolor": "white",
           "ticks": "",
           "title": {
            "standoff": 15
           },
           "zerolinecolor": "white",
           "zerolinewidth": 2
          },
          "yaxis": {
           "automargin": true,
           "gridcolor": "white",
           "linecolor": "white",
           "ticks": "",
           "title": {
            "standoff": 15
           },
           "zerolinecolor": "white",
           "zerolinewidth": 2
          }
         }
        },
        "xaxis": {
         "anchor": "y",
         "domain": [
          0,
          1
         ],
         "title": {
          "text": "Continent"
         }
        },
        "yaxis": {
         "anchor": "x",
         "domain": [
          0,
          1
         ],
         "title": {
          "text": "Gross domestic product: % growth : 2016"
         }
        }
       }
      }
     },
     "metadata": {},
     "output_type": "display_data"
    }
   ],
   "source": [
    "# Code Here\n",
    "fig=px.box(data_frame=df,x=\"Continent\", y=\"Gross domestic product: % growth : 2016\",)\n",
    "fig.update_traces(marker_color='teal')\n",
    "fig.show()"
   ]
  }
 ],
 "metadata": {
  "colab": {
   "provenance": []
  },
  "kernelspec": {
   "display_name": "python_eda",
   "language": "python",
   "name": "python3"
  },
  "language_info": {
   "codemirror_mode": {
    "name": "ipython",
    "version": 3
   },
   "file_extension": ".py",
   "mimetype": "text/x-python",
   "name": "python",
   "nbconvert_exporter": "python",
   "pygments_lexer": "ipython3",
   "version": "3.12.3"
  }
 },
 "nbformat": 4,
 "nbformat_minor": 5
}
