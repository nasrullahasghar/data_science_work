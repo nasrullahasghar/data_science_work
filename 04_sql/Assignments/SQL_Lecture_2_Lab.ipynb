{
 "cells": [
  {
   "cell_type": "markdown",
   "id": "31f40da4-66a9-4260-a6d6-5bc9e3e8e0f7",
   "metadata": {},
   "source": [
    "# SQL II\n",
    "\n",
    "Exploring advanced SQL syntax.\n",
    "\n",
    "### Loading the Data\n",
    "In this lecture, we'll continue our work with the `Dish` table. In the cells below, we connect to the database and query the table."
   ]
  },
  {
   "cell_type": "code",
   "execution_count": 42,
   "id": "c02424df-1496-494b-b64b-48c06701588e",
   "metadata": {},
   "outputs": [
    {
     "name": "stdout",
     "output_type": "stream",
     "text": [
      "The sql extension is already loaded. To reload it, use:\n",
      "  %reload_ext sql\n"
     ]
    }
   ],
   "source": [
    "%load_ext sql"
   ]
  },
  {
   "cell_type": "code",
   "execution_count": 43,
   "id": "783d46d6-f62e-474c-ac21-6145256e397f",
   "metadata": {
    "scrolled": true
   },
   "outputs": [
    {
     "data": {
      "text/plain": [
       "'Connected: @D:/Knowledege_Streams_Course/04_sql/Assignments/basic_examples.db'"
      ]
     },
     "execution_count": 43,
     "metadata": {},
     "output_type": "execute_result"
    }
   ],
   "source": [
    "%%sql\n",
    "sqlite:///D:/Knowledege_Streams_Course/04_sql/Assignments/basic_examples.db"
   ]
  },
  {
   "cell_type": "code",
   "execution_count": 44,
   "id": "48ebdc4e",
   "metadata": {},
   "outputs": [
    {
     "name": "stdout",
     "output_type": "stream",
     "text": [
      " * sqlite:///D:/Knowledege_Streams_Course/04_sql/Assignments/basic_examples.db\n",
      "   sqlite:///D:/Knowledege_Streams_Course/04_sql/Assignments/basic_examples2.db\n",
      "   sqlite:///D:/Knowledege_Streams_Course/04_sql/Assignments/imdbmini.db\n",
      "Done.\n"
     ]
    },
    {
     "data": {
      "text/html": [
       "<table>\n",
       "    <thead>\n",
       "        <tr>\n",
       "            <th>type</th>\n",
       "            <th>name</th>\n",
       "            <th>tbl_name</th>\n",
       "            <th>rootpage</th>\n",
       "            <th>sql</th>\n",
       "        </tr>\n",
       "    </thead>\n",
       "    <tbody>\n",
       "        <tr>\n",
       "            <td>table</td>\n",
       "            <td>sqlite_sequence</td>\n",
       "            <td>sqlite_sequence</td>\n",
       "            <td>7</td>\n",
       "            <td>CREATE TABLE sqlite_sequence(name,seq)</td>\n",
       "        </tr>\n",
       "        <tr>\n",
       "            <td>table</td>\n",
       "            <td>Dragon</td>\n",
       "            <td>Dragon</td>\n",
       "            <td>2</td>\n",
       "            <td>CREATE TABLE Dragon (<br>    name TEXT PRIMARY KEY,<br>    year INTEGER CHECK (year &gt;= 2000),<br>    cute INTEGER<br>)</td>\n",
       "        </tr>\n",
       "        <tr>\n",
       "            <td>table</td>\n",
       "            <td>Dish</td>\n",
       "            <td>Dish</td>\n",
       "            <td>4</td>\n",
       "            <td>CREATE TABLE Dish (<br>    name TEXT PRIMARY KEY,<br>    type TEXT,<br>    cost INTEGER CHECK (cost &gt;= 0)<br>)</td>\n",
       "        </tr>\n",
       "        <tr>\n",
       "            <td>table</td>\n",
       "            <td>Scene</td>\n",
       "            <td>Scene</td>\n",
       "            <td>6</td>\n",
       "            <td>CREATE TABLE Scene (<br>    id INTEGER PRIMARY KEY AUTOINCREMENT,<br>    biome TEXT NOT NULL,<br>    city TEXT NOT NULL,<br>    visitors INTEGER CHECK (visitors &gt;= 0),<br>    created_at DATETIME DEFAULT (DATETIME(&#x27;now&#x27;))<br>)</td>\n",
       "        </tr>\n",
       "    </tbody>\n",
       "</table>"
      ],
      "text/plain": [
       "[('table', 'sqlite_sequence', 'sqlite_sequence', 7, 'CREATE TABLE sqlite_sequence(name,seq)'),\n",
       " ('table', 'Dragon', 'Dragon', 2, 'CREATE TABLE Dragon (\\n    name TEXT PRIMARY KEY,\\n    year INTEGER CHECK (year >= 2000),\\n    cute INTEGER\\n)'),\n",
       " ('table', 'Dish', 'Dish', 4, 'CREATE TABLE Dish (\\n    name TEXT PRIMARY KEY,\\n    type TEXT,\\n    cost INTEGER CHECK (cost >= 0)\\n)'),\n",
       " ('table', 'Scene', 'Scene', 6, \"CREATE TABLE Scene (\\n    id INTEGER PRIMARY KEY AUTOINCREMENT,\\n    biome TEXT NOT NULL,\\n    city TEXT NOT NULL,\\n    visitors INTEGER CHECK (visitors >= 0),\\n    created_at DATETIME DEFAULT (DATETIME('now'))\\n)\")]"
      ]
     },
     "execution_count": 44,
     "metadata": {},
     "output_type": "execute_result"
    }
   ],
   "source": [
    "%%sql\n",
    "SELECT * FROM sqlite_master WHERE type='table'"
   ]
  },
  {
   "cell_type": "markdown",
   "id": "82e34d4e",
   "metadata": {},
   "source": [
    "**Question**: Query the entire **Dish** table."
   ]
  },
  {
   "cell_type": "code",
   "execution_count": 45,
   "id": "6840675d",
   "metadata": {},
   "outputs": [
    {
     "name": "stdout",
     "output_type": "stream",
     "text": [
      " * sqlite:///D:/Knowledege_Streams_Course/04_sql/Assignments/basic_examples.db\n",
      "   sqlite:///D:/Knowledege_Streams_Course/04_sql/Assignments/basic_examples2.db\n",
      "   sqlite:///D:/Knowledege_Streams_Course/04_sql/Assignments/imdbmini.db\n",
      "Done.\n"
     ]
    },
    {
     "data": {
      "text/html": [
       "<table>\n",
       "    <thead>\n",
       "        <tr>\n",
       "            <th>name</th>\n",
       "            <th>type</th>\n",
       "            <th>cost</th>\n",
       "        </tr>\n",
       "    </thead>\n",
       "    <tbody>\n",
       "        <tr>\n",
       "            <td>ravioli</td>\n",
       "            <td>entree</td>\n",
       "            <td>10</td>\n",
       "        </tr>\n",
       "        <tr>\n",
       "            <td>ramen</td>\n",
       "            <td>entree</td>\n",
       "            <td>13</td>\n",
       "        </tr>\n",
       "        <tr>\n",
       "            <td>taco</td>\n",
       "            <td>entree</td>\n",
       "            <td>7</td>\n",
       "        </tr>\n",
       "        <tr>\n",
       "            <td>edamame</td>\n",
       "            <td>appetizer</td>\n",
       "            <td>4</td>\n",
       "        </tr>\n",
       "        <tr>\n",
       "            <td>fries</td>\n",
       "            <td>appetizer</td>\n",
       "            <td>4</td>\n",
       "        </tr>\n",
       "        <tr>\n",
       "            <td>potsticker</td>\n",
       "            <td>appetizer</td>\n",
       "            <td>4</td>\n",
       "        </tr>\n",
       "        <tr>\n",
       "            <td>ice cream</td>\n",
       "            <td>dessert</td>\n",
       "            <td>5</td>\n",
       "        </tr>\n",
       "    </tbody>\n",
       "</table>"
      ],
      "text/plain": [
       "[('ravioli', 'entree', 10),\n",
       " ('ramen', 'entree', 13),\n",
       " ('taco', 'entree', 7),\n",
       " ('edamame', 'appetizer', 4),\n",
       " ('fries', 'appetizer', 4),\n",
       " ('potsticker', 'appetizer', 4),\n",
       " ('ice cream', 'dessert', 5)]"
      ]
     },
     "execution_count": 45,
     "metadata": {},
     "output_type": "execute_result"
    }
   ],
   "source": [
    "%sql select * from Dish"
   ]
  },
  {
   "cell_type": "markdown",
   "id": "16166fbe-6b8c-4ec9-a8bd-7e229f6d2ce9",
   "metadata": {},
   "source": [
    "### Filtering Groups Using `HAVING`"
   ]
  },
  {
   "cell_type": "markdown",
   "id": "a22e244b",
   "metadata": {},
   "source": [
    "**Question**: Query the total dishes of each type having a maximum cost of less than 8."
   ]
  },
  {
   "cell_type": "code",
   "execution_count": 46,
   "id": "b21de9e2-6798-4f3c-bee1-3951dec17ece",
   "metadata": {
    "scrolled": true
   },
   "outputs": [
    {
     "name": "stdout",
     "output_type": "stream",
     "text": [
      " * sqlite:///D:/Knowledege_Streams_Course/04_sql/Assignments/basic_examples.db\n",
      "   sqlite:///D:/Knowledege_Streams_Course/04_sql/Assignments/basic_examples2.db\n",
      "   sqlite:///D:/Knowledege_Streams_Course/04_sql/Assignments/imdbmini.db\n",
      "Done.\n"
     ]
    },
    {
     "data": {
      "text/html": [
       "<table>\n",
       "    <thead>\n",
       "        <tr>\n",
       "            <th>type</th>\n",
       "            <th>Dish_Count</th>\n",
       "        </tr>\n",
       "    </thead>\n",
       "    <tbody>\n",
       "        <tr>\n",
       "            <td>appetizer</td>\n",
       "            <td>3</td>\n",
       "        </tr>\n",
       "        <tr>\n",
       "            <td>dessert</td>\n",
       "            <td>1</td>\n",
       "        </tr>\n",
       "        <tr>\n",
       "            <td>entree</td>\n",
       "            <td>3</td>\n",
       "        </tr>\n",
       "    </tbody>\n",
       "</table>"
      ],
      "text/plain": [
       "[('appetizer', 3), ('dessert', 1), ('entree', 3)]"
      ]
     },
     "execution_count": 46,
     "metadata": {},
     "output_type": "execute_result"
    }
   ],
   "source": [
    "%%sql\n",
    "SELECT type, COUNT(*) as Dish_Count\n",
    "FROM Dish\n",
    "GROUP BY type\n",
    "HAVING COUNT(*) < 8;\n"
   ]
  },
  {
   "cell_type": "markdown",
   "id": "65a990bb-1c1e-4833-a631-b06f37bb4ba5",
   "metadata": {},
   "source": [
    "### EDA in SQL\n",
    "\n",
    "Our typical workflow when working with \"big data\" is:\n",
    "* Use SQL to query data from a database\n",
    "* Use Python (with `pandas`) to analyze this data in detail\n",
    "\n",
    "We can, however, still perform simple data cleaning and re-structuring using SQL directly. To do so, we'll consider the `Title` table from the IMDB dataset. We use random ordering here to get a \"snapshot\" of representative rows sampled from throughout the table."
   ]
  },
  {
   "cell_type": "code",
   "execution_count": 47,
   "id": "1f714ccc-5085-42fd-bbe1-dd482d2ce468",
   "metadata": {},
   "outputs": [
    {
     "data": {
      "text/plain": [
       "'Connected: @D:/Knowledege_Streams_Course/04_sql/Assignments/imdbmini.db'"
      ]
     },
     "execution_count": 47,
     "metadata": {},
     "output_type": "execute_result"
    }
   ],
   "source": [
    "%%sql\n",
    "sqlite:///D:/Knowledege_Streams_Course/04_sql/Assignments/imdbmini.db"
   ]
  },
  {
   "cell_type": "code",
   "execution_count": 48,
   "id": "396d27bc-dec2-4dd2-a52c-03602e2d2bc2",
   "metadata": {},
   "outputs": [
    {
     "name": "stdout",
     "output_type": "stream",
     "text": [
      "   sqlite:///D:/Knowledege_Streams_Course/04_sql/Assignments/basic_examples.db\n",
      "   sqlite:///D:/Knowledege_Streams_Course/04_sql/Assignments/basic_examples2.db\n",
      " * sqlite:///D:/Knowledege_Streams_Course/04_sql/Assignments/imdbmini.db\n",
      "Done.\n"
     ]
    },
    {
     "data": {
      "text/html": [
       "<table>\n",
       "    <thead>\n",
       "        <tr>\n",
       "            <th>tconst</th>\n",
       "            <th>titleType</th>\n",
       "            <th>primaryTitle</th>\n",
       "            <th>originalTitle</th>\n",
       "            <th>isAdult</th>\n",
       "            <th>startYear</th>\n",
       "            <th>endYear</th>\n",
       "            <th>runtimeMinutes</th>\n",
       "            <th>genres</th>\n",
       "        </tr>\n",
       "    </thead>\n",
       "    <tbody>\n",
       "        <tr>\n",
       "            <td>259288</td>\n",
       "            <td>movie</td>\n",
       "            <td>Dragonfly</td>\n",
       "            <td>Dragonfly</td>\n",
       "            <td>0</td>\n",
       "            <td>2002</td>\n",
       "            <td>None</td>\n",
       "            <td>104</td>\n",
       "            <td>Drama,Fantasy,Mystery</td>\n",
       "        </tr>\n",
       "        <tr>\n",
       "            <td>831887</td>\n",
       "            <td>movie</td>\n",
       "            <td>The Spirit</td>\n",
       "            <td>The Spirit</td>\n",
       "            <td>0</td>\n",
       "            <td>2008</td>\n",
       "            <td>None</td>\n",
       "            <td>103</td>\n",
       "            <td>Action,Crime,Fantasy</td>\n",
       "        </tr>\n",
       "        <tr>\n",
       "            <td>1234719</td>\n",
       "            <td>movie</td>\n",
       "            <td>Red Dawn</td>\n",
       "            <td>Red Dawn</td>\n",
       "            <td>0</td>\n",
       "            <td>2012</td>\n",
       "            <td>None</td>\n",
       "            <td>93</td>\n",
       "            <td>Action,Drama</td>\n",
       "        </tr>\n",
       "        <tr>\n",
       "            <td>476735</td>\n",
       "            <td>movie</td>\n",
       "            <td>My Father and My Son</td>\n",
       "            <td>Babam ve Oglum</td>\n",
       "            <td>0</td>\n",
       "            <td>2005</td>\n",
       "            <td>None</td>\n",
       "            <td>112</td>\n",
       "            <td>Drama,Family</td>\n",
       "        </tr>\n",
       "        <tr>\n",
       "            <td>923752</td>\n",
       "            <td>movie</td>\n",
       "            <td>The King of Kong: A Fistful of Quarters</td>\n",
       "            <td>The King of Kong</td>\n",
       "            <td>0</td>\n",
       "            <td>2007</td>\n",
       "            <td>None</td>\n",
       "            <td>79</td>\n",
       "            <td>Biography,Documentary,Sport</td>\n",
       "        </tr>\n",
       "        <tr>\n",
       "            <td>1596350</td>\n",
       "            <td>movie</td>\n",
       "            <td>This Means War</td>\n",
       "            <td>This Means War</td>\n",
       "            <td>0</td>\n",
       "            <td>2012</td>\n",
       "            <td>None</td>\n",
       "            <td>103</td>\n",
       "            <td>Action,Comedy,Romance</td>\n",
       "        </tr>\n",
       "        <tr>\n",
       "            <td>383694</td>\n",
       "            <td>movie</td>\n",
       "            <td>Vera Drake</td>\n",
       "            <td>Vera Drake</td>\n",
       "            <td>0</td>\n",
       "            <td>2004</td>\n",
       "            <td>None</td>\n",
       "            <td>125</td>\n",
       "            <td>Crime,Drama</td>\n",
       "        </tr>\n",
       "        <tr>\n",
       "            <td>423977</td>\n",
       "            <td>movie</td>\n",
       "            <td>Charlie Bartlett</td>\n",
       "            <td>Charlie Bartlett</td>\n",
       "            <td>0</td>\n",
       "            <td>2007</td>\n",
       "            <td>None</td>\n",
       "            <td>97</td>\n",
       "            <td>Comedy,Drama,Romance</td>\n",
       "        </tr>\n",
       "        <tr>\n",
       "            <td>2140379</td>\n",
       "            <td>movie</td>\n",
       "            <td>Self/less</td>\n",
       "            <td>Self/less</td>\n",
       "            <td>0</td>\n",
       "            <td>2015</td>\n",
       "            <td>None</td>\n",
       "            <td>117</td>\n",
       "            <td>Action,Mystery,Sci-Fi</td>\n",
       "        </tr>\n",
       "        <tr>\n",
       "            <td>2625030</td>\n",
       "            <td>movie</td>\n",
       "            <td>New World</td>\n",
       "            <td>Sinsegye</td>\n",
       "            <td>0</td>\n",
       "            <td>2013</td>\n",
       "            <td>None</td>\n",
       "            <td>135</td>\n",
       "            <td>Action,Crime,Drama</td>\n",
       "        </tr>\n",
       "    </tbody>\n",
       "</table>"
      ],
      "text/plain": [
       "[(259288, 'movie', 'Dragonfly', 'Dragonfly', '0', '2002', None, '104', 'Drama,Fantasy,Mystery'),\n",
       " (831887, 'movie', 'The Spirit', 'The Spirit', '0', '2008', None, '103', 'Action,Crime,Fantasy'),\n",
       " (1234719, 'movie', 'Red Dawn', 'Red Dawn', '0', '2012', None, '93', 'Action,Drama'),\n",
       " (476735, 'movie', 'My Father and My Son', 'Babam ve Oglum', '0', '2005', None, '112', 'Drama,Family'),\n",
       " (923752, 'movie', 'The King of Kong: A Fistful of Quarters', 'The King of Kong', '0', '2007', None, '79', 'Biography,Documentary,Sport'),\n",
       " (1596350, 'movie', 'This Means War', 'This Means War', '0', '2012', None, '103', 'Action,Comedy,Romance'),\n",
       " (383694, 'movie', 'Vera Drake', 'Vera Drake', '0', '2004', None, '125', 'Crime,Drama'),\n",
       " (423977, 'movie', 'Charlie Bartlett', 'Charlie Bartlett', '0', '2007', None, '97', 'Comedy,Drama,Romance'),\n",
       " (2140379, 'movie', 'Self/less', 'Self/less', '0', '2015', None, '117', 'Action,Mystery,Sci-Fi'),\n",
       " (2625030, 'movie', 'New World', 'Sinsegye', '0', '2013', None, '135', 'Action,Crime,Drama')]"
      ]
     },
     "execution_count": 48,
     "metadata": {},
     "output_type": "execute_result"
    }
   ],
   "source": [
    "%%sql\n",
    "SELECT *\n",
    "FROM Title\n",
    "ORDER BY RANDOM()\n",
    "LIMIT 10;"
   ]
  },
  {
   "cell_type": "markdown",
   "id": "91dffd1a-ea90-42d8-9fdc-9f9527afa26b",
   "metadata": {},
   "source": [
    "#### Matching Text Using `LIKE`"
   ]
  },
  {
   "cell_type": "markdown",
   "id": "19b9f544",
   "metadata": {},
   "source": [
    "**Question**: Query the title types and primary title names with the primary title including the phrase \"Star Wars\"."
   ]
  },
  {
   "cell_type": "code",
   "execution_count": 49,
   "id": "6b33e667-f757-4201-bceb-b0a8535a8bef",
   "metadata": {
    "scrolled": false
   },
   "outputs": [
    {
     "name": "stdout",
     "output_type": "stream",
     "text": [
      "   sqlite:///D:/Knowledege_Streams_Course/04_sql/Assignments/basic_examples.db\n",
      "   sqlite:///D:/Knowledege_Streams_Course/04_sql/Assignments/basic_examples2.db\n",
      " * sqlite:///D:/Knowledege_Streams_Course/04_sql/Assignments/imdbmini.db\n",
      "Done.\n"
     ]
    },
    {
     "data": {
      "text/html": [
       "<table>\n",
       "    <thead>\n",
       "        <tr>\n",
       "            <th>titleType</th>\n",
       "            <th>primaryTitle</th>\n",
       "        </tr>\n",
       "    </thead>\n",
       "    <tbody>\n",
       "        <tr>\n",
       "            <td>movie</td>\n",
       "            <td>Star Wars: Episode IV - A New Hope</td>\n",
       "        </tr>\n",
       "        <tr>\n",
       "            <td>movie</td>\n",
       "            <td>Star Wars: Episode V - The Empire Strikes Back</td>\n",
       "        </tr>\n",
       "        <tr>\n",
       "            <td>movie</td>\n",
       "            <td>Star Wars: Episode VI - Return of the Jedi</td>\n",
       "        </tr>\n",
       "        <tr>\n",
       "            <td>movie</td>\n",
       "            <td>Star Wars: Episode I - The Phantom Menace</td>\n",
       "        </tr>\n",
       "        <tr>\n",
       "            <td>movie</td>\n",
       "            <td>Star Wars: Episode II - Attack of the Clones</td>\n",
       "        </tr>\n",
       "        <tr>\n",
       "            <td>movie</td>\n",
       "            <td>Star Wars: Episode III - Revenge of the Sith</td>\n",
       "        </tr>\n",
       "        <tr>\n",
       "            <td>tvSeries</td>\n",
       "            <td>Star Wars: Clone Wars</td>\n",
       "        </tr>\n",
       "        <tr>\n",
       "            <td>tvSeries</td>\n",
       "            <td>Star Wars: The Clone Wars</td>\n",
       "        </tr>\n",
       "        <tr>\n",
       "            <td>movie</td>\n",
       "            <td>Star Wars: The Clone Wars</td>\n",
       "        </tr>\n",
       "        <tr>\n",
       "            <td>movie</td>\n",
       "            <td>Star Wars: Episode VII - The Force Awakens</td>\n",
       "        </tr>\n",
       "        <tr>\n",
       "            <td>movie</td>\n",
       "            <td>Star Wars: Episode VIII - The Last Jedi</td>\n",
       "        </tr>\n",
       "        <tr>\n",
       "            <td>movie</td>\n",
       "            <td>Star Wars: Episode IX - The Rise of Skywalker</td>\n",
       "        </tr>\n",
       "        <tr>\n",
       "            <td>tvSeries</td>\n",
       "            <td>Star Wars Rebels</td>\n",
       "        </tr>\n",
       "        <tr>\n",
       "            <td>movie</td>\n",
       "            <td>Rogue One: A Star Wars Story</td>\n",
       "        </tr>\n",
       "        <tr>\n",
       "            <td>movie</td>\n",
       "            <td>Solo: A Star Wars Story</td>\n",
       "        </tr>\n",
       "    </tbody>\n",
       "</table>"
      ],
      "text/plain": [
       "[('movie', 'Star Wars: Episode IV - A New Hope'),\n",
       " ('movie', 'Star Wars: Episode V - The Empire Strikes Back'),\n",
       " ('movie', 'Star Wars: Episode VI - Return of the Jedi'),\n",
       " ('movie', 'Star Wars: Episode I - The Phantom Menace'),\n",
       " ('movie', 'Star Wars: Episode II - Attack of the Clones'),\n",
       " ('movie', 'Star Wars: Episode III - Revenge of the Sith'),\n",
       " ('tvSeries', 'Star Wars: Clone Wars'),\n",
       " ('tvSeries', 'Star Wars: The Clone Wars'),\n",
       " ('movie', 'Star Wars: The Clone Wars'),\n",
       " ('movie', 'Star Wars: Episode VII - The Force Awakens'),\n",
       " ('movie', 'Star Wars: Episode VIII - The Last Jedi'),\n",
       " ('movie', 'Star Wars: Episode IX - The Rise of Skywalker'),\n",
       " ('tvSeries', 'Star Wars Rebels'),\n",
       " ('movie', 'Rogue One: A Star Wars Story'),\n",
       " ('movie', 'Solo: A Star Wars Story')]"
      ]
     },
     "execution_count": 49,
     "metadata": {},
     "output_type": "execute_result"
    }
   ],
   "source": [
    "%%sql\n",
    "SELECT titleType, primaryTitle\n",
    "FROM Title\n",
    "WHERE primaryTitle LIKE '%Star Wars%'"
   ]
  },
  {
   "cell_type": "markdown",
   "id": "05684e2d",
   "metadata": {},
   "source": [
    "_ means “look for exactly 1 character”"
   ]
  },
  {
   "cell_type": "code",
   "execution_count": 50,
   "id": "1b3b7f67-ffc9-400f-9149-b5819b76110e",
   "metadata": {},
   "outputs": [
    {
     "name": "stdout",
     "output_type": "stream",
     "text": [
      "   sqlite:///D:/Knowledege_Streams_Course/04_sql/Assignments/basic_examples.db\n",
      "   sqlite:///D:/Knowledege_Streams_Course/04_sql/Assignments/basic_examples2.db\n",
      " * sqlite:///D:/Knowledege_Streams_Course/04_sql/Assignments/imdbmini.db\n",
      "Done.\n"
     ]
    },
    {
     "data": {
      "text/html": [
       "<table>\n",
       "    <thead>\n",
       "        <tr>\n",
       "            <th>titleType</th>\n",
       "            <th>primaryTitle</th>\n",
       "        </tr>\n",
       "    </thead>\n",
       "    <tbody>\n",
       "        <tr>\n",
       "            <td>movie</td>\n",
       "            <td>Harry Potter and the Deathly Hallows: Part 1</td>\n",
       "        </tr>\n",
       "        <tr>\n",
       "            <td>movie</td>\n",
       "            <td>Harry Potter and the Deathly Hallows: Part 2</td>\n",
       "        </tr>\n",
       "    </tbody>\n",
       "</table>"
      ],
      "text/plain": [
       "[('movie', 'Harry Potter and the Deathly Hallows: Part 1'),\n",
       " ('movie', 'Harry Potter and the Deathly Hallows: Part 2')]"
      ]
     },
     "execution_count": 50,
     "metadata": {},
     "output_type": "execute_result"
    }
   ],
   "source": [
    "%%sql\n",
    "SELECT titleType, primaryTitle\n",
    "FROM Title\n",
    "WHERE primaryTitle LIKE \"Harry Potter and the Deathly Hallows: Part _\""
   ]
  },
  {
   "cell_type": "markdown",
   "id": "0672546d-cc65-4391-80f1-0f42f451e42b",
   "metadata": {
    "tags": []
   },
   "source": [
    "#### Converting Data Types Using `CAST`"
   ]
  },
  {
   "cell_type": "markdown",
   "id": "e5630dd6",
   "metadata": {},
   "source": [
    "**Question**: Query the primary title and runtime (cast as integer) of any 10 movies."
   ]
  },
  {
   "cell_type": "code",
   "execution_count": 51,
   "id": "ba80cc38-c5fb-4b2b-8b7b-2564b2657d11",
   "metadata": {},
   "outputs": [
    {
     "name": "stdout",
     "output_type": "stream",
     "text": [
      "   sqlite:///D:/Knowledege_Streams_Course/04_sql/Assignments/basic_examples.db\n",
      "   sqlite:///D:/Knowledege_Streams_Course/04_sql/Assignments/basic_examples2.db\n",
      " * sqlite:///D:/Knowledege_Streams_Course/04_sql/Assignments/imdbmini.db\n",
      "Done.\n"
     ]
    },
    {
     "data": {
      "text/html": [
       "<table>\n",
       "    <thead>\n",
       "        <tr>\n",
       "            <th>primaryTitle</th>\n",
       "            <th>cast(runtimeMinutes as int)</th>\n",
       "        </tr>\n",
       "    </thead>\n",
       "    <tbody>\n",
       "        <tr>\n",
       "            <td>A Trip to the Moon</td>\n",
       "            <td>13</td>\n",
       "        </tr>\n",
       "        <tr>\n",
       "            <td>The Birth of a Nation</td>\n",
       "            <td>195</td>\n",
       "        </tr>\n",
       "        <tr>\n",
       "            <td>The Cabinet of Dr. Caligari</td>\n",
       "            <td>76</td>\n",
       "        </tr>\n",
       "        <tr>\n",
       "            <td>The Kid</td>\n",
       "            <td>68</td>\n",
       "        </tr>\n",
       "        <tr>\n",
       "            <td>Nosferatu</td>\n",
       "            <td>94</td>\n",
       "        </tr>\n",
       "        <tr>\n",
       "            <td>Sherlock Jr.</td>\n",
       "            <td>45</td>\n",
       "        </tr>\n",
       "        <tr>\n",
       "            <td>Battleship Potemkin</td>\n",
       "            <td>75</td>\n",
       "        </tr>\n",
       "        <tr>\n",
       "            <td>The Gold Rush</td>\n",
       "            <td>95</td>\n",
       "        </tr>\n",
       "        <tr>\n",
       "            <td>Metropolis</td>\n",
       "            <td>153</td>\n",
       "        </tr>\n",
       "        <tr>\n",
       "            <td>The General</td>\n",
       "            <td>67</td>\n",
       "        </tr>\n",
       "    </tbody>\n",
       "</table>"
      ],
      "text/plain": [
       "[('A Trip to the Moon', 13),\n",
       " ('The Birth of a Nation', 195),\n",
       " ('The Cabinet of Dr. Caligari', 76),\n",
       " ('The Kid', 68),\n",
       " ('Nosferatu', 94),\n",
       " ('Sherlock Jr.', 45),\n",
       " ('Battleship Potemkin', 75),\n",
       " ('The Gold Rush', 95),\n",
       " ('Metropolis', 153),\n",
       " ('The General', 67)]"
      ]
     },
     "execution_count": 51,
     "metadata": {},
     "output_type": "execute_result"
    }
   ],
   "source": [
    "%%sql\n",
    "select primaryTitle, cast(runtimeMinutes as int)\n",
    "from Title\n",
    "Limit 10;"
   ]
  },
  {
   "cell_type": "markdown",
   "id": "7c3e867f-ef9b-423e-8bb1-1b39d334fc46",
   "metadata": {},
   "source": [
    "### Applying Conditions With `CASE`\n",
    "\n",
    "Here, we return a random order so we can see the various movie ages (otherwise, the top few entries happen to all be old movies)."
   ]
  },
  {
   "cell_type": "markdown",
   "id": "9806ff33",
   "metadata": {},
   "source": [
    "**Question**: Classify each movie title as 'new' if it was released before 1950 and 'mid-aged' if was released before 2000; label this column \"movie_age\". Select \"title_type\", \"startYear\" and \"movie_age\" in your query.  "
   ]
  },
  {
   "cell_type": "code",
   "execution_count": 52,
   "id": "cad982e9-b13d-42bf-868d-050f45c6d269",
   "metadata": {},
   "outputs": [
    {
     "name": "stdout",
     "output_type": "stream",
     "text": [
      "   sqlite:///D:/Knowledege_Streams_Course/04_sql/Assignments/basic_examples.db\n",
      "   sqlite:///D:/Knowledege_Streams_Course/04_sql/Assignments/basic_examples2.db\n",
      " * sqlite:///D:/Knowledege_Streams_Course/04_sql/Assignments/imdbmini.db\n",
      "Done.\n"
     ]
    },
    {
     "data": {
      "text/html": [
       "<table>\n",
       "    <thead>\n",
       "        <tr>\n",
       "            <th>titleType</th>\n",
       "            <th>startYear</th>\n",
       "            <th>movie_age</th>\n",
       "        </tr>\n",
       "    </thead>\n",
       "    <tbody>\n",
       "        <tr>\n",
       "            <td>short</td>\n",
       "            <td>1902</td>\n",
       "            <td>old</td>\n",
       "        </tr>\n",
       "        <tr>\n",
       "            <td>movie</td>\n",
       "            <td>1915</td>\n",
       "            <td>old</td>\n",
       "        </tr>\n",
       "        <tr>\n",
       "            <td>movie</td>\n",
       "            <td>1920</td>\n",
       "            <td>old</td>\n",
       "        </tr>\n",
       "        <tr>\n",
       "            <td>movie</td>\n",
       "            <td>1921</td>\n",
       "            <td>old</td>\n",
       "        </tr>\n",
       "        <tr>\n",
       "            <td>movie</td>\n",
       "            <td>1922</td>\n",
       "            <td>old</td>\n",
       "        </tr>\n",
       "        <tr>\n",
       "            <td>movie</td>\n",
       "            <td>1924</td>\n",
       "            <td>old</td>\n",
       "        </tr>\n",
       "        <tr>\n",
       "            <td>movie</td>\n",
       "            <td>1925</td>\n",
       "            <td>old</td>\n",
       "        </tr>\n",
       "        <tr>\n",
       "            <td>movie</td>\n",
       "            <td>1925</td>\n",
       "            <td>old</td>\n",
       "        </tr>\n",
       "        <tr>\n",
       "            <td>movie</td>\n",
       "            <td>1927</td>\n",
       "            <td>old</td>\n",
       "        </tr>\n",
       "        <tr>\n",
       "            <td>movie</td>\n",
       "            <td>1926</td>\n",
       "            <td>old</td>\n",
       "        </tr>\n",
       "    </tbody>\n",
       "</table>"
      ],
      "text/plain": [
       "[('short', '1902', 'old'),\n",
       " ('movie', '1915', 'old'),\n",
       " ('movie', '1920', 'old'),\n",
       " ('movie', '1921', 'old'),\n",
       " ('movie', '1922', 'old'),\n",
       " ('movie', '1924', 'old'),\n",
       " ('movie', '1925', 'old'),\n",
       " ('movie', '1925', 'old'),\n",
       " ('movie', '1927', 'old'),\n",
       " ('movie', '1926', 'old')]"
      ]
     },
     "execution_count": 52,
     "metadata": {},
     "output_type": "execute_result"
    }
   ],
   "source": [
    "%%sql\n",
    "SELECT titleType, startYear,\n",
    "    CASE \n",
    "        WHEN startYear < 1950 THEN 'old'\n",
    "        WHEN startYear < 2000 THEN 'mid-aged'\n",
    "        ELSE 'new'\n",
    "    END AS movie_age\n",
    "FROM Title\n",
    "Limit 10;\n"
   ]
  },
  {
   "cell_type": "markdown",
   "id": "6ddf91ce-a73f-43c9-8698-fa4256b19931",
   "metadata": {},
   "source": [
    "### Joining Tables\n",
    "\n",
    "We combine data from multiple tables by performing a **join**. We will explore joins using the cats database, which includes two tables: `s` and `t`."
   ]
  },
  {
   "cell_type": "code",
   "execution_count": 53,
   "id": "91167c90-325b-4367-a295-ce2454c510c0",
   "metadata": {},
   "outputs": [
    {
     "data": {
      "text/plain": [
       "'Connected: @D:/Knowledege_Streams_Course/04_sql/Assignments/basic_examples2.db'"
      ]
     },
     "execution_count": 53,
     "metadata": {},
     "output_type": "execute_result"
    }
   ],
   "source": [
    "%%sql\n",
    "sqlite:///D:/Knowledege_Streams_Course/04_sql/Assignments/basic_examples2.db"
   ]
  },
  {
   "cell_type": "code",
   "execution_count": 54,
   "id": "ecc4e0d4-aca9-41d5-ac80-1db1517b3b12",
   "metadata": {},
   "outputs": [
    {
     "name": "stdout",
     "output_type": "stream",
     "text": [
      "   sqlite:///D:/Knowledege_Streams_Course/04_sql/Assignments/basic_examples.db\n",
      " * sqlite:///D:/Knowledege_Streams_Course/04_sql/Assignments/basic_examples2.db\n",
      "   sqlite:///D:/Knowledege_Streams_Course/04_sql/Assignments/imdbmini.db\n",
      "Done.\n"
     ]
    },
    {
     "data": {
      "text/html": [
       "<table>\n",
       "    <thead>\n",
       "        <tr>\n",
       "            <th>id</th>\n",
       "            <th>name</th>\n",
       "        </tr>\n",
       "    </thead>\n",
       "    <tbody>\n",
       "        <tr>\n",
       "            <td>0</td>\n",
       "            <td>Apricot</td>\n",
       "        </tr>\n",
       "        <tr>\n",
       "            <td>1</td>\n",
       "            <td>Boots</td>\n",
       "        </tr>\n",
       "        <tr>\n",
       "            <td>2</td>\n",
       "            <td>Cally</td>\n",
       "        </tr>\n",
       "        <tr>\n",
       "            <td>4</td>\n",
       "            <td>Eugene</td>\n",
       "        </tr>\n",
       "    </tbody>\n",
       "</table>"
      ],
      "text/plain": [
       "[(0, 'Apricot'), (1, 'Boots'), (2, 'Cally'), (4, 'Eugene')]"
      ]
     },
     "execution_count": 54,
     "metadata": {},
     "output_type": "execute_result"
    }
   ],
   "source": [
    "%%sql\n",
    "SELECT * FROM s;"
   ]
  },
  {
   "cell_type": "code",
   "execution_count": 55,
   "id": "1a09a2e0-183f-42e3-92c6-cbc799268ee8",
   "metadata": {},
   "outputs": [
    {
     "name": "stdout",
     "output_type": "stream",
     "text": [
      "   sqlite:///D:/Knowledege_Streams_Course/04_sql/Assignments/basic_examples.db\n",
      " * sqlite:///D:/Knowledege_Streams_Course/04_sql/Assignments/basic_examples2.db\n",
      "   sqlite:///D:/Knowledege_Streams_Course/04_sql/Assignments/imdbmini.db\n",
      "Done.\n"
     ]
    },
    {
     "data": {
      "text/html": [
       "<table>\n",
       "    <thead>\n",
       "        <tr>\n",
       "            <th>id</th>\n",
       "            <th>breed</th>\n",
       "        </tr>\n",
       "    </thead>\n",
       "    <tbody>\n",
       "        <tr>\n",
       "            <td>1</td>\n",
       "            <td>persian</td>\n",
       "        </tr>\n",
       "        <tr>\n",
       "            <td>2</td>\n",
       "            <td>ragdoll</td>\n",
       "        </tr>\n",
       "        <tr>\n",
       "            <td>4</td>\n",
       "            <td>bengal</td>\n",
       "        </tr>\n",
       "        <tr>\n",
       "            <td>5</td>\n",
       "            <td>persian</td>\n",
       "        </tr>\n",
       "    </tbody>\n",
       "</table>"
      ],
      "text/plain": [
       "[(1, 'persian'), (2, 'ragdoll'), (4, 'bengal'), (5, 'persian')]"
      ]
     },
     "execution_count": 55,
     "metadata": {},
     "output_type": "execute_result"
    }
   ],
   "source": [
    "%%sql\n",
    "SELECT * FROM t;"
   ]
  },
  {
   "cell_type": "markdown",
   "id": "117c16ae-866a-41bb-b992-69ab97da61cd",
   "metadata": {},
   "source": [
    "#### Inner Join"
   ]
  },
  {
   "cell_type": "markdown",
   "id": "d0d28390",
   "metadata": {},
   "source": [
    "**Question**: Perform inner join on tables **s** and **t**."
   ]
  },
  {
   "cell_type": "code",
   "execution_count": 56,
   "id": "3e5df456-131a-4095-b5e0-fb7a180b9804",
   "metadata": {},
   "outputs": [
    {
     "name": "stdout",
     "output_type": "stream",
     "text": [
      "   sqlite:///D:/Knowledege_Streams_Course/04_sql/Assignments/basic_examples.db\n",
      " * sqlite:///D:/Knowledege_Streams_Course/04_sql/Assignments/basic_examples2.db\n",
      "   sqlite:///D:/Knowledege_Streams_Course/04_sql/Assignments/imdbmini.db\n",
      "Done.\n"
     ]
    },
    {
     "data": {
      "text/html": [
       "<table>\n",
       "    <thead>\n",
       "        <tr>\n",
       "            <th>id</th>\n",
       "            <th>name</th>\n",
       "            <th>id_1</th>\n",
       "            <th>breed</th>\n",
       "        </tr>\n",
       "    </thead>\n",
       "    <tbody>\n",
       "        <tr>\n",
       "            <td>1</td>\n",
       "            <td>Boots</td>\n",
       "            <td>1</td>\n",
       "            <td>persian</td>\n",
       "        </tr>\n",
       "        <tr>\n",
       "            <td>2</td>\n",
       "            <td>Cally</td>\n",
       "            <td>2</td>\n",
       "            <td>ragdoll</td>\n",
       "        </tr>\n",
       "        <tr>\n",
       "            <td>4</td>\n",
       "            <td>Eugene</td>\n",
       "            <td>4</td>\n",
       "            <td>bengal</td>\n",
       "        </tr>\n",
       "    </tbody>\n",
       "</table>"
      ],
      "text/plain": [
       "[(1, 'Boots', 1, 'persian'),\n",
       " (2, 'Cally', 2, 'ragdoll'),\n",
       " (4, 'Eugene', 4, 'bengal')]"
      ]
     },
     "execution_count": 56,
     "metadata": {},
     "output_type": "execute_result"
    }
   ],
   "source": [
    "%%sql\n",
    "select * \n",
    "    from s inner join t\n",
    "    on s.id=t.id; "
   ]
  },
  {
   "cell_type": "markdown",
   "id": "d1270550-9ecf-461d-957b-cbfc00abcd2d",
   "metadata": {},
   "source": [
    "By default, `JOIN`ing without specifying a join type will default to an inner join."
   ]
  },
  {
   "cell_type": "markdown",
   "id": "14531314",
   "metadata": {},
   "source": [
    "**Question**: Perform inner join on tables **s** and **t** without specifying a join type."
   ]
  },
  {
   "cell_type": "code",
   "execution_count": 57,
   "id": "5b66c03f-0019-4bae-8481-30d162983bd4",
   "metadata": {},
   "outputs": [
    {
     "name": "stdout",
     "output_type": "stream",
     "text": [
      "   sqlite:///D:/Knowledege_Streams_Course/04_sql/Assignments/basic_examples.db\n",
      " * sqlite:///D:/Knowledege_Streams_Course/04_sql/Assignments/basic_examples2.db\n",
      "   sqlite:///D:/Knowledege_Streams_Course/04_sql/Assignments/imdbmini.db\n",
      "Done.\n"
     ]
    },
    {
     "data": {
      "text/html": [
       "<table>\n",
       "    <thead>\n",
       "        <tr>\n",
       "            <th>id</th>\n",
       "            <th>name</th>\n",
       "            <th>id_1</th>\n",
       "            <th>breed</th>\n",
       "        </tr>\n",
       "    </thead>\n",
       "    <tbody>\n",
       "        <tr>\n",
       "            <td>1</td>\n",
       "            <td>Boots</td>\n",
       "            <td>1</td>\n",
       "            <td>persian</td>\n",
       "        </tr>\n",
       "        <tr>\n",
       "            <td>2</td>\n",
       "            <td>Cally</td>\n",
       "            <td>2</td>\n",
       "            <td>ragdoll</td>\n",
       "        </tr>\n",
       "        <tr>\n",
       "            <td>4</td>\n",
       "            <td>Eugene</td>\n",
       "            <td>4</td>\n",
       "            <td>bengal</td>\n",
       "        </tr>\n",
       "    </tbody>\n",
       "</table>"
      ],
      "text/plain": [
       "[(1, 'Boots', 1, 'persian'),\n",
       " (2, 'Cally', 2, 'ragdoll'),\n",
       " (4, 'Eugene', 4, 'bengal')]"
      ]
     },
     "execution_count": 57,
     "metadata": {},
     "output_type": "execute_result"
    }
   ],
   "source": [
    "%%sql\n",
    "select * \n",
    "    from s join t\n",
    "    on s.id=t.id"
   ]
  },
  {
   "cell_type": "markdown",
   "id": "9f79b59c-d405-4e52-8e9c-5d7a6d091dd5",
   "metadata": {},
   "source": [
    "### Cross Join"
   ]
  },
  {
   "cell_type": "markdown",
   "id": "603de89b",
   "metadata": {},
   "source": [
    "**Question**: Query every possible combination of rows across tables **s** and **t**."
   ]
  },
  {
   "cell_type": "code",
   "execution_count": 58,
   "id": "4c1b6b34-60ac-4705-859d-484ef8433bd3",
   "metadata": {},
   "outputs": [
    {
     "name": "stdout",
     "output_type": "stream",
     "text": [
      "   sqlite:///D:/Knowledege_Streams_Course/04_sql/Assignments/basic_examples.db\n",
      " * sqlite:///D:/Knowledege_Streams_Course/04_sql/Assignments/basic_examples2.db\n",
      "   sqlite:///D:/Knowledege_Streams_Course/04_sql/Assignments/imdbmini.db\n",
      "Done.\n"
     ]
    },
    {
     "data": {
      "text/html": [
       "<table>\n",
       "    <thead>\n",
       "        <tr>\n",
       "            <th>id</th>\n",
       "            <th>name</th>\n",
       "            <th>id_1</th>\n",
       "            <th>breed</th>\n",
       "        </tr>\n",
       "    </thead>\n",
       "    <tbody>\n",
       "        <tr>\n",
       "            <td>0</td>\n",
       "            <td>Apricot</td>\n",
       "            <td>1</td>\n",
       "            <td>persian</td>\n",
       "        </tr>\n",
       "        <tr>\n",
       "            <td>0</td>\n",
       "            <td>Apricot</td>\n",
       "            <td>2</td>\n",
       "            <td>ragdoll</td>\n",
       "        </tr>\n",
       "        <tr>\n",
       "            <td>0</td>\n",
       "            <td>Apricot</td>\n",
       "            <td>4</td>\n",
       "            <td>bengal</td>\n",
       "        </tr>\n",
       "        <tr>\n",
       "            <td>0</td>\n",
       "            <td>Apricot</td>\n",
       "            <td>5</td>\n",
       "            <td>persian</td>\n",
       "        </tr>\n",
       "        <tr>\n",
       "            <td>1</td>\n",
       "            <td>Boots</td>\n",
       "            <td>1</td>\n",
       "            <td>persian</td>\n",
       "        </tr>\n",
       "        <tr>\n",
       "            <td>1</td>\n",
       "            <td>Boots</td>\n",
       "            <td>2</td>\n",
       "            <td>ragdoll</td>\n",
       "        </tr>\n",
       "        <tr>\n",
       "            <td>1</td>\n",
       "            <td>Boots</td>\n",
       "            <td>4</td>\n",
       "            <td>bengal</td>\n",
       "        </tr>\n",
       "        <tr>\n",
       "            <td>1</td>\n",
       "            <td>Boots</td>\n",
       "            <td>5</td>\n",
       "            <td>persian</td>\n",
       "        </tr>\n",
       "        <tr>\n",
       "            <td>2</td>\n",
       "            <td>Cally</td>\n",
       "            <td>1</td>\n",
       "            <td>persian</td>\n",
       "        </tr>\n",
       "        <tr>\n",
       "            <td>2</td>\n",
       "            <td>Cally</td>\n",
       "            <td>2</td>\n",
       "            <td>ragdoll</td>\n",
       "        </tr>\n",
       "        <tr>\n",
       "            <td>2</td>\n",
       "            <td>Cally</td>\n",
       "            <td>4</td>\n",
       "            <td>bengal</td>\n",
       "        </tr>\n",
       "        <tr>\n",
       "            <td>2</td>\n",
       "            <td>Cally</td>\n",
       "            <td>5</td>\n",
       "            <td>persian</td>\n",
       "        </tr>\n",
       "        <tr>\n",
       "            <td>4</td>\n",
       "            <td>Eugene</td>\n",
       "            <td>1</td>\n",
       "            <td>persian</td>\n",
       "        </tr>\n",
       "        <tr>\n",
       "            <td>4</td>\n",
       "            <td>Eugene</td>\n",
       "            <td>2</td>\n",
       "            <td>ragdoll</td>\n",
       "        </tr>\n",
       "        <tr>\n",
       "            <td>4</td>\n",
       "            <td>Eugene</td>\n",
       "            <td>4</td>\n",
       "            <td>bengal</td>\n",
       "        </tr>\n",
       "        <tr>\n",
       "            <td>4</td>\n",
       "            <td>Eugene</td>\n",
       "            <td>5</td>\n",
       "            <td>persian</td>\n",
       "        </tr>\n",
       "    </tbody>\n",
       "</table>"
      ],
      "text/plain": [
       "[(0, 'Apricot', 1, 'persian'),\n",
       " (0, 'Apricot', 2, 'ragdoll'),\n",
       " (0, 'Apricot', 4, 'bengal'),\n",
       " (0, 'Apricot', 5, 'persian'),\n",
       " (1, 'Boots', 1, 'persian'),\n",
       " (1, 'Boots', 2, 'ragdoll'),\n",
       " (1, 'Boots', 4, 'bengal'),\n",
       " (1, 'Boots', 5, 'persian'),\n",
       " (2, 'Cally', 1, 'persian'),\n",
       " (2, 'Cally', 2, 'ragdoll'),\n",
       " (2, 'Cally', 4, 'bengal'),\n",
       " (2, 'Cally', 5, 'persian'),\n",
       " (4, 'Eugene', 1, 'persian'),\n",
       " (4, 'Eugene', 2, 'ragdoll'),\n",
       " (4, 'Eugene', 4, 'bengal'),\n",
       " (4, 'Eugene', 5, 'persian')]"
      ]
     },
     "execution_count": 58,
     "metadata": {},
     "output_type": "execute_result"
    }
   ],
   "source": [
    "%%sql\n",
    "select *\n",
    "from s cross join t"
   ]
  },
  {
   "cell_type": "markdown",
   "id": "f48e8f72-0c3b-4017-aeeb-fb4ace5702ee",
   "metadata": {},
   "source": [
    "Conceptually, an inner join is equivalent to a cross join where irrelevant rows are removed."
   ]
  },
  {
   "cell_type": "markdown",
   "id": "70db7355",
   "metadata": {},
   "source": [
    "**Question**: Perform inner join using cross join on tables **s** and **t**."
   ]
  },
  {
   "cell_type": "code",
   "execution_count": 59,
   "id": "470b9184-26ba-4c6c-a246-652a513a1414",
   "metadata": {},
   "outputs": [
    {
     "name": "stdout",
     "output_type": "stream",
     "text": [
      "   sqlite:///D:/Knowledege_Streams_Course/04_sql/Assignments/basic_examples.db\n",
      " * sqlite:///D:/Knowledege_Streams_Course/04_sql/Assignments/basic_examples2.db\n",
      "   sqlite:///D:/Knowledege_Streams_Course/04_sql/Assignments/imdbmini.db\n",
      "Done.\n"
     ]
    },
    {
     "data": {
      "text/html": [
       "<table>\n",
       "    <thead>\n",
       "        <tr>\n",
       "            <th>id</th>\n",
       "            <th>name</th>\n",
       "            <th>id_1</th>\n",
       "            <th>breed</th>\n",
       "        </tr>\n",
       "    </thead>\n",
       "    <tbody>\n",
       "        <tr>\n",
       "            <td>1</td>\n",
       "            <td>Boots</td>\n",
       "            <td>1</td>\n",
       "            <td>persian</td>\n",
       "        </tr>\n",
       "        <tr>\n",
       "            <td>2</td>\n",
       "            <td>Cally</td>\n",
       "            <td>2</td>\n",
       "            <td>ragdoll</td>\n",
       "        </tr>\n",
       "        <tr>\n",
       "            <td>4</td>\n",
       "            <td>Eugene</td>\n",
       "            <td>4</td>\n",
       "            <td>bengal</td>\n",
       "        </tr>\n",
       "    </tbody>\n",
       "</table>"
      ],
      "text/plain": [
       "[(1, 'Boots', 1, 'persian'),\n",
       " (2, 'Cally', 2, 'ragdoll'),\n",
       " (4, 'Eugene', 4, 'bengal')]"
      ]
     },
     "execution_count": 59,
     "metadata": {},
     "output_type": "execute_result"
    }
   ],
   "source": [
    "%%sql\n",
    "SELECT *\n",
    "FROM s CROSS JOIN t\n",
    "WHERE s.id = t.id;\n"
   ]
  },
  {
   "cell_type": "markdown",
   "id": "c2285365-516a-44f6-9725-5d2dc01168da",
   "metadata": {},
   "source": [
    "#### Left Outer Join"
   ]
  },
  {
   "cell_type": "markdown",
   "id": "d0380101",
   "metadata": {},
   "source": [
    "**Question**: Perform left outer join on tables **s** and **t**."
   ]
  },
  {
   "cell_type": "code",
   "execution_count": 60,
   "id": "614453f4-8bef-4712-b8d0-098e710c93bf",
   "metadata": {},
   "outputs": [
    {
     "name": "stdout",
     "output_type": "stream",
     "text": [
      "   sqlite:///D:/Knowledege_Streams_Course/04_sql/Assignments/basic_examples.db\n",
      " * sqlite:///D:/Knowledege_Streams_Course/04_sql/Assignments/basic_examples2.db\n",
      "   sqlite:///D:/Knowledege_Streams_Course/04_sql/Assignments/imdbmini.db\n",
      "Done.\n"
     ]
    },
    {
     "data": {
      "text/html": [
       "<table>\n",
       "    <thead>\n",
       "        <tr>\n",
       "            <th>id</th>\n",
       "            <th>name</th>\n",
       "            <th>id_1</th>\n",
       "            <th>breed</th>\n",
       "        </tr>\n",
       "    </thead>\n",
       "    <tbody>\n",
       "        <tr>\n",
       "            <td>0</td>\n",
       "            <td>Apricot</td>\n",
       "            <td>None</td>\n",
       "            <td>None</td>\n",
       "        </tr>\n",
       "        <tr>\n",
       "            <td>1</td>\n",
       "            <td>Boots</td>\n",
       "            <td>1</td>\n",
       "            <td>persian</td>\n",
       "        </tr>\n",
       "        <tr>\n",
       "            <td>2</td>\n",
       "            <td>Cally</td>\n",
       "            <td>2</td>\n",
       "            <td>ragdoll</td>\n",
       "        </tr>\n",
       "        <tr>\n",
       "            <td>4</td>\n",
       "            <td>Eugene</td>\n",
       "            <td>4</td>\n",
       "            <td>bengal</td>\n",
       "        </tr>\n",
       "    </tbody>\n",
       "</table>"
      ],
      "text/plain": [
       "[(0, 'Apricot', None, None),\n",
       " (1, 'Boots', 1, 'persian'),\n",
       " (2, 'Cally', 2, 'ragdoll'),\n",
       " (4, 'Eugene', 4, 'bengal')]"
      ]
     },
     "execution_count": 60,
     "metadata": {},
     "output_type": "execute_result"
    }
   ],
   "source": [
    "%%sql\n",
    "select *\n",
    "from s left join t\n",
    "on s.id=t.id;"
   ]
  },
  {
   "cell_type": "markdown",
   "id": "11f57bfd-bc80-4ee3-93ab-605a8fb9d6c3",
   "metadata": {},
   "source": [
    "#### Right Outer Join"
   ]
  },
  {
   "cell_type": "markdown",
   "id": "3dfe63e8",
   "metadata": {},
   "source": [
    "**Question**: Perform right outer join on tables **s** and **t**."
   ]
  },
  {
   "cell_type": "code",
   "execution_count": 61,
   "id": "4fb1a370-0977-437a-a7c1-a0928c923d8d",
   "metadata": {},
   "outputs": [
    {
     "name": "stdout",
     "output_type": "stream",
     "text": [
      "   sqlite:///D:/Knowledege_Streams_Course/04_sql/Assignments/basic_examples.db\n",
      " * sqlite:///D:/Knowledege_Streams_Course/04_sql/Assignments/basic_examples2.db\n",
      "   sqlite:///D:/Knowledege_Streams_Course/04_sql/Assignments/imdbmini.db\n",
      "Done.\n"
     ]
    },
    {
     "data": {
      "text/html": [
       "<table>\n",
       "    <thead>\n",
       "        <tr>\n",
       "            <th>id</th>\n",
       "            <th>name</th>\n",
       "            <th>id_1</th>\n",
       "            <th>breed</th>\n",
       "        </tr>\n",
       "    </thead>\n",
       "    <tbody>\n",
       "        <tr>\n",
       "            <td>1</td>\n",
       "            <td>Boots</td>\n",
       "            <td>1</td>\n",
       "            <td>persian</td>\n",
       "        </tr>\n",
       "        <tr>\n",
       "            <td>2</td>\n",
       "            <td>Cally</td>\n",
       "            <td>2</td>\n",
       "            <td>ragdoll</td>\n",
       "        </tr>\n",
       "        <tr>\n",
       "            <td>4</td>\n",
       "            <td>Eugene</td>\n",
       "            <td>4</td>\n",
       "            <td>bengal</td>\n",
       "        </tr>\n",
       "        <tr>\n",
       "            <td>None</td>\n",
       "            <td>None</td>\n",
       "            <td>5</td>\n",
       "            <td>persian</td>\n",
       "        </tr>\n",
       "    </tbody>\n",
       "</table>"
      ],
      "text/plain": [
       "[(1, 'Boots', 1, 'persian'),\n",
       " (2, 'Cally', 2, 'ragdoll'),\n",
       " (4, 'Eugene', 4, 'bengal'),\n",
       " (None, None, 5, 'persian')]"
      ]
     },
     "execution_count": 61,
     "metadata": {},
     "output_type": "execute_result"
    }
   ],
   "source": [
    "%%sql\n",
    "select *\n",
    "from s right join t\n",
    "on s.id=t.id;"
   ]
  },
  {
   "cell_type": "markdown",
   "id": "49a5f50b-58c9-4dc6-830b-dc95706135eb",
   "metadata": {
    "tags": []
   },
   "source": [
    "#### Full Outer Join"
   ]
  },
  {
   "cell_type": "markdown",
   "id": "f4c358c8",
   "metadata": {},
   "source": [
    "**Question**: Perform full outer join on tables **s** and **t**."
   ]
  },
  {
   "cell_type": "code",
   "execution_count": 62,
   "id": "11c7ba06-37c0-432f-9aa7-d36c5893b0f7",
   "metadata": {},
   "outputs": [
    {
     "name": "stdout",
     "output_type": "stream",
     "text": [
      "   sqlite:///D:/Knowledege_Streams_Course/04_sql/Assignments/basic_examples.db\n",
      " * sqlite:///D:/Knowledege_Streams_Course/04_sql/Assignments/basic_examples2.db\n",
      "   sqlite:///D:/Knowledege_Streams_Course/04_sql/Assignments/imdbmini.db\n",
      "Done.\n"
     ]
    },
    {
     "data": {
      "text/html": [
       "<table>\n",
       "    <thead>\n",
       "        <tr>\n",
       "            <th>id</th>\n",
       "            <th>name</th>\n",
       "            <th>id_1</th>\n",
       "            <th>breed</th>\n",
       "        </tr>\n",
       "    </thead>\n",
       "    <tbody>\n",
       "        <tr>\n",
       "            <td>0</td>\n",
       "            <td>Apricot</td>\n",
       "            <td>None</td>\n",
       "            <td>None</td>\n",
       "        </tr>\n",
       "        <tr>\n",
       "            <td>1</td>\n",
       "            <td>Boots</td>\n",
       "            <td>1</td>\n",
       "            <td>persian</td>\n",
       "        </tr>\n",
       "        <tr>\n",
       "            <td>2</td>\n",
       "            <td>Cally</td>\n",
       "            <td>2</td>\n",
       "            <td>ragdoll</td>\n",
       "        </tr>\n",
       "        <tr>\n",
       "            <td>4</td>\n",
       "            <td>Eugene</td>\n",
       "            <td>4</td>\n",
       "            <td>bengal</td>\n",
       "        </tr>\n",
       "        <tr>\n",
       "            <td>None</td>\n",
       "            <td>None</td>\n",
       "            <td>5</td>\n",
       "            <td>persian</td>\n",
       "        </tr>\n",
       "    </tbody>\n",
       "</table>"
      ],
      "text/plain": [
       "[(0, 'Apricot', None, None),\n",
       " (1, 'Boots', 1, 'persian'),\n",
       " (2, 'Cally', 2, 'ragdoll'),\n",
       " (4, 'Eugene', 4, 'bengal'),\n",
       " (None, None, 5, 'persian')]"
      ]
     },
     "execution_count": 62,
     "metadata": {},
     "output_type": "execute_result"
    }
   ],
   "source": [
    "%%sql\n",
    "select * from s full join t\n",
    "on s.id=t.id;"
   ]
  },
  {
   "cell_type": "markdown",
   "id": "c1d48296-f9b7-4b92-9b23-5f3f158a800b",
   "metadata": {},
   "source": [
    "#### Aliasing in Joins\n",
    "\n",
    "Let's return to the IMDB dataset. Now, we'll consider two tables: `Title` and `Rating`."
   ]
  },
  {
   "cell_type": "code",
   "execution_count": 63,
   "id": "302a496a-d57f-4561-877d-42f998c43b12",
   "metadata": {},
   "outputs": [
    {
     "data": {
      "text/plain": [
       "'Connected: @D:/Knowledege_Streams_Course/04_sql/Assignments/imdbmini.db'"
      ]
     },
     "execution_count": 63,
     "metadata": {},
     "output_type": "execute_result"
    }
   ],
   "source": [
    "%%sql\n",
    "sqlite:///D:/Knowledege_Streams_Course/04_sql/Assignments/imdbmini.db"
   ]
  },
  {
   "cell_type": "markdown",
   "id": "604954fa-7fc4-436d-aaa9-7c6e8f815ed5",
   "metadata": {},
   "source": [
    "When working with tables that have long names, we often create an **alias** using the `AS` keyword (much like we did with columns in the previous lecture). This makes it easier to reference these tables when performing a join."
   ]
  },
  {
   "cell_type": "markdown",
   "id": "7bbc255a",
   "metadata": {},
   "source": [
    "**Question**: Perform inner join on tables **Title** (alias T) and **Rating** (alias R)."
   ]
  },
  {
   "cell_type": "code",
   "execution_count": 64,
   "id": "85294091",
   "metadata": {},
   "outputs": [
    {
     "name": "stdout",
     "output_type": "stream",
     "text": [
      "   sqlite:///D:/Knowledege_Streams_Course/04_sql/Assignments/basic_examples.db\n",
      "   sqlite:///D:/Knowledege_Streams_Course/04_sql/Assignments/basic_examples2.db\n",
      " * sqlite:///D:/Knowledege_Streams_Course/04_sql/Assignments/imdbmini.db\n",
      "Done.\n"
     ]
    },
    {
     "data": {
      "text/html": [
       "<table>\n",
       "    <thead>\n",
       "        <tr>\n",
       "            <th>type</th>\n",
       "            <th>name</th>\n",
       "            <th>tbl_name</th>\n",
       "            <th>rootpage</th>\n",
       "            <th>sql</th>\n",
       "        </tr>\n",
       "    </thead>\n",
       "    <tbody>\n",
       "        <tr>\n",
       "            <td>table</td>\n",
       "            <td>Title</td>\n",
       "            <td>Title</td>\n",
       "            <td>2</td>\n",
       "            <td>CREATE TABLE &quot;Title&quot; (<br>&quot;tconst&quot; INTEGER,<br>  &quot;titleType&quot; TEXT,<br>  &quot;primaryTitle&quot; TEXT,<br>  &quot;originalTitle&quot; TEXT,<br>  &quot;isAdult&quot; TEXT,<br>  &quot;startYear&quot; TEXT,<br>  &quot;endYear&quot; TEXT,<br>  &quot;runtimeMinutes&quot; TEXT,<br>  &quot;genres&quot; TEXT<br>)</td>\n",
       "        </tr>\n",
       "        <tr>\n",
       "            <td>table</td>\n",
       "            <td>Name</td>\n",
       "            <td>Name</td>\n",
       "            <td>12</td>\n",
       "            <td>CREATE TABLE &quot;Name&quot; (<br>&quot;nconst&quot; INTEGER,<br>  &quot;primaryName&quot; TEXT,<br>  &quot;birthYear&quot; TEXT,<br>  &quot;deathYear&quot; TEXT,<br>  &quot;primaryProfession&quot; TEXT<br>)</td>\n",
       "        </tr>\n",
       "        <tr>\n",
       "            <td>table</td>\n",
       "            <td>Role</td>\n",
       "            <td>Role</td>\n",
       "            <td>70</td>\n",
       "            <td>CREATE TABLE &quot;Role&quot; (<br>tconst INTEGER,<br>ordering TEXT,<br>nconst INTEGER,<br>category TEXT,<br>job TEXT,<br>characters TEXT<br>)</td>\n",
       "        </tr>\n",
       "        <tr>\n",
       "            <td>table</td>\n",
       "            <td>Rating</td>\n",
       "            <td>Rating</td>\n",
       "            <td>41</td>\n",
       "            <td>CREATE TABLE &quot;Rating&quot; (<br>tconst INTEGER,<br>averageRating TEXT,<br>numVotes TEXT<br>)</td>\n",
       "        </tr>\n",
       "    </tbody>\n",
       "</table>"
      ],
      "text/plain": [
       "[('table', 'Title', 'Title', 2, 'CREATE TABLE \"Title\" (\\n\"tconst\" INTEGER,\\n  \"titleType\" TEXT,\\n  \"primaryTitle\" TEXT,\\n  \"originalTitle\" TEXT,\\n  \"isAdult\" TEXT,\\n  \"startYear\" TEXT,\\n  \"endYear\" TEXT,\\n  \"runtimeMinutes\" TEXT,\\n  \"genres\" TEXT\\n)'),\n",
       " ('table', 'Name', 'Name', 12, 'CREATE TABLE \"Name\" (\\n\"nconst\" INTEGER,\\n  \"primaryName\" TEXT,\\n  \"birthYear\" TEXT,\\n  \"deathYear\" TEXT,\\n  \"primaryProfession\" TEXT\\n)'),\n",
       " ('table', 'Role', 'Role', 70, 'CREATE TABLE \"Role\" (\\ntconst INTEGER,\\nordering TEXT,\\nnconst INTEGER,\\ncategory TEXT,\\njob TEXT,\\ncharacters TEXT\\n)'),\n",
       " ('table', 'Rating', 'Rating', 41, 'CREATE TABLE \"Rating\" (\\ntconst INTEGER,\\naverageRating TEXT,\\nnumVotes TEXT\\n)')]"
      ]
     },
     "execution_count": 64,
     "metadata": {},
     "output_type": "execute_result"
    }
   ],
   "source": [
    "%%sql \n",
    "SELECT * FROM sqlite_master WHERE type='table'"
   ]
  },
  {
   "cell_type": "code",
   "execution_count": 65,
   "id": "a5ed048a",
   "metadata": {},
   "outputs": [
    {
     "name": "stdout",
     "output_type": "stream",
     "text": [
      "   sqlite:///D:/Knowledege_Streams_Course/04_sql/Assignments/basic_examples.db\n",
      "   sqlite:///D:/Knowledege_Streams_Course/04_sql/Assignments/basic_examples2.db\n",
      " * sqlite:///D:/Knowledege_Streams_Course/04_sql/Assignments/imdbmini.db\n",
      "Done.\n"
     ]
    },
    {
     "data": {
      "text/html": [
       "<table>\n",
       "    <thead>\n",
       "        <tr>\n",
       "            <th>tconst</th>\n",
       "            <th>titleType</th>\n",
       "            <th>primaryTitle</th>\n",
       "            <th>originalTitle</th>\n",
       "            <th>isAdult</th>\n",
       "            <th>startYear</th>\n",
       "            <th>endYear</th>\n",
       "            <th>runtimeMinutes</th>\n",
       "            <th>genres</th>\n",
       "        </tr>\n",
       "    </thead>\n",
       "    <tbody>\n",
       "        <tr>\n",
       "            <td>417</td>\n",
       "            <td>short</td>\n",
       "            <td>A Trip to the Moon</td>\n",
       "            <td>Le voyage dans la lune</td>\n",
       "            <td>0</td>\n",
       "            <td>1902</td>\n",
       "            <td>None</td>\n",
       "            <td>13</td>\n",
       "            <td>Action,Adventure,Comedy</td>\n",
       "        </tr>\n",
       "        <tr>\n",
       "            <td>4972</td>\n",
       "            <td>movie</td>\n",
       "            <td>The Birth of a Nation</td>\n",
       "            <td>The Birth of a Nation</td>\n",
       "            <td>0</td>\n",
       "            <td>1915</td>\n",
       "            <td>None</td>\n",
       "            <td>195</td>\n",
       "            <td>Drama,History,War</td>\n",
       "        </tr>\n",
       "        <tr>\n",
       "            <td>10323</td>\n",
       "            <td>movie</td>\n",
       "            <td>The Cabinet of Dr. Caligari</td>\n",
       "            <td>Das Cabinet des Dr. Caligari</td>\n",
       "            <td>0</td>\n",
       "            <td>1920</td>\n",
       "            <td>None</td>\n",
       "            <td>76</td>\n",
       "            <td>Fantasy,Horror,Mystery</td>\n",
       "        </tr>\n",
       "        <tr>\n",
       "            <td>12349</td>\n",
       "            <td>movie</td>\n",
       "            <td>The Kid</td>\n",
       "            <td>The Kid</td>\n",
       "            <td>0</td>\n",
       "            <td>1921</td>\n",
       "            <td>None</td>\n",
       "            <td>68</td>\n",
       "            <td>Comedy,Drama,Family</td>\n",
       "        </tr>\n",
       "        <tr>\n",
       "            <td>13442</td>\n",
       "            <td>movie</td>\n",
       "            <td>Nosferatu</td>\n",
       "            <td>Nosferatu, eine Symphonie des Grauens</td>\n",
       "            <td>0</td>\n",
       "            <td>1922</td>\n",
       "            <td>None</td>\n",
       "            <td>94</td>\n",
       "            <td>Fantasy,Horror</td>\n",
       "        </tr>\n",
       "        <tr>\n",
       "            <td>15324</td>\n",
       "            <td>movie</td>\n",
       "            <td>Sherlock Jr.</td>\n",
       "            <td>Sherlock Jr.</td>\n",
       "            <td>0</td>\n",
       "            <td>1924</td>\n",
       "            <td>None</td>\n",
       "            <td>45</td>\n",
       "            <td>Action,Comedy,Romance</td>\n",
       "        </tr>\n",
       "        <tr>\n",
       "            <td>15648</td>\n",
       "            <td>movie</td>\n",
       "            <td>Battleship Potemkin</td>\n",
       "            <td>Bronenosets Potemkin</td>\n",
       "            <td>0</td>\n",
       "            <td>1925</td>\n",
       "            <td>None</td>\n",
       "            <td>75</td>\n",
       "            <td>Drama,History,Thriller</td>\n",
       "        </tr>\n",
       "        <tr>\n",
       "            <td>15864</td>\n",
       "            <td>movie</td>\n",
       "            <td>The Gold Rush</td>\n",
       "            <td>The Gold Rush</td>\n",
       "            <td>0</td>\n",
       "            <td>1925</td>\n",
       "            <td>None</td>\n",
       "            <td>95</td>\n",
       "            <td>Adventure,Comedy,Drama</td>\n",
       "        </tr>\n",
       "        <tr>\n",
       "            <td>17136</td>\n",
       "            <td>movie</td>\n",
       "            <td>Metropolis</td>\n",
       "            <td>Metropolis</td>\n",
       "            <td>0</td>\n",
       "            <td>1927</td>\n",
       "            <td>None</td>\n",
       "            <td>153</td>\n",
       "            <td>Drama,Sci-Fi</td>\n",
       "        </tr>\n",
       "        <tr>\n",
       "            <td>17925</td>\n",
       "            <td>movie</td>\n",
       "            <td>The General</td>\n",
       "            <td>The General</td>\n",
       "            <td>0</td>\n",
       "            <td>1926</td>\n",
       "            <td>None</td>\n",
       "            <td>67</td>\n",
       "            <td>Action,Adventure,Comedy</td>\n",
       "        </tr>\n",
       "    </tbody>\n",
       "</table>"
      ],
      "text/plain": [
       "[(417, 'short', 'A Trip to the Moon', 'Le voyage dans la lune', '0', '1902', None, '13', 'Action,Adventure,Comedy'),\n",
       " (4972, 'movie', 'The Birth of a Nation', 'The Birth of a Nation', '0', '1915', None, '195', 'Drama,History,War'),\n",
       " (10323, 'movie', 'The Cabinet of Dr. Caligari', 'Das Cabinet des Dr. Caligari', '0', '1920', None, '76', 'Fantasy,Horror,Mystery'),\n",
       " (12349, 'movie', 'The Kid', 'The Kid', '0', '1921', None, '68', 'Comedy,Drama,Family'),\n",
       " (13442, 'movie', 'Nosferatu', 'Nosferatu, eine Symphonie des Grauens', '0', '1922', None, '94', 'Fantasy,Horror'),\n",
       " (15324, 'movie', 'Sherlock Jr.', 'Sherlock Jr.', '0', '1924', None, '45', 'Action,Comedy,Romance'),\n",
       " (15648, 'movie', 'Battleship Potemkin', 'Bronenosets Potemkin', '0', '1925', None, '75', 'Drama,History,Thriller'),\n",
       " (15864, 'movie', 'The Gold Rush', 'The Gold Rush', '0', '1925', None, '95', 'Adventure,Comedy,Drama'),\n",
       " (17136, 'movie', 'Metropolis', 'Metropolis', '0', '1927', None, '153', 'Drama,Sci-Fi'),\n",
       " (17925, 'movie', 'The General', 'The General', '0', '1926', None, '67', 'Action,Adventure,Comedy')]"
      ]
     },
     "execution_count": 65,
     "metadata": {},
     "output_type": "execute_result"
    }
   ],
   "source": [
    "%%sql\n",
    "select * from Title\n",
    "Limit 10;"
   ]
  },
  {
   "cell_type": "code",
   "execution_count": 66,
   "id": "7c677af8",
   "metadata": {},
   "outputs": [
    {
     "name": "stdout",
     "output_type": "stream",
     "text": [
      "   sqlite:///D:/Knowledege_Streams_Course/04_sql/Assignments/basic_examples.db\n",
      "   sqlite:///D:/Knowledege_Streams_Course/04_sql/Assignments/basic_examples2.db\n",
      " * sqlite:///D:/Knowledege_Streams_Course/04_sql/Assignments/imdbmini.db\n",
      "Done.\n"
     ]
    },
    {
     "data": {
      "text/html": [
       "<table>\n",
       "    <thead>\n",
       "        <tr>\n",
       "            <th>tconst</th>\n",
       "            <th>averageRating</th>\n",
       "            <th>numVotes</th>\n",
       "        </tr>\n",
       "    </thead>\n",
       "    <tbody>\n",
       "        <tr>\n",
       "            <td>417</td>\n",
       "            <td>8.2</td>\n",
       "            <td>46382</td>\n",
       "        </tr>\n",
       "        <tr>\n",
       "            <td>4972</td>\n",
       "            <td>6.3</td>\n",
       "            <td>23836</td>\n",
       "        </tr>\n",
       "        <tr>\n",
       "            <td>10323</td>\n",
       "            <td>8.1</td>\n",
       "            <td>60244</td>\n",
       "        </tr>\n",
       "        <tr>\n",
       "            <td>12349</td>\n",
       "            <td>8.3</td>\n",
       "            <td>120059</td>\n",
       "        </tr>\n",
       "        <tr>\n",
       "            <td>13442</td>\n",
       "            <td>7.9</td>\n",
       "            <td>92218</td>\n",
       "        </tr>\n",
       "        <tr>\n",
       "            <td>15324</td>\n",
       "            <td>8.2</td>\n",
       "            <td>45878</td>\n",
       "        </tr>\n",
       "        <tr>\n",
       "            <td>15648</td>\n",
       "            <td>8.0</td>\n",
       "            <td>55425</td>\n",
       "        </tr>\n",
       "        <tr>\n",
       "            <td>15864</td>\n",
       "            <td>8.2</td>\n",
       "            <td>106386</td>\n",
       "        </tr>\n",
       "        <tr>\n",
       "            <td>17136</td>\n",
       "            <td>8.3</td>\n",
       "            <td>166671</td>\n",
       "        </tr>\n",
       "        <tr>\n",
       "            <td>17925</td>\n",
       "            <td>8.1</td>\n",
       "            <td>86751</td>\n",
       "        </tr>\n",
       "    </tbody>\n",
       "</table>"
      ],
      "text/plain": [
       "[(417, '8.2', '46382'),\n",
       " (4972, '6.3', '23836'),\n",
       " (10323, '8.1', '60244'),\n",
       " (12349, '8.3', '120059'),\n",
       " (13442, '7.9', '92218'),\n",
       " (15324, '8.2', '45878'),\n",
       " (15648, '8.0', '55425'),\n",
       " (15864, '8.2', '106386'),\n",
       " (17136, '8.3', '166671'),\n",
       " (17925, '8.1', '86751')]"
      ]
     },
     "execution_count": 66,
     "metadata": {},
     "output_type": "execute_result"
    }
   ],
   "source": [
    "%%sql\n",
    "select * from Rating\n",
    "Limit 10;"
   ]
  },
  {
   "cell_type": "code",
   "execution_count": 67,
   "id": "00d37a0f-47ec-4ca5-9cd2-77a4dc5ec83e",
   "metadata": {},
   "outputs": [
    {
     "name": "stdout",
     "output_type": "stream",
     "text": [
      "   sqlite:///D:/Knowledege_Streams_Course/04_sql/Assignments/basic_examples.db\n",
      "   sqlite:///D:/Knowledege_Streams_Course/04_sql/Assignments/basic_examples2.db\n",
      " * sqlite:///D:/Knowledege_Streams_Course/04_sql/Assignments/imdbmini.db\n",
      "Done.\n"
     ]
    },
    {
     "data": {
      "text/html": [
       "<table>\n",
       "    <thead>\n",
       "        <tr>\n",
       "            <th>primaryTitle</th>\n",
       "            <th>averageRating</th>\n",
       "        </tr>\n",
       "    </thead>\n",
       "    <tbody>\n",
       "        <tr>\n",
       "            <td>A Trip to the Moon</td>\n",
       "            <td>8.2</td>\n",
       "        </tr>\n",
       "        <tr>\n",
       "            <td>The Birth of a Nation</td>\n",
       "            <td>6.3</td>\n",
       "        </tr>\n",
       "        <tr>\n",
       "            <td>The Cabinet of Dr. Caligari</td>\n",
       "            <td>8.1</td>\n",
       "        </tr>\n",
       "        <tr>\n",
       "            <td>The Kid</td>\n",
       "            <td>8.3</td>\n",
       "        </tr>\n",
       "        <tr>\n",
       "            <td>Nosferatu</td>\n",
       "            <td>7.9</td>\n",
       "        </tr>\n",
       "        <tr>\n",
       "            <td>Sherlock Jr.</td>\n",
       "            <td>8.2</td>\n",
       "        </tr>\n",
       "        <tr>\n",
       "            <td>Battleship Potemkin</td>\n",
       "            <td>8.0</td>\n",
       "        </tr>\n",
       "        <tr>\n",
       "            <td>The Gold Rush</td>\n",
       "            <td>8.2</td>\n",
       "        </tr>\n",
       "        <tr>\n",
       "            <td>Metropolis</td>\n",
       "            <td>8.3</td>\n",
       "        </tr>\n",
       "        <tr>\n",
       "            <td>The General</td>\n",
       "            <td>8.1</td>\n",
       "        </tr>\n",
       "    </tbody>\n",
       "</table>"
      ],
      "text/plain": [
       "[('A Trip to the Moon', '8.2'),\n",
       " ('The Birth of a Nation', '6.3'),\n",
       " ('The Cabinet of Dr. Caligari', '8.1'),\n",
       " ('The Kid', '8.3'),\n",
       " ('Nosferatu', '7.9'),\n",
       " ('Sherlock Jr.', '8.2'),\n",
       " ('Battleship Potemkin', '8.0'),\n",
       " ('The Gold Rush', '8.2'),\n",
       " ('Metropolis', '8.3'),\n",
       " ('The General', '8.1')]"
      ]
     },
     "execution_count": 67,
     "metadata": {},
     "output_type": "execute_result"
    }
   ],
   "source": [
    "%%sql\n",
    "select primaryTitle,averageRating\n",
    "from Title as T inner join Rating as R\n",
    "on T.tconst = R.tconst\n",
    "Limit 10;"
   ]
  },
  {
   "cell_type": "markdown",
   "id": "3ea4cf36-1467-4dd4-b704-f9da045ad153",
   "metadata": {},
   "source": [
    "Referencing columns using the full or aliased table name is important to avoid ambiguity. Suppose the tables we are trying to join both include a column with the same name, like the `tconst` columns present in both the `Title` and `Rating` tables of the IMDB database. If we do not specify which table's column we wish to reference, SQL will not be able to process our query.\n",
    "\n",
    "In the cell below, it is unclear if we are referring to the `tconst` column from the `Title` table or the `tconst` column from the `Rating` table. SQL errors."
   ]
  },
  {
   "cell_type": "code",
   "execution_count": 71,
   "id": "15764ee7-ca47-4247-85cf-8e829fe4cc00",
   "metadata": {},
   "outputs": [
    {
     "name": "stdout",
     "output_type": "stream",
     "text": [
      "   sqlite:///D:/Knowledege_Streams_Course/04_sql/Assignments/basic_examples.db\n",
      "   sqlite:///D:/Knowledege_Streams_Course/04_sql/Assignments/basic_examples2.db\n",
      " * sqlite:///D:/Knowledege_Streams_Course/04_sql/Assignments/imdbmini.db\n",
      "(sqlite3.OperationalError) ambiguous column name: tconst\n",
      "[SQL: SELECT primaryTitle, averageRating\n",
      "FROM Title AS T INNER JOIN Rating AS R\n",
      "ON tconst = tconst;]\n",
      "(Background on this error at: https://sqlalche.me/e/14/e3q8)\n"
     ]
    }
   ],
   "source": [
    "%%sql\n",
    "SELECT primaryTitle, averageRating\n",
    "FROM Title AS T INNER JOIN Rating AS R\n",
    "ON tconst = tconst;"
   ]
  }
 ],
 "metadata": {
  "kernelspec": {
   "display_name": "sql_env",
   "language": "python",
   "name": "python3"
  },
  "language_info": {
   "codemirror_mode": {
    "name": "ipython",
    "version": 3
   },
   "file_extension": ".py",
   "mimetype": "text/x-python",
   "name": "python",
   "nbconvert_exporter": "python",
   "pygments_lexer": "ipython3",
   "version": "3.7.12"
  }
 },
 "nbformat": 4,
 "nbformat_minor": 5
}
