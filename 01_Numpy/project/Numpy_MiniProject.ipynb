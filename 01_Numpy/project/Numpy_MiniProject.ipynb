{
  "cells": [
    {
      "cell_type": "code",
      "execution_count": 196,
      "metadata": {
        "id": "QOepuiVEQmVL"
      },
      "outputs": [],
      "source": [
        "#import the required libraries\n",
        "import numpy as np"
      ]
    },
    {
      "cell_type": "markdown",
      "metadata": {
        "id": "XJJVjthYIz6w"
      },
      "source": [
        "# Step 1 : Read the Data!"
      ]
    },
    {
      "cell_type": "code",
      "execution_count": 197,
      "metadata": {
        "id": "7xcB2zo-O0t-"
      },
      "outputs": [],
      "source": [
        "#give path of the source-file and store that path in a variable named census\n",
        "census='./data/makeSenseOfCensus.csv'"
      ]
    },
    {
      "cell_type": "markdown",
      "metadata": {
        "id": "OiSJcx6GLcWT"
      },
      "source": [
        "# Loading the data"
      ]
    },
    {
      "cell_type": "markdown",
      "metadata": {
        "id": "VxJZY3U1nsPN"
      },
      "source": [
        "You have studied getfromtext in Numpy Classes, now is the time to put it into action :) Below is the half completed code, you have to substitute values for delimiter and skip_header in it for hte data to be properly read into a Data array. The output of the array has been shared with you guys followed by the code block"
      ]
    },
    {
      "cell_type": "code",
      "execution_count": 198,
      "metadata": {
        "colab": {
          "base_uri": "https://localhost:8080/"
        },
        "id": "Fjx-kQkxQD7q",
        "outputId": "6b33c0b4-ce04-4e6c-cb47-3ee203f4322f"
      },
      "outputs": [
        {
          "name": "stdout",
          "output_type": "stream",
          "text": [
            "\n",
            "Data:\n",
            "\n",
            "  [[39. 13.  4. ...  0. 40.  0.]\n",
            " [50. 13.  4. ...  0. 13.  0.]\n",
            " [38.  9.  4. ...  0. 40.  0.]\n",
            " ...\n",
            " [48. 13.  4. ...  0. 58.  1.]\n",
            " [40. 10.  4. ...  0. 40.  0.]\n",
            " [39. 13.  4. ...  0. 50.  1.]]\n"
          ]
        }
      ],
      "source": [
        "data = np.genfromtxt(census, delimiter =',' , skip_header =1 )\n",
        "print(\"\\nData:\\n\\n \", data)"
      ]
    },
    {
      "cell_type": "markdown",
      "metadata": {
        "id": "lLoQJxpdOCfA"
      },
      "source": [
        "# Printing the type of data"
      ]
    },
    {
      "cell_type": "code",
      "execution_count": 199,
      "metadata": {
        "colab": {
          "base_uri": "https://localhost:8080/"
        },
        "id": "xkPasCIhQ1qC",
        "outputId": "5c15ee56-e668-4338-d532-ceb6487adcf0"
      },
      "outputs": [
        {
          "name": "stdout",
          "output_type": "stream",
          "text": [
            "\n",
            "Type of data structure: <class 'str'>\n"
          ]
        }
      ],
      "source": [
        "#print the type of data\n",
        "print(\"\\nType of data structure:\", type(census))"
      ]
    },
    {
      "cell_type": "markdown",
      "metadata": {
        "id": "QTSTCc7jVppG"
      },
      "source": [
        "# Step 2 : Append the Data"
      ]
    },
    {
      "cell_type": "markdown",
      "metadata": {
        "id": "-gz1eP4sfRpc"
      },
      "source": [
        "A new record [[50,9,4,1,0,0,40,0]] has been given to you. You are supposed to append this new record into the data using np.concatenate()"
      ]
    },
    {
      "cell_type": "code",
      "execution_count": 200,
      "metadata": {
        "id": "jokdR-EtS1dz"
      },
      "outputs": [],
      "source": [
        "new_record = [[50,9,4,1,0,0,40,0]]"
      ]
    },
    {
      "cell_type": "markdown",
      "metadata": {
        "id": "qVKX1_leVwqh"
      },
      "source": [
        "## Append 'new_record' (given) to 'data' using \"np.concatenate()\""
      ]
    },
    {
      "cell_type": "code",
      "execution_count": 201,
      "metadata": {
        "id": "V38I3c5rTJPQ"
      },
      "outputs": [],
      "source": [
        "new_record = np.array(new_record)\n",
        "census=np.concatenate((data,new_record),axis=0)"
      ]
    },
    {
      "cell_type": "code",
      "execution_count": 202,
      "metadata": {
        "colab": {
          "base_uri": "https://localhost:8080/"
        },
        "id": "QOWjaWI3TlP4",
        "outputId": "b87c4b40-64ac-4310-db00-99b1eaad2195"
      },
      "outputs": [
        {
          "data": {
            "text/plain": [
              "array([[39., 13.,  4., ...,  0., 40.,  0.],\n",
              "       [50., 13.,  4., ...,  0., 13.,  0.],\n",
              "       [38.,  9.,  4., ...,  0., 40.,  0.],\n",
              "       ...,\n",
              "       [40., 10.,  4., ...,  0., 40.,  0.],\n",
              "       [39., 13.,  4., ...,  0., 50.,  1.],\n",
              "       [50.,  9.,  4., ...,  0., 40.,  0.]])"
            ]
          },
          "execution_count": 202,
          "metadata": {},
          "output_type": "execute_result"
        }
      ],
      "source": [
        "#display after appending the new record at the end of the array.\n",
        "census"
      ]
    },
    {
      "cell_type": "markdown",
      "metadata": {
        "id": "i_5WAJWYWHpL"
      },
      "source": [
        "# Step 3 : Check if it's a young country or old country"
      ]
    },
    {
      "cell_type": "markdown",
      "metadata": {
        "id": "_CqLiA9OWQPm"
      },
      "source": [
        " Create a new array called 'age' by taking only age column(age is the column with index 0) of 'census' array."
      ]
    },
    {
      "cell_type": "code",
      "execution_count": 203,
      "metadata": {
        "id": "u-v0CJlJf8XA"
      },
      "outputs": [
        {
          "data": {
            "text/plain": [
              "array([39., 50., 38., ..., 40., 39., 50.])"
            ]
          },
          "execution_count": 203,
          "metadata": {},
          "output_type": "execute_result"
        }
      ],
      "source": [
        "age=census[0:,0]\n",
        "age"
      ]
    },
    {
      "cell_type": "markdown",
      "metadata": {
        "id": "_IyNXVKqWpPS"
      },
      "source": [
        "Find the max age and store it in a variable called 'max_age'.\n",
        "\n"
      ]
    },
    {
      "cell_type": "code",
      "execution_count": 204,
      "metadata": {
        "id": "tczhOTFif33u"
      },
      "outputs": [
        {
          "name": "stdout",
          "output_type": "stream",
          "text": [
            "The Maximum Age is : 90.0\n"
          ]
        }
      ],
      "source": [
        "#print the max_age\n",
        "max_age=np.max(age)\n",
        "print('The Maximum Age is :',max_age)"
      ]
    },
    {
      "cell_type": "markdown",
      "metadata": {
        "id": "ywrTp3KTWu9z"
      },
      "source": [
        "Find the min age and store it in a variable called 'min_age'."
      ]
    },
    {
      "cell_type": "code",
      "execution_count": 205,
      "metadata": {
        "id": "QJ1VfCH7f0RG"
      },
      "outputs": [
        {
          "name": "stdout",
          "output_type": "stream",
          "text": [
            "The Minimum Age is : 17.0\n"
          ]
        }
      ],
      "source": [
        "#print the min_age\n",
        "min_age=np.min(age)\n",
        "print('The Minimum Age is :',min_age)"
      ]
    },
    {
      "cell_type": "markdown",
      "metadata": {
        "id": "k6TqZMYQd8w1"
      },
      "source": [
        "Find the mean of the age and store it in a variable called 'age_mean'."
      ]
    },
    {
      "cell_type": "code",
      "execution_count": 206,
      "metadata": {
        "colab": {
          "base_uri": "https://localhost:8080/"
        },
        "id": "7dTC5eaIXs__",
        "outputId": "b23fff73-3d1f-4262-e556-9b755e1188af"
      },
      "outputs": [
        {
          "name": "stdout",
          "output_type": "stream",
          "text": [
            "The Mean of Age is : 38.06293706293706\n"
          ]
        }
      ],
      "source": [
        "#print the age_mean\n",
        "age_mean=np.mean(age)\n",
        "print('The Mean of Age is :',age_mean)"
      ]
    },
    {
      "cell_type": "markdown",
      "metadata": {
        "id": "GEDv3kfSeF9p"
      },
      "source": [
        "Find the standard deviation of the age and store it in a variable called 'age_std'"
      ]
    },
    {
      "cell_type": "code",
      "execution_count": 207,
      "metadata": {
        "colab": {
          "base_uri": "https://localhost:8080/"
        },
        "id": "SF33E4XbX8Yi",
        "outputId": "5312cffe-2ef8-499c-e65a-93ee94c6b176"
      },
      "outputs": [
        {
          "name": "stdout",
          "output_type": "stream",
          "text": [
            "The Standard Deviation of Age is : 13.341478176165857\n"
          ]
        }
      ],
      "source": [
        "#print the age_std\n",
        "age_std=np.std(age)\n",
        "print('The Standard Deviation of Age is :',age_std)"
      ]
    },
    {
      "cell_type": "markdown",
      "metadata": {
        "id": "zfJWcybQecKB"
      },
      "source": [
        "# Step 4: Let's check the country's race distribution to identify the minorities"
      ]
    },
    {
      "cell_type": "markdown",
      "metadata": {
        "id": "SrvNIFGvef4r"
      },
      "source": [
        "Create four different arrays by subsetting 'census' array by Race column(Race is the column with index 2) and save them in 'race_0','race_1', 'race_2', 'race_3' and 'race_4' respectively(Meaning: Store the array where 'race'column has value 0 in 'race_0', so on and so forth)"
      ]
    },
    {
      "cell_type": "code",
      "execution_count": 208,
      "metadata": {
        "colab": {
          "base_uri": "https://localhost:8080/"
        },
        "id": "2iaIx6n6YHPh",
        "outputId": "a540ec02-058f-4e3b-d050-087deff6de4a"
      },
      "outputs": [],
      "source": [
        "race_0=census[census[0:,2]==0]\n",
        "race_1=census[census[0:,2]==1]\n",
        "race_2=census[census[0:,2]==2]\n",
        "race_3=census[census[0:,2]==3]\n",
        "race_4=census[census[0:,2]==4]"
      ]
    },
    {
      "cell_type": "code",
      "execution_count": 209,
      "metadata": {},
      "outputs": [
        {
          "name": "stdout",
          "output_type": "stream",
          "text": [
            "Race 0:\n",
            " [[34.  4.  0.  1.  0.  0. 45.  0.]\n",
            " [35. 10.  0.  0.  0.  0. 40.  0.]\n",
            " [60.  6.  0.  0.  0.  0. 10.  0.]\n",
            " [51.  9.  0.  1.  0.  0. 40.  0.]\n",
            " [25. 10.  0.  0.  0.  0. 20.  0.]\n",
            " [20.  9.  0.  1.  0.  0. 48.  0.]\n",
            " [23. 10.  0.  0.  0.  0. 25.  0.]\n",
            " [29.  9.  0.  1.  0.  0. 40.  0.]\n",
            " [27. 12.  0.  1.  0.  0. 40.  0.]\n",
            " [31. 12.  0.  0.  0.  0. 40.  0.]]\n",
            "Race 1:\n",
            " [[3.000e+01 1.300e+01 1.000e+00 1.000e+00 0.000e+00 0.000e+00 4.000e+01\n",
            "  1.000e+00]\n",
            " [4.000e+01 1.100e+01 1.000e+00 1.000e+00 0.000e+00 0.000e+00 4.000e+01\n",
            "  1.000e+00]\n",
            " [5.400e+01 1.000e+01 1.000e+00 1.000e+00 0.000e+00 0.000e+00 6.000e+01\n",
            "  1.000e+00]\n",
            " [3.000e+01 9.000e+00 1.000e+00 0.000e+00 0.000e+00 1.573e+03 3.500e+01\n",
            "  0.000e+00]\n",
            " [4.900e+01 1.000e+01 1.000e+00 1.000e+00 0.000e+00 0.000e+00 4.000e+01\n",
            "  1.000e+00]\n",
            " [3.300e+01 1.300e+01 1.000e+00 0.000e+00 0.000e+00 0.000e+00 4.000e+01\n",
            "  0.000e+00]\n",
            " [4.400e+01 1.400e+01 1.000e+00 0.000e+00 0.000e+00 0.000e+00 4.000e+01\n",
            "  0.000e+00]\n",
            " [2.800e+01 9.000e+00 1.000e+00 0.000e+00 0.000e+00 0.000e+00 4.000e+01\n",
            "  0.000e+00]\n",
            " [6.000e+01 9.000e+00 1.000e+00 1.000e+00 0.000e+00 0.000e+00 4.000e+01\n",
            "  0.000e+00]\n",
            " [4.200e+01 9.000e+00 1.000e+00 1.000e+00 0.000e+00 0.000e+00 4.000e+01\n",
            "  1.000e+00]\n",
            " [3.700e+01 1.000e+01 1.000e+00 1.000e+00 0.000e+00 0.000e+00 7.500e+01\n",
            "  1.000e+00]\n",
            " [3.900e+01 1.400e+01 1.000e+00 0.000e+00 3.464e+03 0.000e+00 4.000e+01\n",
            "  0.000e+00]\n",
            " [2.100e+01 1.000e+01 1.000e+00 0.000e+00 0.000e+00 0.000e+00 2.500e+01\n",
            "  0.000e+00]\n",
            " [2.400e+01 1.000e+01 1.000e+00 0.000e+00 0.000e+00 0.000e+00 4.000e+01\n",
            "  0.000e+00]\n",
            " [3.400e+01 1.400e+01 1.000e+00 1.000e+00 7.298e+03 0.000e+00 3.500e+01\n",
            "  1.000e+00]\n",
            " [2.700e+01 1.000e+01 1.000e+00 1.000e+00 0.000e+00 1.980e+03 4.000e+01\n",
            "  0.000e+00]\n",
            " [4.000e+01 1.100e+01 1.000e+00 1.000e+00 0.000e+00 0.000e+00 4.000e+01\n",
            "  1.000e+00]\n",
            " [5.500e+01 9.000e+00 1.000e+00 0.000e+00 0.000e+00 0.000e+00 4.000e+01\n",
            "  0.000e+00]\n",
            " [3.500e+01 1.600e+01 1.000e+00 1.000e+00 0.000e+00 0.000e+00 4.000e+01\n",
            "  1.000e+00]\n",
            " [2.900e+01 1.000e+01 1.000e+00 0.000e+00 0.000e+00 0.000e+00 4.000e+01\n",
            "  0.000e+00]\n",
            " [2.000e+01 7.000e+00 1.000e+00 0.000e+00 0.000e+00 1.762e+03 4.000e+01\n",
            "  0.000e+00]\n",
            " [5.500e+01 1.000e+01 1.000e+00 0.000e+00 0.000e+00 0.000e+00 4.000e+01\n",
            "  0.000e+00]\n",
            " [5.100e+01 1.300e+01 1.000e+00 1.000e+00 0.000e+00 2.415e+03 4.000e+01\n",
            "  1.000e+00]\n",
            " [2.800e+01 1.100e+01 1.000e+00 0.000e+00 0.000e+00 0.000e+00 4.000e+01\n",
            "  0.000e+00]\n",
            " [4.300e+01 1.400e+01 1.000e+00 0.000e+00 0.000e+00 0.000e+00 5.000e+01\n",
            "  0.000e+00]\n",
            " [6.700e+01 9.000e+00 1.000e+00 1.000e+00 0.000e+00 0.000e+00 4.000e+01\n",
            "  1.000e+00]\n",
            " [4.800e+01 1.300e+01 1.000e+00 1.000e+00 0.000e+00 0.000e+00 4.000e+01\n",
            "  1.000e+00]]\n",
            "Race 2:\n",
            " [[5.300e+01 7.000e+00 2.000e+00 1.000e+00 0.000e+00 0.000e+00 4.000e+01\n",
            "  0.000e+00]\n",
            " [2.800e+01 1.300e+01 2.000e+00 0.000e+00 0.000e+00 0.000e+00 4.000e+01\n",
            "  0.000e+00]\n",
            " [4.900e+01 5.000e+00 2.000e+00 0.000e+00 0.000e+00 0.000e+00 1.600e+01\n",
            "  0.000e+00]\n",
            " [3.700e+01 1.000e+01 2.000e+00 1.000e+00 0.000e+00 0.000e+00 8.000e+01\n",
            "  1.000e+00]\n",
            " [3.200e+01 1.200e+01 2.000e+00 1.000e+00 0.000e+00 0.000e+00 5.000e+01\n",
            "  0.000e+00]\n",
            " [5.400e+01 9.000e+00 2.000e+00 0.000e+00 0.000e+00 0.000e+00 2.000e+01\n",
            "  0.000e+00]\n",
            " [3.500e+01 5.000e+00 2.000e+00 1.000e+00 0.000e+00 0.000e+00 4.000e+01\n",
            "  0.000e+00]\n",
            " [2.000e+01 1.000e+01 2.000e+00 1.000e+00 0.000e+00 0.000e+00 4.400e+01\n",
            "  0.000e+00]\n",
            " [2.200e+01 1.000e+01 2.000e+00 1.000e+00 0.000e+00 0.000e+00 1.500e+01\n",
            "  0.000e+00]\n",
            " [5.700e+01 1.300e+01 2.000e+00 1.000e+00 0.000e+00 0.000e+00 4.000e+01\n",
            "  1.000e+00]\n",
            " [3.100e+01 1.300e+01 2.000e+00 0.000e+00 0.000e+00 0.000e+00 4.000e+01\n",
            "  0.000e+00]\n",
            " [2.800e+01 1.000e+01 2.000e+00 0.000e+00 0.000e+00 0.000e+00 2.500e+01\n",
            "  0.000e+00]\n",
            " [3.200e+01 9.000e+00 2.000e+00 1.000e+00 0.000e+00 0.000e+00 4.000e+01\n",
            "  0.000e+00]\n",
            " [4.900e+01 1.100e+01 2.000e+00 1.000e+00 0.000e+00 0.000e+00 4.000e+01\n",
            "  1.000e+00]\n",
            " [3.000e+01 1.300e+01 2.000e+00 1.000e+00 0.000e+00 0.000e+00 4.000e+01\n",
            "  0.000e+00]\n",
            " [1.900e+01 1.000e+01 2.000e+00 1.000e+00 0.000e+00 0.000e+00 3.500e+01\n",
            "  0.000e+00]\n",
            " [4.600e+01 1.200e+01 2.000e+00 0.000e+00 0.000e+00 0.000e+00 3.600e+01\n",
            "  0.000e+00]\n",
            " [3.100e+01 9.000e+00 2.000e+00 0.000e+00 0.000e+00 0.000e+00 3.000e+01\n",
            "  0.000e+00]\n",
            " [7.100e+01 1.000e+01 2.000e+00 1.000e+00 0.000e+00 1.816e+03 2.000e+00\n",
            "  0.000e+00]\n",
            " [4.200e+01 1.300e+01 2.000e+00 1.000e+00 0.000e+00 0.000e+00 5.000e+01\n",
            "  0.000e+00]\n",
            " [2.100e+01 9.000e+00 2.000e+00 1.000e+00 0.000e+00 0.000e+00 4.000e+01\n",
            "  0.000e+00]\n",
            " [3.400e+01 9.000e+00 2.000e+00 1.000e+00 0.000e+00 0.000e+00 4.000e+01\n",
            "  0.000e+00]\n",
            " [4.400e+01 1.000e+01 2.000e+00 1.000e+00 0.000e+00 0.000e+00 3.800e+01\n",
            "  1.000e+00]\n",
            " [3.000e+01 1.000e+01 2.000e+00 1.000e+00 0.000e+00 0.000e+00 4.500e+01\n",
            "  0.000e+00]\n",
            " [3.400e+01 9.000e+00 2.000e+00 1.000e+00 0.000e+00 0.000e+00 4.000e+01\n",
            "  0.000e+00]\n",
            " [3.800e+01 1.000e+01 2.000e+00 0.000e+00 0.000e+00 0.000e+00 2.800e+01\n",
            "  0.000e+00]\n",
            " [4.100e+01 1.300e+01 2.000e+00 1.000e+00 0.000e+00 0.000e+00 4.000e+01\n",
            "  0.000e+00]\n",
            " [3.600e+01 1.300e+01 2.000e+00 1.000e+00 7.298e+03 0.000e+00 3.600e+01\n",
            "  1.000e+00]\n",
            " [4.400e+01 9.000e+00 2.000e+00 1.000e+00 0.000e+00 0.000e+00 4.000e+01\n",
            "  0.000e+00]\n",
            " [3.700e+01 1.300e+01 2.000e+00 1.000e+00 0.000e+00 0.000e+00 6.000e+01\n",
            "  1.000e+00]\n",
            " [9.000e+01 9.000e+00 2.000e+00 1.000e+00 0.000e+00 2.206e+03 4.000e+01\n",
            "  0.000e+00]\n",
            " [5.400e+01 9.000e+00 2.000e+00 1.000e+00 0.000e+00 0.000e+00 2.000e+01\n",
            "  0.000e+00]\n",
            " [3.500e+01 7.000e+00 2.000e+00 1.000e+00 3.674e+03 0.000e+00 4.000e+01\n",
            "  0.000e+00]\n",
            " [4.100e+01 9.000e+00 2.000e+00 0.000e+00 0.000e+00 0.000e+00 3.800e+01\n",
            "  0.000e+00]\n",
            " [4.200e+01 1.300e+01 2.000e+00 0.000e+00 0.000e+00 0.000e+00 4.000e+01\n",
            "  0.000e+00]\n",
            " [5.900e+01 6.000e+00 2.000e+00 0.000e+00 0.000e+00 0.000e+00 3.000e+01\n",
            "  0.000e+00]\n",
            " [4.300e+01 9.000e+00 2.000e+00 1.000e+00 0.000e+00 0.000e+00 4.000e+01\n",
            "  0.000e+00]\n",
            " [3.400e+01 1.200e+01 2.000e+00 0.000e+00 0.000e+00 0.000e+00 4.500e+01\n",
            "  0.000e+00]\n",
            " [2.700e+01 1.300e+01 2.000e+00 0.000e+00 0.000e+00 0.000e+00 4.000e+01\n",
            "  0.000e+00]\n",
            " [1.900e+01 1.000e+01 2.000e+00 0.000e+00 0.000e+00 0.000e+00 2.500e+01\n",
            "  0.000e+00]\n",
            " [3.600e+01 1.300e+01 2.000e+00 0.000e+00 0.000e+00 0.000e+00 4.000e+01\n",
            "  1.000e+00]\n",
            " [2.300e+01 1.100e+01 2.000e+00 0.000e+00 0.000e+00 0.000e+00 1.500e+01\n",
            "  0.000e+00]\n",
            " [4.100e+01 1.000e+01 2.000e+00 1.000e+00 0.000e+00 0.000e+00 4.500e+01\n",
            "  0.000e+00]\n",
            " [1.900e+01 9.000e+00 2.000e+00 1.000e+00 0.000e+00 0.000e+00 3.000e+01\n",
            "  0.000e+00]\n",
            " [4.500e+01 9.000e+00 2.000e+00 1.000e+00 0.000e+00 0.000e+00 4.000e+01\n",
            "  0.000e+00]\n",
            " [2.200e+01 1.000e+01 2.000e+00 0.000e+00 0.000e+00 0.000e+00 4.000e+01\n",
            "  0.000e+00]\n",
            " [4.500e+01 9.000e+00 2.000e+00 1.000e+00 0.000e+00 0.000e+00 4.000e+01\n",
            "  0.000e+00]\n",
            " [4.400e+01 9.000e+00 2.000e+00 1.000e+00 0.000e+00 0.000e+00 4.000e+01\n",
            "  0.000e+00]\n",
            " [4.100e+01 1.000e+01 2.000e+00 0.000e+00 0.000e+00 0.000e+00 2.400e+01\n",
            "  0.000e+00]\n",
            " [2.400e+01 9.000e+00 2.000e+00 0.000e+00 0.000e+00 0.000e+00 4.000e+01\n",
            "  0.000e+00]\n",
            " [3.400e+01 7.000e+00 2.000e+00 1.000e+00 0.000e+00 0.000e+00 4.000e+01\n",
            "  0.000e+00]\n",
            " [3.400e+01 9.000e+00 2.000e+00 1.000e+00 5.940e+02 0.000e+00 6.000e+01\n",
            "  0.000e+00]\n",
            " [4.400e+01 9.000e+00 2.000e+00 0.000e+00 0.000e+00 0.000e+00 4.000e+01\n",
            "  0.000e+00]\n",
            " [1.900e+01 9.000e+00 2.000e+00 0.000e+00 0.000e+00 0.000e+00 4.000e+01\n",
            "  0.000e+00]\n",
            " [4.200e+01 1.200e+01 2.000e+00 1.000e+00 0.000e+00 0.000e+00 4.000e+01\n",
            "  1.000e+00]\n",
            " [3.800e+01 1.000e+01 2.000e+00 1.000e+00 0.000e+00 0.000e+00 5.000e+01\n",
            "  0.000e+00]\n",
            " [5.400e+01 9.000e+00 2.000e+00 1.000e+00 0.000e+00 0.000e+00 4.000e+01\n",
            "  0.000e+00]\n",
            " [5.200e+01 8.000e+00 2.000e+00 1.000e+00 5.940e+02 0.000e+00 4.000e+01\n",
            "  0.000e+00]\n",
            " [2.500e+01 1.000e+01 2.000e+00 0.000e+00 0.000e+00 0.000e+00 2.000e+01\n",
            "  0.000e+00]\n",
            " [2.400e+01 1.300e+01 2.000e+00 1.000e+00 0.000e+00 0.000e+00 4.000e+01\n",
            "  0.000e+00]\n",
            " [4.700e+01 9.000e+00 2.000e+00 0.000e+00 0.000e+00 0.000e+00 4.000e+01\n",
            "  0.000e+00]\n",
            " [5.300e+01 3.000e+00 2.000e+00 0.000e+00 0.000e+00 0.000e+00 3.000e+01\n",
            "  0.000e+00]\n",
            " [2.400e+01 1.000e+01 2.000e+00 1.000e+00 0.000e+00 0.000e+00 5.000e+01\n",
            "  0.000e+00]\n",
            " [3.600e+01 9.000e+00 2.000e+00 1.000e+00 0.000e+00 0.000e+00 4.000e+01\n",
            "  0.000e+00]\n",
            " [5.700e+01 2.000e+00 2.000e+00 0.000e+00 0.000e+00 0.000e+00 3.000e+01\n",
            "  0.000e+00]\n",
            " [3.400e+01 9.000e+00 2.000e+00 0.000e+00 0.000e+00 0.000e+00 4.000e+01\n",
            "  0.000e+00]\n",
            " [3.500e+01 9.000e+00 2.000e+00 0.000e+00 0.000e+00 0.000e+00 4.000e+01\n",
            "  0.000e+00]\n",
            " [3.300e+01 1.100e+01 2.000e+00 0.000e+00 0.000e+00 0.000e+00 4.000e+01\n",
            "  1.000e+00]\n",
            " [2.400e+01 9.000e+00 2.000e+00 0.000e+00 0.000e+00 0.000e+00 4.000e+01\n",
            "  0.000e+00]\n",
            " [4.800e+01 9.000e+00 2.000e+00 0.000e+00 0.000e+00 0.000e+00 3.700e+01\n",
            "  0.000e+00]\n",
            " [3.600e+01 9.000e+00 2.000e+00 1.000e+00 0.000e+00 0.000e+00 4.000e+01\n",
            "  0.000e+00]\n",
            " [3.000e+01 9.000e+00 2.000e+00 1.000e+00 0.000e+00 0.000e+00 4.500e+01\n",
            "  0.000e+00]\n",
            " [4.500e+01 7.000e+00 2.000e+00 0.000e+00 0.000e+00 0.000e+00 2.000e+01\n",
            "  0.000e+00]\n",
            " [6.500e+01 5.000e+00 2.000e+00 0.000e+00 0.000e+00 0.000e+00 2.400e+01\n",
            "  0.000e+00]\n",
            " [3.000e+01 9.000e+00 2.000e+00 1.000e+00 0.000e+00 0.000e+00 6.000e+01\n",
            "  0.000e+00]\n",
            " [4.700e+01 1.000e+01 2.000e+00 0.000e+00 0.000e+00 0.000e+00 4.000e+01\n",
            "  0.000e+00]\n",
            " [4.900e+01 6.000e+00 2.000e+00 0.000e+00 0.000e+00 0.000e+00 4.000e+01\n",
            "  0.000e+00]\n",
            " [3.000e+01 1.300e+01 2.000e+00 0.000e+00 0.000e+00 0.000e+00 4.000e+01\n",
            "  1.000e+00]\n",
            " [4.400e+01 8.000e+00 2.000e+00 1.000e+00 0.000e+00 0.000e+00 4.000e+01\n",
            "  1.000e+00]\n",
            " [4.200e+01 9.000e+00 2.000e+00 1.000e+00 0.000e+00 0.000e+00 4.000e+01\n",
            "  1.000e+00]\n",
            " [2.300e+01 1.000e+01 2.000e+00 1.000e+00 0.000e+00 0.000e+00 4.000e+01\n",
            "  0.000e+00]\n",
            " [2.400e+01 1.000e+01 2.000e+00 0.000e+00 0.000e+00 0.000e+00 4.500e+01\n",
            "  0.000e+00]\n",
            " [4.000e+01 8.000e+00 2.000e+00 1.000e+00 0.000e+00 0.000e+00 4.000e+01\n",
            "  0.000e+00]\n",
            " [4.500e+01 1.000e+01 2.000e+00 1.000e+00 0.000e+00 0.000e+00 4.000e+01\n",
            "  0.000e+00]\n",
            " [3.600e+01 1.000e+01 2.000e+00 0.000e+00 0.000e+00 0.000e+00 4.000e+01\n",
            "  0.000e+00]\n",
            " [3.100e+01 9.000e+00 2.000e+00 0.000e+00 0.000e+00 0.000e+00 4.000e+01\n",
            "  0.000e+00]\n",
            " [4.500e+01 1.000e+01 2.000e+00 0.000e+00 0.000e+00 0.000e+00 4.000e+01\n",
            "  0.000e+00]\n",
            " [3.600e+01 1.000e+01 2.000e+00 0.000e+00 0.000e+00 0.000e+00 3.600e+01\n",
            "  0.000e+00]\n",
            " [5.600e+01 9.000e+00 2.000e+00 0.000e+00 5.940e+02 0.000e+00 2.000e+01\n",
            "  0.000e+00]\n",
            " [3.200e+01 1.000e+01 2.000e+00 0.000e+00 0.000e+00 0.000e+00 4.000e+01\n",
            "  0.000e+00]\n",
            " [2.900e+01 7.000e+00 2.000e+00 1.000e+00 0.000e+00 0.000e+00 4.000e+01\n",
            "  0.000e+00]\n",
            " [3.700e+01 9.000e+00 2.000e+00 1.000e+00 0.000e+00 0.000e+00 4.000e+01\n",
            "  0.000e+00]\n",
            " [4.200e+01 1.000e+01 2.000e+00 0.000e+00 0.000e+00 0.000e+00 3.800e+01\n",
            "  0.000e+00]\n",
            " [2.200e+01 1.000e+01 2.000e+00 1.000e+00 0.000e+00 0.000e+00 2.000e+01\n",
            "  0.000e+00]\n",
            " [2.500e+01 9.000e+00 2.000e+00 1.000e+00 0.000e+00 0.000e+00 4.000e+01\n",
            "  0.000e+00]\n",
            " [2.400e+01 9.000e+00 2.000e+00 1.000e+00 0.000e+00 1.721e+03 3.000e+01\n",
            "  0.000e+00]\n",
            " [2.200e+01 1.000e+01 2.000e+00 1.000e+00 0.000e+00 0.000e+00 4.000e+01\n",
            "  0.000e+00]\n",
            " [5.500e+01 3.000e+00 2.000e+00 1.000e+00 0.000e+00 0.000e+00 2.500e+01\n",
            "  0.000e+00]\n",
            " [2.300e+01 9.000e+00 2.000e+00 0.000e+00 0.000e+00 0.000e+00 7.000e+00\n",
            "  0.000e+00]\n",
            " [5.400e+01 9.000e+00 2.000e+00 1.000e+00 0.000e+00 0.000e+00 4.000e+01\n",
            "  0.000e+00]\n",
            " [4.800e+01 1.000e+01 2.000e+00 0.000e+00 0.000e+00 0.000e+00 3.000e+01\n",
            "  0.000e+00]\n",
            " [2.400e+01 1.300e+01 2.000e+00 1.000e+00 0.000e+00 0.000e+00 1.500e+01\n",
            "  0.000e+00]\n",
            " [2.300e+01 9.000e+00 2.000e+00 1.000e+00 0.000e+00 0.000e+00 4.000e+01\n",
            "  0.000e+00]\n",
            " [3.800e+01 1.000e+01 2.000e+00 0.000e+00 0.000e+00 0.000e+00 4.000e+01\n",
            "  0.000e+00]\n",
            " [3.500e+01 9.000e+00 2.000e+00 1.000e+00 0.000e+00 0.000e+00 4.000e+01\n",
            "  0.000e+00]\n",
            " [5.400e+01 1.000e+01 2.000e+00 0.000e+00 0.000e+00 0.000e+00 3.500e+01\n",
            "  0.000e+00]\n",
            " [5.100e+01 4.000e+00 2.000e+00 0.000e+00 0.000e+00 0.000e+00 4.000e+01\n",
            "  0.000e+00]\n",
            " [7.800e+01 9.000e+00 2.000e+00 0.000e+00 2.964e+03 0.000e+00 4.000e+01\n",
            "  0.000e+00]\n",
            " [2.300e+01 9.000e+00 2.000e+00 0.000e+00 0.000e+00 0.000e+00 4.000e+01\n",
            "  0.000e+00]\n",
            " [4.100e+01 9.000e+00 2.000e+00 0.000e+00 0.000e+00 0.000e+00 3.500e+01\n",
            "  0.000e+00]]\n",
            "Race 3:\n",
            " [[2.500e+01 1.000e+01 3.000e+00 0.000e+00 0.000e+00 0.000e+00 4.000e+01\n",
            "  0.000e+00]\n",
            " [3.300e+01 1.000e+01 3.000e+00 0.000e+00 0.000e+00 0.000e+00 4.000e+01\n",
            "  0.000e+00]\n",
            " [6.500e+01 7.000e+00 3.000e+00 1.000e+00 0.000e+00 0.000e+00 4.000e+01\n",
            "  0.000e+00]\n",
            " [2.800e+01 4.000e+00 3.000e+00 1.000e+00 0.000e+00 2.179e+03 4.000e+01\n",
            "  0.000e+00]\n",
            " [4.400e+01 7.000e+00 3.000e+00 0.000e+00 0.000e+00 0.000e+00 4.600e+01\n",
            "  0.000e+00]\n",
            " [4.000e+01 1.300e+01 3.000e+00 0.000e+00 0.000e+00 0.000e+00 5.500e+01\n",
            "  1.000e+00]]\n",
            "Race 4:\n",
            " [[39. 13.  4. ...  0. 40.  0.]\n",
            " [50. 13.  4. ...  0. 13.  0.]\n",
            " [38.  9.  4. ...  0. 40.  0.]\n",
            " ...\n",
            " [40. 10.  4. ...  0. 40.  0.]\n",
            " [39. 13.  4. ...  0. 50.  1.]\n",
            " [50.  9.  4. ...  0. 40.  0.]]\n"
          ]
        }
      ],
      "source": [
        "# Display the results\n",
        "print(\"Race 0:\\n\", race_0)\n",
        "print(\"Race 1:\\n\", race_1)\n",
        "print(\"Race 2:\\n\", race_2)\n",
        "print(\"Race 3:\\n\", race_3)\n",
        "print(\"Race 4:\\n\", race_4)\n"
      ]
    },
    {
      "cell_type": "markdown",
      "metadata": {
        "id": "thg4wOEQeo1x"
      },
      "source": [
        "Store the length of the above created arrays in 'len_0', 'len_1','len_2', 'len_3' and 'len_4' respectively"
      ]
    },
    {
      "cell_type": "code",
      "execution_count": 210,
      "metadata": {
        "id": "6Nbz3CBkZHLY"
      },
      "outputs": [
        {
          "name": "stdout",
          "output_type": "stream",
          "text": [
            "Length of the race_0 is: 10\n"
          ]
        }
      ],
      "source": [
        "#len_0\n",
        "len_0=race_0.shape[0]\n",
        "print(\"Length of the race_0 is:\", len_0)"
      ]
    },
    {
      "cell_type": "code",
      "execution_count": 211,
      "metadata": {
        "id": "Zm0CnpfHaWQ7"
      },
      "outputs": [
        {
          "name": "stdout",
          "output_type": "stream",
          "text": [
            "Length of the race_1 is: 27\n"
          ]
        }
      ],
      "source": [
        "#len_1\n",
        "len_1=race_1.shape[0]\n",
        "print(\"Length of the race_1 is:\", len_1)"
      ]
    },
    {
      "cell_type": "code",
      "execution_count": 212,
      "metadata": {
        "id": "BmTApcJTab3j"
      },
      "outputs": [
        {
          "name": "stdout",
          "output_type": "stream",
          "text": [
            "Length of the race_2 is: 110\n"
          ]
        }
      ],
      "source": [
        "#len_2\n",
        "len_2=race_2.shape[0]\n",
        "print(\"Length of the race_2 is:\", len_2)"
      ]
    },
    {
      "cell_type": "code",
      "execution_count": 213,
      "metadata": {
        "id": "O-SEHnv9afoQ"
      },
      "outputs": [
        {
          "name": "stdout",
          "output_type": "stream",
          "text": [
            "Length of the race_3 is: 6\n"
          ]
        }
      ],
      "source": [
        "#len_3\n",
        "len_3=race_3.shape[0]\n",
        "print(\"Length of the race_3 is:\", len_3)"
      ]
    },
    {
      "cell_type": "code",
      "execution_count": 214,
      "metadata": {
        "id": "HksygZJFaogo"
      },
      "outputs": [
        {
          "name": "stdout",
          "output_type": "stream",
          "text": [
            "Length of the race_0 is: 848\n"
          ]
        }
      ],
      "source": [
        "#len_4\n",
        "len_4=race_4.shape[0]\n",
        "print(\"Length of the race_0 is:\", len_4)"
      ]
    },
    {
      "cell_type": "markdown",
      "metadata": {
        "id": "p57jTibJezYj"
      },
      "source": [
        "Find out which is the race with the minimum no. of citizens"
      ]
    },
    {
      "cell_type": "code",
      "execution_count": 215,
      "metadata": {},
      "outputs": [
        {
          "name": "stdout",
          "output_type": "stream",
          "text": [
            "The race with the minimum number of citizens is: race_3 with 6 citizens.\n"
          ]
        }
      ],
      "source": [
        "lengths = [len_0, len_1, len_2, len_3, len_4]\n",
        "\n",
        "# Find the race with the minimum number of citizens\n",
        "min_length = np.min(lengths)\n",
        "min_index = np.argmin(lengths)\n",
        "\n",
        "# Print the race with the minimum number of citizens\n",
        "print(f\"The race with the minimum number of citizens is: race_{min_index} with {min_length} citizens.\")\n"
      ]
    },
    {
      "cell_type": "markdown",
      "metadata": {
        "id": "yJVgGJLgfJcV"
      },
      "source": [
        "Find out which is the race with the maximum no. of citizens"
      ]
    },
    {
      "cell_type": "code",
      "execution_count": 216,
      "metadata": {
        "id": "LnvFjvidgdzb"
      },
      "outputs": [
        {
          "name": "stdout",
          "output_type": "stream",
          "text": [
            "The race with the minimum number of citizens is: race_4 with 848 citizens.\n"
          ]
        }
      ],
      "source": [
        "lengths = [len_0, len_1, len_2, len_3, len_4]\n",
        "# Find the race with the maximum number of citizens\n",
        "max_length = np.max(lengths)\n",
        "max_index = np.argmax(lengths)\n",
        "\n",
        "# Print the race with the maximum number of citizens\n",
        "print(f\"The race with the minimum number of citizens is: race_{max_index} with {max_length} citizens.\")"
      ]
    },
    {
      "cell_type": "markdown",
      "metadata": {
        "id": "OJmzGHoZfSHv"
      },
      "source": [
        "Store the number associated with the minority race in a variable called 'minority_race'(For eg: if \"len(race_5)\" is the minimum, store 5 in 'minority_race' because that is the index of the race having the least no. of citizens )"
      ]
    },
    {
      "cell_type": "code",
      "execution_count": 217,
      "metadata": {},
      "outputs": [
        {
          "name": "stdout",
          "output_type": "stream",
          "text": [
            "The minority race is: race_3 with 6 citizens.\n"
          ]
        }
      ],
      "source": [
        "race_lengths=[len_0,len_1,len_2,len_3,len_4]\n",
        "# Find the index of the race with the minimum number of citizens\n",
        "minority_race = np.argmin(race_lengths)\n",
        "\n",
        "# Print the minority race index\n",
        "print(f\"The minority race is: race_{minority_race} with {race_lengths[minority_race]} citizens.\")"
      ]
    },
    {
      "cell_type": "markdown",
      "metadata": {
        "id": "E1Rwgqxf9F9V"
      },
      "source": [
        "# Step 5: As per govt. records citizens above 60 should not work more than 25 hours a week. Let us check if the policy is in place"
      ]
    },
    {
      "cell_type": "markdown",
      "metadata": {
        "id": "XT4Jy_Wn9Vww"
      },
      "source": [
        "a.Create a new subset array called 'senior_citizens' by filtering 'census' according to age>60 (age is the column with index 0)"
      ]
    },
    {
      "cell_type": "markdown",
      "metadata": {
        "id": "6AEHuxcS-uGh"
      },
      "source": [
        "[Row,Columns]  :"
      ]
    },
    {
      "cell_type": "code",
      "execution_count": 218,
      "metadata": {
        "colab": {
          "base_uri": "https://localhost:8080/"
        },
        "id": "oX6E5VZv9Z4j",
        "outputId": "cc545ce0-84fe-4e14-a8b5-9ce2beb20729"
      },
      "outputs": [],
      "source": [
        "#from age column, filter out age data > 60\n",
        "senior_citizens = census[census[:, 0] > 60]"
      ]
    },
    {
      "cell_type": "markdown",
      "metadata": {
        "id": "mDbsg8N0_K8b"
      },
      "source": [
        "b.Add all the working hours(working hours is the column with index 6) of 'senior_citizens' and store it in a variable called 'working_hours_sum'"
      ]
    },
    {
      "cell_type": "code",
      "execution_count": 219,
      "metadata": {
        "id": "fYZTR7EMgupn"
      },
      "outputs": [
        {
          "data": {
            "text/plain": [
              "1917.0"
            ]
          },
          "execution_count": 219,
          "metadata": {},
          "output_type": "execute_result"
        }
      ],
      "source": [
        "working_hours_sum=senior_citizens[0:,6].sum()\n",
        "working_hours_sum"
      ]
    },
    {
      "cell_type": "markdown",
      "metadata": {
        "id": "l4h6_8DfBD9x"
      },
      "source": [
        "c.Find the length of 'senior_citizens' and store it in a variable called 'senior_citizens_len'"
      ]
    },
    {
      "cell_type": "code",
      "execution_count": 220,
      "metadata": {
        "id": "pPExiV83gwaC"
      },
      "outputs": [
        {
          "data": {
            "text/plain": [
              "61"
            ]
          },
          "execution_count": 220,
          "metadata": {},
          "output_type": "execute_result"
        }
      ],
      "source": [
        "senior_citizens_len=senior_citizens.shape[0]\n",
        "senior_citizens_len"
      ]
    },
    {
      "cell_type": "markdown",
      "metadata": {
        "id": "-6mWgLiXBgAW"
      },
      "source": [
        "d. Finally find the average working hours of the senior citizens by dividing 'working_hours_sum' by 'senior_citizens_len' and store it in a variable called 'avg_working hours'."
      ]
    },
    {
      "cell_type": "code",
      "execution_count": 221,
      "metadata": {},
      "outputs": [
        {
          "data": {
            "text/plain": [
              "31.42622950819672"
            ]
          },
          "execution_count": 221,
          "metadata": {},
          "output_type": "execute_result"
        }
      ],
      "source": [
        "avg_working_hours=working_hours_sum/senior_citizens_len\n",
        "avg_working_hours"
      ]
    },
    {
      "cell_type": "markdown",
      "metadata": {
        "id": "VS382pv_CY1Q"
      },
      "source": [
        "e. Print 'avg_working_hours' and see if the govt. policy is followed."
      ]
    },
    {
      "cell_type": "code",
      "execution_count": 222,
      "metadata": {
        "id": "NatAJ4JBgzr4"
      },
      "outputs": [
        {
          "name": "stdout",
          "output_type": "stream",
          "text": [
            "The Goverment Policy is not being Followed\n"
          ]
        }
      ],
      "source": [
        "if avg_working_hours < 25 :\n",
        "    print('The Goverment Policy is being Followed')\n",
        "else:\n",
        "    print('The Goverment Policy is not being Followed')"
      ]
    },
    {
      "cell_type": "markdown",
      "metadata": {
        "id": "KRGhpDBKEIa-"
      },
      "source": [
        "# Step 6: Let's check that higher educated people have better pay in general."
      ]
    },
    {
      "cell_type": "markdown",
      "metadata": {
        "id": "-5rc9FarELwP"
      },
      "source": [
        "Create two new subset arrays called 'high' and 'low' by filtering 'census' according to education-num>10 and education-num<=10 (education-num is the column with index 1) respectively.\n",
        "\n"
      ]
    },
    {
      "cell_type": "code",
      "execution_count": 223,
      "metadata": {
        "id": "GVA3Dgp5g2Ui"
      },
      "outputs": [],
      "source": [
        "high=census[census[0:,1]>10]\n",
        "low=census[census[0:,1]<=10]"
      ]
    },
    {
      "cell_type": "markdown",
      "metadata": {
        "id": "I4MwXFEbFEjV"
      },
      "source": [
        "Find the mean of income column(income is the column with index 7) of 'high' array and store it in 'avg_pay_high'. Do the same for 'low' array and store it's mean in 'avg_pay_low'."
      ]
    },
    {
      "cell_type": "code",
      "execution_count": 224,
      "metadata": {
        "colab": {
          "base_uri": "https://localhost:8080/"
        },
        "id": "aaHfrQd1FItV",
        "outputId": "8647ea5d-9b2f-4c74-e81c-2405c907f309"
      },
      "outputs": [
        {
          "name": "stdout",
          "output_type": "stream",
          "text": [
            "Average pay for high income group: 0.42813455657492355\n"
          ]
        }
      ],
      "source": [
        "avg_pay_high = high[:, 7].mean()\n",
        "print(\"Average pay for high income group:\", avg_pay_high)"
      ]
    },
    {
      "cell_type": "code",
      "execution_count": 225,
      "metadata": {
        "colab": {
          "base_uri": "https://localhost:8080/"
        },
        "id": "W4pJ8mhvHjlL",
        "outputId": "717875ad-efee-4549-ecc4-f883c94f561b"
      },
      "outputs": [
        {
          "name": "stdout",
          "output_type": "stream",
          "text": [
            "Average pay for low income group: 0.13649851632047477\n"
          ]
        }
      ],
      "source": [
        "avg_pay_low = low[:, 7].mean()\n",
        "print(\"Average pay for low income group:\", avg_pay_low)"
      ]
    }
  ],
  "metadata": {
    "colab": {
      "provenance": []
    },
    "kernelspec": {
      "display_name": "python_eda",
      "language": "python",
      "name": "python3"
    },
    "language_info": {
      "codemirror_mode": {
        "name": "ipython",
        "version": 3
      },
      "file_extension": ".py",
      "mimetype": "text/x-python",
      "name": "python",
      "nbconvert_exporter": "python",
      "pygments_lexer": "ipython3",
      "version": "3.12.3"
    }
  },
  "nbformat": 4,
  "nbformat_minor": 0
}
