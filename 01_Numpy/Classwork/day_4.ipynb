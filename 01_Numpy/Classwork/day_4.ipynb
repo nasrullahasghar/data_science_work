{
 "cells": [
  {
   "cell_type": "code",
   "execution_count": 13,
   "metadata": {},
   "outputs": [
    {
     "name": "stdout",
     "output_type": "stream",
     "text": [
      "----------op.reduce-----------\n",
      "28\n",
      "abcdef\n",
      "[[ 0  1  2]\n",
      " [10 11 12]\n",
      " [20 21 22]\n",
      " [30 31 32]]\n",
      "[ 3 33 63 93]\n",
      "----------op.reduceat-----------\n",
      "[ 9 18]\n",
      "----------op.accumelate-----------\n"
     ]
    }
   ],
   "source": [
    "import numpy as np\n",
    "print('----------op.reduce-----------')\n",
    "a=np.array([1,2,3,4,5,6,7])\n",
    "print(np.add.reduce(a))\n",
    "\n",
    "b= np.array(['ab','cd','ef'],dtype='object')\n",
    "print(np.add.reduce(b))\n",
    "\n",
    "c = np.arange(3) + np.arange(0, 40,10).reshape(-1, 1)\n",
    "print(c)\n",
    "print(np.add.reduce(c,1))\n",
    "print('----------op.reduceat-----------')\n",
    "indices=np.array([1,4])\n",
    "print(np.add.reduceat(a,indices))\n",
    "\n",
    "print('----------op.accumelate-----------')\n"
   ]
  },
  {
   "cell_type": "code",
   "execution_count": 14,
   "metadata": {},
   "outputs": [
    {
     "name": "stdout",
     "output_type": "stream",
     "text": [
      "----------op.outer-----------\n"
     ]
    },
    {
     "data": {
      "text/plain": [
       "array([[ 2,  3,  4,  5],\n",
       "       [ 3,  4,  5,  6],\n",
       "       [ 4,  5,  6,  7],\n",
       "       [ 5,  6,  7,  8],\n",
       "       [ 6,  7,  8,  9],\n",
       "       [ 7,  8,  9, 10],\n",
       "       [ 8,  9, 10, 11]])"
      ]
     },
     "execution_count": 14,
     "metadata": {},
     "output_type": "execute_result"
    }
   ],
   "source": [
    "print('----------op.outer-----------')\n",
    "a=np.array([1,2,3,4,5,6,7])\n",
    "b=np.array([1,2,3,4])\n",
    "np.add.outer(a,b)"
   ]
  },
  {
   "cell_type": "code",
   "execution_count": null,
   "metadata": {},
   "outputs": [],
   "source": []
  }
 ],
 "metadata": {
  "kernelspec": {
   "display_name": "python_eda",
   "language": "python",
   "name": "python3"
  },
  "language_info": {
   "codemirror_mode": {
    "name": "ipython",
    "version": 3
   },
   "file_extension": ".py",
   "mimetype": "text/x-python",
   "name": "python",
   "nbconvert_exporter": "python",
   "pygments_lexer": "ipython3",
   "version": "3.12.3"
  }
 },
 "nbformat": 4,
 "nbformat_minor": 2
}
