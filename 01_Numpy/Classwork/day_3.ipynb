{
 "cells": [
  {
   "cell_type": "code",
   "execution_count": 1,
   "metadata": {},
   "outputs": [],
   "source": [
    "import numpy as np"
   ]
  },
  {
   "cell_type": "code",
   "execution_count": 12,
   "metadata": {},
   "outputs": [
    {
     "name": "stdout",
     "output_type": "stream",
     "text": [
      "36\n",
      "36\n",
      "[ 6  8 10 12]\n",
      "[10 26]\n",
      "4.5\n"
     ]
    }
   ],
   "source": [
    "a=np.array([[1,2,3,4],\n",
    "        [5,6,7,8]\n",
    "])\n",
    "print(np.sum(a))\n",
    "print(a.sum())\n",
    "print(np.sum(a,axis=0))\n",
    "print(np.sum(a,axis=1))\n",
    "print(a.mean())\n"
   ]
  },
  {
   "cell_type": "code",
   "execution_count": 24,
   "metadata": {},
   "outputs": [
    {
     "name": "stdout",
     "output_type": "stream",
     "text": [
      "1\n",
      "8\n",
      "[1 2 3 4]\n",
      "[4 8]\n",
      "0\n",
      "7\n",
      "[0 0 0 0]\n",
      "[3 3]\n",
      "(1, 3)\n"
     ]
    }
   ],
   "source": [
    "print(a.min())\n",
    "print(a.max())\n",
    "print(np.min(a,axis=0))\n",
    "print(np.max(a,axis=1))\n",
    "print(a.argmin())\n",
    "print(a.argmax())\n",
    "print(np.argmin(a,axis=0))\n",
    "print(a.argmax(axis=1))\n",
    "print(np.unravel_index(a.argmax(),a.shape))"
   ]
  },
  {
   "cell_type": "code",
   "execution_count": 39,
   "metadata": {},
   "outputs": [
    {
     "name": "stdout",
     "output_type": "stream",
     "text": [
      "[4 1 0 1]\n",
      "[ True False  True False]\n",
      "[ 1 -2  3 -4]\n",
      "[1 0 1 0]\n",
      "[1 1 3 1]\n"
     ]
    }
   ],
   "source": [
    "a=np.arange(-2,2) ** 2\n",
    "print(a)\n",
    "mask=a % 2== 0\n",
    "print(mask)\n",
    "np.where (mask)\n",
    "\n",
    "positive=np.arange(1,5)\n",
    "negative=-positive\n",
    "print(np.where(mask,positive,negative))\n",
    "print(np.where(mask,1,0))\n",
    "print(np.where(mask,positive,1))"
   ]
  },
  {
   "cell_type": "code",
   "execution_count": 53,
   "metadata": {},
   "outputs": [
    {
     "name": "stdout",
     "output_type": "stream",
     "text": [
      "[[225 196 169 144 121 100]\n",
      " [ 81  64  49  36  25  16]\n",
      " [  9   4   1   0   1   4]\n",
      " [  9  16  25  36  49  64]\n",
      " [ 81 100 121 144 169 196]]\n",
      "\n",
      "The maximum of each row is: [225  81   9  64 196]\n",
      "The mean of each column is: [81. 76. 73. 72. 73. 76.]\n",
      "The position of the overall minimum is: 15\n"
     ]
    }
   ],
   "source": [
    "a = np.arange(-15, 15).reshape(5, 6) ** 2\n",
    "print(a)\n",
    "print('\\nThe maximum of each row is:',np.max(a,axis=1))\n",
    "print('The mean of each column is:',np.mean(a,axis=0))\n",
    "print('The position of the overall minimum is:',a.argmin())\n"
   ]
  },
  {
   "cell_type": "code",
   "execution_count": 72,
   "metadata": {},
   "outputs": [
    {
     "name": "stdout",
     "output_type": "stream",
     "text": [
      "[[1. 1. 1. 1. 1.]\n",
      " [1. 1. 1. 1. 1.]\n",
      " [1. 1. 1. 1. 1.]]\n",
      "[1. 1. 1. 1. 1.]\n",
      "(5,)\n",
      "(3, 5)\n"
     ]
    }
   ],
   "source": [
    "a=np.ones((3,5))\n",
    "print(a)\n",
    "b=np.ones((5,))\n",
    "print(b)\n",
    "b.reshape(1,5)\n",
    "b[np.newaxis, :]\n",
    "print(b.shape)\n",
    "c=a+b\n",
    "print(c.shape)"
   ]
  },
  {
   "cell_type": "code",
   "execution_count": null,
   "metadata": {},
   "outputs": [],
   "source": []
  }
 ],
 "metadata": {
  "kernelspec": {
   "display_name": "python_eda",
   "language": "python",
   "name": "python3"
  },
  "language_info": {
   "codemirror_mode": {
    "name": "ipython",
    "version": 3
   },
   "file_extension": ".py",
   "mimetype": "text/x-python",
   "name": "python",
   "nbconvert_exporter": "python",
   "pygments_lexer": "ipython3",
   "version": "3.12.3"
  }
 },
 "nbformat": 4,
 "nbformat_minor": 2
}
