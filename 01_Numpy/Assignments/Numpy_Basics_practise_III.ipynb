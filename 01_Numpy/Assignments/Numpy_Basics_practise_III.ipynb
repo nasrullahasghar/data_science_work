{
  "cells": [
    {
      "cell_type": "code",
      "execution_count": 18,
      "metadata": {
        "id": "qQxFQvrEEKqm"
      },
      "outputs": [],
      "source": [
        "import numpy as np"
      ]
    },
    {
      "cell_type": "code",
      "execution_count": 19,
      "metadata": {
        "colab": {
          "base_uri": "https://localhost:8080/"
        },
        "id": "n_ncJAFDEbs1",
        "outputId": "a09be9aa-5efa-45c6-b212-e9ebec9db71a"
      },
      "outputs": [],
      "source": [
        "# from google.colab import drive\n",
        "# drive.mount('/content/drive')"
      ]
    },
    {
      "cell_type": "markdown",
      "metadata": {
        "id": "5dL78wl-ElhS"
      },
      "source": [
        "# Q.1\n",
        "**Statement:** You are working with a retail store that needs to manage its inventory efficiently. They have provided you with a dataset containing information about products, their quantities in stock, and the number of units sold daily for the past week. Total number of products are 5. Your task is to calculate the following:\n",
        "\n",
        "\n",
        "\n",
        "1.The total sales for each product over the past week.\n",
        "\n",
        "2.The average daily sales for each product.\n",
        "\n",
        "3.The product with the highest sales.\n",
        "\n",
        "4.The product with the lowest sales.\n",
        "\n",
        "5.The total sales for all products combined.\n",
        "\n",
        "You are required to use NumPy for efficient data processing and calculations. Write code to solve this inventory management problem."
      ]
    },
    {
      "cell_type": "code",
      "execution_count": 20,
      "metadata": {
        "id": "DxtXsLXRVpdW"
      },
      "outputs": [
        {
          "name": "stdout",
          "output_type": "stream",
          "text": [
            "Product: Product A\n",
            "Total Sale Revenue: 175\n",
            "Average Daily Sale: 25.0\n",
            "\n",
            "Product: Product B\n",
            "Total Sale Revenue: 72\n",
            "Average Daily Sale: 10.29\n",
            "\n",
            "Product: Product C\n",
            "Total Sale Revenue: 205\n",
            "Average Daily Sale: 29.29\n",
            "\n",
            "Product: Product D\n",
            "Total Sale Revenue: 204\n",
            "Average Daily Sale: 29.14\n",
            "\n",
            "Product: Product E\n",
            "Total Sale Revenue: 210\n",
            "Average Daily Sale: 30.0\n",
            "\n",
            "Product with the highest sales: Product E\n",
            "Product with the lowest sales: Product B\n",
            "The total sales revenue for all products is : 866\n"
          ]
        }
      ],
      "source": [
        "import numpy as np\n",
        "\n",
        "# Sample data (replace with your actual data)\n",
        "product_names = np.array(['Product A', 'Product B', 'Product C', 'Product D', 'Product E'])\n",
        "quantities_in_stock = np.array([100, 150, 200, 250, 50])\n",
        "\n",
        "daily_sales_data = np.array([\n",
        "                             [10, 15, 20, 25, 30, 35, 40],\n",
        "                             [5, 7, 8, 10, 12, 14, 16],\n",
        "                             [15, 20, 25, 30, 35, 40, 40],\n",
        "                             [12, 25, 20, 40, 20, 32, 55],\n",
        "                             [15, 20, 25, 30, 35, 40, 45]\n",
        "                             ])\n",
        "\n",
        "# 1. Calculate total sales for each product over the past week\n",
        "total_sales_per_product = np.sum(daily_sales_data, axis=1)\n",
        "\n",
        "# 2. Calculate average daily sales for each product (rounded to 2 decimal places)\n",
        "average_sales_per_product = np.round(np.mean(daily_sales_data, axis=1), 2)\n",
        "\n",
        "# Print results in the required format\n",
        "for i in range(len(product_names)):\n",
        "    print(f\"Product: {product_names[i]}\")\n",
        "    print(f\"Total Sale Revenue: {total_sales_per_product[i]}\")\n",
        "    print(f\"Average Daily Sale: {average_sales_per_product[i]}\\n\")\n",
        "    \n",
        "# 3. Find the product with the highest sales\n",
        "product_with_highest_sales = product_names[np.argmax(total_sales_per_product)]\n",
        "print(\"Product with the highest sales:\", product_with_highest_sales)\n",
        "\n",
        "# 4. Find the product with the lowest sales\n",
        "product_with_lowest_sales = product_names[np.argmin(total_sales_per_product)]\n",
        "print(\"Product with the lowest sales:\", product_with_lowest_sales)\n",
        "# Calculate the total sales revenue for all products combined\n",
        "print('The total sales revenue for all products is :',np.sum(daily_sales_data))"
      ]
    },
    {
      "cell_type": "markdown",
      "metadata": {
        "id": "ICk1qoQHVwDc"
      },
      "source": [
        "# Q.2\n",
        "**Statement:** Statement: You are working with a manufacturing plant that produces various components. They have provided you with data on the production rates of five different machines over the past month. Your task is to analyze the performance of these machines by calculating the following metrics:\n",
        "\n",
        "1.The total production output for each machine over the past month.\n",
        "\n",
        "2.The average daily production rate for each machine.\n",
        "\n",
        "3.The machine with the highest total production output.\n",
        "\n",
        "4.The machine with the lowest total production output.\n",
        "\n",
        "The overall production efficiency of the plant, which is defined as the ratio of the total production output to the total number of hours worked, and working hour for each day is 2 hours."
      ]
    },
    {
      "cell_type": "code",
      "execution_count": 30,
      "metadata": {
        "id": "lIu6pfmgbUQd"
      },
      "outputs": [
        {
          "name": "stdout",
          "output_type": "stream",
          "text": [
            "[[126 141 177 144 144 144 175 142 132 170 153 187 123 169 141 136 192 106\n",
            "  125 118 161 152 179 103 197 132 136 143 168 183]\n",
            " [120 122 193 146 124 153 126 191 104 173 130 135 150 127 133 122 115 105\n",
            "  199 168 191 161 184 120 117 139 196 101 133 102]\n",
            " [110 131 106 194 158 184 181 156 189 196 174 106 190 158 167 150 178 107\n",
            "  197 123 187 148 170 181 113 184 132 111 142 141]\n",
            " [148 101 190 141 104 107 124 181 151 169 176 104 147 128 138 194 152 131\n",
            "  149 138 128 123 114 162 114 107 137 104 147 140]\n",
            " [108 197 163 136 179 180 132 139 171 194 190 156 116 135 132 183 133 136\n",
            "  183 179 179 190 141 184 190 162 145 106 176 159]]\n",
            "Total production output for each machine: [4499 4280 4664 4149 4774]\n",
            "Average daily production rate for each machine: [149.97 142.67 155.47 138.3  159.13]\n",
            "Machine with the highest total production output: Machine 5\n",
            "Machine with the lowest total production output: Machine 4\n",
            "Overall production efficiency of the plant: 372.77 units per hour\n"
          ]
        }
      ],
      "source": [
        "\n",
        "# Sample data (replace with your actual data)\n",
        "\n",
        "# Generate random production rates between 100 and 200 for 5 machines over 30 days\n",
        "production_data = np.random.randint(100, 201, size=(5, 30))\n",
        "print(production_data)\n",
        "\n",
        "# 1. Calculate total production output for each machine over the past month\n",
        "total_output_per_machine = np.sum(production_data, axis=1)\n",
        "print(\"Total production output for each machine:\", total_output_per_machine)\n",
        "\n",
        "# 2. Calculate average daily production rate for each machine\n",
        "average_daily_production_per_machine = np.round(np.mean(production_data, axis=1), 2)\n",
        "print(\"Average daily production rate for each machine:\", average_daily_production_per_machine)\n",
        "\n",
        "# 3. Find the machine with the highest total production output\n",
        "machine_with_highest_output = np.argmax(total_output_per_machine) + 1\n",
        "print(f\"Machine with the highest total production output: Machine {machine_with_highest_output}\")\n",
        "\n",
        "# 4. Find the machine with the lowest total production output\n",
        "machine_with_lowest_output = np.argmin(total_output_per_machine) + 1\n",
        "print(f\"Machine with the lowest total production output: Machine {machine_with_lowest_output}\")\n",
        "\n",
        "# 5. Calculate the overall production efficiency of the plant\n",
        "# Assume the working hours per day is 2 hours\n",
        "total_hours_worked = 30 * 2  # 30 days, 2 hours per day\n",
        "total_production_output = np.sum(total_output_per_machine)\n",
        "production_efficiency = total_production_output / total_hours_worked\n",
        "print(f\"Overall production efficiency of the plant: {production_efficiency:.2f} units per hour\")\n"
      ]
    },
    {
      "cell_type": "markdown",
      "metadata": {
        "id": "Ayc9TG-vff7A"
      },
      "source": [
        "# Q3:\n",
        "\n",
        "**Statment**\n",
        "You are working on a project that involves simulating sensor data for a network of 10 sensors over a period of 15 days. Each sensor collects data once per hour. Your task is to generate a NumPy array named sensor_data to represent this simulated sensor data and perform following statistical analysis on it.\n",
        "\n",
        "Populate the sensor_data array with random floating-point values between 0.0 and 100.0\n",
        "The generated values should represent sensor readings collected once per hour.\n",
        "\n",
        "After generating the sensor_data array, perform the following statistical **calculations:**\n",
        "\n",
        "1.Calculate the mean (average) sensor reading for each sensor over the 15 days.\n",
        "\n",
        "2.Calculate the standard deviation of sensor readings for each sensor.\n",
        "\n",
        "3.Calculate the maximum sensor reading for each sensor.\n",
        "\n",
        "4.Calculate the minimum sensor reading for each sensor.\n",
        "\n",
        "5.Calculate the overall mean sensor reading for all sensors and all days.\n",
        "\n",
        "6.Calculate the overall standard deviation of sensor readings for all sensors an"
      ]
    },
    {
      "cell_type": "code",
      "execution_count": 27,
      "metadata": {
        "id": "TWSK9GA1gfz0"
      },
      "outputs": [
        {
          "name": "stdout",
          "output_type": "stream",
          "text": [
            "Mean sensor reading for each sensor: [49.08027272 49.44065044 51.1198036  51.37998102 50.44745017 48.86691814\n",
            " 48.10072154 50.72298154 50.39818537 51.11134148]\n",
            "Standard deviation of sensor readings for each sensor: [28.35954371 28.82444159 28.8529933  28.87096103 29.57901653 28.87754116\n",
            " 28.64339114 28.68210534 29.72951195 28.82102486]\n",
            "Maximum sensor reading for each sensor: [99.14320365 98.82142538 99.93660202 99.85949174 99.69000174 99.8905027\n",
            " 99.99706218 99.50821888 99.72026194 99.89507042]\n",
            "Minimum sensor reading for each sensor: [3.12246005e-01 5.02584136e-04 2.30173869e-01 2.72874048e-01\n",
            " 3.01771094e-01 1.21379937e-01 7.72518273e-01 3.30917158e-01\n",
            " 2.90964488e-01 2.04415306e-01]\n",
            "Overall mean sensor reading: 50.06683060336172\n",
            "Overall standard deviation of sensor readings: 28.946248181347396\n"
          ]
        }
      ],
      "source": [
        "import numpy as np\n",
        "\n",
        "# Step 1: Data Generation\n",
        "num_sensors = 10\n",
        "num_days = 15\n",
        "hours_per_day = 24\n",
        "shape = (num_sensors, num_days * hours_per_day)\n",
        "\n",
        "# Populate the sensor_data array with random floating-point values between 0.0 and 100.0\n",
        "sensor_data = np.random.uniform(0.0, 100.0, size=shape)\n",
        "\n",
        "# Step 2: Statistical Calculations\n",
        "\n",
        "# 1. Mean sensor reading for each sensor\n",
        "mean_per_sensor = np.mean(sensor_data, axis=1)\n",
        "print(\"Mean sensor reading for each sensor:\", mean_per_sensor)\n",
        "\n",
        "# 2. Standard deviation of sensor readings for each sensor\n",
        "std_per_sensor = np.std(sensor_data, axis=1)\n",
        "print(\"Standard deviation of sensor readings for each sensor:\", std_per_sensor)\n",
        "\n",
        "# 3. Maximum sensor reading for each sensor\n",
        "max_per_sensor = np.max(sensor_data, axis=1)\n",
        "print(\"Maximum sensor reading for each sensor:\", max_per_sensor)\n",
        "\n",
        "# 4. Minimum sensor reading for each sensor\n",
        "min_per_sensor = np.min(sensor_data, axis=1)\n",
        "print(\"Minimum sensor reading for each sensor:\", min_per_sensor)\n",
        "\n",
        "# 5. Overall mean sensor reading for all sensors and all days\n",
        "overall_mean = np.mean(sensor_data)\n",
        "print(\"Overall mean sensor reading:\", overall_mean)\n",
        "\n",
        "# 6. Overall standard deviation of sensor readings for all sensors and all days\n",
        "overall_std = np.std(sensor_data)\n",
        "print(\"Overall standard deviation of sensor readings:\", overall_std)\n"
      ]
    },
    {
      "cell_type": "markdown",
      "metadata": {
        "id": "IShr0NSyhcEc"
      },
      "source": [
        "# Q4:\n",
        "\n",
        "**Statement**: You are tasked with analyzing the exam scores of 30 students in a class over a period of 10 exams. The exam scores are represented as a NumPy, where each row corresponds to a different student, and each column represents their score in a specific exam.\n",
        "\n",
        "Populate the exam_scores array with random integer values between 50 and 100 to simulate students' exam performance.\n",
        "\n",
        "After generating the exam_scores array, perform the following tasks:\n",
        "\n",
        "1.Calculate the average score for each student over the 10 exams.\n",
        "\n",
        "2.Calculate the standard deviation of scores for each student.\n",
        "\n",
        "3.Identify students who have consistently performed well, defined as those whose average score is above 85.\n",
        "\n",
        "4.Identify students who may need additional support, defined as those whose average score is below 50.\n",
        "\n",
        "Write code to create and populate the exam_scores array and then perform the specified statistical analysis and performance evaluation tasks on the data.\n",
        "\n",
        "\n",
        "\n"
      ]
    },
    {
      "cell_type": "code",
      "execution_count": 29,
      "metadata": {
        "id": "F3p_SMeoiT2o"
      },
      "outputs": [
        {
          "name": "stdout",
          "output_type": "stream",
          "text": [
            "\n",
            "Average score for each student: [82.2 79.1 79.1 76.4 77.5 82.4 66.6 76.1 71.8 73.1 77.2 76.6 75.9 74.5\n",
            " 73.3 76.1 77.2 75.9 72.3 76.7 71.4 76.4 75.9 72.3 75.2 80.6 77.9 70.1\n",
            " 66.4 76.6]\n",
            "\n",
            "Standard deviation of scores for each student: [13.2196823  16.6520269  12.68424219 15.34405422 10.5        13.49221998\n",
            "  8.70861642 14.4391828  13.18938968 15.97779709 17.82582396 15.55120574\n",
            " 14.11701102 12.24132346 17.9279112  12.10330533 14.38610441 12.38910812\n",
            " 17.73161019 16.77527943 10.82774215 15.47384891 12.83316017 14.3460796\n",
            " 18.0930926  11.02905254 16.79553512 14.64547712 14.22814113 15.1406737 ]\n",
            "\n",
            "Students who have consistently performed well (average score > 85): []\n",
            "\n",
            "Students who may need additional support (average score < 60): []\n"
          ]
        }
      ],
      "source": [
        "import numpy as np\n",
        "\n",
        "# Step 1: Create the exam_scores array (30 students, 10 exams)\n",
        "num_students = 30\n",
        "num_exams = 10\n",
        "\n",
        "# Populate the exam_scores array with random integer values between 50 and 100\n",
        "exam_scores = np.random.randint(50, 101, size=(num_students, num_exams))\n",
        "# print(\"Exam Scores:\\n\", exam_scores)\n",
        "\n",
        "# Step 2: Statistical Analysis\n",
        "\n",
        "# 1. Calculate the average score for each student over the 10 exams\n",
        "average_scores = np.mean(exam_scores, axis=1)\n",
        "print(\"\\nAverage score for each student:\", average_scores)\n",
        "\n",
        "# 2. Calculate the standard deviation of scores for each student\n",
        "std_scores = np.std(exam_scores, axis=1)\n",
        "print(\"\\nStandard deviation of scores for each student:\", std_scores)\n",
        "\n",
        "# 3. Identify students who have consistently performed well (average score > 85)\n",
        "high_performers = np.where(average_scores > 85)[0]  # Get the indices of high performers\n",
        "print(\"\\nStudents who have consistently performed well (average score > 85):\", high_performers)\n",
        "\n",
        "# 4. Identify students who may need additional support (average score < 60)\n",
        "students_needing_support = np.where(average_scores < 60)[0]  # Get the indices of students needing support\n",
        "print(\"\\nStudents who may need additional support (average score < 60):\", students_needing_support)\n"
      ]
    },
    {
      "cell_type": "code",
      "execution_count": null,
      "metadata": {},
      "outputs": [],
      "source": []
    }
  ],
  "metadata": {
    "colab": {
      "provenance": []
    },
    "kernelspec": {
      "display_name": "python_eda",
      "language": "python",
      "name": "python3"
    },
    "language_info": {
      "codemirror_mode": {
        "name": "ipython",
        "version": 3
      },
      "file_extension": ".py",
      "mimetype": "text/x-python",
      "name": "python",
      "nbconvert_exporter": "python",
      "pygments_lexer": "ipython3",
      "version": "3.12.3"
    }
  },
  "nbformat": 4,
  "nbformat_minor": 0
}
