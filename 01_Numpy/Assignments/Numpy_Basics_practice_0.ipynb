{
  "cells": [
    {
      "cell_type": "code",
      "execution_count": 46,
      "metadata": {
        "id": "YAvC8k1FKC6i"
      },
      "outputs": [],
      "source": [
        "import numpy as np"
      ]
    },
    {
      "cell_type": "markdown",
      "metadata": {
        "id": "z-ttfWOCWYAD"
      },
      "source": [
        "### Basic Array Creation"
      ]
    },
    {
      "cell_type": "markdown",
      "metadata": {
        "id": "ZksDKlwjHvFV"
      },
      "source": [
        "# Creatation of List\n",
        "create List in python? # Check Type of list"
      ]
    },
    {
      "cell_type": "code",
      "execution_count": 47,
      "metadata": {
        "id": "mCgQsxXkF3nb"
      },
      "outputs": [
        {
          "name": "stdout",
          "output_type": "stream",
          "text": [
            "<class 'list'>\n"
          ]
        }
      ],
      "source": [
        "# Code here\n",
        "\n",
        "# creation of list\n",
        "list=[1,2,3,4,5]\n",
        "# print the type of list\n",
        "print(type(list))"
      ]
    },
    {
      "cell_type": "markdown",
      "metadata": {
        "id": "M2TOiuioIc6M"
      },
      "source": [
        "# Creatation of Arrays\n",
        "1.Create an array containing 10 elements \n",
        "\n",
        "2.Checking array \"TYPE\"\n",
        "\n",
        "3.Check data type of array elements\n",
        "\n",
        "4.Array dim\n",
        "\n",
        "5.Array Shape\n",
        "\n",
        "6.Bytes per element\n",
        "\n",
        "7.Total bytes in an Array"
      ]
    },
    {
      "cell_type": "code",
      "execution_count": 48,
      "metadata": {
        "id": "uy_hPIW4A4uM"
      },
      "outputs": [
        {
          "name": "stdout",
          "output_type": "stream",
          "text": [
            "Array Type : <class 'numpy.ndarray'>\n",
            "Data Type of array elements : int32\n",
            "The Dimension of array is : 1\n",
            "The Shape of array is : (10,)\n",
            "The Bytes per elements are : 4\n",
            "The total number of bytes are : 40\n"
          ]
        }
      ],
      "source": [
        "# Create 'int' array and repeat above mention steps 1-7\n",
        "# Answer Here\n",
        "# Step 1\n",
        "a=np.array([1,2,3,4,5,6,7,8,9,10])\n",
        "\n",
        "# Step 2\n",
        "print('Array Type :',type(a))\n",
        "\n",
        "# Step 3\n",
        "print('Data Type of array elements :',a.dtype)\n",
        "\n",
        "# Step 4\n",
        "print('The Dimension of array is :',a.ndim)\n",
        "\n",
        "# Step 5\n",
        "print('The Shape of array is :',a.shape)\n",
        "\n",
        "# Step 6\n",
        "print('The Bytes per elements are :',a.itemsize)\n",
        "\n",
        "# step 7\n",
        "print('The total number of bytes are :',a.nbytes)"
      ]
    },
    {
      "cell_type": "code",
      "execution_count": 49,
      "metadata": {
        "id": "tf9pmYpYLuEu"
      },
      "outputs": [
        {
          "name": "stdout",
          "output_type": "stream",
          "text": [
            "Array Type : <class 'numpy.ndarray'>\n",
            "Data Type of array elements : float64\n",
            "The Dimension of array is : 1\n",
            "The Shape of array is : (10,)\n",
            "The Bytes per elements are : 8\n",
            "The total number of bytes are : 80\n"
          ]
        }
      ],
      "source": [
        "# Create 'float' array and repeat above mention steps 1-7\n",
        "#Answer Here\n",
        "# Step 1\n",
        "b = np.array([1.1, 2.2, 3.3, 4.4, 5.5, 6.6, 7.7, 8.8, 9.9, 10.0])\n",
        "\n",
        "# Step 2\n",
        "print('Array Type :', type(b))\n",
        "\n",
        "# Step 3\n",
        "print('Data Type of array elements :', b.dtype)\n",
        "\n",
        "# Step 4\n",
        "print('The Dimension of array is :', b.ndim)\n",
        "\n",
        "# Step 5\n",
        "print('The Shape of array is :', b.shape)\n",
        "\n",
        "# Step 6\n",
        "print('The Bytes per elements are :', b.itemsize)\n",
        "\n",
        "# Step 7\n",
        "print('The total number of bytes are :', b.nbytes)\n"
      ]
    },
    {
      "cell_type": "markdown",
      "metadata": {
        "id": "czi-ntWzFJ0M"
      },
      "source": [
        "-Try to assign a float into an int32\n",
        "\n",
        "-Use .fill function # fill has the same behavior\n"
      ]
    },
    {
      "cell_type": "code",
      "execution_count": 61,
      "metadata": {
        "id": "5r2iCLhHFq_-"
      },
      "outputs": [
        {
          "name": "stdout",
          "output_type": "stream",
          "text": [
            "[1 1 1 1 1]\n"
          ]
        }
      ],
      "source": [
        "# Answer here\n",
        "# Step 1: Create an integer array\n",
        "c = np.array([1, 2, 3, 4, 5], dtype=np.int32)\n",
        "\n",
        "# Step 2: Use the .fill() function to fill the array with a float (1.1)\n",
        "c.fill(1.1)\n",
        "\n",
        "# Step 3: Print the array\n",
        "print(c)"
      ]
    },
    {
      "cell_type": "markdown",
      "metadata": {
        "id": "UK4-Grt0F8_k"
      },
      "source": [
        "-. Add two  arrays\n",
        "\n",
        "-. Multiple both arrays\n",
        "\n",
        "-.Use ** operator in array operation\n",
        "\n",
        "-.Create array from 0.0 to 11.0\n",
        "\n",
        "-.Multiply entire array with a scalar value\n",
        " c = (2.0 * np.pi)\n",
        "\n",
        "-.Use np.arrange function to create an array with step of 0.5 from 1.0 to 3.0"
      ]
    },
    {
      "cell_type": "code",
      "execution_count": 88,
      "metadata": {
        "id": "1cRgGYTdGayU"
      },
      "outputs": [
        {
          "name": "stdout",
          "output_type": "stream",
          "text": [
            "Addition of arrays :\n",
            "x + y = [12 14 16 14 20]\n",
            "Multiplication of arrays :\n",
            "x * y = [11 24 39 40 75]\n",
            "Operator in array :\n",
            "x ** y =\n",
            "[        1      4096   1594323   1048576 452807053]\n",
            "Array d: [ 0.  1.  2.  3.  4.  5.  6.  7.  8.  9. 10. 11.]\n",
            "Array d: [0.0 1.0 2.0 3.0 4.0 5.0 6.0 7.0 8.0 9.0 10.0 11.0]\n",
            "Array multiplied by 2pi: [ 6.3 12.6 18.8 25.1 31.4]\n",
            "Array : [1.0 1.5 2.0 2.5 3.0]\n"
          ]
        }
      ],
      "source": [
        "# Answer Here\n",
        "x=np.array([1,2,3,4,5,])\n",
        "y=np.array([11,12,13,10,15])\n",
        "\n",
        "# step 1\n",
        "print('Addition of arrays :')\n",
        "print('x + y =',x+y)\n",
        "\n",
        "# step 2\n",
        "print('Multiplication of arrays :')\n",
        "print('x * y =',x*y)\n",
        "\n",
        "# step 3\n",
        "print('Operator in array :')\n",
        "print('x ** y =')\n",
        "print(x ** y)\n",
        "\n",
        "# step 4\n",
        "d = np.arange(0.0, 12.0, 1.0)  # step size of 1.0\n",
        "# Set print options to show the decimal point\n",
        "np.set_printoptions(precision=1, suppress=True)\n",
        "# Print the array\n",
        "print(\"Array d:\", d)\n",
        "\n",
        "# Step 5\n",
        "# Create an array from 0.0 to 11.0\n",
        "d = np.arange(0.0, 12.0, 1.0)\n",
        "# Print the array with one decimal place\n",
        "print(\"Array d:\", np.array2string(d, formatter={'float_kind':lambda x: f\"{x:.1f}\"}))\n",
        "\n",
        "# Step 6\n",
        "c=2.0*np.pi\n",
        "x=c*x\n",
        "print(\"Array multiplied by 2pi:\",x)\n",
        "\n",
        "# Step 7\n",
        "f=np.arange(1.0,3.5,0.5)\n",
        "print(\"Array :\",np.array2string(f, formatter={'float_kind':lambda x: f\"{x:.1f}\"}))\n"
      ]
    },
    {
      "cell_type": "markdown",
      "metadata": {
        "id": "60fA9aHmI0g_"
      },
      "source": [
        "# Slicing\n",
        "var[lower:upper:step]\n",
        "• Extracts a portion of a sequence by specifying a lower and upper bound.\n",
        "\n",
        "• The lower-bound element is included, but the upper-bound element is not included.\n",
        "\n",
        "• Mathematically: [lower, upper). The step value specifies the stride between elements.\n",
        "\n",
        "1. Etract array indices from 1 to 3:\n",
        "2. Use negative indices as well\n",
        "3. Omitted boundaries are assumed to be the beginning (or end) of the array grab first three elements\n",
        "4. Grab last two elements\n",
        "5. Grab every other element\n",
        "6. slicing the last two elements returns the data there\n",
        "7. Can we insert an iterable of length two? or a scalar value\n",
        "8.Arrays created by slicing share data with the originating array. Changing values in a slice also changes the original array.\n",
        "For example create a slice containing two elements of a changing b changed a! Have an experiment\n",
        "9. if an array a = [[0, 1, 2, 3, 4],[1, 2, 3, 4, 5]] extract values from row 1 to onward and from col 0, 2 and 4.\n",
        "10. Perform some masking on a = np.arange(0,36).reshape(6,6)\n",
        "with mask = np.array([1, 0, 1, 0, 0, 1])\n"
      ]
    },
    {
      "cell_type": "code",
      "execution_count": 166,
      "metadata": {
        "id": "CVqexfEBMB-w"
      },
      "outputs": [
        {
          "name": "stdout",
          "output_type": "stream",
          "text": [
            "Extracted indices from 1 to 3: [2 3 4]\n",
            "Extracted with negative indices: [8 9]\n",
            "First three elements: [1 2 3]\n",
            "\n",
            "Last two elements: [ 9 10]\n",
            "\n",
            "Every other element: [1 3 5 7 9]\n",
            "\n",
            "Slicing the last two elements: [1 2 3 4 5 6 7 8]\n",
            "\n",
            "Original Array before change: [1 2 3 4 5]\n",
            "Sliced Array before change: [2 3]\n",
            "\n",
            "Original Array after change: [ 1 99  3  4  5]\n",
            "Sliced Array after change: [99  3]\n",
            "\n",
            "Extracted values from b :\n",
            " [[0 2 4]\n",
            " [1 3 5]]\n",
            "Masked array:\n",
            " [[ 0  1  2  3  4  5]\n",
            " [12 13 14 15 16 17]\n",
            " [30 31 32 33 34 35]]\n"
          ]
        }
      ],
      "source": [
        "# code here\n",
        "# Array for examples\n",
        "a = np.array([1,2,3,4,5,6,7,8,9,10])\n",
        "# Step 1 \n",
        "# Extract array indices from 1 to 3\n",
        "extracted_1_to_3 = a[1:4]\n",
        "print(\"Extracted indices from 1 to 3:\", extracted_1_to_3)\n",
        "\n",
        "# Step 2 \n",
        "# Use negative indices\n",
        "negative_indices = a[-3:-1]\n",
        "print(\"Extracted with negative indices:\", negative_indices)\n",
        "\n",
        "# Step 3\n",
        "# Grab First three elements\n",
        "first_three = a[0:3]\n",
        "print(\"First three elements:\", first_three)\n",
        "\n",
        "# Step 4\n",
        "# Grab last two elements\n",
        "last_two = a[-2:]\n",
        "print(\"\\nLast two elements:\", last_two)\n",
        "\n",
        "# Step 5\n",
        "# Grab every other element\n",
        "every_other = a[0:11:2]\n",
        "print(\"\\nEvery other element:\", every_other)\n",
        "\n",
        "# Step 6\n",
        "# Slicing the last two elements\n",
        "last_two_slice = a[:-2]\n",
        "print(\"\\nSlicing the last two elements:\", last_two_slice)\n",
        "\n",
        "# Step 7\n",
        "\n",
        "# Create an original array\n",
        "original_array = np.array([1, 2, 3, 4, 5])\n",
        "\n",
        "# Create a slice that contains two elements from the original array\n",
        "sliced_array = original_array[1:3]\n",
        "\n",
        "print(\"\\nOriginal Array before change:\", original_array)\n",
        "print(\"Sliced Array before change:\", sliced_array)\n",
        "\n",
        "# Change a value in the sliced array\n",
        "sliced_array[0] = 99  # Change the first element of the sliced array\n",
        "\n",
        "print(\"\\nOriginal Array after change:\", original_array)\n",
        "print(\"Sliced Array after change:\", sliced_array)\n",
        "\n",
        "\n",
        "# Step 8:\n",
        "b = np.array([\n",
        "            [0, 1, 2, 3, 4],\n",
        "            [1, 2, 3, 4, 5]\n",
        "            ])\n",
        "# Extract values from row 1 to onward and from col 0, 2, and \n",
        "extracted_from_b = b[0:, [0, 2, 4]]\n",
        "print(\"\\nExtracted values from b :\\n\", extracted_from_b)\n",
        "\n",
        "# 9. Perform some masking on a = np.arange(0,36).reshape(6,6)\n",
        "mask = np.array([1, 0, 1, 0, 0, 1])\n",
        "g = np.arange(0, 36).reshape(6, 6)\n",
        "masked_array = g[mask == 1]  # Apply mask\n",
        "print(\"Masked array:\\n\", masked_array)"
      ]
    },
    {
      "cell_type": "markdown",
      "metadata": {},
      "source": [
        "### Create a 2-D array where the first row goes from 10 to 80 exclusive with steps of 5 and 2nd row goes from 5 to 47 exclusive with steps of 3"
      ]
    },
    {
      "cell_type": "code",
      "execution_count": 134,
      "metadata": {},
      "outputs": [
        {
          "name": "stdout",
          "output_type": "stream",
          "text": [
            "[[10 15 20 25 30 35 40 45 50 55 60 65 70 75 80]\n",
            " [ 5  8 11 14 17 20 23 26 29 32 35 38 41 44 47]]\n"
          ]
        }
      ],
      "source": [
        "#code here\n",
        "# Create the first row\n",
        "row1 = np.arange(10, 85, 5)\n",
        "\n",
        "# Create the second row\n",
        "row2 = np.arange(5, 48, 3)\n",
        "\n",
        "# Combine the rows into a 2-D array\n",
        "h = np.array([row1, row2])\n",
        "\n",
        "print(h)"
      ]
    },
    {
      "cell_type": "markdown",
      "metadata": {},
      "source": [
        "### Now use indexing to select the 5th 7th and 11th columns"
      ]
    },
    {
      "cell_type": "code",
      "execution_count": 135,
      "metadata": {},
      "outputs": [
        {
          "data": {
            "text/plain": [
              "array([[30, 40, 60],\n",
              "       [17, 23, 35]])"
            ]
          },
          "execution_count": 135,
          "metadata": {},
          "output_type": "execute_result"
        }
      ],
      "source": [
        "# code here\n",
        "h[:, [4, 6, 10]]"
      ]
    },
    {
      "cell_type": "markdown",
      "metadata": {},
      "source": [
        "### Select the 2nd row and fourth-last to second-last columns"
      ]
    },
    {
      "cell_type": "code",
      "execution_count": 138,
      "metadata": {},
      "outputs": [
        {
          "data": {
            "text/plain": [
              "array([[38, 41, 44]])"
            ]
          },
          "execution_count": 138,
          "metadata": {},
          "output_type": "execute_result"
        }
      ],
      "source": [
        "# code here\n",
        "h[1:,-4:-1]"
      ]
    },
    {
      "cell_type": "markdown",
      "metadata": {},
      "source": [
        "### Select 3rd to 3rd last columns skipping every second column"
      ]
    },
    {
      "cell_type": "code",
      "execution_count": 141,
      "metadata": {},
      "outputs": [
        {
          "data": {
            "text/plain": [
              "array([[20, 30, 40, 50, 60, 70],\n",
              "       [11, 17, 23, 29, 35, 41]])"
            ]
          },
          "execution_count": 141,
          "metadata": {},
          "output_type": "execute_result"
        }
      ],
      "source": [
        "# code here\n",
        "h[0:,2:-2:2]"
      ]
    },
    {
      "cell_type": "markdown",
      "metadata": {},
      "source": [
        "###  Select 3rd to 3rd last columns skipping every second column but in reverse order"
      ]
    },
    {
      "cell_type": "code",
      "execution_count": 146,
      "metadata": {},
      "outputs": [
        {
          "data": {
            "text/plain": [
              "array([[70, 60, 50, 40, 30, 20],\n",
              "       [41, 35, 29, 23, 17, 11]])"
            ]
          },
          "execution_count": 146,
          "metadata": {},
          "output_type": "execute_result"
        }
      ],
      "source": [
        "# code here\n",
        "h[:, 2:-2:2][:, ::-1]"
      ]
    },
    {
      "cell_type": "markdown",
      "metadata": {
        "id": "uO-B0OXYWl7A"
      },
      "source": [
        "### Zip Operations on Numpy Arrays\n",
        "Use a zip function on two arrys.\n",
        "\n",
        "Create another array which would be the sum of corresponding elements of two arrays using for loop."
      ]
    },
    {
      "cell_type": "code",
      "execution_count": 157,
      "metadata": {
        "id": "QWAhbiOXHEc9"
      },
      "outputs": [
        {
          "name": "stdout",
          "output_type": "stream",
          "text": [
            "Array A: [1 2 3 4]\n",
            "Array B: [5 6 7 8]\n",
            "Sum of corresponding elements: [6, 8, 10, 12]\n"
          ]
        }
      ],
      "source": [
        "a = [1, 2, 3, 4]\n",
        "b = [2, 3, 4, 5]\n",
        "\n",
        "# Answer Here\n",
        "\n",
        "# Define two arrays\n",
        "a = np.array([1, 2, 3, 4])\n",
        "b = np.array([5, 6, 7, 8])\n",
        "\n",
        "# Use zip\n",
        "zipped = zip(a, b)\n",
        "\n",
        "# Create a new array to hold the sums\n",
        "sum_array = []\n",
        "\n",
        "# use for loop\n",
        "for x, y in zipped:\n",
        "    sum_array.append(x + y)\n",
        "\n",
        "print(\"Array A:\", a)\n",
        "print(\"Array B:\", b)\n",
        "print(\"Sum of corresponding elements:\", sum_array)\n"
      ]
    },
    {
      "cell_type": "code",
      "execution_count": 156,
      "metadata": {
        "id": "ePXox_XHMQTr"
      },
      "outputs": [
        {
          "name": "stdout",
          "output_type": "stream",
          "text": [
            "List A: [1 2 3 4]\n",
            "List B: [5 6 7 8]\n",
            "Sum of corresponding elements: [6, 8, 10, 12]\n"
          ]
        }
      ],
      "source": [
        "#For loop to add corresponding elements in two lists\n",
        "\n",
        "# Answer Here\n",
        "# Create an empty list to hold the sums\n",
        "sum_list = []\n",
        "\n",
        "# Use a for loop\n",
        "for i in range(len(a)):\n",
        "    sum_list.append(a[i] + b[i])\n",
        "\n",
        "print(\"List A:\", a)\n",
        "print(\"List B:\", b)\n",
        "print(\"Sum of corresponding elements:\", sum_list)\n"
      ]
    }
  ],
  "metadata": {
    "colab": {
      "provenance": []
    },
    "kernelspec": {
      "display_name": "python_eda",
      "language": "python",
      "name": "python3"
    },
    "language_info": {
      "codemirror_mode": {
        "name": "ipython",
        "version": 3
      },
      "file_extension": ".py",
      "mimetype": "text/x-python",
      "name": "python",
      "nbconvert_exporter": "python",
      "pygments_lexer": "ipython3",
      "version": "3.12.3"
    }
  },
  "nbformat": 4,
  "nbformat_minor": 0
}
