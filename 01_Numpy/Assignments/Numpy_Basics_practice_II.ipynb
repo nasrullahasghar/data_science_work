{
  "cells": [
    {
      "cell_type": "code",
      "execution_count": 1,
      "id": "2a8a0fa8-ceee-4b65-9739-39bdbf33d23c",
      "metadata": {
        "id": "2a8a0fa8-ceee-4b65-9739-39bdbf33d23c"
      },
      "outputs": [],
      "source": [
        "import numpy as np"
      ]
    },
    {
      "cell_type": "markdown",
      "id": "6cd94836-36bf-4eca-a68c-4d4afb52ef7d",
      "metadata": {
        "id": "6cd94836-36bf-4eca-a68c-4d4afb52ef7d"
      },
      "source": [
        "# Q1"
      ]
    },
    {
      "cell_type": "markdown",
      "id": "26a82645-942a-40ba-9d5b-a58c65d27817",
      "metadata": {
        "id": "26a82645-942a-40ba-9d5b-a58c65d27817"
      },
      "source": [
        "Statement: Given a 3D NumPy array arr of shape (2, 3, 4), write a code snippet to calculate the sum of all elements in the array.\n",
        "\n",
        "Sample Input:"
      ]
    },
    {
      "cell_type": "code",
      "execution_count": 12,
      "id": "dbf71bf2-1ac9-48f3-96fb-5f22ad767b29",
      "metadata": {
        "id": "dbf71bf2-1ac9-48f3-96fb-5f22ad767b29"
      },
      "outputs": [
        {
          "name": "stdout",
          "output_type": "stream",
          "text": [
            "[[[ 0  1  2  3]\n",
            "  [ 4  5  6  7]\n",
            "  [ 8  9 10 11]]\n",
            "\n",
            " [[12 13 14 15]\n",
            "  [16 17 18 19]\n",
            "  [20 21 22 23]]]\n"
          ]
        },
        {
          "data": {
            "text/plain": [
              "3"
            ]
          },
          "execution_count": 12,
          "metadata": {},
          "output_type": "execute_result"
        }
      ],
      "source": [
        "# Answer Here\n",
        "a = np.arange(24).reshape(2, 3, 4)\n",
        "print(a)\n",
        "a.ndim\n"
      ]
    },
    {
      "cell_type": "markdown",
      "id": "14bd52a2-86d8-4ef6-b1ee-de66e9703458",
      "metadata": {
        "id": "14bd52a2-86d8-4ef6-b1ee-de66e9703458"
      },
      "source": [
        "# Q2"
      ]
    },
    {
      "cell_type": "markdown",
      "id": "9a536e77-25c6-4b63-906b-7aa8eaaa073e",
      "metadata": {
        "id": "9a536e77-25c6-4b63-906b-7aa8eaaa073e"
      },
      "source": [
        "Statement: Write a NumPy code snippet to create a 4D array arr of shape (2, 3, 4, 5) filled with random integers ranging from 0 to 9.\n",
        "\n",
        "Sample Output:"
      ]
    },
    {
      "cell_type": "code",
      "execution_count": 22,
      "id": "5602b3f2-13e2-4585-9870-9bc07563c60e",
      "metadata": {
        "id": "5602b3f2-13e2-4585-9870-9bc07563c60e"
      },
      "outputs": [
        {
          "name": "stdout",
          "output_type": "stream",
          "text": [
            "4D array with random integers from 0 to 9:\n",
            "[[[[5 7 2 7 5]\n",
            "   [7 7 4 5 4]\n",
            "   [0 8 0 5 5]\n",
            "   [7 9 8 9 1]]\n",
            "\n",
            "  [[9 3 6 5 5]\n",
            "   [1 3 2 0 8]\n",
            "   [0 3 7 2 2]\n",
            "   [6 9 5 0 5]]\n",
            "\n",
            "  [[0 4 2 5 2]\n",
            "   [8 6 8 0 6]\n",
            "   [3 8 0 1 7]\n",
            "   [5 3 3 6 8]]]\n",
            "\n",
            "\n",
            " [[[5 7 9 6 2]\n",
            "   [3 3 8 3 4]\n",
            "   [2 7 0 9 4]\n",
            "   [2 3 6 6 9]]\n",
            "\n",
            "  [[7 4 9 7 7]\n",
            "   [2 4 9 8 4]\n",
            "   [4 7 5 2 9]\n",
            "   [1 3 8 8 7]]\n",
            "\n",
            "  [[6 4 7 0 5]\n",
            "   [6 8 8 8 1]\n",
            "   [7 9 2 8 9]\n",
            "   [3 3 3 4 6]]]]\n"
          ]
        }
      ],
      "source": [
        "# Answer Here\n",
        "# 4D array of shape (2, 3, 4, 5)\n",
        "arr = np.random.randint(0, 10, size=(2, 3, 4, 5))\n",
        "\n",
        "# Print the array\n",
        "print(\"4D array with random integers from 0 to 9:\")\n",
        "print(arr)"
      ]
    },
    {
      "cell_type": "markdown",
      "id": "540f8d57-6cc0-4e53-8744-787e868276a4",
      "metadata": {
        "id": "540f8d57-6cc0-4e53-8744-787e868276a4"
      },
      "source": [
        "# Q3"
      ]
    },
    {
      "cell_type": "markdown",
      "id": "37497bad-10e3-4c65-b4f6-65bb5ed0b00d",
      "metadata": {
        "id": "37497bad-10e3-4c65-b4f6-65bb5ed0b00d"
      },
      "source": [
        "Statement: Given a 4D NumPy array arr of shape (2, 3, 4, 5), write a code snippet to calculate the mean along the second axis.\n",
        "\n",
        "Sample Input:"
      ]
    },
    {
      "cell_type": "code",
      "execution_count": 21,
      "id": "84df3761-5341-4010-b541-6a79a1b74625",
      "metadata": {
        "id": "84df3761-5341-4010-b541-6a79a1b74625"
      },
      "outputs": [
        {
          "name": "stdout",
          "output_type": "stream",
          "text": [
            "Mean along the second axis:\n",
            "[[[0.50928836 0.59684982 0.41626773 0.75776843 0.62457447]\n",
            "  [0.36462024 0.43826657 0.61445258 0.54134789 0.28621702]\n",
            "  [0.80939644 0.5041388  0.52263068 0.20299855 0.55606217]\n",
            "  [0.25386461 0.62385145 0.54354017 0.47553287 0.57690738]]\n",
            "\n",
            " [[0.19151639 0.33976559 0.47331376 0.67482044 0.58970646]\n",
            "  [0.08289746 0.5733327  0.49795926 0.93509416 0.42229765]\n",
            "  [0.68459876 0.71759307 0.49061488 0.50052138 0.58410813]\n",
            "  [0.33568648 0.81162972 0.35189142 0.68066526 0.1633363 ]]]\n"
          ]
        }
      ],
      "source": [
        "arr = np.random.rand(2, 3, 4, 5)\n",
        "\n",
        "# Calculate the mean along the second axis\n",
        "mean_along_axis_2 = np.mean(arr, axis=1)\n",
        "\n",
        "# Print the result\n",
        "print(\"Mean along the second axis:\")\n",
        "print(mean_along_axis_2)"
      ]
    },
    {
      "cell_type": "markdown",
      "id": "9d4cd387-ca18-4951-a1ab-63a7a1f80a0d",
      "metadata": {
        "id": "9d4cd387-ca18-4951-a1ab-63a7a1f80a0d"
      },
      "source": [
        "# Q4"
      ]
    },
    {
      "cell_type": "markdown",
      "id": "768891f0-dd85-4a6b-a336-31061a30945f",
      "metadata": {
        "id": "768891f0-dd85-4a6b-a336-31061a30945f"
      },
      "source": [
        "Statement: You have collected data from a temperature sensor placed at different locations over a period of time. The recorded temperatures are stored in a 3D NumPy array temps of shape (7, 24, 60), where the dimensions represent the number of days, hours in a day, and minutes in an hour, respectively. Write a code snippet to calculate the average temperature for each day.\n",
        "\n",
        "Sample Input:"
      ]
    },
    {
      "cell_type": "code",
      "execution_count": 20,
      "id": "905df96f-ee7f-410f-adae-88758871af96",
      "metadata": {
        "id": "905df96f-ee7f-410f-adae-88758871af96"
      },
      "outputs": [
        {
          "name": "stdout",
          "output_type": "stream",
          "text": [
            "Average temperature for each day:\n",
            "[0.49001842 0.50607485 0.49056858 0.49452713 0.49224544 0.49636101\n",
            " 0.51115822]\n"
          ]
        }
      ],
      "source": [
        "temps = np.random.rand(7, 24, 60)\n",
        "\n",
        "# Calculate the average temperature for each day\n",
        "average_temp_per_day = np.mean(temps, axis=(1, 2))\n",
        "\n",
        "# Print the result\n",
        "print(\"Average temperature for each day:\")\n",
        "print(average_temp_per_day)"
      ]
    },
    {
      "cell_type": "markdown",
      "id": "f8913844-39a1-4d9b-a434-7af478336f20",
      "metadata": {
        "id": "f8913844-39a1-4d9b-a434-7af478336f20"
      },
      "source": [
        "Sample Output:\n",
        "\n",
        "array([27.43864059, 26.99643944, 27.10398301, 27.43854821, 26.81072977,\n",
        "       26.76581481, 27.07946152])"
      ]
    },
    {
      "cell_type": "markdown",
      "id": "55a224ca-01c9-4b13-8bc9-1db7269a35d5",
      "metadata": {
        "id": "55a224ca-01c9-4b13-8bc9-1db7269a35d5"
      },
      "source": [
        "# Q5"
      ]
    },
    {
      "cell_type": "markdown",
      "id": "af5efd9b-ff4f-4ae1-af9a-da9bf621d3bd",
      "metadata": {
        "id": "af5efd9b-ff4f-4ae1-af9a-da9bf621d3bd"
      },
      "source": [
        "Statement: You have collected data from multiple sensors placed in different rooms of a building. The sensor readings are stored in a 4D NumPy array readings of shape (4, 7, 24, 60), where the dimensions represent the number of sensors, number of days, hours in a day, and minutes in an hour, respectively. Write a code snippet to calculate the maximum reading for each sensor across all days."
      ]
    },
    {
      "cell_type": "code",
      "execution_count": 19,
      "id": "79873e69-35ad-4bde-ba48-cf33218b1dc2",
      "metadata": {
        "id": "79873e69-35ad-4bde-ba48-cf33218b1dc2"
      },
      "outputs": [
        {
          "name": "stdout",
          "output_type": "stream",
          "text": [
            "Maximum readings for each sensor across all days:\n",
            "[0.99973468 0.9999922  0.99980911 0.99999395]\n"
          ]
        }
      ],
      "source": [
        "readings = np.random.rand(4, 7, 24, 60)\n",
        "\n",
        "# Calculate the maximum reading for each sensor across all days\n",
        "max_readings_per_sensor = np.max(readings, axis=(1, 2, 3))\n",
        "\n",
        "# Print the result\n",
        "print(\"Maximum readings for each sensor across all days:\")\n",
        "print(max_readings_per_sensor)"
      ]
    },
    {
      "cell_type": "markdown",
      "id": "e8ca2836-0977-4b11-a214-a93630131927",
      "metadata": {
        "id": "e8ca2836-0977-4b11-a214-a93630131927"
      },
      "source": [
        "# Q6"
      ]
    },
    {
      "cell_type": "markdown",
      "id": "b324cb33-b481-4cf8-a148-9292ec382a8c",
      "metadata": {
        "id": "b324cb33-b481-4cf8-a148-9292ec382a8c"
      },
      "source": [
        "Statement: You have collected data from a 3D printer that measures the dimensions of printed objects. The recorded dimensions are stored in a 3D NumPy array dimensions of shape (100, 50, 3), where the dimensions represent the number of printed objects, number of measurements for each object, and the three dimensions (length, width, height), respectively. Write a code snippet to calculate the average length, width, and height across all objects.\n",
        "\n",
        "Sample Input:"
      ]
    },
    {
      "cell_type": "code",
      "execution_count": 23,
      "id": "d1199cf1-5f47-45f5-a090-615021490d8e",
      "metadata": {
        "id": "d1199cf1-5f47-45f5-a090-615021490d8e"
      },
      "outputs": [
        {
          "name": "stdout",
          "output_type": "stream",
          "text": [
            "Average dimensions (length, width, height):\n",
            "[0.50349019 0.4997165  0.50237667]\n"
          ]
        }
      ],
      "source": [
        "# Answer Here\n",
        "dimensions = np.random.rand(100, 50, 3)\n",
        "\n",
        "# Calculate the average for length, width, and height across all objects\n",
        "average_dimensions = np.mean(dimensions, axis=(0, 1))\n",
        "\n",
        "# Print the result\n",
        "print(\"Average dimensions (length, width, height):\")\n",
        "print(average_dimensions)"
      ]
    },
    {
      "cell_type": "markdown",
      "id": "a3c20cfa-7ad6-437b-8837-1eabded47ac7",
      "metadata": {
        "id": "a3c20cfa-7ad6-437b-8837-1eabded47ac7"
      },
      "source": [
        "# Q7"
      ]
    },
    {
      "cell_type": "markdown",
      "id": "c5c5e835-2d6d-4bec-a700-4125e2ea7375",
      "metadata": {
        "id": "c5c5e835-2d6d-4bec-a700-4125e2ea7375"
      },
      "source": [
        "Statement: You are given a 3D NumPy array data of shape (5, 6, 7) representing the sensor readings from multiple sensors placed in different locations over a period of time. Each sensor provides measurements at different time points. Write a code snippet to calculate the following statistics for each sensor:\n",
        "\n",
        "Total number of measurements\n",
        "\n",
        "Average measurement value\n",
        "\n",
        "Standard deviation of measurements\n",
        "\n",
        "Minimum measurement value\n",
        "\n",
        "Maximum measurement value\n",
        "\n",
        "Sample Input:"
      ]
    },
    {
      "cell_type": "code",
      "execution_count": 24,
      "id": "46256376-8395-460c-a736-71a83252e47f",
      "metadata": {
        "id": "46256376-8395-460c-a736-71a83252e47f"
      },
      "outputs": [
        {
          "name": "stdout",
          "output_type": "stream",
          "text": [
            "Total number of measurements for each sensor: 42\n",
            "Average measurement value for each sensor: [0.5706825  0.43491537 0.51283344 0.44199337 0.55380287]\n",
            "Standard deviation of measurements for each sensor: [0.29556896 0.25607454 0.28304752 0.31304721 0.31569569]\n",
            "Minimum measurement value for each sensor: [0.00879311 0.01935095 0.01124311 0.01556789 0.03773057]\n",
            "Maximum measurement value for each sensor: [0.9902783  0.955482   0.98621323 0.99835977 0.99318628]\n"
          ]
        }
      ],
      "source": [
        "# Answer Here\n",
        "data = np.random.rand(5, 6, 7)\n",
        "# Calculate statistics for each sensor\n",
        "total_measurements = data.shape[1] * data.shape[2]\n",
        "average_measurements = np.mean(data, axis=(1, 2))\n",
        "std_dev_measurements = np.std(data, axis=(1, 2))\n",
        "min_measurements = np.min(data, axis=(1, 2))\n",
        "max_measurements = np.max(data, axis=(1, 2))\n",
        "\n",
        "# Print the results\n",
        "print(\"Total number of measurements for each sensor:\", total_measurements)\n",
        "print(\"Average measurement value for each sensor:\", average_measurements)\n",
        "print(\"Standard deviation of measurements for each sensor:\", std_dev_measurements)\n",
        "print(\"Minimum measurement value for each sensor:\", min_measurements)\n",
        "print(\"Maximum measurement value for each sensor:\", max_measurements)"
      ]
    },
    {
      "cell_type": "code",
      "execution_count": null,
      "id": "87f085a1-fec3-40e5-90db-d535c0de01c0",
      "metadata": {
        "id": "87f085a1-fec3-40e5-90db-d535c0de01c0"
      },
      "outputs": [],
      "source": []
    }
  ],
  "metadata": {
    "colab": {
      "provenance": []
    },
    "kernelspec": {
      "display_name": "python_eda",
      "language": "python",
      "name": "python3"
    },
    "language_info": {
      "codemirror_mode": {
        "name": "ipython",
        "version": 3
      },
      "file_extension": ".py",
      "mimetype": "text/x-python",
      "name": "python",
      "nbconvert_exporter": "python",
      "pygments_lexer": "ipython3",
      "version": "3.12.3"
    }
  },
  "nbformat": 4,
  "nbformat_minor": 5
}
