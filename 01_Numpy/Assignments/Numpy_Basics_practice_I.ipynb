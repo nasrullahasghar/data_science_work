{
  "cells": [
    {
      "cell_type": "markdown",
      "metadata": {
        "id": "YmwKgUrAkbfG"
      },
      "source": [
        "# Numpy Basics Exercises\n",
        "\n",
        "Please complete the following exercises **using numpy only**."
      ]
    },
    {
      "cell_type": "markdown",
      "metadata": {
        "id": "vpo3azRubEMA"
      },
      "source": [
        "# Array Functions\n",
        "1.Arange([start,] stop[, step],dtype=None)\n",
        "Nearly identical to Python’s range(). Creates an array of values in the range [start,stop) with the specified step value. Allows non-integer values for start, stop, and step. Default dtype is derived from the start, stop, and step values. create an array with arange."
      ]
    },
    {
      "cell_type": "code",
      "execution_count": 144,
      "metadata": {},
      "outputs": [],
      "source": [
        "import numpy as np"
      ]
    },
    {
      "cell_type": "code",
      "execution_count": 145,
      "metadata": {
        "id": "31t0LaJ3bEMB"
      },
      "outputs": [
        {
          "data": {
            "text/plain": [
              "array([[ 1,  2,  3,  4],\n",
              "       [ 5,  6,  7,  8],\n",
              "       [ 9, 10, 11, 12],\n",
              "       [13, 14, 15, 16],\n",
              "       [17, 18, 19, 20]])"
            ]
          },
          "execution_count": 145,
          "metadata": {},
          "output_type": "execute_result"
        }
      ],
      "source": [
        "# code here (you may create an array of your own choice)\n",
        "a=np.arange(1,21,1).reshape(5,4)\n",
        "a"
      ]
    },
    {
      "cell_type": "markdown",
      "metadata": {
        "id": "MfAFU0VibEMD"
      },
      "source": [
        "2.Create arrays with ONES, ZEROS, shape is a number or sequence specifying the dimensions of the array. If dtype is not specified, it defaults to float64."
      ]
    },
    {
      "cell_type": "code",
      "execution_count": 146,
      "metadata": {
        "id": "8ebuyMSkbEMD"
      },
      "outputs": [
        {
          "name": "stdout",
          "output_type": "stream",
          "text": [
            "[[1. 1. 1. 1. 1.]\n",
            " [1. 1. 1. 1. 1.]\n",
            " [1. 1. 1. 1. 1.]]\n",
            "[[0. 0. 0. 0. 0.]\n",
            " [0. 0. 0. 0. 0.]\n",
            " [0. 0. 0. 0. 0.]]\n"
          ]
        }
      ],
      "source": [
        "# code here (you may create an array of your choice of size)\n",
        "b=np.ones((3,5))\n",
        "print(b)\n",
        "c=np.zeros((3,5))\n",
        "print(c)"
      ]
    },
    {
      "cell_type": "markdown",
      "metadata": {
        "id": "2EiFTfIibEMD"
      },
      "source": [
        "3.Generate an n by n identity array. The default dtype is float64."
      ]
    },
    {
      "cell_type": "code",
      "execution_count": 147,
      "metadata": {
        "id": "W328-ggzbEMD"
      },
      "outputs": [
        {
          "name": "stdout",
          "output_type": "stream",
          "text": [
            "[[1. 0. 0. 0.]\n",
            " [0. 1. 0. 0.]\n",
            " [0. 0. 1. 0.]\n",
            " [0. 0. 0. 1.]]\n"
          ]
        }
      ],
      "source": [
        "# code here (you may create an array of your choice of size)\n",
        "d=np.identity(4)\n",
        "print(d)"
      ]
    },
    {
      "cell_type": "markdown",
      "metadata": {
        "id": "VpIlaZHJbEME"
      },
      "source": [
        "4.use empty, full, and fill, max, min, std, mean, var, argmax, linspace"
      ]
    },
    {
      "cell_type": "code",
      "execution_count": 148,
      "metadata": {
        "id": "ze1PCT8xbEME"
      },
      "outputs": [
        {
          "name": "stdout",
          "output_type": "stream",
          "text": [
            "\n",
            "Empty: [[90.25 72.25 56.25 42.25]\n",
            " [30.25 20.25 12.25  6.25]\n",
            " [ 2.25  0.25  0.25  2.25]\n",
            " [ 6.25 12.25 20.25 30.25]\n",
            " [42.25 56.25 72.25 90.25]]\n",
            "\n",
            "Full: [[7 7 7 7]\n",
            " [7 7 7 7]\n",
            " [7 7 7 7]\n",
            " [7 7 7 7]\n",
            " [7 7 7 7]]\n",
            "\n",
            "Fill: [[5. 5. 5. 5.]\n",
            " [5. 5. 5. 5.]\n",
            " [5. 5. 5. 5.]\n",
            " [5. 5. 5. 5.]\n",
            " [5. 5. 5. 5.]]\n",
            "Minimum : 1\n",
            "Maximum : 20\n",
            "Standard Deviation = 5.766281297335398\n",
            "Mean = 10.5\n",
            "Varience = 33.25\n",
            "Argmax = 10.5\n",
            "Linespace = [ 1.    5.75 10.5  15.25 20.  ]\n"
          ]
        }
      ],
      "source": [
        "# code here (use the array createed in Question 1 for this)\n",
        "empty=np.empty(a.shape)\n",
        "print('\\nEmpty:',empty)\n",
        "\n",
        "full=np.full(a.shape,7)\n",
        "print('\\nFull:',full)\n",
        "\n",
        "empty.fill(5)\n",
        "print('\\nFill:',empty)\n",
        "\n",
        "min=np.min(a)\n",
        "print(\"Minimum :\",min)\n",
        "\n",
        "max=np.max(a)\n",
        "print(\"Maximum :\",max)\n",
        "\n",
        "std=np.std(a)\n",
        "print(\"Standard Deviation =\",std)\n",
        "\n",
        "mean=np.mean(a)\n",
        "print(\"Mean =\",mean)\n",
        "\n",
        "varience=np.var(a)\n",
        "print(\"Varience =\",varience)\n",
        "\n",
        "argmax=np.argmax(a)\n",
        "print(\"Argmax =\",mean)\n",
        "\n",
        "linespace=np.linspace(1,20,5)\n",
        "print(\"Linespace =\",linespace)"
      ]
    },
    {
      "cell_type": "markdown",
      "metadata": {
        "id": "N8D2KaVEbEME"
      },
      "source": [
        "5. Create the array below with a = np.arange(-15, 15).reshape(5, 6) ** 2\n",
        "\n",
        "  Rule 1:\n",
        "  Operations between multiple array objects are first checked for proper shape match.\n",
        "\n",
        "  Rule 2:\n",
        "  Mathematical operators (+ - * / exp, log, ...) apply element by element, on the values.\n",
        "\n",
        "  Rule 3:\n",
        "  Reduction operations (mean, std, skew, kurt, sum, prod, ...) apply to the whole array, unless an axis is specified.\n",
        "\n",
        "  Rule 4:\n",
        "  Missing values propagate unless explicitly ignored (nanmean, nansum, ...)."
      ]
    },
    {
      "cell_type": "code",
      "execution_count": 149,
      "metadata": {
        "id": "SfR3QRNXbEME"
      },
      "outputs": [
        {
          "name": "stdout",
          "output_type": "stream",
          "text": [
            "[[225 196 169 144 121 100]\n",
            " [ 81  64  49  36  25  16]\n",
            " [  9   4   1   0   1   4]\n",
            " [  9  16  25  36  49  64]\n",
            " [ 81 100 121 144 169 196]]\n",
            "----------Rule1--------- \n",
            "----------Rule2--------- \n",
            "a + b =\n",
            " [[228 199 172 147 124 103]\n",
            " [ 84  67  52  39  28  19]\n",
            " [ 12   7   4   3   4   7]\n",
            " [ 12  19  28  39  52  67]\n",
            " [ 84 103 124 147 172 199]]\n",
            "a - b =\n",
            " [[222 193 166 141 118  97]\n",
            " [ 78  61  46  33  22  13]\n",
            " [  6   1  -2  -3  -2   1]\n",
            " [  6  13  22  33  46  61]\n",
            " [ 78  97 118 141 166 193]]\n",
            "a * b =\n",
            " [[675 588 507 432 363 300]\n",
            " [243 192 147 108  75  48]\n",
            " [ 27  12   3   0   3  12]\n",
            " [ 27  48  75 108 147 192]\n",
            " [243 300 363 432 507 588]]\n",
            "a / b =\n",
            " [[75.         65.33333333 56.33333333 48.         40.33333333 33.33333333]\n",
            " [27.         21.33333333 16.33333333 12.          8.33333333  5.33333333]\n",
            " [ 3.          1.33333333  0.33333333  0.          0.33333333  1.33333333]\n",
            " [ 3.          5.33333333  8.33333333 12.         16.33333333 21.33333333]\n",
            " [27.         33.33333333 40.33333333 48.         56.33333333 65.33333333]]\n"
          ]
        }
      ],
      "source": [
        "''' code here and try to figure out different functions on your own \n",
        "(as stated in Rule 3, also figure out how to propogate missing values as stated in Rule 4)'''\n",
        "a = np.arange(-15, 15).reshape(5, 6) ** 2\n",
        "print(a)\n",
        "print('----------Rule1--------- ')\n",
        "b = np.full(a.shape,3)\n",
        "print('----------Rule2--------- ')\n",
        "print('a + b =\\n',a+b)\n",
        "print('a - b =\\n',a-b)\n",
        "print('a * b =\\n',a*b)\n",
        "print('a / b =\\n',a/b)\n",
        "\n"
      ]
    },
    {
      "cell_type": "code",
      "execution_count": 150,
      "metadata": {},
      "outputs": [
        {
          "name": "stdout",
          "output_type": "stream",
          "text": [
            "----------Rule3--------- \n",
            "\n",
            "Sum of array a: 2255\n",
            "Mean of array a: 75.16666666666667\n",
            "Standard deviation of array a: 67.45323482894567\n",
            "\n",
            "Sum of array a along columns: [405 380 365 360 365 380]\n",
            "Sum of array a along rows: [955 271  19 199 811]\n"
          ]
        }
      ],
      "source": [
        "print('----------Rule3--------- ')\n",
        "sum_a = np.sum(a)\n",
        "mean_a = np.mean(a)\n",
        "std_a = np.std(a)\n",
        "\n",
        "print(\"\\nSum of array a:\", sum_a)\n",
        "print(\"Mean of array a:\", mean_a)\n",
        "print(\"Standard deviation of array a:\", std_a)\n",
        "\n",
        "sum_along_columns = np.sum(a, axis=0)  # Sum along the columns\n",
        "sum_along_rows = np.sum(a, axis=1)     # Sum along the rows\n",
        "\n",
        "print(\"\\nSum of array a along columns:\", sum_along_columns)\n",
        "print(\"Sum of array a along rows:\", sum_along_rows)"
      ]
    },
    {
      "cell_type": "markdown",
      "metadata": {
        "id": "ir_VH1IjbEMF"
      },
      "source": [
        "6.Create the array below with\n",
        "                  a = np.arange(-15, 15).reshape(5, 6) ** 2\n",
        "1. The maximum of each row\n",
        "2. The mean of each column\n",
        "3. The position of the overall minimum"
      ]
    },
    {
      "cell_type": "code",
      "execution_count": 151,
      "metadata": {
        "id": "XcuNU8TcbEMF"
      },
      "outputs": [
        {
          "name": "stdout",
          "output_type": "stream",
          "text": [
            "[[225 196 169 144 121 100]\n",
            " [ 81  64  49  36  25  16]\n",
            " [  9   4   1   0   1   4]\n",
            " [  9  16  25  36  49  64]\n",
            " [ 81 100 121 144 169 196]]\n",
            "Maximum of each row = [225  81   9  64 196]\n",
            "Mean of each row = [81. 76. 73. 72. 73. 76.]\n",
            "The position of the overall minimum = 15\n"
          ]
        }
      ],
      "source": [
        "# code here and display all 3 values appropriately. You MUST NOT choose an array of your own choice.\n",
        "a = np.arange(-15, 15).reshape(5, 6) ** 2\n",
        "print(a)\n",
        "print('Maximum of each row =',a.max(axis=1))\n",
        "print('Mean of each row =',a.mean(axis=0))\n",
        "print('The position of the overall minimum =',a.argmin())"
      ]
    },
    {
      "cell_type": "markdown",
      "metadata": {
        "id": "oWtZzrvXjxVl"
      },
      "source": [
        "# Array Broadcasting\n",
        "NumPy arrays of different dimensionality can be combined in the same expression. Arrays with smaller dimension are broadcasted to match the larger arrays, without copying data.\n",
        "\n",
        "Broadcasting has two rules.\n",
        "\n",
        "RULE 1: PREPEND ONES TO SMALLER ARRAY'S SHAPE\n",
        "\n",
        "RULE 2: DIMENSIONS OF SIZE 1 ARE REPEATED WITHOUT COPYING"
      ]
    },
    {
      "cell_type": "code",
      "execution_count": 152,
      "metadata": {
        "id": "7vrTvmEWjwtY"
      },
      "outputs": [
        {
          "name": "stdout",
          "output_type": "stream",
          "text": [
            "Array A:\n",
            " [[ 0  1  2  3]\n",
            " [ 4  5  6  7]\n",
            " [ 8  9 10 11]\n",
            " [12 13 14 15]\n",
            " [16 17 18 19]]\n",
            "\n",
            "Array B:\n",
            " [0 1 2 3 4]\n",
            "\n",
            "Addition =\n",
            " [[ 0  1  2  3]\n",
            " [ 5  6  7  8]\n",
            " [10 11 12 13]\n",
            " [15 16 17 18]\n",
            " [20 21 22 23]]\n",
            "\n",
            "Subtraction =\n",
            " [[ 0  1  2  3]\n",
            " [ 3  4  5  6]\n",
            " [ 6  7  8  9]\n",
            " [ 9 10 11 12]\n",
            " [12 13 14 15]]\n"
          ]
        }
      ],
      "source": [
        "#code here # Create 2 arrays A and B with dim (5,4) and (5,) respectively, apply addition and subtraction.\n",
        "\n",
        "A = np.arange(20).reshape(5, 4)\n",
        "print(\"Array A:\\n\", A)\n",
        "B = np.arange(5)\n",
        "print(\"\\nArray B:\\n\", B)\n",
        "\n",
        "# It is not possible to perform arithmetic operation on the arrays having different shapes\n",
        "# we will use broadcasting to apply the operations\n",
        "# Addition and subtraction\n",
        "print(\"\\nAddition =\\n\",A + B[:, np.newaxis])\n",
        "print(\"\\nSubtraction =\\n\",A - B[:, np.newaxis])\n",
        " "
      ]
    },
    {
      "cell_type": "markdown",
      "metadata": {
        "id": "Qp9UkMByj5Il"
      },
      "source": [
        "1.Use reduce() operation on an array to reduec it into a single meaningful value. You. can also use a specific axis to apply reduce operation.\n",
        "\n",
        "2.accumulate() creates a new array containing the intermediate results of the reduce operation at each element in a.\n"
      ]
    },
    {
      "cell_type": "code",
      "execution_count": 153,
      "metadata": {
        "id": "nmLsvmTZj626"
      },
      "outputs": [],
      "source": [
        "# Answer here (use both of these functions on an array of your own choice)"
      ]
    },
    {
      "cell_type": "markdown",
      "metadata": {
        "id": "bqVyb4DKZmkR"
      },
      "source": [
        "### We will work with the following array:"
      ]
    },
    {
      "cell_type": "code",
      "execution_count": 154,
      "metadata": {
        "colab": {
          "base_uri": "https://localhost:8080/"
        },
        "id": "Iz86eeTWZmsK",
        "outputId": "657f8c8d-0a3b-44b8-e0fe-6de9614c11c1"
      },
      "outputs": [
        {
          "data": {
            "text/plain": [
              "array([[ 0,  1,  2,  3,  4],\n",
              "       [ 5,  6,  7,  8,  9],\n",
              "       [10, 11, 12, 13, 14],\n",
              "       [15, 16, 17, 18, 19],\n",
              "       [20, 21, 22, 23, 24]])"
            ]
          },
          "execution_count": 154,
          "metadata": {},
          "output_type": "execute_result"
        }
      ],
      "source": [
        "a = np.arange(25).reshape(5, 5)\n",
        "a\n",
        "#moving forward, you must use this array for the operations"
      ]
    },
    {
      "cell_type": "markdown",
      "metadata": {
        "id": "OdjK0hqobWGp"
      },
      "source": [
        "# Use slicing only to select 3rd and last row along with 2nd and last columns"
      ]
    },
    {
      "cell_type": "code",
      "execution_count": 155,
      "metadata": {
        "id": "-iw2ciaibUHU"
      },
      "outputs": [
        {
          "data": {
            "text/plain": [
              "array([[11, 14],\n",
              "       [21, 24]])"
            ]
          },
          "execution_count": 155,
          "metadata": {},
          "output_type": "execute_result"
        }
      ],
      "source": [
        "# Answer here\n",
        "a[[2, -1], :][:, [1, -1]]"
      ]
    },
    {
      "cell_type": "markdown",
      "metadata": {
        "id": "5PtInLvEb7Am"
      },
      "source": [
        "# Extract the following sub-array: [[2, 3], [12, 13], [22, 23]]"
      ]
    },
    {
      "cell_type": "code",
      "execution_count": 156,
      "metadata": {
        "id": "lVi9eV2rb6hz"
      },
      "outputs": [
        {
          "name": "stdout",
          "output_type": "stream",
          "text": [
            "\n",
            "Extracted sub-array:\n",
            " [[ 2  3]\n",
            " [12 13]\n",
            " [22 23]]\n"
          ]
        }
      ],
      "source": [
        "# Answer here\n",
        "sub_array = a[0:5:2, 2:4]\n",
        "\n",
        "print(\"\\nExtracted sub-array:\\n\", sub_array)"
      ]
    },
    {
      "cell_type": "markdown",
      "metadata": {
        "id": "mHN-ADlNcRE7"
      },
      "source": [
        "# Combine fancy/location indexing with slicing to extract the following sub-array: [[6, 8], [16, 18], [21, 23]]"
      ]
    },
    {
      "cell_type": "code",
      "execution_count": 157,
      "metadata": {},
      "outputs": [
        {
          "data": {
            "text/plain": [
              "array([[ 0,  1,  2,  3,  4],\n",
              "       [ 5,  6,  7,  8,  9],\n",
              "       [10, 11, 12, 13, 14],\n",
              "       [15, 16, 17, 18, 19],\n",
              "       [20, 21, 22, 23, 24]])"
            ]
          },
          "execution_count": 157,
          "metadata": {},
          "output_type": "execute_result"
        }
      ],
      "source": [
        "a"
      ]
    },
    {
      "cell_type": "code",
      "execution_count": 158,
      "metadata": {
        "id": "e_R0tbMHcNGy"
      },
      "outputs": [
        {
          "data": {
            "text/plain": [
              "array([[ 6,  8],\n",
              "       [16, 18],\n",
              "       [21, 23]])"
            ]
          },
          "execution_count": 158,
          "metadata": {},
          "output_type": "execute_result"
        }
      ],
      "source": [
        "# Answer here\n",
        "a[[1, 3, 4], 1:5:2]"
      ]
    },
    {
      "cell_type": "markdown",
      "metadata": {
        "id": "gRle44JLc8oL"
      },
      "source": [
        "# Change the values 1, 10, 19 and 22 in the array to -2"
      ]
    },
    {
      "cell_type": "code",
      "execution_count": 159,
      "metadata": {
        "id": "MnIs-SBzdMPv"
      },
      "outputs": [],
      "source": [
        "# Answer\n",
        "a[0, 1] = -2  # Value 1\n",
        "a[2, 0] = -2  # Value 10\n",
        "a[3, 4] = -2  # Value 19\n",
        "a[4, 2] = -2  # Value 22"
      ]
    },
    {
      "cell_type": "markdown",
      "metadata": {
        "id": "tWSQO5e3dZxf"
      },
      "source": [
        "# Repeat above using boolean indexing"
      ]
    },
    {
      "cell_type": "code",
      "execution_count": 160,
      "metadata": {
        "id": "zytB7nrMdYfT"
      },
      "outputs": [
        {
          "data": {
            "text/plain": [
              "array([[ 0, -2,  2,  3,  4],\n",
              "       [ 5,  6,  7,  8,  9],\n",
              "       [-2, 11, 12, 13, 14],\n",
              "       [15, 16, 17, 18, -2],\n",
              "       [20, 21, -2, 23, 24]])"
            ]
          },
          "execution_count": 160,
          "metadata": {},
          "output_type": "execute_result"
        }
      ],
      "source": [
        "# Answer here\n",
        "# Create a boolean mask for the values 1, 10, 19, and 22\n",
        "mask = (a == 1) | (a == 10) | (a == 19) | (a == 22)\n",
        "a[mask] = -2\n",
        "a"
      ]
    },
    {
      "cell_type": "markdown",
      "metadata": {
        "id": "2i_7lkqpdhtx"
      },
      "source": [
        "# Combine slicing in the column dimension and boolean indexing in row dimension to extract the following sub-array: [[0, 3], [10, 13], [15, 18]]"
      ]
    },
    {
      "cell_type": "code",
      "execution_count": 161,
      "metadata": {
        "id": "O8683ef2dYng"
      },
      "outputs": [
        {
          "data": {
            "text/plain": [
              "array([[ 0,  3],\n",
              "       [15, 18]])"
            ]
          },
          "execution_count": 161,
          "metadata": {},
          "output_type": "execute_result"
        }
      ],
      "source": [
        "# Answer here\n",
        "row_mask = (a[:, 0] == 0) | (a[:, 0] == 10) | (a[:, 0] == 15)\n",
        "a[row_mask, ::3]"
      ]
    },
    {
      "cell_type": "markdown",
      "metadata": {
        "id": "BLH29N-KLDEJ"
      },
      "source": [
        "# Calculating the sum, min and max of all diagonal values"
      ]
    },
    {
      "cell_type": "code",
      "execution_count": 162,
      "metadata": {
        "id": "ARzj6VP9LCPz"
      },
      "outputs": [
        {
          "name": "stdout",
          "output_type": "stream",
          "text": [
            "\n",
            "Diagonal values: [ 0  6 12 18 24]\n",
            "\n",
            "Sum of diagonal values: 60\n",
            "Minimum of diagonal values: 0\n",
            "Maximum of diagonal values: 24\n"
          ]
        }
      ],
      "source": [
        "# Answer here\n",
        "diagonal_values = np.diagonal(a)\n",
        "print(\"\\nDiagonal values:\", diagonal_values)\n",
        "\n",
        "# Calculate sum, min, and max of diagonal values\n",
        "diagonal_sum = np.sum(diagonal_values)\n",
        "diagonal_min = np.min(diagonal_values)\n",
        "diagonal_max = np.max(diagonal_values)\n",
        "\n",
        "print(\"\\nSum of diagonal values:\", diagonal_sum)\n",
        "print(\"Minimum of diagonal values:\", diagonal_min)\n",
        "print(\"Maximum of diagonal values:\", diagonal_max)"
      ]
    },
    {
      "cell_type": "markdown",
      "metadata": {
        "id": "IIL3aHfpMQpr"
      },
      "source": [
        "# Calculate the sum of differences between the 2nd row and 2nd last column"
      ]
    },
    {
      "cell_type": "code",
      "execution_count": 163,
      "metadata": {
        "id": "mNyxI8d0Mcvz"
      },
      "outputs": [
        {
          "name": "stdout",
          "output_type": "stream",
          "text": [
            "\n",
            "Second row: [5 6 7 8 9]\n",
            "Second last column: [ 3  8 13 18 23]\n",
            "Element-wise differences: [  2  -2  -6 -10 -14]\n",
            "Sum of differences: -30\n"
          ]
        }
      ],
      "source": [
        "# Answer here\n",
        "# Extract the 2nd row (index 1) and the 2nd last column (index -2)\n",
        "second_row = a[1, :]\n",
        "second_last_column = a[:, -2]\n",
        "\n",
        "# Calculate the element-wise differences\n",
        "differences = second_row - second_last_column\n",
        "\n",
        "# Calculate the sum of the differences\n",
        "sum_of_differences = np.sum(differences)\n",
        "\n",
        "print(\"\\nSecond row:\", second_row)\n",
        "print(\"Second last column:\", second_last_column)\n",
        "print(\"Element-wise differences:\", differences)\n",
        "print(\"Sum of differences:\", sum_of_differences)"
      ]
    },
    {
      "cell_type": "markdown",
      "metadata": {
        "id": "jEo7E6YNNIU5"
      },
      "source": [
        "# Create a new array that is the sum of even rows and odd rows"
      ]
    },
    {
      "cell_type": "code",
      "execution_count": 165,
      "metadata": {
        "id": "UEwbxwAPNikT"
      },
      "outputs": [
        {
          "name": "stdout",
          "output_type": "stream",
          "text": [
            "Array a:\n",
            " [[225 196 169 144 121 100]\n",
            " [ 81  64  49  36  25  16]\n",
            " [  9   4   1   0   1   4]\n",
            " [  9  16  25  36  49  64]\n",
            " [ 81 100 121 144 169 196]]\n",
            "\n",
            "Sum of even rows: [315 300 291 288 291 300]\n",
            "Sum of odd rows: [90 80 74 72 74 80]\n",
            "Resulting array:\n",
            " [[315 300 291 288 291 300]\n",
            " [ 90  80  74  72  74  80]]\n"
          ]
        }
      ],
      "source": [
        "# Define the array\n",
        "a = np.array([[225, 196, 169, 144, 121, 100],\n",
        "              [ 81,  64,  49,  36,  25,  16],\n",
        "              [  9,   4,   1,   0,   1,   4],\n",
        "              [  9,  16,  25,  36,  49,  64],\n",
        "              [ 81, 100, 121, 144, 169, 196]])\n",
        "\n",
        "print(\"Array a:\\n\", a)\n",
        "\n",
        "# Extract even-indexed rows (0, 2, 4)\n",
        "even_rows = a[::2]\n",
        "\n",
        "# Extract odd-indexed rows (1, 3)\n",
        "odd_rows = a[1::2]\n",
        "\n",
        "# Calculate the sum of even rows and odd rows\n",
        "sum_even_rows = np.sum(even_rows, axis=0)\n",
        "sum_odd_rows = np.sum(odd_rows, axis=0)\n",
        "\n",
        "# Combine the sums into a new array\n",
        "result_array = np.array([sum_even_rows, sum_odd_rows])\n",
        "\n",
        "print(\"\\nSum of even rows:\", sum_even_rows)\n",
        "print(\"Sum of odd rows:\", sum_odd_rows)\n",
        "print(\"Resulting array:\\n\", result_array)"
      ]
    },
    {
      "cell_type": "markdown",
      "metadata": {
        "id": "TaKXFf_5d67q"
      },
      "source": [
        "## You are done. Good job!"
      ]
    }
  ],
  "metadata": {
    "colab": {
      "provenance": []
    },
    "kernelspec": {
      "display_name": "python_eda",
      "language": "python",
      "name": "python3"
    },
    "language_info": {
      "codemirror_mode": {
        "name": "ipython",
        "version": 3
      },
      "file_extension": ".py",
      "mimetype": "text/x-python",
      "name": "python",
      "nbconvert_exporter": "python",
      "pygments_lexer": "ipython3",
      "version": "3.12.3"
    }
  },
  "nbformat": 4,
  "nbformat_minor": 0
}
